{
 "cells": [
  {
   "cell_type": "markdown",
   "metadata": {},
   "source": [
    "# [AI 이노베이션 스퀘어] 12기 고급 시각반\n",
    "- github: https://github.com/hysKim1/AI_Vision\n",
    "    - [파이썬 공식문서]https://docs.python.org/ko/3/\n",
    "    - [Numpy 공식문서]https://numpy.org/devdocs/\n",
    "    - [ML]https://developers.google.com/machine-learning/crash-course/ml-intro?hl=ko\n",
    "    - [DL]https://www.tensorflow.org/?hl=ko\n",
    "\n",
    "\n",
    " * [Numpy,Scipy,Scikit-image를 통한 기본 영상 처리1](#Numpy,Scipy,Scikit-image를-통한-기본-영상-처리1) \n",
    "      * [ Matlab vs Numpy](#Matlab-vs-Numpy)\n",
    "           * [ Matlab](#Matlab)\n",
    "           * [ Numpy](#Numpy)\n",
    "             * [영상처리에서의 Numpy](#영상처리에서의-Numpy )\n",
    "             * [Numpy 데이터 구조](#Numpy-데이터-구조)\n",
    "             * [데이터 저장방식](#데이터-저장방식)\n",
    "          * [Image](#Image)\n",
    "              * [Image 형태:bitmap ,vector](#Image-형태)\n",
    "              * [Image 차원](#Image-차원)\n",
    "              * [데이터셋 구성 ](#데이터셋-구성 )\n",
    "                  * [NHWC format](#NHWC-format )\n",
    "              * [channel](#channel )\n",
    "                  * [색상 Image](#색상-Image)\n",
    "                  * [흑백 Image](#흑백-Image)      \n",
    "---\n",
    "\n",
    "## Numpy,Scipy,Scikit-image를 통한 기본 영상 처리1\n",
    "\n",
    "numerical computing\n",
    "- 해석학:  미적분\n",
    "- 선형대수: 벡터,행렬 -> numpy\n",
    "\n",
    "## Matlab vs  Numpy\n",
    "### Matlab\n",
    "- 컴퓨터로 연산은 비용이 많이 들었었어서 공학자나 전문가를 위한 방식으로 효율적으로 빠른 연산을 하는게 목적 \n",
    "- 10년 전만해도 이미지 처리, 그래픽스 또한 숫자로 연산함 MATLAB이 대세\n",
    "    - open source version: Octave\n",
    "    - domain specific\n",
    "    - Matlab은 상용이기 때문에 소스 코드를 알 수 없어서 자체 기능을 바꿀수 없고 주어진 것으로 사용\n",
    "\n",
    "### Python     \n",
    "> \"I was a fairly proficient MATLAB user, but it was not memory efficient enough.\"\n",
    "                                                - Travis Oliphant -\n",
    "\n",
    "- copy(deep copy)를 만들지 않는 Slicing\n",
    "   - seqeunce 는 indexing, slicing 제공\n",
    "- general purpose 이기 때문에 가능\n",
    "- open source\n",
    "   - MatPlotlib:  Matlab 과 동일한 방식으로 plotting 가능\n",
    "\n",
    "Python 의 단점\n",
    "1. 속도가 느리다 \n",
    "2. mobile 지원 부족\n",
    "\n",
    "### Numpy\n",
    "- Matlab 의 약점을 극복하기 위해 만든것\n",
    "- 연산(computing)은 속도가 중요하여 속도를 높이기 위해서 다양한 시도가 있었음\n",
    "- 기본적인거 다 갖추어져 있어 가져다 쓰기만 하면 됨\n",
    "\n",
    "Python의 단점 보완 방법\n",
    "1. 하드웨어 \n",
    "    - computing power: GPU, Multi Processor, Prallel Computing \n",
    "\n",
    "2. Compiler(language) 바꿈 \n",
    "    - Cython(C + Python): C만큼 속도가 빠름\n",
    "        - 일반적인 pythong 코드와 완벽히 호환이 안 되어 코드 수정이 필요\n",
    "        - C 에대한 지식도 필요\n",
    "    - Pythran(Python+Fortran)\n",
    "    - PyPy(Pyton+Python): 파이썬 자체로 만든 병목현상 부분을 제거하여  속도가 빠른 파이썬 만듦    \n",
    " \n",
    "3.  glue language(library) 특성 \n",
    "    - 현재 사용하는것은 C로 만든 python 이기 때문에 C와 잘 붙기 때문에 병목현상이 있는 부분만  C로 만들어 해결하면 5~100배 빠름\n",
    "    - 내부적으로 C 로 만드는 API https://docs.python.org/ko/3/c-api/index.html\n",
    "\n",
    "4. algorithm / 데이터 구조\n",
    "    -  같은 문제라도 효율성 차이가 큼\n",
    "    -  `ndarray` 라는 효율적인 자료 구조\n",
    "\n",
    "\n",
    "- numpy에 property가 많은 이유\n",
    "    - descriptor 방식을 이용해서 객체의 get,set,del 과 같은 기본 연산을 관리\n",
    "    - 가져다가 쓰면 다양한 데이터 타입을 facade 방식으로 관리하기 쉽기 떄문에 많음\n",
    "        - facade : 클래스 라이브러리 같은 어떤 소프트웨어의 다른 커다란 코드 부분에 대한 간략화된 인터페이스를 제공하는 객체\n",
    "\n",
    "### Numpy 단점\n",
    "\n",
    "1. GPU 지원 하지않음(딥러닝에서는 중요한 사항)\n",
    "    - multi-processor 만 지원하는 이유는 특정 회사에 종속되기 때문\n",
    "    - Python, TesnsorFlow는 NVIDIA의 cuda를 지원하는 GPU 만 지원\n",
    "    - 복잡도가 증가함..\n",
    "\n",
    "2. Modern하지 못함(우아)\n",
    "    - 체계적이지 못 함\n",
    "    - mutable data type 사용\n",
    "        - mutable 이 편하지만 데이터의 값이 바뀔수 있기 때문에 코드의 흐름을 망칠 수 있음\n",
    "        - functional paradigm에서 immutable 사용하는 이유\n",
    "    - 중복되는 기능이 많음\n",
    "    - pytorch 공식문서에서는 modern 하지 못하다함.\n",
    "        - 참고 : https://pytorch.org/tutorials/beginner/pytorch_with_examples.html\n",
    "\n",
    "\n",
    "### Numpy 장점\n",
    "\n",
    "1. 쉽고 편리하고 빠르다 (GPU 사용 안 한다고 고려한 경우)\n",
    "    - 전문가들을 위한 tool이기 때문에 미묘한 차이를 구분해 놓음 (장점이자 단점)\n",
    "    - broadcasting, ufunc(universal function)\n",
    "2. vector, matrix 기반 element-wise 기반으로 vectorization \n",
    "    -  Numpy 외에 대안이 없음 \n",
    "\n",
    "### 영상처리에서의 Numpy\n",
    "- 단점 때문에 google 에서는 tf에서는 tensor 라는 구조를 만들고 FB(Facebook)에서는 pytorch에 tensor라는 구조 만듦.\n",
    "- Numpy는 딥러닝 외에 다른 분야에서도 **방대한** 기능 제공하기 때문에 핵심적인 기능 외에 부가적인 이미지 처리를 numpy로 사용 \n",
    "    - scipy를 이용해서 영상처리 \n",
    "    - 기본적으로 이미지는 matrix, tensor로 표현할 수 있음\n",
    "    - Numpy기반으로 전처리 \n",
    " \n",
    "#### Numpy 데이터 구조\n",
    "1. array\n",
    "     - array: 데이터 구조\n",
    "     - vector: 1차원, matrix: 2차원, tensor : 3차원 이상\n",
    "2. matrix\n",
    "3. masked array\n",
    "    - 있다고만 언급\n",
    "4. structured array"
   ]
  },
  {
   "cell_type": "code",
   "execution_count": 1,
   "metadata": {},
   "outputs": [],
   "source": [
    "import numpy as np"
   ]
  },
  {
   "cell_type": "code",
   "execution_count": 2,
   "metadata": {},
   "outputs": [
    {
     "data": {
      "text/plain": [
       "array([1, 2, 3])"
      ]
     },
     "execution_count": 2,
     "metadata": {},
     "output_type": "execute_result"
    }
   ],
   "source": [
    "a= np.array([1,2,3])\n",
    "a # ndarray 타입"
   ]
  },
  {
   "cell_type": "code",
   "execution_count": 3,
   "metadata": {},
   "outputs": [
    {
     "data": {
      "text/plain": [
       "numpy.ndarray"
      ]
     },
     "execution_count": 3,
     "metadata": {},
     "output_type": "execute_result"
    }
   ],
   "source": [
    "type(a)"
   ]
  },
  {
   "cell_type": "code",
   "execution_count": 4,
   "metadata": {},
   "outputs": [
    {
     "data": {
      "text/plain": [
       "14"
      ]
     },
     "execution_count": 4,
     "metadata": {},
     "output_type": "execute_result"
    }
   ],
   "source": [
    "a@a #행렬 곱(내적)"
   ]
  },
  {
   "cell_type": "code",
   "execution_count": 5,
   "metadata": {},
   "outputs": [
    {
     "data": {
      "text/plain": [
       "matrix([[1, 2],\n",
       "        [3, 3]])"
      ]
     },
     "execution_count": 5,
     "metadata": {},
     "output_type": "execute_result"
    }
   ],
   "source": [
    "b=np.mat([[1,2],[3,3]])\n",
    "b #matrix 타입"
   ]
  },
  {
   "cell_type": "code",
   "execution_count": 6,
   "metadata": {},
   "outputs": [
    {
     "data": {
      "text/plain": [
       "numpy.matrix"
      ]
     },
     "execution_count": 6,
     "metadata": {},
     "output_type": "execute_result"
    }
   ],
   "source": [
    "type(b)"
   ]
  },
  {
   "cell_type": "markdown",
   "metadata": {},
   "source": [
    "### ndarray\n",
    " - n차원 array(n-dimensional array)  \n",
    "\n"
   ]
  },
  {
   "cell_type": "code",
   "execution_count": 7,
   "metadata": {},
   "outputs": [
    {
     "data": {
      "text/plain": [
       "numpy.ndarray"
      ]
     },
     "execution_count": 7,
     "metadata": {},
     "output_type": "execute_result"
    }
   ],
   "source": [
    "np.ndarray #Init signature -> class"
   ]
  },
  {
   "cell_type": "code",
   "execution_count": 8,
   "metadata": {},
   "outputs": [
    {
     "data": {
      "text/plain": [
       "type"
      ]
     },
     "execution_count": 8,
     "metadata": {},
     "output_type": "execute_result"
    }
   ],
   "source": [
    "type(np.ndarray)"
   ]
  },
  {
   "cell_type": "code",
   "execution_count": 9,
   "metadata": {},
   "outputs": [
    {
     "data": {
      "text/plain": [
       "type"
      ]
     },
     "execution_count": 9,
     "metadata": {},
     "output_type": "execute_result"
    }
   ],
   "source": [
    "np.ndarray.__class__"
   ]
  },
  {
   "cell_type": "markdown",
   "metadata": {},
   "source": [
    "`__array__ ,__array_interface__,__array_wrap__`: Numpy와 호환 가능 (Keras 에서 추후 다룸)"
   ]
  },
  {
   "cell_type": "code",
   "execution_count": 19,
   "metadata": {},
   "outputs": [
    {
     "data": {
      "text/plain": [
       "['T',\n",
       " '__abs__',\n",
       " '__add__',\n",
       " '__and__',\n",
       " '__array__',\n",
       " '__array_finalize__',\n",
       " '__array_function__',\n",
       " '__array_interface__',\n",
       " '__array_prepare__',\n",
       " '__array_priority__',\n",
       " '__array_struct__',\n",
       " '__array_ufunc__',\n",
       " '__array_wrap__',\n",
       " '__bool__',\n",
       " '__class__',\n",
       " '__complex__',\n",
       " '__contains__',\n",
       " '__copy__',\n",
       " '__deepcopy__',\n",
       " '__delattr__',\n",
       " '__delitem__',\n",
       " '__dir__',\n",
       " '__divmod__',\n",
       " '__doc__',\n",
       " '__eq__',\n",
       " '__float__',\n",
       " '__floordiv__',\n",
       " '__format__',\n",
       " '__ge__',\n",
       " '__getattribute__',\n",
       " '__getitem__',\n",
       " '__gt__',\n",
       " '__hash__',\n",
       " '__iadd__',\n",
       " '__iand__',\n",
       " '__ifloordiv__',\n",
       " '__ilshift__',\n",
       " '__imatmul__',\n",
       " '__imod__',\n",
       " '__imul__',\n",
       " '__index__',\n",
       " '__init__',\n",
       " '__init_subclass__',\n",
       " '__int__',\n",
       " '__invert__',\n",
       " '__ior__',\n",
       " '__ipow__',\n",
       " '__irshift__',\n",
       " '__isub__',\n",
       " '__iter__',\n",
       " '__itruediv__',\n",
       " '__ixor__',\n",
       " '__le__',\n",
       " '__len__',\n",
       " '__lshift__',\n",
       " '__lt__',\n",
       " '__matmul__',\n",
       " '__mod__',\n",
       " '__mul__',\n",
       " '__ne__',\n",
       " '__neg__',\n",
       " '__new__',\n",
       " '__or__',\n",
       " '__pos__',\n",
       " '__pow__',\n",
       " '__radd__',\n",
       " '__rand__',\n",
       " '__rdivmod__',\n",
       " '__reduce__',\n",
       " '__reduce_ex__',\n",
       " '__repr__',\n",
       " '__rfloordiv__',\n",
       " '__rlshift__',\n",
       " '__rmatmul__',\n",
       " '__rmod__',\n",
       " '__rmul__',\n",
       " '__ror__',\n",
       " '__rpow__',\n",
       " '__rrshift__',\n",
       " '__rshift__',\n",
       " '__rsub__',\n",
       " '__rtruediv__',\n",
       " '__rxor__',\n",
       " '__setattr__',\n",
       " '__setitem__',\n",
       " '__setstate__',\n",
       " '__sizeof__',\n",
       " '__str__',\n",
       " '__sub__',\n",
       " '__subclasshook__',\n",
       " '__truediv__',\n",
       " '__xor__',\n",
       " 'all',\n",
       " 'any',\n",
       " 'argmax',\n",
       " 'argmin',\n",
       " 'argpartition',\n",
       " 'argsort',\n",
       " 'astype',\n",
       " 'base',\n",
       " 'byteswap',\n",
       " 'choose',\n",
       " 'clip',\n",
       " 'compress',\n",
       " 'conj',\n",
       " 'conjugate',\n",
       " 'copy',\n",
       " 'ctypes',\n",
       " 'cumprod',\n",
       " 'cumsum',\n",
       " 'data',\n",
       " 'diagonal',\n",
       " 'dot',\n",
       " 'dtype',\n",
       " 'dump',\n",
       " 'dumps',\n",
       " 'fill',\n",
       " 'flags',\n",
       " 'flat',\n",
       " 'flatten',\n",
       " 'getfield',\n",
       " 'imag',\n",
       " 'item',\n",
       " 'itemset',\n",
       " 'itemsize',\n",
       " 'max',\n",
       " 'mean',\n",
       " 'min',\n",
       " 'nbytes',\n",
       " 'ndim',\n",
       " 'newbyteorder',\n",
       " 'nonzero',\n",
       " 'partition',\n",
       " 'prod',\n",
       " 'ptp',\n",
       " 'put',\n",
       " 'ravel',\n",
       " 'real',\n",
       " 'repeat',\n",
       " 'reshape',\n",
       " 'resize',\n",
       " 'round',\n",
       " 'searchsorted',\n",
       " 'setfield',\n",
       " 'setflags',\n",
       " 'shape',\n",
       " 'size',\n",
       " 'sort',\n",
       " 'squeeze',\n",
       " 'std',\n",
       " 'strides',\n",
       " 'sum',\n",
       " 'swapaxes',\n",
       " 'take',\n",
       " 'tobytes',\n",
       " 'tofile',\n",
       " 'tolist',\n",
       " 'tostring',\n",
       " 'trace',\n",
       " 'transpose',\n",
       " 'var',\n",
       " 'view']"
      ]
     },
     "execution_count": 19,
     "metadata": {},
     "output_type": "execute_result"
    }
   ],
   "source": [
    "dir(np.ndarray) #__array__ ,__array_interface__,__array_wrap__ Numpy와 호환됨"
   ]
  },
  {
   "cell_type": "markdown",
   "metadata": {},
   "source": [
    "#### method_descriptor\n",
    "- 디스크립터로 var과 연동시키는 method를 기본적으로 만들어 놓아서 다른 프레임워크보다 property 가 많은 이유\n",
    "\n",
    "`np.ndarray.var`\n",
    "- 주어진 axis에 따라서 numpy의  ndarray의 원소들의 분산을 구함"
   ]
  },
  {
   "cell_type": "code",
   "execution_count": 23,
   "metadata": {},
   "outputs": [
    {
     "data": {
      "text/plain": [
       "<method 'var' of 'numpy.ndarray' objects>"
      ]
     },
     "execution_count": 23,
     "metadata": {},
     "output_type": "execute_result"
    }
   ],
   "source": [
    "np.ndarray.var # method "
   ]
  },
  {
   "cell_type": "code",
   "execution_count": 24,
   "metadata": {},
   "outputs": [
    {
     "data": {
      "text/plain": [
       "method_descriptor"
      ]
     },
     "execution_count": 24,
     "metadata": {},
     "output_type": "execute_result"
    }
   ],
   "source": [
    "type(np.ndarray.var) #method_descriptor -> 메소드 자체를 디스크립터로 만듦"
   ]
  },
  {
   "cell_type": "code",
   "execution_count": 11,
   "metadata": {},
   "outputs": [
    {
     "data": {
      "text/plain": [
       "(0.6666666666666666, matrix([[0.6875]]))"
      ]
     },
     "execution_count": 11,
     "metadata": {},
     "output_type": "execute_result"
    }
   ],
   "source": [
    "np.ndarray.var(a),np.ndarray.var(b) #분산"
   ]
  },
  {
   "cell_type": "code",
   "execution_count": 15,
   "metadata": {},
   "outputs": [
    {
     "data": {
      "text/plain": [
       "(0.6666666666666666, matrix([[0.6875]]))"
      ]
     },
     "execution_count": 15,
     "metadata": {},
     "output_type": "execute_result"
    }
   ],
   "source": [
    "np.ndarray.std(a)*np.ndarray.std(a), np.ndarray.std(b)*np.ndarray.std(b) #편차의 제곱은 분산"
   ]
  },
  {
   "cell_type": "markdown",
   "metadata": {},
   "source": [
    "공통적으로 알아야 할 attributes 만 출력\n",
    " - `_`로 시작하지 않음\n",
    " - type이 method_descriptor 가 아님"
   ]
  },
  {
   "cell_type": "code",
   "execution_count": 16,
   "metadata": {},
   "outputs": [
    {
     "name": "stdout",
     "output_type": "stream",
     "text": [
      "T\n",
      "base\n",
      "ctypes\n",
      "data\n",
      "dtype\n",
      "flags\n",
      "flat\n",
      "imag\n",
      "itemsize\n",
      "nbytes\n",
      "ndim\n",
      "real\n",
      "shape\n",
      "size\n",
      "strides\n"
     ]
    }
   ],
   "source": [
    "for i in dir(np.ndarray): \n",
    "    if not i.startswith('_'):   #_로 시작하지 않음\n",
    "        if type(np.ndarray.var)!=type(np.ndarray.__dict__[i]): #디스크립터 제외\n",
    "            print(i)"
   ]
  },
  {
   "cell_type": "code",
   "execution_count": 17,
   "metadata": {},
   "outputs": [
    {
     "data": {
      "text/plain": [
       "<tf.Tensor: shape=(3,), dtype=int32, numpy=array([1, 2, 3], dtype=int32)>"
      ]
     },
     "execution_count": 17,
     "metadata": {},
     "output_type": "execute_result"
    }
   ],
   "source": [
    "import tensorflow as tf\n",
    "c=tf.constant([1,2,3])\n",
    "c  # shape, dtype 가장 중요"
   ]
  },
  {
   "cell_type": "markdown",
   "metadata": {},
   "source": [
    "#### dtype : \n",
    "-  이미지 자체의 숫자 범위가 있기 때문에 영상 처리에서는 dtype 을 몇 개 안 씀\n",
    "    - i8, f4,f32\n",
    "    \n",
    "#### shape \n",
    "- 벡터, 메트릭스 연산의 기본 선행 조건\n",
    "> - scikit은 알아서 맞추어 주었지만 Keras에서는 shape을 꼭 맞추어 주어야함\n",
    "  - 첫 번째 레이어의 input_shape, 마지막 레이어 output(regression, classification(bi/multi...)"
   ]
  },
  {
   "cell_type": "code",
   "execution_count": 12,
   "metadata": {},
   "outputs": [
    {
     "data": {
      "text/plain": [
       "((3,), dtype('int64'))"
      ]
     },
     "execution_count": 12,
     "metadata": {},
     "output_type": "execute_result"
    }
   ],
   "source": [
    "a.shape, a.dtype"
   ]
  },
  {
   "cell_type": "code",
   "execution_count": 16,
   "metadata": {},
   "outputs": [
    {
     "data": {
      "text/plain": [
       "(matrix([[1, 2],\n",
       "         [3, 3]]),\n",
       " matrix([[1, 3],\n",
       "         [2, 3]]))"
      ]
     },
     "execution_count": 16,
     "metadata": {},
     "output_type": "execute_result"
    }
   ],
   "source": [
    "b,  b.T #행렬 전치되었음"
   ]
  },
  {
   "cell_type": "code",
   "execution_count": 23,
   "metadata": {},
   "outputs": [
    {
     "data": {
      "text/plain": [
       "(object,)"
      ]
     },
     "execution_count": 23,
     "metadata": {},
     "output_type": "execute_result"
    }
   ],
   "source": [
    "type(a).__bases__ # 부모 클래스 찾을때"
   ]
  },
  {
   "cell_type": "markdown",
   "metadata": {},
   "source": [
    "- ctypes\n",
    "    - 속도를 높이기 위해 hardware, glue language를 c에 `ctypes` module 이용하여 연동하기 때문에 c의 데이터 타입 확인\n",
    "- real 실수 (real number)\n",
    "- imag 허수(imaginary number)"
   ]
  },
  {
   "cell_type": "code",
   "execution_count": 20,
   "metadata": {},
   "outputs": [
    {
     "data": {
      "text/plain": [
       "<numpy.core._internal._ctypes at 0x7fd1442e7510>"
      ]
     },
     "execution_count": 20,
     "metadata": {},
     "output_type": "execute_result"
    }
   ],
   "source": [
    "b.ctypes"
   ]
  },
  {
   "cell_type": "markdown",
   "metadata": {},
   "source": [
    "shape, dtype 알면 나머지 유추가능"
   ]
  },
  {
   "cell_type": "code",
   "execution_count": 27,
   "metadata": {},
   "outputs": [
    {
     "data": {
      "text/plain": [
       "(2, 2)"
      ]
     },
     "execution_count": 27,
     "metadata": {},
     "output_type": "execute_result"
    }
   ],
   "source": [
    "b.shape "
   ]
  },
  {
   "cell_type": "code",
   "execution_count": 28,
   "metadata": {},
   "outputs": [
    {
     "data": {
      "text/plain": [
       "4"
      ]
     },
     "execution_count": 28,
     "metadata": {},
     "output_type": "execute_result"
    }
   ],
   "source": [
    "b.size #원소 갯수 = 행x 열= 2x2=4개원소"
   ]
  },
  {
   "cell_type": "code",
   "execution_count": 29,
   "metadata": {},
   "outputs": [
    {
     "data": {
      "text/plain": [
       "2"
      ]
     },
     "execution_count": 29,
     "metadata": {},
     "output_type": "execute_result"
    }
   ],
   "source": [
    "b.ndim #2차원"
   ]
  },
  {
   "cell_type": "code",
   "execution_count": 30,
   "metadata": {
    "scrolled": true
   },
   "outputs": [
    {
     "data": {
      "text/plain": [
       "dtype('int64')"
      ]
     },
     "execution_count": 30,
     "metadata": {},
     "output_type": "execute_result"
    }
   ],
   "source": [
    "b.dtype   #system 마다 다름; mac 64나옴"
   ]
  },
  {
   "cell_type": "code",
   "execution_count": 31,
   "metadata": {},
   "outputs": [
    {
     "data": {
      "text/plain": [
       "8"
      ]
     },
     "execution_count": 31,
     "metadata": {},
     "output_type": "execute_result"
    }
   ],
   "source": [
    "b.itemsize #64/8bits=8byte ( 1byte= 8bits)"
   ]
  },
  {
   "cell_type": "code",
   "execution_count": 32,
   "metadata": {},
   "outputs": [
    {
     "data": {
      "text/plain": [
       "32"
      ]
     },
     "execution_count": 32,
     "metadata": {},
     "output_type": "execute_result"
    }
   ],
   "source": [
    "b.nbytes  #itemsize 8이  총 4개있음  총 32"
   ]
  },
  {
   "cell_type": "markdown",
   "metadata": {},
   "source": [
    "python 숫자형 \n",
    "1. int 정수\n",
    "2. float 실수\n",
    "3. bool 불대수\n",
    "4. complex 복소수"
   ]
  },
  {
   "cell_type": "code",
   "execution_count": 44,
   "metadata": {},
   "outputs": [
    {
     "data": {
      "text/plain": [
       "(int, bool, float, complex)"
      ]
     },
     "execution_count": 44,
     "metadata": {},
     "output_type": "execute_result"
    }
   ],
   "source": [
    "type(1), type(True), type(1.0), type(1+0j)"
   ]
  },
  {
   "cell_type": "code",
   "execution_count": null,
   "metadata": {},
   "outputs": [],
   "source": [
    "c=np.array #shift+tab "
   ]
  },
  {
   "cell_type": "markdown",
   "metadata": {},
   "source": [
    "> 작곡가 Ravel의 대표곡 Bolero 감상: https://www.youtube.com/watch?v=mhhkGyJ092E \n",
    "    - 라벨의 대표곡 볼레로 -> ㅂ..뷰\n",
    "        - ravel - 뷰\n",
    "        - tf의 flatten - copy기법        "
   ]
  },
  {
   "cell_type": "code",
   "execution_count": 4,
   "metadata": {},
   "outputs": [
    {
     "data": {
      "text/plain": [
       "2"
      ]
     },
     "execution_count": 4,
     "metadata": {},
     "output_type": "execute_result"
    }
   ],
   "source": [
    "b=np.array([[1,2,3],[4,5,6]]) #2차원\n",
    "b.ndim #내부적으로는 다 1차원"
   ]
  },
  {
   "cell_type": "code",
   "execution_count": 5,
   "metadata": {},
   "outputs": [
    {
     "data": {
      "text/plain": [
       "<numpy.flatiter at 0x7fdc49afe200>"
      ]
     },
     "execution_count": 5,
     "metadata": {},
     "output_type": "execute_result"
    }
   ],
   "source": [
    "b.flat  #flatiter -> ..iter!"
   ]
  },
  {
   "cell_type": "code",
   "execution_count": 33,
   "metadata": {},
   "outputs": [
    {
     "data": {
      "text/plain": [
       "['__array__',\n",
       " '__class__',\n",
       " '__delattr__',\n",
       " '__delitem__',\n",
       " '__dir__',\n",
       " '__doc__',\n",
       " '__eq__',\n",
       " '__format__',\n",
       " '__ge__',\n",
       " '__getattribute__',\n",
       " '__getitem__',\n",
       " '__gt__',\n",
       " '__hash__',\n",
       " '__init__',\n",
       " '__init_subclass__',\n",
       " '__iter__',\n",
       " '__le__',\n",
       " '__len__',\n",
       " '__lt__',\n",
       " '__ne__',\n",
       " '__new__',\n",
       " '__next__',\n",
       " '__reduce__',\n",
       " '__reduce_ex__',\n",
       " '__repr__',\n",
       " '__setattr__',\n",
       " '__setitem__',\n",
       " '__sizeof__',\n",
       " '__str__',\n",
       " '__subclasshook__',\n",
       " 'base',\n",
       " 'coords',\n",
       " 'copy',\n",
       " 'index']"
      ]
     },
     "execution_count": 33,
     "metadata": {},
     "output_type": "execute_result"
    }
   ],
   "source": [
    "dir(b.flat) # __next__ "
   ]
  },
  {
   "cell_type": "markdown",
   "metadata": {},
   "source": [
    "- numpy 는 내부적으로 다 1차원이며 stride 이용하여 n 차원으로 표현 "
   ]
  },
  {
   "cell_type": "code",
   "execution_count": 34,
   "metadata": {},
   "outputs": [
    {
     "data": {
      "text/plain": [
       "array([[1, 2, 3],\n",
       "       [4, 5, 6]])"
      ]
     },
     "execution_count": 34,
     "metadata": {},
     "output_type": "execute_result"
    }
   ],
   "source": [
    "b"
   ]
  },
  {
   "cell_type": "code",
   "execution_count": 7,
   "metadata": {},
   "outputs": [
    {
     "data": {
      "text/plain": [
       "1"
      ]
     },
     "execution_count": 7,
     "metadata": {},
     "output_type": "execute_result"
    }
   ],
   "source": [
    "next(b.flat) "
   ]
  },
  {
   "cell_type": "code",
   "execution_count": 8,
   "metadata": {},
   "outputs": [
    {
     "data": {
      "text/plain": [
       "[1, 2, 3, 4, 5, 6]"
      ]
     },
     "execution_count": 8,
     "metadata": {},
     "output_type": "execute_result"
    }
   ],
   "source": [
    "list(b.flat) #원래의 1차원으로 만들어줌"
   ]
  },
  {
   "cell_type": "markdown",
   "metadata": {},
   "source": [
    "- dtype, shape 이 제일 중요!!!\n",
    "    - 첫,마지막 레이어 맞춰주면 행렬 곱셈의 특징 때문에 내부 자동으로 맞추어줌 "
   ]
  },
  {
   "cell_type": "raw",
   "metadata": {},
   "source": [
    "input                   output\n",
    "(nxm)@(mxl)....@(pxk) = (nxk) "
   ]
  },
  {
   "cell_type": "markdown",
   "metadata": {},
   "source": [
    "### data\n",
    "- 주어진 객체를 참조하는 메모리 번지"
   ]
  },
  {
   "cell_type": "code",
   "execution_count": 9,
   "metadata": {},
   "outputs": [
    {
     "data": {
      "text/plain": [
       "<memory at 0x7fdc4d12e4b0>"
      ]
     },
     "execution_count": 9,
     "metadata": {},
     "output_type": "execute_result"
    }
   ],
   "source": [
    "b.data  #첫번째 메모리 번지"
   ]
  },
  {
   "cell_type": "code",
   "execution_count": 10,
   "metadata": {},
   "outputs": [
    {
     "data": {
      "text/plain": [
       "['__class__',\n",
       " '__delattr__',\n",
       " '__delitem__',\n",
       " '__dir__',\n",
       " '__doc__',\n",
       " '__enter__',\n",
       " '__eq__',\n",
       " '__exit__',\n",
       " '__format__',\n",
       " '__ge__',\n",
       " '__getattribute__',\n",
       " '__getitem__',\n",
       " '__gt__',\n",
       " '__hash__',\n",
       " '__init__',\n",
       " '__init_subclass__',\n",
       " '__le__',\n",
       " '__len__',\n",
       " '__lt__',\n",
       " '__ne__',\n",
       " '__new__',\n",
       " '__reduce__',\n",
       " '__reduce_ex__',\n",
       " '__repr__',\n",
       " '__setattr__',\n",
       " '__setitem__',\n",
       " '__sizeof__',\n",
       " '__str__',\n",
       " '__subclasshook__',\n",
       " 'c_contiguous',\n",
       " 'cast',\n",
       " 'contiguous',\n",
       " 'f_contiguous',\n",
       " 'format',\n",
       " 'hex',\n",
       " 'itemsize',\n",
       " 'nbytes',\n",
       " 'ndim',\n",
       " 'obj',\n",
       " 'readonly',\n",
       " 'release',\n",
       " 'shape',\n",
       " 'strides',\n",
       " 'suboffsets',\n",
       " 'tobytes',\n",
       " 'tolist']"
      ]
     },
     "execution_count": 10,
     "metadata": {},
     "output_type": "execute_result"
    }
   ],
   "source": [
    "dir(b.data) #obj- 복잡하게 관리"
   ]
  },
  {
   "cell_type": "code",
   "execution_count": 38,
   "metadata": {},
   "outputs": [
    {
     "data": {
      "text/plain": [
       "array([[1, 2, 3],\n",
       "       [4, 5, 6]])"
      ]
     },
     "execution_count": 38,
     "metadata": {},
     "output_type": "execute_result"
    }
   ],
   "source": [
    "b.data.obj #데이터 안에 object 관리"
   ]
  },
  {
   "cell_type": "code",
   "execution_count": 40,
   "metadata": {},
   "outputs": [
    {
     "data": {
      "text/plain": [
       "array([[1, 2, 3],\n",
       "       [4, 5, 6]])"
      ]
     },
     "execution_count": 40,
     "metadata": {},
     "output_type": "execute_result"
    }
   ],
   "source": [
    "b"
   ]
  },
  {
   "cell_type": "markdown",
   "metadata": {},
   "source": [
    "객체를 repr, str 로 호출할 때와 비슷\n",
    "\n",
    "### __repr__ \n",
    "-  객체 호출시에 호출됨\n",
    "\n",
    "### __str__  \n",
    "- print 로 객체 호출할때 "
   ]
  },
  {
   "cell_type": "code",
   "execution_count": 59,
   "metadata": {},
   "outputs": [],
   "source": [
    "class X:\n",
    "    def __repr__(self):\n",
    "        return('객체 호출시')\n",
    "    def __str__(self):\n",
    "        return('print 로 객체 호출')"
   ]
  },
  {
   "cell_type": "code",
   "execution_count": 60,
   "metadata": {},
   "outputs": [],
   "source": [
    "x=X()"
   ]
  },
  {
   "cell_type": "code",
   "execution_count": 61,
   "metadata": {},
   "outputs": [
    {
     "data": {
      "text/plain": [
       "객체 호출시"
      ]
     },
     "execution_count": 61,
     "metadata": {},
     "output_type": "execute_result"
    }
   ],
   "source": [
    "x # __repr__"
   ]
  },
  {
   "cell_type": "code",
   "execution_count": 62,
   "metadata": {},
   "outputs": [
    {
     "name": "stdout",
     "output_type": "stream",
     "text": [
      "print 로 객체 호출\n"
     ]
    }
   ],
   "source": [
    "print(x)  "
   ]
  },
  {
   "cell_type": "code",
   "execution_count": 63,
   "metadata": {},
   "outputs": [
    {
     "data": {
      "text/plain": [
       "array([list([1, 2, 3]), list([4.5, 6])], dtype=object)"
      ]
     },
     "execution_count": 63,
     "metadata": {},
     "output_type": "execute_result"
    }
   ],
   "source": [
    "b.data.obj  #__repr__"
   ]
  },
  {
   "cell_type": "code",
   "execution_count": 66,
   "metadata": {},
   "outputs": [
    {
     "name": "stdout",
     "output_type": "stream",
     "text": [
      "[list([1, 2, 3]) list([4.5, 6])]\n"
     ]
    }
   ],
   "source": [
    "print(b)   #__str__"
   ]
  },
  {
   "attachments": {
    "1.png": {
     "image/png": "[encoded data removed]"
    },
    "2.png": {
     "image/png": "[encoded data removed]"
    }
   },
   "cell_type": "markdown",
   "metadata": {},
   "source": [
    "## 데이터  저장방식\n",
    "\n",
    "### strides\n",
    "![1.png](attachment:1.png)\n",
    "![2.png](attachment:2.png)\n",
    "- contiguous block of memory : 1차원으로 **C contiguous array(행중심)** 형태로 저장되어있음\n",
    "- 메모리에서 다음 값으로 넘어가기위해 필요한 byte 갯수\n",
    "- 각 행 담긴 원소 갯수를 곱하면 됨.(예. 1번째 열: 4개 x 8bytes=32) ㅣ \n",
    "- 참고: https://stackoverflow.com/questions/32034237/how-does-numpys-transpose-method-permute-the-axes-of-an-array?rq=1"
   ]
  },
  {
   "cell_type": "code",
   "execution_count": 36,
   "metadata": {
    "scrolled": true
   },
   "outputs": [
    {
     "data": {
      "text/plain": [
       "matrix([[1, 2],\n",
       "        [3, 3]])"
      ]
     },
     "execution_count": 36,
     "metadata": {},
     "output_type": "execute_result"
    }
   ],
   "source": [
    "b"
   ]
  },
  {
   "cell_type": "raw",
   "metadata": {},
   "source": [
    "[1,2,3,3]\n",
    " 8 8 8 8\n",
    "   16  16\n",
    "열에서 열: 64/8=8\n",
    "행에서 행: 8 x 2개 행=16\n",
    "stride(16,8)"
   ]
  },
  {
   "cell_type": "code",
   "execution_count": 35,
   "metadata": {},
   "outputs": [
    {
     "data": {
      "text/plain": [
       "(16, 8)"
      ]
     },
     "execution_count": 35,
     "metadata": {},
     "output_type": "execute_result"
    }
   ],
   "source": [
    "b.strides #일렬로 저장되어있는 것을 스트라이드로 모양을 변신시킴"
   ]
  },
  {
   "cell_type": "markdown",
   "metadata": {},
   "source": [
    "### flags\n",
    "- 해당 array의 메모리 레이아웃에대한 정보  \n",
    "    - C_CONTIGUOUS: 내부적으로 데이터 저장할때 C 방식( 행중심)\n",
    "    - F_CONTIGUOUS:  내부적으로 데이터 저장할때 F 방식(열중심)"
   ]
  },
  {
   "cell_type": "code",
   "execution_count": 37,
   "metadata": {
    "scrolled": true
   },
   "outputs": [
    {
     "data": {
      "text/plain": [
       "  C_CONTIGUOUS : True\n",
       "  F_CONTIGUOUS : False\n",
       "  OWNDATA : False\n",
       "  WRITEABLE : True\n",
       "  ALIGNED : True\n",
       "  WRITEBACKIFCOPY : False\n",
       "  UPDATEIFCOPY : False"
      ]
     },
     "execution_count": 37,
     "metadata": {},
     "output_type": "execute_result"
    }
   ],
   "source": [
    "b.flags # C_CONTIGUOUS방식"
   ]
  },
  {
   "cell_type": "markdown",
   "metadata": {},
   "source": [
    " 넘파이 속도가 빠른이유 중 하나인 효율적인 자료구조 \n",
    "\n",
    "- `order : {'K', 'A', 'C', 'F'}, optional\n",
    "- C 방식, Fortran F방식, 변환을 시킬것인지 아닌지에 따라 데이터 저장방식을 사용 가능\n",
    "    - 해당 수업에서는 C 방식만 사용\n",
    "-  효율적 자료구조가 잘 되어있어 pytorch tesnfor, tf tensor 도 동일한 구조"
   ]
  },
  {
   "cell_type": "raw",
   "metadata": {},
   "source": [
    "    ===== ========= ===================================================\n",
    "    order  no copy                     copy=True\n",
    "    ===== ========= ===================================================\n",
    "    'K'   unchanged F & C order preserved, otherwise most similar order\n",
    "    'A'   unchanged F order if input is F and not C, otherwise C order\n",
    "    'C'   C order   C order\n",
    "    'F'   F order   F order\n",
    "    ===== ========= ===================================================   "
   ]
  },
  {
   "attachments": {
    "%E1%84%89%E1%85%B3%E1%84%8F%E1%85%B3%E1%84%85%E1%85%B5%E1%86%AB%E1%84%89%E1%85%A3%E1%86%BA%202020-09-09%20%E1%84%8B%E1%85%A9%E1%84%92%E1%85%AE%202.47.02.png": {
     "image/png": "[encoded data removed]"
    }
   },
   "cell_type": "markdown",
   "metadata": {},
   "source": [
    "하드웨어 성능\n",
    "-  CPU는 자체에서 vectorization 기능 지원\n",
    "  \n",
    "## vectorization\n",
    "- **loop 없이 동시에 여러개를 연산을 해주는 기법** \n",
    "    - for 는 전체에서 하나씩 뽑아서 처리 하기때문에 속도가 느림\n",
    "![%E1%84%89%E1%85%B3%E1%84%8F%E1%85%B3%E1%84%85%E1%85%B5%E1%86%AB%E1%84%89%E1%85%A3%E1%86%BA%202020-09-09%20%E1%84%8B%E1%85%A9%E1%84%92%E1%85%AE%202.47.02.png](attachment:%E1%84%89%E1%85%B3%E1%84%8F%E1%85%B3%E1%84%85%E1%85%B5%E1%86%AB%E1%84%89%E1%85%A3%E1%86%BA%202020-09-09%20%E1%84%8B%E1%85%A9%E1%84%92%E1%85%AE%202.47.02.png)\n",
    "- 쿼드코어(Quad-core):CPU에 4개의 core가 독립적으로 동시에 실행\n",
    "    - 4개가 독립적으로 한 cpu 지원하기 때문에 벡터를 동시에 지원하는 만큼 한번에 계산하여 속도적으로 CPU 효율적 관리"
   ]
  },
  {
   "cell_type": "code",
   "execution_count": 73,
   "metadata": {},
   "outputs": [
    {
     "data": {
      "text/plain": [
       "[1, 2, 3, 4, 5, 6]"
      ]
     },
     "execution_count": 73,
     "metadata": {},
     "output_type": "execute_result"
    }
   ],
   "source": [
    "[1,2,3]+[4,5,6] #단순히 합침"
   ]
  },
  {
   "cell_type": "code",
   "execution_count": 75,
   "metadata": {},
   "outputs": [
    {
     "data": {
      "text/plain": [
       "array([5, 7, 9])"
      ]
     },
     "execution_count": 75,
     "metadata": {},
     "output_type": "execute_result"
    }
   ],
   "source": [
    "#Numpy : element-wise (각 동일한 위치의 원소끼리)방식으로 계산-> vectorization\n",
    "x=np.array([1,2,3])\n",
    "y=np.array([4,5,6])\n",
    "x+y  "
   ]
  },
  {
   "cell_type": "code",
   "execution_count": 74,
   "metadata": {},
   "outputs": [
    {
     "data": {
      "text/plain": [
       "[5, 7, 9]"
      ]
     },
     "execution_count": 74,
     "metadata": {},
     "output_type": "execute_result"
    }
   ],
   "source": [
    "#Python : for loop 이용하여 하나하나 더함\n",
    "t=[1,2,3]\n",
    "s=[4,5,6]\n",
    "tmp=[]\n",
    "for i,j in zip(t,s):\n",
    "    tmp.append(i+j)\n",
    "tmp"
   ]
  },
  {
   "cell_type": "markdown",
   "metadata": {},
   "source": [
    "속도 차이가 엄청 남을 알 수 있음"
   ]
  },
  {
   "cell_type": "code",
   "execution_count": 76,
   "metadata": {},
   "outputs": [
    {
     "name": "stdout",
     "output_type": "stream",
     "text": [
      "1.45 ms ± 25.3 µs per loop (mean ± std. dev. of 7 runs, 1000 loops each)\n"
     ]
    }
   ],
   "source": [
    "#python: for loop 속도가 느림\n",
    "%%timeit\n",
    "t=range(10000)\n",
    "s=range(10000)\n",
    "tmp=[]\n",
    "for i,j in zip(t,s):\n",
    "    tmp.append(i+j)"
   ]
  },
  {
   "cell_type": "code",
   "execution_count": 78,
   "metadata": {},
   "outputs": [
    {
     "name": "stdout",
     "output_type": "stream",
     "text": [
      "19.3 µs ± 897 ns per loop (mean ± std. dev. of 7 runs, 10000 loops each)\n"
     ]
    }
   ],
   "source": [
    "#Numpy: vectorization으로  element-wise 방식으로 계산한것 훨씬 빠름\n",
    "%%timeit\n",
    "x=np.arange(10000)\n",
    "y=np.arange(10000)\n",
    "x+y"
   ]
  },
  {
   "cell_type": "markdown",
   "metadata": {},
   "source": [
    "### GPU\n",
    "- 많을수록 vectorization 동시에 해줄수 있는게 많아 빨라지나 그만큼 비쌈 \n",
    "- GPGPU(General Purpose GPU) - 게임용도가 아닌 연산, 연구 용\n",
    "    - AMD: OpenCL 표준을 GPU 기능 통해서 지원하나 성능이 좋지 않고 버전업 문제 있음\n",
    "         - 사용자들이 변형해서 비공식으로 amd gpu 지원해주긴 하지만 완벽한 성능은 안나옴\n",
    "#### cuda processor \n",
    "- NVIDIA 자체 cuda 이용: 기본적인 딥러닝에서는 우선적으로 지원\n",
    "- TensorFlow 공식 홈페이지 설치 : `GPU 지원은 CUDA 지원 카드가 있는 Ubuntu 및 Windows에 제공됩니다.`"
   ]
  },
  {
   "cell_type": "code",
   "execution_count": null,
   "metadata": {},
   "outputs": [],
   "source": [
    "#사용 가능한 자원 목록\n",
    "tf.config.experimental.list_logical_devices()"
   ]
  },
  {
   "cell_type": "code",
   "execution_count": null,
   "metadata": {},
   "outputs": [],
   "source": [
    "tf.config.experimental.list_physical_devices()"
   ]
  },
  {
   "attachments": {
    "%E1%84%89%E1%85%B3%E1%84%8F%E1%85%B3%E1%84%85%E1%85%B5%E1%86%AB%E1%84%89%E1%85%A3%E1%86%BA%202020-09-09%20%E1%84%8B%E1%85%A9%E1%84%92%E1%85%AE%204.02.29.png": {
     "image/png": "[encoded data removed]"
    }
   },
   "cell_type": "markdown",
   "metadata": {},
   "source": [
    "- pytorch 는 하나하나 지정 가능하여 우아함 (예. `torch.cuda` )\n",
    "- tf 2.0 부터는 keras 가 편하게 사용은 가능하지만 모든것을 customizing 은 힘듦\n",
    "\n",
    "\n",
    "\n",
    "#### Data Structure\n",
    "- 1 열 배열\n",
    "- sequence 타입으로 만듦\n",
    "    - indexing, slicing  지원\n",
    "- **homogeneous**: 한가지 데이터 타입 \n",
    "    - header에 dtype이 일정하여 체크할 필요가 없어 속도가 빠름\n",
    "- descriptor 기반으로 만들어 property가 많을 수 밖에 없음\n",
    "\n",
    "\n",
    "block of memory + indexing scheme + data type descriptor\n",
    "![%E1%84%89%E1%85%B3%E1%84%8F%E1%85%B3%E1%84%85%E1%85%B5%E1%86%AB%E1%84%89%E1%85%A3%E1%86%BA%202020-09-09%20%E1%84%8B%E1%85%A9%E1%84%92%E1%85%AE%204.02.29.png](attachment:%E1%84%89%E1%85%B3%E1%84%8F%E1%85%B3%E1%84%85%E1%85%B5%E1%86%AB%E1%84%89%E1%85%A3%E1%86%BA%202020-09-09%20%E1%84%8B%E1%85%A9%E1%84%92%E1%85%AE%204.02.29.png)"
   ]
  },
  {
   "cell_type": "code",
   "execution_count": 79,
   "metadata": {},
   "outputs": [],
   "source": [
    "a= np.array([1,'1',2,3,])"
   ]
  },
  {
   "cell_type": "code",
   "execution_count": 80,
   "metadata": {},
   "outputs": [
    {
     "data": {
      "text/plain": [
       "array(['1', '1', '2', '3'], dtype='<U11')"
      ]
     },
     "execution_count": 80,
     "metadata": {},
     "output_type": "execute_result"
    }
   ],
   "source": [
    "a  #type casting -> 메모리 큰 것으로 변경해줌  "
   ]
  },
  {
   "attachments": {
    "image.jpg": {
     "image/jpeg": "[encoded data removed]"
    }
   },
   "cell_type": "markdown",
   "metadata": {},
   "source": [
    "## Image\n",
    "- 왜 영상 처리에서 array programming 이 중요한지\n",
    "### Image 형태\n",
    "image는 2가지 형태의 format\n",
    "![image.jpg](attachment:image.jpg)\n",
    "- vector \n",
    "    - 이미지의 형식을 수식을 이용해서 오브젝트 만듦\n",
    "        - ( 점(Anchor/point)연결하여 선(path), 선열결하여 면)\n",
    "    - 이미지 확대,축소하여도 해상도에 영향 주지 않음\n",
    "    - 사진과 이미지 같은 정교한 그래픽 표현에는 한계\n",
    "    - 예. AI, PDF, SVG\n",
    "- bitmap(map of bits)\n",
    "    - Raster graphics: 점 하나(Pixel)를 별도로 독립적으로 처리하여 축소,확대하면 품질 저하됨\n",
    "    - 많은 픽셀로 정교하고 다양한 색상을 가진 이미지를 만들 수 있음\n",
    "    -  bitmap방식이면 이미지 자체를  matrix/ tensor 로 인식\n",
    "    - 예. JPG, JPEG, PNG, GIF\n",
    " \n",
    "\n",
    "공백 : matrix 기반으로 구분함\n",
    "- numpy는 matlab에서는 matrix 가 기본적인 타입으로 따름"
   ]
  },
  {
   "cell_type": "code",
   "execution_count": 82,
   "metadata": {},
   "outputs": [
    {
     "data": {
      "text/plain": [
       "array([[[ 0,  1,  2,  3],\n",
       "        [ 4,  5,  6,  7],\n",
       "        [ 8,  9, 10, 11]],\n",
       "\n",
       "       [[12, 13, 14, 15],\n",
       "        [16, 17, 18, 19],\n",
       "        [20, 21, 22, 23]]])"
      ]
     },
     "execution_count": 82,
     "metadata": {},
     "output_type": "execute_result"
    }
   ],
   "source": [
    "a=np.arange(24).reshape(2,3,4)\n",
    "a  #  3x4 matrix 2개 "
   ]
  },
  {
   "cell_type": "code",
   "execution_count": 84,
   "metadata": {},
   "outputs": [
    {
     "data": {
      "text/plain": [
       "3"
      ]
     },
     "execution_count": 84,
     "metadata": {},
     "output_type": "execute_result"
    }
   ],
   "source": [
    "a.ndim"
   ]
  },
  {
   "cell_type": "code",
   "execution_count": 85,
   "metadata": {},
   "outputs": [
    {
     "name": "stdout",
     "output_type": "stream",
     "text": [
      "[[[ 0  1  2  3]\n",
      "  [ 4  5  6  7]\n",
      "  [ 8  9 10 11]]\n",
      "\n",
      " [[12 13 14 15]\n",
      "  [16 17 18 19]\n",
      "  [20 21 22 23]]]\n"
     ]
    }
   ],
   "source": [
    "print(a)"
   ]
  },
  {
   "cell_type": "markdown",
   "metadata": {},
   "source": [
    "### mnist\n",
    "-  0~9까지 숫자 손글씨의  흑백 이미지"
   ]
  },
  {
   "cell_type": "code",
   "execution_count": 14,
   "metadata": {},
   "outputs": [],
   "source": [
    "(X_train,y_train),(X_trest,y_test)= tf.keras.datasets.mnist.load_data() #holdout"
   ]
  },
  {
   "cell_type": "code",
   "execution_count": 15,
   "metadata": {},
   "outputs": [
    {
     "data": {
      "text/plain": [
       "(60000, 28, 28)"
      ]
     },
     "execution_count": 15,
     "metadata": {},
     "output_type": "execute_result"
    }
   ],
   "source": [
    "X_train.shape #28x28 matrix가 60,000개 "
   ]
  },
  {
   "cell_type": "code",
   "execution_count": 16,
   "metadata": {},
   "outputs": [
    {
     "data": {
      "text/plain": [
       "array([[[0, 0, 0, ..., 0, 0, 0],\n",
       "        [0, 0, 0, ..., 0, 0, 0],\n",
       "        [0, 0, 0, ..., 0, 0, 0],\n",
       "        ...,\n",
       "        [0, 0, 0, ..., 0, 0, 0],\n",
       "        [0, 0, 0, ..., 0, 0, 0],\n",
       "        [0, 0, 0, ..., 0, 0, 0]],\n",
       "\n",
       "       [[0, 0, 0, ..., 0, 0, 0],\n",
       "        [0, 0, 0, ..., 0, 0, 0],\n",
       "        [0, 0, 0, ..., 0, 0, 0],\n",
       "        ...,\n",
       "        [0, 0, 0, ..., 0, 0, 0],\n",
       "        [0, 0, 0, ..., 0, 0, 0],\n",
       "        [0, 0, 0, ..., 0, 0, 0]],\n",
       "\n",
       "       [[0, 0, 0, ..., 0, 0, 0],\n",
       "        [0, 0, 0, ..., 0, 0, 0],\n",
       "        [0, 0, 0, ..., 0, 0, 0],\n",
       "        ...,\n",
       "        [0, 0, 0, ..., 0, 0, 0],\n",
       "        [0, 0, 0, ..., 0, 0, 0],\n",
       "        [0, 0, 0, ..., 0, 0, 0]],\n",
       "\n",
       "       ...,\n",
       "\n",
       "       [[0, 0, 0, ..., 0, 0, 0],\n",
       "        [0, 0, 0, ..., 0, 0, 0],\n",
       "        [0, 0, 0, ..., 0, 0, 0],\n",
       "        ...,\n",
       "        [0, 0, 0, ..., 0, 0, 0],\n",
       "        [0, 0, 0, ..., 0, 0, 0],\n",
       "        [0, 0, 0, ..., 0, 0, 0]],\n",
       "\n",
       "       [[0, 0, 0, ..., 0, 0, 0],\n",
       "        [0, 0, 0, ..., 0, 0, 0],\n",
       "        [0, 0, 0, ..., 0, 0, 0],\n",
       "        ...,\n",
       "        [0, 0, 0, ..., 0, 0, 0],\n",
       "        [0, 0, 0, ..., 0, 0, 0],\n",
       "        [0, 0, 0, ..., 0, 0, 0]],\n",
       "\n",
       "       [[0, 0, 0, ..., 0, 0, 0],\n",
       "        [0, 0, 0, ..., 0, 0, 0],\n",
       "        [0, 0, 0, ..., 0, 0, 0],\n",
       "        ...,\n",
       "        [0, 0, 0, ..., 0, 0, 0],\n",
       "        [0, 0, 0, ..., 0, 0, 0],\n",
       "        [0, 0, 0, ..., 0, 0, 0]]], dtype=uint8)"
      ]
     },
     "execution_count": 16,
     "metadata": {},
     "output_type": "execute_result"
    }
   ],
   "source": [
    "X_train  # 공백으로 구분함"
   ]
  },
  {
   "cell_type": "markdown",
   "metadata": {},
   "source": [
    "### Image 차원\n",
    "- BW : 1차원,2차원 \n",
    "    - 보통 흑백이미지는 2차원으로 관리하는 경우가 많음\n",
    "- RGB: 3 차원\n",
    "    -  0~255사이의 값을 갖는 값들이 RGB 이미지로 표현 하였을때 2차원 매트릭스가 3장(tensor) 겹친것\n",
    "\n",
    "\n",
    "차원의 저주: 차원이 증가할수록 필요한 데이터 양이 기하급수적으로 증가함\n",
    "  - 해결하기 위해서 차원을 줄여서 해결\n",
    "- 차원 증가는 아무 문제가 없음\n",
    "\n",
    "아래 x, xx는 차원 차이만 있음"
   ]
  },
  {
   "cell_type": "code",
   "execution_count": 91,
   "metadata": {},
   "outputs": [],
   "source": [
    "x=np.array([1,2,3,4])    #1차원 벡터\n",
    "xx=np.array([[1,2,3,4]]) #2차원 메트릭스"
   ]
  },
  {
   "cell_type": "code",
   "execution_count": 92,
   "metadata": {},
   "outputs": [
    {
     "data": {
      "text/plain": [
       "array([[1, 2, 3, 4]])"
      ]
     },
     "execution_count": 92,
     "metadata": {},
     "output_type": "execute_result"
    }
   ],
   "source": [
    "x[np.newaxis] #차원 추가 "
   ]
  },
  {
   "cell_type": "code",
   "execution_count": 93,
   "metadata": {},
   "outputs": [
    {
     "data": {
      "text/plain": [
       "array([[1, 2, 3, 4]])"
      ]
     },
     "execution_count": 93,
     "metadata": {},
     "output_type": "execute_result"
    }
   ],
   "source": [
    "x.reshape(1,4)#차원 추가 "
   ]
  },
  {
   "cell_type": "code",
   "execution_count": 87,
   "metadata": {},
   "outputs": [
    {
     "data": {
      "text/plain": [
       "((4,), (1, 4))"
      ]
     },
     "execution_count": 87,
     "metadata": {},
     "output_type": "execute_result"
    }
   ],
   "source": [
    "x.shape, xx.shape  #동일한 값 차원만 다름"
   ]
  },
  {
   "cell_type": "code",
   "execution_count": 19,
   "metadata": {},
   "outputs": [
    {
     "data": {
      "text/plain": [
       "(28, 28)"
      ]
     },
     "execution_count": 19,
     "metadata": {},
     "output_type": "execute_result"
    }
   ],
   "source": [
    "X_train[0].shape #2차원"
   ]
  },
  {
   "cell_type": "code",
   "execution_count": 18,
   "metadata": {},
   "outputs": [
    {
     "data": {
      "text/plain": [
       "(28, 28, 1)"
      ]
     },
     "execution_count": 18,
     "metadata": {},
     "output_type": "execute_result"
    }
   ],
   "source": [
    "X_train_= X_train[0].reshape(28,28,1) #3차원 : 차원 하나 추가 \n",
    "X_train_.shape"
   ]
  },
  {
   "cell_type": "markdown",
   "metadata": {},
   "source": [
    "#### array programming\n",
    "- 이미지 갯수, 이미지 크기, 색상 정보를 이용해서 이미지를 matrices로 표현\n",
    "- 자체가 복잡한 연산을 처리하기 때문에 computing power 가 중요하여 numpy 가 제격\n",
    "- 영상처리에 중요한데 데이터 타입 자체는 색상 정보에 많이 따라감"
   ]
  },
  {
   "attachments": {
    "1.PNG": {
     "image/png": "[encoded data removed]"
    }
   },
   "cell_type": "markdown",
   "metadata": {},
   "source": [
    "- array programming 의 좌표축은 좌측 최 상단을 (0,0) 기준으로 하면 행렬 : 벡터가 1:1 매칭이 가능해져서 수학적 개념 사용 가능\n",
    "\n",
    "![1.PNG](attachment:1.PNG)\n",
    "> - 영상처리에서 배웠던 CNN 에서 convolution 도 (0,0) 에서 시작\n",
    "## 데이터셋 구성 \n",
    "\n",
    "### NHWC format\n",
    "- NCHW (channel first)\n",
    "- NHWC(channel last) \n",
    "    - n개의 세로(height),가로(width)가 채널(channel)을 갖는 이미지\n",
    "- NHW \n",
    "    - n개의 세로(height),가로(width)의 이미지\n",
    "    \n",
    "## channel\n",
    "### 색상 이미지 \n",
    "- 색상 표현하는 방식은 다양: cymk,rgb,hsv\n",
    "- 모두 색상 정보 포함하는 각 channel 을 겹쳐서 하나로 표현함\n",
    "\n",
    "#### RGB format\n",
    "- intensity : 0~255 \n",
    "    - 화소의 밝은 정도(세기) \n",
    "    - 2^8=256개로 메모리 효율적으로 관리 가능\n",
    "- channel : Red, Green,Blue\n",
    "    - 색상 정보에 따라서 데이터 타입 결정\n",
    "    - 무조건 RGB가 아니라 BGR (openCV)로도 표현함\n",
    "        - 예. RGB의 빨강색 = [255,0,0] = BGR의 파랑색\n",
    "        - 예. RGB의 초록색 = [0,255,0]= BGR의 초록색\n",
    "        - 예. RGB의 파랑색 = [0,0,255]= BGR의 빨강색\n",
    "\n",
    "#### RGBA\n",
    "- alpha channel :투명도\n",
    "    - 0~1 사이 값\n",
    "\n",
    "영상에 따라서 여러 format 이다르기 때문에 d-type 확인"
   ]
  },
  {
   "cell_type": "markdown",
   "metadata": {},
   "source": [
    "### 흑백 Image\n",
    "- 1차원,2차원 으로 표현 가능\n",
    "- 흑백이미지는 상대적인 크기로 이미지를 표현하기 때문에 큰 차이가 없음\n",
    "#### intensity \n",
    "- 화소의 밝은 정도(세기)로 흑백이미지는 상대적인 크기\n",
    "    - 0~1\n",
    "    - 0~255 (2의 8승)\n",
    "    - 0~65,535(2의 16승)\n",
    "\n",
    "이미지는 행렬로 표현하지만 표현 방식은 다양하여 어떻게 표현됬는지 dtype, shape확인\n",
    "- 예. (60000, 28,28,3) 보통 chanel 은 1~4차원 사이이기 때문에 유추 쉬움\n",
    "- mnist는 0~255사이의 값을 갖음"
   ]
  },
  {
   "cell_type": "code",
   "execution_count": 20,
   "metadata": {},
   "outputs": [
    {
     "data": {
      "text/plain": [
       "dtype('uint8')"
      ]
     },
     "execution_count": 20,
     "metadata": {},
     "output_type": "execute_result"
    }
   ],
   "source": [
    "X_train.dtype"
   ]
  },
  {
   "cell_type": "code",
   "execution_count": 23,
   "metadata": {},
   "outputs": [
    {
     "data": {
      "text/plain": [
       "<matplotlib.image.AxesImage at 0x7fdc58bcde90>"
      ]
     },
     "execution_count": 23,
     "metadata": {},
     "output_type": "execute_result"
    },
    {
     "data": {
      "image/png": "[encoded data removed]",
      "text/plain": [
       "<Figure size 432x288 with 1 Axes>"
      ]
     },
     "metadata": {
      "needs_background": "light"
     },
     "output_type": "display_data"
    }
   ],
   "source": [
    "import matplotlib.pyplot as plt\n",
    "plt.imshow(X_train[0],cmap='gray') #matplotlib은 color정보 없으므로 colormap 지정"
   ]
  },
  {
   "cell_type": "markdown",
   "metadata": {},
   "source": [
    "- MinMaxScaling\n",
    "     - 0~1 사이 값을 갖도록 하기 위해 표준화함\n",
    "     - 신경망 태생이 0~1사이값을 받도록 되어있음"
   ]
  },
  {
   "cell_type": "code",
   "execution_count": 24,
   "metadata": {
    "scrolled": true
   },
   "outputs": [
    {
     "data": {
      "text/plain": [
       "<matplotlib.image.AxesImage at 0x7fdc38eeeb90>"
      ]
     },
     "execution_count": 24,
     "metadata": {},
     "output_type": "execute_result"
    },
    {
     "data": {
      "image/png": "[encoded data removed]",
      "text/plain": [
       "<Figure size 432x288 with 1 Axes>"
      ]
     },
     "metadata": {
      "needs_background": "light"
     },
     "output_type": "display_data"
    }
   ],
   "source": [
    "plt.imshow(X_train[0]/255,cmap='gray')"
   ]
  }
 ],
 "metadata": {
  "kernelspec": {
   "display_name": "Python 3",
   "language": "python",
   "name": "python3"
  },
  "language_info": {
   "codemirror_mode": {
    "name": "ipython",
    "version": 3
   },
   "file_extension": ".py",
   "mimetype": "text/x-python",
   "name": "python",
   "nbconvert_exporter": "python",
   "pygments_lexer": "ipython3",
   "version": "3.7.6"
  }
 },
 "nbformat": 4,
 "nbformat_minor": 4
}
