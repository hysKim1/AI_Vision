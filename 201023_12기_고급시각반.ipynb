{
 "cells": [
  {
   "cell_type": "markdown",
   "metadata": {},
   "source": [
    "# [AI 이노베이션 스퀘어] 12기 고급 시각반\n",
    "- github: https://github.com/hysKim1/AI_Vision\n",
    "    - [파이썬 공식문서]https://docs.python.org/ko/3/\n",
    "    - [Numpy 공식문서]https://numpy.org/devdocs/\n",
    "    - [ML]https://developers.google.com/machine-learning/crash-course/ml-intro?hl=ko\n",
    "    - [DL]https://www.tensorflow.org/?hl=ko\n",
    "      \n",
    "---\n",
    "* [Custom training](#Custom-training)\n",
    "    * [GradientTape ](#GradientTape )\n",
    "        * [context: with](#context- with)\n",
    "        * [persistent](#persistent)\n",
    "        * [watch](#watch)\n",
    "    * [모델 학습](#모델-학습)\n",
    "    * [학습 루프](#학습-루프)\n",
    "\n",
    "---\n",
    "## Custom training\n",
    "\n",
    "\n",
    "1. tensorflow 사용해서 layer 커스터마이징\n",
    "  - faster R-CNN\n",
    "  - 객체지향 : 학습 가능한 레이어 만들기 위한 커스터마이징\n",
    "    - __init__ 레이어 초기화 \n",
    "    - build(input_shape): 가중치를 정의, 1번만 실행(self.built = True) \n",
    "    - call(x): 레이어의 논리의 핵심\n",
    "        - build, call 호출\n",
    "    - compute_output_shape(input_shape)\n",
    "    - get_config\n",
    "\n",
    "\n",
    "참고: https://keras.io/ko/layers/writing-your-own-keras-layers/\n",
    "\n",
    "2. loss/objective func 커스터마이징 \n",
    "- fit, train_on_batch, train 불가해서 만들어야함\n",
    "  - 학습 : 실제,예측값 차이의 최소값을 갖도록 gradient descent 최적화 이론 구현 \n",
    "    - optimizer :gradient descent 1차 미분하여 최소값 찾음\n",
    "    - 상황마다 다른 gradient 방식 SGD,RMSProp, Adam\n",
    "> - 책: Julia 실용 최적화 알고리즘(Algorithm for Optimization)\n",
    "\n",
    "-  pytorch tutorial : Numpy vs pytorch/  tf (자동 미분,최적화,gpu 지원)\n",
    "\n",
    "- Automatic differntitation in ML: Where we are and where we should be going\n",
    " by Google Brain\n",
    "  - Numpy 비교해서 ML 프레임워크들은 일반성, 유연성을 포기\n",
    "  - `tf.GradientTape` 자동미분\n",
    "  - python 속도는 느리지만 간결\n",
    "  - closure based\n",
    "  - 미분기능 @tf.function\n",
    "\n",
    "> - Pytorch Automatic differntitation in PyTorch(2017) by FB\n",
    "   - **no tape**\n",
    "   - operator overloading\n",
    "\n",
    "\n",
    "\n",
    "### constant vs Variable\n",
    "- 상수 미분 ->0 (기울기 0)\n",
    "\n",
    "- python 상수의 개념 없음\n",
    "- tensorflow : Variable, constant\n",
    "  - immutable\n",
    " - 상수(변경 불가)"
   ]
  },
  {
   "cell_type": "code",
   "execution_count": 9,
   "metadata": {
    "id": "9QlYgtCzLoux"
   },
   "outputs": [],
   "source": [
    "import tensorflow as tf\n",
    "a=tf.constant([1,2,3])"
   ]
  },
  {
   "cell_type": "code",
   "execution_count": 10,
   "metadata": {
    "colab": {
     "base_uri": "https://localhost:8080/",
     "height": 160
    },
    "id": "LVYZPVTeMK1Z",
    "outputId": "654dc8a4-c6c9-4a02-e378-b6472dbc871b"
   },
   "outputs": [
    {
     "ename": "AttributeError",
     "evalue": "'tensorflow.python.framework.ops.EagerTensor' object has no attribute 'assign'",
     "output_type": "error",
     "traceback": [
      "\u001b[0;31m---------------------------------------------------------------------------\u001b[0m",
      "\u001b[0;31mAttributeError\u001b[0m                            Traceback (most recent call last)",
      "\u001b[0;32m<ipython-input-10-699ed520e7b0>\u001b[0m in \u001b[0;36m<module>\u001b[0;34m\u001b[0m\n\u001b[0;32m----> 1\u001b[0;31m \u001b[0ma\u001b[0m\u001b[0;34m.\u001b[0m\u001b[0massign\u001b[0m\u001b[0;34m(\u001b[0m\u001b[0;34m[\u001b[0m\u001b[0;36m1\u001b[0m\u001b[0;34m,\u001b[0m\u001b[0;36m2\u001b[0m\u001b[0;34m,\u001b[0m\u001b[0;36m3\u001b[0m\u001b[0;34m]\u001b[0m\u001b[0;34m)\u001b[0m\u001b[0;34m\u001b[0m\u001b[0;34m\u001b[0m\u001b[0m\n\u001b[0m",
      "\u001b[0;31mAttributeError\u001b[0m: 'tensorflow.python.framework.ops.EagerTensor' object has no attribute 'assign'"
     ]
    }
   ],
   "source": [
    "a.assign([1,2,3]) "
   ]
  },
  {
   "cell_type": "code",
   "execution_count": 11,
   "metadata": {
    "id": "_IV6sD_uLosR"
   },
   "outputs": [],
   "source": [
    "b=tf.Variable([4,5,6])"
   ]
  },
  {
   "cell_type": "code",
   "execution_count": 12,
   "metadata": {
    "colab": {
     "base_uri": "https://localhost:8080/",
     "height": 33
    },
    "id": "K4s1QFgNLopd",
    "outputId": "75effb01-9cb5-4343-f883-482f717c4506"
   },
   "outputs": [
    {
     "data": {
      "text/plain": [
       "<tf.Variable 'UnreadVariable' shape=(3,) dtype=int32, numpy=array([1, 2, 3], dtype=int32)>"
      ]
     },
     "execution_count": 12,
     "metadata": {},
     "output_type": "execute_result"
    }
   ],
   "source": [
    "b.assign([1,2,3])"
   ]
  },
  {
   "cell_type": "markdown",
   "metadata": {
    "id": "wyF1mfzlPWmh"
   },
   "source": [
    "## tf.GradientTape\n",
    "- 자동 미분: 후진 방식 자동 미분(reverse mode differentiation)을 사용해 테이프에 \"기록된\" 연산의 그래디언트를 계산\n",
    "- context mngt 안에서 실행된 모든 연산 실행된 모든 미분한 결과값 저장(테이프(tape)에 기록)\n",
    "\n",
    "- 참고 : https://www.tensorflow.org/guide/autodiff?hl=ko#%EA%B7%B8%EB%9E%98%EB%94%94%EC%96%B8%ED%8A%B8_%ED%85%8C%EC%9D%B4%ED%94%84"
   ]
  },
  {
   "cell_type": "code",
   "execution_count": 13,
   "metadata": {
    "colab": {
     "base_uri": "https://localhost:8080/",
     "height": 667
    },
    "id": "NBafkD-MMM6r",
    "outputId": "84084ca5-0692-433e-e1da-581e7ef8ba2a"
   },
   "outputs": [
    {
     "data": {
      "text/plain": [
       "['__class__',\n",
       " '__del__',\n",
       " '__delattr__',\n",
       " '__dict__',\n",
       " '__dir__',\n",
       " '__doc__',\n",
       " '__enter__',\n",
       " '__eq__',\n",
       " '__exit__',\n",
       " '__format__',\n",
       " '__ge__',\n",
       " '__getattribute__',\n",
       " '__gt__',\n",
       " '__hash__',\n",
       " '__init__',\n",
       " '__init_subclass__',\n",
       " '__le__',\n",
       " '__lt__',\n",
       " '__module__',\n",
       " '__ne__',\n",
       " '__new__',\n",
       " '__reduce__',\n",
       " '__reduce_ex__',\n",
       " '__repr__',\n",
       " '__setattr__',\n",
       " '__sizeof__',\n",
       " '__str__',\n",
       " '__subclasshook__',\n",
       " '__weakref__',\n",
       " '_pop_tape',\n",
       " '_push_tape',\n",
       " '_tf_api_names',\n",
       " '_tf_api_names_v1',\n",
       " 'batch_jacobian',\n",
       " 'gradient',\n",
       " 'jacobian',\n",
       " 'reset',\n",
       " 'stop_recording',\n",
       " 'watch',\n",
       " 'watched_variables']"
      ]
     },
     "execution_count": 13,
     "metadata": {},
     "output_type": "execute_result"
    }
   ],
   "source": [
    "x=tf.GradientTape\n",
    "dir(x)  #__enter__, __exit__"
   ]
  },
  {
   "cell_type": "markdown",
   "metadata": {
    "id": "xKmG_rrrMxlc"
   },
   "source": [
    "## context: with\n",
    "- `__enter__`,`__exit__` 한 쌍으로 있어야 with **사용 가능**\n",
    "  - `__enter__` 들어갈때 실행\n",
    "  - `__exit__`  출력"
   ]
  },
  {
   "cell_type": "code",
   "execution_count": 14,
   "metadata": {
    "colab": {
     "base_uri": "https://localhost:8080/",
     "height": 976
    },
    "id": "G0g7B4kbM-DZ",
    "outputId": "8e6dbd84-aecf-4e12-bc14-61ebe70e085e",
    "scrolled": true
   },
   "outputs": [
    {
     "data": {
      "text/plain": [
       "['__class__',\n",
       " '__del__',\n",
       " '__delattr__',\n",
       " '__dict__',\n",
       " '__dir__',\n",
       " '__doc__',\n",
       " '__enter__',\n",
       " '__eq__',\n",
       " '__exit__',\n",
       " '__format__',\n",
       " '__ge__',\n",
       " '__getattribute__',\n",
       " '__getstate__',\n",
       " '__gt__',\n",
       " '__hash__',\n",
       " '__init__',\n",
       " '__init_subclass__',\n",
       " '__iter__',\n",
       " '__le__',\n",
       " '__lt__',\n",
       " '__ne__',\n",
       " '__new__',\n",
       " '__next__',\n",
       " '__reduce__',\n",
       " '__reduce_ex__',\n",
       " '__repr__',\n",
       " '__setattr__',\n",
       " '__sizeof__',\n",
       " '__str__',\n",
       " '__subclasshook__',\n",
       " '_checkClosed',\n",
       " '_checkReadable',\n",
       " '_checkSeekable',\n",
       " '_checkWritable',\n",
       " '_dealloc_warn',\n",
       " '_finalizing',\n",
       " 'close',\n",
       " 'closed',\n",
       " 'detach',\n",
       " 'fileno',\n",
       " 'flush',\n",
       " 'isatty',\n",
       " 'mode',\n",
       " 'name',\n",
       " 'raw',\n",
       " 'read',\n",
       " 'read1',\n",
       " 'readable',\n",
       " 'readinto',\n",
       " 'readinto1',\n",
       " 'readline',\n",
       " 'readlines',\n",
       " 'seek',\n",
       " 'seekable',\n",
       " 'tell',\n",
       " 'truncate',\n",
       " 'writable',\n",
       " 'write',\n",
       " 'writelines']"
      ]
     },
     "execution_count": 14,
     "metadata": {},
     "output_type": "execute_result"
    }
   ],
   "source": [
    "t=open('a.x','wb') \n",
    "dir(t) #__enter__, __exit__"
   ]
  },
  {
   "cell_type": "code",
   "execution_count": 15,
   "metadata": {
    "id": "-TU9Y3pENNap"
   },
   "outputs": [
    {
     "ename": "IndentationError",
     "evalue": "expected an indented block (<ipython-input-15-3d8d462a57ee>, line 2)",
     "output_type": "error",
     "traceback": [
      "\u001b[0;36m  File \u001b[0;32m\"<ipython-input-15-3d8d462a57ee>\"\u001b[0;36m, line \u001b[0;32m2\u001b[0m\n\u001b[0;31m    ''' 미분할 함수'''\u001b[0m\n\u001b[0m                ^\u001b[0m\n\u001b[0;31mIndentationError\u001b[0m\u001b[0;31m:\u001b[0m expected an indented block\n"
     ]
    }
   ],
   "source": [
    "with tf.GradientTape() as t:\n",
    "''' 미분할 함수'''\n",
    "  pass"
   ]
  },
  {
   "cell_type": "code",
   "execution_count": 16,
   "metadata": {
    "id": "mKDE_t--NtZV"
   },
   "outputs": [],
   "source": [
    "with tf.GradientTape() as t: #미분값 저장\n",
    "  y=2*a  #a=tf.constant(1,2,3)"
   ]
  },
  {
   "cell_type": "code",
   "execution_count": 17,
   "metadata": {
    "id": "v7m5NolBQ2Ew"
   },
   "outputs": [],
   "source": [
    "with tf.GradientTape(persistent=True) as t: #미분값 저장\n",
    "  y=2*b\n",
    "  z=y**2"
   ]
  },
  {
   "cell_type": "code",
   "execution_count": 18,
   "metadata": {
    "colab": {
     "base_uri": "https://localhost:8080/",
     "height": 33
    },
    "id": "K6fXq-YZRLXH",
    "outputId": "acd1c76e-9606-4c22-8b1a-c08aa2fd11aa"
   },
   "outputs": [
    {
     "name": "stdout",
     "output_type": "stream",
     "text": [
      "WARNING:tensorflow:The dtype of the target tensor must be floating (e.g. tf.float32) when calling GradientTape.gradient, got tf.int32\n",
      "WARNING:tensorflow:The dtype of the source tensor must be floating (e.g. tf.float32) when calling GradientTape.gradient, got tf.int32\n"
     ]
    }
   ],
   "source": [
    "dy_db=t.gradient(y,b)   #y를 b로 미분\n",
    "dy_db     "
   ]
  },
  {
   "cell_type": "code",
   "execution_count": 19,
   "metadata": {
    "colab": {
     "base_uri": "https://localhost:8080/",
     "height": 33
    },
    "id": "V6wMyKsOROpt",
    "outputId": "00e5e92f-b6f7-46e7-9ab4-bf816d6521ef"
   },
   "outputs": [
    {
     "name": "stdout",
     "output_type": "stream",
     "text": [
      "WARNING:tensorflow:The dtype of the target tensor must be floating (e.g. tf.float32) when calling GradientTape.gradient, got tf.int32\n",
      "WARNING:tensorflow:The dtype of the source tensor must be floating (e.g. tf.float32) when calling GradientTape.gradient, got tf.int32\n"
     ]
    }
   ],
   "source": [
    "dy_db=t.gradient(z,b)   #z를 b로 미분\n",
    "dy_db     "
   ]
  },
  {
   "cell_type": "code",
   "execution_count": 20,
   "metadata": {
    "colab": {
     "base_uri": "https://localhost:8080/",
     "height": 33
    },
    "id": "DpQGaLXSR2_q",
    "outputId": "40a448fa-7e21-441a-85ad-2add22da43c0"
   },
   "outputs": [
    {
     "name": "stdout",
     "output_type": "stream",
     "text": [
      "WARNING:tensorflow:The dtype of the target tensor must be floating (e.g. tf.float32) when calling GradientTape.gradient, got tf.int32\n",
      "WARNING:tensorflow:The dtype of the source tensor must be floating (e.g. tf.float32) when calling GradientTape.gradient, got tf.int32\n"
     ]
    }
   ],
   "source": [
    "dy_db=t.gradient(z,y)   #z를 y로 미분 : 식이 아닌 값으로 결과 나옴\n",
    "dy_db   #상수로 계산함     "
   ]
  },
  {
   "cell_type": "markdown",
   "metadata": {},
   "source": [
    "- 식/변수가 아닌 값/상수로 결과가 나옴 "
   ]
  },
  {
   "cell_type": "code",
   "execution_count": 21,
   "metadata": {
    "id": "SuIcx8nRR8ru"
   },
   "outputs": [],
   "source": [
    "y=2*b   #밖\n",
    "with tf.GradientTape(persistent=True) as t: #미분값 저장\n",
    "  z=y**2"
   ]
  },
  {
   "cell_type": "code",
   "execution_count": 22,
   "metadata": {
    "id": "w1-Ao7efTDVW"
   },
   "outputs": [
    {
     "name": "stdout",
     "output_type": "stream",
     "text": [
      "WARNING:tensorflow:The dtype of the target tensor must be floating (e.g. tf.float32) when calling GradientTape.gradient, got tf.int32\n",
      "WARNING:tensorflow:The dtype of the source tensor must be floating (e.g. tf.float32) when calling GradientTape.gradient, got tf.int32\n"
     ]
    }
   ],
   "source": [
    "dy_db=t.gradient(z,b)  #z를 b로 미분\n",
    "dy_db                  #Noen : with 내부에 계산해야함"
   ]
  },
  {
   "cell_type": "markdown",
   "metadata": {
    "id": "QT6MX6hzOCou"
   },
   "source": [
    "1. tf 기본 dtype = 'float32'기반\n",
    "2. `tf.Variable` 만 가능\n",
    "3. with구문 내에서 1번만 실행 가능 (non-persistent)\n",
    "  - 비슷한 예. iterator, generator 메모리 번지 초과하면 에러 \n",
    "  \n",
    "### gradient\n",
    "- gradient 계산\n",
    "- $\\frac {dy}{dx}$: y함수를 x로 미분"
   ]
  },
  {
   "cell_type": "markdown",
   "metadata": {},
   "source": [
    "constant 미분"
   ]
  },
  {
   "cell_type": "code",
   "execution_count": 23,
   "metadata": {
    "colab": {
     "base_uri": "https://localhost:8080/",
     "height": 70
    },
    "id": "FzWAHrMNN5du",
    "outputId": "0e8963b6-0efb-4516-f35c-642d642b7057"
   },
   "outputs": [
    {
     "name": "stdout",
     "output_type": "stream",
     "text": [
      "WARNING:tensorflow:The dtype of the target tensor must be floating (e.g. tf.float32) when calling GradientTape.gradient, got tf.int32\n",
      "WARNING:tensorflow:The dtype of the source tensor must be floating (e.g. tf.float32) when calling GradientTape.gradient, got tf.int32\n"
     ]
    }
   ],
   "source": [
    "dy_da=t.gradient(y,a)  #한번만 실행"
   ]
  },
  {
   "cell_type": "code",
   "execution_count": 24,
   "metadata": {
    "id": "2da29_GRN-2O"
   },
   "outputs": [],
   "source": [
    "dy_da  # Out 없음"
   ]
  },
  {
   "cell_type": "code",
   "execution_count": 25,
   "metadata": {
    "colab": {
     "base_uri": "https://localhost:8080/",
     "height": 273
    },
    "id": "ZCsyxB-iNx-I",
    "outputId": "a435a2cb-9b3c-4c56-80cf-471e1fa0fa9b"
   },
   "outputs": [
    {
     "name": "stdout",
     "output_type": "stream",
     "text": [
      "WARNING:tensorflow:The dtype of the target tensor must be floating (e.g. tf.float32) when calling GradientTape.gradient, got tf.int32\n",
      "WARNING:tensorflow:The dtype of the source tensor must be floating (e.g. tf.float32) when calling GradientTape.gradient, got tf.int32\n"
     ]
    }
   ],
   "source": [
    "dy_da=t.gradient(y,a)  # non-persistent tapes"
   ]
  },
  {
   "cell_type": "markdown",
   "metadata": {},
   "source": [
    "Variable 미분"
   ]
  },
  {
   "cell_type": "code",
   "execution_count": 26,
   "metadata": {
    "id": "ggePhj-QO6oS"
   },
   "outputs": [],
   "source": [
    "with tf.GradientTape() as t: #미분값 저장\n",
    "  y=2*b  #b=tf.Variable(1,2,3)"
   ]
  },
  {
   "cell_type": "code",
   "execution_count": 27,
   "metadata": {
    "colab": {
     "base_uri": "https://localhost:8080/",
     "height": 70
    },
    "id": "U7aaTK8rPAlK",
    "outputId": "50a40606-18c4-437e-cdb7-ca024b150c46"
   },
   "outputs": [
    {
     "name": "stdout",
     "output_type": "stream",
     "text": [
      "WARNING:tensorflow:The dtype of the target tensor must be floating (e.g. tf.float32) when calling GradientTape.gradient, got tf.int32\n",
      "WARNING:tensorflow:The dtype of the source tensor must be floating (e.g. tf.float32) when calling GradientTape.gradient, got tf.int32\n"
     ]
    }
   ],
   "source": [
    "dy_db=t.gradient(y,b)  #한번만 실행 non-persistent"
   ]
  },
  {
   "cell_type": "code",
   "execution_count": 28,
   "metadata": {
    "id": "zYUWWInuPJkS"
   },
   "outputs": [],
   "source": [
    "dy_db  # Out 없음"
   ]
  },
  {
   "cell_type": "code",
   "execution_count": 29,
   "metadata": {
    "colab": {
     "base_uri": "https://localhost:8080/",
     "height": 290
    },
    "id": "S2g5Vt1KPDCE",
    "outputId": "81c2e7cc-a7d1-43ab-9036-b30d7251070d"
   },
   "outputs": [
    {
     "ename": "RuntimeError",
     "evalue": "GradientTape.gradient can only be called once on non-persistent tapes.",
     "output_type": "error",
     "traceback": [
      "\u001b[0;31m---------------------------------------------------------------------------\u001b[0m",
      "\u001b[0;31mRuntimeError\u001b[0m                              Traceback (most recent call last)",
      "\u001b[0;32m<ipython-input-29-3c8873eb58d4>\u001b[0m in \u001b[0;36m<module>\u001b[0;34m\u001b[0m\n\u001b[0;32m----> 1\u001b[0;31m \u001b[0mdy_db\u001b[0m\u001b[0;34m=\u001b[0m\u001b[0mt\u001b[0m\u001b[0;34m.\u001b[0m\u001b[0mgradient\u001b[0m\u001b[0;34m(\u001b[0m\u001b[0my\u001b[0m\u001b[0;34m,\u001b[0m\u001b[0mb\u001b[0m\u001b[0;34m)\u001b[0m\u001b[0;34m\u001b[0m\u001b[0;34m\u001b[0m\u001b[0m\n\u001b[0m",
      "\u001b[0;32m~/opt/anaconda3/lib/python3.7/site-packages/tensorflow/python/eager/backprop.py\u001b[0m in \u001b[0;36mgradient\u001b[0;34m(self, target, sources, output_gradients, unconnected_gradients)\u001b[0m\n\u001b[1;32m   1012\u001b[0m     \"\"\"\n\u001b[1;32m   1013\u001b[0m     \u001b[0;32mif\u001b[0m \u001b[0mself\u001b[0m\u001b[0;34m.\u001b[0m\u001b[0m_tape\u001b[0m \u001b[0;32mis\u001b[0m \u001b[0;32mNone\u001b[0m\u001b[0;34m:\u001b[0m\u001b[0;34m\u001b[0m\u001b[0;34m\u001b[0m\u001b[0m\n\u001b[0;32m-> 1014\u001b[0;31m       raise RuntimeError(\"GradientTape.gradient can only be called once on \"\n\u001b[0m\u001b[1;32m   1015\u001b[0m                          \"non-persistent tapes.\")\n\u001b[1;32m   1016\u001b[0m     \u001b[0;32mif\u001b[0m \u001b[0mself\u001b[0m\u001b[0;34m.\u001b[0m\u001b[0m_recording\u001b[0m\u001b[0;34m:\u001b[0m\u001b[0;34m\u001b[0m\u001b[0;34m\u001b[0m\u001b[0m\n",
      "\u001b[0;31mRuntimeError\u001b[0m: GradientTape.gradient can only be called once on non-persistent tapes."
     ]
    }
   ],
   "source": [
    "dy_db=t.gradient(y,b) "
   ]
  },
  {
   "cell_type": "code",
   "execution_count": 33,
   "metadata": {
    "id": "Fueo0FYHPLwp"
   },
   "outputs": [],
   "source": [
    "b=tf.Variable([1.,2,3]) #homogeneous -> type casting"
   ]
  },
  {
   "cell_type": "code",
   "execution_count": 34,
   "metadata": {
    "id": "ZKsuCz6oPUUk"
   },
   "outputs": [],
   "source": [
    "with tf.GradientTape() as t: #미분값 저장\n",
    "  y=2*b "
   ]
  },
  {
   "cell_type": "code",
   "execution_count": 35,
   "metadata": {
    "colab": {
     "base_uri": "https://localhost:8080/",
     "height": 33
    },
    "id": "Uas1SimOPa_u",
    "outputId": "c8d064d3-b998-467d-b2db-28874b7ef5d9"
   },
   "outputs": [
    {
     "data": {
      "text/plain": [
       "<tf.Tensor: shape=(3,), dtype=float32, numpy=array([2., 2., 2.], dtype=float32)>"
      ]
     },
     "execution_count": 35,
     "metadata": {},
     "output_type": "execute_result"
    }
   ],
   "source": [
    "dy_db=t.gradient(y,b)  #한번만 실행 non-persistent\n",
    "dy_db #결과값 나옴 "
   ]
  },
  {
   "cell_type": "markdown",
   "metadata": {
    "id": "HJBQgo9XQoEg"
   },
   "source": [
    "### watch \n",
    "`GradientTape.watch(constant)`\n",
    "- 상수 사용 가능"
   ]
  },
  {
   "cell_type": "code",
   "execution_count": 36,
   "metadata": {
    "id": "Pr9fse8tPdWU"
   },
   "outputs": [],
   "source": [
    "#1. 상수 가능 \n",
    "a=tf.constant([1.0,2,3])\n",
    "\n",
    "with tf.GradientTape() as t:\n",
    "  t.watch(a)\n",
    "  y=2*a"
   ]
  },
  {
   "cell_type": "code",
   "execution_count": 37,
   "metadata": {
    "colab": {
     "base_uri": "https://localhost:8080/",
     "height": 33
    },
    "id": "OiOytpdRQWlV",
    "outputId": "ce463229-8677-431d-ea08-f861738b0c2c"
   },
   "outputs": [
    {
     "data": {
      "text/plain": [
       "<tf.Tensor: shape=(3,), dtype=float32, numpy=array([2., 2., 2.], dtype=float32)>"
      ]
     },
     "execution_count": 37,
     "metadata": {},
     "output_type": "execute_result"
    }
   ],
   "source": [
    "dy_da=t.gradient(y,a)  \n",
    "dy_da     #가능."
   ]
  },
  {
   "cell_type": "markdown",
   "metadata": {
    "id": "OMkIlkTMRB9p"
   },
   "source": [
    "### persistent\n",
    "`tf.GradientTape(persistent=True)`\n",
    "- 동일한 연산에 대해  2번 이상 사용 가능(gradient() 메서드의 다중 호출을 허용)"
   ]
  },
  {
   "cell_type": "code",
   "execution_count": 38,
   "metadata": {
    "id": "-I_fY90vQe46"
   },
   "outputs": [],
   "source": [
    "#2. 2번 이상 사용 가능  \n",
    "with tf.GradientTape(persistent=True) as t: \n",
    "  t.watch(a)\n",
    "  y=2*a"
   ]
  },
  {
   "cell_type": "code",
   "execution_count": 39,
   "metadata": {
    "colab": {
     "base_uri": "https://localhost:8080/",
     "height": 33
    },
    "id": "8VsYBbIrQz_6",
    "outputId": "992345dc-5903-4e30-a7b7-9193245bb60b"
   },
   "outputs": [
    {
     "data": {
      "text/plain": [
       "<tf.Tensor: shape=(3,), dtype=float32, numpy=array([2., 2., 2.], dtype=float32)>"
      ]
     },
     "execution_count": 39,
     "metadata": {},
     "output_type": "execute_result"
    }
   ],
   "source": [
    "dy_da=t.gradient(y,a)  \n",
    "dy_da     #가능"
   ]
  },
  {
   "cell_type": "code",
   "execution_count": 40,
   "metadata": {
    "colab": {
     "base_uri": "https://localhost:8080/",
     "height": 33
    },
    "id": "vcchierMQ06c",
    "outputId": "7b3cc915-da93-4a96-835b-4405dfd4b363"
   },
   "outputs": [
    {
     "data": {
      "text/plain": [
       "<tf.Tensor: shape=(3,), dtype=float32, numpy=array([2., 2., 2.], dtype=float32)>"
      ]
     },
     "execution_count": 40,
     "metadata": {},
     "output_type": "execute_result"
    }
   ],
   "source": [
    "dy_da=t.gradient(y,a)  \n",
    "dy_da     # 여러번 가능"
   ]
  },
  {
   "cell_type": "markdown",
   "metadata": {
    "id": "Nr5kdhGyRQxY"
   },
   "source": [
    "- watched_accesible_ :trainable paramters 입력 들어오면 누적해서 추적 되는지 안되는 지체크."
   ]
  },
  {
   "cell_type": "markdown",
   "metadata": {
    "id": "3Zgm0c83TcqA"
   },
   "source": [
    "### 제어\n",
    "- 연산이 실행되는 순서대로 테이프에 기록되기 때문에 제어 가눙\n",
    "- if while, for문 "
   ]
  },
  {
   "cell_type": "code",
   "execution_count": 41,
   "metadata": {
    "id": "zQf2c1x6TFRK"
   },
   "outputs": [],
   "source": [
    "a=0\n",
    "with tf.GradientTape(persistent=True) as t: \n",
    "  if a==0:\n",
    "    \n",
    "    y=2*b #밖에 두면 안됨\n",
    "    z=y**2"
   ]
  },
  {
   "cell_type": "code",
   "execution_count": 42,
   "metadata": {
    "id": "7gls0zcRTjvg"
   },
   "outputs": [
    {
     "data": {
      "text/plain": [
       "<tf.Tensor: shape=(3,), dtype=float32, numpy=array([ 8., 16., 24.], dtype=float32)>"
      ]
     },
     "execution_count": 42,
     "metadata": {},
     "output_type": "execute_result"
    }
   ],
   "source": [
    "dy_db=t.gradient(z,b)  #z를 b로 미분\n",
    "dy_db      #Noen "
   ]
  },
  {
   "cell_type": "markdown",
   "metadata": {
    "id": "_N2pdUChUmdH"
   },
   "source": [
    "TensorFlow에서 제공하는 기능\n",
    "- Numpy 기반 사용하지 않음\n",
    "- tensorflow + pandas\n",
    "    - tensorflow 모델에 pandas 데이터 넣기 가능\n",
    "- scikit-learn + keras \n",
    "    - GPU 사용 가능하도록"
   ]
  },
  {
   "cell_type": "code",
   "execution_count": 43,
   "metadata": {
    "id": "CN01mRQ6UN3i"
   },
   "outputs": [],
   "source": [
    "import numpy as np\n",
    "c=np.array([1.,2,3])"
   ]
  },
  {
   "cell_type": "code",
   "execution_count": 44,
   "metadata": {
    "id": "QN1NV765VC02"
   },
   "outputs": [],
   "source": [
    "with tf.GradientTape(persistent=True) as t: \n",
    "  y=2*c"
   ]
  },
  {
   "cell_type": "code",
   "execution_count": 45,
   "metadata": {
    "colab": {
     "base_uri": "https://localhost:8080/",
     "height": 297
    },
    "id": "zNFcOts9VH_F",
    "outputId": "16f42ee5-a78a-4251-d817-f034bb1a7b6a"
   },
   "outputs": [
    {
     "ename": "AttributeError",
     "evalue": "'numpy.ndarray' object has no attribute '_id'",
     "output_type": "error",
     "traceback": [
      "\u001b[0;31m---------------------------------------------------------------------------\u001b[0m",
      "\u001b[0;31mAttributeError\u001b[0m                            Traceback (most recent call last)",
      "\u001b[0;32m<ipython-input-45-1eb11fe1e22b>\u001b[0m in \u001b[0;36m<module>\u001b[0;34m\u001b[0m\n\u001b[0;32m----> 1\u001b[0;31m \u001b[0mdy_dc\u001b[0m\u001b[0;34m=\u001b[0m\u001b[0mt\u001b[0m\u001b[0;34m.\u001b[0m\u001b[0mgradient\u001b[0m\u001b[0;34m(\u001b[0m\u001b[0my\u001b[0m\u001b[0;34m,\u001b[0m\u001b[0mc\u001b[0m\u001b[0;34m)\u001b[0m  \u001b[0;31m#Numpy ndarray 불가\u001b[0m\u001b[0;34m\u001b[0m\u001b[0;34m\u001b[0m\u001b[0m\n\u001b[0m\u001b[1;32m      2\u001b[0m \u001b[0mdy_dc\u001b[0m\u001b[0;34m\u001b[0m\u001b[0;34m\u001b[0m\u001b[0m\n",
      "\u001b[0;32m~/opt/anaconda3/lib/python3.7/site-packages/tensorflow/python/eager/backprop.py\u001b[0m in \u001b[0;36mgradient\u001b[0;34m(self, target, sources, output_gradients, unconnected_gradients)\u001b[0m\n\u001b[1;32m   1071\u001b[0m         \u001b[0moutput_gradients\u001b[0m\u001b[0;34m=\u001b[0m\u001b[0moutput_gradients\u001b[0m\u001b[0;34m,\u001b[0m\u001b[0;34m\u001b[0m\u001b[0;34m\u001b[0m\u001b[0m\n\u001b[1;32m   1072\u001b[0m         \u001b[0msources_raw\u001b[0m\u001b[0;34m=\u001b[0m\u001b[0mflat_sources_raw\u001b[0m\u001b[0;34m,\u001b[0m\u001b[0;34m\u001b[0m\u001b[0;34m\u001b[0m\u001b[0m\n\u001b[0;32m-> 1073\u001b[0;31m         unconnected_gradients=unconnected_gradients)\n\u001b[0m\u001b[1;32m   1074\u001b[0m \u001b[0;34m\u001b[0m\u001b[0m\n\u001b[1;32m   1075\u001b[0m     \u001b[0;32mif\u001b[0m \u001b[0;32mnot\u001b[0m \u001b[0mself\u001b[0m\u001b[0;34m.\u001b[0m\u001b[0m_persistent\u001b[0m\u001b[0;34m:\u001b[0m\u001b[0;34m\u001b[0m\u001b[0;34m\u001b[0m\u001b[0m\n",
      "\u001b[0;32m~/opt/anaconda3/lib/python3.7/site-packages/tensorflow/python/eager/imperative_grad.py\u001b[0m in \u001b[0;36mimperative_grad\u001b[0;34m(tape, target, sources, output_gradients, sources_raw, unconnected_gradients)\u001b[0m\n\u001b[1;32m     75\u001b[0m       \u001b[0moutput_gradients\u001b[0m\u001b[0;34m,\u001b[0m\u001b[0;34m\u001b[0m\u001b[0;34m\u001b[0m\u001b[0m\n\u001b[1;32m     76\u001b[0m       \u001b[0msources_raw\u001b[0m\u001b[0;34m,\u001b[0m\u001b[0;34m\u001b[0m\u001b[0;34m\u001b[0m\u001b[0m\n\u001b[0;32m---> 77\u001b[0;31m       compat.as_str(unconnected_gradients.value))\n\u001b[0m",
      "\u001b[0;31mAttributeError\u001b[0m: 'numpy.ndarray' object has no attribute '_id'"
     ]
    }
   ],
   "source": [
    "dy_dc=t.gradient(y,c)  #Numpy ndarray 불가\n",
    "dy_dc     "
   ]
  },
  {
   "cell_type": "markdown",
   "metadata": {},
   "source": [
    "## Custom training\n",
    "\n",
    "[맞춤 학습](https://www.tensorflow.org/tutorials/customization/custom_training_walkthrough?hl=ko)\n",
    "- 어떤 함수가 들어와도 미분 가능\n",
    "- 처음부터 만들지 않고 다양한 실험 할 수 있도록 다양한 체크포인트를 둠.\n",
    "\n",
    "\n",
    "### tf.data.Dataset 생성\n",
    "- TensorFlow Dataset로  tensor 로 바꿔야함\n",
    "    - tensorflow 에만 의존\n",
    "    - 고급기능 이용 가능\n",
    ">- Numpy기반을 바로 GPU호환 가능해지도록 시도"
   ]
  },
  {
   "cell_type": "code",
   "execution_count": 46,
   "metadata": {
    "id": "hrCX1TgtUKdF"
   },
   "outputs": [],
   "source": [
    "import seaborn as sns\n",
    "from sklearn import datasets\n",
    "iris=sns.load_dataset('iris')#pandas"
   ]
  },
  {
   "cell_type": "code",
   "execution_count": 47,
   "metadata": {
    "colab": {
     "base_uri": "https://localhost:8080/",
     "height": 33
    },
    "id": "f5iu1pZgVRGc",
    "outputId": "eee7d0f5-3945-4056-d706-64340c8d9bd7"
   },
   "outputs": [
    {
     "data": {
      "text/plain": [
       "<function tensorflow.python.data.ops.dataset_ops.DatasetV2.from_tensors(tensors)>"
      ]
     },
     "execution_count": 47,
     "metadata": {},
     "output_type": "execute_result"
    }
   ],
   "source": [
    "tf.data.Dataset.from_generator      \n",
    "tf.data.Dataset.from_tensor_slices #넘파이 포맷 받을 수 있음 \n",
    "tf.data.Dataset.from_tensors"
   ]
  },
  {
   "cell_type": "code",
   "execution_count": 48,
   "metadata": {
    "colab": {
     "base_uri": "https://localhost:8080/",
     "height": 1000
    },
    "id": "CbEoRQeeVzkp",
    "outputId": "0184f596-4065-4784-d4a1-cbfe09450ce3"
   },
   "outputs": [
    {
     "data": {
      "text/plain": [
       "array([[5.1, 3.5, 1.4, 0.2],\n",
       "       [4.9, 3. , 1.4, 0.2],\n",
       "       [4.7, 3.2, 1.3, 0.2],\n",
       "       [4.6, 3.1, 1.5, 0.2],\n",
       "       [5. , 3.6, 1.4, 0.2],\n",
       "       [5.4, 3.9, 1.7, 0.4],\n",
       "       [4.6, 3.4, 1.4, 0.3],\n",
       "       [5. , 3.4, 1.5, 0.2],\n",
       "       [4.4, 2.9, 1.4, 0.2],\n",
       "       [4.9, 3.1, 1.5, 0.1],\n",
       "       [5.4, 3.7, 1.5, 0.2],\n",
       "       [4.8, 3.4, 1.6, 0.2],\n",
       "       [4.8, 3. , 1.4, 0.1],\n",
       "       [4.3, 3. , 1.1, 0.1],\n",
       "       [5.8, 4. , 1.2, 0.2],\n",
       "       [5.7, 4.4, 1.5, 0.4],\n",
       "       [5.4, 3.9, 1.3, 0.4],\n",
       "       [5.1, 3.5, 1.4, 0.3],\n",
       "       [5.7, 3.8, 1.7, 0.3],\n",
       "       [5.1, 3.8, 1.5, 0.3],\n",
       "       [5.4, 3.4, 1.7, 0.2],\n",
       "       [5.1, 3.7, 1.5, 0.4],\n",
       "       [4.6, 3.6, 1. , 0.2],\n",
       "       [5.1, 3.3, 1.7, 0.5],\n",
       "       [4.8, 3.4, 1.9, 0.2],\n",
       "       [5. , 3. , 1.6, 0.2],\n",
       "       [5. , 3.4, 1.6, 0.4],\n",
       "       [5.2, 3.5, 1.5, 0.2],\n",
       "       [5.2, 3.4, 1.4, 0.2],\n",
       "       [4.7, 3.2, 1.6, 0.2],\n",
       "       [4.8, 3.1, 1.6, 0.2],\n",
       "       [5.4, 3.4, 1.5, 0.4],\n",
       "       [5.2, 4.1, 1.5, 0.1],\n",
       "       [5.5, 4.2, 1.4, 0.2],\n",
       "       [4.9, 3.1, 1.5, 0.2],\n",
       "       [5. , 3.2, 1.2, 0.2],\n",
       "       [5.5, 3.5, 1.3, 0.2],\n",
       "       [4.9, 3.6, 1.4, 0.1],\n",
       "       [4.4, 3. , 1.3, 0.2],\n",
       "       [5.1, 3.4, 1.5, 0.2],\n",
       "       [5. , 3.5, 1.3, 0.3],\n",
       "       [4.5, 2.3, 1.3, 0.3],\n",
       "       [4.4, 3.2, 1.3, 0.2],\n",
       "       [5. , 3.5, 1.6, 0.6],\n",
       "       [5.1, 3.8, 1.9, 0.4],\n",
       "       [4.8, 3. , 1.4, 0.3],\n",
       "       [5.1, 3.8, 1.6, 0.2],\n",
       "       [4.6, 3.2, 1.4, 0.2],\n",
       "       [5.3, 3.7, 1.5, 0.2],\n",
       "       [5. , 3.3, 1.4, 0.2],\n",
       "       [7. , 3.2, 4.7, 1.4],\n",
       "       [6.4, 3.2, 4.5, 1.5],\n",
       "       [6.9, 3.1, 4.9, 1.5],\n",
       "       [5.5, 2.3, 4. , 1.3],\n",
       "       [6.5, 2.8, 4.6, 1.5],\n",
       "       [5.7, 2.8, 4.5, 1.3],\n",
       "       [6.3, 3.3, 4.7, 1.6],\n",
       "       [4.9, 2.4, 3.3, 1. ],\n",
       "       [6.6, 2.9, 4.6, 1.3],\n",
       "       [5.2, 2.7, 3.9, 1.4],\n",
       "       [5. , 2. , 3.5, 1. ],\n",
       "       [5.9, 3. , 4.2, 1.5],\n",
       "       [6. , 2.2, 4. , 1. ],\n",
       "       [6.1, 2.9, 4.7, 1.4],\n",
       "       [5.6, 2.9, 3.6, 1.3],\n",
       "       [6.7, 3.1, 4.4, 1.4],\n",
       "       [5.6, 3. , 4.5, 1.5],\n",
       "       [5.8, 2.7, 4.1, 1. ],\n",
       "       [6.2, 2.2, 4.5, 1.5],\n",
       "       [5.6, 2.5, 3.9, 1.1],\n",
       "       [5.9, 3.2, 4.8, 1.8],\n",
       "       [6.1, 2.8, 4. , 1.3],\n",
       "       [6.3, 2.5, 4.9, 1.5],\n",
       "       [6.1, 2.8, 4.7, 1.2],\n",
       "       [6.4, 2.9, 4.3, 1.3],\n",
       "       [6.6, 3. , 4.4, 1.4],\n",
       "       [6.8, 2.8, 4.8, 1.4],\n",
       "       [6.7, 3. , 5. , 1.7],\n",
       "       [6. , 2.9, 4.5, 1.5],\n",
       "       [5.7, 2.6, 3.5, 1. ],\n",
       "       [5.5, 2.4, 3.8, 1.1],\n",
       "       [5.5, 2.4, 3.7, 1. ],\n",
       "       [5.8, 2.7, 3.9, 1.2],\n",
       "       [6. , 2.7, 5.1, 1.6],\n",
       "       [5.4, 3. , 4.5, 1.5],\n",
       "       [6. , 3.4, 4.5, 1.6],\n",
       "       [6.7, 3.1, 4.7, 1.5],\n",
       "       [6.3, 2.3, 4.4, 1.3],\n",
       "       [5.6, 3. , 4.1, 1.3],\n",
       "       [5.5, 2.5, 4. , 1.3],\n",
       "       [5.5, 2.6, 4.4, 1.2],\n",
       "       [6.1, 3. , 4.6, 1.4],\n",
       "       [5.8, 2.6, 4. , 1.2],\n",
       "       [5. , 2.3, 3.3, 1. ],\n",
       "       [5.6, 2.7, 4.2, 1.3],\n",
       "       [5.7, 3. , 4.2, 1.2],\n",
       "       [5.7, 2.9, 4.2, 1.3],\n",
       "       [6.2, 2.9, 4.3, 1.3],\n",
       "       [5.1, 2.5, 3. , 1.1],\n",
       "       [5.7, 2.8, 4.1, 1.3],\n",
       "       [6.3, 3.3, 6. , 2.5],\n",
       "       [5.8, 2.7, 5.1, 1.9],\n",
       "       [7.1, 3. , 5.9, 2.1],\n",
       "       [6.3, 2.9, 5.6, 1.8],\n",
       "       [6.5, 3. , 5.8, 2.2],\n",
       "       [7.6, 3. , 6.6, 2.1],\n",
       "       [4.9, 2.5, 4.5, 1.7],\n",
       "       [7.3, 2.9, 6.3, 1.8],\n",
       "       [6.7, 2.5, 5.8, 1.8],\n",
       "       [7.2, 3.6, 6.1, 2.5],\n",
       "       [6.5, 3.2, 5.1, 2. ],\n",
       "       [6.4, 2.7, 5.3, 1.9],\n",
       "       [6.8, 3. , 5.5, 2.1],\n",
       "       [5.7, 2.5, 5. , 2. ],\n",
       "       [5.8, 2.8, 5.1, 2.4],\n",
       "       [6.4, 3.2, 5.3, 2.3],\n",
       "       [6.5, 3. , 5.5, 1.8],\n",
       "       [7.7, 3.8, 6.7, 2.2],\n",
       "       [7.7, 2.6, 6.9, 2.3],\n",
       "       [6. , 2.2, 5. , 1.5],\n",
       "       [6.9, 3.2, 5.7, 2.3],\n",
       "       [5.6, 2.8, 4.9, 2. ],\n",
       "       [7.7, 2.8, 6.7, 2. ],\n",
       "       [6.3, 2.7, 4.9, 1.8],\n",
       "       [6.7, 3.3, 5.7, 2.1],\n",
       "       [7.2, 3.2, 6. , 1.8],\n",
       "       [6.2, 2.8, 4.8, 1.8],\n",
       "       [6.1, 3. , 4.9, 1.8],\n",
       "       [6.4, 2.8, 5.6, 2.1],\n",
       "       [7.2, 3. , 5.8, 1.6],\n",
       "       [7.4, 2.8, 6.1, 1.9],\n",
       "       [7.9, 3.8, 6.4, 2. ],\n",
       "       [6.4, 2.8, 5.6, 2.2],\n",
       "       [6.3, 2.8, 5.1, 1.5],\n",
       "       [6.1, 2.6, 5.6, 1.4],\n",
       "       [7.7, 3. , 6.1, 2.3],\n",
       "       [6.3, 3.4, 5.6, 2.4],\n",
       "       [6.4, 3.1, 5.5, 1.8],\n",
       "       [6. , 3. , 4.8, 1.8],\n",
       "       [6.9, 3.1, 5.4, 2.1],\n",
       "       [6.7, 3.1, 5.6, 2.4],\n",
       "       [6.9, 3.1, 5.1, 2.3],\n",
       "       [5.8, 2.7, 5.1, 1.9],\n",
       "       [6.8, 3.2, 5.9, 2.3],\n",
       "       [6.7, 3.3, 5.7, 2.5],\n",
       "       [6.7, 3. , 5.2, 2.3],\n",
       "       [6.3, 2.5, 5. , 1.9],\n",
       "       [6.5, 3. , 5.2, 2. ],\n",
       "       [6.2, 3.4, 5.4, 2.3],\n",
       "       [5.9, 3. , 5.1, 1.8]])"
      ]
     },
     "execution_count": 48,
     "metadata": {},
     "output_type": "execute_result"
    }
   ],
   "source": [
    "iris.iloc[:,:-1].values #넘파이"
   ]
  },
  {
   "cell_type": "code",
   "execution_count": 49,
   "metadata": {
    "colab": {
     "base_uri": "https://localhost:8080/",
     "height": 33
    },
    "id": "1gp4O62lWC_9",
    "outputId": "eb2431c3-fb29-4698-eb8a-b165a4ceecb1"
   },
   "outputs": [
    {
     "data": {
      "text/plain": [
       "<TensorSliceDataset shapes: (4,), types: tf.float64>"
      ]
     },
     "execution_count": 49,
     "metadata": {},
     "output_type": "execute_result"
    }
   ],
   "source": [
    "tf.data.Dataset.from_tensor_slices(iris.iloc[:,:-1].values) #텐서 (,4) input_shape"
   ]
  },
  {
   "cell_type": "code",
   "execution_count": 50,
   "metadata": {
    "colab": {
     "base_uri": "https://localhost:8080/",
     "height": 33
    },
    "id": "N__xiVkXV4PR",
    "outputId": "5b2d7f19-27c8-4e01-a997-5f938a957538"
   },
   "outputs": [
    {
     "data": {
      "text/plain": [
       "<TensorDataset shapes: (150, 4), types: tf.float64>"
      ]
     },
     "execution_count": 50,
     "metadata": {},
     "output_type": "execute_result"
    }
   ],
   "source": [
    "tf.data.Dataset.from_tensors(iris.iloc[:,:-1].values)      #텐서 (150,4)"
   ]
  },
  {
   "cell_type": "code",
   "execution_count": 51,
   "metadata": {
    "colab": {
     "base_uri": "https://localhost:8080/",
     "height": 1000
    },
    "id": "jdZB8eENWGm0",
    "outputId": "0c3ad0c8-812e-45d6-a279-105f6ef3860a"
   },
   "outputs": [
    {
     "data": {
      "text/plain": [
       "['T',\n",
       " '_AXIS_LEN',\n",
       " '_AXIS_NAMES',\n",
       " '_AXIS_NUMBERS',\n",
       " '_AXIS_ORDERS',\n",
       " '_AXIS_REVERSED',\n",
       " '_AXIS_TO_AXIS_NUMBER',\n",
       " '__abs__',\n",
       " '__add__',\n",
       " '__and__',\n",
       " '__annotations__',\n",
       " '__array__',\n",
       " '__array_priority__',\n",
       " '__array_wrap__',\n",
       " '__bool__',\n",
       " '__class__',\n",
       " '__contains__',\n",
       " '__copy__',\n",
       " '__deepcopy__',\n",
       " '__delattr__',\n",
       " '__delitem__',\n",
       " '__dict__',\n",
       " '__dir__',\n",
       " '__div__',\n",
       " '__doc__',\n",
       " '__eq__',\n",
       " '__finalize__',\n",
       " '__floordiv__',\n",
       " '__format__',\n",
       " '__ge__',\n",
       " '__getattr__',\n",
       " '__getattribute__',\n",
       " '__getitem__',\n",
       " '__getstate__',\n",
       " '__gt__',\n",
       " '__hash__',\n",
       " '__iadd__',\n",
       " '__iand__',\n",
       " '__ifloordiv__',\n",
       " '__imod__',\n",
       " '__imul__',\n",
       " '__init__',\n",
       " '__init_subclass__',\n",
       " '__invert__',\n",
       " '__ior__',\n",
       " '__ipow__',\n",
       " '__isub__',\n",
       " '__iter__',\n",
       " '__itruediv__',\n",
       " '__ixor__',\n",
       " '__le__',\n",
       " '__len__',\n",
       " '__lt__',\n",
       " '__matmul__',\n",
       " '__mod__',\n",
       " '__module__',\n",
       " '__mul__',\n",
       " '__ne__',\n",
       " '__neg__',\n",
       " '__new__',\n",
       " '__nonzero__',\n",
       " '__or__',\n",
       " '__pos__',\n",
       " '__pow__',\n",
       " '__radd__',\n",
       " '__rand__',\n",
       " '__rdiv__',\n",
       " '__reduce__',\n",
       " '__reduce_ex__',\n",
       " '__repr__',\n",
       " '__rfloordiv__',\n",
       " '__rmatmul__',\n",
       " '__rmod__',\n",
       " '__rmul__',\n",
       " '__ror__',\n",
       " '__round__',\n",
       " '__rpow__',\n",
       " '__rsub__',\n",
       " '__rtruediv__',\n",
       " '__rxor__',\n",
       " '__setattr__',\n",
       " '__setitem__',\n",
       " '__setstate__',\n",
       " '__sizeof__',\n",
       " '__str__',\n",
       " '__sub__',\n",
       " '__subclasshook__',\n",
       " '__truediv__',\n",
       " '__weakref__',\n",
       " '__xor__',\n",
       " '_accessors',\n",
       " '_add_numeric_operations',\n",
       " '_add_series_or_dataframe_operations',\n",
       " '_agg_by_level',\n",
       " '_agg_examples_doc',\n",
       " '_agg_summary_and_see_also_doc',\n",
       " '_aggregate',\n",
       " '_aggregate_multiple_funcs',\n",
       " '_align_frame',\n",
       " '_align_series',\n",
       " '_box_col_values',\n",
       " '_builtin_table',\n",
       " '_can_fast_transpose',\n",
       " '_check_inplace_setting',\n",
       " '_check_is_chained_assignment_possible',\n",
       " '_check_label_or_level_ambiguity',\n",
       " '_check_setitem_copy',\n",
       " '_clear_item_cache',\n",
       " '_clip_with_one_bound',\n",
       " '_clip_with_scalar',\n",
       " '_combine_frame',\n",
       " '_consolidate',\n",
       " '_consolidate_inplace',\n",
       " '_construct_axes_dict',\n",
       " '_construct_axes_from_arguments',\n",
       " '_construct_result',\n",
       " '_constructor',\n",
       " '_constructor_expanddim',\n",
       " '_constructor_sliced',\n",
       " '_convert',\n",
       " '_count_level',\n",
       " '_cython_table',\n",
       " '_data',\n",
       " '_deprecations',\n",
       " '_dir_additions',\n",
       " '_dir_deletions',\n",
       " '_drop_axis',\n",
       " '_drop_labels_or_levels',\n",
       " '_ensure_valid_index',\n",
       " '_find_valid_index',\n",
       " '_from_arrays',\n",
       " '_get_agg_axis',\n",
       " '_get_axis',\n",
       " '_get_axis_name',\n",
       " '_get_axis_number',\n",
       " '_get_axis_resolvers',\n",
       " '_get_block_manager_axis',\n",
       " '_get_bool_data',\n",
       " '_get_cacher',\n",
       " '_get_cleaned_column_resolvers',\n",
       " '_get_column_array',\n",
       " '_get_cython_func',\n",
       " '_get_index_resolvers',\n",
       " '_get_item_cache',\n",
       " '_get_label_or_level_values',\n",
       " '_get_numeric_data',\n",
       " '_get_value',\n",
       " '_getitem_bool_array',\n",
       " '_getitem_multilevel',\n",
       " '_gotitem',\n",
       " '_indexed_same',\n",
       " '_info_axis',\n",
       " '_info_axis_name',\n",
       " '_info_axis_number',\n",
       " '_info_repr',\n",
       " '_init_mgr',\n",
       " '_internal_names',\n",
       " '_internal_names_set',\n",
       " '_is_builtin_func',\n",
       " '_is_cached',\n",
       " '_is_copy',\n",
       " '_is_homogeneous_type',\n",
       " '_is_label_or_level_reference',\n",
       " '_is_label_reference',\n",
       " '_is_level_reference',\n",
       " '_is_mixed_type',\n",
       " '_is_view',\n",
       " '_iset_item',\n",
       " '_iter_column_arrays',\n",
       " '_ix',\n",
       " '_ixs',\n",
       " '_join_compat',\n",
       " '_maybe_cache_changed',\n",
       " '_maybe_update_cacher',\n",
       " '_metadata',\n",
       " '_needs_reindex_multi',\n",
       " '_obj_with_exclusions',\n",
       " '_protect_consolidate',\n",
       " '_reduce',\n",
       " '_reindex_axes',\n",
       " '_reindex_columns',\n",
       " '_reindex_index',\n",
       " '_reindex_multi',\n",
       " '_reindex_with_indexers',\n",
       " '_replace_columnwise',\n",
       " '_repr_data_resource_',\n",
       " '_repr_fits_horizontal_',\n",
       " '_repr_fits_vertical_',\n",
       " '_repr_html_',\n",
       " '_repr_latex_',\n",
       " '_reset_cache',\n",
       " '_reset_cacher',\n",
       " '_sanitize_column',\n",
       " '_selected_obj',\n",
       " '_selection',\n",
       " '_selection_list',\n",
       " '_selection_name',\n",
       " '_series',\n",
       " '_set_as_cached',\n",
       " '_set_axis',\n",
       " '_set_axis_name',\n",
       " '_set_is_copy',\n",
       " '_set_item',\n",
       " '_set_value',\n",
       " '_setitem_array',\n",
       " '_setitem_frame',\n",
       " '_setitem_slice',\n",
       " '_slice',\n",
       " '_stat_axis',\n",
       " '_stat_axis_name',\n",
       " '_stat_axis_number',\n",
       " '_take_with_is_copy',\n",
       " '_to_dict_of_blocks',\n",
       " '_try_aggregate_string_function',\n",
       " '_typ',\n",
       " '_update_inplace',\n",
       " '_validate_dtype',\n",
       " '_values',\n",
       " '_where',\n",
       " 'abs',\n",
       " 'add',\n",
       " 'add_prefix',\n",
       " 'add_suffix',\n",
       " 'agg',\n",
       " 'aggregate',\n",
       " 'align',\n",
       " 'all',\n",
       " 'any',\n",
       " 'append',\n",
       " 'apply',\n",
       " 'applymap',\n",
       " 'asfreq',\n",
       " 'asof',\n",
       " 'assign',\n",
       " 'astype',\n",
       " 'at',\n",
       " 'at_time',\n",
       " 'attrs',\n",
       " 'axes',\n",
       " 'backfill',\n",
       " 'between_time',\n",
       " 'bfill',\n",
       " 'bool',\n",
       " 'boxplot',\n",
       " 'clip',\n",
       " 'columns',\n",
       " 'combine',\n",
       " 'combine_first',\n",
       " 'compare',\n",
       " 'convert_dtypes',\n",
       " 'copy',\n",
       " 'corr',\n",
       " 'corrwith',\n",
       " 'count',\n",
       " 'cov',\n",
       " 'cummax',\n",
       " 'cummin',\n",
       " 'cumprod',\n",
       " 'cumsum',\n",
       " 'describe',\n",
       " 'diff',\n",
       " 'div',\n",
       " 'divide',\n",
       " 'dot',\n",
       " 'drop',\n",
       " 'drop_duplicates',\n",
       " 'droplevel',\n",
       " 'dropna',\n",
       " 'dtypes',\n",
       " 'duplicated',\n",
       " 'empty',\n",
       " 'eq',\n",
       " 'equals',\n",
       " 'eval',\n",
       " 'ewm',\n",
       " 'expanding',\n",
       " 'explode',\n",
       " 'ffill',\n",
       " 'fillna',\n",
       " 'filter',\n",
       " 'first',\n",
       " 'first_valid_index',\n",
       " 'floordiv',\n",
       " 'from_dict',\n",
       " 'from_records',\n",
       " 'ge',\n",
       " 'get',\n",
       " 'groupby',\n",
       " 'gt',\n",
       " 'head',\n",
       " 'hist',\n",
       " 'iat',\n",
       " 'idxmax',\n",
       " 'idxmin',\n",
       " 'iloc',\n",
       " 'index',\n",
       " 'infer_objects',\n",
       " 'info',\n",
       " 'insert',\n",
       " 'interpolate',\n",
       " 'isin',\n",
       " 'isna',\n",
       " 'isnull',\n",
       " 'items',\n",
       " 'iteritems',\n",
       " 'iterrows',\n",
       " 'itertuples',\n",
       " 'join',\n",
       " 'keys',\n",
       " 'kurt',\n",
       " 'kurtosis',\n",
       " 'last',\n",
       " 'last_valid_index',\n",
       " 'le',\n",
       " 'loc',\n",
       " 'lookup',\n",
       " 'lt',\n",
       " 'mad',\n",
       " 'mask',\n",
       " 'max',\n",
       " 'mean',\n",
       " 'median',\n",
       " 'melt',\n",
       " 'memory_usage',\n",
       " 'merge',\n",
       " 'min',\n",
       " 'mod',\n",
       " 'mode',\n",
       " 'mul',\n",
       " 'multiply',\n",
       " 'ndim',\n",
       " 'ne',\n",
       " 'nlargest',\n",
       " 'notna',\n",
       " 'notnull',\n",
       " 'nsmallest',\n",
       " 'nunique',\n",
       " 'pad',\n",
       " 'pct_change',\n",
       " 'petal_length',\n",
       " 'petal_width',\n",
       " 'pipe',\n",
       " 'pivot',\n",
       " 'pivot_table',\n",
       " 'plot',\n",
       " 'pop',\n",
       " 'pow',\n",
       " 'prod',\n",
       " 'product',\n",
       " 'quantile',\n",
       " 'query',\n",
       " 'radd',\n",
       " 'rank',\n",
       " 'rdiv',\n",
       " 'reindex',\n",
       " 'reindex_like',\n",
       " 'rename',\n",
       " 'rename_axis',\n",
       " 'reorder_levels',\n",
       " 'replace',\n",
       " 'resample',\n",
       " 'reset_index',\n",
       " 'rfloordiv',\n",
       " 'rmod',\n",
       " 'rmul',\n",
       " 'rolling',\n",
       " 'round',\n",
       " 'rpow',\n",
       " 'rsub',\n",
       " 'rtruediv',\n",
       " 'sample',\n",
       " 'select_dtypes',\n",
       " 'sem',\n",
       " 'sepal_length',\n",
       " 'sepal_width',\n",
       " 'set_axis',\n",
       " 'set_index',\n",
       " 'shape',\n",
       " 'shift',\n",
       " 'size',\n",
       " 'skew',\n",
       " 'slice_shift',\n",
       " 'sort_index',\n",
       " 'sort_values',\n",
       " 'species',\n",
       " 'squeeze',\n",
       " 'stack',\n",
       " 'std',\n",
       " 'style',\n",
       " 'sub',\n",
       " 'subtract',\n",
       " 'sum',\n",
       " 'swapaxes',\n",
       " 'swaplevel',\n",
       " 'tail',\n",
       " 'take',\n",
       " 'to_clipboard',\n",
       " 'to_csv',\n",
       " 'to_dict',\n",
       " 'to_excel',\n",
       " 'to_feather',\n",
       " 'to_gbq',\n",
       " 'to_hdf',\n",
       " 'to_html',\n",
       " 'to_json',\n",
       " 'to_latex',\n",
       " 'to_markdown',\n",
       " 'to_numpy',\n",
       " 'to_parquet',\n",
       " 'to_period',\n",
       " 'to_pickle',\n",
       " 'to_records',\n",
       " 'to_sql',\n",
       " 'to_stata',\n",
       " 'to_string',\n",
       " 'to_timestamp',\n",
       " 'to_xarray',\n",
       " 'transform',\n",
       " 'transpose',\n",
       " 'truediv',\n",
       " 'truncate',\n",
       " 'tz_convert',\n",
       " 'tz_localize',\n",
       " 'unstack',\n",
       " 'update',\n",
       " 'value_counts',\n",
       " 'values',\n",
       " 'var',\n",
       " 'where',\n",
       " 'xs']"
      ]
     },
     "execution_count": 51,
     "metadata": {},
     "output_type": "execute_result"
    }
   ],
   "source": [
    "dir(iris) #__iter__ -> iterable -> iter()"
   ]
  },
  {
   "cell_type": "code",
   "execution_count": 52,
   "metadata": {
    "colab": {
     "base_uri": "https://localhost:8080/",
     "height": 33
    },
    "id": "-NdqOywUWUss",
    "outputId": "1193f5ee-5196-4406-d50a-dbc1e3f365a0"
   },
   "outputs": [
    {
     "data": {
      "text/plain": [
       "<map at 0x7ff3571e4990>"
      ]
     },
     "execution_count": 52,
     "metadata": {},
     "output_type": "execute_result"
    }
   ],
   "source": [
    "iter(iris)"
   ]
  },
  {
   "cell_type": "markdown",
   "metadata": {
    "id": "zHHu81qOWoO4"
   },
   "source": [
    "generator 만드는 방식 두가지 comprehension , yield"
   ]
  },
  {
   "cell_type": "code",
   "execution_count": 53,
   "metadata": {
    "colab": {
     "base_uri": "https://localhost:8080/",
     "height": 290
    },
    "id": "ApHDFh3uWWDm",
    "outputId": "fddf2d94-f41d-4276-947e-f49ae9afc41d"
   },
   "outputs": [
    {
     "ename": "TypeError",
     "evalue": "`generator` must be callable.",
     "output_type": "error",
     "traceback": [
      "\u001b[0;31m---------------------------------------------------------------------------\u001b[0m",
      "\u001b[0;31mTypeError\u001b[0m                                 Traceback (most recent call last)",
      "\u001b[0;32m<ipython-input-53-5b1f1182fb76>\u001b[0m in \u001b[0;36m<module>\u001b[0;34m\u001b[0m\n\u001b[0;32m----> 1\u001b[0;31m \u001b[0mtf\u001b[0m\u001b[0;34m.\u001b[0m\u001b[0mdata\u001b[0m\u001b[0;34m.\u001b[0m\u001b[0mDataset\u001b[0m\u001b[0;34m.\u001b[0m\u001b[0mfrom_generator\u001b[0m\u001b[0;34m(\u001b[0m \u001b[0miter\u001b[0m\u001b[0;34m(\u001b[0m\u001b[0miris\u001b[0m\u001b[0;34m)\u001b[0m\u001b[0;34m,\u001b[0m \u001b[0;34m(\u001b[0m\u001b[0mtf\u001b[0m\u001b[0;34m.\u001b[0m\u001b[0mfloat32\u001b[0m\u001b[0;34m,\u001b[0m\u001b[0mtf\u001b[0m\u001b[0;34m.\u001b[0m\u001b[0mfloat32\u001b[0m\u001b[0;34m)\u001b[0m\u001b[0;34m)\u001b[0m\u001b[0;34m\u001b[0m\u001b[0;34m\u001b[0m\u001b[0m\n\u001b[0m",
      "\u001b[0;32m~/opt/anaconda3/lib/python3.7/site-packages/tensorflow/python/data/ops/dataset_ops.py\u001b[0m in \u001b[0;36mfrom_generator\u001b[0;34m(generator, output_types, output_shapes, args)\u001b[0m\n\u001b[1;32m    774\u001b[0m     \"\"\"\n\u001b[1;32m    775\u001b[0m     \u001b[0;32mif\u001b[0m \u001b[0;32mnot\u001b[0m \u001b[0mcallable\u001b[0m\u001b[0;34m(\u001b[0m\u001b[0mgenerator\u001b[0m\u001b[0;34m)\u001b[0m\u001b[0;34m:\u001b[0m\u001b[0;34m\u001b[0m\u001b[0;34m\u001b[0m\u001b[0m\n\u001b[0;32m--> 776\u001b[0;31m       \u001b[0;32mraise\u001b[0m \u001b[0mTypeError\u001b[0m\u001b[0;34m(\u001b[0m\u001b[0;34m\"`generator` must be callable.\"\u001b[0m\u001b[0;34m)\u001b[0m\u001b[0;34m\u001b[0m\u001b[0;34m\u001b[0m\u001b[0m\n\u001b[0m\u001b[1;32m    777\u001b[0m     \u001b[0;32mif\u001b[0m \u001b[0moutput_shapes\u001b[0m \u001b[0;32mis\u001b[0m \u001b[0;32mNone\u001b[0m\u001b[0;34m:\u001b[0m\u001b[0;34m\u001b[0m\u001b[0;34m\u001b[0m\u001b[0m\n\u001b[1;32m    778\u001b[0m       output_shapes = nest.map_structure(\n",
      "\u001b[0;31mTypeError\u001b[0m: `generator` must be callable."
     ]
    }
   ],
   "source": [
    "tf.data.Dataset.from_generator( iter(iris), (tf.float32,tf.float32)) "
   ]
  },
  {
   "cell_type": "code",
   "execution_count": 54,
   "metadata": {
    "id": "ZNKH5nroWgF_"
   },
   "outputs": [],
   "source": [
    "#generator \n",
    "def x():\n",
    "  yield 1\n",
    "  yield 2"
   ]
  },
  {
   "cell_type": "code",
   "execution_count": 55,
   "metadata": {
    "colab": {
     "base_uri": "https://localhost:8080/",
     "height": 33
    },
    "id": "U3qOLmCbWvqP",
    "outputId": "011c7061-e835-480f-8968-778f0a107f34"
   },
   "outputs": [
    {
     "data": {
      "text/plain": [
       "<generator object x at 0x7ff34ea79150>"
      ]
     },
     "execution_count": 55,
     "metadata": {},
     "output_type": "execute_result"
    }
   ],
   "source": [
    "x() #callable"
   ]
  },
  {
   "cell_type": "code",
   "execution_count": 56,
   "metadata": {
    "id": "gItzJnV6WwHv"
   },
   "outputs": [],
   "source": [
    "def gen():\n",
    "  for i in iris.iterrows(): \n",
    "    yield i "
   ]
  },
  {
   "cell_type": "code",
   "execution_count": 57,
   "metadata": {
    "id": "EVKwpAooW3w-"
   },
   "outputs": [],
   "source": [
    "x= gen() #x callable "
   ]
  },
  {
   "cell_type": "code",
   "execution_count": 58,
   "metadata": {
    "colab": {
     "base_uri": "https://localhost:8080/",
     "height": 115
    },
    "id": "3YVlmh5TXDUt",
    "outputId": "9df021a8-40ba-416e-ef0b-64ee29da1f7a"
   },
   "outputs": [
    {
     "data": {
      "text/plain": [
       "(0,\n",
       " sepal_length       5.1\n",
       " sepal_width        3.5\n",
       " petal_length       1.4\n",
       " petal_width        0.2\n",
       " species         setosa\n",
       " Name: 0, dtype: object)"
      ]
     },
     "execution_count": 58,
     "metadata": {},
     "output_type": "execute_result"
    }
   ],
   "source": [
    "next(x) # 0th row"
   ]
  },
  {
   "cell_type": "code",
   "execution_count": 59,
   "metadata": {},
   "outputs": [
    {
     "data": {
      "text/plain": [
       "<FlatMapDataset shapes: (<unknown>, <unknown>), types: (tf.float32, tf.float32)>"
      ]
     },
     "execution_count": 59,
     "metadata": {},
     "output_type": "execute_result"
    }
   ],
   "source": [
    "tf.data.Dataset.from_generator( gen, (tf.float32,tf.float32))"
   ]
  },
  {
   "cell_type": "markdown",
   "metadata": {
    "id": "_WOGKKtpXOGN"
   },
   "source": [
    "### 모델 학습\n",
    "- fit, train_on_batch\n",
    "    - callbacks \n",
    "    - multi-inputs, outputs 인 복잡한 모델에는  loss function 커스터마이징 하면 적용 불가한 경우가 많음.\n",
    "    - eg. style transfer\n",
    "\n",
    "\n",
    "- tf.GradientTape\n",
    "    - 동적 사용 \n",
    "    - tensorflow 에만 의존\n",
    "    - 고급기능 이용"
   ]
  },
  {
   "cell_type": "code",
   "execution_count": 170,
   "metadata": {
    "id": "HtjVjp7xXliN"
   },
   "outputs": [],
   "source": [
    "# Sequential model\n",
    "model=tf.keras.models.Sequential([\n",
    "                              tf.keras.layers.Dense(10,activation='relu',\n",
    "                                                    input_shape=(4,)),\n",
    "                              tf.keras.layers.Dense(10,activation='relu'),\n",
    "                              tf.keras.layers.Dense(3,activation='softmax')\n",
    "\n",
    "\n",
    "]) "
   ]
  },
  {
   "cell_type": "code",
   "execution_count": 171,
   "metadata": {
    "id": "2bbebJKhX3Ci"
   },
   "outputs": [],
   "source": [
    "# 컴파일 학습 전략 - loss, optimizer, metrics 형태 고정\n",
    "model.compile(loss='sparse_categorical_crossentropy',optimizer='adam')"
   ]
  },
  {
   "cell_type": "code",
   "execution_count": 63,
   "metadata": {
    "id": "AwH1zmTNYKVV"
   },
   "outputs": [],
   "source": [
    "#label encoding \n",
    "iris.species= iris.species.map({'setosa':0, 'versicolor':1,'virginica':2})"
   ]
  },
  {
   "cell_type": "code",
   "execution_count": 65,
   "metadata": {
    "colab": {
     "base_uri": "https://localhost:8080/",
     "height": 196
    },
    "id": "qkwTJVXwd2GK",
    "outputId": "1d80f926-62ab-42be-ff01-4dc61d413cff"
   },
   "outputs": [
    {
     "name": "stdout",
     "output_type": "stream",
     "text": [
      "Epoch 1/5\n",
      "5/5 [==============================] - 0s 2ms/step - loss: 1.6079\n",
      "Epoch 2/5\n",
      "5/5 [==============================] - 0s 3ms/step - loss: 1.4893\n",
      "Epoch 3/5\n",
      "5/5 [==============================] - 0s 4ms/step - loss: 1.3869\n",
      "Epoch 4/5\n",
      "5/5 [==============================] - 0s 4ms/step - loss: 1.3119\n",
      "Epoch 5/5\n",
      "5/5 [==============================] - 0s 3ms/step - loss: 1.2396\n"
     ]
    },
    {
     "data": {
      "text/plain": [
       "<tensorflow.python.keras.callbacks.History at 0x7ff3595bc950>"
      ]
     },
     "execution_count": 65,
     "metadata": {},
     "output_type": "execute_result"
    }
   ],
   "source": [
    "model.fit(iris.iloc[:,:-1],iris.species,epochs=5)#pandas 연동 문제 없음"
   ]
  },
  {
   "cell_type": "markdown",
   "metadata": {
    "id": "F-VElXHpeuGS"
   },
   "source": [
    "train_on_batch\n",
    "- 한번 실행 시 singe batch size만큼 학습\n",
    "- fit > train_on_batch\n",
    "- for 돌리면 epochs 처럼 돌리기 가능\n",
    "    - if 제어 가능\n",
    "    -  값 변화 관찰 가능"
   ]
  },
  {
   "cell_type": "code",
   "execution_count": 66,
   "metadata": {
    "colab": {
     "base_uri": "https://localhost:8080/",
     "height": 33
    },
    "id": "BHNkyb8teH8t",
    "outputId": "3ebc8235-ce2c-4de3-adc8-e122f4711506"
   },
   "outputs": [
    {
     "data": {
      "text/plain": [
       "1.2233163118362427"
      ]
     },
     "execution_count": 66,
     "metadata": {},
     "output_type": "execute_result"
    }
   ],
   "source": [
    "model.train_on_batch(iris.iloc[:,:-1],iris.species) \n",
    "#1 epoch "
   ]
  },
  {
   "cell_type": "code",
   "execution_count": 67,
   "metadata": {
    "colab": {
     "base_uri": "https://localhost:8080/",
     "height": 180
    },
    "id": "gqkpTrVUePIP",
    "outputId": "4e40ca6c-529c-45bc-acf3-1b9f6f07c68e"
   },
   "outputs": [
    {
     "name": "stdout",
     "output_type": "stream",
     "text": [
      "1.1968495845794678\n",
      "1.1870957612991333\n",
      "1.1778061389923096\n",
      "1.1689541339874268\n",
      "1.160499930381775\n",
      "1.1524028778076172\n",
      "1.1446696519851685\n",
      "1.1372160911560059\n",
      "1.130065679550171\n",
      "1.1231932640075684\n"
     ]
    }
   ],
   "source": [
    "for i in range(10): # 10번 학습\n",
    "  print(model.train_on_batch(iris.iloc[:,:-1],iris.species))"
   ]
  },
  {
   "cell_type": "code",
   "execution_count": 68,
   "metadata": {
    "colab": {
     "base_uri": "https://localhost:8080/",
     "height": 1000
    },
    "id": "X8GRBHUqe_Q0",
    "outputId": "3d6cb4ac-0af3-4976-e2c5-a2e6897dc543"
   },
   "outputs": [
    {
     "data": {
      "text/plain": [
       "['_TF_MODULE_IGNORED_PROPERTIES',\n",
       " '__call__',\n",
       " '__class__',\n",
       " '__delattr__',\n",
       " '__dict__',\n",
       " '__dir__',\n",
       " '__doc__',\n",
       " '__eq__',\n",
       " '__format__',\n",
       " '__ge__',\n",
       " '__getattribute__',\n",
       " '__getstate__',\n",
       " '__gt__',\n",
       " '__hash__',\n",
       " '__init__',\n",
       " '__init_subclass__',\n",
       " '__le__',\n",
       " '__lt__',\n",
       " '__module__',\n",
       " '__ne__',\n",
       " '__new__',\n",
       " '__reduce__',\n",
       " '__reduce_ex__',\n",
       " '__repr__',\n",
       " '__setattr__',\n",
       " '__setstate__',\n",
       " '__sizeof__',\n",
       " '__str__',\n",
       " '__subclasshook__',\n",
       " '__weakref__',\n",
       " '_activity_regularizer',\n",
       " '_add_trackable',\n",
       " '_add_variable_with_custom_getter',\n",
       " '_assert_compile_was_called',\n",
       " '_assert_weights_created',\n",
       " '_auto_track_sub_layers',\n",
       " '_autocast',\n",
       " '_autographed_call',\n",
       " '_base_model_initialized',\n",
       " '_build_graph_network_for_inferred_shape',\n",
       " '_build_input_shape',\n",
       " '_call_accepts_kwargs',\n",
       " '_call_arg_was_passed',\n",
       " '_call_fn_arg_defaults',\n",
       " '_call_fn_arg_positions',\n",
       " '_call_fn_args',\n",
       " '_call_full_argspec',\n",
       " '_callable_losses',\n",
       " '_cast_single_input',\n",
       " '_check_call_args',\n",
       " '_checkpoint_dependencies',\n",
       " '_clear_losses',\n",
       " '_compile_was_called',\n",
       " '_compiled_trainable_state',\n",
       " '_compute_dtype',\n",
       " '_compute_dtype_object',\n",
       " '_compute_output_and_mask_jointly',\n",
       " '_compute_tensor_usage_count',\n",
       " '_configure_steps_per_execution',\n",
       " '_conform_to_reference_input',\n",
       " '_created_nodes',\n",
       " '_dedup_weights',\n",
       " '_default_training_arg',\n",
       " '_deferred_dependencies',\n",
       " '_distribution_strategy',\n",
       " '_dtype',\n",
       " '_dtype_defaulted_to_floatx',\n",
       " '_dtype_policy',\n",
       " '_dynamic',\n",
       " '_eager_losses',\n",
       " '_enable_dict_to_input_mapping',\n",
       " '_expects_mask_arg',\n",
       " '_expects_training_arg',\n",
       " '_feed_input_names',\n",
       " '_feed_input_shapes',\n",
       " '_feed_inputs',\n",
       " '_flatten',\n",
       " '_flatten_layers',\n",
       " '_flatten_to_reference_inputs',\n",
       " '_functional_construction_call',\n",
       " '_gather_children_attribute',\n",
       " '_gather_saveables_for_checkpoint',\n",
       " '_get_call_arg_value',\n",
       " '_get_callback_model',\n",
       " '_get_compile_args',\n",
       " '_get_distribution_strategy',\n",
       " '_get_existing_metric',\n",
       " '_get_input_masks',\n",
       " '_get_node_attribute_at_index',\n",
       " '_get_optimizer',\n",
       " '_get_save_spec',\n",
       " '_get_trainable_state',\n",
       " '_graph_initialized',\n",
       " '_graph_network_add_loss',\n",
       " '_graph_network_add_metric',\n",
       " '_handle_activity_regularization',\n",
       " '_handle_deferred_dependencies',\n",
       " '_handle_deferred_layer_dependencies',\n",
       " '_handle_weight_regularization',\n",
       " '_has_explicit_input_shape',\n",
       " '_in_multi_worker_mode',\n",
       " '_inbound_nodes',\n",
       " '_infer_output_signature',\n",
       " '_inferred_input_shape',\n",
       " '_init_batch_counters',\n",
       " '_init_call_fn_args',\n",
       " '_init_graph_network',\n",
       " '_init_set_name',\n",
       " '_initial_weights',\n",
       " '_input_coordinates',\n",
       " '_input_dtype',\n",
       " '_input_layers',\n",
       " '_input_spec',\n",
       " '_insert_layers',\n",
       " '_is_compiled',\n",
       " '_is_graph_network',\n",
       " '_is_layer',\n",
       " '_is_layer_name_unique',\n",
       " '_keras_api_names',\n",
       " '_keras_api_names_v1',\n",
       " '_keras_tensor_symbolic_call',\n",
       " '_layer_call_argspecs',\n",
       " '_layer_checkpoint_dependencies',\n",
       " '_layers',\n",
       " '_list_extra_dependencies_for_serialization',\n",
       " '_list_functions_for_serialization',\n",
       " '_lookup_dependency',\n",
       " '_losses',\n",
       " '_map_resources',\n",
       " '_maybe_build',\n",
       " '_maybe_cast_inputs',\n",
       " '_maybe_create_attribute',\n",
       " '_maybe_initialize_trackable',\n",
       " '_maybe_load_initial_epoch_from_ckpt',\n",
       " '_metrics',\n",
       " '_metrics_lock',\n",
       " '_must_restore_from_config',\n",
       " '_name',\n",
       " '_name_based_attribute_restore',\n",
       " '_name_based_restores',\n",
       " '_name_scope',\n",
       " '_nested_inputs',\n",
       " '_nested_outputs',\n",
       " '_network_nodes',\n",
       " '_no_dependency',\n",
       " '_nodes_by_depth',\n",
       " '_non_trainable_weights',\n",
       " '_obj_reference_counts',\n",
       " '_obj_reference_counts_dict',\n",
       " '_object_identifier',\n",
       " '_outbound_nodes',\n",
       " '_output_coordinates',\n",
       " '_output_layers',\n",
       " '_output_mask_cache',\n",
       " '_output_shape_cache',\n",
       " '_output_tensor_cache',\n",
       " '_predict_counter',\n",
       " '_preload_simple_restoration',\n",
       " '_reset_compile_cache',\n",
       " '_restore_from_checkpoint_position',\n",
       " '_run_eagerly',\n",
       " '_run_internal_graph',\n",
       " '_saved_model_inputs_spec',\n",
       " '_self_name_based_restores',\n",
       " '_self_saveable_object_factories',\n",
       " '_self_setattr_tracking',\n",
       " '_self_unconditional_checkpoint_dependencies',\n",
       " '_self_unconditional_deferred_dependencies',\n",
       " '_self_unconditional_dependency_names',\n",
       " '_self_update_uid',\n",
       " '_set_call_arg_value',\n",
       " '_set_connectivity_metadata',\n",
       " '_set_dtype_policy',\n",
       " '_set_inputs',\n",
       " '_set_mask_keras_history_checked',\n",
       " '_set_mask_metadata',\n",
       " '_set_output_names',\n",
       " '_set_save_spec',\n",
       " '_set_trainable_state',\n",
       " '_set_training_mode',\n",
       " '_setattr_tracking',\n",
       " '_should_cast_single_input',\n",
       " '_should_compute_mask',\n",
       " '_should_eval',\n",
       " '_single_restoration_from_checkpoint_position',\n",
       " '_split_out_first_arg',\n",
       " '_stateful',\n",
       " '_steps_per_execution',\n",
       " '_supports_masking',\n",
       " '_symbolic_call',\n",
       " '_tensor_usage_count',\n",
       " '_test_counter',\n",
       " '_tf_api_names',\n",
       " '_tf_api_names_v1',\n",
       " '_thread_local',\n",
       " '_track_trackable',\n",
       " '_trackable_saved_model_saver',\n",
       " '_trackable_saver',\n",
       " '_tracking_metadata',\n",
       " '_train_counter',\n",
       " '_trainable',\n",
       " '_trainable_weights',\n",
       " '_training_state',\n",
       " '_unconditional_checkpoint_dependencies',\n",
       " '_unconditional_dependency_names',\n",
       " '_undeduplicated_weights',\n",
       " '_update_uid',\n",
       " '_updated_config',\n",
       " '_updates',\n",
       " '_use_legacy_deferred_behavior',\n",
       " '_validate_compile',\n",
       " '_validate_graph_inputs_and_outputs',\n",
       " '_warn_about_input_casting',\n",
       " 'activity_regularizer',\n",
       " 'add',\n",
       " 'add_loss',\n",
       " 'add_metric',\n",
       " 'add_update',\n",
       " 'add_variable',\n",
       " 'add_weight',\n",
       " 'apply',\n",
       " 'build',\n",
       " 'built',\n",
       " 'call',\n",
       " 'compile',\n",
       " 'compiled_loss',\n",
       " 'compiled_metrics',\n",
       " 'compute_mask',\n",
       " 'compute_output_shape',\n",
       " 'compute_output_signature',\n",
       " 'count_params',\n",
       " 'distribute_strategy',\n",
       " 'dtype',\n",
       " 'dynamic',\n",
       " 'evaluate',\n",
       " 'evaluate_generator',\n",
       " 'fit',\n",
       " 'fit_generator',\n",
       " 'from_config',\n",
       " 'get_config',\n",
       " 'get_input_at',\n",
       " 'get_input_mask_at',\n",
       " 'get_input_shape_at',\n",
       " 'get_layer',\n",
       " 'get_losses_for',\n",
       " 'get_output_at',\n",
       " 'get_output_mask_at',\n",
       " 'get_output_shape_at',\n",
       " 'get_updates_for',\n",
       " 'get_weights',\n",
       " 'history',\n",
       " 'inbound_nodes',\n",
       " 'input',\n",
       " 'input_mask',\n",
       " 'input_names',\n",
       " 'input_shape',\n",
       " 'input_spec',\n",
       " 'inputs',\n",
       " 'layers',\n",
       " 'load_weights',\n",
       " 'loss',\n",
       " 'losses',\n",
       " 'make_predict_function',\n",
       " 'make_test_function',\n",
       " 'make_train_function',\n",
       " 'metrics',\n",
       " 'metrics_names',\n",
       " 'name',\n",
       " 'name_scope',\n",
       " 'non_trainable_variables',\n",
       " 'non_trainable_weights',\n",
       " 'optimizer',\n",
       " 'outbound_nodes',\n",
       " 'output',\n",
       " 'output_mask',\n",
       " 'output_names',\n",
       " 'output_shape',\n",
       " 'outputs',\n",
       " 'pop',\n",
       " 'predict',\n",
       " 'predict_classes',\n",
       " 'predict_function',\n",
       " 'predict_generator',\n",
       " 'predict_on_batch',\n",
       " 'predict_proba',\n",
       " 'predict_step',\n",
       " 'reset_metrics',\n",
       " 'reset_states',\n",
       " 'run_eagerly',\n",
       " 'save',\n",
       " 'save_weights',\n",
       " 'set_weights',\n",
       " 'state_updates',\n",
       " 'stateful',\n",
       " 'stop_training',\n",
       " 'submodules',\n",
       " 'summary',\n",
       " 'supports_masking',\n",
       " 'test_function',\n",
       " 'test_on_batch',\n",
       " 'test_step',\n",
       " 'to_json',\n",
       " 'to_yaml',\n",
       " 'train_function',\n",
       " 'train_on_batch',\n",
       " 'train_step',\n",
       " 'trainable',\n",
       " 'trainable_variables',\n",
       " 'trainable_weights',\n",
       " 'updates',\n",
       " 'variables',\n",
       " 'weights',\n",
       " 'with_name_scope']"
      ]
     },
     "execution_count": 68,
     "metadata": {},
     "output_type": "execute_result"
    }
   ],
   "source": [
    "dir(model) #weights, outputs...변화값 확인"
   ]
  },
  {
   "cell_type": "code",
   "execution_count": 69,
   "metadata": {
    "colab": {
     "base_uri": "https://localhost:8080/",
     "height": 35
    },
    "id": "sVJpZeytfMON",
    "outputId": "3d3f33a4-ae3c-4b06-f603-1e288e847697"
   },
   "outputs": [
    {
     "data": {
      "text/plain": [
       "'sparse_categorical_crossentropy'"
      ]
     },
     "execution_count": 69,
     "metadata": {},
     "output_type": "execute_result"
    }
   ],
   "source": [
    "model.loss"
   ]
  },
  {
   "cell_type": "code",
   "execution_count": 70,
   "metadata": {
    "colab": {
     "base_uri": "https://localhost:8080/",
     "height": 33
    },
    "id": "NrOBs_AJfT3k",
    "outputId": "ef8c24c3-3a76-4833-aa1d-7f914fc73211"
   },
   "outputs": [
    {
     "data": {
      "text/plain": [
       "<tensorflow.python.keras.optimizer_v2.adam.Adam at 0x7ff3504ddf50>"
      ]
     },
     "execution_count": 70,
     "metadata": {},
     "output_type": "execute_result"
    }
   ],
   "source": [
    "model.optimizer"
   ]
  },
  {
   "cell_type": "code",
   "execution_count": 71,
   "metadata": {
    "colab": {
     "base_uri": "https://localhost:8080/",
     "height": 160
    },
    "id": "_2rKxnHlfVGG",
    "outputId": "263d26d1-6e3c-4294-8d77-3ec1b602aca5"
   },
   "outputs": [
    {
     "data": {
      "text/plain": [
       "<tensorflow.python.keras.layers.core.Dense at 0x7ff3571e4790>"
      ]
     },
     "execution_count": 71,
     "metadata": {},
     "output_type": "execute_result"
    }
   ],
   "source": [
    "model.layers[0]"
   ]
  },
  {
   "cell_type": "code",
   "execution_count": null,
   "metadata": {
    "id": "9MxPID6ZfV9F"
   },
   "outputs": [],
   "source": [
    "model.fit(iris.iloc[:,:-1],iris.species,epochs=5,\n",
    "          class_weight=) #balancing imbalanced dataset (class 비율 맞춰줌)"
   ]
  },
  {
   "cell_type": "code",
   "execution_count": 73,
   "metadata": {
    "id": "7z1vpS1Vga7P"
   },
   "outputs": [],
   "source": [
    "a=tf.Variable([1.,2,3])\n",
    "\n",
    "with tf.GradientTape() as t:\n",
    "  y=a**2+ 2*a"
   ]
  },
  {
   "cell_type": "code",
   "execution_count": 74,
   "metadata": {
    "colab": {
     "base_uri": "https://localhost:8080/",
     "height": 33
    },
    "id": "cmYEhU-FhVcR",
    "outputId": "fbecc029-d739-4f7f-8f59-7146ced99deb",
    "scrolled": true
   },
   "outputs": [
    {
     "data": {
      "text/plain": [
       "<tf.Tensor: shape=(3,), dtype=float32, numpy=array([4., 6., 8.], dtype=float32)>"
      ]
     },
     "execution_count": 74,
     "metadata": {},
     "output_type": "execute_result"
    }
   ],
   "source": [
    "dy_da=t.gradient(y,a) #y를 a로 미분\n",
    "dy_da"
   ]
  },
  {
   "cell_type": "markdown",
   "metadata": {
    "id": "uvMupKl8gx4i"
   },
   "source": [
    "- optimizer: Gradient descent 방법\n",
    "- loss: 학습 통해서 실제값,예측값 최소화 하는 weight(kernel, bias)구함"
   ]
  },
  {
   "cell_type": "code",
   "execution_count": 75,
   "metadata": {
    "id": "h1RDnePjgoql"
   },
   "outputs": [],
   "source": [
    "optimizer=tf.keras.optimizers.Adam() #아담 방식으로 gradient descent"
   ]
  },
  {
   "cell_type": "code",
   "execution_count": 76,
   "metadata": {
    "colab": {
     "base_uri": "https://localhost:8080/",
     "height": 160
    },
    "id": "EuQ5_yNRg9Hr",
    "outputId": "482a8edf-16c8-4e3e-9636-10d22ad1e9df"
   },
   "outputs": [
    {
     "ename": "TypeError",
     "evalue": "zip argument #2 must support iteration",
     "output_type": "error",
     "traceback": [
      "\u001b[0;31m---------------------------------------------------------------------------\u001b[0m",
      "\u001b[0;31mTypeError\u001b[0m                                 Traceback (most recent call last)",
      "\u001b[0;32m<ipython-input-76-df23817750b3>\u001b[0m in \u001b[0;36m<module>\u001b[0;34m\u001b[0m\n\u001b[0;32m----> 1\u001b[0;31m \u001b[0moptimizer\u001b[0m\u001b[0;34m.\u001b[0m\u001b[0mapply_gradients\u001b[0m\u001b[0;34m(\u001b[0m\u001b[0mzip\u001b[0m\u001b[0;34m(\u001b[0m\u001b[0mdy_da\u001b[0m\u001b[0;34m,\u001b[0m\u001b[0ma\u001b[0m \u001b[0;34m)\u001b[0m\u001b[0;34m)\u001b[0m \u001b[0;31m#인자 넣기  zip(grads, vars)쌍으로 묶음\u001b[0m\u001b[0;34m\u001b[0m\u001b[0;34m\u001b[0m\u001b[0m\n\u001b[0m\u001b[1;32m      2\u001b[0m \u001b[0;31m#너무 단순해서 에러\u001b[0m\u001b[0;34m\u001b[0m\u001b[0;34m\u001b[0m\u001b[0;34m\u001b[0m\u001b[0m\n",
      "\u001b[0;31mTypeError\u001b[0m: zip argument #2 must support iteration"
     ]
    }
   ],
   "source": [
    "optimizer.apply_gradients(zip(dy_da,a )) #인자 넣기  zip(grads, vars)쌍으로 묶음\n",
    "#너무 단순해서 에러"
   ]
  },
  {
   "cell_type": "code",
   "execution_count": 77,
   "metadata": {
    "id": "SBVP76S6hg6c"
   },
   "outputs": [],
   "source": [
    "#loss function: 들어온 데이터와 라벨 미분해서 weight(trainable, non-trainable) 찾기\n",
    "loss= tf.keras.losses.SparseCategoricalCrossentropy()"
   ]
  },
  {
   "cell_type": "code",
   "execution_count": 78,
   "metadata": {
    "colab": {
     "base_uri": "https://localhost:8080/",
     "height": 160
    },
    "id": "j6Gu77ODiGE3",
    "outputId": "5abfa447-84a6-4ebd-e2c5-f4df022ac264"
   },
   "outputs": [
    {
     "ename": "TypeError",
     "evalue": "__call__() missing 2 required positional arguments: 'y_true' and 'y_pred'",
     "output_type": "error",
     "traceback": [
      "\u001b[0;31m---------------------------------------------------------------------------\u001b[0m",
      "\u001b[0;31mTypeError\u001b[0m                                 Traceback (most recent call last)",
      "\u001b[0;32m<ipython-input-78-6099cbfb38c7>\u001b[0m in \u001b[0;36m<module>\u001b[0;34m\u001b[0m\n\u001b[0;32m----> 1\u001b[0;31m \u001b[0mloss\u001b[0m\u001b[0;34m(\u001b[0m\u001b[0;34m)\u001b[0m  \u001b[0;31m#y_true, y_pred 차이 최소화\u001b[0m\u001b[0;34m\u001b[0m\u001b[0;34m\u001b[0m\u001b[0m\n\u001b[0m",
      "\u001b[0;31mTypeError\u001b[0m: __call__() missing 2 required positional arguments: 'y_true' and 'y_pred'"
     ]
    }
   ],
   "source": [
    "loss()  #y_true, y_pred 차이 최소화"
   ]
  },
  {
   "cell_type": "code",
   "execution_count": 90,
   "metadata": {
    "id": "PiE4CHyjjX1l"
   },
   "outputs": [],
   "source": [
    "X_train =iris.iloc[:,:-1].values\n",
    "y_train=iris.species.values"
   ]
  },
  {
   "cell_type": "code",
   "execution_count": 91,
   "metadata": {
    "id": "fqi9gK16h3Ij"
   },
   "outputs": [],
   "source": [
    "with tf.GradientTape() as t:     #실제값 예측값 최소화하도록 weights업데이트\n",
    "  prediction=model(X_train)      #함수형 패러다임\n",
    "  loss_=loss(y_train,prediction) # y - y pred 차이"
   ]
  },
  {
   "cell_type": "code",
   "execution_count": 92,
   "metadata": {
    "colab": {
     "base_uri": "https://localhost:8080/",
     "height": 33
    },
    "id": "rmRBkocKh5zf",
    "outputId": "91dc1b71-290b-4511-a6d9-af72ac0751db"
   },
   "outputs": [
    {
     "data": {
      "text/plain": [
       "<tf.Tensor: shape=(1, 3), dtype=float32, numpy=array([[0.46650478, 0.290364  , 0.24313122]], dtype=float32)>"
      ]
     },
     "execution_count": 92,
     "metadata": {},
     "output_type": "execute_result"
    }
   ],
   "source": [
    "#예측 1.함수형 패러다임\n",
    "model(iris.iloc[0,:-1].values[tf.newaxis]) # 예측 None ,4 "
   ]
  },
  {
   "cell_type": "code",
   "execution_count": 93,
   "metadata": {
    "colab": {
     "base_uri": "https://localhost:8080/",
     "height": 33
    },
    "id": "yzUvfIrni75q",
    "outputId": "080bec71-7e17-46b2-cbb1-e98269dd7684"
   },
   "outputs": [
    {
     "data": {
      "text/plain": [
       "array([[0.46650478, 0.290364  , 0.24313122]], dtype=float32)"
      ]
     },
     "execution_count": 93,
     "metadata": {},
     "output_type": "execute_result"
    }
   ],
   "source": [
    "#예측 2.predict\n",
    "model.predict(iris.iloc[0,:-1].values[tf.newaxis])"
   ]
  },
  {
   "cell_type": "code",
   "execution_count": 94,
   "metadata": {
    "colab": {
     "base_uri": "https://localhost:8080/",
     "height": 882
    },
    "id": "Zub3Lnp-kRjj",
    "outputId": "4a53c422-e5ce-459c-85da-bf22580dd88d"
   },
   "outputs": [
    {
     "data": {
      "text/plain": [
       "[<tf.Variable 'dense/kernel:0' shape=(4, 10) dtype=float32, numpy=\n",
       " array([[-0.01900361, -0.24364588, -0.58017933, -0.5348375 ,  0.23457456,\n",
       "         -0.23569003,  0.52564144, -0.48051593,  0.23258501,  0.15003553],\n",
       "        [ 0.28455558, -0.23491871, -0.45981246, -0.03237897, -0.64529395,\n",
       "          0.08287691, -0.2812763 ,  0.00629133,  0.17521326, -0.07410487],\n",
       "        [-0.5915796 , -0.3868398 , -0.492257  , -0.04173607, -0.48896572,\n",
       "          0.39589074,  0.06782979, -0.01372755,  0.5928901 ,  0.3289041 ],\n",
       "        [-0.33393905,  0.13455153,  0.4236977 , -0.3942173 ,  0.46376133,\n",
       "          0.14254622, -0.63554263, -0.4745745 , -0.33886155,  0.02280677]],\n",
       "       dtype=float32)>,\n",
       " <tf.Variable 'dense/bias:0' shape=(10,) dtype=float32, numpy=\n",
       " array([-0.05550224,  0.        ,  0.        ,  0.        ,  0.        ,\n",
       "         0.0601943 , -0.02363754,  0.        , -0.03292561, -0.0288935 ],\n",
       "       dtype=float32)>,\n",
       " <tf.Variable 'dense_1/kernel:0' shape=(10, 10) dtype=float32, numpy=\n",
       " array([[-0.284972  ,  0.41172028,  0.2634351 , -0.27932584, -0.34833038,\n",
       "          0.44582367,  0.25076976, -0.5076353 ,  0.16285892, -0.18223372],\n",
       "        [ 0.10184813, -0.08091655,  0.5163758 , -0.46107337, -0.5381441 ,\n",
       "         -0.14150238,  0.30185425,  0.10639763,  0.25555897, -0.15303075],\n",
       "        [ 0.2666812 , -0.38950086,  0.46250796,  0.4522853 ,  0.03083009,\n",
       "          0.48421824,  0.18544549,  0.362836  , -0.24562246,  0.41795987],\n",
       "        [ 0.27087277,  0.17246759,  0.09391427, -0.14642394,  0.44577324,\n",
       "          0.26497626,  0.43164986, -0.35680416,  0.13379997, -0.49271637],\n",
       "        [-0.00096476,  0.29110038,  0.41004992, -0.3877672 , -0.17901054,\n",
       "         -0.4227779 , -0.49470532,  0.5134393 , -0.4064119 , -0.05162311],\n",
       "        [-0.4007485 , -0.21262136, -0.49133676, -0.3580528 ,  0.12460132,\n",
       "         -0.416745  , -0.00819795,  0.18844521,  0.5857277 , -0.14840835],\n",
       "        [ 0.12190484, -0.04554087,  0.37806833,  0.355167  ,  0.15458292,\n",
       "          0.4616091 ,  0.43707547,  0.05452108,  0.24545886,  0.11664534],\n",
       "        [-0.19243297, -0.15644181, -0.18643352,  0.42235124, -0.32521993,\n",
       "         -0.36228126,  0.43907636,  0.19002217, -0.35696638,  0.36293852],\n",
       "        [ 0.3391823 , -0.06855059, -0.39456496,  0.00330991,  0.11797731,\n",
       "         -0.05706065, -0.36539227, -0.52406085,  0.34803805, -0.37900215],\n",
       "        [ 0.44416496, -0.46341532,  0.4166388 ,  0.42855734, -0.08648767,\n",
       "         -0.01886917,  0.31337038, -0.14178991, -0.03576694,  0.20129591]],\n",
       "       dtype=float32)>,\n",
       " <tf.Variable 'dense_1/bias:0' shape=(10,) dtype=float32, numpy=\n",
       " array([-0.04829911,  0.        , -0.01251978,  0.05167859, -0.04642563,\n",
       "        -0.0447927 , -0.00869524,  0.        ,  0.04835934,  0.        ],\n",
       "       dtype=float32)>,\n",
       " <tf.Variable 'dense_2/kernel:0' shape=(10, 3) dtype=float32, numpy=\n",
       " array([[ 0.61455435, -0.09943693, -0.3084235 ],\n",
       "        [-0.33845487, -0.5788939 ,  0.30054057],\n",
       "        [ 0.01468229, -0.24970436, -0.3440066 ],\n",
       "        [-0.22687137, -0.26888713,  0.47664592],\n",
       "        [ 0.5779563 , -0.06379417,  0.21027555],\n",
       "        [ 0.4698413 ,  0.2658336 , -0.15055045],\n",
       "        [ 0.5833029 , -0.5147005 , -0.56923074],\n",
       "        [-0.5685961 ,  0.6531005 ,  0.26523006],\n",
       "        [-0.42609638,  0.3216855 , -0.10155775],\n",
       "        [ 0.38884008,  0.4205625 ,  0.2964195 ]], dtype=float32)>,\n",
       " <tf.Variable 'dense_2/bias:0' shape=(3,) dtype=float32, numpy=array([-0.04874549,  0.04265843,  0.05006867], dtype=float32)>]"
      ]
     },
     "execution_count": 94,
     "metadata": {},
     "output_type": "execute_result"
    }
   ],
   "source": [
    "model.weights"
   ]
  },
  {
   "cell_type": "code",
   "execution_count": 95,
   "metadata": {
    "colab": {
     "base_uri": "https://localhost:8080/",
     "height": 882
    },
    "id": "TvAld-t5kT_V",
    "outputId": "881ef375-a2a3-4e6f-f9f3-01b7a903734e"
   },
   "outputs": [
    {
     "data": {
      "text/plain": [
       "[<tf.Variable 'dense/kernel:0' shape=(4, 10) dtype=float32, numpy=\n",
       " array([[-0.01900361, -0.24364588, -0.58017933, -0.5348375 ,  0.23457456,\n",
       "         -0.23569003,  0.52564144, -0.48051593,  0.23258501,  0.15003553],\n",
       "        [ 0.28455558, -0.23491871, -0.45981246, -0.03237897, -0.64529395,\n",
       "          0.08287691, -0.2812763 ,  0.00629133,  0.17521326, -0.07410487],\n",
       "        [-0.5915796 , -0.3868398 , -0.492257  , -0.04173607, -0.48896572,\n",
       "          0.39589074,  0.06782979, -0.01372755,  0.5928901 ,  0.3289041 ],\n",
       "        [-0.33393905,  0.13455153,  0.4236977 , -0.3942173 ,  0.46376133,\n",
       "          0.14254622, -0.63554263, -0.4745745 , -0.33886155,  0.02280677]],\n",
       "       dtype=float32)>,\n",
       " <tf.Variable 'dense/bias:0' shape=(10,) dtype=float32, numpy=\n",
       " array([-0.05550224,  0.        ,  0.        ,  0.        ,  0.        ,\n",
       "         0.0601943 , -0.02363754,  0.        , -0.03292561, -0.0288935 ],\n",
       "       dtype=float32)>,\n",
       " <tf.Variable 'dense_1/kernel:0' shape=(10, 10) dtype=float32, numpy=\n",
       " array([[-0.284972  ,  0.41172028,  0.2634351 , -0.27932584, -0.34833038,\n",
       "          0.44582367,  0.25076976, -0.5076353 ,  0.16285892, -0.18223372],\n",
       "        [ 0.10184813, -0.08091655,  0.5163758 , -0.46107337, -0.5381441 ,\n",
       "         -0.14150238,  0.30185425,  0.10639763,  0.25555897, -0.15303075],\n",
       "        [ 0.2666812 , -0.38950086,  0.46250796,  0.4522853 ,  0.03083009,\n",
       "          0.48421824,  0.18544549,  0.362836  , -0.24562246,  0.41795987],\n",
       "        [ 0.27087277,  0.17246759,  0.09391427, -0.14642394,  0.44577324,\n",
       "          0.26497626,  0.43164986, -0.35680416,  0.13379997, -0.49271637],\n",
       "        [-0.00096476,  0.29110038,  0.41004992, -0.3877672 , -0.17901054,\n",
       "         -0.4227779 , -0.49470532,  0.5134393 , -0.4064119 , -0.05162311],\n",
       "        [-0.4007485 , -0.21262136, -0.49133676, -0.3580528 ,  0.12460132,\n",
       "         -0.416745  , -0.00819795,  0.18844521,  0.5857277 , -0.14840835],\n",
       "        [ 0.12190484, -0.04554087,  0.37806833,  0.355167  ,  0.15458292,\n",
       "          0.4616091 ,  0.43707547,  0.05452108,  0.24545886,  0.11664534],\n",
       "        [-0.19243297, -0.15644181, -0.18643352,  0.42235124, -0.32521993,\n",
       "         -0.36228126,  0.43907636,  0.19002217, -0.35696638,  0.36293852],\n",
       "        [ 0.3391823 , -0.06855059, -0.39456496,  0.00330991,  0.11797731,\n",
       "         -0.05706065, -0.36539227, -0.52406085,  0.34803805, -0.37900215],\n",
       "        [ 0.44416496, -0.46341532,  0.4166388 ,  0.42855734, -0.08648767,\n",
       "         -0.01886917,  0.31337038, -0.14178991, -0.03576694,  0.20129591]],\n",
       "       dtype=float32)>,\n",
       " <tf.Variable 'dense_1/bias:0' shape=(10,) dtype=float32, numpy=\n",
       " array([-0.04829911,  0.        , -0.01251978,  0.05167859, -0.04642563,\n",
       "        -0.0447927 , -0.00869524,  0.        ,  0.04835934,  0.        ],\n",
       "       dtype=float32)>,\n",
       " <tf.Variable 'dense_2/kernel:0' shape=(10, 3) dtype=float32, numpy=\n",
       " array([[ 0.61455435, -0.09943693, -0.3084235 ],\n",
       "        [-0.33845487, -0.5788939 ,  0.30054057],\n",
       "        [ 0.01468229, -0.24970436, -0.3440066 ],\n",
       "        [-0.22687137, -0.26888713,  0.47664592],\n",
       "        [ 0.5779563 , -0.06379417,  0.21027555],\n",
       "        [ 0.4698413 ,  0.2658336 , -0.15055045],\n",
       "        [ 0.5833029 , -0.5147005 , -0.56923074],\n",
       "        [-0.5685961 ,  0.6531005 ,  0.26523006],\n",
       "        [-0.42609638,  0.3216855 , -0.10155775],\n",
       "        [ 0.38884008,  0.4205625 ,  0.2964195 ]], dtype=float32)>,\n",
       " <tf.Variable 'dense_2/bias:0' shape=(3,) dtype=float32, numpy=array([-0.04874549,  0.04265843,  0.05006867], dtype=float32)>]"
      ]
     },
     "execution_count": 95,
     "metadata": {},
     "output_type": "execute_result"
    }
   ],
   "source": [
    "model.trainable_variables"
   ]
  },
  {
   "cell_type": "code",
   "execution_count": 96,
   "metadata": {
    "colab": {
     "base_uri": "https://localhost:8080/",
     "height": 882
    },
    "id": "XHfqNuAqkZ65",
    "outputId": "574bdd1e-52f4-4313-ed6d-e7726e7e14db"
   },
   "outputs": [
    {
     "data": {
      "text/plain": [
       "[<tf.Variable 'dense/kernel:0' shape=(4, 10) dtype=float32, numpy=\n",
       " array([[-0.01900361, -0.24364588, -0.58017933, -0.5348375 ,  0.23457456,\n",
       "         -0.23569003,  0.52564144, -0.48051593,  0.23258501,  0.15003553],\n",
       "        [ 0.28455558, -0.23491871, -0.45981246, -0.03237897, -0.64529395,\n",
       "          0.08287691, -0.2812763 ,  0.00629133,  0.17521326, -0.07410487],\n",
       "        [-0.5915796 , -0.3868398 , -0.492257  , -0.04173607, -0.48896572,\n",
       "          0.39589074,  0.06782979, -0.01372755,  0.5928901 ,  0.3289041 ],\n",
       "        [-0.33393905,  0.13455153,  0.4236977 , -0.3942173 ,  0.46376133,\n",
       "          0.14254622, -0.63554263, -0.4745745 , -0.33886155,  0.02280677]],\n",
       "       dtype=float32)>,\n",
       " <tf.Variable 'dense/bias:0' shape=(10,) dtype=float32, numpy=\n",
       " array([-0.05550224,  0.        ,  0.        ,  0.        ,  0.        ,\n",
       "         0.0601943 , -0.02363754,  0.        , -0.03292561, -0.0288935 ],\n",
       "       dtype=float32)>,\n",
       " <tf.Variable 'dense_1/kernel:0' shape=(10, 10) dtype=float32, numpy=\n",
       " array([[-0.284972  ,  0.41172028,  0.2634351 , -0.27932584, -0.34833038,\n",
       "          0.44582367,  0.25076976, -0.5076353 ,  0.16285892, -0.18223372],\n",
       "        [ 0.10184813, -0.08091655,  0.5163758 , -0.46107337, -0.5381441 ,\n",
       "         -0.14150238,  0.30185425,  0.10639763,  0.25555897, -0.15303075],\n",
       "        [ 0.2666812 , -0.38950086,  0.46250796,  0.4522853 ,  0.03083009,\n",
       "          0.48421824,  0.18544549,  0.362836  , -0.24562246,  0.41795987],\n",
       "        [ 0.27087277,  0.17246759,  0.09391427, -0.14642394,  0.44577324,\n",
       "          0.26497626,  0.43164986, -0.35680416,  0.13379997, -0.49271637],\n",
       "        [-0.00096476,  0.29110038,  0.41004992, -0.3877672 , -0.17901054,\n",
       "         -0.4227779 , -0.49470532,  0.5134393 , -0.4064119 , -0.05162311],\n",
       "        [-0.4007485 , -0.21262136, -0.49133676, -0.3580528 ,  0.12460132,\n",
       "         -0.416745  , -0.00819795,  0.18844521,  0.5857277 , -0.14840835],\n",
       "        [ 0.12190484, -0.04554087,  0.37806833,  0.355167  ,  0.15458292,\n",
       "          0.4616091 ,  0.43707547,  0.05452108,  0.24545886,  0.11664534],\n",
       "        [-0.19243297, -0.15644181, -0.18643352,  0.42235124, -0.32521993,\n",
       "         -0.36228126,  0.43907636,  0.19002217, -0.35696638,  0.36293852],\n",
       "        [ 0.3391823 , -0.06855059, -0.39456496,  0.00330991,  0.11797731,\n",
       "         -0.05706065, -0.36539227, -0.52406085,  0.34803805, -0.37900215],\n",
       "        [ 0.44416496, -0.46341532,  0.4166388 ,  0.42855734, -0.08648767,\n",
       "         -0.01886917,  0.31337038, -0.14178991, -0.03576694,  0.20129591]],\n",
       "       dtype=float32)>,\n",
       " <tf.Variable 'dense_1/bias:0' shape=(10,) dtype=float32, numpy=\n",
       " array([-0.04829911,  0.        , -0.01251978,  0.05167859, -0.04642563,\n",
       "        -0.0447927 , -0.00869524,  0.        ,  0.04835934,  0.        ],\n",
       "       dtype=float32)>,\n",
       " <tf.Variable 'dense_2/kernel:0' shape=(10, 3) dtype=float32, numpy=\n",
       " array([[ 0.61455435, -0.09943693, -0.3084235 ],\n",
       "        [-0.33845487, -0.5788939 ,  0.30054057],\n",
       "        [ 0.01468229, -0.24970436, -0.3440066 ],\n",
       "        [-0.22687137, -0.26888713,  0.47664592],\n",
       "        [ 0.5779563 , -0.06379417,  0.21027555],\n",
       "        [ 0.4698413 ,  0.2658336 , -0.15055045],\n",
       "        [ 0.5833029 , -0.5147005 , -0.56923074],\n",
       "        [-0.5685961 ,  0.6531005 ,  0.26523006],\n",
       "        [-0.42609638,  0.3216855 , -0.10155775],\n",
       "        [ 0.38884008,  0.4205625 ,  0.2964195 ]], dtype=float32)>,\n",
       " <tf.Variable 'dense_2/bias:0' shape=(3,) dtype=float32, numpy=array([-0.04874549,  0.04265843,  0.05006867], dtype=float32)>]"
      ]
     },
     "execution_count": 96,
     "metadata": {},
     "output_type": "execute_result"
    }
   ],
   "source": [
    "model.trainable_weights"
   ]
  },
  {
   "cell_type": "markdown",
   "metadata": {},
   "source": [
    "- 관례상 학습에서는 trainable_variables 변수 사용"
   ]
  },
  {
   "cell_type": "code",
   "execution_count": 97,
   "metadata": {
    "colab": {
     "base_uri": "https://localhost:8080/",
     "height": 33
    },
    "id": "wEUqS7cCkm43",
    "outputId": "77872874-6154-4d81-c5ba-a8e533e39f67"
   },
   "outputs": [
    {
     "data": {
      "text/plain": [
       "False"
      ]
     },
     "execution_count": 97,
     "metadata": {},
     "output_type": "execute_result"
    }
   ],
   "source": [
    "model.trainable_variables is model.trainable_weights #다른 객체로 만들어짐 "
   ]
  },
  {
   "cell_type": "code",
   "execution_count": 98,
   "metadata": {
    "colab": {
     "base_uri": "https://localhost:8080/",
     "height": 33
    },
    "id": "5vlf_vDQj36Z",
    "outputId": "694950e8-4d89-4a05-b779-b18d65c66c96"
   },
   "outputs": [
    {
     "data": {
      "text/plain": [
       "True"
      ]
     },
     "execution_count": 98,
     "metadata": {},
     "output_type": "execute_result"
    }
   ],
   "source": [
    "model.trainable_variables == model.trainable_weights #동일한 값 "
   ]
  },
  {
   "cell_type": "code",
   "execution_count": 99,
   "metadata": {
    "id": "elb5cwWHkyeo"
   },
   "outputs": [],
   "source": [
    "grad=t.gradient(loss_, model.trainable_variables)"
   ]
  },
  {
   "cell_type": "code",
   "execution_count": 100,
   "metadata": {
    "colab": {
     "base_uri": "https://localhost:8080/",
     "height": 33
    },
    "id": "rS6TrC_pk-fT",
    "outputId": "8b508d20-d6a8-4424-a73c-d4d967bdfd75"
   },
   "outputs": [
    {
     "data": {
      "text/plain": [
       "<tf.Variable 'UnreadVariable' shape=() dtype=int64, numpy=1>"
      ]
     },
     "execution_count": 100,
     "metadata": {},
     "output_type": "execute_result"
    }
   ],
   "source": [
    "optimizer.apply_gradients(zip(grad, model.trainable_variables)) #너무 작아서임 ?"
   ]
  },
  {
   "cell_type": "markdown",
   "metadata": {
    "id": "3Uo2U5rumDP4"
   },
   "source": [
    "- 함수형 패러다임 : calll 객체 인스턴스 () \n",
    "- compile, fit 수동으로 함수로 만듦\n",
    "    - 똑같은 값으로 gradient 안함\n",
    "    - train할때마다 loss,정확도 값 계산"
   ]
  },
  {
   "cell_type": "code",
   "execution_count": 101,
   "metadata": {
    "id": "IMoX8knBlhQF"
   },
   "outputs": [],
   "source": [
    "#accuracy 변하는 정도 \n",
    "train_loss= tf.keras.metrics.Mean()\n",
    "train_acc=tf.keras.metrics.SparseCategoricalAccuracy()"
   ]
  },
  {
   "cell_type": "code",
   "execution_count": 102,
   "metadata": {
    "id": "RyPI5m6ZlKjk"
   },
   "outputs": [],
   "source": [
    "def train(X_train,y_train):\n",
    "        #함수형 패러다임\n",
    "\n",
    "    with tf.GradientTape() as t: \n",
    "        prediction=model(X_train)\n",
    "        loss_=loss(y_train,prediction) \n",
    "        \n",
    "    grad=t.gradient(loss_, model.trainable_variables)\n",
    "    optimizer.apply_gradients(zip(grad, model.trainable_variables))\n",
    "    \n",
    "    train_loss(loss_)\n",
    "    train_acc(y_train, prediction)"
   ]
  },
  {
   "cell_type": "code",
   "execution_count": 103,
   "metadata": {
    "id": "3QIDeSG0lwll"
   },
   "outputs": [],
   "source": [
    "@tf.function   #decorator: 넘파이를 텐서에 쓰는 함수로 변경해서 효율적으로 사용할 수 있도록 함 \n",
    "\n",
    "def train(X_train,y_train):\n",
    "  with tf.GradientTape() as t:  #실제값 예측값 최소화하도록 weights업데이트\n",
    "    prediction=model(X_train)\n",
    "    loss_=loss(y_train,prediction) # y - y pred 차이\n",
    "  grad=t.gradient(loss_, model.trainable_variables)\n",
    "  optimizer.apply_gradients(zip(grad, model.trainable_variables))\n",
    "  #  optimizer.apply_gradients([grad, model.trainable_variables])\n",
    "  train_loss(loss_)\n",
    "  train_acc(y_train, prediction)"
   ]
  },
  {
   "cell_type": "markdown",
   "metadata": {},
   "source": [
    "### 학습 루프\n",
    "- epochs= for "
   ]
  },
  {
   "cell_type": "code",
   "execution_count": 104,
   "metadata": {
    "colab": {
     "base_uri": "https://localhost:8080/",
     "height": 180
    },
    "id": "_Jvnc3CimJZP",
    "outputId": "4cc65e25-47ff-4452-e65a-4cbd4d1526c4"
   },
   "outputs": [
    {
     "name": "stdout",
     "output_type": "stream",
     "text": [
      "1 tf.Tensor(0.34666666, shape=(), dtype=float32)\n",
      "2 tf.Tensor(0.35333332, shape=(), dtype=float32)\n",
      "3 tf.Tensor(0.36, shape=(), dtype=float32)\n",
      "4 tf.Tensor(0.37333333, shape=(), dtype=float32)\n",
      "5 tf.Tensor(0.388, shape=(), dtype=float32)\n",
      "6 tf.Tensor(0.3988889, shape=(), dtype=float32)\n",
      "7 tf.Tensor(0.40952381, shape=(), dtype=float32)\n",
      "8 tf.Tensor(0.41916665, shape=(), dtype=float32)\n",
      "9 tf.Tensor(0.42814815, shape=(), dtype=float32)\n",
      "10 tf.Tensor(0.436, shape=(), dtype=float32)\n"
     ]
    }
   ],
   "source": [
    "for i in range(10):  #10 epochs\n",
    "  train(X_train,y_train)\n",
    "  print(i+1, train_acc.result()) # 학습 결과 출력"
   ]
  },
  {
   "cell_type": "code",
   "execution_count": 105,
   "metadata": {
    "colab": {
     "base_uri": "https://localhost:8080/",
     "height": 33
    },
    "id": "lrBufgsfmmYH",
    "outputId": "b7b6f37a-0477-4293-cbb3-f8bda547dbfa"
   },
   "outputs": [
    {
     "data": {
      "text/plain": [
       "<tf.Tensor: shape=(), dtype=float32, numpy=0.436>"
      ]
     },
     "execution_count": 105,
     "metadata": {},
     "output_type": "execute_result"
    }
   ],
   "source": [
    "train_acc.result()"
   ]
  },
  {
   "cell_type": "code",
   "execution_count": 106,
   "metadata": {
    "id": "pTvz32BFmrcU"
   },
   "outputs": [],
   "source": [
    "# trainable_weights \n",
    "@tf.function   #decorator: 넘파이를 텐서로 변경해서 효율적으로 사용할수있도록 함 \n",
    "  #함수형 패러다임\n",
    "def train(X_train,y_train):\n",
    "  with tf.GradientTape() as t:  #실제값 예측값 최소화하도록 weights업데이트\n",
    "    prediction=model(X_train)\n",
    "    loss_=loss(y_train,prediction) # y - y pred 차이\n",
    " #모델 최적화\n",
    "  grad=t.gradient(loss_, model.trainable_weights)\n",
    "  optimizer.apply_gradients(zip(grad, model.trainable_weights))\n",
    "    \n",
    "  train_loss(loss_)\n",
    "\n",
    "  train_acc(y_train, prediction)"
   ]
  },
  {
   "cell_type": "code",
   "execution_count": 107,
   "metadata": {
    "colab": {
     "base_uri": "https://localhost:8080/",
     "height": 180
    },
    "id": "nkwLsZ3_ofMV",
    "outputId": "c226a647-b06b-477d-8e72-312ae3744f47"
   },
   "outputs": [
    {
     "name": "stdout",
     "output_type": "stream",
     "text": [
      "1 tf.Tensor(0.4430303, shape=(), dtype=float32)\n",
      "2 tf.Tensor(0.45055556, shape=(), dtype=float32)\n",
      "3 tf.Tensor(0.45948717, shape=(), dtype=float32)\n",
      "4 tf.Tensor(0.46761906, shape=(), dtype=float32)\n",
      "5 tf.Tensor(0.47555557, shape=(), dtype=float32)\n",
      "6 tf.Tensor(0.48416665, shape=(), dtype=float32)\n",
      "7 tf.Tensor(0.49333334, shape=(), dtype=float32)\n",
      "8 tf.Tensor(0.50185186, shape=(), dtype=float32)\n",
      "9 tf.Tensor(0.5094737, shape=(), dtype=float32)\n",
      "10 tf.Tensor(0.51633334, shape=(), dtype=float32)\n"
     ]
    }
   ],
   "source": [
    "for i in range(10):\n",
    "  train(X_train,y_train)\n",
    "  print(i+1, train_acc.result()) "
   ]
  },
  {
   "cell_type": "markdown",
   "metadata": {
    "id": "nIJIZkrXn_Uq"
   },
   "source": [
    "- 원하는 결과에 따라서 다양한 그래프 만듦"
   ]
  },
  {
   "cell_type": "code",
   "execution_count": 172,
   "metadata": {},
   "outputs": [],
   "source": [
    "loss = tf.keras.losses.SparseCategoricalCrossentropy(from_logits=True)\n",
    "optimizer = tf.keras.optimizers.Adam(learning_rate=0.01)\n",
    "\n",
    "@tf.function   #decorator: 넘파이를 텐서에 쓰는 함수로 변경해서 효율적으로 사용할 수 있도록 함 \n",
    "\n",
    "def train(X_train,y_train):\n",
    "  with tf.GradientTape() as t:  #실제값 예측값 최소화하도록 weights업데이트\n",
    "    prediction=model(X_train)\n",
    "    loss_=loss(y_train,prediction) # y - y pred 차이\n",
    "  grad=t.gradient(loss_, model.trainable_variables)\n",
    "  optimizer.apply_gradients(zip(grad, model.trainable_variables))\n",
    "  #optimizer.apply_gradients([grad, model.trainable_variables])\n",
    "  train_loss(loss_)\n",
    "  train_acc(y_train, prediction)"
   ]
  },
  {
   "cell_type": "code",
   "execution_count": 173,
   "metadata": {},
   "outputs": [],
   "source": [
    "train_loss_results = []\n",
    "train_accuracy_results = []"
   ]
  },
  {
   "cell_type": "code",
   "execution_count": 176,
   "metadata": {},
   "outputs": [
    {
     "name": "stdout",
     "output_type": "stream",
     "text": [
      "1 tf.Tensor(0.8720379, shape=(), dtype=float32)\n",
      "2 tf.Tensor(0.87251574, shape=(), dtype=float32)\n",
      "3 tf.Tensor(0.87298906, shape=(), dtype=float32)\n",
      "4 tf.Tensor(0.8734891, shape=(), dtype=float32)\n",
      "5 tf.Tensor(0.8739845, shape=(), dtype=float32)\n",
      "6 tf.Tensor(0.8744753, shape=(), dtype=float32)\n",
      "7 tf.Tensor(0.8749616, shape=(), dtype=float32)\n",
      "8 tf.Tensor(0.8754434, shape=(), dtype=float32)\n",
      "9 tf.Tensor(0.87589043, shape=(), dtype=float32)\n",
      "10 tf.Tensor(0.87633336, shape=(), dtype=float32)\n",
      "11 tf.Tensor(0.8768024, shape=(), dtype=float32)\n",
      "12 tf.Tensor(0.87726724, shape=(), dtype=float32)\n",
      "13 tf.Tensor(0.87775785, shape=(), dtype=float32)\n",
      "14 tf.Tensor(0.87824404, shape=(), dtype=float32)\n",
      "15 tf.Tensor(0.8786963, shape=(), dtype=float32)\n",
      "16 tf.Tensor(0.87911505, shape=(), dtype=float32)\n",
      "17 tf.Tensor(0.87953013, shape=(), dtype=float32)\n",
      "18 tf.Tensor(0.8799708, shape=(), dtype=float32)\n",
      "19 tf.Tensor(0.88043666, shape=(), dtype=float32)\n",
      "20 tf.Tensor(0.88089854, shape=(), dtype=float32)\n",
      "21 tf.Tensor(0.8813564, shape=(), dtype=float32)\n",
      "22 tf.Tensor(0.88181037, shape=(), dtype=float32)\n",
      "23 tf.Tensor(0.8822318, shape=(), dtype=float32)\n",
      "24 tf.Tensor(0.8826781, shape=(), dtype=float32)\n",
      "25 tf.Tensor(0.8831206, shape=(), dtype=float32)\n",
      "26 tf.Tensor(0.88355935, shape=(), dtype=float32)\n",
      "27 tf.Tensor(0.8839944, shape=(), dtype=float32)\n",
      "28 tf.Tensor(0.88442576, shape=(), dtype=float32)\n",
      "29 tf.Tensor(0.88485354, shape=(), dtype=float32)\n",
      "30 tf.Tensor(0.88527775, shape=(), dtype=float32)\n",
      "31 tf.Tensor(0.8856985, shape=(), dtype=float32)\n",
      "32 tf.Tensor(0.88611573, shape=(), dtype=float32)\n",
      "33 tf.Tensor(0.8865295, shape=(), dtype=float32)\n",
      "34 tf.Tensor(0.8869399, shape=(), dtype=float32)\n",
      "35 tf.Tensor(0.8873469, shape=(), dtype=float32)\n",
      "36 tf.Tensor(0.8877507, shape=(), dtype=float32)\n",
      "37 tf.Tensor(0.88815117, shape=(), dtype=float32)\n",
      "38 tf.Tensor(0.8885484, shape=(), dtype=float32)\n",
      "39 tf.Tensor(0.8889424, shape=(), dtype=float32)\n",
      "40 tf.Tensor(0.8893333, shape=(), dtype=float32)\n",
      "41 tf.Tensor(0.8897211, shape=(), dtype=float32)\n",
      "42 tf.Tensor(0.89010584, shape=(), dtype=float32)\n",
      "43 tf.Tensor(0.8904875, shape=(), dtype=float32)\n",
      "44 tf.Tensor(0.89086616, shape=(), dtype=float32)\n",
      "45 tf.Tensor(0.89124185, shape=(), dtype=float32)\n",
      "46 tf.Tensor(0.89161456, shape=(), dtype=float32)\n",
      "47 tf.Tensor(0.89198446, shape=(), dtype=float32)\n",
      "48 tf.Tensor(0.89235145, shape=(), dtype=float32)\n",
      "49 tf.Tensor(0.8927156, shape=(), dtype=float32)\n",
      "50 tf.Tensor(0.8930769, shape=(), dtype=float32)\n"
     ]
    }
   ],
   "source": [
    "#여러번 실행할수록 성능이 좋아짐\n",
    "for i in range(50):\n",
    "  train(X_train,y_train)\n",
    "  train_loss_results.append(train_loss.result())\n",
    "  train_accuracy_results.append(train_acc.result())\n",
    "  print(i+1, train_acc.result()) "
   ]
  },
  {
   "cell_type": "code",
   "execution_count": 168,
   "metadata": {},
   "outputs": [],
   "source": [
    "import numpy as np"
   ]
  },
  {
   "cell_type": "code",
   "execution_count": 177,
   "metadata": {},
   "outputs": [
    {
     "data": {
      "image/png": "[encoded data removed]",
      "text/plain": [
       "<Figure size 864x576 with 2 Axes>"
      ]
     },
     "metadata": {
      "needs_background": "light"
     },
     "output_type": "display_data"
    }
   ],
   "source": [
    "import matplotlib.pyplot as plt\n",
    "fig, axes = plt.subplots(2, sharex=True, figsize=(12, 8))\n",
    "fig.suptitle('metrics')\n",
    "\n",
    "axes[0].set_ylabel(\"loss\", fontsize=14)\n",
    "axes[0].plot(train_loss_results)\n",
    "\n",
    "axes[1].set_ylabel(\"acc\", fontsize=14)\n",
    "axes[1].set_xlabel(\"epochs\", fontsize=14)\n",
    "axes[1].plot(train_accuracy_results)\n",
    "plt.show()"
   ]
  },
  {
   "cell_type": "markdown",
   "metadata": {},
   "source": [
    "### 예측"
   ]
  },
  {
   "cell_type": "code",
   "execution_count": 159,
   "metadata": {},
   "outputs": [
    {
     "name": "stdout",
     "output_type": "stream",
     "text": [
      "샘플 0 예측: setosa (57.4%)\n",
      "샘플 1 예측: versicolor (55.6%)\n",
      "샘플 2 예측: virginica (55.2%)\n"
     ]
    }
   ],
   "source": [
    "predict_dataset = tf.convert_to_tensor([\n",
    "    [5.1, 3.3, 1.7, 0.5,],\n",
    "    [5.9, 3.0, 4.2, 1.5,],\n",
    "    [6.9, 3.1, 5.4, 2.1]\n",
    "])\n",
    "\n",
    "predictions = model(predict_dataset)\n",
    "\n",
    "for i, logits in enumerate(predictions):\n",
    "  class_idx = tf.argmax(logits).numpy()\n",
    "  p = tf.nn.softmax(logits)[class_idx]\n",
    "  name = [ 'setosa','versicolor','virginica'][class_idx]\n",
    "  print(\"샘플 {} 예측: {} ({:4.1f}%)\".format(i, name, 100*p))"
   ]
  }
 ],
 "metadata": {
  "colab": {
   "collapsed_sections": [],
   "name": "201023_12기_고급시각반",
   "provenance": []
  },
  "kernelspec": {
   "display_name": "Python 3",
   "language": "python",
   "name": "python3"
  },
  "language_info": {
   "codemirror_mode": {
    "name": "ipython",
    "version": 3
   },
   "file_extension": ".py",
   "mimetype": "text/x-python",
   "name": "python",
   "nbconvert_exporter": "python",
   "pygments_lexer": "ipython3",
   "version": "3.7.6"
  }
 },
 "nbformat": 4,
 "nbformat_minor": 1
}
