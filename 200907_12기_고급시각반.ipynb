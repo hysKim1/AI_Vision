{
 "cells": [
  {
   "cell_type": "markdown",
   "metadata": {},
   "source": [
    "# [AI 이노베이션 스퀘어] 12기 고급 시각반\n",
    "- github: https://github.com/hysKim1/AI_Vision\n",
    "    - [파이썬 공식문서]https://docs.python.org/ko/3/\n",
    "    - [Numpy 공식문서]https://numpy.org/devdocs/\n",
    "    - [ML]https://developers.google.com/machine-learning/crash-course/ml-intro?hl=ko\n",
    "    - [DL]https://www.tensorflow.org/?hl=ko\n",
    "\n",
    " * [영상 처리/딥러닝을 위한 Python Programming4](#영상-처리/딥러닝을-위한-Python-Programming4) \n",
    "      * [ descriptor:get,set,del](#descriptor)\n",
    "         * [duck-typing ](#duck-typing )\n",
    "      * [property](#property)\n",
    "          * [syntactic sugar](#syntactic-sugar)\n",
    "      * [Metaclass](#Metaclass)\n",
    "          * [Singleton](#Singleton)\n",
    "      \n",
    "---\n",
    "## 영상 처리/딥러닝을 위한 Python Programming5\n",
    "\n",
    "- metaclass\n",
    "    - scikit-laern\n",
    "- descriptor ,abstract classs(abc) \n",
    "    - tf\n",
    "\n",
    "tf, scikit-laern 지향점이 다름.\n",
    "\n",
    "- 딥러닝의 조건이자 문제점\n",
    "     1. 데이터의 양\n",
    "         - 빅데이터\n",
    "     2. 모델 알고리즘\n",
    "         - DL 항상 좋지는 않음\n",
    "         - 기존의 ml로 할수 없었던건이 가능해진것이 지만 대부분에서는 전통적인 알고리즘을 더 많이 사용\n",
    "             - xgboosting, lightGBM 정형데이터에서는 가장 핫한 알고리즘\n",
    "         - 딥러닝 자체가 기계학습임 AI(Artificial Intelligence) > ML(Machine Learning) > DL(Deep Learning)\n",
    "\n",
    "- numpy 전처리에서 중요 \n",
    "\n",
    "### descriptor \n",
    "- 설계의 **우아함** :간결하고 명확함\n",
    "\n",
    "- 파이썬은 접근 제한자 ( private, pubclic, protected) 있음 \n",
    "    - `__*` mangling 하면 이름이   `_class` 바뀌어 바로 접근 안 됨\n",
    "- descriptor 사용하여 접근 제한자를 직접 생성하여 직접 접근 못하게함\n",
    "> - __get__(), __set__() 및 __delete__() 메서드 중 어느 하나가 객체에 대해 정의\n",
    "> - 어트리뷰트 액세스의 기본 동작은 객체의 딕셔너리에서 어트리뷰트를 가져오거나(get) 설정하거나(set) 삭제하는(delete) 것입니다.\n",
    "\n",
    "- java, c++ 처음에 배울때 기본 pirvate\n",
    "    - private: 외부에서 접근 불가\n",
    "    - public : 메소드를 통해서 외부에서 접근 가능하도록 바꿈"
   ]
  },
  {
   "cell_type": "code",
   "execution_count": null,
   "metadata": {},
   "outputs": [],
   "source": [
    "# java 접근제한자 예시\n",
    "# 접근자 설정자\n",
    "pivate int a;\n",
    "\n",
    "public getA(x)\n",
    "public setA(x,a)"
   ]
  },
  {
   "cell_type": "markdown",
   "metadata": {},
   "source": [
    "- python은 직접 특정 변수에 대해서 접근 시킬지, 어떻게 접근 시킬지 여부를 결정하여 접근제한자 없이 만듦\n",
    "    - . 숨겨진 기법을 다룸\n",
    " \n",
    " > 메서드 \\_\\_get__() 이나 \\_\\_set__() 이나 \\_\\_delete__()를 정의하는 객체. 클래스 어트리뷰트가 디스크립터일 때, 어트리뷰트 조회는 특별한 연결 작용을 일으킵니다. 보통, a.b를 읽거나, 쓰거나, 삭제하는데 사용할 때, a의 클래스 딕셔너리에서 b 라고 이름 붙여진 객체를 찾습니다. 하지만 b가 디스크립터면, 해당하는 디스크립터 메서드가 호출됩니다. 디스크립터를 이해하는 것은 파이썬에 대한 깊은 이해의 열쇠인데, 함수, 메서드, 프로퍼티, 클래스 메서드, 스태틱 메서드, 슈퍼 클래스 참조 등의 많은 기능의 기초를 이루고 있기 때문입니다.\n",
    " \n",
    "디스크립터 사용법 안내서 참고:https://docs.python.org/ko/3/howto/descriptor.html\n",
    "\n",
    "### __getattribute__\n",
    "- class 내에 정의된 attribute 없는경우 예외 처리\n",
    "- `__getattr`과 다름\n",
    "- 어떤 값의 get,set, delete를 탐색을 할때나마다 실행됨"
   ]
  },
  {
   "cell_type": "code",
   "execution_count": 13,
   "metadata": {},
   "outputs": [],
   "source": [
    "class X:\n",
    "    def __getattribute__(self,x):\n",
    "        print('__getattribute__')"
   ]
  },
  {
   "cell_type": "code",
   "execution_count": 14,
   "metadata": {},
   "outputs": [
    {
     "name": "stdout",
     "output_type": "stream",
     "text": [
      "__getattribute__\n"
     ]
    }
   ],
   "source": [
    "x=X()\n",
    "x.a #x 내부를 탐색"
   ]
  },
  {
   "cell_type": "code",
   "execution_count": 15,
   "metadata": {},
   "outputs": [
    {
     "name": "stdout",
     "output_type": "stream",
     "text": [
      "__getattribute__\n",
      "__getattribute__\n"
     ]
    },
    {
     "data": {
      "text/plain": [
       "[]"
      ]
     },
     "execution_count": 15,
     "metadata": {},
     "output_type": "execute_result"
    }
   ],
   "source": [
    "dir(x) #내부에 없음 "
   ]
  },
  {
   "cell_type": "markdown",
   "metadata": {},
   "source": [
    "- java,c++에서 get,set 은 기본이 private 이라서 외부에서 접근 할수 없기 만들었기 때문에 외부에서 접근할수 있도록 get,set 만듦\n",
    "- python은 identifier name 을 만들면 자동적으로 get,set,del 만들기 때문에  외부에서 접근 기본적으로 가능 \n",
    "- 자동적으로 만든것을 뒤엎어서 새로 만들면 자동적으로 외부에서 접근 못하게 만들수 있어서 접근제한자가 굳이 필요 하지 않음 "
   ]
  },
  {
   "cell_type": "markdown",
   "metadata": {},
   "source": [
    "- 저번 시간에 \\_\\_getattr__ \n",
    "- 이번에 \\_\\_getattribute__붙음"
   ]
  },
  {
   "cell_type": "raw",
   "metadata": {},
   "source": [
    "class SecurityDoor:\n",
    "    locked=True \n",
    "    def __init__(self,number,status):\n",
    "        self.door=Door(number,status)  #인스턴스\n",
    "        \n",
    "    def open(self):\n",
    "        if self.locked:\n",
    "            return\n",
    "        self.door.open()\n",
    "        \n",
    "        \n",
    "    def __getattr__(self,attr):        #__getattr__ !=getattr()   서로 상이\n",
    "        return getattr(self.door,attr) #__getattribute__"
   ]
  },
  {
   "cell_type": "markdown",
   "metadata": {},
   "source": [
    "error 발생되는지 모든것을 체크함\n",
    "__get__ 있으면 바환 없으면 현재는 반환된 결과가 없어 다음과 같이나옴\n",
    "\n",
    "참고 : https://docs.python.org/ko/3/howto/descriptor.html#id6"
   ]
  },
  {
   "cell_type": "markdown",
   "metadata": {},
   "source": [
    "### \\_\\_getattr__\n",
    "- instance attribute 없을 경우 호출\n",
    "- 인스턴스할 때 내부적으로 탐색하여\n",
    "### \\_\\_getattribute__\n",
    "- \\_\\_getattribute__ 있는지 없는지 먼저 체크하고 다음 단계로 넘겨야하는데 안넘기고 print 하기 때문에 attribute찍힘\n",
    "- 있으면 다른 애한테 위임, 없으면 return 값\n",
    "\n",
    "\n",
    "- 위임 못시키게 만들어놔서 이상하게 나온이유\n",
    "- dir, vars에 안 나오는 이유는 get attribute 단계에서 멈춤\n",
    "\n",
    "|     |            |\n",
    "|:----|:-----------|\n",
    "|vars | \\_\\_dict__ |\n",
    "|dir  | \\_\\_dir__  |\n",
    "|type | \\_\\_class__|"
   ]
  },
  {
   "cell_type": "code",
   "execution_count": 30,
   "metadata": {},
   "outputs": [],
   "source": [
    "class X:\n",
    "    def __init__(self,a):\n",
    "        self.a=a\n",
    "    def __getattr(self,x):\n",
    "        print(self.x)\n",
    "  #  def __getattribute__(self,x):\n",
    "   #     print(\"attr\") "
   ]
  },
  {
   "cell_type": "code",
   "execution_count": 32,
   "metadata": {},
   "outputs": [],
   "source": [
    "y=X(2)"
   ]
  },
  {
   "cell_type": "code",
   "execution_count": 33,
   "metadata": {},
   "outputs": [
    {
     "data": {
      "text/plain": [
       "{'a': 2}"
      ]
     },
     "execution_count": 33,
     "metadata": {},
     "output_type": "execute_result"
    }
   ],
   "source": [
    "vars(y) "
   ]
  },
  {
   "cell_type": "markdown",
   "metadata": {},
   "source": [
    "- get,set\n",
    "    - . \n",
    "- del \n",
    "    - method, function( python3 부터 지원)\n",
    "    \n",
    "#### get\n",
    "-  특정 attribute 이름을 호출\n",
    "\n",
    "#### set\n",
    "-  특정 attribute 에 값 할당\n",
    "\n",
    "#### del\n",
    "- 특정 attribute 을 삭제 \n",
    "    - method `del x.x` \n",
    "    - function `del()`\n",
    "\n",
    "내부에 메소드로 있음"
   ]
  },
  {
   "cell_type": "code",
   "execution_count": 25,
   "metadata": {},
   "outputs": [
    {
     "data": {
      "text/plain": [
       "2"
      ]
     },
     "execution_count": 25,
     "metadata": {},
     "output_type": "execute_result"
    }
   ],
   "source": [
    "y.a    #get"
   ]
  },
  {
   "cell_type": "code",
   "execution_count": 26,
   "metadata": {},
   "outputs": [],
   "source": [
    "y.a=3    #set"
   ]
  },
  {
   "cell_type": "code",
   "execution_count": 27,
   "metadata": {},
   "outputs": [
    {
     "data": {
      "text/plain": [
       "{'a': 3}"
      ]
     },
     "execution_count": 27,
     "metadata": {},
     "output_type": "execute_result"
    }
   ],
   "source": [
    "vars(y)  #변경"
   ]
  },
  {
   "cell_type": "code",
   "execution_count": 28,
   "metadata": {},
   "outputs": [],
   "source": [
    "del y.a #delete "
   ]
  },
  {
   "cell_type": "code",
   "execution_count": 29,
   "metadata": {},
   "outputs": [
    {
     "data": {
      "text/plain": [
       "{}"
      ]
     },
     "execution_count": 29,
     "metadata": {},
     "output_type": "execute_result"
    }
   ],
   "source": [
    "vars(y) #삭제됨"
   ]
  },
  {
   "cell_type": "code",
   "execution_count": null,
   "metadata": {},
   "outputs": [],
   "source": [
    "del(y.a)"
   ]
  },
  {
   "cell_type": "markdown",
   "metadata": {},
   "source": [
    "#### 디스크립터 호출하기\n",
    "내부적 절차가 하단처럼 됨\n",
    "\n",
    "에러가 발생하는지 모든것을 체크를 해보고 `__get__`이 있으면 반환"
   ]
  },
  {
   "cell_type": "code",
   "execution_count": 45,
   "metadata": {},
   "outputs": [],
   "source": [
    "def __getattribute__(self, key):\n",
    "    \"Emulate type_getattro() in Objects/typeobject.c\"\n",
    "    v = object.__getattribute__(self, key)\n",
    "    if hasattr(v, '__get__'):\n",
    "        return v.__get__(None, self)\n",
    "    return v"
   ]
  },
  {
   "cell_type": "code",
   "execution_count": 28,
   "metadata": {},
   "outputs": [],
   "source": [
    "class X:\n",
    "    def __init__(self):\n",
    "        self.a=1\n",
    "    def __getattr(self,x):\n",
    "        print(self.x)\n",
    "    def __getattribute__(self,x):\n",
    "        print(x)  #__class__"
   ]
  },
  {
   "cell_type": "markdown",
   "metadata": {},
   "source": [
    "먼저 `type()`/`__class__` 체크"
   ]
  },
  {
   "cell_type": "code",
   "execution_count": 29,
   "metadata": {},
   "outputs": [
    {
     "name": "stdout",
     "output_type": "stream",
     "text": [
      "__class__\n",
      "__class__\n",
      "__class__\n",
      "__class__\n",
      "__class__\n",
      "__class__\n"
     ]
    }
   ],
   "source": [
    "x=X() #type(b) ==b.__class__ 와 동일 "
   ]
  },
  {
   "cell_type": "code",
   "execution_count": 30,
   "metadata": {},
   "outputs": [
    {
     "data": {
      "text/plain": [
       "__main__.X"
      ]
     },
     "execution_count": 30,
     "metadata": {},
     "output_type": "execute_result"
    }
   ],
   "source": [
    "type(x)"
   ]
  },
  {
   "cell_type": "code",
   "execution_count": 34,
   "metadata": {},
   "outputs": [],
   "source": [
    "x=X(3)"
   ]
  },
  {
   "cell_type": "code",
   "execution_count": 35,
   "metadata": {},
   "outputs": [
    {
     "data": {
      "text/plain": [
       "3"
      ]
     },
     "execution_count": 35,
     "metadata": {},
     "output_type": "execute_result"
    }
   ],
   "source": [
    "x.x      #get"
   ]
  },
  {
   "cell_type": "code",
   "execution_count": 36,
   "metadata": {},
   "outputs": [],
   "source": [
    "x.x=1    #set "
   ]
  },
  {
   "cell_type": "code",
   "execution_count": 37,
   "metadata": {},
   "outputs": [],
   "source": [
    "del(x.x) #del "
   ]
  },
  {
   "cell_type": "code",
   "execution_count": 38,
   "metadata": {},
   "outputs": [
    {
     "data": {
      "text/plain": [
       "{}"
      ]
     },
     "execution_count": 38,
     "metadata": {},
     "output_type": "execute_result"
    }
   ],
   "source": [
    "vars(x)"
   ]
  },
  {
   "cell_type": "markdown",
   "metadata": {},
   "source": [
    "del까지 중요한 이유 : garbage collection과 관련되서 메모리에서 삭제하기 위해서 중요함\n",
    "\n",
    "### garbage collection \n",
    "- 파이썬ㅡ garbage collection 있음\n",
    "- 쓰레기 수집은 동적 할당된 메모리 영역 가운데 더 이상 사용할 수 없게 된 영역을 탐지하여 자동으로 해제하는 기법이다. 더 이상 사용할 수 없게 된 영역이란, 어떤 변수도 가리키지 않게 된 영역을 의미한다. wikipedia"
   ]
  },
  {
   "cell_type": "code",
   "execution_count": 40,
   "metadata": {},
   "outputs": [
    {
     "name": "stdout",
     "output_type": "stream",
     "text": [
      "Help on built-in module gc:\n",
      "\n",
      "NAME\n",
      "    gc - This module provides access to the garbage collector for reference cycles.\n",
      "\n",
      "MODULE REFERENCE\n",
      "    https://docs.python.org/3.7/library/gc\n",
      "    \n",
      "    The following documentation is automatically generated from the Python\n",
      "    source files.  It may be incomplete, incorrect or include features that\n",
      "    are considered implementation detail and may vary between Python\n",
      "    implementations.  When in doubt, consult the module reference at the\n",
      "    location listed above.\n",
      "\n",
      "DESCRIPTION\n",
      "    enable() -- Enable automatic garbage collection.\n",
      "    disable() -- Disable automatic garbage collection.\n",
      "    isenabled() -- Returns true if automatic collection is enabled.\n",
      "    collect() -- Do a full collection right now.\n",
      "    get_count() -- Return the current collection counts.\n",
      "    get_stats() -- Return list of dictionaries containing per-generation stats.\n",
      "    set_debug() -- Set debugging flags.\n",
      "    get_debug() -- Get debugging flags.\n",
      "    set_threshold() -- Set the collection thresholds.\n",
      "    get_threshold() -- Return the current the collection thresholds.\n",
      "    get_objects() -- Return a list of all objects tracked by the collector.\n",
      "    is_tracked() -- Returns true if a given object is tracked.\n",
      "    get_referrers() -- Return the list of objects that refer to an object.\n",
      "    get_referents() -- Return the list of objects that an object refers to.\n",
      "    freeze() -- Freeze all tracked objects and ignore them for future collections.\n",
      "    unfreeze() -- Unfreeze all objects in the permanent generation.\n",
      "    get_freeze_count() -- Return the number of objects in the permanent generation.\n",
      "\n",
      "FUNCTIONS\n",
      "    collect(generation=2)\n",
      "        Run the garbage collector.\n",
      "        \n",
      "        With no arguments, run a full collection.  The optional argument\n",
      "        may be an integer specifying which generation to collect.  A ValueError\n",
      "        is raised if the generation number is invalid.\n",
      "        \n",
      "        The number of unreachable objects is returned.\n",
      "    \n",
      "    disable()\n",
      "        Disable automatic garbage collection.\n",
      "    \n",
      "    enable()\n",
      "        Enable automatic garbage collection.\n",
      "    \n",
      "    freeze()\n",
      "        Freeze all current tracked objects and ignore them for future collections.\n",
      "        \n",
      "        This can be used before a POSIX fork() call to make the gc copy-on-write friendly.\n",
      "        Note: collection before a POSIX fork() call may free pages for future allocation\n",
      "        which can cause copy-on-write.\n",
      "    \n",
      "    get_count()\n",
      "        Return a three-tuple of the current collection counts.\n",
      "    \n",
      "    get_debug()\n",
      "        Get the garbage collection debugging flags.\n",
      "    \n",
      "    get_freeze_count()\n",
      "        Return the number of objects in the permanent generation.\n",
      "    \n",
      "    get_objects()\n",
      "        Return a list of objects tracked by the collector (excluding the list returned).\n",
      "    \n",
      "    get_referents(...)\n",
      "        get_referents(*objs) -> list\n",
      "        Return the list of objects that are directly referred to by objs.\n",
      "    \n",
      "    get_referrers(...)\n",
      "        get_referrers(*objs) -> list\n",
      "        Return the list of objects that directly refer to any of objs.\n",
      "    \n",
      "    get_stats()\n",
      "        Return a list of dictionaries containing per-generation statistics.\n",
      "    \n",
      "    get_threshold()\n",
      "        Return the current collection thresholds.\n",
      "    \n",
      "    is_tracked(obj, /)\n",
      "        Returns true if the object is tracked by the garbage collector.\n",
      "        \n",
      "        Simple atomic objects will return false.\n",
      "    \n",
      "    isenabled()\n",
      "        Returns true if automatic garbage collection is enabled.\n",
      "    \n",
      "    set_debug(flags, /)\n",
      "        Set the garbage collection debugging flags.\n",
      "        \n",
      "          flags\n",
      "            An integer that can have the following bits turned on:\n",
      "              DEBUG_STATS - Print statistics during collection.\n",
      "              DEBUG_COLLECTABLE - Print collectable objects found.\n",
      "              DEBUG_UNCOLLECTABLE - Print unreachable but uncollectable objects\n",
      "                found.\n",
      "              DEBUG_SAVEALL - Save objects to gc.garbage rather than freeing them.\n",
      "              DEBUG_LEAK - Debug leaking programs (everything but STATS).\n",
      "        \n",
      "        Debugging information is written to sys.stderr.\n",
      "    \n",
      "    set_threshold(...)\n",
      "        set_threshold(threshold0, [threshold1, threshold2]) -> None\n",
      "        \n",
      "        Sets the collection thresholds.  Setting threshold0 to zero disables\n",
      "        collection.\n",
      "    \n",
      "    unfreeze()\n",
      "        Unfreeze all objects in the permanent generation.\n",
      "        \n",
      "        Put all objects in the permanent generation back into oldest generation.\n",
      "\n",
      "DATA\n",
      "    DEBUG_COLLECTABLE = 2\n",
      "    DEBUG_LEAK = 38\n",
      "    DEBUG_SAVEALL = 32\n",
      "    DEBUG_STATS = 1\n",
      "    DEBUG_UNCOLLECTABLE = 4\n",
      "    callbacks = []\n",
      "    garbage = []\n",
      "\n",
      "FILE\n",
      "    (built-in)\n",
      "\n",
      "\n"
     ]
    }
   ],
   "source": [
    "import gc\n",
    "help(gc)  #garbage collection"
   ]
  },
  {
   "cell_type": "code",
   "execution_count": 41,
   "metadata": {},
   "outputs": [
    {
     "data": {
      "text/plain": [
       "<function sys.getrefcount>"
      ]
     },
     "execution_count": 41,
     "metadata": {},
     "output_type": "execute_result"
    }
   ],
   "source": [
    "import sys\n",
    "sys.getrefcount #reference count"
   ]
  },
  {
   "cell_type": "code",
   "execution_count": 42,
   "metadata": {},
   "outputs": [
    {
     "data": {
      "text/plain": [
       "19"
      ]
     },
     "execution_count": 42,
     "metadata": {},
     "output_type": "execute_result"
    }
   ],
   "source": [
    "sys.getrefcount(x)# x refernce 횟수"
   ]
  },
  {
   "cell_type": "markdown",
   "metadata": {},
   "source": [
    "### accesser\n",
    "- get,set,del을 java, c++,swift  에서는 프로그래밍 일방 언어인 접근자로 불림\n",
    "\n",
    "\n",
    "\n",
    " `__get__`,` __set__`은 인자 3개 정의 해야함 \n",
    "    -  duck-typing 이라서 형태를 맞추어 줘야함"
   ]
  },
  {
   "cell_type": "code",
   "execution_count": 34,
   "metadata": {},
   "outputs": [],
   "source": [
    "### composition , duck-typing 개념을 알야아함\n",
    "class T:\n",
    "    def __init__(self,x):\n",
    "        self.x=x\n",
    "    def __get__(self,obj, objtype):\n",
    "        print('__get__')\n",
    "        return self.x\n",
    "        \n",
    "    def __set__(self,obj,val):\n",
    "        print('__set__')\n",
    "        self.x=val+10\n",
    "        print('private')"
   ]
  },
  {
   "cell_type": "markdown",
   "metadata": {},
   "source": [
    "### duck-typing\n",
    "- 오리처럼 \"꽥꽥\" 울면 오리다!\n",
    "- 없지만 특정기능을 정의할떄 그 기능이 실행 됨\n",
    "\n",
    "- `.`에서 get,set이 핵심 기능이기 때문에 먼저 다룸\n",
    "- get,set을 __get__,__set__ 재정의 가능\n",
    "`__get__,__set__ `함수기능을 가져다 쓰기 때문에 이 것을 정의한 객체처럼 사용 가능"
   ]
  },
  {
   "cell_type": "code",
   "execution_count": 35,
   "metadata": {},
   "outputs": [
    {
     "data": {
      "text/plain": [
       "['__class__',\n",
       " '__delattr__',\n",
       " '__dir__',\n",
       " '__doc__',\n",
       " '__eq__',\n",
       " '__format__',\n",
       " '__ge__',\n",
       " '__getattribute__',\n",
       " '__gt__',\n",
       " '__hash__',\n",
       " '__init__',\n",
       " '__init_subclass__',\n",
       " '__le__',\n",
       " '__lt__',\n",
       " '__ne__',\n",
       " '__new__',\n",
       " '__reduce__',\n",
       " '__reduce_ex__',\n",
       " '__repr__',\n",
       " '__setattr__',\n",
       " '__sizeof__',\n",
       " '__str__',\n",
       " '__subclasshook__']"
      ]
     },
     "execution_count": 35,
     "metadata": {},
     "output_type": "execute_result"
    }
   ],
   "source": [
    "dir(object) # object 에 __get__,__set__ 없음"
   ]
  },
  {
   "cell_type": "markdown",
   "metadata": {},
   "source": [
    "T의 인스턴스는 `__get__`,`__set__` 정의 되어있어 하단과 같이 다르게 행동 할 수 있음"
   ]
  },
  {
   "cell_type": "markdown",
   "metadata": {},
   "source": [
    "더 막강하게 기능을 만들수 있음\n",
    "- duck-typing, composition 에 대한 이해가 필요한 이유!!"
   ]
  },
  {
   "cell_type": "code",
   "execution_count": 36,
   "metadata": {},
   "outputs": [],
   "source": [
    "class S:\n",
    "    x=T(3) # composition T의 인스턴스 x"
   ]
  },
  {
   "cell_type": "code",
   "execution_count": 37,
   "metadata": {},
   "outputs": [],
   "source": [
    "aa=S()"
   ]
  },
  {
   "cell_type": "code",
   "execution_count": 38,
   "metadata": {},
   "outputs": [
    {
     "name": "stdout",
     "output_type": "stream",
     "text": [
      "__get__\n"
     ]
    },
    {
     "data": {
      "text/plain": [
       "3"
      ]
     },
     "execution_count": 38,
     "metadata": {},
     "output_type": "execute_result"
    }
   ],
   "source": [
    "aa.x   # get , T(3)인스턴스한 값을 가져옴"
   ]
  },
  {
   "cell_type": "code",
   "execution_count": 39,
   "metadata": {},
   "outputs": [
    {
     "name": "stdout",
     "output_type": "stream",
     "text": [
      "__set__\n",
      "private\n"
     ]
    }
   ],
   "source": [
    "aa.x=5  # set"
   ]
  },
  {
   "cell_type": "code",
   "execution_count": 40,
   "metadata": {},
   "outputs": [
    {
     "name": "stdout",
     "output_type": "stream",
     "text": [
      "__get__\n"
     ]
    },
    {
     "data": {
      "text/plain": [
       "15"
      ]
     },
     "execution_count": 40,
     "metadata": {},
     "output_type": "execute_result"
    }
   ],
   "source": [
    "aa.x   #값이 변하였음"
   ]
  },
  {
   "cell_type": "markdown",
   "metadata": {},
   "source": [
    "- python get,set 재정의 가능(overriding 의 의미는 아님) \n",
    "- 최상위 객체 object에는 get,set 없으며 get,set이 있으면 있는 클래스처럼 흉내내는 duck-typing 기법으로 만들기 때문에 3개 인자 맞추어야함\n",
    "    - 인자상관없이 뒤엎는 overriding 개념이 아니고 추가하는 개념이기 때문에 \n",
    "- 다른쪽에서 호출을 할 경우 인자 3개인걸 그대로 3개로 불르기 때문에 큰 프레임워크에서는 overriding도 기본적으로 모양 맞추어줘야함\n",
    "\n",
    "accasor 를 바꿀수 있는 descriptor가 . 의 기능을 바꾸어 결과를 제공하는 방식을 바꿨구나  \n",
    "\n",
    "---\n",
    "만드는 방법3가지는 다르며 최종 결과물은 동일(파싱트리..)\n",
    "\n",
    "- scikit-learn 의 columntransoposer 오버라이딩한 기법 다룬적 있음 \n",
    "- keras callback 오버라이딩에서도 인자를 맞춤\n",
    "- 다른쪽에서 호출하는 애가 기본적으로 2개를 호출하는 경우가 있기 때문"
   ]
  },
  {
   "cell_type": "code",
   "execution_count": 41,
   "metadata": {},
   "outputs": [
    {
     "ename": "TypeError",
     "evalue": "__get__() takes 2 positional arguments but 3 were given",
     "output_type": "error",
     "traceback": [
      "\u001b[0;31m---------------------------------------------------------------------------\u001b[0m",
      "\u001b[0;31mTypeError\u001b[0m                                 Traceback (most recent call last)",
      "\u001b[0;32m<ipython-input-41-f137de6da1e3>\u001b[0m in \u001b[0;36m<module>\u001b[0;34m\u001b[0m\n\u001b[1;32m     14\u001b[0m     \u001b[0mx\u001b[0m\u001b[0;34m=\u001b[0m\u001b[0mT\u001b[0m\u001b[0;34m(\u001b[0m\u001b[0;36m3\u001b[0m\u001b[0;34m)\u001b[0m \u001b[0;31m# composition T의 인스턴스 x\u001b[0m\u001b[0;34m\u001b[0m\u001b[0;34m\u001b[0m\u001b[0m\n\u001b[1;32m     15\u001b[0m \u001b[0maa\u001b[0m\u001b[0;34m=\u001b[0m\u001b[0mS\u001b[0m\u001b[0;34m(\u001b[0m\u001b[0;34m)\u001b[0m\u001b[0;34m\u001b[0m\u001b[0;34m\u001b[0m\u001b[0m\n\u001b[0;32m---> 16\u001b[0;31m \u001b[0maa\u001b[0m\u001b[0;34m.\u001b[0m\u001b[0mx\u001b[0m\u001b[0;34m\u001b[0m\u001b[0;34m\u001b[0m\u001b[0m\n\u001b[0m",
      "\u001b[0;31mTypeError\u001b[0m: __get__() takes 2 positional arguments but 3 were given"
     ]
    }
   ],
   "source": [
    "### composition , duck-typing 개념을 알야아함\n",
    "class T:\n",
    "    def __init__(self,x):\n",
    "        self.x=x\n",
    "    def __get__(self,obj):\n",
    "        print('__get__')\n",
    "        return self.x\n",
    "        \n",
    "    def __set__(self,obj):\n",
    "        print('__set__')\n",
    "        self.x=val+10\n",
    "        print('private')\n",
    "class S:\n",
    "    x=T(3) # composition T의 인스턴스 x\n",
    "aa=S()\n",
    "aa.x  "
   ]
  },
  {
   "cell_type": "markdown",
   "metadata": {},
   "source": [
    "### property\n",
    "- 조금더 쉽게 특정 기능만 바꿈\n",
    "- `Init signature` -> class \n",
    "- `property(fget=None, fset=None, fdel=None, doc=None)`\n",
    "- 실제 관리하는 property 객체를 composition 으로 가져와서 관리함"
   ]
  },
  {
   "cell_type": "markdown",
   "metadata": {},
   "source": [
    "위의 composition, duck-typing 이용 예시 를 property 이용하여 표현\n",
    "- 실제변수 `__x`인데 x 라는 property  이용하여 `__x` 감추고 x로 get,set,del 하여 information hidding함. \n",
    "- `__get__`,`__set__` 은 property와 관련되었고 property를 duck-typing 함"
   ]
  },
  {
   "cell_type": "code",
   "execution_count": 51,
   "metadata": {},
   "outputs": [],
   "source": [
    "# property 를 이용한 예\n",
    "class D:\n",
    "    def __init__(self,x):\n",
    "        self.__x=x\n",
    "    def getx(self):\n",
    "        print('get')\n",
    "        return self.__x\n",
    "    def setx(self,val):\n",
    "        print('set')\n",
    "        self.__x=val\n",
    "    def delx(self):\n",
    "        print('del')\n",
    "        del self.__x\n",
    "\n",
    "    x=property(fget=getx,fset=setx,fdel=delx) #composition "
   ]
  },
  {
   "cell_type": "code",
   "execution_count": 52,
   "metadata": {},
   "outputs": [
    {
     "data": {
      "text/plain": [
       "type"
      ]
     },
     "execution_count": 52,
     "metadata": {},
     "output_type": "execute_result"
    }
   ],
   "source": [
    "type(D) #class"
   ]
  },
  {
   "cell_type": "code",
   "execution_count": 49,
   "metadata": {},
   "outputs": [],
   "source": [
    "d=D(5)"
   ]
  },
  {
   "cell_type": "code",
   "execution_count": 7,
   "metadata": {},
   "outputs": [
    {
     "name": "stdout",
     "output_type": "stream",
     "text": [
      "get\n"
     ]
    },
    {
     "data": {
      "text/plain": [
       "5"
      ]
     },
     "execution_count": 7,
     "metadata": {},
     "output_type": "execute_result"
    }
   ],
   "source": [
    "d.x #get"
   ]
  },
  {
   "cell_type": "code",
   "execution_count": 9,
   "metadata": {},
   "outputs": [
    {
     "name": "stdout",
     "output_type": "stream",
     "text": [
      "set\n"
     ]
    }
   ],
   "source": [
    "d.x=5"
   ]
  },
  {
   "cell_type": "code",
   "execution_count": 50,
   "metadata": {},
   "outputs": [
    {
     "name": "stdout",
     "output_type": "stream",
     "text": [
      "del\n"
     ]
    }
   ],
   "source": [
    "del(d.x) #function 방식 : del 호출"
   ]
  },
  {
   "cell_type": "code",
   "execution_count": null,
   "metadata": {},
   "outputs": [],
   "source": [
    "del d.x #statement 방식"
   ]
  },
  {
   "cell_type": "markdown",
   "metadata": {},
   "source": [
    "상속 가능"
   ]
  },
  {
   "cell_type": "code",
   "execution_count": 52,
   "metadata": {},
   "outputs": [],
   "source": [
    "class E(D): #python 상속 -실제 상속하면 나한테 호출한것을 같은게 있으면 \n",
    "    pass"
   ]
  },
  {
   "cell_type": "code",
   "execution_count": 54,
   "metadata": {},
   "outputs": [
    {
     "data": {
      "text/plain": [
       "True"
      ]
     },
     "execution_count": 54,
     "metadata": {},
     "output_type": "execute_result"
    }
   ],
   "source": [
    "e=E(3) # 없으니 D것을 받음\n",
    "D.__init__ is E.__init__"
   ]
  },
  {
   "cell_type": "code",
   "execution_count": 28,
   "metadata": {},
   "outputs": [],
   "source": [
    "class X:\n",
    "    def __init__(self,x): \n",
    "        self.x=x\n",
    "        \n",
    "    def x(self): #일부러 이름 동일하게  함\n",
    "        print('xx')"
   ]
  },
  {
   "cell_type": "code",
   "execution_count": 29,
   "metadata": {},
   "outputs": [
    {
     "data": {
      "text/plain": [
       "3"
      ]
     },
     "execution_count": 29,
     "metadata": {},
     "output_type": "execute_result"
    }
   ],
   "source": [
    "xx=X(3)\n",
    "xx.x  #get "
   ]
  },
  {
   "cell_type": "code",
   "execution_count": 42,
   "metadata": {},
   "outputs": [
    {
     "ename": "NameError",
     "evalue": "name 'xx' is not defined",
     "output_type": "error",
     "traceback": [
      "\u001b[0;31m---------------------------------------------------------------------------\u001b[0m",
      "\u001b[0;31mNameError\u001b[0m                                 Traceback (most recent call last)",
      "\u001b[0;32m<ipython-input-42-38a303410d13>\u001b[0m in \u001b[0;36m<module>\u001b[0;34m\u001b[0m\n\u001b[0;32m----> 1\u001b[0;31m \u001b[0mxx\u001b[0m\u001b[0;34m.\u001b[0m\u001b[0mx\u001b[0m\u001b[0;34m(\u001b[0m\u001b[0;34m)\u001b[0m\u001b[0;34m\u001b[0m\u001b[0;34m\u001b[0m\u001b[0m\n\u001b[0m",
      "\u001b[0;31mNameError\u001b[0m: name 'xx' is not defined"
     ]
    }
   ],
   "source": [
    "xx.x() #가로 붙여야되는데 실행이 안 됨 -> 이름 동일한 경우 클래스내의 우선순위를 판단하기 때문"
   ]
  },
  {
   "cell_type": "code",
   "execution_count": 46,
   "metadata": {},
   "outputs": [],
   "source": [
    "class X:\n",
    "    def __init__(self,x):\n",
    "        self.__x=x  #_x 로 바꿈\n",
    "    def x(self):\n",
    "        print('xx')"
   ]
  },
  {
   "cell_type": "code",
   "execution_count": 47,
   "metadata": {},
   "outputs": [
    {
     "name": "stdout",
     "output_type": "stream",
     "text": [
      "xx\n"
     ]
    }
   ],
   "source": [
    "xx=X(3)\n",
    "xx.x()  # "
   ]
  },
  {
   "cell_type": "markdown",
   "metadata": {},
   "source": [
    "- 이전에는 function decorator 만 배웠는데 class decorator 도 있음\n",
    "- property를 decorator형태로 사용하여 function  처럼 사용하는 것이 아님 .이용하여 get,set처럼 쓰는 가장 많이 쓰이는 방식\n",
    "\n",
    "### syntactic sugar\n",
    "- 문법적 편의성 - 쉽게 사용하도록 만들어짐\n",
    "- property(fget=None, fset=None, fdel=None, doc=None)을 대신할 문법을  `@property,@func.setter,@func.deleter`로 각 각 만듦\n",
    "\n",
    "property 가 어렵기 때문에 쉽게 사용할 수 있도록 제공한 방식 "
   ]
  },
  {
   "cell_type": "code",
   "execution_count": 53,
   "metadata": {},
   "outputs": [],
   "source": [
    "class X:\n",
    "    def __init__(self,x):\n",
    "        self.__x=x\n",
    "    @property     #__get__ 처럼 쓰임\n",
    "    def x(self):\n",
    "        print('get')\n",
    "        \n",
    "    @x.setter    #set\n",
    "    def x(self,val):\n",
    "        print('set')\n",
    "        self.__x=val\n",
    " #   @x.deleter  #del"
   ]
  },
  {
   "cell_type": "code",
   "execution_count": 55,
   "metadata": {},
   "outputs": [
    {
     "name": "stdout",
     "output_type": "stream",
     "text": [
      "get\n"
     ]
    },
    {
     "ename": "TypeError",
     "evalue": "'NoneType' object is not callable",
     "output_type": "error",
     "traceback": [
      "\u001b[0;31m---------------------------------------------------------------------------\u001b[0m",
      "\u001b[0;31mTypeError\u001b[0m                                 Traceback (most recent call last)",
      "\u001b[0;32m<ipython-input-55-860f3be9ac68>\u001b[0m in \u001b[0;36m<module>\u001b[0;34m\u001b[0m\n\u001b[1;32m      1\u001b[0m \u001b[0mxx\u001b[0m\u001b[0;34m=\u001b[0m\u001b[0mX\u001b[0m\u001b[0;34m(\u001b[0m\u001b[0;36m3\u001b[0m\u001b[0;34m)\u001b[0m\u001b[0;34m\u001b[0m\u001b[0;34m\u001b[0m\u001b[0m\n\u001b[0;32m----> 2\u001b[0;31m \u001b[0mxx\u001b[0m\u001b[0;34m.\u001b[0m\u001b[0mx\u001b[0m\u001b[0;34m(\u001b[0m\u001b[0;34m)\u001b[0m\u001b[0;34m\u001b[0m\u001b[0;34m\u001b[0m\u001b[0m\n\u001b[0m",
      "\u001b[0;31mTypeError\u001b[0m: 'NoneType' object is not callable"
     ]
    }
   ],
   "source": [
    "xx=X(3)\n",
    "xx.x()"
   ]
  },
  {
   "cell_type": "code",
   "execution_count": 56,
   "metadata": {},
   "outputs": [
    {
     "name": "stdout",
     "output_type": "stream",
     "text": [
      "get\n"
     ]
    }
   ],
   "source": [
    "xx.x #property 붙였더니 get처럼 쓰임"
   ]
  },
  {
   "cell_type": "code",
   "execution_count": 57,
   "metadata": {},
   "outputs": [
    {
     "name": "stdout",
     "output_type": "stream",
     "text": [
      "set\n"
     ]
    }
   ],
   "source": [
    "xx.x=5 #set"
   ]
  },
  {
   "cell_type": "markdown",
   "metadata": {},
   "source": [
    "shape,dtype 내부적으로 위처럼 property이용해 만들어져 있음 \n",
    "pytorch : https://pytorch.org/docs/stable/tensor_attributes.html\n",
    "- torch.dtype 도 property 이용 "
   ]
  },
  {
   "cell_type": "code",
   "execution_count": 43,
   "metadata": {},
   "outputs": [],
   "source": [
    "import numpy as np\n",
    "x= np.array([1,2,3])"
   ]
  },
  {
   "cell_type": "code",
   "execution_count": 44,
   "metadata": {},
   "outputs": [
    {
     "data": {
      "text/plain": [
       "(3,)"
      ]
     },
     "execution_count": 44,
     "metadata": {},
     "output_type": "execute_result"
    }
   ],
   "source": [
    "x.shape #shift+tab   "
   ]
  },
  {
   "cell_type": "code",
   "execution_count": 46,
   "metadata": {},
   "outputs": [
    {
     "ename": "TypeError",
     "evalue": "'numpy.dtype' object is not callable",
     "output_type": "error",
     "traceback": [
      "\u001b[1;31m---------------------------------------------------------------------------\u001b[0m",
      "\u001b[1;31mTypeError\u001b[0m                                 Traceback (most recent call last)",
      "\u001b[1;32m<ipython-input-46-65d19f8d4881>\u001b[0m in \u001b[0;36m<module>\u001b[1;34m\u001b[0m\n\u001b[1;32m----> 1\u001b[1;33m \u001b[0mx\u001b[0m\u001b[1;33m.\u001b[0m\u001b[0mdtype\u001b[0m\u001b[1;33m(\u001b[0m\u001b[1;33m)\u001b[0m\u001b[1;33m\u001b[0m\u001b[1;33m\u001b[0m\u001b[0m\n\u001b[0m",
      "\u001b[1;31mTypeError\u001b[0m: 'numpy.dtype' object is not callable"
     ]
    }
   ],
   "source": [
    "x.dtype"
   ]
  },
  {
   "cell_type": "markdown",
   "metadata": {},
   "source": [
    "용어 구분\n",
    "\n",
    "parameter ,argument : python [용어집](https://docs.python.org/ko/3/glossary.html)\n",
    "\n",
    "attribute, property : \n",
    "- 둘다 한국어에서는 속성으로 번역\n",
    "- attribute :  instance, class attribute \n",
    "    - attribute 안에 메소드 들어간다.\n",
    "    - atttibute 안에 property 들언간다 \n",
    "        -  . 으로 접근 가능하면 모두 attribute 으로 보면 됨( method 포함)\n",
    "- tf @ 붙은거 많음 : decorator ,property ( 데코레이터임에도 많이쓰여서)"
   ]
  },
  {
   "cell_type": "markdown",
   "metadata": {},
   "source": [
    "Python Descriptors 책에서 내부에 발췌한 내용 업로드함\n",
    "- descriptor 단계 복잡함\n",
    "- get, getattr 실행 되기 전까지의 단계  \n",
    "descriptor.png 참고\n",
    "\n",
    "\n",
    "\n",
    "### abstractmethod\n",
    "- 모양만 만들어 놓음\n",
    "- class 를 추상클래스로 만듦\n",
    "- 특정 메소드만 추상 메소드로 만들 수 잇음\n",
    "- 사용자 입장에서는 접할 경우가 없어 간단히 소개만함 , 보통 누가 만들어 놓기떄문에 상속받아 변화시키기때문\n",
    "- java, C++  배우신 분들은 친숙한 단어 \n",
    "- interface 를 정해놓고 상속 받은 애가 재정의를 꼭 해야함"
   ]
  },
  {
   "cell_type": "code",
   "execution_count": 64,
   "metadata": {},
   "outputs": [],
   "source": [
    "from abc import  abstractmethod,ABCMeta"
   ]
  },
  {
   "cell_type": "code",
   "execution_count": 88,
   "metadata": {},
   "outputs": [],
   "source": [
    "class X:\n",
    "    def a(self):  \n",
    "        raise NotImplementedError"
   ]
  },
  {
   "cell_type": "code",
   "execution_count": 89,
   "metadata": {},
   "outputs": [
    {
     "ename": "NotImplementedError",
     "evalue": "",
     "output_type": "error",
     "traceback": [
      "\u001b[0;31m---------------------------------------------------------------------------\u001b[0m",
      "\u001b[0;31mNotImplementedError\u001b[0m                       Traceback (most recent call last)",
      "\u001b[0;32m<ipython-input-89-a669f50c40c9>\u001b[0m in \u001b[0;36m<module>\u001b[0;34m\u001b[0m\n\u001b[1;32m      1\u001b[0m \u001b[0ma\u001b[0m\u001b[0;34m=\u001b[0m\u001b[0mX\u001b[0m\u001b[0;34m(\u001b[0m\u001b[0;34m)\u001b[0m\u001b[0;34m\u001b[0m\u001b[0;34m\u001b[0m\u001b[0m\n\u001b[0;32m----> 2\u001b[0;31m \u001b[0ma\u001b[0m\u001b[0;34m.\u001b[0m\u001b[0ma\u001b[0m\u001b[0;34m(\u001b[0m\u001b[0;34m)\u001b[0m   \u001b[0;31m#NotImplementedError: 구현이 안된 부분을 Error 를 강제로 발생 시켜서 알림\u001b[0m\u001b[0;34m\u001b[0m\u001b[0;34m\u001b[0m\u001b[0m\n\u001b[0m",
      "\u001b[0;32m<ipython-input-88-28b13428ccd9>\u001b[0m in \u001b[0;36ma\u001b[0;34m(self)\u001b[0m\n\u001b[1;32m      1\u001b[0m \u001b[0;32mclass\u001b[0m \u001b[0mX\u001b[0m\u001b[0;34m:\u001b[0m\u001b[0;34m\u001b[0m\u001b[0;34m\u001b[0m\u001b[0m\n\u001b[1;32m      2\u001b[0m     \u001b[0;32mdef\u001b[0m \u001b[0ma\u001b[0m\u001b[0;34m(\u001b[0m\u001b[0mself\u001b[0m\u001b[0;34m)\u001b[0m\u001b[0;34m:\u001b[0m\u001b[0;34m\u001b[0m\u001b[0;34m\u001b[0m\u001b[0m\n\u001b[0;32m----> 3\u001b[0;31m         \u001b[0;32mraise\u001b[0m \u001b[0mNotImplementedError\u001b[0m\u001b[0;34m\u001b[0m\u001b[0;34m\u001b[0m\u001b[0m\n\u001b[0m",
      "\u001b[0;31mNotImplementedError\u001b[0m: "
     ]
    }
   ],
   "source": [
    "a=X()\n",
    "a.a()   #NotImplementedError: 구현이 안된 부분을 Error 를 강제로 발생 시켜서 알림"
   ]
  },
  {
   "cell_type": "code",
   "execution_count": 90,
   "metadata": {},
   "outputs": [],
   "source": [
    "class Y(X):\n",
    "    def a(self):  \n",
    "        print('a')"
   ]
  },
  {
   "cell_type": "code",
   "execution_count": 91,
   "metadata": {},
   "outputs": [
    {
     "name": "stdout",
     "output_type": "stream",
     "text": [
      "a\n"
     ]
    }
   ],
   "source": [
    "b=Y()\n",
    "b.a()   "
   ]
  },
  {
   "cell_type": "markdown",
   "metadata": {},
   "source": [
    "### ABCMeta\n",
    "- scikit-leran 에서 많이 나옴\n",
    "- 알고리즘 비슷한것들 끼리 묶어 놓음\n",
    "- 하위상속받는 애들이 강제로 구현하도록 시킴"
   ]
  },
  {
   "cell_type": "code",
   "execution_count": 65,
   "metadata": {},
   "outputs": [
    {
     "name": "stderr",
     "output_type": "stream",
     "text": [
      "C:\\ProgramData\\Anaconda3\\lib\\site-packages\\sklearn\\utils\\deprecation.py:144: FutureWarning: The sklearn.linear_model.base module is  deprecated in version 0.22 and will be removed in version 0.24. The corresponding classes / functions should instead be imported from sklearn.linear_model. Anything that cannot be imported from sklearn.linear_model is now part of the private API.\n",
      "  warnings.warn(message, FutureWarning)\n"
     ]
    }
   ],
   "source": [
    "from sklearn.linear_model import base #공통된 특성 기반으로 선형 모델 모아 놓음"
   ]
  },
  {
   "cell_type": "markdown",
   "metadata": {},
   "source": [
    "`def __getattr__(name):\n",
    "    return getattr(_base, name) `\n"
   ]
  },
  {
   "cell_type": "code",
   "execution_count": 66,
   "metadata": {},
   "outputs": [
    {
     "name": "stdout",
     "output_type": "stream",
     "text": [
      "\n",
      "# THIS FILE WAS AUTOMATICALLY GENERATED BY deprecated_modules.py\n",
      "import sys\n",
      "from . import _base\n",
      "from ..externals._pep562 import Pep562\n",
      "from ..utils.deprecation import _raise_dep_warning_if_not_pytest\n",
      "\n",
      "deprecated_path = 'sklearn.linear_model.base'\n",
      "correct_import_path = 'sklearn.linear_model'\n",
      "\n",
      "_raise_dep_warning_if_not_pytest(deprecated_path, correct_import_path)\n",
      "\n",
      "def __getattr__(name):\n",
      "    return getattr(_base, name)\n",
      "\n",
      "if not sys.version_info >= (3, 7):\n",
      "    Pep562(__name__)\n",
      "\n"
     ]
    }
   ],
   "source": [
    "import inspect\n",
    "print(inspect.getsource(base))"
   ]
  },
  {
   "cell_type": "markdown",
   "metadata": {},
   "source": [
    "### metaclass\n",
    "- meta는  ~의 ~ \n",
    "    - meta class : 클래스의 클래스\n",
    "- scikit-learn 에서 중요한 개념\n",
    "- pytorch, tf 에서도 예시에 scikit learn  많이 사용하므로 \n",
    "    - sklearn.model_selection\n",
    "\n",
    "- 메타 클래스 > 클래스 > 인스턴스 \n",
    "    - 인스턴스의 기능,값을 클래스가 정의함\n",
    "    - 클래스의 기능,값을 메타 클래스가 정의함 \n",
    "\n",
    "- C++ 의 꽃\n",
    "- python 에서 제공하는 기본 기능 자체를 바꿀때 사용함"
   ]
  },
  {
   "cell_type": "code",
   "execution_count": 65,
   "metadata": {},
   "outputs": [],
   "source": [
    "class X(metaclass=ABCMeta):\n",
    "    pass\n",
    "\n",
    "x=X()  #안스턴스"
   ]
  },
  {
   "cell_type": "code",
   "execution_count": 66,
   "metadata": {},
   "outputs": [
    {
     "data": {
      "text/plain": [
       "__main__.X"
      ]
     },
     "execution_count": 66,
     "metadata": {},
     "output_type": "execute_result"
    }
   ],
   "source": [
    "type(x) # class "
   ]
  },
  {
   "cell_type": "markdown",
   "metadata": {},
   "source": [
    "NameError 나오는경우 import!!"
   ]
  },
  {
   "cell_type": "code",
   "execution_count": 64,
   "metadata": {},
   "outputs": [],
   "source": [
    "from abc import abstractmethod,ABCMeta"
   ]
  },
  {
   "cell_type": "markdown",
   "metadata": {},
   "source": [
    "#이것을 더 우아하게 만듦\n",
    "class X:\n",
    "    def a(self):  \n",
    "        raise NotImplementedError \n",
    "        metaclass=ABCMeta"
   ]
  },
  {
   "cell_type": "markdown",
   "metadata": {},
   "source": [
    "인스턴스하면서 기능추가가 되어 구현이 안되면 에러가 나옴 \n",
    "\n",
    "`TypeError: Can't instantiate abstract class X with abstract methods y`"
   ]
  },
  {
   "cell_type": "code",
   "execution_count": 69,
   "metadata": {},
   "outputs": [
    {
     "ename": "TypeError",
     "evalue": "Can't instantiate abstract class X with abstract methods y",
     "output_type": "error",
     "traceback": [
      "\u001b[0;31m---------------------------------------------------------------------------\u001b[0m",
      "\u001b[0;31mTypeError\u001b[0m                                 Traceback (most recent call last)",
      "\u001b[0;32m<ipython-input-69-a975501c7907>\u001b[0m in \u001b[0;36m<module>\u001b[0;34m\u001b[0m\n\u001b[1;32m      4\u001b[0m         \u001b[0;32mreturn\u001b[0m \u001b[0;36m1\u001b[0m\u001b[0;34m\u001b[0m\u001b[0;34m\u001b[0m\u001b[0m\n\u001b[1;32m      5\u001b[0m \u001b[0;34m\u001b[0m\u001b[0m\n\u001b[0;32m----> 6\u001b[0;31m \u001b[0mx\u001b[0m\u001b[0;34m=\u001b[0m\u001b[0mX\u001b[0m\u001b[0;34m(\u001b[0m\u001b[0;34m)\u001b[0m  \u001b[0;31m#기능 추가가 됨\u001b[0m\u001b[0;34m\u001b[0m\u001b[0;34m\u001b[0m\u001b[0m\n\u001b[0m",
      "\u001b[0;31mTypeError\u001b[0m: Can't instantiate abstract class X with abstract methods y"
     ]
    }
   ],
   "source": [
    "class X(metaclass=ABCMeta):\n",
    "    @abstractmethod\n",
    "    def y(self):  #구현 안되면 에러남 \n",
    "        return 1\n",
    "\n",
    "x=X()  #기능 추가가 "
   ]
  },
  {
   "cell_type": "code",
   "execution_count": 93,
   "metadata": {},
   "outputs": [],
   "source": [
    "class X():  # 정의 안하면 abstractmethod 기능 안함\n",
    "    @abstractmethod\n",
    "    def y(self):\n",
    "        return 1\n",
    "\n",
    "x=X() # Error 안 남"
   ]
  },
  {
   "cell_type": "code",
   "execution_count": 78,
   "metadata": {},
   "outputs": [
    {
     "data": {
      "text/plain": [
       "int"
      ]
     },
     "execution_count": 78,
     "metadata": {},
     "output_type": "execute_result"
    }
   ],
   "source": [
    "a=1     #인스턴스\n",
    "type(a) #type(인스턴스)  => int"
   ]
  },
  {
   "cell_type": "code",
   "execution_count": 79,
   "metadata": {},
   "outputs": [
    {
     "data": {
      "text/plain": [
       "type"
      ]
     },
     "execution_count": 79,
     "metadata": {},
     "output_type": "execute_result"
    }
   ],
   "source": [
    "type(int)\n",
    "    "
   ]
  },
  {
   "cell_type": "markdown",
   "metadata": {},
   "source": [
    "- `Init signature: type(self, /, *args, **kwargs)`\n",
    "...\n",
    "- Subclasses:     ABCMeta, EnumMeta, _TemplateMetaclass, MetaHasDescriptors, PyCStructType, UnionType, PyCPointerType, PyCArrayType, PyCSimpleType, PyCFuncPtrType, ...\n",
    "\n",
    "- type 은 metaclass"
   ]
  },
  {
   "cell_type": "code",
   "execution_count": 80,
   "metadata": {},
   "outputs": [
    {
     "data": {
      "text/plain": [
       "type"
      ]
     },
     "execution_count": 80,
     "metadata": {},
     "output_type": "execute_result"
    }
   ],
   "source": [
    "type(type)#shift +tab"
   ]
  },
  {
   "cell_type": "markdown",
   "metadata": {},
   "source": [
    "### type\n",
    "- type은 metacalss이기 때문에 class 만들어줌\n",
    "    - def 와 lambda -> lambda도 함수를 만들어줌\n",
    "- `type(name, bases, dict) `-> **a new type**\n",
    "    - 사용자한테 입력을 받아서 동적으로 새로운 클래스 만들수 잇음\n",
    "    - 기본적으로 사용하는 class의 기능을 갖음\n",
    " \n",
    "> - **object** 는 모든 class의 기본 class (가장 기본적인 기능을 갖음)\n",
    "> - **type**은 모든 metaclass 의 기본 meta class\n",
    " \n",
    "- 타입을 재정의하면  클래스의 기능을 바꿀수 있음"
   ]
  },
  {
   "cell_type": "code",
   "execution_count": 96,
   "metadata": {},
   "outputs": [],
   "source": [
    "int2=type('int2',(int,),{})  #새로운 타입 생성"
   ]
  },
  {
   "cell_type": "code",
   "execution_count": 99,
   "metadata": {},
   "outputs": [
    {
     "data": {
      "text/plain": [
       "type"
      ]
     },
     "execution_count": 99,
     "metadata": {},
     "output_type": "execute_result"
    }
   ],
   "source": [
    "type(int2)"
   ]
  },
  {
   "cell_type": "code",
   "execution_count": 100,
   "metadata": {},
   "outputs": [
    {
     "data": {
      "text/plain": [
       "6"
      ]
     },
     "execution_count": 100,
     "metadata": {},
     "output_type": "execute_result"
    }
   ],
   "source": [
    "int2(3)+int(3)"
   ]
  },
  {
   "cell_type": "code",
   "execution_count": null,
   "metadata": {},
   "outputs": [],
   "source": [
    "class X(metatclass=A) #A metaclass의 정의된 기능을 받아서 X가 행동함 "
   ]
  },
  {
   "cell_type": "markdown",
   "metadata": {},
   "source": [
    "> 3.3.3.7. 메타 클래스의 용도¶\n",
    "**메타 클래스의 잠재적인 용도에는 한계가 없습니다.** 탐색 된 몇 가지 아이디어들에는 enum, 로깅, 인터페이스 검사, 자동화된 위임(automatic delegation), 자동화된 프로퍼티(properety) 생성, 프락시(proxy), 프레임웍(framework), 자동화된 자원 로킹/동기화(automatic resource locking/synchronization) 등이 있습니다.\n",
    "\n",
    "python에 없는 기능이 인것은  metaclass\n",
    "- scikit 집중적으로 할것이 아니기 때문에\n",
    "- python 에 없는 기본적인  기능을 만들어 기능 확장\n",
    "\n",
    "\n",
    "메타클래스 참고 :https://docs.python.org/ko/3/reference/datamodel.html#metaclasses"
   ]
  },
  {
   "cell_type": "code",
   "execution_count": null,
   "metadata": {},
   "outputs": [],
   "source": [
    "#기본적인 문법\n",
    "class Meta(type): #타입 상속받아 새로운 메타클래스 생성\n",
    "    pass\n",
    "\n",
    "class MyClass(metaclass=Meta):   #해당 메타클래스로 바꿈\n",
    "    pass\n",
    "\n",
    "class MySubclass(MyClass):      #상속(하위)\n",
    "    pass"
   ]
  },
  {
   "cell_type": "markdown",
   "metadata": {},
   "source": [
    " python 기본적으로 클래스 instance 무제한으로 만듦"
   ]
  },
  {
   "cell_type": "code",
   "execution_count": 101,
   "metadata": {},
   "outputs": [],
   "source": [
    "class A:\n",
    "    pass\n",
    "a=A()"
   ]
  },
  {
   "cell_type": "code",
   "execution_count": 102,
   "metadata": {},
   "outputs": [],
   "source": [
    "b=A()"
   ]
  },
  {
   "cell_type": "code",
   "execution_count": 103,
   "metadata": {},
   "outputs": [],
   "source": [
    "c=A()"
   ]
  },
  {
   "cell_type": "code",
   "execution_count": 104,
   "metadata": {},
   "outputs": [
    {
     "data": {
      "text/plain": [
       "(False, False, False)"
      ]
     },
     "execution_count": 104,
     "metadata": {},
     "output_type": "execute_result"
    }
   ],
   "source": [
    "a is b, b is c , a is c #서로 상이함"
   ]
  },
  {
   "cell_type": "markdown",
   "metadata": {},
   "source": [
    "가장 쉬운예시 singleton으로 새로운 메타클래스 만듦\n",
    "\n",
    "### Singleton \n",
    "- python class 의 기본적으로 제공하는 기능 아님\n",
    "- design pattern 중 하나로 인스턴스를 한 번만 만들수 있음\n",
    "\n",
    "\n",
    "- class __init__ 이 아닌 metaclass `__call__` 호출 -> 인스턴스가 function 처럼 사용\n",
    "    - metaclass 의 instance =class\n",
    "\n",
    "인스턴스 없으면 새로 만들고 만들어진 기존에 만들어진 인스턴스를 계속 불러옴 -> 하나의 인스턴스만 생성 할 수 있음 "
   ]
  },
  {
   "cell_type": "code",
   "execution_count": 118,
   "metadata": {},
   "outputs": [],
   "source": [
    "class Singleton(type): #\n",
    "    instance=None\n",
    "    def __call__ (cls, *args, **kwargs):#*arg, **kwargs 테크닉\n",
    "        if not cls.instance:  #class에 인스턴스 없는 경우 - 생성\n",
    "            cls.instance=super().__call__(*args, **kwargs)# super() 인스턴스니깐 1번째 인자\n",
    "        return cls.instance   #class에 인스턴스 있는 경우 - 없으면 기존의 것 반환"
   ]
  },
  {
   "cell_type": "markdown",
   "metadata": {},
   "source": [
    "기본적인 type이 아닌 새로운 metaclass인 Singleton따라 행동함 "
   ]
  },
  {
   "cell_type": "code",
   "execution_count": 119,
   "metadata": {},
   "outputs": [],
   "source": [
    "class ASingleton(metaclass=Singleton):  #새로운 메타클래스에 따라 처리됨 \n",
    "    pass"
   ]
  },
  {
   "cell_type": "code",
   "execution_count": 120,
   "metadata": {},
   "outputs": [],
   "source": [
    "a=ASingleton()"
   ]
  },
  {
   "cell_type": "code",
   "execution_count": 123,
   "metadata": {},
   "outputs": [],
   "source": [
    "b=ASingleton()\n",
    "c=ASingleton()"
   ]
  },
  {
   "cell_type": "code",
   "execution_count": 125,
   "metadata": {},
   "outputs": [
    {
     "data": {
      "text/plain": [
       "(True, True, True)"
      ]
     },
     "execution_count": 125,
     "metadata": {},
     "output_type": "execute_result"
    }
   ],
   "source": [
    "a is b, b is c , c is a  # 다 동일함 -> 하나만 생성 됨 "
   ]
  },
  {
   "cell_type": "markdown",
   "metadata": {},
   "source": [
    "왜 상속안하고 metaclass를 사용하는 이유\n",
    "- 상속을 통해서는 python에서 제공하지 않는 기능을 만들 수가 없음\n",
    "- class의 기능 자체를 바꿈\n",
    "\n",
    "더 자세히 공부하고싶으면 c++ metaclass 를 공부 하면 됩니다."
   ]
  },
  {
   "cell_type": "markdown",
   "metadata": {},
   "source": [
    "- pytorch 에서는 메타클래스로 쓰는 모델을 사용하여 특별한 기능 추가하는게 더 좋기 떄문 \n",
    "- tf 에서는 거의 안 쓰기 떄문에 맛보기로 보여줌\n",
    "\n",
    "커스터 마이징을 하기위해서는 이해가 필요함\n",
    "\n",
    "- 지금까지 tensorflow에서 많이사용하는 python programming을 다루었음\n",
    "- 내일 이미지 처리를 위한 numpy, 영상처리 기본적인 내용"
   ]
  },
  {
   "cell_type": "markdown",
   "metadata": {},
   "source": [
    "Q.  itemsize, size, nbyte, ndim , dtype, shape 예시를 들어주셨듯이 유독 numpy에 많은 이유\n",
    "\n",
    "numpy 설계철학\n",
    "- numpy 주 저자 Travis Oliphant 가 anaconda회사의 founder \n",
    "- matlab을 대안 할수 있는것을 python 기반으로 만들고자 하고 python에 핵심 기능 도입\n",
    "    - property 는 matlab에 없어서 도입함\n",
    "- 만든 사람의 철학에 따라 다름 \n",
    "\n",
    "[오픈 소스 설계 관련 책 <The Architecture Of Open Source Applications, Volume Ii >참고](https://www.amazon.com/Architecture-Open-Source-Applications-Ii/dp/1105571815/ref=pd_lpo_14_img_0/137-1018129-0970527?_encoding=UTF8&pd_rd_i=1105571815&pd_rd_r=747ef4f4-6e05-483f-91df-0709e91d2456&pd_rd_w=uwng0&pd_rd_wg=pKx0V&pf_rd_p=7b36d496-f366-4631-94d3-61b87b52511b&pf_rd_r=34WKFC0KXG06BQ6D079H&psc=1&refRID=34WKFC0KXG06BQ6D079H)"
   ]
  }
 ],
 "metadata": {
  "kernelspec": {
   "display_name": "Python 3",
   "language": "python",
   "name": "python3"
  },
  "language_info": {
   "codemirror_mode": {
    "name": "ipython",
    "version": 3
   },
   "file_extension": ".py",
   "mimetype": "text/x-python",
   "name": "python",
   "nbconvert_exporter": "python",
   "pygments_lexer": "ipython3",
   "version": "3.7.6"
  }
 },
 "nbformat": 4,
 "nbformat_minor": 4
}
