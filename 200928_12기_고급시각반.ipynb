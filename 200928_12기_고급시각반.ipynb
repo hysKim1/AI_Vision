{
 "cells": [
  {
   "cell_type": "markdown",
   "metadata": {},
   "source": [
    "# [AI 이노베이션 스퀘어] 12기 고급 시각반\n",
    "- github: https://github.com/hysKim1/AI_Vision\n",
    "    - [파이썬 공식문서]https://docs.python.org/ko/3/\n",
    "    - [Numpy 공식문서]https://numpy.org/devdocs/\n",
    "    - [ML]https://developers.google.com/machine-learning/crash-course/ml-intro?hl=ko\n",
    "    - [DL]https://www.tensorflow.org/?hl=ko\n",
    "    \n",
    "    \n",
    "---\n",
    "* [영상처리를 위한 딥러닝4](#영상처리를-위한-딥러닝4)\n",
    "  * [Convolutional Neural Network](#Convolutional-Neural-Network)\n",
    "      * [FCNN](#FCNN)\n",
    "      * [CNN](#CNN)\n",
    "          * [CNN Architecture](#CNN-Architecture)\n",
    "          * [CNN 특징](#CNN-특징)\n",
    "  * [CNN구현](#CNN구현)\n",
    "      * [흑백 이미지: mnist](#흑백-이미지)\n",
    "      * [색상 이미지: cifar10](#색상-이미지)\n",
    "\n",
    "---\n",
    " softmax 문제점\n",
    " logit\n",
    "from_logits\n",
    "\n",
    "이미지 로드 \n",
    "utils\n",
    "pathlib\n",
    "\n",
    "keras.preprocessing을 사용하여 로드  \n",
    " image_dataset_from_directory\n",
    " \n",
    "layers.experimental.preprocessing\n",
    "Rescaling"
   ]
  },
  {
   "cell_type": "markdown",
   "metadata": {
    "id": "imQydvjNKTO1"
   },
   "source": [
    "- 데이터 shape 정하는것 외에는 큰 차이 없음\n",
    "   - 흑백 : (28,28)\n",
    "   - 색상 : (32,32,1)"
   ]
  },
  {
   "cell_type": "code",
   "execution_count": 1,
   "metadata": {
    "id": "wGqF5K4bJZ5M"
   },
   "outputs": [],
   "source": [
    "import tensorflow as tf\n",
    "import numpy as np\n",
    "\n",
    "from tensorflow.keras import datasets, layers, models\n",
    "import matplotlib.pyplot as plt"
   ]
  },
  {
   "cell_type": "code",
   "execution_count": 2,
   "metadata": {
    "colab": {
     "base_uri": "https://localhost:8080/",
     "height": 51
    },
    "id": "581AolTWJboR",
    "outputId": "46f6c09b-9227-4320-9919-76ab67f296da"
   },
   "outputs": [
    {
     "name": "stdout",
     "output_type": "stream",
     "text": [
      "Downloading data from https://www.cs.toronto.edu/~kriz/cifar-10-python.tar.gz\n",
      "170500096/170498071 [==============================] - 6s 0us/step\n"
     ]
    }
   ],
   "source": [
    "(train_images, train_labels), (test_images, test_labels) = datasets.cifar10.load_data()\n",
    "\n",
    "# Normalize pixel values to be between 0 and 1\n",
    "train_images, test_images = train_images / 255.0, test_images / 255.0"
   ]
  },
  {
   "cell_type": "markdown",
   "metadata": {
    "id": "OcF3ym0cLMcy"
   },
   "source": [
    "### output layer  \n",
    "- softmax : 실수값을 확률처럼 0~1 사이의 값으로 변경해주는 것이므로 없어도 가능\n",
    "  - activation 차원 변형,공간 왜곡하는데 이에 따라 output layer 의 node갯수 상이\n",
    "      - regression : 1개\n",
    "      - binary classification :1개\n",
    "        - sigmoid\n",
    "      - classification: 클래스 갯수n\n",
    "        - softmax :사람이 이해하기 좋은 포맷으로 나옴(optional)"
   ]
  },
  {
   "cell_type": "markdown",
   "metadata": {
    "id": "u2xGNpPkPP93"
   },
   "source": [
    "### softmax 문제점\n",
    "- 아주 드문 경우지만 성능에 영향을 주는 경우가 있음 \n",
    "- 확률적으로 바꾸면서 값들의 범위에 따라서 값이 일정부분 잘려서 날라가는 경우 (clipping) 값이 다르게 나오는 경우가 생기게 되면서\n",
    "- numerical stability 문제 \n",
    "\n",
    "### logit\n",
    "- numerical stability 문제 해결책\n",
    "      > - 통계: logistic regression 연관\n",
    "      > - DL 에서의 로지트(logit)\n",
    "        -  [머신러닝 단기 집중 과정 머신러닝 용어집](https://developers.google.com/machine-learning/glossary?hl=ko):  분류 모델에서 생성되는 **원시(정규화되지 않음) 예측 벡터**로, 대개는 **정규화 함수**로 전달됩니다. 모델에서 다중 클래스 분류 문제를 해결하고 있는 경우 로지트는 **소프트맥스 함수의 입력**으로 사용되는 것이 일반적입니다. 그런 다음 소프트맥스 함수에서 가능한 클래스별로 하나의 값을 갖는 (정규화된) 확률 벡터를 생성합니다.     또한 로지트는 시그모이드 함수의 요소별 역을 지칭할 때도 있습니다. 자세한 내용은 tf.nn.sigmoid_cross_entropy_with_logits를 참조하세요.\n",
    "\n",
    "-  clipping 되지않게 조절"
   ]
  },
  {
   "cell_type": "code",
   "execution_count": 3,
   "metadata": {
    "colab": {
     "base_uri": "https://localhost:8080/",
     "height": 357
    },
    "id": "9VKH5tW7KwhT",
    "outputId": "976f5961-f34c-4f40-e970-f551dc52988c"
   },
   "outputs": [
    {
     "name": "stdout",
     "output_type": "stream",
     "text": [
      "Epoch 1/10\n",
      "1563/1563 [==============================] - 10s 7ms/step - loss: 2.4620 - accuracy: 0.1004 - val_loss: 2.3026 - val_accuracy: 0.1005\n",
      "Epoch 2/10\n",
      "1563/1563 [==============================] - 10s 6ms/step - loss: 2.3026 - accuracy: 0.1000 - val_loss: 2.3026 - val_accuracy: 0.1005\n",
      "Epoch 3/10\n",
      "1563/1563 [==============================] - 10s 6ms/step - loss: 2.3026 - accuracy: 0.1000 - val_loss: 2.3026 - val_accuracy: 0.1005\n",
      "Epoch 4/10\n",
      "1563/1563 [==============================] - 10s 6ms/step - loss: 2.3026 - accuracy: 0.1000 - val_loss: 2.3026 - val_accuracy: 0.1005\n",
      "Epoch 5/10\n",
      "1563/1563 [==============================] - 10s 6ms/step - loss: 2.3026 - accuracy: 0.1000 - val_loss: 2.3026 - val_accuracy: 0.1005\n",
      "Epoch 6/10\n",
      "1563/1563 [==============================] - 10s 6ms/step - loss: 2.3026 - accuracy: 0.1000 - val_loss: 2.3026 - val_accuracy: 0.1005\n",
      "Epoch 7/10\n",
      "1563/1563 [==============================] - 10s 6ms/step - loss: 2.3026 - accuracy: 0.1000 - val_loss: 2.3026 - val_accuracy: 0.1005\n",
      "Epoch 8/10\n",
      "1563/1563 [==============================] - 10s 6ms/step - loss: 2.3026 - accuracy: 0.1000 - val_loss: 2.3026 - val_accuracy: 0.1005\n",
      "Epoch 9/10\n",
      "1563/1563 [==============================] - 10s 6ms/step - loss: 2.3026 - accuracy: 0.1000 - val_loss: 2.3026 - val_accuracy: 0.1005\n",
      "Epoch 10/10\n",
      "1563/1563 [==============================] - 10s 6ms/step - loss: 2.3026 - accuracy: 0.1000 - val_loss: 2.3026 - val_accuracy: 0.1005\n"
     ]
    }
   ],
   "source": [
    "#1)from_logits=False\n",
    "model = models.Sequential()\n",
    "model.add(layers.Conv2D(32, (3, 3), activation='relu'))\n",
    "model.add(layers.MaxPooling2D((2, 2)))\n",
    "model.add(layers.Conv2D(64, (3, 3), activation='relu'))\n",
    "model.add(layers.MaxPooling2D((2, 2)))\n",
    "model.add(layers.Conv2D(64, (3, 3), activation='relu', input_shape=(32, 32, 3)))\n",
    "\n",
    "model.add(layers.Flatten())\n",
    "model.add(layers.Dense(64,  activation='relu'))\n",
    "model.add(layers.Dense(10))  #classification softmax 없음 -> 실수 범위\n",
    "\n",
    "model.compile(optimizer='adam',\n",
    "              loss=tf.keras.losses.SparseCategoricalCrossentropy(from_logits=False),\n",
    "              metrics=['accuracy'])\n",
    "\n",
    "model.fit(train_images, train_labels, epochs=10, \n",
    "                    validation_data=(test_images, test_labels))"
   ]
  },
  {
   "cell_type": "code",
   "execution_count": 4,
   "metadata": {
    "colab": {
     "base_uri": "https://localhost:8080/",
     "height": 283
    },
    "id": "vjMaEaI_MeX-",
    "outputId": "9d443e1f-1a98-443a-a3e4-7e23ce970e12"
   },
   "outputs": [
    {
     "data": {
      "text/plain": [
       "<matplotlib.image.AxesImage at 0x7f08e037c400>"
      ]
     },
     "execution_count": 4,
     "metadata": {
      "tags": []
     },
     "output_type": "execute_result"
    },
    {
     "data": {
      "image/png": "[encoded data removed]",
      "text/plain": [
       "<Figure size 432x288 with 1 Axes>"
      ]
     },
     "metadata": {
      "needs_background": "light",
      "tags": []
     },
     "output_type": "display_data"
    }
   ],
   "source": [
    "plt.imshow(test_images[0])"
   ]
  },
  {
   "cell_type": "code",
   "execution_count": 5,
   "metadata": {
    "colab": {
     "base_uri": "https://localhost:8080/",
     "height": 68
    },
    "id": "h1vx3JvoM3rE",
    "outputId": "527ba91c-7de7-499c-f37b-7d035d05ace0"
   },
   "outputs": [
    {
     "data": {
      "text/plain": [
       "array([[-0.48094845, -0.16623126, -0.34321326, -0.22778687, -0.05512214,\n",
       "        -0.2992004 , -0.11757313, -0.17994906, -0.09051366, -0.11177629]],\n",
       "      dtype=float32)"
      ]
     },
     "execution_count": 5,
     "metadata": {
      "tags": []
     },
     "output_type": "execute_result"
    }
   ],
   "source": [
    "t= model.predict(test_images[0][tf.newaxis])\n",
    "t"
   ]
  },
  {
   "cell_type": "code",
   "execution_count": 6,
   "metadata": {
    "colab": {
     "base_uri": "https://localhost:8080/",
     "height": 34
    },
    "id": "IPRfJ6URWwE9",
    "outputId": "12b337a7-10b3-4381-a51c-618bf75742b6"
   },
   "outputs": [
    {
     "data": {
      "text/plain": [
       "-2.0723145"
      ]
     },
     "execution_count": 6,
     "metadata": {
      "tags": []
     },
     "output_type": "execute_result"
    }
   ],
   "source": [
    "np.sum(t)   #softmax없으므로 합이 1이 아님"
   ]
  },
  {
   "cell_type": "code",
   "execution_count": 8,
   "metadata": {
    "colab": {
     "base_uri": "https://localhost:8080/",
     "height": 34
    },
    "id": "xQlVkSj6M9n0",
    "outputId": "b739c794-7dcf-466e-ec08-9fa3f97a5968"
   },
   "outputs": [
    {
     "data": {
      "text/plain": [
       "4"
      ]
     },
     "execution_count": 8,
     "metadata": {
      "tags": []
     },
     "output_type": "execute_result"
    }
   ],
   "source": [
    "np.argmax(t)  #3인데 완전히 다르게 예측"
   ]
  },
  {
   "cell_type": "code",
   "execution_count": 9,
   "metadata": {
    "colab": {
     "base_uri": "https://localhost:8080/",
     "height": 374
    },
    "id": "oe1nqq2oNyS4",
    "outputId": "ed7efe2e-5cae-41a6-948f-a5b00b313b41"
   },
   "outputs": [
    {
     "name": "stdout",
     "output_type": "stream",
     "text": [
      "Epoch 1/10\n",
      "1563/1563 [==============================] - 10s 7ms/step - loss: 1.5058 - accuracy: 0.4514 - val_loss: 1.2697 - val_accuracy: 0.5376\n",
      "Epoch 2/10\n",
      "1563/1563 [==============================] - 10s 6ms/step - loss: 1.1522 - accuracy: 0.5914 - val_loss: 1.1057 - val_accuracy: 0.6115\n",
      "Epoch 3/10\n",
      "1563/1563 [==============================] - 11s 7ms/step - loss: 1.0106 - accuracy: 0.6459 - val_loss: 1.1020 - val_accuracy: 0.6212\n",
      "Epoch 4/10\n",
      "1563/1563 [==============================] - 10s 7ms/step - loss: 0.9163 - accuracy: 0.6781 - val_loss: 0.9479 - val_accuracy: 0.6690\n",
      "Epoch 5/10\n",
      "1563/1563 [==============================] - 10s 6ms/step - loss: 0.8441 - accuracy: 0.7035 - val_loss: 0.9597 - val_accuracy: 0.6729\n",
      "Epoch 6/10\n",
      "1563/1563 [==============================] - 10s 6ms/step - loss: 0.7962 - accuracy: 0.7215 - val_loss: 0.9352 - val_accuracy: 0.6818\n",
      "Epoch 7/10\n",
      "1563/1563 [==============================] - 10s 6ms/step - loss: 0.7419 - accuracy: 0.7392 - val_loss: 0.9026 - val_accuracy: 0.6935\n",
      "Epoch 8/10\n",
      "1563/1563 [==============================] - 10s 6ms/step - loss: 0.7020 - accuracy: 0.7540 - val_loss: 0.8995 - val_accuracy: 0.6944\n",
      "Epoch 9/10\n",
      "1563/1563 [==============================] - 10s 6ms/step - loss: 0.6649 - accuracy: 0.7674 - val_loss: 0.8913 - val_accuracy: 0.6926\n",
      "Epoch 10/10\n",
      "1563/1563 [==============================] - 10s 6ms/step - loss: 0.6243 - accuracy: 0.7804 - val_loss: 0.8792 - val_accuracy: 0.7153\n"
     ]
    },
    {
     "data": {
      "text/plain": [
       "<tensorflow.python.keras.callbacks.History at 0x7f08e00746d8>"
      ]
     },
     "execution_count": 9,
     "metadata": {
      "tags": []
     },
     "output_type": "execute_result"
    }
   ],
   "source": [
    "#softmax , from_logits=False\n",
    "model = models.Sequential()\n",
    "model.add(layers.Conv2D(32, (3, 3), activation='relu', input_shape=(32, 32, 3)))\n",
    "model.add(layers.MaxPooling2D((2, 2)))\n",
    "model.add(layers.Conv2D(64, (3, 3), activation='relu'))\n",
    "model.add(layers.MaxPooling2D((2, 2)))\n",
    "model.add(layers.Conv2D(64, (3, 3), activation='relu'))\n",
    "\n",
    "model.add(layers.Flatten())\n",
    "model.add(layers.Dense(64, activation='relu'))\n",
    "model.add(layers.Dense(10, activation='softmax') )\n",
    "\n",
    "model.compile(optimizer='adam',\n",
    "              loss=tf.keras.losses.SparseCategoricalCrossentropy(from_logits=False),\n",
    "              metrics=['accuracy'])\n",
    "\n",
    "model.fit(train_images, train_labels, epochs=10, \n",
    "                    validation_data=(test_images, test_labels))"
   ]
  },
  {
   "cell_type": "code",
   "execution_count": 10,
   "metadata": {
    "colab": {
     "base_uri": "https://localhost:8080/",
     "height": 68
    },
    "id": "8ujtaFvSNqvY",
    "outputId": "a608be16-b26a-49c2-8786-b7919b97ffa0"
   },
   "outputs": [
    {
     "data": {
      "text/plain": [
       "array([[5.9381872e-04, 5.3316262e-04, 4.2588323e-02, 8.0087024e-01,\n",
       "        3.9599263e-03, 1.0307375e-01, 3.3552289e-02, 3.6989027e-03,\n",
       "        7.6030148e-03, 3.5265370e-03]], dtype=float32)"
      ]
     },
     "execution_count": 10,
     "metadata": {
      "tags": []
     },
     "output_type": "execute_result"
    }
   ],
   "source": [
    "t= model.predict(test_images[0][tf.newaxis])\n",
    "t   #softmax로 총 합 1"
   ]
  },
  {
   "cell_type": "code",
   "execution_count": 11,
   "metadata": {
    "colab": {
     "base_uri": "https://localhost:8080/",
     "height": 34
    },
    "id": "H-XjvhbiNrC1",
    "outputId": "77d75bc6-64e4-47c5-cf17-fcf98fba0622"
   },
   "outputs": [
    {
     "data": {
      "text/plain": [
       "array([3], dtype=uint8)"
      ]
     },
     "execution_count": 11,
     "metadata": {
      "tags": []
     },
     "output_type": "execute_result"
    }
   ],
   "source": [
    "test_labels[0] # 정답"
   ]
  },
  {
   "cell_type": "code",
   "execution_count": 12,
   "metadata": {
    "colab": {
     "base_uri": "https://localhost:8080/",
     "height": 34
    },
    "id": "NTPpL_2ONqyb",
    "outputId": "b34abbf6-0527-41cd-ee91-4dae3092e1eb"
   },
   "outputs": [
    {
     "data": {
      "text/plain": [
       "3"
      ]
     },
     "execution_count": 12,
     "metadata": {
      "tags": []
     },
     "output_type": "execute_result"
    }
   ],
   "source": [
    "np.argmax(t) #값을 비슷하게 맞춤"
   ]
  },
  {
   "cell_type": "code",
   "execution_count": 16,
   "metadata": {
    "colab": {
     "base_uri": "https://localhost:8080/",
     "height": 34
    },
    "id": "2Za-XQ9jQPGu",
    "outputId": "2d80cea2-9bdf-41f3-b5f7-79e4718e910c"
   },
   "outputs": [
    {
     "data": {
      "text/plain": [
       "array([3], dtype=uint8)"
      ]
     },
     "execution_count": 16,
     "metadata": {
      "tags": []
     },
     "output_type": "execute_result"
    }
   ],
   "source": [
    "test_labels[0]"
   ]
  },
  {
   "cell_type": "markdown",
   "metadata": {},
   "source": [
    "---\n",
    "## from_logits\n",
    "- paramter에 객체방식으로 default 값 변경 가능\n",
    "   - `SparseCategoricalCrossentropy(from_logits=False )` (기본값)\n",
    ">\tWhether y_pred is expected to be a logits tensor. **By default, we assume that y_pred encodes a probability distribution.**\n",
    " Note - Using from_logits=True may be more **numerically stable.**\n",
    "  - 참고: https://www.tensorflow.org/api_docs/python/tf/keras/losses/SparseCategoricalCrossentropy\n",
    "  \n",
    "- clipping 입력값에 따라서 출력 값이 다르며 이상하게 나오는 문제 때문에 해당 문제를 줄여줌 \n",
    "    - softmax 들어가기 직전에 변하지 않은 값들로 clippidng현상에서 변환할때 문제가 일어날수 있는 경우를 줄여줌\n",
    "- 드문 경우에 속도가 느리고 이런 경우가 드문 현상이기 때문에 default 아님\n",
    "- 학습할때  그래프 그려보면 loss 줄어드는 데 결과가 너무 작으면 softamx에 의해 문제가 생기는 경우가 있을수 있음을 알고 tf의 logit으로 해결\n",
    "- softmax 쓰면 사람이 이해하기 좋으나 overflow 문제로 성능 체크 그래프를 그려봄 \n"
   ]
  },
  {
   "cell_type": "code",
   "execution_count": 19,
   "metadata": {
    "colab": {
     "base_uri": "https://localhost:8080/",
     "height": 357
    },
    "id": "SzW_ECU5Qbfc",
    "outputId": "5d7d2256-0e8c-4b79-ccb0-e413b73a8ea3"
   },
   "outputs": [
    {
     "name": "stdout",
     "output_type": "stream",
     "text": [
      "Epoch 1/10\n",
      "1563/1563 [==============================] - 10s 7ms/step - loss: 1.5631 - accuracy: 0.4268 - val_loss: 1.2916 - val_accuracy: 0.5355\n",
      "Epoch 2/10\n",
      "1563/1563 [==============================] - 10s 6ms/step - loss: 1.1709 - accuracy: 0.5849 - val_loss: 1.0911 - val_accuracy: 0.6128\n",
      "Epoch 3/10\n",
      "1563/1563 [==============================] - 10s 6ms/step - loss: 1.0213 - accuracy: 0.6397 - val_loss: 1.0227 - val_accuracy: 0.6345\n",
      "Epoch 4/10\n",
      "1563/1563 [==============================] - 10s 6ms/step - loss: 0.9257 - accuracy: 0.6720 - val_loss: 1.0226 - val_accuracy: 0.6335\n",
      "Epoch 5/10\n",
      "1563/1563 [==============================] - 10s 6ms/step - loss: 0.8640 - accuracy: 0.6944 - val_loss: 0.9169 - val_accuracy: 0.6801\n",
      "Epoch 6/10\n",
      "1563/1563 [==============================] - 10s 6ms/step - loss: 0.8138 - accuracy: 0.7128 - val_loss: 0.8726 - val_accuracy: 0.6966\n",
      "Epoch 7/10\n",
      "1563/1563 [==============================] - 10s 6ms/step - loss: 0.7687 - accuracy: 0.7309 - val_loss: 0.8520 - val_accuracy: 0.7029\n",
      "Epoch 8/10\n",
      "1563/1563 [==============================] - 10s 6ms/step - loss: 0.7300 - accuracy: 0.7431 - val_loss: 0.8715 - val_accuracy: 0.7001\n",
      "Epoch 9/10\n",
      "1563/1563 [==============================] - 10s 6ms/step - loss: 0.6984 - accuracy: 0.7545 - val_loss: 0.8728 - val_accuracy: 0.6976\n",
      "Epoch 10/10\n",
      "1563/1563 [==============================] - 10s 7ms/step - loss: 0.6647 - accuracy: 0.7662 - val_loss: 0.8742 - val_accuracy: 0.7021\n"
     ]
    }
   ],
   "source": [
    "#from_logits=True -> 훨씬더 안정적\n",
    "model = models.Sequential()\n",
    "model.add(layers.Conv2D(32, (3, 3), activation='relu', input_shape=(32, 32, 3)))\n",
    "model.add(layers.MaxPooling2D((2, 2)))\n",
    "model.add(layers.Conv2D(64, (3, 3), activation='relu'))\n",
    "model.add(layers.MaxPooling2D((2, 2)))\n",
    "model.add(layers.Conv2D(64, (3, 3), activation='relu'))\n",
    "\n",
    "model.add(layers.Flatten())\n",
    "model.add(layers.Dense(64, activation='relu'))\n",
    "model.add(layers.Dense(10))\n",
    "\n",
    "model.compile(optimizer='adam',\n",
    "              loss=tf.keras.losses.SparseCategoricalCrossentropy(from_logits=True),  # softmax처럼 해줌 //총합은 1 아님\n",
    "              metrics=['accuracy'])\n",
    "\n",
    "history=model.fit(train_images, train_labels, epochs=10, \n",
    "                    validation_data=(test_images, test_labels))"
   ]
  },
  {
   "cell_type": "code",
   "execution_count": 20,
   "metadata": {
    "colab": {
     "base_uri": "https://localhost:8080/",
     "height": 300
    },
    "id": "8feSyeq7A_NN",
    "outputId": "6eba5f11-2cb5-41f0-ad16-486aea41b28c"
   },
   "outputs": [
    {
     "name": "stdout",
     "output_type": "stream",
     "text": [
      "313/313 - 1s - loss: 0.8742 - accuracy: 0.7021\n"
     ]
    },
    {
     "data": {
      "image/png": "[encoded data removed]",
      "text/plain": [
       "<Figure size 432x288 with 1 Axes>"
      ]
     },
     "metadata": {
      "needs_background": "light",
      "tags": []
     },
     "output_type": "display_data"
    }
   ],
   "source": [
    "plt.plot(history.history['accuracy'], label='accuracy')\n",
    "plt.plot(history.history['val_accuracy'], label = 'val_accuracy')\n",
    "plt.xlabel('Epoch')\n",
    "plt.ylabel('Accuracy')\n",
    "plt.ylim([0.5, 1])\n",
    "plt.legend(loc='lower right')\n",
    "\n",
    "test_loss, test_acc = model.evaluate(test_images,  test_labels, verbose=2)"
   ]
  },
  {
   "cell_type": "markdown",
   "metadata": {},
   "source": [
    "Learning Curve\n",
    "- 모델 평가: \n",
    "    - 과적합 val accuracy < accuracy & 성능 0.8 미만  "
   ]
  },
  {
   "cell_type": "code",
   "execution_count": 21,
   "metadata": {
    "colab": {
     "base_uri": "https://localhost:8080/",
     "height": 68
    },
    "id": "Yuq-2yRyQhj9",
    "outputId": "28f957d4-3fd2-49e5-8215-c0a0f4c3e2ff"
   },
   "outputs": [
    {
     "data": {
      "text/plain": [
       "array([[ 0.79792774, -3.6666436 , -1.415417  ,  4.608992  , -2.9572039 ,\n",
       "         4.263908  , -0.0128167 , -0.8148837 , -3.4717917 , -2.0441554 ]],\n",
       "      dtype=float32)"
      ]
     },
     "execution_count": 21,
     "metadata": {
      "tags": []
     },
     "output_type": "execute_result"
    }
   ],
   "source": [
    "t= model.predict(test_images[0][tf.newaxis])\n",
    "t  "
   ]
  },
  {
   "cell_type": "code",
   "execution_count": 22,
   "metadata": {
    "colab": {
     "base_uri": "https://localhost:8080/",
     "height": 34
    },
    "id": "Opp7lj4CQt77",
    "outputId": "e27bf2d4-aaa8-426b-d3d9-2fd713946148"
   },
   "outputs": [
    {
     "data": {
      "text/plain": [
       "array([3], dtype=uint8)"
      ]
     },
     "execution_count": 22,
     "metadata": {
      "tags": []
     },
     "output_type": "execute_result"
    }
   ],
   "source": [
    "test_labels[0]"
   ]
  },
  {
   "cell_type": "code",
   "execution_count": 23,
   "metadata": {
    "colab": {
     "base_uri": "https://localhost:8080/",
     "height": 34
    },
    "id": "YOxP0HmdQwSZ",
    "outputId": "54a75438-27be-464e-9ec2-cb622c78cba3"
   },
   "outputs": [
    {
     "data": {
      "text/plain": [
       "-4.712084"
      ]
     },
     "execution_count": 23,
     "metadata": {
      "tags": []
     },
     "output_type": "execute_result"
    }
   ],
   "source": [
    "np.sum(t)# softmax처럼 해줌 //총합은 1 아님"
   ]
  },
  {
   "cell_type": "code",
   "execution_count": 24,
   "metadata": {
    "colab": {
     "base_uri": "https://localhost:8080/",
     "height": 34
    },
    "id": "qsCZ4rOhS0cA",
    "outputId": "22653d06-512c-4cda-e460-094ddfdb45a2",
    "scrolled": true
   },
   "outputs": [
    {
     "data": {
      "text/plain": [
       "3"
      ]
     },
     "execution_count": 24,
     "metadata": {
      "tags": []
     },
     "output_type": "execute_result"
    }
   ],
   "source": [
    "np.argmax(t) #비슷하게 맞"
   ]
  },
  {
   "cell_type": "code",
   "execution_count": 13,
   "metadata": {
    "colab": {
     "base_uri": "https://localhost:8080/",
     "height": 374
    },
    "id": "0T9qLc-SNrZm",
    "outputId": "0bff1163-1893-4009-b3e6-02d20b944a94"
   },
   "outputs": [
    {
     "name": "stdout",
     "output_type": "stream",
     "text": [
      "Epoch 1/10\n",
      "1563/1563 [==============================] - 10s 7ms/step - loss: 2.1231 - accuracy: 0.3284 - val_loss: 2.0601 - val_accuracy: 0.3950\n",
      "Epoch 2/10\n",
      "1563/1563 [==============================] - 10s 6ms/step - loss: 2.0139 - accuracy: 0.4425 - val_loss: 1.9990 - val_accuracy: 0.4585\n",
      "Epoch 3/10\n",
      "1563/1563 [==============================] - 10s 7ms/step - loss: 1.9583 - accuracy: 0.4989 - val_loss: 1.9483 - val_accuracy: 0.5097\n",
      "Epoch 4/10\n",
      "1563/1563 [==============================] - 10s 6ms/step - loss: 1.9188 - accuracy: 0.5391 - val_loss: 1.9174 - val_accuracy: 0.5418\n",
      "Epoch 5/10\n",
      "1563/1563 [==============================] - 10s 6ms/step - loss: 1.8993 - accuracy: 0.5589 - val_loss: 1.9085 - val_accuracy: 0.5482\n",
      "Epoch 6/10\n",
      "1563/1563 [==============================] - 10s 6ms/step - loss: 1.8793 - accuracy: 0.5785 - val_loss: 1.8844 - val_accuracy: 0.5723\n",
      "Epoch 7/10\n",
      "1563/1563 [==============================] - 10s 6ms/step - loss: 1.8637 - accuracy: 0.5944 - val_loss: 1.8691 - val_accuracy: 0.5896\n",
      "Epoch 8/10\n",
      "1563/1563 [==============================] - 10s 7ms/step - loss: 1.8505 - accuracy: 0.6082 - val_loss: 1.8565 - val_accuracy: 0.6003\n",
      "Epoch 9/10\n",
      "1563/1563 [==============================] - 10s 6ms/step - loss: 1.8375 - accuracy: 0.6212 - val_loss: 1.8752 - val_accuracy: 0.5812\n",
      "Epoch 10/10\n",
      "1563/1563 [==============================] - 10s 6ms/step - loss: 1.8276 - accuracy: 0.6310 - val_loss: 1.8728 - val_accuracy: 0.5841\n"
     ]
    },
    {
     "data": {
      "text/plain": [
       "<tensorflow.python.keras.callbacks.History at 0x7f0894b09588>"
      ]
     },
     "execution_count": 13,
     "metadata": {
      "tags": []
     },
     "output_type": "execute_result"
    }
   ],
   "source": [
    "#4) softmax, from_logits=True -> 훨씬 더 안정적\n",
    "model = models.Sequential()\n",
    "model.add(layers.Conv2D(32, (3, 3), activation='relu', input_shape=(32, 32, 3)))\n",
    "model.add(layers.MaxPooling2D((2, 2)))\n",
    "model.add(layers.Conv2D(64, (3, 3), activation='relu'))\n",
    "model.add(layers.MaxPooling2D((2, 2)))\n",
    "model.add(layers.Conv2D(64, (3, 3), activation='relu'))\n",
    "\n",
    "model.add(layers.Flatten())\n",
    "model.add(layers.Dense(64, activation='relu'))\n",
    "model.add(layers.Dense(10, activation='softmax') )\n",
    "\n",
    "model.compile(optimizer='adam',\n",
    "              loss=tf.keras.losses.SparseCategoricalCrossentropy(from_logits=True),\n",
    "              metrics=['accuracy'])\n",
    "\n",
    "model.fit(train_images, train_labels, epochs=10, \n",
    "                    validation_data=(test_images, test_labels))"
   ]
  },
  {
   "cell_type": "code",
   "execution_count": 14,
   "metadata": {
    "colab": {
     "base_uri": "https://localhost:8080/",
     "height": 68
    },
    "id": "7tDrVM0XNq3Q",
    "outputId": "8cfe6578-1bee-4e5e-ae77-a06caa9c6e9b"
   },
   "outputs": [
    {
     "data": {
      "text/plain": [
       "array([[8.88646726e-11, 3.16852020e-14, 2.80301869e-02, 9.71811056e-01,\n",
       "        5.44250838e-07, 2.76794981e-05, 6.60677324e-05, 1.09066154e-17,\n",
       "        6.43802778e-05, 2.22910301e-10]], dtype=float32)"
      ]
     },
     "execution_count": 14,
     "metadata": {
      "tags": []
     },
     "output_type": "execute_result"
    }
   ],
   "source": [
    "t= model.predict(test_images[0][tf.newaxis])\n",
    "t  "
   ]
  },
  {
   "cell_type": "code",
   "execution_count": 15,
   "metadata": {
    "colab": {
     "base_uri": "https://localhost:8080/",
     "height": 34
    },
    "id": "E9getGTvQljY",
    "outputId": "62d5feca-ec77-4c44-f012-d0e477b6c0fb"
   },
   "outputs": [
    {
     "data": {
      "text/plain": [
       "0.9999999"
      ]
     },
     "execution_count": 15,
     "metadata": {
      "tags": []
     },
     "output_type": "execute_result"
    }
   ],
   "source": [
    "np.sum(t)"
   ]
  },
  {
   "cell_type": "code",
   "execution_count": 16,
   "metadata": {
    "colab": {
     "base_uri": "https://localhost:8080/",
     "height": 34
    },
    "id": "2Za-XQ9jQPGu",
    "outputId": "2d80cea2-9bdf-41f3-b5f7-79e4718e910c"
   },
   "outputs": [
    {
     "data": {
      "text/plain": [
       "array([3], dtype=uint8)"
      ]
     },
     "execution_count": 16,
     "metadata": {
      "tags": []
     },
     "output_type": "execute_result"
    }
   ],
   "source": [
    "test_labels[0] #맞춤"
   ]
  },
  {
   "cell_type": "code",
   "execution_count": 17,
   "metadata": {
    "colab": {
     "base_uri": "https://localhost:8080/",
     "height": 34
    },
    "id": "dZgP258jQT7G",
    "outputId": "fbb5c264-3fc0-449a-c6ad-d58e97196229"
   },
   "outputs": [
    {
     "data": {
      "text/plain": [
       "3"
      ]
     },
     "execution_count": 17,
     "metadata": {
      "tags": []
     },
     "output_type": "execute_result"
    }
   ],
   "source": [
    "np.argmax(t)  #정답"
   ]
  },
  {
   "cell_type": "markdown",
   "metadata": {
    "id": "HA1sOUX7QwrW"
   },
   "source": [
    "### overflow\n",
    "- softmax 의 또 다른 문제점\n",
    "- 입력값에대해서 출력이 나와야되는데 원하는 결과값이 안나오는 경우가 있음 \n",
    "\n",
    "softmax 구현"
   ]
  },
  {
   "cell_type": "code",
   "execution_count": 25,
   "metadata": {
    "id": "WsIaOhccRkkR"
   },
   "outputs": [],
   "source": [
    "def softmax(x):\n",
    "  return np.exp(x)/np.sum(np.exp(x))"
   ]
  },
  {
   "cell_type": "code",
   "execution_count": 26,
   "metadata": {
    "colab": {
     "base_uri": "https://localhost:8080/",
     "height": 34
    },
    "id": "y24iDEoYRtpy",
    "outputId": "bc163a85-46f1-4c0b-f9c0-44605ee89a78"
   },
   "outputs": [
    {
     "data": {
      "text/plain": [
       "1.0"
      ]
     },
     "execution_count": 26,
     "metadata": {
      "tags": []
     },
     "output_type": "execute_result"
    }
   ],
   "source": [
    "t=softmax([1,2,3])\n",
    "t"
   ]
  },
  {
   "cell_type": "code",
   "execution_count": null,
   "metadata": {},
   "outputs": [],
   "source": [
    "np.sum(t)"
   ]
  },
  {
   "cell_type": "code",
   "execution_count": 27,
   "metadata": {
    "colab": {
     "base_uri": "https://localhost:8080/",
     "height": 85
    },
    "id": "Uls759AQRzUP",
    "outputId": "41c83082-c9fb-4e06-bbf8-8ed7c2f12070"
   },
   "outputs": [
    {
     "name": "stderr",
     "output_type": "stream",
     "text": [
      "/usr/local/lib/python3.6/dist-packages/ipykernel_launcher.py:2: RuntimeWarning: overflow encountered in exp\n",
      "  \n",
      "/usr/local/lib/python3.6/dist-packages/ipykernel_launcher.py:2: RuntimeWarning: invalid value encountered in true_divide\n",
      "  \n"
     ]
    }
   ],
   "source": [
    "s=softmax([1000,1010,990])\n",
    "s          #Overflow : 큰수를 넣으며 RuntimeWarning(numerically unstable)"
   ]
  },
  {
   "cell_type": "code",
   "execution_count": 28,
   "metadata": {
    "id": "-w2MXyGwR8ds"
   },
   "outputs": [],
   "source": [
    "def softmax2(x):\n",
    "  c=np.max(x)             #최대값\n",
    "  exp_a = np.exp(x-c)     #최대값으로 뺌\n",
    "  sum_exp_a =np.sum(exp_a)\n",
    "  return exp_a/sum_exp_a"
   ]
  },
  {
   "cell_type": "code",
   "execution_count": 29,
   "metadata": {
    "colab": {
     "base_uri": "https://localhost:8080/",
     "height": 34
    },
    "id": "4DvxXYNeSVUA",
    "outputId": "913ca97f-21b5-494f-e155-9c3dad3577ee"
   },
   "outputs": [
    {
     "data": {
      "text/plain": [
       "array([4.53978686e-05, 9.99954600e-01, 2.06106005e-09])"
      ]
     },
     "execution_count": 29,
     "metadata": {
      "tags": []
     },
     "output_type": "execute_result"
    }
   ],
   "source": [
    "softmax2([1000,1010,990]) #변환에 문제없음"
   ]
  },
  {
   "cell_type": "markdown",
   "metadata": {
    "id": "wTG9pWtgTVw_"
   },
   "source": [
    "### Numerical Stabitliy 문제 \n",
    "- 입력값에 따라서 원하는 결과값이  제대로 안나오는 경우\n",
    "-  값이 너무 커지거나 작아지면서 하단과 같은 문제가 생김\n",
    " - 변활할때 생기는 오차와 이론적인 오차\n",
    "    - gradient explding\n",
    "    - gradient vanishing\n",
    "        - batch normalization, 쟈비에르 initialize 에서 다룰 예정 "
   ]
  },
  {
   "cell_type": "markdown",
   "metadata": {
    "id": "o42onVQksv3C"
   },
   "source": [
    "---\n",
    "이미지 분류\n",
    "1. 데이터 이해\n",
    "  - EDA\n",
    "  - 구성 이해\n",
    "2. build an input pipeline\n",
    "3. 모델 생성\n",
    "4. 학습\n",
    "5. 검정\n",
    "6. 모델 향상을 위한 과정 반복\n",
    "\n",
    "### 이미지 로드 \n",
    "- **invaraiance하게 만드는 전처리** 필요\n",
    "\n",
    "이미지 분류 참고: https://www.tensorflow.org/tutorials/keras/classification?hl=ko"
   ]
  },
  {
   "cell_type": "code",
   "execution_count": 31,
   "metadata": {
    "id": "xpgZ0c8Yswgo"
   },
   "outputs": [],
   "source": [
    "import matplotlib.pyplot as plt\n",
    "import numpy as np\n",
    "import os\n",
    "import PIL\n",
    "import tensorflow as tf"
   ]
  },
  {
   "cell_type": "markdown",
   "metadata": {},
   "source": [
    "### tensorflow.keras.preprocessing.image\n",
    "- PIL 기반\n",
    "- invariance하게 만들기 위해서 필요한 기능 제공\n",
    "\n",
    "#### ImageDataGenerator\n",
    "- data augmentation(증강)\n",
    "- python의 generator: `next`"
   ]
  },
  {
   "cell_type": "code",
   "execution_count": 30,
   "metadata": {
    "id": "oH3FQp96swS7"
   },
   "outputs": [],
   "source": [
    "from tensorflow.keras.preprocessing.image import ImageDataGenerator #데이터 augmentation"
   ]
  },
  {
   "cell_type": "markdown",
   "metadata": {
    "id": "JiOGeQ8xve8X"
   },
   "source": [
    "### utils\n",
    "- getfile : 인터넷에서파일 가져오는데 kerasd에 저장되어 2번 실행되면 cache에서 가져옴\n",
    "- to_categorical : one-hot encoding\n",
    "- plot_model :graph\n",
    "\n",
    "---\n",
    "python 3.3 부터 os모듈에 path처리하는 서브모듈\n",
    "- platform dependent (시스테별 호화 안 됨)\n",
    "\n",
    "### pathlib\n",
    "- 데이터 구축이 제일 중요하고 어려움\n",
    "    - Library Reference > File and Directory Access \n",
    "        - `pathlib`에서 다양한 기능 제공하지만 glob 정규식 이용해서 패턴 찾음\n",
    "        - 데이터 양이 많으면 수동으로 하기 힘듦\n",
    "        \n",
    "- 전략\n",
    "     - pandas DataFrame으로 관리\n",
    "        - 데이터 양 100만개  \n",
    "        - 파일 위치, 클래스, 설명, timestamp 등 편하게 관리\n",
    "        - 전처리, EDA 용이\n",
    "     - directory 관리"
   ]
  },
  {
   "cell_type": "code",
   "execution_count": 34,
   "metadata": {
    "id": "hXaZmUMhvGo1"
   },
   "outputs": [],
   "source": [
    "from tensorflow.keras.utils import to_categorical, plot_model, get_file  "
   ]
  },
  {
   "cell_type": "code",
   "execution_count": 33,
   "metadata": {
    "colab": {
     "base_uri": "https://localhost:8080/",
     "height": 51
    },
    "id": "rVyfV9NxuaCk",
    "outputId": "ba75b2a8-b508-47e7-c05a-c12b83a61792"
   },
   "outputs": [
    {
     "name": "stdout",
     "output_type": "stream",
     "text": [
      "Downloading data from https://storage.googleapis.com/download.tensorflow.org/example_images/flower_photos.tgz\n",
      "228818944/228813984 [==============================] - 2s 0us/step\n"
     ]
    }
   ],
   "source": [
    "import pathlib\n",
    "dataset_url = \"https://storage.googleapis.com/download.tensorflow.org/example_images/flower_photos.tgz\"\n",
    "data_dir = tf.keras.utils.get_file('flower_photos', origin=dataset_url, untar=True)  #  온라인 데이터에서 가져옴\n",
    "data_dir = pathlib.Path(data_dir)  #객체지향방식"
   ]
  },
  {
   "cell_type": "markdown",
   "metadata": {
    "id": "8w1MbwPR9p4h"
   },
   "source": [
    "꽃 데이터 세트 다운로드 \n",
    "총 3670개의 flowers_photos 데이터 세트에는 클래스 당 하나씩 5 개의 하위 디렉토리가 있음\n",
    "\n",
    "\n",
    "-  daisy/\n",
    "-  dandelion/\n",
    "-  roses/\n",
    "- sunflowers/\n",
    "- tulips/\n"
   ]
  },
  {
   "cell_type": "code",
   "execution_count": 35,
   "metadata": {
    "colab": {
     "base_uri": "https://localhost:8080/",
     "height": 34
    },
    "id": "nZN3xXCYvRSl",
    "outputId": "30a6a222-239d-48a1-dc31-bf0c58ced2f6"
   },
   "outputs": [
    {
     "data": {
      "text/plain": [
       "PosixPath('/root/.keras/datasets/flower_photos')"
      ]
     },
     "execution_count": 35,
     "metadata": {
      "tags": []
     },
     "output_type": "execute_result"
    }
   ],
   "source": [
    "data_dir  #저장된 path "
   ]
  },
  {
   "cell_type": "code",
   "execution_count": 36,
   "metadata": {
    "colab": {
     "base_uri": "https://localhost:8080/",
     "height": 1000
    },
    "id": "QuJ-2dEdvSgf",
    "outputId": "feba371c-4719-4a96-e7d5-aa2e387c71c6"
   },
   "outputs": [
    {
     "data": {
      "text/plain": [
       "['__bytes__',\n",
       " '__class__',\n",
       " '__delattr__',\n",
       " '__dir__',\n",
       " '__doc__',\n",
       " '__enter__',\n",
       " '__eq__',\n",
       " '__exit__',\n",
       " '__format__',\n",
       " '__fspath__',\n",
       " '__ge__',\n",
       " '__getattribute__',\n",
       " '__gt__',\n",
       " '__hash__',\n",
       " '__init__',\n",
       " '__init_subclass__',\n",
       " '__le__',\n",
       " '__lt__',\n",
       " '__module__',\n",
       " '__ne__',\n",
       " '__new__',\n",
       " '__reduce__',\n",
       " '__reduce_ex__',\n",
       " '__repr__',\n",
       " '__rtruediv__',\n",
       " '__setattr__',\n",
       " '__sizeof__',\n",
       " '__slots__',\n",
       " '__str__',\n",
       " '__subclasshook__',\n",
       " '__truediv__',\n",
       " '_accessor',\n",
       " '_cached_cparts',\n",
       " '_closed',\n",
       " '_cparts',\n",
       " '_drv',\n",
       " '_flavour',\n",
       " '_format_parsed_parts',\n",
       " '_from_parsed_parts',\n",
       " '_from_parts',\n",
       " '_hash',\n",
       " '_init',\n",
       " '_make_child',\n",
       " '_make_child_relpath',\n",
       " '_opener',\n",
       " '_parse_args',\n",
       " '_parts',\n",
       " '_pparts',\n",
       " '_raise_closed',\n",
       " '_raw_open',\n",
       " '_root',\n",
       " '_str',\n",
       " 'absolute',\n",
       " 'anchor',\n",
       " 'as_posix',\n",
       " 'as_uri',\n",
       " 'chmod',\n",
       " 'cwd',\n",
       " 'drive',\n",
       " 'exists',\n",
       " 'expanduser',\n",
       " 'glob',\n",
       " 'group',\n",
       " 'home',\n",
       " 'is_absolute',\n",
       " 'is_block_device',\n",
       " 'is_char_device',\n",
       " 'is_dir',\n",
       " 'is_fifo',\n",
       " 'is_file',\n",
       " 'is_reserved',\n",
       " 'is_socket',\n",
       " 'is_symlink',\n",
       " 'iterdir',\n",
       " 'joinpath',\n",
       " 'lchmod',\n",
       " 'lstat',\n",
       " 'match',\n",
       " 'mkdir',\n",
       " 'name',\n",
       " 'open',\n",
       " 'owner',\n",
       " 'parent',\n",
       " 'parents',\n",
       " 'parts',\n",
       " 'read_bytes',\n",
       " 'read_text',\n",
       " 'relative_to',\n",
       " 'rename',\n",
       " 'replace',\n",
       " 'resolve',\n",
       " 'rglob',\n",
       " 'rmdir',\n",
       " 'root',\n",
       " 'samefile',\n",
       " 'stat',\n",
       " 'stem',\n",
       " 'suffix',\n",
       " 'suffixes',\n",
       " 'symlink_to',\n",
       " 'touch',\n",
       " 'unlink',\n",
       " 'with_name',\n",
       " 'with_suffix',\n",
       " 'write_bytes',\n",
       " 'write_text']"
      ]
     },
     "execution_count": 36,
     "metadata": {
      "tags": []
     },
     "output_type": "execute_result"
    }
   ],
   "source": [
    "dir(data_dir) #glob 특정 패턴 기반으로 찾음 , state "
   ]
  },
  {
   "cell_type": "code",
   "execution_count": 37,
   "metadata": {
    "colab": {
     "base_uri": "https://localhost:8080/",
     "height": 34
    },
    "id": "kZZefdWiwiAN",
    "outputId": "b1167741-8054-47c3-d417-b4f4f86fff90"
   },
   "outputs": [
    {
     "data": {
      "text/plain": [
       "<generator object Path.glob at 0x7f089070f5c8>"
      ]
     },
     "execution_count": 37,
     "metadata": {
      "tags": []
     },
     "output_type": "execute_result"
    }
   ],
   "source": [
    "data_dir.glob('*.jpg') #generator: next 하나씩 , list 전체 ,for 사용 가능 "
   ]
  },
  {
   "cell_type": "code",
   "execution_count": 38,
   "metadata": {
    "colab": {
     "base_uri": "https://localhost:8080/",
     "height": 34
    },
    "id": "_z-WlBx4wqU1",
    "outputId": "922aadbc-7d9b-43c1-cc97-08bab2adbc4d"
   },
   "outputs": [
    {
     "data": {
      "text/plain": [
       "[]"
      ]
     },
     "execution_count": 38,
     "metadata": {
      "tags": []
     },
     "output_type": "execute_result"
    }
   ],
   "source": [
    "list(data_dir.glob('*.jpg')) #파일 내부에 각 클래스별로 나누어져 있음을 알 수 있음"
   ]
  },
  {
   "cell_type": "markdown",
   "metadata": {
    "id": "83m1D-F3w-tW"
   },
   "source": [
    "파일 내에 jpg로 끝나는 모든것 "
   ]
  },
  {
   "cell_type": "code",
   "execution_count": 39,
   "metadata": {
    "colab": {
     "base_uri": "https://localhost:8080/",
     "height": 1000
    },
    "id": "FmPJxCt1w9q6",
    "outputId": "67a1cfdb-438f-4310-8336-8d973d6aa784"
   },
   "outputs": [
    {
     "data": {
      "text/plain": [
       "[PosixPath('/root/.keras/datasets/flower_photos/tulips/14067456066_87e15792d0.jpg'),\n",
       " PosixPath('/root/.keras/datasets/flower_photos/tulips/2322670828_34115a7050.jpg'),\n",
       " PosixPath('/root/.keras/datasets/flower_photos/tulips/7166644048_b00a14f01b.jpg'),\n",
       " PosixPath('/root/.keras/datasets/flower_photos/tulips/13900235284_32ce563633_n.jpg'),\n",
       " PosixPath('/root/.keras/datasets/flower_photos/tulips/14044685976_0064faed21.jpg'),\n",
       " PosixPath('/root/.keras/datasets/flower_photos/tulips/13539384593_23449f7332_n.jpg'),\n",
       " PosixPath('/root/.keras/datasets/flower_photos/tulips/8908097235_c3e746d36e_n.jpg'),\n",
       " PosixPath('/root/.keras/datasets/flower_photos/tulips/4644110077_ff252cd7c4.jpg'),\n",
       " PosixPath('/root/.keras/datasets/flower_photos/tulips/7145978709_2d1596f462.jpg'),\n",
       " PosixPath('/root/.keras/datasets/flower_photos/tulips/13472387874_d844478dbb.jpg'),\n",
       " PosixPath('/root/.keras/datasets/flower_photos/tulips/7166564830_8b34a3fd35_n.jpg'),\n",
       " PosixPath('/root/.keras/datasets/flower_photos/tulips/4353419275_79d3904074_n.jpg'),\n",
       " PosixPath('/root/.keras/datasets/flower_photos/tulips/4117620896_070e5887ae_m.jpg'),\n",
       " PosixPath('/root/.keras/datasets/flower_photos/tulips/4290566894_c7f061583d_m.jpg'),\n",
       " PosixPath('/root/.keras/datasets/flower_photos/tulips/17309951996_552d632cbb_n.jpg'),\n",
       " PosixPath('/root/.keras/datasets/flower_photos/tulips/17202535346_ab828e779b.jpg'),\n",
       " PosixPath('/root/.keras/datasets/flower_photos/tulips/9378657435_89fabf13c9_n.jpg'),\n",
       " PosixPath('/root/.keras/datasets/flower_photos/tulips/12616825773_9aa4245b57_n.jpg'),\n",
       " PosixPath('/root/.keras/datasets/flower_photos/tulips/4550117239_5907aaba4c.jpg'),\n",
       " PosixPath('/root/.keras/datasets/flower_photos/tulips/14097745904_436c4ba1b4_n.jpg'),\n",
       " PosixPath('/root/.keras/datasets/flower_photos/tulips/8750288831_5e49a9f29b.jpg'),\n",
       " PosixPath('/root/.keras/datasets/flower_photos/tulips/924782410_94ed7913ca_m.jpg'),\n",
       " PosixPath('/root/.keras/datasets/flower_photos/tulips/130684941_d1abfa3be6_m.jpg'),\n",
       " PosixPath('/root/.keras/datasets/flower_photos/tulips/142235914_5419ff8a4a.jpg'),\n",
       " PosixPath('/root/.keras/datasets/flower_photos/tulips/5719416820_3060e3c1f0.jpg'),\n",
       " PosixPath('/root/.keras/datasets/flower_photos/tulips/14275234071_6e6f473356.jpg'),\n",
       " PosixPath('/root/.keras/datasets/flower_photos/tulips/4442928974_9672d630b2_n.jpg'),\n",
       " PosixPath('/root/.keras/datasets/flower_photos/tulips/17012955700_7141d29eee.jpg'),\n",
       " PosixPath('/root/.keras/datasets/flower_photos/tulips/7002703410_3e97b29da5_n.jpg'),\n",
       " PosixPath('/root/.keras/datasets/flower_photos/tulips/14746916178_40403cc57e.jpg'),\n",
       " PosixPath('/root/.keras/datasets/flower_photos/tulips/8708209606_d3aede4801.jpg'),\n",
       " PosixPath('/root/.keras/datasets/flower_photos/tulips/3502685880_f026400dce_n.jpg'),\n",
       " PosixPath('/root/.keras/datasets/flower_photos/tulips/15090146325_b7e1249e60.jpg'),\n",
       " PosixPath('/root/.keras/datasets/flower_photos/tulips/3502974120_9f1eceaf8b_n.jpg'),\n",
       " PosixPath('/root/.keras/datasets/flower_photos/tulips/14022473102_3b24ca08cb_m.jpg'),\n",
       " PosixPath('/root/.keras/datasets/flower_photos/tulips/6958342976_a4a9483488_n.jpg'),\n",
       " PosixPath('/root/.keras/datasets/flower_photos/tulips/4550278535_dfdf7b74ef.jpg'),\n",
       " PosixPath('/root/.keras/datasets/flower_photos/tulips/6808860548_53796b90ca_n.jpg'),\n",
       " PosixPath('/root/.keras/datasets/flower_photos/tulips/8757486380_90952c5377.jpg'),\n",
       " PosixPath('/root/.keras/datasets/flower_photos/tulips/5635348214_a4e2b19ffe.jpg'),\n",
       " PosixPath('/root/.keras/datasets/flower_photos/tulips/13910544560_9140dd547e.jpg'),\n",
       " PosixPath('/root/.keras/datasets/flower_photos/tulips/7082476907_99beef0dde.jpg'),\n",
       " PosixPath('/root/.keras/datasets/flower_photos/tulips/14278331403_4c475f9a9b.jpg'),\n",
       " PosixPath('/root/.keras/datasets/flower_photos/tulips/2426847695_4b8409402e_n.jpg'),\n",
       " PosixPath('/root/.keras/datasets/flower_photos/tulips/5634767665_0ae724774d.jpg'),\n",
       " PosixPath('/root/.keras/datasets/flower_photos/tulips/9019694597_2d3bbedb17.jpg'),\n",
       " PosixPath('/root/.keras/datasets/flower_photos/tulips/14071516088_b526946e17_n.jpg'),\n",
       " PosixPath('/root/.keras/datasets/flower_photos/tulips/6539831765_c21b68910e_n.jpg'),\n",
       " PosixPath('/root/.keras/datasets/flower_photos/tulips/15756524087_823cf86bd8_m.jpg'),\n",
       " PosixPath('/root/.keras/datasets/flower_photos/tulips/135994133_4f306fe4bf_n.jpg'),\n",
       " PosixPath('/root/.keras/datasets/flower_photos/tulips/16937554595_3e1de22f9c.jpg'),\n",
       " PosixPath('/root/.keras/datasets/flower_photos/tulips/8712270665_57b5bda0a2_n.jpg'),\n",
       " PosixPath('/root/.keras/datasets/flower_photos/tulips/2229804138_db9cba3443_n.jpg'),\n",
       " PosixPath('/root/.keras/datasets/flower_photos/tulips/13513644515_a51470b899.jpg'),\n",
       " PosixPath('/root/.keras/datasets/flower_photos/tulips/6267021825_a8316e0dcc_m.jpg'),\n",
       " PosixPath('/root/.keras/datasets/flower_photos/tulips/130685040_3c2fcec63e_n.jpg'),\n",
       " PosixPath('/root/.keras/datasets/flower_photos/tulips/11746276_de3dec8201.jpg'),\n",
       " PosixPath('/root/.keras/datasets/flower_photos/tulips/5546723510_39a5a10d3a_n.jpg'),\n",
       " PosixPath('/root/.keras/datasets/flower_photos/tulips/17844723633_da85357fe3.jpg'),\n",
       " PosixPath('/root/.keras/datasets/flower_photos/tulips/4508346090_a27b988f79_n.jpg'),\n",
       " PosixPath('/root/.keras/datasets/flower_photos/tulips/4955884820_7e4ce4d7e5_m.jpg'),\n",
       " PosixPath('/root/.keras/datasets/flower_photos/tulips/3991742794_edebc6c8a0_n.jpg'),\n",
       " PosixPath('/root/.keras/datasets/flower_photos/tulips/3238068295_b2a7b17f48_n.jpg'),\n",
       " PosixPath('/root/.keras/datasets/flower_photos/tulips/16074109313_2cc14c7d16.jpg'),\n",
       " PosixPath('/root/.keras/datasets/flower_photos/tulips/13509967925_eaaeefa396_m.jpg'),\n",
       " PosixPath('/root/.keras/datasets/flower_photos/tulips/4573822295_5c5c6a5f6a.jpg'),\n",
       " PosixPath('/root/.keras/datasets/flower_photos/tulips/7166552648_28b6dce578.jpg'),\n",
       " PosixPath('/root/.keras/datasets/flower_photos/tulips/7082608511_f4cf233f59_n.jpg'),\n",
       " PosixPath('/root/.keras/datasets/flower_photos/tulips/14068378204_7b26baa30d_n.jpg'),\n",
       " PosixPath('/root/.keras/datasets/flower_photos/tulips/14090546015_504c8becd1.jpg'),\n",
       " PosixPath('/root/.keras/datasets/flower_photos/tulips/7775145448_c42e638a6a_n.jpg'),\n",
       " PosixPath('/root/.keras/datasets/flower_photos/tulips/3990746027_338ee436d2_n.jpg'),\n",
       " PosixPath('/root/.keras/datasets/flower_photos/tulips/6903831250_a2757fff82_m.jpg'),\n",
       " PosixPath('/root/.keras/datasets/flower_photos/tulips/2936181186_38ff43492e.jpg'),\n",
       " PosixPath('/root/.keras/datasets/flower_photos/tulips/8733586143_3139db6e9e_n.jpg'),\n",
       " PosixPath('/root/.keras/datasets/flower_photos/tulips/8673412732_f8fd690ee4_n.jpg'),\n",
       " PosixPath('/root/.keras/datasets/flower_photos/tulips/5552198702_35856ed8ec.jpg'),\n",
       " PosixPath('/root/.keras/datasets/flower_photos/tulips/16907559551_05ded87fb2_n.jpg'),\n",
       " PosixPath('/root/.keras/datasets/flower_photos/tulips/5603625247_e4ff1828af_m.jpg'),\n",
       " PosixPath('/root/.keras/datasets/flower_photos/tulips/3502615974_ef4bd13202_n.jpg'),\n",
       " PosixPath('/root/.keras/datasets/flower_photos/tulips/8555123165_2fe57eff4f.jpg'),\n",
       " PosixPath('/root/.keras/datasets/flower_photos/tulips/7481204112_e3c57dd40a_n.jpg'),\n",
       " PosixPath('/root/.keras/datasets/flower_photos/tulips/14103897845_7986002615.jpg'),\n",
       " PosixPath('/root/.keras/datasets/flower_photos/tulips/7166626128_8e0983ac8e_n.jpg'),\n",
       " PosixPath('/root/.keras/datasets/flower_photos/tulips/14009216519_b608321cf2_n.jpg'),\n",
       " PosixPath('/root/.keras/datasets/flower_photos/tulips/5704726114_a92f753514.jpg'),\n",
       " PosixPath('/root/.keras/datasets/flower_photos/tulips/14027372499_30f934d24f_m.jpg'),\n",
       " PosixPath('/root/.keras/datasets/flower_photos/tulips/6770436217_281da51e49_n.jpg'),\n",
       " PosixPath('/root/.keras/datasets/flower_photos/tulips/8659691170_09db83d023.jpg'),\n",
       " PosixPath('/root/.keras/datasets/flower_photos/tulips/16062072523_1be3c0b61f.jpg'),\n",
       " PosixPath('/root/.keras/datasets/flower_photos/tulips/8838354855_c474fc66a3_m.jpg'),\n",
       " PosixPath('/root/.keras/datasets/flower_photos/tulips/7047408023_6e98fd1e3f.jpg'),\n",
       " PosixPath('/root/.keras/datasets/flower_photos/tulips/2256214682_130c01d9d9.jpg'),\n",
       " PosixPath('/root/.keras/datasets/flower_photos/tulips/7069622551_348d41c327_n.jpg'),\n",
       " PosixPath('/root/.keras/datasets/flower_photos/tulips/146884869_b1a8fa9c4e_n.jpg'),\n",
       " PosixPath('/root/.keras/datasets/flower_photos/tulips/5529939805_1679b014e1_n.jpg'),\n",
       " PosixPath('/root/.keras/datasets/flower_photos/tulips/16055807744_000bc07afc_m.jpg'),\n",
       " PosixPath('/root/.keras/datasets/flower_photos/tulips/4418204816_018375acd0_m.jpg'),\n",
       " PosixPath('/root/.keras/datasets/flower_photos/tulips/2430566689_8543552f9b.jpg'),\n",
       " PosixPath('/root/.keras/datasets/flower_photos/tulips/14097328354_4f1469a170.jpg'),\n",
       " PosixPath('/root/.keras/datasets/flower_photos/tulips/4575963749_2418ff8768.jpg'),\n",
       " PosixPath('/root/.keras/datasets/flower_photos/tulips/13176576813_50e77cc1d9.jpg'),\n",
       " PosixPath('/root/.keras/datasets/flower_photos/tulips/13562271714_d534531374.jpg'),\n",
       " PosixPath('/root/.keras/datasets/flower_photos/tulips/16862374316_4135908d4c_m.jpg'),\n",
       " PosixPath('/root/.keras/datasets/flower_photos/tulips/4522130258_9ee44cf73f_m.jpg'),\n",
       " PosixPath('/root/.keras/datasets/flower_photos/tulips/16862422576_5226e8d1d0.jpg'),\n",
       " PosixPath('/root/.keras/datasets/flower_photos/tulips/17078576150_6f272ce73f_n.jpg'),\n",
       " PosixPath('/root/.keras/datasets/flower_photos/tulips/2232289392_9a79a0c5cb_n.jpg'),\n",
       " PosixPath('/root/.keras/datasets/flower_photos/tulips/141479422_5a6fa1fd1b_m.jpg'),\n",
       " PosixPath('/root/.keras/datasets/flower_photos/tulips/2431737309_1468526f8b.jpg'),\n",
       " PosixPath('/root/.keras/datasets/flower_photos/tulips/16677199221_eab3f22378_n.jpg'),\n",
       " PosixPath('/root/.keras/datasets/flower_photos/tulips/13923539227_bdab038dc8.jpg'),\n",
       " PosixPath('/root/.keras/datasets/flower_photos/tulips/6958343928_7e596da4ed_m.jpg'),\n",
       " PosixPath('/root/.keras/datasets/flower_photos/tulips/7094415739_6b29e5215c_m.jpg'),\n",
       " PosixPath('/root/.keras/datasets/flower_photos/tulips/112428919_f0c5ad7d9d_n.jpg'),\n",
       " PosixPath('/root/.keras/datasets/flower_photos/tulips/12883412424_cb5086b43f_n.jpg'),\n",
       " PosixPath('/root/.keras/datasets/flower_photos/tulips/2440874162_27a7030402_n.jpg'),\n",
       " PosixPath('/root/.keras/datasets/flower_photos/tulips/7166567320_0a2beb6d42.jpg'),\n",
       " PosixPath('/root/.keras/datasets/flower_photos/tulips/16098264209_38fe491093.jpg'),\n",
       " PosixPath('/root/.keras/datasets/flower_photos/tulips/14066056226_d8564a083e_m.jpg'),\n",
       " PosixPath('/root/.keras/datasets/flower_photos/tulips/7205145492_baec4dbb94.jpg'),\n",
       " PosixPath('/root/.keras/datasets/flower_photos/tulips/4590703575_6371c0a186_n.jpg'),\n",
       " PosixPath('/root/.keras/datasets/flower_photos/tulips/14087326141_1906d5a373_n.jpg'),\n",
       " PosixPath('/root/.keras/datasets/flower_photos/tulips/4572955407_87f4805c7b.jpg'),\n",
       " PosixPath('/root/.keras/datasets/flower_photos/tulips/3511776685_3635087b12_n.jpg'),\n",
       " PosixPath('/root/.keras/datasets/flower_photos/tulips/7342871880_c17fe0eb4f_m.jpg'),\n",
       " PosixPath('/root/.keras/datasets/flower_photos/tulips/14487762578_baba13d16a_m.jpg'),\n",
       " PosixPath('/root/.keras/datasets/flower_photos/tulips/16670377091_87987f50a4_n.jpg'),\n",
       " PosixPath('/root/.keras/datasets/flower_photos/tulips/402525114_eaa60c8341_m.jpg'),\n",
       " PosixPath('/root/.keras/datasets/flower_photos/tulips/2399982682_16929d1f6d_n.jpg'),\n",
       " PosixPath('/root/.keras/datasets/flower_photos/tulips/2432389721_4d14971060_n.jpg'),\n",
       " PosixPath('/root/.keras/datasets/flower_photos/tulips/14116780333_7836f4448c.jpg'),\n",
       " PosixPath('/root/.keras/datasets/flower_photos/tulips/3511104954_54eace015c_n.jpg'),\n",
       " PosixPath('/root/.keras/datasets/flower_photos/tulips/3457017604_90e4de7480_m.jpg'),\n",
       " PosixPath('/root/.keras/datasets/flower_photos/tulips/107693873_86021ac4ea_n.jpg'),\n",
       " PosixPath('/root/.keras/datasets/flower_photos/tulips/5574219476_1f46775487_n.jpg'),\n",
       " PosixPath('/root/.keras/datasets/flower_photos/tulips/10094729603_eeca3f2cb6.jpg'),\n",
       " PosixPath('/root/.keras/datasets/flower_photos/tulips/113291410_1bdc718ed8_n.jpg'),\n",
       " PosixPath('/root/.keras/datasets/flower_photos/tulips/13903946578_187f904c9a_n.jpg'),\n",
       " PosixPath('/root/.keras/datasets/flower_photos/tulips/3614805920_7a6610aa4b_n.jpg'),\n",
       " PosixPath('/root/.keras/datasets/flower_photos/tulips/14087361621_9fefb8dbef.jpg'),\n",
       " PosixPath('/root/.keras/datasets/flower_photos/tulips/497305666_b5d4348826_n.jpg'),\n",
       " PosixPath('/root/.keras/datasets/flower_photos/tulips/14651385476_7ccb20e594_m.jpg'),\n",
       " PosixPath('/root/.keras/datasets/flower_photos/tulips/10163955604_ae0b830975_n.jpg'),\n",
       " PosixPath('/root/.keras/datasets/flower_photos/tulips/7166598930_18d8686ace_n.jpg'),\n",
       " PosixPath('/root/.keras/datasets/flower_photos/tulips/13510068773_c925c5517c.jpg'),\n",
       " PosixPath('/root/.keras/datasets/flower_photos/tulips/13926327692_a07357ff0d.jpg'),\n",
       " PosixPath('/root/.keras/datasets/flower_photos/tulips/14094114202_4c1d7f1116.jpg'),\n",
       " PosixPath('/root/.keras/datasets/flower_photos/tulips/14674067742_73c2602aa6_m.jpg'),\n",
       " PosixPath('/root/.keras/datasets/flower_photos/tulips/17159349572_c0c51599f7_n.jpg'),\n",
       " PosixPath('/root/.keras/datasets/flower_photos/tulips/2351637471_5dd34fd3ac_n.jpg'),\n",
       " PosixPath('/root/.keras/datasets/flower_photos/tulips/5417115048_3b78d6c875_n.jpg'),\n",
       " PosixPath('/root/.keras/datasets/flower_photos/tulips/2447151631_7551e6377b_n.jpg'),\n",
       " PosixPath('/root/.keras/datasets/flower_photos/tulips/5012813078_99fb977616_n.jpg'),\n",
       " PosixPath('/root/.keras/datasets/flower_photos/tulips/7179796338_05e8b1c87b.jpg'),\n",
       " PosixPath('/root/.keras/datasets/flower_photos/tulips/5670916806_df4316006f_n.jpg'),\n",
       " PosixPath('/root/.keras/datasets/flower_photos/tulips/16951623209_00fb7ec1b1_n.jpg'),\n",
       " PosixPath('/root/.keras/datasets/flower_photos/tulips/16582481123_06e8e6b966_n.jpg'),\n",
       " PosixPath('/root/.keras/datasets/flower_photos/tulips/8838347159_746d14e6c1_m.jpg'),\n",
       " PosixPath('/root/.keras/datasets/flower_photos/tulips/13999402743_f563f6b685_n.jpg'),\n",
       " PosixPath('/root/.keras/datasets/flower_photos/tulips/420216121_3ee33723d7_m.jpg'),\n",
       " PosixPath('/root/.keras/datasets/flower_photos/tulips/19425920580_cdc8f49aed_n.jpg'),\n",
       " PosixPath('/root/.keras/datasets/flower_photos/tulips/8605564823_7a59d3d92a.jpg'),\n",
       " PosixPath('/root/.keras/datasets/flower_photos/tulips/16303377824_6e9128b4bd.jpg'),\n",
       " PosixPath('/root/.keras/datasets/flower_photos/tulips/2503489175_f0848d3e8e.jpg'),\n",
       " PosixPath('/root/.keras/datasets/flower_photos/tulips/16711791713_e54bc9c1af_n.jpg'),\n",
       " PosixPath('/root/.keras/datasets/flower_photos/tulips/14093565032_a8f1e349d1.jpg'),\n",
       " PosixPath('/root/.keras/datasets/flower_photos/tulips/4516198427_0e5099cd8e.jpg'),\n",
       " PosixPath('/root/.keras/datasets/flower_photos/tulips/14087792403_f34f37ba3b_m.jpg'),\n",
       " PosixPath('/root/.keras/datasets/flower_photos/tulips/2434178332_7fcf85aa95_n.jpg'),\n",
       " PosixPath('/root/.keras/datasets/flower_photos/tulips/4521496161_2b41d4182e.jpg'),\n",
       " PosixPath('/root/.keras/datasets/flower_photos/tulips/15516715153_08abc9bb20_n.jpg'),\n",
       " PosixPath('/root/.keras/datasets/flower_photos/tulips/5043225469_0aa23f3c8f_n.jpg'),\n",
       " PosixPath('/root/.keras/datasets/flower_photos/tulips/5730908127_da871df0f8.jpg'),\n",
       " PosixPath('/root/.keras/datasets/flower_photos/tulips/8713391394_4b679ea1e3_n.jpg'),\n",
       " PosixPath('/root/.keras/datasets/flower_photos/tulips/14099204939_60e6ffa4c3_n.jpg'),\n",
       " PosixPath('/root/.keras/datasets/flower_photos/tulips/14087425312_2b5846b570_n.jpg'),\n",
       " PosixPath('/root/.keras/datasets/flower_photos/tulips/9870557734_88eb3b9e3b_n.jpg'),\n",
       " PosixPath('/root/.keras/datasets/flower_photos/tulips/14124669683_7fb74f20c3.jpg'),\n",
       " PosixPath('/root/.keras/datasets/flower_photos/tulips/13472393854_b2530f7029_n.jpg'),\n",
       " PosixPath('/root/.keras/datasets/flower_photos/tulips/17862445825_f7031d6f26.jpg'),\n",
       " PosixPath('/root/.keras/datasets/flower_photos/tulips/7166570828_7c26ca5766_n.jpg'),\n",
       " PosixPath('/root/.keras/datasets/flower_photos/tulips/16644790896_7b296ecd67_n.jpg'),\n",
       " PosixPath('/root/.keras/datasets/flower_photos/tulips/13910737760_c71c8b6ff2.jpg'),\n",
       " PosixPath('/root/.keras/datasets/flower_photos/tulips/8623170936_83f4152431.jpg'),\n",
       " PosixPath('/root/.keras/datasets/flower_photos/tulips/113902743_8f537f769b_n.jpg'),\n",
       " PosixPath('/root/.keras/datasets/flower_photos/tulips/3502251824_3be758edc6_m.jpg'),\n",
       " PosixPath('/root/.keras/datasets/flower_photos/tulips/7481215720_73e40f178f_n.jpg'),\n",
       " PosixPath('/root/.keras/datasets/flower_photos/tulips/13888320717_d2919a879b_m.jpg'),\n",
       " PosixPath('/root/.keras/datasets/flower_photos/tulips/17198868382_697b23c715_n.jpg'),\n",
       " PosixPath('/root/.keras/datasets/flower_photos/tulips/7068715863_a534ac7884_n.jpg'),\n",
       " PosixPath('/root/.keras/datasets/flower_photos/tulips/483880052_19fdb26a9f.jpg'),\n",
       " PosixPath('/root/.keras/datasets/flower_photos/tulips/14068348874_7b36c99f6a.jpg'),\n",
       " PosixPath('/root/.keras/datasets/flower_photos/tulips/16862349256_0a1f91ab53.jpg'),\n",
       " PosixPath('/root/.keras/datasets/flower_photos/tulips/3105702091_f02ce75226.jpg'),\n",
       " PosixPath('/root/.keras/datasets/flower_photos/tulips/14053292975_fdc1093571_n.jpg'),\n",
       " PosixPath('/root/.keras/datasets/flower_photos/tulips/11614202956_1dcf1c96a1.jpg'),\n",
       " PosixPath('/root/.keras/datasets/flower_photos/tulips/112951022_4892b1348b_n.jpg'),\n",
       " PosixPath('/root/.keras/datasets/flower_photos/tulips/12548574923_5e90f4ceea.jpg'),\n",
       " PosixPath('/root/.keras/datasets/flower_photos/tulips/3510799169_0ed6ae9669_n.jpg'),\n",
       " PosixPath('/root/.keras/datasets/flower_photos/tulips/4395433872_e073d8c721_n.jpg'),\n",
       " PosixPath('/root/.keras/datasets/flower_photos/tulips/5687705933_55a8c2dbac.jpg'),\n",
       " PosixPath('/root/.keras/datasets/flower_photos/tulips/14064731501_ea14b58161.jpg'),\n",
       " PosixPath('/root/.keras/datasets/flower_photos/tulips/2813658587_337eeef124_n.jpg'),\n",
       " PosixPath('/root/.keras/datasets/flower_photos/tulips/9030467406_05e93ff171_n.jpg'),\n",
       " PosixPath('/root/.keras/datasets/flower_photos/tulips/17295127995_62eff434fe_n.jpg'),\n",
       " PosixPath('/root/.keras/datasets/flower_photos/tulips/12916017805_1cde91a891_n.jpg'),\n",
       " PosixPath('/root/.keras/datasets/flower_photos/tulips/6958243974_8851425ddb_n.jpg'),\n",
       " PosixPath('/root/.keras/datasets/flower_photos/tulips/2272006181_785f1be94f_n.jpg'),\n",
       " PosixPath('/root/.keras/datasets/flower_photos/tulips/12024561754_ce9667e4dc_n.jpg'),\n",
       " PosixPath('/root/.keras/datasets/flower_photos/tulips/5565089564_a30c318f44.jpg'),\n",
       " PosixPath('/root/.keras/datasets/flower_photos/tulips/4562423077_00b16240dc_n.jpg'),\n",
       " PosixPath('/root/.keras/datasets/flower_photos/tulips/112334842_3ecf7585dd.jpg'),\n",
       " PosixPath('/root/.keras/datasets/flower_photos/tulips/12873145295_438b8197a7_n.jpg'),\n",
       " PosixPath('/root/.keras/datasets/flower_photos/tulips/8712266605_3787e346cd_n.jpg'),\n",
       " PosixPath('/root/.keras/datasets/flower_photos/tulips/10164073235_f29931d91e.jpg'),\n",
       " PosixPath('/root/.keras/datasets/flower_photos/tulips/137126311_debe64c6a8_n.jpg'),\n",
       " PosixPath('/root/.keras/datasets/flower_photos/tulips/17224410762_402455ed8f.jpg'),\n",
       " PosixPath('/root/.keras/datasets/flower_photos/tulips/16110795216_b3e44697b4_m.jpg'),\n",
       " PosixPath('/root/.keras/datasets/flower_photos/tulips/5665080897_0796f726c9_m.jpg'),\n",
       " PosixPath('/root/.keras/datasets/flower_photos/tulips/466409031_4c10294db5_m.jpg'),\n",
       " PosixPath('/root/.keras/datasets/flower_photos/tulips/13953090784_0c7d7a904e.jpg'),\n",
       " PosixPath('/root/.keras/datasets/flower_photos/tulips/478765271_6a8ca1cfa1_m.jpg'),\n",
       " PosixPath('/root/.keras/datasets/flower_photos/tulips/8454719295_4276c0e9c5_n.jpg'),\n",
       " PosixPath('/root/.keras/datasets/flower_photos/tulips/5691100579_4a2767360a.jpg'),\n",
       " PosixPath('/root/.keras/datasets/flower_photos/tulips/5674704952_9bd225ed9e_n.jpg'),\n",
       " PosixPath('/root/.keras/datasets/flower_photos/tulips/2436998042_4906ea07af.jpg'),\n",
       " PosixPath('/root/.keras/datasets/flower_photos/tulips/8521597402_4b6169ba05.jpg'),\n",
       " PosixPath('/root/.keras/datasets/flower_photos/tulips/4571353297_5634177744_n.jpg'),\n",
       " PosixPath('/root/.keras/datasets/flower_photos/tulips/155097272_70feb13184.jpg'),\n",
       " PosixPath('/root/.keras/datasets/flower_photos/tulips/7070694881_e9a331fa4e_n.jpg'),\n",
       " PosixPath('/root/.keras/datasets/flower_photos/tulips/13555215723_cf2c11626b_b.jpg'),\n",
       " PosixPath('/root/.keras/datasets/flower_photos/tulips/14064735842_a946fba1ef_n.jpg'),\n",
       " PosixPath('/root/.keras/datasets/flower_photos/tulips/4580206494_9386c81ed8_n.jpg'),\n",
       " PosixPath('/root/.keras/datasets/flower_photos/tulips/14110615113_bd7b3fcb84.jpg'),\n",
       " PosixPath('/root/.keras/datasets/flower_photos/tulips/13910028149_6c9d5485ef.jpg'),\n",
       " PosixPath('/root/.keras/datasets/flower_photos/tulips/8838983024_5c1a767878_n.jpg'),\n",
       " PosixPath('/root/.keras/datasets/flower_photos/tulips/16702188449_3dacce90b2_m.jpg'),\n",
       " PosixPath('/root/.keras/datasets/flower_photos/tulips/14110616533_e04775e7b1.jpg'),\n",
       " PosixPath('/root/.keras/datasets/flower_photos/tulips/2834890466_1cf220fba1.jpg'),\n",
       " PosixPath('/root/.keras/datasets/flower_photos/tulips/17078716890_68e0723389_n.jpg'),\n",
       " PosixPath('/root/.keras/datasets/flower_photos/tulips/10094731133_94a942463c.jpg'),\n",
       " PosixPath('/root/.keras/datasets/flower_photos/tulips/14674071872_2df55466d5_m.jpg'),\n",
       " PosixPath('/root/.keras/datasets/flower_photos/tulips/15647243236_2778501cf5_n.jpg'),\n",
       " PosixPath('/root/.keras/datasets/flower_photos/tulips/4263272885_1a49ea5209.jpg'),\n",
       " PosixPath('/root/.keras/datasets/flower_photos/tulips/4550091966_7f3e0f8802_n.jpg'),\n",
       " PosixPath('/root/.keras/datasets/flower_photos/tulips/13514131694_d91da4f4fc.jpg'),\n",
       " PosixPath('/root/.keras/datasets/flower_photos/tulips/470690620_9d3a5bb239.jpg'),\n",
       " PosixPath('/root/.keras/datasets/flower_photos/tulips/5810456385_b44358a0ae.jpg'),\n",
       " PosixPath('/root/.keras/datasets/flower_photos/tulips/13976206001_fd1c2cbd60.jpg'),\n",
       " PosixPath('/root/.keras/datasets/flower_photos/tulips/5674134129_2db5136cba.jpg'),\n",
       " PosixPath('/root/.keras/datasets/flower_photos/tulips/14073608876_49db8ac97d_n.jpg'),\n",
       " PosixPath('/root/.keras/datasets/flower_photos/tulips/13510057763_01b832d919.jpg'),\n",
       " PosixPath('/root/.keras/datasets/flower_photos/tulips/5757091018_cdfd79dfa6_m.jpg'),\n",
       " PosixPath('/root/.keras/datasets/flower_photos/tulips/17199496791_3caaf5e278_m.jpg'),\n",
       " PosixPath('/root/.keras/datasets/flower_photos/tulips/17908793211_ff0f1f81d3_n.jpg'),\n",
       " PosixPath('/root/.keras/datasets/flower_photos/tulips/4042180234_64cd2859c9_m.jpg'),\n",
       " PosixPath('/root/.keras/datasets/flower_photos/tulips/5637140035_e6c5514f54.jpg'),\n",
       " PosixPath('/root/.keras/datasets/flower_photos/tulips/14097676864_4ca8e8b20d_n.jpg'),\n",
       " PosixPath('/root/.keras/datasets/flower_photos/tulips/17719248689_cfd5d2f228_n.jpg'),\n",
       " PosixPath('/root/.keras/datasets/flower_photos/tulips/18378582936_ee7085c850.jpg'),\n",
       " PosixPath('/root/.keras/datasets/flower_photos/tulips/13531007054_c88deaf302_n.jpg'),\n",
       " PosixPath('/root/.keras/datasets/flower_photos/tulips/2087981909_fd468de5c4_n.jpg'),\n",
       " PosixPath('/root/.keras/datasets/flower_photos/tulips/5691672942_70a93d70fc.jpg'),\n",
       " PosixPath('/root/.keras/datasets/flower_photos/tulips/13530786873_0d34880300_n.jpg'),\n",
       " PosixPath('/root/.keras/datasets/flower_photos/tulips/16930121391_a4092ecf00_n.jpg'),\n",
       " PosixPath('/root/.keras/datasets/flower_photos/tulips/14270573963_f122c40438.jpg'),\n",
       " PosixPath('/root/.keras/datasets/flower_photos/tulips/15922772266_1167a06620.jpg'),\n",
       " PosixPath('/root/.keras/datasets/flower_photos/tulips/5633266048_4f4bfb2cf1_n.jpg'),\n",
       " PosixPath('/root/.keras/datasets/flower_photos/tulips/8706523526_a0f161b72b.jpg'),\n",
       " PosixPath('/root/.keras/datasets/flower_photos/tulips/8762189906_8223cef62f.jpg'),\n",
       " PosixPath('/root/.keras/datasets/flower_photos/tulips/3430229687_32645b5738.jpg'),\n",
       " PosixPath('/root/.keras/datasets/flower_photos/tulips/12949131454_4d3392f4dd_n.jpg'),\n",
       " PosixPath('/root/.keras/datasets/flower_photos/tulips/13979840624_28466cb3ec_n.jpg'),\n",
       " PosixPath('/root/.keras/datasets/flower_photos/tulips/6187740107_9813ccc41e.jpg'),\n",
       " PosixPath('/root/.keras/datasets/flower_photos/tulips/13562266594_69b807f90c.jpg'),\n",
       " PosixPath('/root/.keras/datasets/flower_photos/tulips/5697471591_200ff951fa_n.jpg'),\n",
       " PosixPath('/root/.keras/datasets/flower_photos/tulips/3626132563_d955973447_n.jpg'),\n",
       " PosixPath('/root/.keras/datasets/flower_photos/tulips/13903988248_22da33f341.jpg'),\n",
       " PosixPath('/root/.keras/datasets/flower_photos/tulips/8454707381_453b4862eb_m.jpg'),\n",
       " PosixPath('/root/.keras/datasets/flower_photos/tulips/434146736_310a42d9cb_m.jpg'),\n",
       " PosixPath('/root/.keras/datasets/flower_photos/tulips/16904202259_8f45d045c3_m.jpg'),\n",
       " PosixPath('/root/.keras/datasets/flower_photos/tulips/17408197905_829c4d7940_m.jpg'),\n",
       " PosixPath('/root/.keras/datasets/flower_photos/tulips/2333321040_3960b9d67e_n.jpg'),\n",
       " PosixPath('/root/.keras/datasets/flower_photos/tulips/4555842486_dd214a84d7_n.jpg'),\n",
       " PosixPath('/root/.keras/datasets/flower_photos/tulips/13997641965_80d5dab542_n.jpg'),\n",
       " PosixPath('/root/.keras/datasets/flower_photos/tulips/7166606598_5d2cd307c3.jpg'),\n",
       " PosixPath('/root/.keras/datasets/flower_photos/tulips/3516269489_cef36e87a6.jpg'),\n",
       " PosixPath('/root/.keras/datasets/flower_photos/tulips/7166640338_46b15d9ec8_n.jpg'),\n",
       " PosixPath('/root/.keras/datasets/flower_photos/tulips/8712243901_54d686319e_m.jpg'),\n",
       " PosixPath('/root/.keras/datasets/flower_photos/tulips/14254839301_ffb19c6445_n.jpg'),\n",
       " PosixPath('/root/.keras/datasets/flower_photos/tulips/16751015081_af2ef77c9a_n.jpg'),\n",
       " PosixPath('/root/.keras/datasets/flower_photos/tulips/164578909_51f245d3fa_n.jpg'),\n",
       " PosixPath('/root/.keras/datasets/flower_photos/tulips/7166539842_43b7e02883.jpg'),\n",
       " PosixPath('/root/.keras/datasets/flower_photos/tulips/3524204544_7233737b4f_m.jpg'),\n",
       " PosixPath('/root/.keras/datasets/flower_photos/tulips/5674132053_b40a7d32ca.jpg'),\n",
       " PosixPath('/root/.keras/datasets/flower_photos/tulips/3210019014_1bbd8bff20_n.jpg'),\n",
       " PosixPath('/root/.keras/datasets/flower_photos/tulips/17199499591_67b64b21ed_m.jpg'),\n",
       " PosixPath('/root/.keras/datasets/flower_photos/tulips/4588904196_3c5825c7f4.jpg'),\n",
       " PosixPath('/root/.keras/datasets/flower_photos/tulips/5631861819_f0eb39a357_m.jpg'),\n",
       " PosixPath('/root/.keras/datasets/flower_photos/tulips/4525067924_177ea3bfb4.jpg'),\n",
       " PosixPath('/root/.keras/datasets/flower_photos/tulips/13530690445_9f1f5cf43a_n.jpg'),\n",
       " PosixPath('/root/.keras/datasets/flower_photos/tulips/7247182064_f8d6759446_n.jpg'),\n",
       " PosixPath('/root/.keras/datasets/flower_photos/tulips/16680998737_6f6225fe36.jpg'),\n",
       " PosixPath('/root/.keras/datasets/flower_photos/tulips/3601085193_de1195d3d7_n.jpg'),\n",
       " PosixPath('/root/.keras/datasets/flower_photos/tulips/5674167473_ac696c8989_n.jpg'),\n",
       " PosixPath('/root/.keras/datasets/flower_photos/tulips/13531001134_72052100e1_m.jpg'),\n",
       " PosixPath('/root/.keras/datasets/flower_photos/tulips/4300258119_b03f2f956e.jpg'),\n",
       " PosixPath('/root/.keras/datasets/flower_photos/tulips/8710148289_6fc196a0f8_n.jpg'),\n",
       " PosixPath('/root/.keras/datasets/flower_photos/tulips/443600168_cb08d56511.jpg'),\n",
       " PosixPath('/root/.keras/datasets/flower_photos/tulips/3454461550_64d6e726bf_m.jpg'),\n",
       " PosixPath('/root/.keras/datasets/flower_photos/tulips/16765283686_0315ae00a8.jpg'),\n",
       " PosixPath('/root/.keras/datasets/flower_photos/tulips/133960364_d87f883c15_n.jpg'),\n",
       " PosixPath('/root/.keras/datasets/flower_photos/tulips/2785458179_9130812eef_m.jpg'),\n",
       " PosixPath('/root/.keras/datasets/flower_photos/tulips/13979098645_50b9eebc02_n.jpg'),\n",
       " PosixPath('/root/.keras/datasets/flower_photos/tulips/16283125269_4cfae953f1.jpg'),\n",
       " PosixPath('/root/.keras/datasets/flower_photos/tulips/15275504998_ca9eb82998.jpg'),\n",
       " PosixPath('/root/.keras/datasets/flower_photos/tulips/5674125303_953b0ecf38.jpg'),\n",
       " PosixPath('/root/.keras/datasets/flower_photos/tulips/12584810723_c97d00fcfd.jpg'),\n",
       " PosixPath('/root/.keras/datasets/flower_photos/tulips/2427626706_ffdf697f84_n.jpg'),\n",
       " PosixPath('/root/.keras/datasets/flower_photos/tulips/14116826873_d4bab623bf_n.jpg'),\n",
       " PosixPath('/root/.keras/datasets/flower_photos/tulips/518256494_368a72db37.jpg'),\n",
       " PosixPath('/root/.keras/datasets/flower_photos/tulips/4681062529_36186617d9.jpg'),\n",
       " PosixPath('/root/.keras/datasets/flower_photos/tulips/113960470_38fab8f2fb_m.jpg'),\n",
       " PosixPath('/root/.keras/datasets/flower_photos/tulips/5388013398_09a8a0f166_m.jpg'),\n",
       " PosixPath('/root/.keras/datasets/flower_photos/tulips/13910604778_e5f4588420.jpg'),\n",
       " PosixPath('/root/.keras/datasets/flower_photos/tulips/6931715360_34edc5a372_m.jpg'),\n",
       " PosixPath('/root/.keras/datasets/flower_photos/tulips/14671196461_b725727229_m.jpg'),\n",
       " PosixPath('/root/.keras/datasets/flower_photos/tulips/15029962436_3e50c1f30f_n.jpg'),\n",
       " PosixPath('/root/.keras/datasets/flower_photos/tulips/16169741783_deeab1a679_m.jpg'),\n",
       " PosixPath('/root/.keras/datasets/flower_photos/tulips/110147301_ad921e2828.jpg'),\n",
       " PosixPath('/root/.keras/datasets/flower_photos/tulips/7448453762_aea8739f1b.jpg'),\n",
       " PosixPath('/root/.keras/datasets/flower_photos/tulips/12934201824_1c8b5171fb_m.jpg'),\n",
       " PosixPath('/root/.keras/datasets/flower_photos/tulips/8668973377_c69527db42_m.jpg'),\n",
       " PosixPath('/root/.keras/datasets/flower_photos/tulips/6989946990_62c639ff16_n.jpg'),\n",
       " PosixPath('/root/.keras/datasets/flower_photos/tulips/8619064872_dea79a9eb9.jpg'),\n",
       " PosixPath('/root/.keras/datasets/flower_photos/tulips/8511683706_4173683d45_m.jpg'),\n",
       " PosixPath('/root/.keras/datasets/flower_photos/tulips/14097111174_87a2e7e0c7_n.jpg'),\n",
       " PosixPath('/root/.keras/datasets/flower_photos/tulips/17720403638_94cfcd8d5c_n.jpg'),\n",
       " PosixPath('/root/.keras/datasets/flower_photos/tulips/2489638840_72ff3ee527_n.jpg'),\n",
       " PosixPath('/root/.keras/datasets/flower_photos/tulips/16506668270_b823935dc3.jpg'),\n",
       " PosixPath('/root/.keras/datasets/flower_photos/tulips/2220085701_896054d263_n.jpg'),\n",
       " PosixPath('/root/.keras/datasets/flower_photos/tulips/5738195260_b3fc107aa7_n.jpg'),\n",
       " PosixPath('/root/.keras/datasets/flower_photos/tulips/19413898445_69344f9956_n.jpg'),\n",
       " PosixPath('/root/.keras/datasets/flower_photos/tulips/14088017343_dd158d2eb5.jpg'),\n",
       " PosixPath('/root/.keras/datasets/flower_photos/tulips/4312181724_16dab26afb_n.jpg'),\n",
       " PosixPath('/root/.keras/datasets/flower_photos/tulips/15632065904_0d9caf174b.jpg'),\n",
       " PosixPath('/root/.keras/datasets/flower_photos/tulips/8708856019_f3be2353a4_n.jpg'),\n",
       " PosixPath('/root/.keras/datasets/flower_photos/tulips/4578030672_e6aefd45af.jpg'),\n",
       " PosixPath('/root/.keras/datasets/flower_photos/tulips/16677542612_a78a8ca8b3_m.jpg'),\n",
       " PosixPath('/root/.keras/datasets/flower_photos/tulips/14084211971_0f921f11fe_n.jpg'),\n",
       " PosixPath('/root/.keras/datasets/flower_photos/tulips/4209052442_7e754f617c_n.jpg'),\n",
       " PosixPath('/root/.keras/datasets/flower_photos/tulips/15976769174_1d50f46ca1_m.jpg'),\n",
       " PosixPath('/root/.keras/datasets/flower_photos/tulips/6931708704_fccb06fea8.jpg'),\n",
       " PosixPath('/root/.keras/datasets/flower_photos/tulips/3455026124_d66cafb9fc.jpg'),\n",
       " PosixPath('/root/.keras/datasets/flower_photos/tulips/10686568196_b1915544a8.jpg'),\n",
       " PosixPath('/root/.keras/datasets/flower_photos/tulips/142235237_da662d925c.jpg'),\n",
       " PosixPath('/root/.keras/datasets/flower_photos/tulips/3459922572_bc8516b5fe_m.jpg'),\n",
       " PosixPath('/root/.keras/datasets/flower_photos/tulips/14090534565_5857ce4b7c_n.jpg'),\n",
       " PosixPath('/root/.keras/datasets/flower_photos/tulips/5661431592_cea1108261_n.jpg'),\n",
       " PosixPath('/root/.keras/datasets/flower_photos/tulips/13561908485_7e4f8d508b.jpg'),\n",
       " PosixPath('/root/.keras/datasets/flower_photos/tulips/17165583356_38cb1f231d_n.jpg'),\n",
       " PosixPath('/root/.keras/datasets/flower_photos/tulips/14266093711_66d18a1e44_n.jpg'),\n",
       " PosixPath('/root/.keras/datasets/flower_photos/tulips/11746080_963537acdc.jpg'),\n",
       " PosixPath('/root/.keras/datasets/flower_photos/tulips/11441893003_ab83672800.jpg'),\n",
       " PosixPath('/root/.keras/datasets/flower_photos/tulips/13910471347_30c8bf4de1_n.jpg'),\n",
       " PosixPath('/root/.keras/datasets/flower_photos/tulips/3991423020_9aaf2b5974_n.jpg'),\n",
       " PosixPath('/root/.keras/datasets/flower_photos/tulips/5811022098_2523ca4e82.jpg'),\n",
       " PosixPath('/root/.keras/datasets/flower_photos/tulips/8712269349_2b933da2b8_n.jpg'),\n",
       " PosixPath('/root/.keras/datasets/flower_photos/tulips/4520577328_a94c11e806_n.jpg'),\n",
       " PosixPath('/root/.keras/datasets/flower_photos/tulips/14067761295_7cfe6a42e9.jpg'),\n",
       " PosixPath('/root/.keras/datasets/flower_photos/tulips/3150964108_24dbec4b23_m.jpg'),\n",
       " PosixPath('/root/.keras/datasets/flower_photos/tulips/6982913043_3b873c6a25.jpg'),\n",
       " PosixPath('/root/.keras/datasets/flower_photos/tulips/112428665_d8f3632f36_n.jpg'),\n",
       " PosixPath('/root/.keras/datasets/flower_photos/tulips/2470177960_7bd67db186_n.jpg'),\n",
       " PosixPath('/root/.keras/datasets/flower_photos/tulips/495094547_fd2d999c44.jpg'),\n",
       " PosixPath('/root/.keras/datasets/flower_photos/tulips/5698944116_fd35fe6bea.jpg'),\n",
       " PosixPath('/root/.keras/datasets/flower_photos/tulips/3558517884_0c7ca8b862_m.jpg'),\n",
       " PosixPath('/root/.keras/datasets/flower_photos/tulips/4520582070_d14a14f038.jpg'),\n",
       " PosixPath('/root/.keras/datasets/flower_photos/tulips/13561966423_e5c641fe11.jpg'),\n",
       " PosixPath('/root/.keras/datasets/flower_photos/tulips/16930105456_8b826dc4a8_n.jpg'),\n",
       " PosixPath('/root/.keras/datasets/flower_photos/tulips/5653364300_bc557236c7_n.jpg'),\n",
       " PosixPath('/root/.keras/datasets/flower_photos/tulips/3213012716_b4c0f7db88.jpg'),\n",
       " PosixPath('/root/.keras/datasets/flower_photos/tulips/485415743_eeb5d7c1a5.jpg'),\n",
       " PosixPath('/root/.keras/datasets/flower_photos/tulips/5811004432_266f0f0c6f.jpg'),\n",
       " PosixPath('/root/.keras/datasets/flower_photos/tulips/8572847041_d0cc07861f_n.jpg'),\n",
       " PosixPath('/root/.keras/datasets/flower_photos/tulips/7205698252_b972087cc2.jpg'),\n",
       " PosixPath('/root/.keras/datasets/flower_photos/tulips/8723767533_9145dec4bd_n.jpg'),\n",
       " PosixPath('/root/.keras/datasets/flower_photos/tulips/17094167287_865840060d_n.jpg'),\n",
       " PosixPath('/root/.keras/datasets/flower_photos/tulips/4546316433_202cc68c55.jpg'),\n",
       " PosixPath('/root/.keras/datasets/flower_photos/tulips/13539404903_cd113e3e9b.jpg'),\n",
       " PosixPath('/root/.keras/datasets/flower_photos/tulips/4546299243_23cd58eb43.jpg'),\n",
       " PosixPath('/root/.keras/datasets/flower_photos/tulips/14262354955_cc2ab3b112_m.jpg'),\n",
       " PosixPath('/root/.keras/datasets/flower_photos/tulips/8713390684_041148dd3e_n.jpg'),\n",
       " PosixPath('/root/.keras/datasets/flower_photos/tulips/100930342_92e8746431_n.jpg'),\n",
       " PosixPath('/root/.keras/datasets/flower_photos/tulips/13513846963_c3d5e9fb1d_n.jpg'),\n",
       " PosixPath('/root/.keras/datasets/flower_photos/tulips/16680930777_7e7f292fc5_n.jpg'),\n",
       " PosixPath('/root/.keras/datasets/flower_photos/tulips/8712230357_1298b8513b.jpg'),\n",
       " PosixPath('/root/.keras/datasets/flower_photos/tulips/12764617214_12211c6a0c_m.jpg'),\n",
       " PosixPath('/root/.keras/datasets/flower_photos/tulips/4497973347_57480ffee9_m.jpg'),\n",
       " PosixPath('/root/.keras/datasets/flower_photos/tulips/122450705_9885fff3c4_n.jpg'),\n",
       " PosixPath('/root/.keras/datasets/flower_photos/tulips/4561670472_0451888e32_n.jpg'),\n",
       " PosixPath('/root/.keras/datasets/flower_photos/tulips/8628453641_6f87755815_m.jpg'),\n",
       " PosixPath('/root/.keras/datasets/flower_photos/tulips/13530687085_9b515735ef_m.jpg'),\n",
       " PosixPath('/root/.keras/datasets/flower_photos/tulips/13176521023_4d7cc74856_m.jpg'),\n",
       " PosixPath('/root/.keras/datasets/flower_photos/tulips/3253320570_b617f7fd4b.jpg'),\n",
       " PosixPath('/root/.keras/datasets/flower_photos/tulips/2256230386_08b54ca760.jpg'),\n",
       " PosixPath('/root/.keras/datasets/flower_photos/tulips/3540595981_73f14d1227_n.jpg'),\n",
       " PosixPath('/root/.keras/datasets/flower_photos/tulips/5674170543_73e3f403fb.jpg'),\n",
       " PosixPath('/root/.keras/datasets/flower_photos/tulips/8713388322_e5ae26263b_n.jpg'),\n",
       " PosixPath('/root/.keras/datasets/flower_photos/tulips/14171673854_1208c19be3_m.jpg'),\n",
       " PosixPath('/root/.keras/datasets/flower_photos/tulips/6948277038_89d7ff42e2_m.jpg'),\n",
       " PosixPath('/root/.keras/datasets/flower_photos/tulips/2374855021_21959b40c0_n.jpg'),\n",
       " PosixPath('/root/.keras/datasets/flower_photos/tulips/17189526216_fa24dd541a_n.jpg'),\n",
       " PosixPath('/root/.keras/datasets/flower_photos/tulips/8554190977_37ac747799_m.jpg'),\n",
       " PosixPath('/root/.keras/datasets/flower_photos/tulips/8713387500_6a9138b41b_n.jpg'),\n",
       " PosixPath('/root/.keras/datasets/flower_photos/tulips/13954659583_03981dea99_n.jpg'),\n",
       " PosixPath('/root/.keras/datasets/flower_photos/tulips/7144016605_e159b6c06b_m.jpg'),\n",
       " PosixPath('/root/.keras/datasets/flower_photos/tulips/480228053_513791d474.jpg'),\n",
       " PosixPath('/root/.keras/datasets/flower_photos/tulips/8712267391_c756f18ee7_n.jpg'),\n",
       " PosixPath('/root/.keras/datasets/flower_photos/tulips/9048307967_40a164a459_m.jpg'),\n",
       " PosixPath('/root/.keras/datasets/flower_photos/tulips/7064778965_ddcc6ee9f2.jpg'),\n",
       " PosixPath('/root/.keras/datasets/flower_photos/tulips/3498663243_42b39b4185_m.jpg'),\n",
       " PosixPath('/root/.keras/datasets/flower_photos/tulips/15147464747_594599c855_m.jpg'),\n",
       " PosixPath('/root/.keras/datasets/flower_photos/tulips/8484905084_6a18c62b13_m.jpg'),\n",
       " PosixPath('/root/.keras/datasets/flower_photos/tulips/8695367666_0809529eaf_n.jpg'),\n",
       " PosixPath('/root/.keras/datasets/flower_photos/tulips/6931674908_8e93bd4554.jpg'),\n",
       " PosixPath('/root/.keras/datasets/flower_photos/tulips/8673416556_639f5c88f1_n.jpg'),\n",
       " PosixPath('/root/.keras/datasets/flower_photos/tulips/15082212714_ff87e8fcb1_m.jpg'),\n",
       " PosixPath('/root/.keras/datasets/flower_photos/tulips/112650879_82adc2cc04_n.jpg'),\n",
       " PosixPath('/root/.keras/datasets/flower_photos/tulips/1353748522_b9c630b162.jpg'),\n",
       " PosixPath('/root/.keras/datasets/flower_photos/tulips/2254152047_d3bf8903cd_n.jpg'),\n",
       " PosixPath('/root/.keras/datasets/flower_photos/tulips/779359602_30abcbf5bb_n.jpg'),\n",
       " PosixPath('/root/.keras/datasets/flower_photos/tulips/14054827092_f359f5fcbd_m.jpg'),\n",
       " PosixPath('/root/.keras/datasets/flower_photos/tulips/13956300996_07e64a3dbd_n.jpg'),\n",
       " PosixPath('/root/.keras/datasets/flower_photos/tulips/5543457754_89c44c88de_n.jpg'),\n",
       " PosixPath('/root/.keras/datasets/flower_photos/tulips/8892851067_79242a7362_n.jpg'),\n",
       " PosixPath('/root/.keras/datasets/flower_photos/tulips/4579079143_f65b39dd9f.jpg'),\n",
       " PosixPath('/root/.keras/datasets/flower_photos/tulips/8713398906_28e59a225a_n.jpg'),\n",
       " PosixPath('/root/.keras/datasets/flower_photos/tulips/5674707464_dc18de05b1.jpg'),\n",
       " PosixPath('/root/.keras/datasets/flower_photos/tulips/16938892686_3613ea68e8_n.jpg'),\n",
       " PosixPath('/root/.keras/datasets/flower_photos/tulips/17189456156_6fc1067831.jpg'),\n",
       " PosixPath('/root/.keras/datasets/flower_photos/tulips/54895006_55b49052dc.jpg'),\n",
       " PosixPath('/root/.keras/datasets/flower_photos/tulips/15147473067_7c5498eb0e_m.jpg'),\n",
       " PosixPath('/root/.keras/datasets/flower_photos/tulips/14127532150_112823a8f6.jpg'),\n",
       " PosixPath('/root/.keras/datasets/flower_photos/tulips/8713357842_9964a93473_n.jpg'),\n",
       " PosixPath('/root/.keras/datasets/flower_photos/tulips/4624404489_11e10fcd33_n.jpg'),\n",
       " PosixPath('/root/.keras/datasets/flower_photos/tulips/14026857634_500d7b41d6_m.jpg'),\n",
       " PosixPath('/root/.keras/datasets/flower_photos/tulips/7042692841_f323799c0d.jpg'),\n",
       " PosixPath('/root/.keras/datasets/flower_photos/tulips/17907238905_1ae121f8d9_m.jpg'),\n",
       " PosixPath('/root/.keras/datasets/flower_photos/tulips/13976522214_ccec508fe7.jpg'),\n",
       " PosixPath('/root/.keras/datasets/flower_photos/tulips/9947385346_3a8cacea02_n.jpg'),\n",
       " PosixPath('/root/.keras/datasets/flower_photos/tulips/8520482921_21dd204ebd_n.jpg'),\n",
       " PosixPath('/root/.keras/datasets/flower_photos/tulips/3990989735_59e2751151_n.jpg'),\n",
       " PosixPath('/root/.keras/datasets/flower_photos/tulips/3510294699_bc4c72cb7d_n.jpg'),\n",
       " PosixPath('/root/.keras/datasets/flower_photos/tulips/10128546863_8de70c610d.jpg'),\n",
       " PosixPath('/root/.keras/datasets/flower_photos/tulips/7447655334_e8f805ab95_m.jpg'),\n",
       " PosixPath('/root/.keras/datasets/flower_photos/tulips/18406629611_4d1edcf23b_n.jpg'),\n",
       " PosixPath('/root/.keras/datasets/flower_photos/tulips/14068295074_cd8b85bffa.jpg'),\n",
       " PosixPath('/root/.keras/datasets/flower_photos/tulips/8677713853_1312f65e71.jpg'),\n",
       " PosixPath('/root/.keras/datasets/flower_photos/tulips/5632006303_15acd2cf1e_n.jpg'),\n",
       " PosixPath('/root/.keras/datasets/flower_photos/tulips/9947374414_fdf1d0861c_n.jpg'),\n",
       " PosixPath('/root/.keras/datasets/flower_photos/tulips/8697784345_e75913d220.jpg'),\n",
       " PosixPath('/root/.keras/datasets/flower_photos/tulips/11746452_5bc1749a36.jpg'),\n",
       " PosixPath('/root/.keras/datasets/flower_photos/tulips/13509973805_bda5fa8982.jpg'),\n",
       " PosixPath('/root/.keras/datasets/flower_photos/tulips/14025589299_eac64c51af_m.jpg'),\n",
       " PosixPath('/root/.keras/datasets/flower_photos/tulips/142218310_d06005030a_n.jpg'),\n",
       " PosixPath('/root/.keras/datasets/flower_photos/tulips/8712263493_3db76c5f82.jpg'),\n",
       " PosixPath('/root/.keras/datasets/flower_photos/tulips/8673416166_620fc18e2f_n.jpg'),\n",
       " PosixPath('/root/.keras/datasets/flower_photos/tulips/3529889389_ab4cb6c43b.jpg'),\n",
       " PosixPath('/root/.keras/datasets/flower_photos/tulips/430785322_7ddef64c68_m.jpg'),\n",
       " PosixPath('/root/.keras/datasets/flower_photos/tulips/16309287412_5cc4d58bd1_n.jpg'),\n",
       " PosixPath('/root/.keras/datasets/flower_photos/tulips/13542672763_20c3cb9272.jpg'),\n",
       " PosixPath('/root/.keras/datasets/flower_photos/tulips/8713398614_88202e452e_n.jpg'),\n",
       " PosixPath('/root/.keras/datasets/flower_photos/tulips/13530796853_e5993f57d6_n.jpg'),\n",
       " PosixPath('/root/.keras/datasets/flower_photos/tulips/5700466891_2bcb17fa68_n.jpg'),\n",
       " PosixPath('/root/.keras/datasets/flower_photos/tulips/4679869990_7c5f28f2fe_n.jpg'),\n",
       " PosixPath('/root/.keras/datasets/flower_photos/tulips/15275144259_f9a18ec9cb.jpg'),\n",
       " PosixPath('/root/.keras/datasets/flower_photos/tulips/3422915985_9bf7264d36.jpg'),\n",
       " PosixPath('/root/.keras/datasets/flower_photos/tulips/12916135413_dafcf3089e_n.jpg'),\n",
       " PosixPath('/root/.keras/datasets/flower_photos/tulips/132538272_63658146d9_n.jpg'),\n",
       " PosixPath('/root/.keras/datasets/flower_photos/tulips/15275478257_fbd5850708_n.jpg'),\n",
       " PosixPath('/root/.keras/datasets/flower_photos/tulips/3404038663_f62cf8eba3_n.jpg'),\n",
       " PosixPath('/root/.keras/datasets/flower_photos/tulips/251811158_75fa3034ff.jpg'),\n",
       " PosixPath('/root/.keras/datasets/flower_photos/tulips/13911047024_8966d70560_n.jpg'),\n",
       " PosixPath('/root/.keras/datasets/flower_photos/tulips/133692329_c1150ed811_n.jpg'),\n",
       " PosixPath('/root/.keras/datasets/flower_photos/tulips/12557176134_ecbf15885b.jpg'),\n",
       " PosixPath('/root/.keras/datasets/flower_photos/tulips/13197345653_0f685b3c97_n.jpg'),\n",
       " PosixPath('/root/.keras/datasets/flower_photos/tulips/6998661030_46cbb7892a.jpg'),\n",
       " PosixPath('/root/.keras/datasets/flower_photos/tulips/14074147406_7ab87aec79_n.jpg'),\n",
       " PosixPath('/root/.keras/datasets/flower_photos/tulips/14093907931_dd8f642574.jpg'),\n",
       " PosixPath('/root/.keras/datasets/flower_photos/tulips/5524946579_307dc74476.jpg'),\n",
       " PosixPath('/root/.keras/datasets/flower_photos/tulips/16645809126_613b1e3ebe_m.jpg'),\n",
       " PosixPath('/root/.keras/datasets/flower_photos/tulips/3446285408_4be9c0fded_m.jpg'),\n",
       " PosixPath('/root/.keras/datasets/flower_photos/tulips/8681825637_837a63513a_n.jpg'),\n",
       " PosixPath('/root/.keras/datasets/flower_photos/tulips/8712282563_3819afb7bc.jpg'),\n",
       " PosixPath('/root/.keras/datasets/flower_photos/tulips/14487705209_ea723109e1_m.jpg'),\n",
       " PosixPath('/root/.keras/datasets/flower_photos/tulips/13561986193_cf645b2b9a.jpg'),\n",
       " PosixPath('/root/.keras/datasets/flower_photos/tulips/4591323356_030d8b6967_m.jpg'),\n",
       " PosixPath('/root/.keras/datasets/flower_photos/tulips/8669794378_97dda6036f_n.jpg'),\n",
       " PosixPath('/root/.keras/datasets/flower_photos/tulips/14094146241_0b9fa7b3e0.jpg'),\n",
       " PosixPath('/root/.keras/datasets/flower_photos/tulips/11746548_26b3256922_n.jpg'),\n",
       " PosixPath('/root/.keras/datasets/flower_photos/tulips/14087860553_bf4f8ec56d.jpg'),\n",
       " PosixPath('/root/.keras/datasets/flower_photos/tulips/7046815693_f159e96acd_n.jpg'),\n",
       " PosixPath('/root/.keras/datasets/flower_photos/tulips/6936380780_19c26c918a.jpg'),\n",
       " PosixPath('/root/.keras/datasets/flower_photos/tulips/14093884601_c87b5cd663_n.jpg'),\n",
       " PosixPath('/root/.keras/datasets/flower_photos/tulips/3011223301_09b4e3edb7.jpg'),\n",
       " PosixPath('/root/.keras/datasets/flower_photos/tulips/5674127693_1ddbd81097.jpg'),\n",
       " PosixPath('/root/.keras/datasets/flower_photos/tulips/2426849837_baefd9a518_n.jpg'),\n",
       " PosixPath('/root/.keras/datasets/flower_photos/tulips/467702445_b8676f60fb_n.jpg'),\n",
       " PosixPath('/root/.keras/datasets/flower_photos/tulips/2294116183_a30d2aa2c1_m.jpg'),\n",
       " PosixPath('/root/.keras/datasets/flower_photos/tulips/130685347_afbffe3afa_n.jpg'),\n",
       " PosixPath('/root/.keras/datasets/flower_photos/tulips/10995953955_089572caf0.jpg'),\n",
       " PosixPath('/root/.keras/datasets/flower_photos/tulips/16594995743_ce72c61201_n.jpg'),\n",
       " PosixPath('/root/.keras/datasets/flower_photos/tulips/38287568_627de6ca20.jpg'),\n",
       " PosixPath('/root/.keras/datasets/flower_photos/tulips/506350421_2ba59e568e_m.jpg'),\n",
       " PosixPath('/root/.keras/datasets/flower_photos/tulips/16471277547_a0a5509377_n.jpg'),\n",
       " PosixPath('/root/.keras/datasets/flower_photos/tulips/2280950463_86510c2789_n.jpg'),\n",
       " PosixPath('/root/.keras/datasets/flower_photos/tulips/7166554924_432aaae4b2_n.jpg'),\n",
       " PosixPath('/root/.keras/datasets/flower_photos/tulips/2425067141_b27043a800_m.jpg'),\n",
       " PosixPath('/root/.keras/datasets/flower_photos/tulips/9831362123_5aac525a99_n.jpg'),\n",
       " PosixPath('/root/.keras/datasets/flower_photos/tulips/14078067903_92f5eb27ff.jpg'),\n",
       " PosixPath('/root/.keras/datasets/flower_photos/tulips/2243427551_809b603992_z.jpg'),\n",
       " PosixPath('/root/.keras/datasets/flower_photos/tulips/5891485349_cce7b99549.jpg'),\n",
       " PosixPath('/root/.keras/datasets/flower_photos/tulips/14014595475_5892fcda51_n.jpg'),\n",
       " PosixPath('/root/.keras/datasets/flower_photos/tulips/130684927_a05164ba13_m.jpg'),\n",
       " PosixPath('/root/.keras/datasets/flower_photos/tulips/8838914676_8ef4db7f50_n.jpg'),\n",
       " PosixPath('/root/.keras/datasets/flower_photos/tulips/175686816_067a8cb4c5.jpg'),\n",
       " PosixPath('/root/.keras/datasets/flower_photos/tulips/112951086_150a59d499_n.jpg'),\n",
       " PosixPath('/root/.keras/datasets/flower_photos/tulips/3485767306_6db7bdf536.jpg'),\n",
       " PosixPath('/root/.keras/datasets/flower_photos/tulips/212720516_df4965ebda_n.jpg'),\n",
       " PosixPath('/root/.keras/datasets/flower_photos/tulips/8712270243_8512cf4fbd.jpg'),\n",
       " PosixPath('/root/.keras/datasets/flower_photos/tulips/15149373026_93aacc65c5.jpg'),\n",
       " PosixPath('/root/.keras/datasets/flower_photos/tulips/133858239_3eaa8a91fd_n.jpg'),\n",
       " PosixPath('/root/.keras/datasets/flower_photos/tulips/4599815420_8ee42c2382.jpg'),\n",
       " PosixPath('/root/.keras/datasets/flower_photos/tulips/4550805310_5f81c9ba08_n.jpg'),\n",
       " PosixPath('/root/.keras/datasets/flower_photos/tulips/450607536_4fd9f5d17c_m.jpg'),\n",
       " PosixPath('/root/.keras/datasets/flower_photos/tulips/6325571510_7544b27e57_n.jpg'),\n",
       " PosixPath('/root/.keras/datasets/flower_photos/tulips/15052586652_56a82de133_m.jpg'),\n",
       " PosixPath('/root/.keras/datasets/flower_photos/tulips/17469578564_35a8360f58.jpg'),\n",
       " PosixPath('/root/.keras/datasets/flower_photos/tulips/15881325303_f00807a051_n.jpg'),\n",
       " PosixPath('/root/.keras/datasets/flower_photos/tulips/440714501_9f8268e1b0.jpg'),\n",
       " PosixPath('/root/.keras/datasets/flower_photos/tulips/2336919121_851ebc4754.jpg'),\n",
       " PosixPath('/root/.keras/datasets/flower_photos/tulips/3282751630_45c2665034_m.jpg'),\n",
       " PosixPath('/root/.keras/datasets/flower_photos/tulips/5813495998_64be1b8ab6_n.jpg'),\n",
       " PosixPath('/root/.keras/datasets/flower_photos/tulips/4558912791_084e440365_m.jpg'),\n",
       " PosixPath('/root/.keras/datasets/flower_photos/tulips/2238626027_058c404b94.jpg'),\n",
       " PosixPath('/root/.keras/datasets/flower_photos/tulips/13857267684_d2a4b2630f_n.jpg'),\n",
       " PosixPath('/root/.keras/datasets/flower_photos/tulips/13514136074_ab1b827e4f.jpg'),\n",
       " PosixPath('/root/.keras/datasets/flower_photos/tulips/444963906_e41492b692.jpg'),\n",
       " PosixPath('/root/.keras/datasets/flower_photos/tulips/5716293002_a8be6a6dd3_n.jpg'),\n",
       " PosixPath('/root/.keras/datasets/flower_photos/tulips/8686332852_c6dcb2e86b.jpg'),\n",
       " PosixPath('/root/.keras/datasets/flower_photos/tulips/6934951920_d43ff8b78d.jpg'),\n",
       " PosixPath('/root/.keras/datasets/flower_photos/tulips/16717320956_d4b00807f2.jpg'),\n",
       " PosixPath('/root/.keras/datasets/flower_photos/tulips/3502632842_791dd4be18_n.jpg'),\n",
       " PosixPath('/root/.keras/datasets/flower_photos/tulips/134143359_71fa8dd9a4.jpg'),\n",
       " PosixPath('/root/.keras/datasets/flower_photos/tulips/8688502760_1c8d6de921_m.jpg'),\n",
       " PosixPath('/root/.keras/datasets/flower_photos/tulips/8908062479_449200a1b4.jpg'),\n",
       " PosixPath('/root/.keras/datasets/flower_photos/tulips/16732302779_8aa56f255d_n.jpg'),\n",
       " PosixPath('/root/.keras/datasets/flower_photos/tulips/303858799_942b9c09e7_m.jpg'),\n",
       " PosixPath('/root/.keras/datasets/flower_photos/tulips/2421740440_f82ced8582.jpg'),\n",
       " PosixPath('/root/.keras/datasets/flower_photos/tulips/471298577_cc7558bcf1.jpg'),\n",
       " PosixPath('/root/.keras/datasets/flower_photos/tulips/11746367_d23a35b085_n.jpg'),\n",
       " PosixPath('/root/.keras/datasets/flower_photos/tulips/14057246122_8598b665bd.jpg'),\n",
       " PosixPath('/root/.keras/datasets/flower_photos/tulips/3186520634_30e1c67aa5_n.jpg'),\n",
       " PosixPath('/root/.keras/datasets/flower_photos/tulips/2344751399_71620039f2_n.jpg'),\n",
       " PosixPath('/root/.keras/datasets/flower_photos/tulips/18270448366_d5676dec64_z.jpg'),\n",
       " PosixPath('/root/.keras/datasets/flower_photos/tulips/14087892193_653a3ac7ca_n.jpg'),\n",
       " PosixPath('/root/.keras/datasets/flower_photos/tulips/7166646966_41d83cd703.jpg'),\n",
       " PosixPath('/root/.keras/datasets/flower_photos/tulips/8904780994_8867d64155_n.jpg'),\n",
       " PosixPath('/root/.keras/datasets/flower_photos/tulips/4582198748_20fa7caaa1.jpg'),\n",
       " PosixPath('/root/.keras/datasets/flower_photos/tulips/391477275_7c2f50a1a7_m.jpg'),\n",
       " PosixPath('/root/.keras/datasets/flower_photos/tulips/8713396140_5af8136136.jpg'),\n",
       " PosixPath('/root/.keras/datasets/flower_photos/tulips/15275190769_0ed7bbf490.jpg'),\n",
       " PosixPath('/root/.keras/datasets/flower_photos/tulips/2402342888_dd65677013.jpg'),\n",
       " PosixPath('/root/.keras/datasets/flower_photos/tulips/8713407768_f880df361f.jpg'),\n",
       " PosixPath('/root/.keras/datasets/flower_photos/tulips/7094271655_79a6f972c1_n.jpg'),\n",
       " PosixPath('/root/.keras/datasets/flower_photos/tulips/14097366955_84ef6369f2.jpg'),\n",
       " PosixPath('/root/.keras/datasets/flower_photos/tulips/5700394524_dc6f8fa9cd_n.jpg'),\n",
       " PosixPath('/root/.keras/datasets/flower_photos/tulips/8712260079_c0ff42e0e2_n.jpg'),\n",
       " PosixPath('/root/.keras/datasets/flower_photos/tulips/6799076717_575944af91_m.jpg'),\n",
       " PosixPath('/root/.keras/datasets/flower_photos/tulips/5628970369_54eb9ed31c_n.jpg'),\n",
       " PosixPath('/root/.keras/datasets/flower_photos/tulips/13974542496_e4b5d1c913_n.jpg'),\n",
       " PosixPath('/root/.keras/datasets/flower_photos/tulips/17781940352_a45e4289a5.jpg'),\n",
       " PosixPath('/root/.keras/datasets/flower_photos/tulips/3476945045_97ff41e8ec_n.jpg'),\n",
       " PosixPath('/root/.keras/datasets/flower_photos/tulips/130685245_dcdd23836f_m.jpg'),\n",
       " PosixPath('/root/.keras/datasets/flower_photos/tulips/17282288501_e8738c9cfb_n.jpg'),\n",
       " PosixPath('/root/.keras/datasets/flower_photos/tulips/3909355648_42cb3a5e09_n.jpg'),\n",
       " PosixPath('/root/.keras/datasets/flower_photos/tulips/13513616525_2ee0f049e1.jpg'),\n",
       " PosixPath('/root/.keras/datasets/flower_photos/tulips/8762193202_0fbf2f6a81.jpg'),\n",
       " PosixPath('/root/.keras/datasets/flower_photos/tulips/15049902081_dd85361f8c_m.jpg'),\n",
       " PosixPath('/root/.keras/datasets/flower_photos/tulips/16680927427_07ca6e4552_n.jpg'),\n",
       " PosixPath('/root/.keras/datasets/flower_photos/tulips/8713394070_b24561b0a9.jpg'),\n",
       " PosixPath('/root/.keras/datasets/flower_photos/tulips/8712244311_da8e90bf8e_n.jpg'),\n",
       " PosixPath('/root/.keras/datasets/flower_photos/tulips/7266196114_c2a736a15a_m.jpg'),\n",
       " PosixPath('/root/.keras/datasets/flower_photos/tulips/5718781677_d5e9267115_n.jpg'),\n",
       " PosixPath('/root/.keras/datasets/flower_photos/tulips/12163418275_bd6a1edd61.jpg'),\n",
       " PosixPath('/root/.keras/datasets/flower_photos/tulips/503770507_f397245a6a.jpg'),\n",
       " PosixPath('/root/.keras/datasets/flower_photos/tulips/8520488975_a50d377f91.jpg'),\n",
       " PosixPath('/root/.keras/datasets/flower_photos/tulips/14054827391_139fb54432.jpg'),\n",
       " PosixPath('/root/.keras/datasets/flower_photos/tulips/8614237582_74417799f4_m.jpg'),\n",
       " PosixPath('/root/.keras/datasets/flower_photos/tulips/3421027755_cdb8fef8e8_n.jpg'),\n",
       " PosixPath('/root/.keras/datasets/flower_photos/tulips/16986144192_55e0e6c152.jpg'),\n",
       " PosixPath('/root/.keras/datasets/flower_photos/tulips/2412250315_a04171da51_n.jpg'),\n",
       " PosixPath('/root/.keras/datasets/flower_photos/tulips/14957470_6a8c272a87_m.jpg'),\n",
       " PosixPath('/root/.keras/datasets/flower_photos/tulips/5691090657_2f1e9bf49e_n.jpg'),\n",
       " PosixPath('/root/.keras/datasets/flower_photos/tulips/6905876618_12732b74de_b.jpg'),\n",
       " PosixPath('/root/.keras/datasets/flower_photos/tulips/3637371174_a8dfcc1b35.jpg'),\n",
       " PosixPath('/root/.keras/datasets/flower_photos/tulips/6936168062_a31c28b77c_m.jpg'),\n",
       " PosixPath('/root/.keras/datasets/flower_photos/tulips/8768645961_8f1e097170_n.jpg'),\n",
       " PosixPath('/root/.keras/datasets/flower_photos/tulips/18378581986_5cd1494d08_n.jpg'),\n",
       " PosixPath('/root/.keras/datasets/flower_photos/tulips/14651383746_419dc73634_m.jpg'),\n",
       " PosixPath('/root/.keras/datasets/flower_photos/tulips/4574785121_5d8ec4626e.jpg'),\n",
       " PosixPath('/root/.keras/datasets/flower_photos/tulips/16700863150_ddaa4d89b4_n.jpg'),\n",
       " PosixPath('/root/.keras/datasets/flower_photos/tulips/9444202147_405290415b_n.jpg'),\n",
       " PosixPath('/root/.keras/datasets/flower_photos/tulips/3447650747_8299786b80_n.jpg'),\n",
       " PosixPath('/root/.keras/datasets/flower_photos/tulips/4602809199_d3030cef01_m.jpg'),\n",
       " PosixPath('/root/.keras/datasets/flower_photos/tulips/8713398114_bc96f1b624_n.jpg'),\n",
       " PosixPath('/root/.keras/datasets/flower_photos/tulips/14674388855_2da18e375a_m.jpg'),\n",
       " PosixPath('/root/.keras/datasets/flower_photos/tulips/5635347336_bc1400e939_n.jpg'),\n",
       " PosixPath('/root/.keras/datasets/flower_photos/tulips/116343334_9cb4acdc57_n.jpg'),\n",
       " PosixPath('/root/.keras/datasets/flower_photos/tulips/14674389605_df3c0bcfa1_m.jpg'),\n",
       " PosixPath('/root/.keras/datasets/flower_photos/tulips/3523398585_376960a611_m.jpg'),\n",
       " PosixPath('/root/.keras/datasets/flower_photos/tulips/5682463466_d3e641cb8b.jpg'),\n",
       " PosixPath('/root/.keras/datasets/flower_photos/tulips/16282277874_b92776b194.jpg'),\n",
       " PosixPath('/root/.keras/datasets/flower_photos/tulips/17994129033_bbd0acba62_n.jpg'),\n",
       " PosixPath('/root/.keras/datasets/flower_photos/tulips/13997627965_22d81601ce_n.jpg'),\n",
       " PosixPath('/root/.keras/datasets/flower_photos/tulips/6876631336_54bf150990.jpg'),\n",
       " PosixPath('/root/.keras/datasets/flower_photos/tulips/14084749296_6143c74c72_m.jpg'),\n",
       " PosixPath('/root/.keras/datasets/flower_photos/tulips/5666286130_1dc6f66f09_n.jpg'),\n",
       " PosixPath('/root/.keras/datasets/flower_photos/tulips/4945315538_97bdd873c4.jpg'),\n",
       " PosixPath('/root/.keras/datasets/flower_photos/tulips/2481827798_6087d71134.jpg'),\n",
       " PosixPath('/root/.keras/datasets/flower_photos/tulips/489506904_9b68ba211c.jpg'),\n",
       " PosixPath('/root/.keras/datasets/flower_photos/tulips/14255917256_84c23c572b.jpg'),\n",
       " PosixPath('/root/.keras/datasets/flower_photos/tulips/2418823693_72eec80f42_n.jpg'),\n",
       " PosixPath('/root/.keras/datasets/flower_photos/tulips/4579128789_1561575458_n.jpg'),\n",
       " PosixPath('/root/.keras/datasets/flower_photos/tulips/9446982168_06c4d71da3_n.jpg'),\n",
       " PosixPath('/root/.keras/datasets/flower_photos/tulips/5208680166_c4372477ef_n.jpg'),\n",
       " PosixPath('/root/.keras/datasets/flower_photos/tulips/4522764992_e9d70b82c1_m.jpg'),\n",
       " PosixPath('/root/.keras/datasets/flower_photos/tulips/3506615859_9850830cf0.jpg'),\n",
       " PosixPath('/root/.keras/datasets/flower_photos/tulips/3254533919_cb0b8af26c.jpg'),\n",
       " PosixPath('/root/.keras/datasets/flower_photos/tulips/14078067843_3573fcfc85_n.jpg'),\n",
       " PosixPath('/root/.keras/datasets/flower_photos/tulips/14015957646_8317a0f1d9_n.jpg'),\n",
       " PosixPath('/root/.keras/datasets/flower_photos/tulips/490541142_c37e2b4191_n.jpg'),\n",
       " PosixPath('/root/.keras/datasets/flower_photos/tulips/112651128_7b5d39a346_m.jpg'),\n",
       " PosixPath('/root/.keras/datasets/flower_photos/tulips/13999392173_b1411f8b23_n.jpg'),\n",
       " PosixPath('/root/.keras/datasets/flower_photos/tulips/3449794006_8c289840aa.jpg'),\n",
       " PosixPath('/root/.keras/datasets/flower_photos/tulips/176458518_f81d4bff8e.jpg'),\n",
       " PosixPath('/root/.keras/datasets/flower_photos/tulips/15452909878_0c4941f729_m.jpg'),\n",
       " PosixPath('/root/.keras/datasets/flower_photos/tulips/13561912705_e5eeb41433_z.jpg'),\n",
       " PosixPath('/root/.keras/datasets/flower_photos/tulips/8838975946_f54194894e_m.jpg'),\n",
       " PosixPath('/root/.keras/datasets/flower_photos/tulips/8713392604_90631fb809_n.jpg'),\n",
       " PosixPath('/root/.keras/datasets/flower_photos/tulips/132538273_335240fe5b_n.jpg'),\n",
       " PosixPath('/root/.keras/datasets/flower_photos/tulips/14046760909_0c73e84a1f_n.jpg'),\n",
       " PosixPath('/root/.keras/datasets/flower_photos/tulips/4590702749_e1df8e0c1b.jpg'),\n",
       " PosixPath('/root/.keras/datasets/flower_photos/tulips/14068200854_5c13668df9_m.jpg'),\n",
       " PosixPath('/root/.keras/datasets/flower_photos/tulips/8717900362_2aa508e9e5.jpg'),\n",
       " PosixPath('/root/.keras/datasets/flower_photos/tulips/8687675254_c93f50d8b0_m.jpg'),\n",
       " PosixPath('/root/.keras/datasets/flower_photos/tulips/6970683464_f70838ca3a_n.jpg'),\n",
       " PosixPath('/root/.keras/datasets/flower_photos/tulips/6931748252_68f06086b3.jpg'),\n",
       " PosixPath('/root/.keras/datasets/flower_photos/tulips/8601596054_33e40c2a7a.jpg'),\n",
       " PosixPath('/root/.keras/datasets/flower_photos/tulips/142235017_07816937c6.jpg'),\n",
       " PosixPath('/root/.keras/datasets/flower_photos/tulips/8713397694_bcbcbba2c2_n.jpg'),\n",
       " PosixPath('/root/.keras/datasets/flower_photos/tulips/8562853756_73778dac25_n.jpg'),\n",
       " PosixPath('/root/.keras/datasets/flower_photos/tulips/4587872443_a86c692cb8.jpg'),\n",
       " PosixPath('/root/.keras/datasets/flower_photos/tulips/8695372372_302135aeb2.jpg'),\n",
       " PosixPath('/root/.keras/datasets/flower_photos/tulips/6931489544_2f35025f7b_m.jpg'),\n",
       " PosixPath('/root/.keras/datasets/flower_photos/tulips/4890786831_91bb82a9e4_n.jpg'),\n",
       " PosixPath('/root/.keras/datasets/flower_photos/tulips/14122029097_3e3285ca5c_n.jpg'),\n",
       " PosixPath('/root/.keras/datasets/flower_photos/tulips/8690791226_b1f015259f_n.jpg'),\n",
       " PosixPath('/root/.keras/datasets/flower_photos/tulips/14067476586_36bcddf111.jpg'),\n",
       " PosixPath('/root/.keras/datasets/flower_photos/tulips/8686013485_3c4dfbfd1f_n.jpg'),\n",
       " PosixPath('/root/.keras/datasets/flower_photos/tulips/15275199229_962387f24d.jpg'),\n",
       " PosixPath('/root/.keras/datasets/flower_photos/tulips/65347450_53658c63bd_n.jpg'),\n",
       " PosixPath('/root/.keras/datasets/flower_photos/tulips/14024864234_713158c27f_n.jpg'),\n",
       " PosixPath('/root/.keras/datasets/flower_photos/tulips/17324469461_2b318aff8d_m.jpg'),\n",
       " PosixPath('/root/.keras/datasets/flower_photos/tulips/7166550328_de0d73cfa9.jpg'),\n",
       " PosixPath('/root/.keras/datasets/flower_photos/tulips/16265883604_92be82b973.jpg'),\n",
       " PosixPath('/root/.keras/datasets/flower_photos/tulips/405035580_94b793e71d.jpg'),\n",
       " PosixPath('/root/.keras/datasets/flower_photos/tulips/17318339476_54479b6660_n.jpg'),\n",
       " PosixPath('/root/.keras/datasets/flower_photos/tulips/4497976955_3f8c2a21c1_m.jpg'),\n",
       " PosixPath('/root/.keras/datasets/flower_photos/tulips/486896118_bcc7b8e1d6.jpg'),\n",
       " PosixPath('/root/.keras/datasets/flower_photos/tulips/7806320016_fcddfc1f8f_n.jpg'),\n",
       " PosixPath('/root/.keras/datasets/flower_photos/tulips/12916441224_2ed63596f8_n.jpg'),\n",
       " PosixPath('/root/.keras/datasets/flower_photos/tulips/15458787091_3edc6cd1eb.jpg'),\n",
       " PosixPath('/root/.keras/datasets/flower_photos/tulips/13923036338_1ce32c6d4f.jpg'),\n",
       " PosixPath('/root/.keras/datasets/flower_photos/tulips/5470898169_52a5ab876c_n.jpg'),\n",
       " PosixPath('/root/.keras/datasets/flower_photos/tulips/13910719110_1b21d1fc81.jpg'),\n",
       " PosixPath('/root/.keras/datasets/flower_photos/tulips/574373182_2776669a79_n.jpg'),\n",
       " PosixPath('/root/.keras/datasets/flower_photos/tulips/13976191172_6f23a0b313.jpg'),\n",
       " PosixPath('/root/.keras/datasets/flower_photos/tulips/16138212287_643bf336e1_m.jpg'),\n",
       " PosixPath('/root/.keras/datasets/flower_photos/tulips/2813649953_2b0f20fe94_n.jpg'),\n",
       " PosixPath('/root/.keras/datasets/flower_photos/tulips/14836105101_1d07520932_m.jpg'),\n",
       " PosixPath('/root/.keras/datasets/flower_photos/tulips/8394186551_28eed83a94_m.jpg'),\n",
       " PosixPath('/root/.keras/datasets/flower_photos/tulips/14067778605_0285b7cc3a.jpg'),\n",
       " PosixPath('/root/.keras/datasets/flower_photos/tulips/14491997336_36ba524713.jpg'),\n",
       " PosixPath('/root/.keras/datasets/flower_photos/tulips/17167151059_a53bfe0b02.jpg'),\n",
       " PosixPath('/root/.keras/datasets/flower_photos/tulips/5680695867_baff72fc7c.jpg'),\n",
       " PosixPath('/root/.keras/datasets/flower_photos/tulips/5674695558_61397a1584.jpg'),\n",
       " PosixPath('/root/.keras/datasets/flower_photos/tulips/13910678178_25e8b1a5e5.jpg'),\n",
       " PosixPath('/root/.keras/datasets/flower_photos/tulips/5430796647_f21b7b0fea.jpg'),\n",
       " PosixPath('/root/.keras/datasets/flower_photos/tulips/738207467_fc59cfcd9b_z.jpg'),\n",
       " PosixPath('/root/.keras/datasets/flower_photos/tulips/15516736553_b169b67195_n.jpg'),\n",
       " PosixPath('/root/.keras/datasets/flower_photos/tulips/8603340662_0779bd87fd.jpg'),\n",
       " PosixPath('/root/.keras/datasets/flower_photos/tulips/510698601_9f61d6f8d8.jpg'),\n",
       " PosixPath('/root/.keras/datasets/flower_photos/tulips/2535936698_78cc03df3f_n.jpg'),\n",
       " PosixPath('/root/.keras/datasets/flower_photos/tulips/8712268519_f4c2c39a06_n.jpg'),\n",
       " PosixPath('/root/.keras/datasets/flower_photos/tulips/7481217920_6f65766a1c_n.jpg'),\n",
       " PosixPath('/root/.keras/datasets/flower_photos/tulips/5665708521_799585d229_n.jpg'),\n",
       " PosixPath('/root/.keras/datasets/flower_photos/tulips/4589624702_b6baa83699_m.jpg'),\n",
       " PosixPath('/root/.keras/datasets/flower_photos/tulips/6948239566_0ac0a124ee_n.jpg'),\n",
       " PosixPath('/root/.keras/datasets/flower_photos/tulips/7136973281_b2a935ce20.jpg'),\n",
       " PosixPath('/root/.keras/datasets/flower_photos/tulips/4522153453_06437ca3af_m.jpg'),\n",
       " PosixPath('/root/.keras/datasets/flower_photos/tulips/12025042086_78bafc0eb6_n.jpg'),\n",
       " PosixPath('/root/.keras/datasets/flower_photos/tulips/6227136437_6117068599_m.jpg'),\n",
       " PosixPath('/root/.keras/datasets/flower_photos/tulips/7003964080_4566470798_n.jpg'),\n",
       " PosixPath('/root/.keras/datasets/flower_photos/tulips/7177682195_c29265748d_n.jpg'),\n",
       " PosixPath('/root/.keras/datasets/flower_photos/tulips/3396033831_bb88d93630.jpg'),\n",
       " PosixPath('/root/.keras/datasets/flower_photos/tulips/4612075317_91eefff68c_n.jpg'),\n",
       " PosixPath('/root/.keras/datasets/flower_photos/tulips/7055500907_dcf2bb50e0.jpg'),\n",
       " PosixPath('/root/.keras/datasets/flower_photos/tulips/3501996215_1c6d1a3386_n.jpg'),\n",
       " PosixPath('/root/.keras/datasets/flower_photos/tulips/3474066174_8d3b3e8f97_n.jpg'),\n",
       " PosixPath('/root/.keras/datasets/flower_photos/tulips/8668974855_8389ecbdca_m.jpg'),\n",
       " PosixPath('/root/.keras/datasets/flower_photos/tulips/8711277462_b43df5454b_m.jpg'),\n",
       " PosixPath('/root/.keras/datasets/flower_photos/tulips/16265876844_0a149c4f76.jpg'),\n",
       " PosixPath('/root/.keras/datasets/flower_photos/tulips/8748266132_5298a91dcf_n.jpg'),\n",
       " PosixPath('/root/.keras/datasets/flower_photos/tulips/14487943607_651e8062a1_m.jpg'),\n",
       " PosixPath('/root/.keras/datasets/flower_photos/tulips/8817622133_a42bb90e38_n.jpg'),\n",
       " PosixPath('/root/.keras/datasets/flower_photos/tulips/8702982836_75222725d7.jpg'),\n",
       " PosixPath('/root/.keras/datasets/flower_photos/tulips/8713389178_66bceb71a8_n.jpg'),\n",
       " PosixPath('/root/.keras/datasets/flower_photos/tulips/4565139594_b28d260cb9.jpg'),\n",
       " PosixPath('/root/.keras/datasets/flower_photos/tulips/13910126337_53faf1d214_n.jpg'),\n",
       " PosixPath('/root/.keras/datasets/flower_photos/tulips/14017640283_c417141832_n.jpg'),\n",
       " PosixPath('/root/.keras/datasets/flower_photos/tulips/6227136683_262c6be56b.jpg'),\n",
       " PosixPath('/root/.keras/datasets/flower_photos/tulips/14866400927_3a59899df3_m.jpg'),\n",
       " PosixPath('/root/.keras/datasets/flower_photos/tulips/5755467567_903c31e3d0.jpg'),\n",
       " PosixPath('/root/.keras/datasets/flower_photos/tulips/8712267813_f7a9be2ec5.jpg'),\n",
       " PosixPath('/root/.keras/datasets/flower_photos/tulips/7166618384_850905fc63_n.jpg'),\n",
       " PosixPath('/root/.keras/datasets/flower_photos/tulips/8713397358_0505cc0176_n.jpg'),\n",
       " PosixPath('/root/.keras/datasets/flower_photos/tulips/8690789564_394eb04982_n.jpg'),\n",
       " PosixPath('/root/.keras/datasets/flower_photos/tulips/13513851673_9d813dc7b0.jpg'),\n",
       " PosixPath('/root/.keras/datasets/flower_photos/tulips/14235021006_dd001ea8ed_n.jpg'),\n",
       " PosixPath('/root/.keras/datasets/flower_photos/tulips/2481015475_b71a12917d.jpg'),\n",
       " PosixPath('/root/.keras/datasets/flower_photos/tulips/8622237974_b362574785_n.jpg'),\n",
       " PosixPath('/root/.keras/datasets/flower_photos/tulips/14487712670_aebe715525_m.jpg'),\n",
       " PosixPath('/root/.keras/datasets/flower_photos/tulips/3502085373_edc2c36992_n.jpg'),\n",
       " PosixPath('/root/.keras/datasets/flower_photos/tulips/17066862602_7530f21efe.jpg'),\n",
       " PosixPath('/root/.keras/datasets/flower_photos/tulips/12517756805_56b74be742.jpg'),\n",
       " PosixPath('/root/.keras/datasets/flower_photos/tulips/2361075034_cf730b8682.jpg'),\n",
       " PosixPath('/root/.keras/datasets/flower_photos/tulips/3002863623_cd83d6e634.jpg'),\n",
       " PosixPath('/root/.keras/datasets/flower_photos/tulips/16702117379_c25bff70e9.jpg'),\n",
       " PosixPath('/root/.keras/datasets/flower_photos/tulips/17146928665_600fa3a1f1_n.jpg'),\n",
       " PosixPath('/root/.keras/datasets/flower_photos/tulips/13903937027_44b9f2f5b8.jpg'),\n",
       " PosixPath('/root/.keras/datasets/flower_photos/tulips/16139439153_fbdee29a10_n.jpg'),\n",
       " PosixPath('/root/.keras/datasets/flower_photos/tulips/9976515506_d496c5e72c.jpg'),\n",
       " PosixPath('/root/.keras/datasets/flower_photos/tulips/6994351792_343e18cbf6_n.jpg'),\n",
       " PosixPath('/root/.keras/datasets/flower_photos/tulips/13472141763_f2517e7f0d.jpg'),\n",
       " PosixPath('/root/.keras/datasets/flower_photos/tulips/4521037085_70d5802e1d_m.jpg'),\n",
       " PosixPath('/root/.keras/datasets/flower_photos/tulips/4604238410_bcec9da4a0_n.jpg'),\n",
       " PosixPath('/root/.keras/datasets/flower_photos/tulips/3433265727_0b8022e091.jpg'),\n",
       " PosixPath('/root/.keras/datasets/flower_photos/tulips/14061132852_89122de5f9_n.jpg'),\n",
       " PosixPath('/root/.keras/datasets/flower_photos/tulips/7064813645_f7f48fb527.jpg'),\n",
       " PosixPath('/root/.keras/datasets/flower_photos/tulips/18245124970_e68fd3f3c3.jpg'),\n",
       " PosixPath('/root/.keras/datasets/flower_photos/tulips/14087439392_969444f56e.jpg'),\n",
       " PosixPath('/root/.keras/datasets/flower_photos/tulips/8523133474_d2c0845b54.jpg'),\n",
       " PosixPath('/root/.keras/datasets/flower_photos/tulips/5644061265_e02135f028_n.jpg'),\n",
       " PosixPath('/root/.keras/datasets/flower_photos/tulips/13979098015_e8c98fd34e_n.jpg'),\n",
       " PosixPath('/root/.keras/datasets/flower_photos/tulips/16862351376_f0fcc6fc91_n.jpg'),\n",
       " PosixPath('/root/.keras/datasets/flower_photos/tulips/4571993204_5b3efe0e78.jpg'),\n",
       " PosixPath('/root/.keras/datasets/flower_photos/tulips/14861513337_4ef0bfa40d.jpg'),\n",
       " PosixPath('/root/.keras/datasets/flower_photos/tulips/10791227_7168491604.jpg'),\n",
       " PosixPath('/root/.keras/datasets/flower_photos/tulips/17066864992_1cbc4fc908.jpg'),\n",
       " PosixPath('/root/.keras/datasets/flower_photos/tulips/4838669164_ffb6f67139.jpg'),\n",
       " PosixPath('/root/.keras/datasets/flower_photos/tulips/17159816388_deafbebdb0.jpg'),\n",
       " PosixPath('/root/.keras/datasets/flower_photos/tulips/3143110904_66b4851a58_n.jpg'),\n",
       " PosixPath('/root/.keras/datasets/flower_photos/tulips/13910131718_731353d84c_n.jpg'),\n",
       " PosixPath('/root/.keras/datasets/flower_photos/tulips/8722514702_7ecc68691c.jpg'),\n",
       " PosixPath('/root/.keras/datasets/flower_photos/tulips/14149603605_eedfe9678c_n.jpg'),\n",
       " PosixPath('/root/.keras/datasets/flower_photos/tulips/4553203984_9cb9312240_n.jpg'),\n",
       " PosixPath('/root/.keras/datasets/flower_photos/tulips/16485607329_e66d5960bc_m.jpg'),\n",
       " PosixPath('/root/.keras/datasets/flower_photos/tulips/4604272150_0c92385530_n.jpg'),\n",
       " PosixPath('/root/.keras/datasets/flower_photos/tulips/13529687904_3d60abb479_n.jpg'),\n",
       " PosixPath('/root/.keras/datasets/flower_photos/tulips/2249756775_02e693beda_n.jpg'),\n",
       " PosixPath('/root/.keras/datasets/flower_photos/tulips/5433747333_869a2a172d_m.jpg'),\n",
       " PosixPath('/root/.keras/datasets/flower_photos/tulips/2271507463_15c48d41c4_n.jpg'),\n",
       " PosixPath('/root/.keras/datasets/flower_photos/tulips/8689672277_b289909f97_n.jpg'),\n",
       " PosixPath('/root/.keras/datasets/flower_photos/tulips/485266837_671def8627.jpg'),\n",
       " PosixPath('/root/.keras/datasets/flower_photos/tulips/13471563274_471fc1db33_m.jpg'),\n",
       " PosixPath('/root/.keras/datasets/flower_photos/tulips/3600510954_a51bfc5440_n.jpg'),\n",
       " PosixPath('/root/.keras/datasets/flower_photos/tulips/13289268363_b9337d751e.jpg'),\n",
       " PosixPath('/root/.keras/datasets/flower_photos/tulips/467770225_e3b41d4dd3_n.jpg'),\n",
       " PosixPath('/root/.keras/datasets/flower_photos/tulips/8729501081_b993185542_m.jpg'),\n",
       " PosixPath('/root/.keras/datasets/flower_photos/tulips/13539827514_79b60b6c22_n.jpg'),\n",
       " PosixPath('/root/.keras/datasets/flower_photos/tulips/3516271083_fba63b5861.jpg'),\n",
       " PosixPath('/root/.keras/datasets/flower_photos/tulips/13910479407_936fd3122d.jpg'),\n",
       " PosixPath('/root/.keras/datasets/flower_photos/tulips/12025038686_7f10811d4b_n.jpg'),\n",
       " PosixPath('/root/.keras/datasets/flower_photos/tulips/6038098425_b3b4fb62cc_m.jpg'),\n",
       " PosixPath('/root/.keras/datasets/flower_photos/tulips/7166635566_ee240b5408_n.jpg'),\n",
       " PosixPath('/root/.keras/datasets/flower_photos/tulips/8623173256_3f0eb4c506.jpg'),\n",
       " PosixPath('/root/.keras/datasets/flower_photos/daisy/2578695910_5ab8ee17c1_n.jpg'),\n",
       " PosixPath('/root/.keras/datasets/flower_photos/daisy/173350276_02817aa8d5.jpg'),\n",
       " PosixPath('/root/.keras/datasets/flower_photos/daisy/8719756744_34a5a83976_n.jpg'),\n",
       " PosixPath('/root/.keras/datasets/flower_photos/daisy/8706810197_17b6c1f1e7.jpg'),\n",
       " PosixPath('/root/.keras/datasets/flower_photos/daisy/2408024540_37f0be7cc0_n.jpg'),\n",
       " PosixPath('/root/.keras/datasets/flower_photos/daisy/2590291468_2635d3e4e0_n.jpg'),\n",
       " PosixPath('/root/.keras/datasets/flower_photos/daisy/14021430525_e06baf93a9.jpg'),\n",
       " PosixPath('/root/.keras/datasets/flower_photos/daisy/4753134939_8e87649db6.jpg'),\n",
       " PosixPath('/root/.keras/datasets/flower_photos/daisy/9180706736_092d43088c.jpg'),\n",
       " PosixPath('/root/.keras/datasets/flower_photos/daisy/8938566373_d129e7af75.jpg'),\n",
       " PosixPath('/root/.keras/datasets/flower_photos/daisy/3637428148_a1dcccafa9_n.jpg'),\n",
       " PosixPath('/root/.keras/datasets/flower_photos/daisy/11891885265_ccefec7284_n.jpg'),\n",
       " PosixPath('/root/.keras/datasets/flower_photos/daisy/3706420943_66f3214862_n.jpg'),\n",
       " PosixPath('/root/.keras/datasets/flower_photos/daisy/20773528301_008fcbc5a1_n.jpg'),\n",
       " PosixPath('/root/.keras/datasets/flower_photos/daisy/5058708968_8bdcd29e63_n.jpg'),\n",
       " PosixPath('/root/.keras/datasets/flower_photos/daisy/3711723108_65247a3170.jpg'),\n",
       " PosixPath('/root/.keras/datasets/flower_photos/daisy/19813618946_93818db7aa_m.jpg'),\n",
       " PosixPath('/root/.keras/datasets/flower_photos/daisy/2476937534_21b285aa46_n.jpg'),\n",
       " PosixPath('/root/.keras/datasets/flower_photos/daisy/3773181799_5def396456.jpg'),\n",
       " PosixPath('/root/.keras/datasets/flower_photos/daisy/15853110333_229c439e7f.jpg'),\n",
       " PosixPath('/root/.keras/datasets/flower_photos/daisy/3611577717_f3a7a8c416_n.jpg'),\n",
       " PosixPath('/root/.keras/datasets/flower_photos/daisy/14088053307_1a13a0bf91_n.jpg'),\n",
       " PosixPath('/root/.keras/datasets/flower_photos/daisy/3848258315_ed2fde4fb4.jpg'),\n",
       " PosixPath('/root/.keras/datasets/flower_photos/daisy/3463313493_9497aa47e5_n.jpg'),\n",
       " PosixPath('/root/.keras/datasets/flower_photos/daisy/7454630692_ab2d67dd18_m.jpg'),\n",
       " PosixPath('/root/.keras/datasets/flower_photos/daisy/14114116486_0bb6649bc1_m.jpg'),\n",
       " PosixPath('/root/.keras/datasets/flower_photos/daisy/2513618768_ff7c004796_m.jpg'),\n",
       " PosixPath('/root/.keras/datasets/flower_photos/daisy/6323721068_3d3394af6d_n.jpg'),\n",
       " PosixPath('/root/.keras/datasets/flower_photos/daisy/2828733818_1c1ed0089d_n.jpg'),\n",
       " PosixPath('/root/.keras/datasets/flower_photos/daisy/4861391074_c3e122dab0_m.jpg'),\n",
       " PosixPath('/root/.keras/datasets/flower_photos/daisy/2473825306_62fd5f8785_n.jpg'),\n",
       " PosixPath('/root/.keras/datasets/flower_photos/daisy/413815348_764ae83088.jpg'),\n",
       " PosixPath('/root/.keras/datasets/flower_photos/daisy/5574421625_61b1f49b3f_m.jpg'),\n",
       " PosixPath('/root/.keras/datasets/flower_photos/daisy/1879567877_8ed2a5faa7_n.jpg'),\n",
       " PosixPath('/root/.keras/datasets/flower_photos/daisy/21626652132_97e1318bb8_m.jpg'),\n",
       " PosixPath('/root/.keras/datasets/flower_photos/daisy/6776075110_1ea7a09dd4_n.jpg'),\n",
       " PosixPath('/root/.keras/datasets/flower_photos/daisy/18901817451_43e2b45f6c.jpg'),\n",
       " PosixPath('/root/.keras/datasets/flower_photos/daisy/16492248512_61a57dfec1_m.jpg'),\n",
       " PosixPath('/root/.keras/datasets/flower_photos/daisy/4482623536_b9fb5ae41f_n.jpg'),\n",
       " PosixPath('/root/.keras/datasets/flower_photos/daisy/19834392829_7d697871f6.jpg'),\n",
       " PosixPath('/root/.keras/datasets/flower_photos/daisy/25360380_1a881a5648.jpg'),\n",
       " PosixPath('/root/.keras/datasets/flower_photos/daisy/2666572212_2caca8de9f_n.jpg'),\n",
       " PosixPath('/root/.keras/datasets/flower_photos/daisy/391364011_5beaaa1ae2_m.jpg'),\n",
       " PosixPath('/root/.keras/datasets/flower_photos/daisy/8085329197_41d53a21e2_n.jpg'),\n",
       " PosixPath('/root/.keras/datasets/flower_photos/daisy/18354545086_693ea7bc2a.jpg'),\n",
       " PosixPath('/root/.keras/datasets/flower_photos/daisy/2346726545_2ebce2b2a6.jpg'),\n",
       " PosixPath('/root/.keras/datasets/flower_photos/daisy/3356112863_75da8bca2c_m.jpg'),\n",
       " PosixPath('/root/.keras/datasets/flower_photos/daisy/18474740346_ffdaa18032.jpg'),\n",
       " PosixPath('/root/.keras/datasets/flower_photos/daisy/6095817094_3a5b1d793d.jpg'),\n",
       " PosixPath('/root/.keras/datasets/flower_photos/daisy/4694734757_5c563d38dd_n.jpg'),\n",
       " PosixPath('/root/.keras/datasets/flower_photos/daisy/506018088_4f7a15a7c5_n.jpg'),\n",
       " PosixPath('/root/.keras/datasets/flower_photos/daisy/5561775629_a2b709b3a4_n.jpg'),\n",
       " PosixPath('/root/.keras/datasets/flower_photos/daisy/3450822975_7e77d67636_n.jpg'),\n",
       " PosixPath('/root/.keras/datasets/flower_photos/daisy/5434742166_35773eba57_m.jpg'),\n",
       " PosixPath('/root/.keras/datasets/flower_photos/daisy/7749368884_1fc58c67ff_n.jpg'),\n",
       " PosixPath('/root/.keras/datasets/flower_photos/daisy/9094631844_1a6abca29e.jpg'),\n",
       " PosixPath('/root/.keras/datasets/flower_photos/daisy/5884807222_22f5326ba8_m.jpg'),\n",
       " PosixPath('/root/.keras/datasets/flower_photos/daisy/1344985627_c3115e2d71_n.jpg'),\n",
       " PosixPath('/root/.keras/datasets/flower_photos/daisy/18711159980_11d3bd5042.jpg'),\n",
       " PosixPath('/root/.keras/datasets/flower_photos/daisy/5133243796_44de429de5_m.jpg'),\n",
       " PosixPath('/root/.keras/datasets/flower_photos/daisy/498159452_b71afd65ba.jpg'),\n",
       " PosixPath('/root/.keras/datasets/flower_photos/daisy/2573240560_ff7ffdd449.jpg'),\n",
       " PosixPath('/root/.keras/datasets/flower_photos/daisy/9310226774_d1b8f5d9c9.jpg'),\n",
       " PosixPath('/root/.keras/datasets/flower_photos/daisy/18400014056_2e4c601ed5.jpg'),\n",
       " PosixPath('/root/.keras/datasets/flower_photos/daisy/14399435971_ea5868c792.jpg'),\n",
       " PosixPath('/root/.keras/datasets/flower_photos/daisy/5881907044_92a85a05c8_n.jpg'),\n",
       " PosixPath('/root/.keras/datasets/flower_photos/daisy/11642632_1e7627a2cc.jpg'),\n",
       " PosixPath('/root/.keras/datasets/flower_photos/daisy/525271784_013ddccd1b_m.jpg'),\n",
       " PosixPath('/root/.keras/datasets/flower_photos/daisy/8021540573_c56cf9070d_n.jpg'),\n",
       " PosixPath('/root/.keras/datasets/flower_photos/daisy/512177035_70afc925c8.jpg'),\n",
       " PosixPath('/root/.keras/datasets/flower_photos/daisy/2632216904_274aa17433.jpg'),\n",
       " PosixPath('/root/.keras/datasets/flower_photos/daisy/8983779970_9d3a6a3bf2_n.jpg'),\n",
       " PosixPath('/root/.keras/datasets/flower_photos/daisy/2045022175_ad087f5f60_n.jpg'),\n",
       " PosixPath('/root/.keras/datasets/flower_photos/daisy/3957488431_52a447c0e8_m.jpg'),\n",
       " PosixPath('/root/.keras/datasets/flower_photos/daisy/14147016029_8d3cf2414e.jpg'),\n",
       " PosixPath('/root/.keras/datasets/flower_photos/daisy/10994032453_ac7f8d9e2e.jpg'),\n",
       " PosixPath('/root/.keras/datasets/flower_photos/daisy/5714327423_50af0cffe9.jpg'),\n",
       " PosixPath('/root/.keras/datasets/flower_photos/daisy/3386988684_bc5a66005e.jpg'),\n",
       " PosixPath('/root/.keras/datasets/flower_photos/daisy/3117644024_1cbb59a509_n.jpg'),\n",
       " PosixPath('/root/.keras/datasets/flower_photos/daisy/450128527_fd35742d44.jpg'),\n",
       " PosixPath('/root/.keras/datasets/flower_photos/daisy/3410906335_37e8a24b1c_n.jpg'),\n",
       " PosixPath('/root/.keras/datasets/flower_photos/daisy/5435521200_92029bbe2b_n.jpg'),\n",
       " PosixPath('/root/.keras/datasets/flower_photos/daisy/10391248763_1d16681106_n.jpg'),\n",
       " PosixPath('/root/.keras/datasets/flower_photos/daisy/19178753159_a471bf4b6b.jpg'),\n",
       " PosixPath('/root/.keras/datasets/flower_photos/daisy/9350942387_5b1d043c26_n.jpg'),\n",
       " PosixPath('/root/.keras/datasets/flower_photos/daisy/4820415253_15bc3b6833_n.jpg'),\n",
       " PosixPath('/root/.keras/datasets/flower_photos/daisy/3598615130_578ed30e5f.jpg'),\n",
       " PosixPath('/root/.keras/datasets/flower_photos/daisy/18622672908_eab6dc9140_n.jpg'),\n",
       " PosixPath('/root/.keras/datasets/flower_photos/daisy/10555815624_dc211569b0.jpg'),\n",
       " PosixPath('/root/.keras/datasets/flower_photos/daisy/18023717391_e2c9089e10.jpg'),\n",
       " PosixPath('/root/.keras/datasets/flower_photos/daisy/2057816617_18448093d0_n.jpg'),\n",
       " PosixPath('/root/.keras/datasets/flower_photos/daisy/20289938802_e16fa9f23d.jpg'),\n",
       " PosixPath('/root/.keras/datasets/flower_photos/daisy/16737503507_431768a927.jpg'),\n",
       " PosixPath('/root/.keras/datasets/flower_photos/daisy/8619103877_d8c82c5f34_n.jpg'),\n",
       " PosixPath('/root/.keras/datasets/flower_photos/daisy/14866200659_6462c723cb_m.jpg'),\n",
       " PosixPath('/root/.keras/datasets/flower_photos/daisy/2454280137_e1637536ae_n.jpg'),\n",
       " PosixPath('/root/.keras/datasets/flower_photos/daisy/6910811638_aa6f17df23.jpg'),\n",
       " PosixPath('/root/.keras/datasets/flower_photos/daisy/7199968650_72afc16d31_m.jpg'),\n",
       " PosixPath('/root/.keras/datasets/flower_photos/daisy/5997702776_c7bc37aa6b_n.jpg'),\n",
       " PosixPath('/root/.keras/datasets/flower_photos/daisy/9299302012_958c70564c_n.jpg'),\n",
       " PosixPath('/root/.keras/datasets/flower_photos/daisy/14816364517_2423021484_m.jpg'),\n",
       " PosixPath('/root/.keras/datasets/flower_photos/daisy/299129811_d6ebda9970.jpg'),\n",
       " PosixPath('/root/.keras/datasets/flower_photos/daisy/10555826524_423eb8bf71_n.jpg'),\n",
       " PosixPath('/root/.keras/datasets/flower_photos/daisy/3336704121_cfeb67a7d7.jpg'),\n",
       " PosixPath('/root/.keras/datasets/flower_photos/daisy/15760811380_4d686c892b_n.jpg'),\n",
       " PosixPath('/root/.keras/datasets/flower_photos/daisy/301964511_fab84ea1c1.jpg'),\n",
       " PosixPath('/root/.keras/datasets/flower_photos/daisy/2514748602_343d4727c0_n.jpg'),\n",
       " PosixPath('/root/.keras/datasets/flower_photos/daisy/3337536080_1db19964fe.jpg'),\n",
       " PosixPath('/root/.keras/datasets/flower_photos/daisy/8694909523_3ca25d449d_n.jpg'),\n",
       " PosixPath('/root/.keras/datasets/flower_photos/daisy/3456403987_5bd5fa6ece_n.jpg'),\n",
       " PosixPath('/root/.keras/datasets/flower_photos/daisy/7702332000_3f21ef4571_n.jpg'),\n",
       " PosixPath('/root/.keras/datasets/flower_photos/daisy/2635314490_e12d3b0f36_m.jpg'),\n",
       " PosixPath('/root/.keras/datasets/flower_photos/daisy/3963330924_6c6a3fa7be_n.jpg'),\n",
       " PosixPath('/root/.keras/datasets/flower_photos/daisy/22873310415_3a5674ec10_m.jpg'),\n",
       " PosixPath('/root/.keras/datasets/flower_photos/daisy/5809489674_5659b3ae5d_n.jpg'),\n",
       " PosixPath('/root/.keras/datasets/flower_photos/daisy/12585131704_0f64b17059_m.jpg'),\n",
       " PosixPath('/root/.keras/datasets/flower_photos/daisy/175106495_53ebdef092_n.jpg'),\n",
       " PosixPath('/root/.keras/datasets/flower_photos/daisy/8127252886_96558c23d1.jpg'),\n",
       " PosixPath('/root/.keras/datasets/flower_photos/daisy/1140299375_3aa7024466.jpg'),\n",
       " PosixPath('/root/.keras/datasets/flower_photos/daisy/7066602021_2647457985_m.jpg'),\n",
       " PosixPath('/root/.keras/datasets/flower_photos/daisy/5434913005_409c1e8b56_n.jpg'),\n",
       " PosixPath('/root/.keras/datasets/flower_photos/daisy/2581171297_b0a249b92b_n.jpg'),\n",
       " PosixPath('/root/.keras/datasets/flower_photos/daisy/12701063955_4840594ea6_n.jpg'),\n",
       " PosixPath('/root/.keras/datasets/flower_photos/daisy/8708143485_38d084ac8c_n.jpg'),\n",
       " PosixPath('/root/.keras/datasets/flower_photos/daisy/4613992315_143ccc2a10_m.jpg'),\n",
       " PosixPath('/root/.keras/datasets/flower_photos/daisy/5874818796_3efbb8769d.jpg'),\n",
       " PosixPath('/root/.keras/datasets/flower_photos/daisy/17101762155_2577a28395.jpg'),\n",
       " PosixPath('/root/.keras/datasets/flower_photos/daisy/3780380240_ef9ec1b737_m.jpg'),\n",
       " PosixPath('/root/.keras/datasets/flower_photos/daisy/14332947164_9b13513c71_m.jpg'),\n",
       " PosixPath('/root/.keras/datasets/flower_photos/daisy/4318007511_e9f4311936_n.jpg'),\n",
       " PosixPath('/root/.keras/datasets/flower_photos/daisy/10555749515_13a12a026e.jpg'),\n",
       " PosixPath('/root/.keras/datasets/flower_photos/daisy/3379332157_04724f6480.jpg'),\n",
       " PosixPath('/root/.keras/datasets/flower_photos/daisy/8071646795_2fdc89ab7a_n.jpg'),\n",
       " PosixPath('/root/.keras/datasets/flower_photos/daisy/2454280135_ac3aa75cdc_n.jpg'),\n",
       " PosixPath('/root/.keras/datasets/flower_photos/daisy/10466558316_a7198b87e2.jpg'),\n",
       " PosixPath('/root/.keras/datasets/flower_photos/daisy/2481823240_eab0d86921.jpg'),\n",
       " PosixPath('/root/.keras/datasets/flower_photos/daisy/17027891179_3edc08f4f6.jpg'),\n",
       " PosixPath('/root/.keras/datasets/flower_photos/daisy/3939135368_0af5c4982a_n.jpg'),\n",
       " PosixPath('/root/.keras/datasets/flower_photos/daisy/2619413565_61a6cd3ac9_m.jpg'),\n",
       " PosixPath('/root/.keras/datasets/flower_photos/daisy/174131220_c853df1287.jpg'),\n",
       " PosixPath('/root/.keras/datasets/flower_photos/daisy/7633425046_8293e3d0e9_m.jpg'),\n",
       " PosixPath('/root/.keras/datasets/flower_photos/daisy/2649404904_b7a91991bb_n.jpg'),\n",
       " PosixPath('/root/.keras/datasets/flower_photos/daisy/3546455114_cd2dea5e02.jpg'),\n",
       " PosixPath('/root/.keras/datasets/flower_photos/daisy/16360180712_b72695928c_n.jpg'),\n",
       " PosixPath('/root/.keras/datasets/flower_photos/daisy/10559679065_50d2b16f6d.jpg'),\n",
       " PosixPath('/root/.keras/datasets/flower_photos/daisy/15306268004_4680ba95e1.jpg'),\n",
       " PosixPath('/root/.keras/datasets/flower_photos/daisy/488202750_c420cbce61.jpg'),\n",
       " PosixPath('/root/.keras/datasets/flower_photos/daisy/4654579740_6671a53627_m.jpg'),\n",
       " PosixPath('/root/.keras/datasets/flower_photos/daisy/17249393016_093e915012_n.jpg'),\n",
       " PosixPath('/root/.keras/datasets/flower_photos/daisy/4286053334_a75541f20b_m.jpg'),\n",
       " PosixPath('/root/.keras/datasets/flower_photos/daisy/695778683_890c46ebac.jpg'),\n",
       " PosixPath('/root/.keras/datasets/flower_photos/daisy/3695826945_9f374e8a00_m.jpg'),\n",
       " PosixPath('/root/.keras/datasets/flower_photos/daisy/14087947408_9779257411_n.jpg'),\n",
       " PosixPath('/root/.keras/datasets/flower_photos/daisy/5869147563_66fb88119d.jpg'),\n",
       " PosixPath('/root/.keras/datasets/flower_photos/daisy/6148728633_27afc47b0c_m.jpg'),\n",
       " PosixPath('/root/.keras/datasets/flower_photos/daisy/144076848_57e1d662e3_m.jpg'),\n",
       " PosixPath('/root/.keras/datasets/flower_photos/daisy/5110109540_beed4ed162_m.jpg'),\n",
       " PosixPath('/root/.keras/datasets/flower_photos/daisy/3639009391_0f910681b7.jpg'),\n",
       " PosixPath('/root/.keras/datasets/flower_photos/daisy/1392131677_116ec04751.jpg'),\n",
       " PosixPath('/root/.keras/datasets/flower_photos/daisy/169371301_d9b91a2a42.jpg'),\n",
       " PosixPath('/root/.keras/datasets/flower_photos/daisy/153210866_03cc9f2f36.jpg'),\n",
       " PosixPath('/root/.keras/datasets/flower_photos/daisy/3468498624_d082f99e98.jpg'),\n",
       " PosixPath('/root/.keras/datasets/flower_photos/daisy/8382667241_0f046cecdb_n.jpg'),\n",
       " PosixPath('/root/.keras/datasets/flower_photos/daisy/2001380507_19488ff96a_n.jpg'),\n",
       " PosixPath('/root/.keras/datasets/flower_photos/daisy/14907815010_bff495449f.jpg'),\n",
       " PosixPath('/root/.keras/datasets/flower_photos/daisy/13826249325_f61cb15f86_n.jpg'),\n",
       " PosixPath('/root/.keras/datasets/flower_photos/daisy/16020253176_60f2a6a5ca_n.jpg'),\n",
       " PosixPath('/root/.keras/datasets/flower_photos/daisy/4268817944_cdbdb226ae.jpg'),\n",
       " PosixPath('/root/.keras/datasets/flower_photos/daisy/3415180846_d7b5cced14_m.jpg'),\n",
       " PosixPath('/root/.keras/datasets/flower_photos/daisy/7630520686_e3a61ac763.jpg'),\n",
       " PosixPath('/root/.keras/datasets/flower_photos/daisy/5608389827_a42a46f760.jpg'),\n",
       " PosixPath('/root/.keras/datasets/flower_photos/daisy/20580471306_ab5a011b15_n.jpg'),\n",
       " PosixPath('/root/.keras/datasets/flower_photos/daisy/14221836990_90374e6b34.jpg'),\n",
       " PosixPath('/root/.keras/datasets/flower_photos/daisy/10437770546_8bb6f7bdd3_m.jpg'),\n",
       " PosixPath('/root/.keras/datasets/flower_photos/daisy/162362896_99c7d851c8_n.jpg'),\n",
       " PosixPath('/root/.keras/datasets/flower_photos/daisy/9593034725_0062f0d24e_n.jpg'),\n",
       " PosixPath('/root/.keras/datasets/flower_photos/daisy/2520369272_1dcdb5a892_m.jpg'),\n",
       " PosixPath('/root/.keras/datasets/flower_photos/daisy/1396526833_fb867165be_n.jpg'),\n",
       " PosixPath('/root/.keras/datasets/flower_photos/daisy/9286947622_4822f4fc21.jpg'),\n",
       " PosixPath('/root/.keras/datasets/flower_photos/daisy/15327813273_06cdf42210.jpg'),\n",
       " PosixPath('/root/.keras/datasets/flower_photos/daisy/19177263840_6a316ea639.jpg'),\n",
       " PosixPath('/root/.keras/datasets/flower_photos/daisy/102841525_bd6628ae3c.jpg'),\n",
       " PosixPath('/root/.keras/datasets/flower_photos/daisy/1031799732_e7f4008c03.jpg'),\n",
       " PosixPath('/root/.keras/datasets/flower_photos/daisy/4511693548_20f9bd2b9c_m.jpg'),\n",
       " PosixPath('/root/.keras/datasets/flower_photos/daisy/5087720485_c0914fb623.jpg'),\n",
       " PosixPath('/root/.keras/datasets/flower_photos/daisy/14354051035_1037b30421_n.jpg'),\n",
       " PosixPath('/root/.keras/datasets/flower_photos/daisy/4851353993_2cbbbd1040_n.jpg'),\n",
       " PosixPath('/root/.keras/datasets/flower_photos/daisy/9489270024_1b05f08492_m.jpg'),\n",
       " PosixPath('/root/.keras/datasets/flower_photos/daisy/18203367608_07a04e98a4_n.jpg'),\n",
       " PosixPath('/root/.keras/datasets/flower_photos/daisy/3633489595_a037a9b7a4_m.jpg'),\n",
       " PosixPath('/root/.keras/datasets/flower_photos/daisy/3483303007_42e3f90da7.jpg'),\n",
       " PosixPath('/root/.keras/datasets/flower_photos/daisy/3506866918_61dd5fc53b_n.jpg'),\n",
       " PosixPath('/root/.keras/datasets/flower_photos/daisy/3474942718_c418dae6f1.jpg'),\n",
       " PosixPath('/root/.keras/datasets/flower_photos/daisy/5435513198_90ce39f1aa_n.jpg'),\n",
       " PosixPath('/root/.keras/datasets/flower_photos/daisy/452854574_59492f119a_m.jpg'),\n",
       " PosixPath('/root/.keras/datasets/flower_photos/daisy/5973488341_50bdf6cee3_n.jpg'),\n",
       " PosixPath('/root/.keras/datasets/flower_photos/daisy/512477177_d9004cbcf1_n.jpg'),\n",
       " PosixPath('/root/.keras/datasets/flower_photos/daisy/4258408909_b7cc92741c_m.jpg'),\n",
       " PosixPath('/root/.keras/datasets/flower_photos/daisy/4434592930_6610d51fca_m.jpg'),\n",
       " PosixPath('/root/.keras/datasets/flower_photos/daisy/12348343085_d4c396e5b5_m.jpg'),\n",
       " PosixPath('/root/.keras/datasets/flower_photos/daisy/21652746_cc379e0eea_m.jpg'),\n",
       " ...]"
      ]
     },
     "execution_count": 39,
     "metadata": {
      "tags": []
     },
     "output_type": "execute_result"
    }
   ],
   "source": [
    " list(data_dir.glob('*/*.jpg')) # "
   ]
  },
  {
   "cell_type": "code",
   "execution_count": 40,
   "metadata": {
    "colab": {
     "base_uri": "https://localhost:8080/",
     "height": 34
    },
    "id": "B7n4h5rvwxrr",
    "outputId": "c72f847d-9ed2-4eee-fe4e-a452b1f5bb51"
   },
   "outputs": [
    {
     "data": {
      "text/plain": [
       "3670"
      ]
     },
     "execution_count": 40,
     "metadata": {
      "tags": []
     },
     "output_type": "execute_result"
    }
   ],
   "source": [
    "len( list(data_dir.glob('*/*.jpg')) )"
   ]
  },
  {
   "cell_type": "code",
   "execution_count": 41,
   "metadata": {
    "id": "j1tnqyMQw2JE"
   },
   "outputs": [],
   "source": [
    "x=list(data_dir.glob('daisy/*.jpg')) #daisy 폴더에 633개 이미지\n",
    "len( list(data_dir.glob('daisy/*.jpg'))) "
   ]
  },
  {
   "cell_type": "code",
   "execution_count": 42,
   "metadata": {
    "id": "LCd03nX-xUcO"
   },
   "outputs": [],
   "source": [
    "from PIL import Image"
   ]
  },
  {
   "cell_type": "code",
   "execution_count": 43,
   "metadata": {
    "colab": {
     "base_uri": "https://localhost:8080/",
     "height": 237
    },
    "id": "88FGZzG2xgnE",
    "outputId": "d876f8ce-fd22-42ef-c577-c448c523f7d4"
   },
   "outputs": [
    {
     "data": {
      "image/png": "[encoded data removed]",
      "text/plain": [
       "<PIL.JpegImagePlugin.JpegImageFile image mode=RGB size=320x220 at 0x7F088FD68400>"
      ]
     },
     "execution_count": 43,
     "metadata": {
      "tags": []
     },
     "output_type": "execute_result"
    }
   ],
   "source": [
    "Image.open('/root/.keras/datasets/flower_photos/sunflowers/3749090865_b90f28a585_n.jpg')"
   ]
  },
  {
   "cell_type": "markdown",
   "metadata": {
    "id": "yeqCSPv7xwEW"
   },
   "source": [
    "str 안붙여도 가능\n",
    "> duck typing\n",
    "  문자열에서 객체로 넣어도 객체에서 원하는 기능만 있으면 실행  "
   ]
  },
  {
   "cell_type": "code",
   "execution_count": 44,
   "metadata": {
    "colab": {
     "base_uri": "https://localhost:8080/",
     "height": 257
    },
    "id": "y2amAguZxlkl",
    "outputId": "0572b43b-3baa-414c-89ed-b8d78cf9e914"
   },
   "outputs": [
    {
     "data": {
      "image/png": "[encoded data removed]",
      "text/plain": [
       "<PIL.JpegImagePlugin.JpegImageFile image mode=RGB size=320x240 at 0x7F08F40F1F60>"
      ]
     },
     "execution_count": 44,
     "metadata": {
      "tags": []
     },
     "output_type": "execute_result"
    }
   ],
   "source": [
    "Image.open(str(x[0]))  "
   ]
  },
  {
   "cell_type": "code",
   "execution_count": 45,
   "metadata": {
    "colab": {
     "base_uri": "https://localhost:8080/",
     "height": 252
    },
    "id": "hBkGh8obyLDX",
    "outputId": "8b7e14bb-d665-462f-8cdb-c7a6db36bb52"
   },
   "outputs": [
    {
     "data": {
      "image/png": "[encoded data removed]",
      "text/plain": [
       "<PIL.JpegImagePlugin.JpegImageFile image mode=RGB size=320x235 at 0x7F08F40F1B38>"
      ]
     },
     "execution_count": 45,
     "metadata": {
      "tags": []
     },
     "output_type": "execute_result"
    }
   ],
   "source": [
    "Image.open(x[10])  # str 없어도 가능 <duck typing>  ;  size 상이"
   ]
  },
  {
   "cell_type": "markdown",
   "metadata": {
    "id": "zAgaE43ez2R4"
   },
   "source": [
    "### keras.preprocessing을 사용하여 로드  \n",
    "- 기본적인 컨볼루션 사용가능 할까?\n",
    "- 이미지 크기 상이\n",
    "  - resize, crop \n",
    "  - 데이터가 많으면 각 사진마다 할 수가 없어서 ML 이용해서 크기 맞출 수도 있음 (ML에서는 결측치 처리와 비슷함)\n",
    "#### image_dataset_from_directory\n",
    "- directory에서 이미지 데이터 세트를 만듦\n",
    "    - 기본값 rgb로 256x256크기로 bach 32size\n",
    "- `image_dataset_from_directory(labels= label mode= 숫자?, class_names =[],subset='training' or'validation, size )`"
   ]
  },
  {
   "cell_type": "code",
   "execution_count": null,
   "metadata": {
    "colab": {
     "base_uri": "https://localhost:8080/",
     "height": 130
    },
    "id": "vk_ShgA2yLKq",
    "outputId": "df77d104-06bb-4393-df7c-28f3254693c1"
   },
   "outputs": [],
   "source": [
    "from keras.preprocessing.image    #image안이 아닌 preprocessing에도 있음"
   ]
  },
  {
   "cell_type": "code",
   "execution_count": 47,
   "metadata": {
    "id": "ad8p0VrryLQT"
   },
   "outputs": [],
   "source": [
    "from keras.preprocessing import image_dataset_from_directory #directory에서 이미지 데이터 세트를 만듦"
   ]
  },
  {
   "cell_type": "code",
   "execution_count": 48,
   "metadata": {
    "colab": {
     "base_uri": "https://localhost:8080/",
     "height": 51
    },
    "id": "F0N1mUaPzgxD",
    "outputId": "fa034d0b-a2e2-487b-cd1b-a5bc32e49658"
   },
   "outputs": [
    {
     "name": "stdout",
     "output_type": "stream",
     "text": [
      "Found 3670 files belonging to 5 classes.\n"
     ]
    },
    {
     "data": {
      "text/plain": [
       "<BatchDataset shapes: ((None, 180, 180, 3), (None,)), types: (tf.float32, tf.int32)>"
      ]
     },
     "execution_count": 48,
     "metadata": {
      "tags": []
     },
     "output_type": "execute_result"
    }
   ],
   "source": [
    "train_data=image_dataset_from_directory(data_dir, image_size=(180,180)) #BatchDataset (256, 256, 3)\n",
    "train_data"
   ]
  },
  {
   "cell_type": "code",
   "execution_count": 49,
   "metadata": {
    "colab": {
     "base_uri": "https://localhost:8080/",
     "height": 1000
    },
    "id": "sVtwtPKLzr1s",
    "outputId": "35cda68c-22e8-47fe-bc08-d101528521f5"
   },
   "outputs": [
    {
     "data": {
      "text/plain": [
       "['_GeneratorState',\n",
       " '__abstractmethods__',\n",
       " '__bool__',\n",
       " '__class__',\n",
       " '__delattr__',\n",
       " '__dict__',\n",
       " '__dir__',\n",
       " '__doc__',\n",
       " '__eq__',\n",
       " '__format__',\n",
       " '__ge__',\n",
       " '__getattribute__',\n",
       " '__gt__',\n",
       " '__hash__',\n",
       " '__init__',\n",
       " '__init_subclass__',\n",
       " '__iter__',\n",
       " '__le__',\n",
       " '__len__',\n",
       " '__lt__',\n",
       " '__module__',\n",
       " '__ne__',\n",
       " '__new__',\n",
       " '__nonzero__',\n",
       " '__reduce__',\n",
       " '__reduce_ex__',\n",
       " '__repr__',\n",
       " '__setattr__',\n",
       " '__sizeof__',\n",
       " '__slots__',\n",
       " '__str__',\n",
       " '__subclasshook__',\n",
       " '__weakref__',\n",
       " '_abc_cache',\n",
       " '_abc_negative_cache',\n",
       " '_abc_negative_cache_version',\n",
       " '_abc_registry',\n",
       " '_add_variable_with_custom_getter',\n",
       " '_apply_options',\n",
       " '_as_serialized_graph',\n",
       " '_batch_size',\n",
       " '_checkpoint_dependencies',\n",
       " '_consumers',\n",
       " '_deferred_dependencies',\n",
       " '_drop_remainder',\n",
       " '_flat_shapes',\n",
       " '_flat_structure',\n",
       " '_flat_types',\n",
       " '_functions',\n",
       " '_gather_saveables_for_checkpoint',\n",
       " '_graph',\n",
       " '_graph_attr',\n",
       " '_handle_deferred_dependencies',\n",
       " '_has_captured_ref',\n",
       " '_input_dataset',\n",
       " '_inputs',\n",
       " '_list_extra_dependencies_for_serialization',\n",
       " '_list_functions_for_serialization',\n",
       " '_lookup_dependency',\n",
       " '_map_resources',\n",
       " '_maybe_initialize_trackable',\n",
       " '_name_based_attribute_restore',\n",
       " '_name_based_restores',\n",
       " '_no_dependency',\n",
       " '_object_identifier',\n",
       " '_options_attr',\n",
       " '_preload_simple_restoration',\n",
       " '_restore_from_checkpoint_position',\n",
       " '_self_name_based_restores',\n",
       " '_self_saveable_object_factories',\n",
       " '_self_setattr_tracking',\n",
       " '_self_unconditional_checkpoint_dependencies',\n",
       " '_self_unconditional_deferred_dependencies',\n",
       " '_self_unconditional_dependency_names',\n",
       " '_self_update_uid',\n",
       " '_setattr_tracking',\n",
       " '_shape_invariant_to_type_spec',\n",
       " '_single_restoration_from_checkpoint_position',\n",
       " '_structure',\n",
       " '_tf_api_names',\n",
       " '_tf_api_names_v1',\n",
       " '_trace_variant_creation',\n",
       " '_track_trackable',\n",
       " '_tracking_metadata',\n",
       " '_type_spec',\n",
       " '_unconditional_checkpoint_dependencies',\n",
       " '_unconditional_dependency_names',\n",
       " '_update_uid',\n",
       " '_variant_tensor',\n",
       " '_variant_tensor_attr',\n",
       " '_variant_tracker',\n",
       " 'apply',\n",
       " 'as_numpy_iterator',\n",
       " 'batch',\n",
       " 'cache',\n",
       " 'cardinality',\n",
       " 'class_names',\n",
       " 'concatenate',\n",
       " 'element_spec',\n",
       " 'enumerate',\n",
       " 'filter',\n",
       " 'flat_map',\n",
       " 'from_generator',\n",
       " 'from_tensor_slices',\n",
       " 'from_tensors',\n",
       " 'interleave',\n",
       " 'list_files',\n",
       " 'map',\n",
       " 'options',\n",
       " 'padded_batch',\n",
       " 'prefetch',\n",
       " 'range',\n",
       " 'reduce',\n",
       " 'repeat',\n",
       " 'shard',\n",
       " 'shuffle',\n",
       " 'skip',\n",
       " 'take',\n",
       " 'unbatch',\n",
       " 'window',\n",
       " 'with_options',\n",
       " 'zip']"
      ]
     },
     "execution_count": 49,
     "metadata": {
      "tags": []
     },
     "output_type": "execute_result"
    }
   ],
   "source": [
    "dir(train_data)   # class_names"
   ]
  },
  {
   "cell_type": "code",
   "execution_count": 50,
   "metadata": {
    "colab": {
     "base_uri": "https://localhost:8080/",
     "height": 34
    },
    "id": "vNu-h5MT0Zed",
    "outputId": "1b922c36-eea1-41e2-c9c8-dd58ad9713f4"
   },
   "outputs": [
    {
     "data": {
      "text/plain": [
       "['daisy', 'dandelion', 'roses', 'sunflowers', 'tulips']"
      ]
     },
     "execution_count": 50,
     "metadata": {
      "tags": []
     },
     "output_type": "execute_result"
    }
   ],
   "source": [
    "train_data.class_names  #dir기반으로 class 이름 자동으로 뽑음 "
   ]
  },
  {
   "cell_type": "code",
   "execution_count": 51,
   "metadata": {
    "colab": {
     "base_uri": "https://localhost:8080/",
     "height": 1000
    },
    "id": "esklyAXJ0gGx",
    "outputId": "f90f1be1-f6d2-4e69-8069-07d62c3ed4ed"
   },
   "outputs": [
    {
     "data": {
      "text/plain": [
       "['_GeneratorState',\n",
       " '__abstractmethods__',\n",
       " '__bool__',\n",
       " '__class__',\n",
       " '__delattr__',\n",
       " '__dict__',\n",
       " '__dir__',\n",
       " '__doc__',\n",
       " '__eq__',\n",
       " '__format__',\n",
       " '__ge__',\n",
       " '__getattribute__',\n",
       " '__gt__',\n",
       " '__hash__',\n",
       " '__init__',\n",
       " '__init_subclass__',\n",
       " '__iter__',\n",
       " '__le__',\n",
       " '__len__',\n",
       " '__lt__',\n",
       " '__module__',\n",
       " '__ne__',\n",
       " '__new__',\n",
       " '__nonzero__',\n",
       " '__reduce__',\n",
       " '__reduce_ex__',\n",
       " '__repr__',\n",
       " '__setattr__',\n",
       " '__sizeof__',\n",
       " '__slots__',\n",
       " '__str__',\n",
       " '__subclasshook__',\n",
       " '__weakref__',\n",
       " '_abc_cache',\n",
       " '_abc_negative_cache',\n",
       " '_abc_negative_cache_version',\n",
       " '_abc_registry',\n",
       " '_add_variable_with_custom_getter',\n",
       " '_apply_options',\n",
       " '_as_serialized_graph',\n",
       " '_batch_size',\n",
       " '_checkpoint_dependencies',\n",
       " '_consumers',\n",
       " '_deferred_dependencies',\n",
       " '_drop_remainder',\n",
       " '_flat_shapes',\n",
       " '_flat_structure',\n",
       " '_flat_types',\n",
       " '_functions',\n",
       " '_gather_saveables_for_checkpoint',\n",
       " '_graph',\n",
       " '_graph_attr',\n",
       " '_handle_deferred_dependencies',\n",
       " '_has_captured_ref',\n",
       " '_input_dataset',\n",
       " '_inputs',\n",
       " '_list_extra_dependencies_for_serialization',\n",
       " '_list_functions_for_serialization',\n",
       " '_lookup_dependency',\n",
       " '_map_resources',\n",
       " '_maybe_initialize_trackable',\n",
       " '_name_based_attribute_restore',\n",
       " '_name_based_restores',\n",
       " '_no_dependency',\n",
       " '_object_identifier',\n",
       " '_options_attr',\n",
       " '_preload_simple_restoration',\n",
       " '_restore_from_checkpoint_position',\n",
       " '_self_name_based_restores',\n",
       " '_self_saveable_object_factories',\n",
       " '_self_setattr_tracking',\n",
       " '_self_unconditional_checkpoint_dependencies',\n",
       " '_self_unconditional_deferred_dependencies',\n",
       " '_self_unconditional_dependency_names',\n",
       " '_self_update_uid',\n",
       " '_setattr_tracking',\n",
       " '_shape_invariant_to_type_spec',\n",
       " '_single_restoration_from_checkpoint_position',\n",
       " '_structure',\n",
       " '_tf_api_names',\n",
       " '_tf_api_names_v1',\n",
       " '_trace_variant_creation',\n",
       " '_track_trackable',\n",
       " '_tracking_metadata',\n",
       " '_type_spec',\n",
       " '_unconditional_checkpoint_dependencies',\n",
       " '_unconditional_dependency_names',\n",
       " '_update_uid',\n",
       " '_variant_tensor',\n",
       " '_variant_tensor_attr',\n",
       " '_variant_tracker',\n",
       " 'apply',\n",
       " 'as_numpy_iterator',\n",
       " 'batch',\n",
       " 'cache',\n",
       " 'cardinality',\n",
       " 'class_names',\n",
       " 'concatenate',\n",
       " 'element_spec',\n",
       " 'enumerate',\n",
       " 'filter',\n",
       " 'flat_map',\n",
       " 'from_generator',\n",
       " 'from_tensor_slices',\n",
       " 'from_tensors',\n",
       " 'interleave',\n",
       " 'list_files',\n",
       " 'map',\n",
       " 'options',\n",
       " 'padded_batch',\n",
       " 'prefetch',\n",
       " 'range',\n",
       " 'reduce',\n",
       " 'repeat',\n",
       " 'shard',\n",
       " 'shuffle',\n",
       " 'skip',\n",
       " 'take',\n",
       " 'unbatch',\n",
       " 'window',\n",
       " 'with_options',\n",
       " 'zip']"
      ]
     },
     "execution_count": 51,
     "metadata": {
      "tags": []
     },
     "output_type": "execute_result"
    }
   ],
   "source": [
    "dir(train_data) # __iter__ -> iterable  ,for 사용가능,iterator만들기 가능"
   ]
  },
  {
   "cell_type": "code",
   "execution_count": 52,
   "metadata": {
    "id": "520qmsa90rHI"
   },
   "outputs": [],
   "source": [
    "x= iter(train_data)"
   ]
  },
  {
   "cell_type": "code",
   "execution_count": 53,
   "metadata": {
    "colab": {
     "base_uri": "https://localhost:8080/",
     "height": 1000
    },
    "id": "T67dQwEE01HV",
    "outputId": "23f9f146-8981-4120-b64f-c185faa2fbc1"
   },
   "outputs": [
    {
     "data": {
      "text/plain": [
       "(<tf.Tensor: shape=(32, 180, 180, 3), dtype=float32, numpy=\n",
       " array([[[[0.00000000e+00, 0.00000000e+00, 0.00000000e+00],\n",
       "          [0.00000000e+00, 0.00000000e+00, 0.00000000e+00],\n",
       "          [0.00000000e+00, 0.00000000e+00, 0.00000000e+00],\n",
       "          ...,\n",
       "          [0.00000000e+00, 0.00000000e+00, 0.00000000e+00],\n",
       "          [0.00000000e+00, 0.00000000e+00, 0.00000000e+00],\n",
       "          [0.00000000e+00, 0.00000000e+00, 0.00000000e+00]],\n",
       " \n",
       "         [[0.00000000e+00, 0.00000000e+00, 0.00000000e+00],\n",
       "          [0.00000000e+00, 0.00000000e+00, 0.00000000e+00],\n",
       "          [0.00000000e+00, 0.00000000e+00, 0.00000000e+00],\n",
       "          ...,\n",
       "          [0.00000000e+00, 0.00000000e+00, 0.00000000e+00],\n",
       "          [0.00000000e+00, 0.00000000e+00, 0.00000000e+00],\n",
       "          [0.00000000e+00, 0.00000000e+00, 0.00000000e+00]],\n",
       " \n",
       "         [[0.00000000e+00, 0.00000000e+00, 0.00000000e+00],\n",
       "          [0.00000000e+00, 0.00000000e+00, 0.00000000e+00],\n",
       "          [0.00000000e+00, 0.00000000e+00, 0.00000000e+00],\n",
       "          ...,\n",
       "          [0.00000000e+00, 0.00000000e+00, 0.00000000e+00],\n",
       "          [0.00000000e+00, 0.00000000e+00, 0.00000000e+00],\n",
       "          [0.00000000e+00, 0.00000000e+00, 0.00000000e+00]],\n",
       " \n",
       "         ...,\n",
       " \n",
       "         [[0.00000000e+00, 0.00000000e+00, 0.00000000e+00],\n",
       "          [0.00000000e+00, 0.00000000e+00, 0.00000000e+00],\n",
       "          [0.00000000e+00, 0.00000000e+00, 0.00000000e+00],\n",
       "          ...,\n",
       "          [0.00000000e+00, 0.00000000e+00, 0.00000000e+00],\n",
       "          [0.00000000e+00, 0.00000000e+00, 0.00000000e+00],\n",
       "          [0.00000000e+00, 0.00000000e+00, 0.00000000e+00]],\n",
       " \n",
       "         [[0.00000000e+00, 0.00000000e+00, 0.00000000e+00],\n",
       "          [0.00000000e+00, 0.00000000e+00, 0.00000000e+00],\n",
       "          [0.00000000e+00, 0.00000000e+00, 0.00000000e+00],\n",
       "          ...,\n",
       "          [0.00000000e+00, 0.00000000e+00, 0.00000000e+00],\n",
       "          [0.00000000e+00, 0.00000000e+00, 0.00000000e+00],\n",
       "          [0.00000000e+00, 0.00000000e+00, 0.00000000e+00]],\n",
       " \n",
       "         [[0.00000000e+00, 0.00000000e+00, 0.00000000e+00],\n",
       "          [0.00000000e+00, 0.00000000e+00, 0.00000000e+00],\n",
       "          [0.00000000e+00, 0.00000000e+00, 0.00000000e+00],\n",
       "          ...,\n",
       "          [0.00000000e+00, 0.00000000e+00, 0.00000000e+00],\n",
       "          [0.00000000e+00, 0.00000000e+00, 0.00000000e+00],\n",
       "          [0.00000000e+00, 0.00000000e+00, 0.00000000e+00]]],\n",
       " \n",
       " \n",
       "        [[[1.89520370e+02, 1.89520370e+02, 1.89520370e+02],\n",
       "          [2.23904160e+02, 2.23904160e+02, 2.23904160e+02],\n",
       "          [2.19504639e+02, 2.19504639e+02, 2.19504639e+02],\n",
       "          ...,\n",
       "          [2.18317139e+02, 2.18317139e+02, 2.18317139e+02],\n",
       "          [2.21943115e+02, 2.21943115e+02, 2.21943115e+02],\n",
       "          [1.88337341e+02, 1.88337341e+02, 1.88337341e+02]],\n",
       " \n",
       "         [[2.16248611e+02, 2.16248611e+02, 2.16248611e+02],\n",
       "          [2.53970825e+02, 2.53970825e+02, 2.53970825e+02],\n",
       "          [2.53500000e+02, 2.53500000e+02, 2.53500000e+02],\n",
       "          ...,\n",
       "          [2.51791641e+02, 2.51791641e+02, 2.51791641e+02],\n",
       "          [2.53383362e+02, 2.53383362e+02, 2.53383362e+02],\n",
       "          [2.15258148e+02, 2.15258148e+02, 2.15258148e+02]],\n",
       " \n",
       "         [[2.13793991e+02, 2.13793991e+02, 2.13793991e+02],\n",
       "          [2.53891663e+02, 2.53891663e+02, 2.53891663e+02],\n",
       "          [2.54833328e+02, 2.54833328e+02, 2.54833328e+02],\n",
       "          ...,\n",
       "          [2.54618057e+02, 2.54618057e+02, 2.54618057e+02],\n",
       "          [2.54823608e+02, 2.54823608e+02, 2.54823608e+02],\n",
       "          [2.14630356e+02, 2.14630356e+02, 2.14630356e+02]],\n",
       " \n",
       "         ...,\n",
       " \n",
       "         [[2.16591660e+02, 2.16591660e+02, 2.16591660e+02],\n",
       "          [2.54823608e+02, 2.54823608e+02, 2.54823608e+02],\n",
       "          [2.54682861e+02, 2.54682861e+02, 2.54682861e+02],\n",
       "          ...,\n",
       "          [2.54768524e+02, 2.54768524e+02, 2.54768524e+02],\n",
       "          [2.54833328e+02, 2.54833328e+02, 2.54833328e+02],\n",
       "          [2.13813232e+02, 2.13813232e+02, 2.13813232e+02]],\n",
       " \n",
       "         [[2.16748611e+02, 2.16748611e+02, 2.16748611e+02],\n",
       "          [2.54412506e+02, 2.54412506e+02, 2.54412506e+02],\n",
       "          [2.53000000e+02, 2.53000000e+02, 2.53000000e+02],\n",
       "          ...,\n",
       "          [2.52694427e+02, 2.52694427e+02, 2.52694427e+02],\n",
       "          [2.53912521e+02, 2.53912521e+02, 2.53912521e+02],\n",
       "          [2.15758148e+02, 2.15758148e+02, 2.15758148e+02]],\n",
       " \n",
       "         [[1.87722321e+02, 1.87722321e+02, 1.87722321e+02],\n",
       "          [2.23903778e+02, 2.23903778e+02, 2.23903778e+02],\n",
       "          [2.19488022e+02, 2.19488022e+02, 2.19488022e+02],\n",
       "          ...,\n",
       "          [2.18467194e+02, 2.18467194e+02, 2.18467194e+02],\n",
       "          [2.23678879e+02, 2.23678879e+02, 2.23678879e+02],\n",
       "          [1.89353195e+02, 1.89353195e+02, 1.89353195e+02]]],\n",
       " \n",
       " \n",
       "        [[[0.00000000e+00, 0.00000000e+00, 0.00000000e+00],\n",
       "          [0.00000000e+00, 0.00000000e+00, 0.00000000e+00],\n",
       "          [0.00000000e+00, 0.00000000e+00, 0.00000000e+00],\n",
       "          ...,\n",
       "          [0.00000000e+00, 0.00000000e+00, 0.00000000e+00],\n",
       "          [0.00000000e+00, 0.00000000e+00, 0.00000000e+00],\n",
       "          [0.00000000e+00, 0.00000000e+00, 0.00000000e+00]],\n",
       " \n",
       "         [[0.00000000e+00, 0.00000000e+00, 0.00000000e+00],\n",
       "          [0.00000000e+00, 0.00000000e+00, 0.00000000e+00],\n",
       "          [0.00000000e+00, 0.00000000e+00, 0.00000000e+00],\n",
       "          ...,\n",
       "          [0.00000000e+00, 0.00000000e+00, 0.00000000e+00],\n",
       "          [0.00000000e+00, 0.00000000e+00, 0.00000000e+00],\n",
       "          [0.00000000e+00, 0.00000000e+00, 0.00000000e+00]],\n",
       " \n",
       "         [[0.00000000e+00, 0.00000000e+00, 0.00000000e+00],\n",
       "          [0.00000000e+00, 0.00000000e+00, 0.00000000e+00],\n",
       "          [0.00000000e+00, 0.00000000e+00, 0.00000000e+00],\n",
       "          ...,\n",
       "          [0.00000000e+00, 0.00000000e+00, 0.00000000e+00],\n",
       "          [0.00000000e+00, 0.00000000e+00, 0.00000000e+00],\n",
       "          [0.00000000e+00, 0.00000000e+00, 0.00000000e+00]],\n",
       " \n",
       "         ...,\n",
       " \n",
       "         [[0.00000000e+00, 0.00000000e+00, 0.00000000e+00],\n",
       "          [0.00000000e+00, 0.00000000e+00, 0.00000000e+00],\n",
       "          [0.00000000e+00, 0.00000000e+00, 0.00000000e+00],\n",
       "          ...,\n",
       "          [0.00000000e+00, 0.00000000e+00, 0.00000000e+00],\n",
       "          [0.00000000e+00, 0.00000000e+00, 0.00000000e+00],\n",
       "          [0.00000000e+00, 0.00000000e+00, 0.00000000e+00]],\n",
       " \n",
       "         [[0.00000000e+00, 0.00000000e+00, 0.00000000e+00],\n",
       "          [0.00000000e+00, 0.00000000e+00, 0.00000000e+00],\n",
       "          [0.00000000e+00, 0.00000000e+00, 0.00000000e+00],\n",
       "          ...,\n",
       "          [0.00000000e+00, 0.00000000e+00, 0.00000000e+00],\n",
       "          [0.00000000e+00, 0.00000000e+00, 0.00000000e+00],\n",
       "          [0.00000000e+00, 0.00000000e+00, 0.00000000e+00]],\n",
       " \n",
       "         [[0.00000000e+00, 0.00000000e+00, 0.00000000e+00],\n",
       "          [0.00000000e+00, 0.00000000e+00, 0.00000000e+00],\n",
       "          [0.00000000e+00, 0.00000000e+00, 0.00000000e+00],\n",
       "          ...,\n",
       "          [0.00000000e+00, 0.00000000e+00, 0.00000000e+00],\n",
       "          [0.00000000e+00, 0.00000000e+00, 0.00000000e+00],\n",
       "          [0.00000000e+00, 0.00000000e+00, 0.00000000e+00]]],\n",
       " \n",
       " \n",
       "        ...,\n",
       " \n",
       " \n",
       "        [[[1.38126545e+01, 3.24043236e+01, 1.13086414e+00],\n",
       "          [2.06805553e+01, 3.76805573e+01, 3.68055558e+00],\n",
       "          [9.53333569e+00, 2.55333366e+01, 1.06975365e+00],\n",
       "          ...,\n",
       "          [3.32367554e+01, 3.02367535e+01, 2.32367535e+01],\n",
       "          [2.97417068e+01, 2.60750809e+01, 1.80750198e+01],\n",
       "          [2.22821293e+01, 1.79942379e+01, 8.86803341e+00]],\n",
       " \n",
       "         [[1.53537035e+01, 3.13537025e+01, 3.39259243e+00],\n",
       "          [2.90833340e+01, 4.52666664e+01, 1.16750002e+01],\n",
       "          [2.25694485e+01, 3.73444481e+01, 8.82500267e+00],\n",
       "          ...,\n",
       "          [3.64879723e+01, 3.34879723e+01, 2.56713047e+01],\n",
       "          [3.38306046e+01, 3.03000813e+01, 2.18917122e+01],\n",
       "          [2.63658066e+01, 2.23658066e+01, 1.31436386e+01]],\n",
       " \n",
       "         [[1.64320984e+01, 3.10709877e+01, 5.65432119e+00],\n",
       "          [4.33935204e+01, 5.63518524e+01, 2.28981495e+01],\n",
       "          [4.26358070e+01, 5.42746964e+01, 2.31975365e+01],\n",
       "          ...,\n",
       "          [3.86805573e+01, 3.56805573e+01, 2.66805553e+01],\n",
       "          [3.75880508e+01, 3.49352951e+01, 2.45741425e+01],\n",
       "          [2.93473034e+01, 2.53473034e+01, 1.61251354e+01]],\n",
       " \n",
       "         ...,\n",
       " \n",
       "         [[1.86243835e+02, 1.75966003e+02, 1.32327087e+02],\n",
       "          [1.91212967e+02, 1.76828659e+02, 1.31444336e+02],\n",
       "          [1.92697540e+02, 1.74739166e+02, 1.27898033e+02],\n",
       "          ...,\n",
       "          [6.20185013e+01, 4.50215721e+01, 1.29074173e+01],\n",
       "          [4.88565826e+01, 3.77223129e+01, 1.71343727e+01],\n",
       "          [4.61527100e+01, 3.61110840e+01, 1.77916260e+01]],\n",
       " \n",
       "         [[1.88117599e+02, 1.72290726e+02, 1.25449951e+02],\n",
       "          [1.91272217e+02, 1.71966629e+02, 1.20477699e+02],\n",
       "          [1.92145355e+02, 1.70962006e+02, 1.16148994e+02],\n",
       "          ...,\n",
       "          [4.98814507e+01, 3.65203514e+01, 1.08823757e+01],\n",
       "          [4.12528229e+01, 3.22388992e+01, 1.40278482e+01],\n",
       "          [4.06267624e+01, 3.32184372e+01, 1.42184353e+01]],\n",
       " \n",
       "         [[1.89752792e+02, 1.68519394e+02, 1.18776459e+02],\n",
       "          [1.90424057e+02, 1.66589737e+02, 1.10907288e+02],\n",
       "          [1.91075607e+02, 1.66483887e+02, 1.03376053e+02],\n",
       "          ...,\n",
       "          [4.07054749e+01, 3.10091915e+01, 1.09749908e+01],\n",
       "          [3.46351662e+01, 2.74537029e+01, 1.03630314e+01],\n",
       "          [3.56304474e+01, 2.86304474e+01, 9.72641373e+00]]],\n",
       " \n",
       " \n",
       "        [[[1.90833328e+02, 1.91833328e+02, 1.86333328e+02],\n",
       "          [1.46166672e+02, 1.47333328e+02, 1.38500000e+02],\n",
       "          [1.52833328e+02, 1.54833328e+02, 1.43333328e+02],\n",
       "          ...,\n",
       "          [1.62000000e+02, 1.64000000e+02, 1.51000000e+02],\n",
       "          [1.40833328e+02, 1.42833328e+02, 1.29833328e+02],\n",
       "          [1.92500000e+02, 1.94500000e+02, 1.83500000e+02]],\n",
       " \n",
       "         [[1.60000000e+02, 1.61500000e+02, 1.50500000e+02],\n",
       "          [1.03000000e+02, 1.05500000e+02, 9.05000000e+01],\n",
       "          [1.20500000e+02, 1.23000000e+02, 1.06500000e+02],\n",
       "          ...,\n",
       "          [1.18000000e+02, 1.20000000e+02, 1.06500000e+02],\n",
       "          [1.02500000e+02, 1.04500000e+02, 9.15000000e+01],\n",
       "          [1.58500000e+02, 1.60500000e+02, 1.48500000e+02]],\n",
       " \n",
       "         [[1.66666672e+02, 1.68666672e+02, 1.54666672e+02],\n",
       "          [1.05666664e+02, 1.08666664e+02, 9.00000000e+01],\n",
       "          [1.20666664e+02, 1.23666664e+02, 1.04666664e+02],\n",
       "          ...,\n",
       "          [1.21500000e+02, 1.23500000e+02, 1.09500000e+02],\n",
       "          [1.08333336e+02, 1.10333336e+02, 9.73333359e+01],\n",
       "          [1.64500000e+02, 1.66500000e+02, 1.53500000e+02]],\n",
       " \n",
       "         ...,\n",
       " \n",
       "         [[1.67166641e+02, 1.69166641e+02, 1.56166641e+02],\n",
       "          [1.05833328e+02, 1.07833328e+02, 9.48333282e+01],\n",
       "          [1.26500046e+02, 1.28500046e+02, 1.15500046e+02],\n",
       "          ...,\n",
       "          [1.19166702e+02, 1.22000031e+02, 1.05500046e+02],\n",
       "          [1.10000031e+02, 1.12000031e+02, 9.81667023e+01],\n",
       "          [1.63833359e+02, 1.65833359e+02, 1.52000031e+02]],\n",
       " \n",
       "         [[1.61000000e+02, 1.63000000e+02, 1.50000000e+02],\n",
       "          [9.95000000e+01, 1.01500000e+02, 8.85000000e+01],\n",
       "          [1.21000000e+02, 1.23000000e+02, 1.10000000e+02],\n",
       "          ...,\n",
       "          [1.17000000e+02, 1.19000000e+02, 1.05500000e+02],\n",
       "          [1.06000000e+02, 1.08000000e+02, 9.50000000e+01],\n",
       "          [1.58500000e+02, 1.60500000e+02, 1.48500000e+02]],\n",
       " \n",
       "         [[1.89833710e+02, 1.91833710e+02, 1.78833710e+02],\n",
       "          [1.48167328e+02, 1.50167328e+02, 1.37167328e+02],\n",
       "          [1.58833954e+02, 1.60833954e+02, 1.47833954e+02],\n",
       "          ...,\n",
       "          [1.62333984e+02, 1.64333984e+02, 1.53000671e+02],\n",
       "          [1.44500580e+02, 1.46500580e+02, 1.35167267e+02],\n",
       "          [1.91500519e+02, 1.93500519e+02, 1.82500519e+02]]],\n",
       " \n",
       " \n",
       "        [[[0.00000000e+00, 2.00000000e+00, 0.00000000e+00],\n",
       "          [0.00000000e+00, 1.85833323e+00, 0.00000000e+00],\n",
       "          [2.55555391e-01, 2.25555539e+00, 0.00000000e+00],\n",
       "          ...,\n",
       "          [8.92510414e+00, 4.41390991e+00, 9.44473267e-01],\n",
       "          [0.00000000e+00, 3.57500005e+00, 5.66632092e-01],\n",
       "          [0.00000000e+00, 1.14163208e+00, 1.65278935e+00]],\n",
       " \n",
       "         [[0.00000000e+00, 2.00000000e+00, 0.00000000e+00],\n",
       "          [0.00000000e+00, 2.00000000e+00, 0.00000000e+00],\n",
       "          [0.00000000e+00, 2.00000000e+00, 0.00000000e+00],\n",
       "          ...,\n",
       "          [4.58473969e+01, 7.76953459e+00, 1.57782602e+00],\n",
       "          [2.95335522e+01, 6.24168539e+00, 2.24166870e+00],\n",
       "          [1.30416603e+01, 4.33612108e+00, 6.10962138e-02]],\n",
       " \n",
       "         [[0.00000000e+00, 2.00000000e+00, 0.00000000e+00],\n",
       "          [0.00000000e+00, 2.00000000e+00, 0.00000000e+00],\n",
       "          [0.00000000e+00, 2.00000000e+00, 0.00000000e+00],\n",
       "          ...,\n",
       "          [8.79724579e+01, 8.95822144e+00, 4.51390076e+00],\n",
       "          [8.12918625e+01, 1.10833282e+01, 1.99994659e+00],\n",
       "          [6.14028015e+01, 8.97225952e+00, 5.27770996e-01]],\n",
       " \n",
       "         ...,\n",
       " \n",
       "         [[0.00000000e+00, 1.34722233e+00, 0.00000000e+00],\n",
       "          [0.00000000e+00, 1.41666675e+00, 0.00000000e+00],\n",
       "          [5.55555224e-02, 1.66666687e+00, 0.00000000e+00],\n",
       "          ...,\n",
       "          [1.60692596e+01, 1.06942749e+00, 1.52774048e+00],\n",
       "          [8.33358765e-02, 2.45834351e+00, 4.16679382e-01],\n",
       "          [1.55560303e+00, 3.26394653e+00, 7.77801514e-01]],\n",
       " \n",
       "         [[1.11111164e-01, 1.86667216e+00, 0.00000000e+00],\n",
       "          [0.00000000e+00, 2.00000000e+00, 0.00000000e+00],\n",
       "          [0.00000000e+00, 1.55555582e+00, 0.00000000e+00],\n",
       "          ...,\n",
       "          [1.17614365e+01, 2.89450097e+00, 9.66704309e-01],\n",
       "          [9.66615796e-01, 3.02497911e+00, 4.83352154e-01],\n",
       "          [3.06677103e+00, 4.23068094e+00, 2.44446486e-01]],\n",
       " \n",
       "         [[0.00000000e+00, 1.22222233e+00, 0.00000000e+00],\n",
       "          [0.00000000e+00, 1.33333349e+00, 0.00000000e+00],\n",
       "          [0.00000000e+00, 1.55555582e+00, 0.00000000e+00],\n",
       "          ...,\n",
       "          [5.11640358e+01, 9.10834885e+00, 3.08607411e+00],\n",
       "          [2.76758347e+01, 6.99171638e+00, 1.23335469e+00],\n",
       "          [6.08346701e+00, 5.08346701e+00, 1.40005362e+00]]]],\n",
       "       dtype=float32)>, <tf.Tensor: shape=(32,), dtype=int32, numpy=\n",
       " array([4, 1, 1, 4, 3, 1, 0, 1, 4, 0, 3, 2, 4, 0, 1, 2, 3, 1, 1, 2, 1, 1,\n",
       "        1, 2, 4, 3, 3, 2, 1, 0, 4, 2], dtype=int32)>)"
      ]
     },
     "execution_count": 53,
     "metadata": {
      "tags": []
     },
     "output_type": "execute_result"
    }
   ],
   "source": [
    "next(x) #(32,180,180,3)    ->  len techniuqe ->unpacking "
   ]
  },
  {
   "cell_type": "code",
   "execution_count": 54,
   "metadata": {
    "colab": {
     "base_uri": "https://localhost:8080/",
     "height": 34
    },
    "id": "1tBykF0X01r8",
    "outputId": "7619353a-133b-4a4e-fe56-6ebaa3a0b101"
   },
   "outputs": [
    {
     "data": {
      "text/plain": [
       "2"
      ]
     },
     "execution_count": 54,
     "metadata": {
      "tags": []
     },
     "output_type": "execute_result"
    }
   ],
   "source": [
    "len(next(x)) #len techniuqe"
   ]
  },
  {
   "cell_type": "code",
   "execution_count": 55,
   "metadata": {
    "id": "_vanMn601BKN"
   },
   "outputs": [],
   "source": [
    "a,b=next(x)  # unpacking : train, label 분할"
   ]
  },
  {
   "cell_type": "code",
   "execution_count": 56,
   "metadata": {
    "colab": {
     "base_uri": "https://localhost:8080/",
     "height": 68
    },
    "id": "iX84Born1E-2",
    "outputId": "4a093b94-4912-4078-d6c8-c83e803df8ad"
   },
   "outputs": [
    {
     "data": {
      "text/plain": [
       "<tf.Tensor: shape=(32,), dtype=int32, numpy=\n",
       "array([3, 2, 3, 1, 3, 1, 4, 2, 2, 0, 0, 3, 0, 1, 4, 2, 4, 2, 2, 0, 4, 1,\n",
       "       2, 4, 4, 4, 4, 1, 2, 4, 2, 3], dtype=int32)>"
      ]
     },
     "execution_count": 56,
     "metadata": {
      "tags": []
     },
     "output_type": "execute_result"
    }
   ],
   "source": [
    "b #32개의 라벨"
   ]
  },
  {
   "cell_type": "code",
   "execution_count": 57,
   "metadata": {
    "colab": {
     "base_uri": "https://localhost:8080/",
     "height": 1000
    },
    "id": "VPEpDeZM1VX3",
    "outputId": "c1368769-eebd-454a-918d-8785975c1ad9"
   },
   "outputs": [
    {
     "name": "stdout",
     "output_type": "stream",
     "text": [
      "(<tf.Tensor: shape=(32, 180, 180, 3), dtype=float32, numpy=\n",
      "array([[[[233.26666  , 205.67407  , 210.62222  ],\n",
      "         [228.54074  , 199.1852   , 211.45184  ],\n",
      "         [222.90865  , 159.76544  , 190.92099  ],\n",
      "         ...,\n",
      "         [202.81235  , 173.29874  , 169.55554  ],\n",
      "         [203.57788  , 174.14073  , 174.19261  ],\n",
      "         [198.35805  , 177.58022  , 174.46913  ]],\n",
      "\n",
      "        [[228.87408  , 196.77777  , 201.6148   ],\n",
      "         [225.2889   , 182.48889  , 202.15556  ],\n",
      "         [218.92593  , 147.63704  , 185.05185  ],\n",
      "         ...,\n",
      "         [200.67406  , 171.99257  , 168.11108  ],\n",
      "         [202.64444  , 175.66663  , 174.66663  ],\n",
      "         [201.56296  , 180.78513  , 177.67404  ]],\n",
      "\n",
      "        [[228.321    , 182.90125  , 193.87654  ],\n",
      "         [223.55556  , 161.81482  , 193.66666  ],\n",
      "         [217.83951  , 140.03703  , 178.92592  ],\n",
      "         ...,\n",
      "         [201.12346  , 171.72835  , 168.1728   ],\n",
      "         [204.18518  , 176.70366  , 175.77774  ],\n",
      "         [204.34564  , 183.56781  , 180.45673  ]],\n",
      "\n",
      "        ...,\n",
      "\n",
      "        [[105.28396  , 138.09877  , 113.19753  ],\n",
      "         [ 91.74075  , 113.407425 , 100.592606 ],\n",
      "         [ 58.41977  ,  90.82716  ,  57.086426 ],\n",
      "         ...,\n",
      "         [ 22.629583 ,  68.70391  ,  38.172977 ],\n",
      "         [ 83.29638  , 114.37007  ,  90.37017  ],\n",
      "         [ 37.246704 ,  73.18511  ,  11.901262 ]],\n",
      "\n",
      "        [[108.85926  , 140.08148  , 121.748146 ],\n",
      "         [ 85.46666  , 120.79999  , 103.79999  ],\n",
      "         [ 62.866642 ,  83.31109  ,  56.866646 ],\n",
      "         ...,\n",
      "         [ 28.518759 ,  60.503613 ,  29.48167  ],\n",
      "         [ 71.600395 , 118.266945 ,  82.55627  ],\n",
      "         [ 40.14034  ,  70.65891  ,  16.370157 ]],\n",
      "\n",
      "        [[108.66174  , 139.88396  , 121.55063  ],\n",
      "         [ 79.45931  , 114.79265  ,  97.79265  ],\n",
      "         [ 52.338352 ,  72.7828   ,  46.338352 ],\n",
      "         ...,\n",
      "         [ 35.71358  ,  63.928356 ,  31.881697 ],\n",
      "         [ 63.623177 , 111.00843  ,  68.80147  ],\n",
      "         [ 45.27624  ,  71.138    ,  14.444336 ]]],\n",
      "\n",
      "\n",
      "       [[[249.04784  , 253.09569  , 251.95216  ],\n",
      "         [248.81018  , 252.81018  , 253.81018  ],\n",
      "         [247.98611  , 251.98611  , 252.98611  ],\n",
      "         ...,\n",
      "         [241.44446  , 244.44446  , 252.55554  ],\n",
      "         [236.90741  , 237.90747  , 250.9537   ],\n",
      "         [231.82565  , 230.82565  , 248.82565  ]],\n",
      "\n",
      "        [[250.11111  , 255.       , 251.11111  ],\n",
      "         [249.47223  , 253.47223  , 253.41667  ],\n",
      "         [248.87038  , 252.87038  , 253.87038  ],\n",
      "         ...,\n",
      "         [241.83797  , 244.83797  , 251.83797  ],\n",
      "         [239.7639   , 241.29173  , 252.51395  ],\n",
      "         [232.51857  , 232.36116  , 249.58336  ]],\n",
      "\n",
      "        [[251.84723  , 253.84723  , 250.84723  ],\n",
      "         [249.71759  , 252.84723  , 251.84723  ],\n",
      "         [247.77933  , 251.77933  , 252.91513  ],\n",
      "         ...,\n",
      "         [241.9321   , 244.9321   , 252.10185  ],\n",
      "         [239.2824   , 242.2824   , 251.2824   ],\n",
      "         [233.64203  , 235.39514  , 251.1358   ]],\n",
      "\n",
      "        ...,\n",
      "\n",
      "        [[ 74.740776 ,  63.32407  ,   7.8827314],\n",
      "         [ 71.194374 ,  64.79165  ,   8.671327 ],\n",
      "         [ 70.53858  ,  63.14506  ,   9.742274 ],\n",
      "         ...,\n",
      "         [209.65128  , 202.66824  , 218.4306   ],\n",
      "         [206.31021  , 199.36115  , 215.00468  ],\n",
      "         [202.22992  , 193.50623  , 208.20844  ]],\n",
      "\n",
      "        [[ 74.16666  ,  64.82405  ,   4.2962785],\n",
      "         [ 66.722206 ,  61.416687 ,   5.375011 ],\n",
      "         [ 70.10649  ,  60.57869  ,  10.481473 ],\n",
      "         ...,\n",
      "         [210.18057  , 203.18057  , 220.59726  ],\n",
      "         [207.56943  , 199.62503  , 215.86113  ],\n",
      "         [202.62965  , 192.40742  , 206.66669  ]],\n",
      "\n",
      "        [[ 70.074005 ,  62.52315  ,   8.222222 ],\n",
      "         [ 66.9954   ,  60.527752 ,   5.3980308],\n",
      "         [ 72.378105 ,  63.248493 ,  11.199125 ],\n",
      "         ...,\n",
      "         [208.31946  , 201.31946  , 219.31946  ],\n",
      "         [205.71751  , 198.3334   , 214.85649  ],\n",
      "         [202.5911   , 191.2562   , 206.12512  ]]],\n",
      "\n",
      "\n",
      "       [[[207.16667  , 228.16667  , 233.16667  ],\n",
      "         [208.16667  , 229.16667  , 234.16667  ],\n",
      "         [210.       , 231.       , 236.       ],\n",
      "         ...,\n",
      "         [ 32.666668 ,  46.166668 ,  16.333334 ],\n",
      "         [ 16.       ,  31.166666 ,   1.3333335],\n",
      "         [ 23.333334 ,  41.833332 ,  12.333334 ]],\n",
      "\n",
      "        [[208.5      , 229.5      , 234.5      ],\n",
      "         [209.5      , 230.5      , 235.5      ],\n",
      "         [210.5      , 231.5      , 236.5      ],\n",
      "         ...,\n",
      "         [ 23.5      ,  41.5      ,  13.5      ],\n",
      "         [ 19.5      ,  36.5      ,   9.       ],\n",
      "         [ 28.       ,  42.       ,  16.5      ]],\n",
      "\n",
      "        [[209.83333  , 230.83333  , 235.83333  ],\n",
      "         [210.83333  , 231.83333  , 236.83333  ],\n",
      "         [211.83333  , 232.83333  , 237.83333  ],\n",
      "         ...,\n",
      "         [ 21.833334 ,  44.333336 ,  16.5      ],\n",
      "         [ 19.666668 ,  41.833336 ,  14.166668 ],\n",
      "         [ 20.166666 ,  30.499998 ,   6.4999986]],\n",
      "\n",
      "        ...,\n",
      "\n",
      "        [[ 40.666718 ,  84.1667   ,  25.333374 ],\n",
      "         [ 43.500046 ,  84.500046 ,  26.500046 ],\n",
      "         [ 44.166733 ,  85.16673  ,  27.166733 ],\n",
      "         ...,\n",
      "         [ 17.       ,  28.       ,  12.       ],\n",
      "         [ 17.       ,  28.       ,  12.       ],\n",
      "         [ 17.       ,  28.       ,  12.       ]],\n",
      "\n",
      "        [[ 59.       ,  99.       ,  43.5      ],\n",
      "         [ 60.       , 100.       ,  44.5      ],\n",
      "         [ 62.       , 102.       ,  46.5      ],\n",
      "         ...,\n",
      "         [ 17.       ,  28.       ,  12.       ],\n",
      "         [ 17.       ,  28.       ,  12.       ],\n",
      "         [ 17.       ,  28.       ,  12.       ]],\n",
      "\n",
      "        [[ 49.8331   ,  86.33307  ,  37.499786 ],\n",
      "         [ 48.166412 ,  84.66638  ,  35.8331   ],\n",
      "         [ 47.33307  ,  85.499725 ,  35.8331   ],\n",
      "         ...,\n",
      "         [ 16.166656 ,  27.166656 ,  11.1666565],\n",
      "         [ 15.333313 ,  26.333313 ,  10.333313 ],\n",
      "         [ 15.333313 ,  26.333313 ,  10.333313 ]]],\n",
      "\n",
      "\n",
      "       ...,\n",
      "\n",
      "\n",
      "       [[[125.93611  , 107.63334  ,  24.666666 ],\n",
      "         [136.85     , 125.225    ,  74.34166  ],\n",
      "         [137.01944  , 128.07222  ,  78.18056  ],\n",
      "         ...,\n",
      "         [234.6611   , 247.81111  , 223.2361   ],\n",
      "         [233.15002  , 247.33334  , 222.38335  ],\n",
      "         [233.33891  , 248.73892  , 223.46391  ]],\n",
      "\n",
      "        [[137.17223  , 115.71666  ,  23.39722  ],\n",
      "         [129.75     , 104.166664 ,  31.383331 ],\n",
      "         [193.1611   , 138.26111  ,  52.80833  ],\n",
      "         ...,\n",
      "         [227.61946  , 248.       , 220.9      ],\n",
      "         [222.25017  , 246.84998  , 218.41672  ],\n",
      "         [216.71947  , 247.36946  , 216.81946  ]],\n",
      "\n",
      "        [[123.43055  ,  99.61111  ,  32.09722  ],\n",
      "         [151.66667  , 138.5      ,  42.916668 ],\n",
      "         [137.54166  , 137.22223  ,  31.51389  ],\n",
      "         ...,\n",
      "         [212.125    , 246.875    , 215.       ],\n",
      "         [211.66666  , 247.62502  , 214.79169  ],\n",
      "         [212.125    , 247.       , 214.       ]],\n",
      "\n",
      "        ...,\n",
      "\n",
      "        [[ 72.40278  ,  28.305555 ,  23.583334 ],\n",
      "         [ 88.083336 ,  44.291668 ,  39.166668 ],\n",
      "         [ 83.75     ,  51.13889  ,  35.847225 ],\n",
      "         ...,\n",
      "         [243.22186  ,  59.875076 ,  63.625122 ],\n",
      "         [246.45886  ,  63.041763 ,  66.00015  ],\n",
      "         [175.62543  ,  71.5278   ,  78.527435 ]],\n",
      "\n",
      "        [[ 84.95277  ,  43.46389  ,  37.68611  ],\n",
      "         [ 84.19164  ,  48.391674 ,  32.68329  ],\n",
      "         [ 76.10834  ,  45.10834  ,  25.413889 ],\n",
      "         ...,\n",
      "         [243.12186  ,  64.188995 ,  66.64459  ],\n",
      "         [243.75902  ,  69.50845  ,  69.483444 ],\n",
      "         [174.5393   ,  75.4223   ,  82.64139  ]],\n",
      "\n",
      "        [[ 81.2889   ,  44.663933 ,  29.46106  ],\n",
      "         [ 70.44991  ,  43.55829  ,  17.108215 ],\n",
      "         [ 65.61098  ,  34.35542  ,  17.161013 ],\n",
      "         ...,\n",
      "         [241.91068  ,  70.23622  ,  68.544586 ],\n",
      "         [242.0508   ,  76.00012  ,  72.758484 ],\n",
      "         [170.40869  ,  75.31949  ,  79.82745  ]]],\n",
      "\n",
      "\n",
      "       [[[ 65.27407  ,  73.88025  ,  16.780247 ],\n",
      "         [ 71.86667  ,  83.41111  ,  11.44815  ],\n",
      "         [ 69.09876  ,  69.85679  ,  14.476543 ],\n",
      "         ...,\n",
      "         [ 84.60618  , 100.29257  ,  42.0839   ],\n",
      "         [ 71.54428  ,  84.592415 ,  33.281406 ],\n",
      "         [ 76.79635  ,  86.70129  ,  60.647007 ]],\n",
      "\n",
      "        [[ 77.21111  ,  99.08148  ,   7.988889 ],\n",
      "         [100.844444 , 122.2      ,  33.666668 ],\n",
      "         [ 68.82593  ,  79.292595 ,  16.366667 ],\n",
      "         ...,\n",
      "         [ 41.967064 ,  56.85592  ,  24.067013 ],\n",
      "         [ 87.34473  , 100.122505 ,  69.389206 ],\n",
      "         [102.63697  , 113.99993  ,  98.05181  ]],\n",
      "\n",
      "        [[110.740746 , 133.33333  ,  42.771603 ],\n",
      "         [102.24073  , 125.481476 ,  35.629623 ],\n",
      "         [ 72.5679   ,  88.012344 ,  15.746912 ],\n",
      "         ...,\n",
      "         [ 48.61181  ,  63.44516  ,  33.154915 ],\n",
      "         [ 78.259155 ,  94.59249  ,  53.870228 ],\n",
      "         [ 78.72844  ,  95.3951   ,  53.790176 ]],\n",
      "\n",
      "        ...,\n",
      "\n",
      "        [[148.3334   , 171.4075   ,  81.58657  ],\n",
      "         [101.036995 , 115.14808  ,  24.814604 ],\n",
      "         [ 97.43844  , 109.493935 ,  13.642045 ],\n",
      "         ...,\n",
      "         [122.56808  , 138.67305  ,  63.000008 ],\n",
      "         [179.22263  , 198.03738  , 104.35229  ],\n",
      "         [157.21558  , 176.53651  ,  89.71573  ]],\n",
      "\n",
      "        [[138.40733  , 161.42216  ,  61.851807 ],\n",
      "         [108.98877  , 125.69988  ,  32.622112 ],\n",
      "         [144.20723  , 160.41833  ,  60.33687  ],\n",
      "         ...,\n",
      "         [156.6371   , 173.2742   ,  93.33329  ],\n",
      "         [168.86705  , 190.9004   ,  95.07811  ],\n",
      "         [165.6556   , 188.24818  ,  99.26671  ]],\n",
      "\n",
      "        [[151.2111   , 173.04445  ,  70.98889  ],\n",
      "         [147.6259   , 164.45923  ,  69.792564 ],\n",
      "         [165.49756  , 182.442    ,  78.77533  ],\n",
      "         ...,\n",
      "         [164.47017  , 180.47519  ,  93.54675  ],\n",
      "         [148.8332   , 171.57768  ,  80.84804  ],\n",
      "         [144.8605   , 169.22717  ,  86.04199  ]]],\n",
      "\n",
      "\n",
      "       [[[ 52.136112 ,  96.64445  ,  67.65741  ],\n",
      "         [ 28.747223 ,  70.56111  ,  43.48889  ],\n",
      "         [ 27.793516 ,  51.17315  ,  38.11759  ],\n",
      "         ...,\n",
      "         [ 54.763004 ,  90.553696 ,  30.766579 ],\n",
      "         [ 44.080708 ,  89.22494  ,  44.51678  ],\n",
      "         [ 51.265633 ,  95.00463  ,  40.07971  ]],\n",
      "\n",
      "        [[ 32.56667  ,  73.09722  ,  48.577778 ],\n",
      "         [ 38.516666 ,  51.958336 ,  34.35     ],\n",
      "         [ 28.95     ,  55.380554 ,  24.758337 ],\n",
      "         ...,\n",
      "         [ 45.294407 ,  92.533264 ,  33.18615  ],\n",
      "         [ 57.483418 ,  91.424904 ,  40.799767 ],\n",
      "         [ 57.355278 ,  94.658226 ,  47.755424 ]],\n",
      "\n",
      "        [[ 33.949066 ,  61.300926 ,  37.074074 ],\n",
      "         [ 31.361113 ,  54.59722  ,  35.625    ],\n",
      "         [ 28.296299 ,  55.851856 ,  38.22222  ],\n",
      "         ...,\n",
      "         [ 48.425842 ,  97.44897  ,  36.31501  ],\n",
      "         [ 58.63888  ,  91.27772  ,  46.014    ],\n",
      "         [ 55.958183 , 100.34254  ,  45.430534 ]],\n",
      "\n",
      "        ...,\n",
      "\n",
      "        [[137.31534  , 143.70879  , 138.91718  ],\n",
      "         [117.18069  , 105.69437  , 115.72222  ],\n",
      "         [120.44002  , 157.17155  , 155.50494  ],\n",
      "         ...,\n",
      "         [ 32.89817  ,  54.921436 ,  17.083315 ],\n",
      "         [ 19.708525 ,  16.027767 ,  12.458585 ],\n",
      "         [  2.0925643,  19.421192 ,   2.768574 ]],\n",
      "\n",
      "        [[124.90806  , 157.56679  , 134.48586  ],\n",
      "         [ 62.215096 ,  45.86491  ,  52.73145  ],\n",
      "         [128.66634  , 148.32729  , 123.65148  ],\n",
      "         ...,\n",
      "         [ 46.283596 ,  51.969517 ,  23.811329 ],\n",
      "         [ 18.275293 ,  20.833345 ,  10.833501 ],\n",
      "         [  9.613958 ,  25.63916  ,   3.2389805]],\n",
      "\n",
      "        [[ 90.06112  , 106.04251  ,  80.13325  ],\n",
      "         [ 86.19458  ,  95.675255 ,  63.105713 ],\n",
      "         [ 95.62945  , 125.427704 ,  71.61931  ],\n",
      "         ...,\n",
      "         [ 43.954006 ,  39.645794 ,  20.908575 ],\n",
      "         [  9.2470455,  20.822289 ,   6.1637683],\n",
      "         [  7.0063953,  19.260986 ,   1.8620088]]]], dtype=float32)>, <tf.Tensor: shape=(32,), dtype=int32, numpy=\n",
      "array([4, 4, 2, 1, 2, 1, 3, 0, 0, 0, 0, 3, 3, 2, 0, 1, 0, 1, 1, 3, 4, 2,\n",
      "       1, 3, 3, 4, 0, 0, 4, 4, 3, 0], dtype=int32)>)\n"
     ]
    }
   ],
   "source": [
    " #너무 오래걸f리므로 i이용해서 1개\n",
    "for i in train_data: \n",
    "  print(i)\n",
    "  break"
   ]
  },
  {
   "cell_type": "code",
   "execution_count": 58,
   "metadata": {
    "colab": {
     "base_uri": "https://localhost:8080/",
     "height": 1000
    },
    "id": "JvSJA07h1g_n",
    "outputId": "95b41a88-1cbf-4951-9a40-1fa27784688b"
   },
   "outputs": [
    {
     "name": "stdout",
     "output_type": "stream",
     "text": [
      "tf.Tensor(\n",
      "[[[[1.55836426e+02 1.51651535e+02 1.56268204e+02]\n",
      "   [1.76121292e+02 1.79504639e+02 1.75880554e+02]\n",
      "   [9.71410599e+01 1.08910500e+02 1.05909882e+02]\n",
      "   ...\n",
      "   [1.61650986e+02 1.75984116e+02 1.76230591e+02]\n",
      "   [2.14556702e+02 2.10457230e+02 2.08301666e+02]\n",
      "   [1.87796478e+02 1.81764694e+02 1.75164047e+02]]\n",
      "\n",
      "  [[1.78165726e+02 1.83326843e+02 1.76977768e+02]\n",
      "   [1.01480545e+02 1.24247208e+02 1.13405540e+02]\n",
      "   [1.49768509e+02 1.34399994e+02 1.46667587e+02]\n",
      "   ...\n",
      "   [1.82628403e+02 1.89901398e+02 1.87883820e+02]\n",
      "   [2.09963211e+02 2.08266342e+02 1.90777313e+02]\n",
      "   [1.25022713e+02 1.14576035e+02 1.20017029e+02]]\n",
      "\n",
      "  [[1.72282410e+02 1.64192902e+02 1.63788574e+02]\n",
      "   [4.01388893e+01 3.44398155e+01 4.35601845e+01]\n",
      "   [1.27188271e+02 1.34126556e+02 1.37202164e+02]\n",
      "   ...\n",
      "   [1.35739059e+02 1.53871613e+02 1.37587860e+02]\n",
      "   [1.75681290e+02 1.60695724e+02 1.37801804e+02]\n",
      "   [8.53199768e+01 1.57841949e+02 1.65925568e+02]]\n",
      "\n",
      "  ...\n",
      "\n",
      "  [[1.09711060e+02 1.33382156e+02 8.10861740e+01]\n",
      "   [1.36306747e+02 1.41376068e+02 1.08348259e+02]\n",
      "   [1.97743195e+02 1.97275513e+02 1.73307877e+02]\n",
      "   ...\n",
      "   [1.97911713e+02 1.91459534e+02 1.72914764e+02]\n",
      "   [1.77356506e+02 1.74111099e+02 1.52837936e+02]\n",
      "   [1.87526398e+02 1.84165253e+02 1.64984680e+02]]\n",
      "\n",
      "  [[1.23535103e+02 1.55388779e+02 7.89454956e+01]\n",
      "   [9.22055664e+01 1.23841553e+02 4.80306778e+01]\n",
      "   [1.08928329e+02 1.10610703e+02 9.48338699e+01]\n",
      "   ...\n",
      "   [1.84327789e+02 1.85751785e+02 1.67503647e+02]\n",
      "   [1.68025223e+02 1.61283325e+02 1.43613846e+02]\n",
      "   [1.97233551e+02 1.94926224e+02 1.77536255e+02]]\n",
      "\n",
      "  [[6.41335373e+01 9.58344727e+01 1.02187881e+01]\n",
      "   [8.09251404e+01 1.20989693e+02 2.84391060e+01]\n",
      "   [6.86231842e+01 8.87195663e+01 3.50113869e+01]\n",
      "   ...\n",
      "   [1.74775253e+02 1.75953415e+02 1.56705338e+02]\n",
      "   [1.60552231e+02 1.57045334e+02 1.33381790e+02]\n",
      "   [1.86340805e+02 1.82766251e+02 1.62503845e+02]]]\n",
      "\n",
      "\n",
      " [[[2.48441666e+02 2.47250000e+02 2.43536118e+02]\n",
      "   [2.49858337e+02 2.49808334e+02 2.47000000e+02]\n",
      "   [2.50574997e+02 2.51425003e+02 2.49472229e+02]\n",
      "   ...\n",
      "   [2.51680557e+02 2.51680557e+02 2.51680557e+02]\n",
      "   [2.52141678e+02 2.52141678e+02 2.52141678e+02]\n",
      "   [2.50952789e+02 2.50952789e+02 2.50952789e+02]]\n",
      "\n",
      "  [[2.48755554e+02 2.48000000e+02 2.46000000e+02]\n",
      "   [2.49241669e+02 2.50758331e+02 2.49333328e+02]\n",
      "   [2.49847229e+02 2.51725006e+02 2.49286118e+02]\n",
      "   ...\n",
      "   [2.51847229e+02 2.51847229e+02 2.51847229e+02]\n",
      "   [2.52425034e+02 2.52425034e+02 2.52425034e+02]\n",
      "   [2.51000000e+02 2.51000000e+02 2.51000000e+02]]\n",
      "\n",
      "  [[2.48000000e+02 2.48222229e+02 2.46111115e+02]\n",
      "   [2.49791672e+02 2.51625000e+02 2.50125000e+02]\n",
      "   [2.50069443e+02 2.49791672e+02 2.44680557e+02]\n",
      "   ...\n",
      "   [2.51055557e+02 2.51055557e+02 2.51055557e+02]\n",
      "   [2.52000000e+02 2.52000000e+02 2.52000000e+02]\n",
      "   [2.51125000e+02 2.51125000e+02 2.51125000e+02]]\n",
      "\n",
      "  ...\n",
      "\n",
      "  [[2.52000000e+02 2.20000000e+02 2.07000000e+02]\n",
      "   [2.52166672e+02 2.14750000e+02 2.01458328e+02]\n",
      "   [2.50472229e+02 2.15569443e+02 2.00930557e+02]\n",
      "   ...\n",
      "   [2.51388901e+02 2.23638870e+02 2.17222214e+02]\n",
      "   [2.51083282e+02 2.24833344e+02 2.20249985e+02]\n",
      "   [2.52138916e+02 2.33291595e+02 2.29541565e+02]]\n",
      "\n",
      "  [[2.52369461e+02 2.15744431e+02 2.02194443e+02]\n",
      "   [2.52391678e+02 2.12216660e+02 1.97608322e+02]\n",
      "   [2.52408356e+02 2.12872208e+02 1.98000000e+02]\n",
      "   ...\n",
      "   [2.51444458e+02 2.21638916e+02 2.16041687e+02]\n",
      "   [2.51575012e+02 2.23091660e+02 2.19091660e+02]\n",
      "   [2.53083374e+02 2.32744446e+02 2.29691620e+02]]\n",
      "\n",
      "  [[2.51733353e+02 2.10227737e+02 1.94891617e+02]\n",
      "   [2.52474991e+02 2.08466629e+02 1.92466629e+02]\n",
      "   [2.52300003e+02 2.08530518e+02 1.92530518e+02]\n",
      "   ...\n",
      "   [2.51633347e+02 2.23783371e+02 2.17208359e+02]\n",
      "   [2.53525040e+02 2.26108429e+02 2.22675095e+02]\n",
      "   [2.52952789e+02 2.30419373e+02 2.28152679e+02]]]\n",
      "\n",
      "\n",
      " [[[1.07712959e+02 8.22314835e+01 7.03333359e+01]\n",
      "   [1.64722214e+02 1.99833328e+02 1.60777771e+02]\n",
      "   [1.43851852e+02 1.75166656e+02 1.25333336e+02]\n",
      "   ...\n",
      "   [2.41758270e+01 3.82869720e+01 1.51202545e+01]\n",
      "   [1.33888245e+01 3.14721832e+01 3.94438672e+00]\n",
      "   [1.86296291e+01 4.09259338e+01 9.91667175e+00]]\n",
      "\n",
      "  [[1.21194443e+02 1.11166672e+02 7.84166718e+01]\n",
      "   [1.56083344e+02 1.98416656e+02 1.49750000e+02]\n",
      "   [1.04722221e+02 1.39805542e+02 7.49166641e+01]\n",
      "   ...\n",
      "   [2.13054962e+01 3.53610687e+01 1.22221375e+01]\n",
      "   [1.63333130e+01 3.21666565e+01 5.83331299e+00]\n",
      "   [1.75555420e+01 3.59722137e+01 8.97221375e+00]]\n",
      "\n",
      "  [[1.55231476e+02 1.58574081e+02 1.08722229e+02]\n",
      "   [1.64111115e+02 1.88388885e+02 1.21500000e+02]\n",
      "   [1.15500008e+02 1.18009254e+02 6.11666679e+01]\n",
      "   ...\n",
      "   [2.01944523e+01 3.25277863e+01 8.67592812e+00]\n",
      "   [2.26111355e+01 3.52222481e+01 1.09166927e+01]\n",
      "   [2.14814568e+01 3.70370178e+01 1.13610897e+01]]\n",
      "\n",
      "  ...\n",
      "\n",
      "  [[1.21898224e+02 1.73444519e+02 9.76759415e+01]\n",
      "   [1.14055504e+02 1.74749939e+02 5.99999962e+01]\n",
      "   [6.47963028e+01 1.25879639e+02 2.51297607e+01]\n",
      "   ...\n",
      "   [6.30549774e+01 1.04573624e+02 5.77771912e+01]\n",
      "   [3.42501106e+01 8.19724426e+01 3.06946068e+01]\n",
      "   [4.05556831e+01 9.71205750e+01 2.53241634e+01]]\n",
      "\n",
      "  [[1.23000000e+02 1.71166656e+02 9.43888855e+01]\n",
      "   [1.01333328e+02 1.58500000e+02 5.22500000e+01]\n",
      "   [7.62500000e+01 1.34722229e+02 6.20555573e+01]\n",
      "   ...\n",
      "   [6.00551147e+01 1.17805191e+02 5.79161835e+01]\n",
      "   [4.00833893e+01 1.02500061e+02 3.72500763e+01]\n",
      "   [5.14723053e+01 1.17194534e+02 3.85556030e+01]]\n",
      "\n",
      "  [[1.02018402e+02 1.48981384e+02 7.36479645e+01]\n",
      "   [9.90278091e+01 1.51416641e+02 6.79725113e+01]\n",
      "   [9.67316132e+01 1.48472290e+02 8.08796692e+01]\n",
      "   ...\n",
      "   [3.77498665e+01 9.49257889e+01 3.12960873e+01]\n",
      "   [4.32778778e+01 1.02611130e+02 4.07501831e+01]\n",
      "   [5.91019936e+01 1.13657410e+02 5.11853371e+01]]]\n",
      "\n",
      "\n",
      " ...\n",
      "\n",
      "\n",
      " [[[3.76583328e+01 2.59541664e+01 1.24625006e+01]\n",
      "   [1.05166645e+01 6.47750015e+01 1.32374992e+01]\n",
      "   [3.51666679e+01 3.67708321e+01 1.12500000e+01]\n",
      "   ...\n",
      "   [1.91000000e+02 1.92000000e+02 1.76000000e+02]\n",
      "   [1.90225006e+02 1.92774994e+02 1.76000000e+02]\n",
      "   [1.90000000e+02 1.93000000e+02 1.76000000e+02]]\n",
      "\n",
      "  [[2.35000000e+01 4.80124969e+01 1.80000000e+01]\n",
      "   [2.29375000e+01 5.12750015e+01 1.39500017e+01]\n",
      "   [3.15000000e+01 1.25625000e+01 3.75000000e-01]\n",
      "   ...\n",
      "   [1.91187500e+02 1.92187500e+02 1.76187500e+02]\n",
      "   [1.90612503e+02 1.92387497e+02 1.76000000e+02]\n",
      "   [1.90037506e+02 1.92962494e+02 1.76000000e+02]]\n",
      "\n",
      "  [[1.39458323e+01 5.72583313e+01 1.50999985e+01]\n",
      "   [2.65249977e+01 2.97333336e+01 3.09999776e+00]\n",
      "   [5.31458359e+01 1.89583230e+00 4.37499940e-01]\n",
      "   ...\n",
      "   [1.91895828e+02 1.92895828e+02 1.76895828e+02]\n",
      "   [1.91187500e+02 1.92187500e+02 1.76187500e+02]\n",
      "   [1.90074997e+02 1.91383331e+02 1.75229156e+02]]\n",
      "\n",
      "  ...\n",
      "\n",
      "  [[6.24082832e+01 1.55707703e+01 9.44666824e+01]\n",
      "   [6.16458244e+01 9.74582386e+00 1.04258308e+02]\n",
      "   [6.01458511e+01 3.08335876e+00 1.06499985e+02]\n",
      "   ...\n",
      "   [1.52084541e+00 4.81251335e+00 5.20849228e-01]\n",
      "   [9.62528348e-01 3.59585166e+00 7.50043243e-02]\n",
      "   [1.00000226e+00 2.49990597e-01 1.00208330e+01]]\n",
      "\n",
      "  [[5.74124985e+01 4.41249990e+00 1.08312500e+02]\n",
      "   [6.25000000e+01 9.27499962e+00 1.04537506e+02]\n",
      "   [6.13750000e+01 7.37500000e+00 1.00812500e+02]\n",
      "   ...\n",
      "   [3.62500000e+00 3.50000000e+00 2.50000000e+00]\n",
      "   [7.82498169e+00 2.72500610e+00 6.12503052e-01]\n",
      "   [2.14500427e+01 1.54500427e+01 3.73751068e+00]]\n",
      "\n",
      "  [[6.45000458e+01 8.29589176e+00 1.02387291e+02]\n",
      "   [5.92707634e+01 3.05407619e+00 1.02462425e+02]\n",
      "   [6.18750305e+01 1.11458778e+01 1.03875084e+02]\n",
      "   ...\n",
      "   [8.33343048e+01 8.27093430e+01 1.85418701e+01]\n",
      "   [9.05219879e+01 7.66886826e+01 2.80045090e+01]\n",
      "   [1.11775948e+02 9.87967682e+01 2.02668552e+01]]]\n",
      "\n",
      "\n",
      " [[[3.88333321e+01 4.73333321e+01 6.00000000e+00]\n",
      "   [3.81666679e+01 4.46666679e+01 5.83333302e+00]\n",
      "   [3.96666679e+01 4.45000000e+01 8.33333302e+00]\n",
      "   ...\n",
      "   [1.28666672e+02 6.96666641e+01 6.73333359e+01]\n",
      "   [8.81666641e+01 1.01500000e+02 8.48333359e+01]\n",
      "   [1.12000000e+02 8.26666641e+01 8.36666641e+01]]\n",
      "\n",
      "  [[3.85000000e+01 5.05000000e+01 7.00000000e+00]\n",
      "   [3.95000000e+01 5.10000000e+01 5.00000000e+00]\n",
      "   [3.80000000e+01 4.95000000e+01 3.00000000e+00]\n",
      "   ...\n",
      "   [1.43000000e+02 2.95000000e+01 3.25000000e+01]\n",
      "   [1.54500000e+02 3.50000000e+01 4.15000000e+01]\n",
      "   [1.86000000e+02 1.65000000e+01 3.60000000e+01]]\n",
      "\n",
      "  [[4.73333359e+01 6.20000000e+01 1.88333340e+01]\n",
      "   [5.16666679e+01 6.73333359e+01 2.00000019e+01]\n",
      "   [5.21666679e+01 6.86666718e+01 1.51666679e+01]\n",
      "   ...\n",
      "   [1.58166672e+02 1.01666660e+01 3.10000038e+01]\n",
      "   [1.65000000e+02 7.66666508e+00 2.81666679e+01]\n",
      "   [1.80000000e+02 1.70000000e+01 3.66666679e+01]]\n",
      "\n",
      "  ...\n",
      "\n",
      "  [[4.51666718e+01 7.90000000e+01 1.86666870e+01]\n",
      "   [4.20000000e+01 7.78333282e+01 1.65000153e+01]\n",
      "   [3.88334198e+01 7.46667480e+01 1.36667786e+01]\n",
      "   ...\n",
      "   [6.38334198e+01 1.01666656e+02 5.86666870e+01]\n",
      "   [7.96668701e+01 8.46668091e+01 5.13334961e+01]\n",
      "   [1.20333038e+02 9.74997406e+01 7.08330536e+01]]\n",
      "\n",
      "  [[4.50000000e+01 7.85000000e+01 2.00000000e+01]\n",
      "   [4.25000000e+01 7.75000000e+01 2.05000000e+01]\n",
      "   [5.35000000e+01 8.95000000e+01 3.55000000e+01]\n",
      "   ...\n",
      "   [8.85000000e+01 9.75000000e+01 6.40000000e+01]\n",
      "   [9.15000000e+01 8.05000000e+01 5.15000000e+01]\n",
      "   [1.07500000e+02 9.70000000e+01 6.45000000e+01]]\n",
      "\n",
      "  [[3.81665955e+01 7.38332825e+01 1.21665955e+01]\n",
      "   [3.96666260e+01 7.46666260e+01 1.86666260e+01]\n",
      "   [4.39998779e+01 8.09998779e+01 2.98332214e+01]\n",
      "   ...\n",
      "   [1.08166779e+02 9.33333130e+01 6.68333435e+01]\n",
      "   [9.66669922e+01 7.38335876e+01 4.75002747e+01]\n",
      "   [1.14666321e+02 1.20666443e+02 8.06663818e+01]]]\n",
      "\n",
      "\n",
      " [[[4.15999985e+01 2.20000000e+01 3.28666649e+01]\n",
      "   [4.13666649e+01 2.43666668e+01 3.43666649e+01]\n",
      "   [4.29222221e+01 2.68666668e+01 3.68666649e+01]\n",
      "   ...\n",
      "   [9.79222412e+01 9.99222412e+01 9.69222412e+01]\n",
      "   [9.95888977e+01 1.01588898e+02 9.85888977e+01]\n",
      "   [1.00518517e+02 1.02518517e+02 9.95185165e+01]]\n",
      "\n",
      "  [[3.88444443e+01 2.18444443e+01 3.18444443e+01]\n",
      "   [4.04333344e+01 2.34333344e+01 3.34333344e+01]\n",
      "   [4.16555557e+01 2.56000004e+01 3.55999985e+01]\n",
      "   ...\n",
      "   [9.62555695e+01 9.82555695e+01 9.52555695e+01]\n",
      "   [9.68666611e+01 9.88666611e+01 9.58666611e+01]\n",
      "   [9.51444397e+01 9.71444397e+01 9.41444397e+01]]\n",
      "\n",
      "  [[3.79444427e+01 2.16111107e+01 3.16111107e+01]\n",
      "   [3.90000000e+01 2.26666679e+01 3.26666641e+01]\n",
      "   [4.09814796e+01 2.49629631e+01 3.49629631e+01]\n",
      "   ...\n",
      "   [9.43518600e+01 9.63518600e+01 9.33518600e+01]\n",
      "   [9.38333206e+01 9.58333206e+01 9.28333206e+01]\n",
      "   [8.97777710e+01 9.17777710e+01 8.87777710e+01]]\n",
      "\n",
      "  ...\n",
      "\n",
      "  [[7.29999924e+01 7.46110992e+01 7.08333206e+01]\n",
      "   [7.88333206e+01 7.78888779e+01 7.27222137e+01]\n",
      "   [7.95741196e+01 7.95370865e+01 7.16481934e+01]\n",
      "   ...\n",
      "   [8.56296234e+01 8.66296234e+01 8.06296234e+01]\n",
      "   [8.24999542e+01 8.34999542e+01 7.74999542e+01]\n",
      "   [8.22036667e+01 8.12036667e+01 7.62036667e+01]]\n",
      "\n",
      "  [[7.49666595e+01 7.65777664e+01 7.20666656e+01]\n",
      "   [7.88666840e+01 7.80333557e+01 7.25333557e+01]\n",
      "   [7.02333755e+01 7.02333755e+01 6.22333794e+01]\n",
      "   ...\n",
      "   [8.32333679e+01 8.42333679e+01 7.82333679e+01]\n",
      "   [8.54666672e+01 8.54666672e+01 7.99666672e+01]\n",
      "   [8.67555008e+01 8.57555008e+01 8.07555008e+01]]\n",
      "\n",
      "  [[7.44259262e+01 7.60370331e+01 7.06999969e+01]\n",
      "   [7.25110931e+01 7.23999863e+01 6.47333145e+01]\n",
      "   [7.05888901e+01 7.05888901e+01 6.25888939e+01]\n",
      "   ...\n",
      "   [8.03703995e+01 8.12740707e+01 7.53222351e+01]\n",
      "   [8.69111710e+01 8.59556122e+01 8.09333878e+01]\n",
      "   [8.70518188e+01 8.60518188e+01 8.10518188e+01]]]], shape=(32, 180, 180, 3), dtype=float32)\n",
      "-------\n",
      "tf.Tensor([1 4 3 3 1 1 0 1 3 1 3 1 4 0 3 2 1 4 4 4 1 0 0 3 1 0 3 4 0 3 4 1], shape=(32,), dtype=int32)\n"
     ]
    }
   ],
   "source": [
    "for i ,j in train_data:  #너무 오래걸f리므로 i이용해서 1개\n",
    "  print(i)\n",
    "  print('-------')\n",
    "  print(j)\n",
    "  break"
   ]
  },
  {
   "cell_type": "markdown",
   "metadata": {
    "id": "5BvFR7hr1o_E"
   },
   "source": [
    "- PIL로 전체를 보기 힘드므로 \n",
    "- directory 이용해서 간단하게 모든 데이터를 tensor형태로 바꾸면 편함 "
   ]
  },
  {
   "cell_type": "code",
   "execution_count": 59,
   "metadata": {
    "colab": {
     "base_uri": "https://localhost:8080/",
     "height": 1000
    },
    "id": "Cnu2Y5N_1hHu",
    "outputId": "714eff31-1d81-4495-f27f-458d3b766bf4"
   },
   "outputs": [
    {
     "data": {
      "text/plain": [
       "['_GeneratorState',\n",
       " '__abstractmethods__',\n",
       " '__bool__',\n",
       " '__class__',\n",
       " '__delattr__',\n",
       " '__dict__',\n",
       " '__dir__',\n",
       " '__doc__',\n",
       " '__eq__',\n",
       " '__format__',\n",
       " '__ge__',\n",
       " '__getattribute__',\n",
       " '__gt__',\n",
       " '__hash__',\n",
       " '__init__',\n",
       " '__init_subclass__',\n",
       " '__iter__',\n",
       " '__le__',\n",
       " '__len__',\n",
       " '__lt__',\n",
       " '__module__',\n",
       " '__ne__',\n",
       " '__new__',\n",
       " '__nonzero__',\n",
       " '__reduce__',\n",
       " '__reduce_ex__',\n",
       " '__repr__',\n",
       " '__setattr__',\n",
       " '__sizeof__',\n",
       " '__slots__',\n",
       " '__str__',\n",
       " '__subclasshook__',\n",
       " '__weakref__',\n",
       " '_abc_cache',\n",
       " '_abc_negative_cache',\n",
       " '_abc_negative_cache_version',\n",
       " '_abc_registry',\n",
       " '_add_variable_with_custom_getter',\n",
       " '_apply_options',\n",
       " '_as_serialized_graph',\n",
       " '_batch_size',\n",
       " '_checkpoint_dependencies',\n",
       " '_consumers',\n",
       " '_deferred_dependencies',\n",
       " '_drop_remainder',\n",
       " '_flat_shapes',\n",
       " '_flat_structure',\n",
       " '_flat_types',\n",
       " '_functions',\n",
       " '_gather_saveables_for_checkpoint',\n",
       " '_graph',\n",
       " '_graph_attr',\n",
       " '_handle_deferred_dependencies',\n",
       " '_has_captured_ref',\n",
       " '_input_dataset',\n",
       " '_inputs',\n",
       " '_list_extra_dependencies_for_serialization',\n",
       " '_list_functions_for_serialization',\n",
       " '_lookup_dependency',\n",
       " '_map_resources',\n",
       " '_maybe_initialize_trackable',\n",
       " '_name_based_attribute_restore',\n",
       " '_name_based_restores',\n",
       " '_no_dependency',\n",
       " '_object_identifier',\n",
       " '_options_attr',\n",
       " '_preload_simple_restoration',\n",
       " '_restore_from_checkpoint_position',\n",
       " '_self_name_based_restores',\n",
       " '_self_saveable_object_factories',\n",
       " '_self_setattr_tracking',\n",
       " '_self_unconditional_checkpoint_dependencies',\n",
       " '_self_unconditional_deferred_dependencies',\n",
       " '_self_unconditional_dependency_names',\n",
       " '_self_update_uid',\n",
       " '_setattr_tracking',\n",
       " '_shape_invariant_to_type_spec',\n",
       " '_single_restoration_from_checkpoint_position',\n",
       " '_structure',\n",
       " '_tf_api_names',\n",
       " '_tf_api_names_v1',\n",
       " '_trace_variant_creation',\n",
       " '_track_trackable',\n",
       " '_tracking_metadata',\n",
       " '_type_spec',\n",
       " '_unconditional_checkpoint_dependencies',\n",
       " '_unconditional_dependency_names',\n",
       " '_update_uid',\n",
       " '_variant_tensor',\n",
       " '_variant_tensor_attr',\n",
       " '_variant_tracker',\n",
       " 'apply',\n",
       " 'as_numpy_iterator',\n",
       " 'batch',\n",
       " 'cache',\n",
       " 'cardinality',\n",
       " 'class_names',\n",
       " 'concatenate',\n",
       " 'element_spec',\n",
       " 'enumerate',\n",
       " 'filter',\n",
       " 'flat_map',\n",
       " 'from_generator',\n",
       " 'from_tensor_slices',\n",
       " 'from_tensors',\n",
       " 'interleave',\n",
       " 'list_files',\n",
       " 'map',\n",
       " 'options',\n",
       " 'padded_batch',\n",
       " 'prefetch',\n",
       " 'range',\n",
       " 'reduce',\n",
       " 'repeat',\n",
       " 'shard',\n",
       " 'shuffle',\n",
       " 'skip',\n",
       " 'take',\n",
       " 'unbatch',\n",
       " 'window',\n",
       " 'with_options',\n",
       " 'zip']"
      ]
     },
     "execution_count": 59,
     "metadata": {
      "tags": []
     },
     "output_type": "execute_result"
    }
   ],
   "source": [
    "dir(train_data) #map, filter ,reduce 삼총사"
   ]
  },
  {
   "cell_type": "markdown",
   "metadata": {
    "id": "ECxE7QLC28z1"
   },
   "source": [
    "### layers.experimental.preprocessing\n",
    "- 전처리 레이어 지원:\n",
    "    - Resizing layer \n",
    "    - Rescaling layer\n",
    "    - CenterCrop layer\n",
    "- functional API: layer는 함수처럼 쓸 수 있다.\n",
    "- 나중에 바뀔수 있음\n",
    "- 참고 : https://keras.io/guides/preprocessing_layers/"
   ]
  },
  {
   "cell_type": "code",
   "execution_count": null,
   "metadata": {
    "colab": {
     "base_uri": "https://localhost:8080/",
     "height": 130
    },
    "id": "nbwr58qW2p9l",
    "outputId": "17d4668a-7a16-4f3c-d021-120a8957c6a7"
   },
   "outputs": [],
   "source": [
    "tf.keras.layers.experimental.preprocessing   # 나중에 바뀔수도 있어서 experimental 에 있음  -> keras homepage working with preprocessing layers"
   ]
  },
  {
   "cell_type": "markdown",
   "metadata": {
    "id": "qAZCTBrS2b9Q"
   },
   "source": [
    "#### Rescaling\n",
    "- Rescaling 레이어를 사용하여 [0, 1] 에있는 값을 정규화\n",
    "- 참고 : https://keras.io/guides/preprocessing_layers/ \n",
    "\n",
    " map : 호출하여 데이터 세트에 적용"
   ]
  },
  {
   "cell_type": "code",
   "execution_count": 61,
   "metadata": {
    "id": "Oeb5uS8y22Ii"
   },
   "outputs": [],
   "source": [
    "normalization_layer=tf.keras.layers.experimental.preprocessing.Rescaling(1/255)"
   ]
  },
  {
   "cell_type": "code",
   "execution_count": 62,
   "metadata": {
    "id": "iijcmcKW2HSK"
   },
   "outputs": [],
   "source": [
    "a= train_data.map(lambda x,y: (normalization_layer(x),y))      # 함수형 패러다임!! \n",
    "a"
   ]
  },
  {
   "cell_type": "markdown",
   "metadata": {},
   "source": [
    "---\n",
    "## 데이터 입력 파이프라인 구축\n",
    "-  tf.data : low level 로 구축하는 방법( 디렉토리/ pandas DataFrame)\n",
    "    - tf.data API 사용하면 간단하고 재사용 가능한 조각으로 입력 파이프라인 빌드할 수 있음\n",
    "- EDA : 문제에 따라서 가정이 달라지면 데이터 형태, 기법이 달라짐 \n",
    "- 세밀한 제어 가능"
   ]
  },
  {
   "cell_type": "code",
   "execution_count": 63,
   "metadata": {
    "colab": {
     "base_uri": "https://localhost:8080/",
     "height": 34
    },
    "id": "yFYEAV-326s9",
    "outputId": "d292aefb-8320-4543-b009-13bc16ab2add"
   },
   "outputs": [
    {
     "data": {
      "text/plain": [
       "True"
      ]
     },
     "execution_count": 63,
     "metadata": {
      "tags": []
     },
     "output_type": "execute_result"
    }
   ],
   "source": [
    "issubclass(type(a),tf.data.Dataset) #지원 받음 -> 학습데이터 구성 가능, 모델 내에 넣어서 연결함 "
   ]
  }
 ],
 "metadata": {
  "accelerator": "GPU",
  "colab": {
   "collapsed_sections": [
    "g0cxaP-kZcgV",
    "7YWrzGVBuauL"
   ],
   "name": "200928_12기_고급시각반.ipynb",
   "provenance": []
  },
  "kernelspec": {
   "display_name": "Python 3",
   "language": "python",
   "name": "python3"
  },
  "language_info": {
   "codemirror_mode": {
    "name": "ipython",
    "version": 3
   },
   "file_extension": ".py",
   "mimetype": "text/x-python",
   "name": "python",
   "nbconvert_exporter": "python",
   "pygments_lexer": "ipython3",
   "version": "3.7.6"
  }
 },
 "nbformat": 4,
 "nbformat_minor": 1
}
