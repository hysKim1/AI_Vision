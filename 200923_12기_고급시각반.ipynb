{
 "cells": [
  {
   "cell_type": "markdown",
   "metadata": {},
   "source": [
    "# [AI 이노베이션 스퀘어] 12기 고급 시각반\n",
    "- github: https://github.com/hysKim1/AI_Vision\n",
    "    - [파이썬 공식문서]https://docs.python.org/ko/3/\n",
    "    - [Numpy 공식문서]https://numpy.org/devdocs/\n",
    "    - [ML]https://developers.google.com/machine-learning/crash-course/ml-intro?hl=ko\n",
    "    - [DL]https://www.tensorflow.org/?hl=ko\n",
    "    \n",
    "    \n",
    "---\n",
    "* [영상처리를 위한 딥러닝2](#영상처리를-위한-딥러닝2)\n",
    "  * [tensorflow이용한 이미지 전처리](#tensorflow이용한-이미지-전처리)\n",
    "  * [activation](#activation)\n",
    "  * [compile](#compile)\n",
    "      * [loss](#loss)\n",
    "      * [optimizer](#optimizer)\n",
    "      * [metrics](#metrics)\n",
    "  * [evaluate](#evaluate)\n",
    "  * [하이퍼파라미터 튜닝](#하이퍼파라미터-튜닝)\n",
    "      * [gridsearchCV](#gridsearchCV)\n",
    "      * [KerasClassifier](#KerasClassifier)\n",
    "---\n",
    "## 영상처리를 위한 딥러닝2"
   ]
  },
  {
   "cell_type": "code",
   "execution_count": 1,
   "metadata": {},
   "outputs": [],
   "source": [
    "import tensorflow as tf\n",
    "import numpy as np\n",
    "import matplotlib.pyplot as plt"
   ]
  },
  {
   "cell_type": "markdown",
   "metadata": {},
   "source": [
    "### tensorflow이용한 이미지 전처리\n",
    "- 내부적으로 PIL로 구현 되어 있음 \n",
    "    - load_img(이미지)\n",
    "        - 이미지 불러오기 \n",
    "       - repr 자체가 이미지로 나옴\n",
    "    - save_img(path, 3차원 이미지)\n",
    "        - directory 설정 안하면 현재 작업하는 디렉토리에 저장됨\n",
    "        - 기본 3차원, jpg\n",
    "    - array_to_img\n",
    "        - array에서 PIL기반 이미지\n",
    "    - img_to_array \n",
    "        - 이미지에서 Numpy기반 이미지"
   ]
  },
  {
   "cell_type": "code",
   "execution_count": 2,
   "metadata": {},
   "outputs": [],
   "source": [
    "from tensorflow.keras.preprocessing.image import array_to_img, img_to_array, load_img, save_img"
   ]
  },
  {
   "cell_type": "code",
   "execution_count": 5,
   "metadata": {},
   "outputs": [],
   "source": [
    "(X_train,y_train),(X_test,y_test)=tf.keras.datasets.fashion_mnist.load_data() #holdout"
   ]
  },
  {
   "cell_type": "code",
   "execution_count": 7,
   "metadata": {},
   "outputs": [],
   "source": [
    "save_img('a.jpg',X_train[0].reshape(28,28,1)) #return없음 "
   ]
  },
  {
   "cell_type": "markdown",
   "metadata": {},
   "source": [
    "- repr 자체가 이미지로 나옴\n",
    "- PIL 로 처리됨"
   ]
  },
  {
   "cell_type": "code",
   "execution_count": 8,
   "metadata": {},
   "outputs": [
    {
     "data": {
      "image/png": "[encoded data removed]",
      "text/plain": [
       "<PIL.Image.Image image mode=RGB size=28x28 at 0x7FC5EF9A3A50>"
      ]
     },
     "execution_count": 8,
     "metadata": {},
     "output_type": "execute_result"
    }
   ],
   "source": [
    "img=load_img('a.jpg') #PIL.open과 동일\n",
    "img      "
   ]
  },
  {
   "cell_type": "code",
   "execution_count": 9,
   "metadata": {},
   "outputs": [
    {
     "data": {
      "text/plain": [
       "PIL.Image.Image"
      ]
     },
     "execution_count": 9,
     "metadata": {},
     "output_type": "execute_result"
    }
   ],
   "source": [
    "type(img) # PIL기반 jpg확장자 "
   ]
  },
  {
   "cell_type": "code",
   "execution_count": 10,
   "metadata": {},
   "outputs": [
    {
     "data": {
      "image/png": "[encoded data removed]",
      "text/plain": [
       "<PIL.JpegImagePlugin.JpegImageFile image mode=L size=28x28 at 0x7FC5EF9FC250>"
      ]
     },
     "execution_count": 10,
     "metadata": {},
     "output_type": "execute_result"
    }
   ],
   "source": [
    "from PIL import Image\n",
    "img2=Image.open('a.jpg')  #동일함\n",
    "img2"
   ]
  },
  {
   "cell_type": "markdown",
   "metadata": {},
   "source": [
    "tf load_img로 불러온 이미지\n",
    "- img_to_array, np.array (28,28)"
   ]
  },
  {
   "cell_type": "code",
   "execution_count": 18,
   "metadata": {},
   "outputs": [
    {
     "data": {
      "text/plain": [
       "(28, 28, 3)"
      ]
     },
     "execution_count": 18,
     "metadata": {},
     "output_type": "execute_result"
    }
   ],
   "source": [
    "img_to_array(img).shape #numpy array"
   ]
  },
  {
   "cell_type": "markdown",
   "metadata": {},
   "source": [
    "간단한 이미지 처리는 keras.preprocessing.image로 처리, "
   ]
  },
  {
   "cell_type": "code",
   "execution_count": 17,
   "metadata": {},
   "outputs": [
    {
     "data": {
      "text/plain": [
       "(28, 28, 3)"
      ]
     },
     "execution_count": 17,
     "metadata": {},
     "output_type": "execute_result"
    }
   ],
   "source": [
    "np.array(img).shape #Numpy로 array변경한 것과 동일"
   ]
  },
  {
   "cell_type": "markdown",
   "metadata": {},
   "source": [
    "PIL 로 불러온 이미지\n",
    "- img_to_array (28,28,1)\n",
    "- np.array(28,28)"
   ]
  },
  {
   "cell_type": "code",
   "execution_count": 15,
   "metadata": {},
   "outputs": [
    {
     "data": {
      "text/plain": [
       "(28, 28, 1)"
      ]
     },
     "execution_count": 15,
     "metadata": {},
     "output_type": "execute_result"
    }
   ],
   "source": [
    "img_to_array(img2).shape #numpy array"
   ]
  },
  {
   "cell_type": "code",
   "execution_count": 16,
   "metadata": {},
   "outputs": [
    {
     "data": {
      "text/plain": [
       "(28, 28)"
      ]
     },
     "execution_count": 16,
     "metadata": {},
     "output_type": "execute_result"
    }
   ],
   "source": [
    "np.array(img2).shape"
   ]
  },
  {
   "cell_type": "code",
   "execution_count": 83,
   "metadata": {},
   "outputs": [
    {
     "data": {
      "text/plain": [
       "('L', 'JPEG', (28, 28))"
      ]
     },
     "execution_count": 83,
     "metadata": {},
     "output_type": "execute_result"
    }
   ],
   "source": [
    "img.mode, img.format , img.size #PIL metadata "
   ]
  },
  {
   "cell_type": "code",
   "execution_count": 88,
   "metadata": {
    "scrolled": true
   },
   "outputs": [
    {
     "name": "stdout",
     "output_type": "stream",
     "text": [
      "@keras_export('keras.preprocessing.image.save_img')\n",
      "def save_img(path,\n",
      "             x,\n",
      "             data_format=None,\n",
      "             file_format=None,\n",
      "             scale=True,\n",
      "             **kwargs):\n",
      "  \"\"\"Saves an image stored as a Numpy array to a path or file object.\n",
      "\n",
      "  Arguments:\n",
      "      path: Path or file object.\n",
      "      x: Numpy array.\n",
      "      data_format: Image data format,\n",
      "          either \"channels_first\" or \"channels_last\".\n",
      "      file_format: Optional file format override. If omitted, the\n",
      "          format to use is determined from the filename extension.\n",
      "          If a file object was used instead of a filename, this\n",
      "          parameter should always be used.\n",
      "      scale: Whether to rescale image values to be within `[0, 255]`.\n",
      "      **kwargs: Additional keyword arguments passed to `PIL.Image.save()`.\n",
      "  \"\"\"\n",
      "  if data_format is None:\n",
      "    data_format = backend.image_data_format()\n",
      "  image.save_img(path,\n",
      "                 x,\n",
      "                 data_format=data_format,\n",
      "                 file_format=file_format,\n",
      "                 scale=scale, **kwargs)\n",
      "\n"
     ]
    }
   ],
   "source": [
    "import inspect\n",
    "print(inspect.getsource(save_img)) # PIL로 구현되어 있음"
   ]
  },
  {
   "cell_type": "markdown",
   "metadata": {},
   "source": [
    "## fashion_mnist \n",
    "\n",
    "\n",
    "holdout\n",
    "- stratification\n",
    "- 분할 비율 "
   ]
  },
  {
   "cell_type": "code",
   "execution_count": 2,
   "metadata": {},
   "outputs": [],
   "source": [
    "(X_train,y_train),(X_test,y_test)=tf.keras.datasets.fashion_mnist.load_data() #holdout"
   ]
  },
  {
   "cell_type": "code",
   "execution_count": 5,
   "metadata": {
    "scrolled": true
   },
   "outputs": [
    {
     "data": {
      "text/plain": [
       "(array([0, 1, 2, 3, 4, 5, 6, 7, 8, 9], dtype=uint8),\n",
       " array([6000, 6000, 6000, 6000, 6000, 6000, 6000, 6000, 6000, 6000]))"
      ]
     },
     "execution_count": 5,
     "metadata": {},
     "output_type": "execute_result"
    }
   ],
   "source": [
    "np.unique(y_train, return_counts=True)#층화 분류 이미 되어있음 "
   ]
  },
  {
   "cell_type": "markdown",
   "metadata": {},
   "source": [
    "데이터셋 특징 \n",
    "- mnist와 동일하게 배경이 없도록 전처리함\n",
    "- center-alignede되어 있고 이미지로 꽉차 있음\n",
    "- 데이터의 위치를 중점으로 지정\n",
    "    - feature extraction이 쉬워 연산량이 많은 CNN 안 써도 어느정도 성능이 확보됨 \n",
    "> 오캄의 면도날\n",
    " 성능이 동일하면 모델은 간단할 수록 좋음"
   ]
  },
  {
   "cell_type": "code",
   "execution_count": 174,
   "metadata": {},
   "outputs": [
    {
     "data": {
      "image/png": "[encoded data removed]",
      "text/plain": [
       "<Figure size 720x720 with 20 Axes>"
      ]
     },
     "metadata": {
      "needs_background": "light"
     },
     "output_type": "display_data"
    }
   ],
   "source": [
    "plt.figure(figsize=(10,10))\n",
    "for i in range(20):\n",
    "    plt.subplot(4,5,i+1) #  index로 이미지 \n",
    "    plt.yticks([])\n",
    "    plt.grid(False)\n",
    "    plt.imshow(X_train[i], cmap=plt.cm.binary)\n",
    "plt.show()"
   ]
  },
  {
   "cell_type": "markdown",
   "metadata": {},
   "source": [
    "### activation\n",
    "- 비선형 함수 사용하여 선형 분류 불가능 원래 데이터를 마지막에 선형분류 가능하도록 왜곡함\n",
    "> Colah's blog post : https://colah.github.io/posts/2015-09-NN-Types-FP/\n",
    "    - manifold learning(비선형 차원 축소)\n",
    "- hidden layers의 activation function 필수\n",
    "- sigmoid  레이어가 많아지면서 미분값이 계속0 에 가까워지면서 gradient vanishing 문제 생김\n",
    "- relu (rectified) : 0보다 작으면 0, 크면 그값 그대로 \n",
    "- softmax :값을 0~1사이로 확률값처럼 만들어줌\n",
    "\n",
    "### activation 인자\n",
    "- 문자열\n",
    "    - 기본 default만 사용 가능 \n",
    "        - 예 'relu'\n",
    "-  함수\n",
    "    - 소문자\n",
    "    - tf의 keras.activations , nn package에 있음\n",
    "    - functional paradigm \n",
    "    - 함수의 기본값 바꾸기 가능 \n",
    "        - 예. tf.nn.relu\n",
    "    - 함수는 first class function으로 객체로 쓰임\n",
    "- functools partial로 가능 (decorator처럼 씀)하지만 복잡"
   ]
  },
  {
   "cell_type": "code",
   "execution_count": 16,
   "metadata": {},
   "outputs": [
    {
     "data": {
      "text/plain": [
       "False"
      ]
     },
     "execution_count": 16,
     "metadata": {},
     "output_type": "execute_result"
    }
   ],
   "source": [
    "tf.keras.activations.softmax is tf.nn.softmax"
   ]
  },
  {
   "cell_type": "code",
   "execution_count": 18,
   "metadata": {},
   "outputs": [
    {
     "data": {
      "text/plain": [
       "<function tensorflow.python.ops.nn_ops.softmax_v2(logits, axis=None, name=None)>"
      ]
     },
     "execution_count": 18,
     "metadata": {},
     "output_type": "execute_result"
    }
   ],
   "source": [
    "tf.nn.softmax"
   ]
  },
  {
   "cell_type": "markdown",
   "metadata": {},
   "source": [
    "### layer\n",
    "- layer많으면 데이터 많이 필요한데 적으면 overfitting\n",
    "- 앞의 layer 가 feature extraction\n",
    "    - Dense 1차원 \n",
    "    - Flatten 2차원 형태의 데이터를 받으면 1차원화\n",
    "    - convolution은 3차원 형태의 데이터 받음"
   ]
  },
  {
   "cell_type": "code",
   "execution_count": 33,
   "metadata": {},
   "outputs": [],
   "source": [
    "model=tf.keras.models.Sequential([\n",
    "    tf.keras.layers.Flatten(input_shape=(28,28)),\n",
    "    tf.keras.layers.Dense(64, activation='relu') ,\n",
    "    tf.keras.layers.Dense(64, activation=tf.nn.relu) ,\n",
    "    tf.keras.layers.Dense(10, activation='softmax') # 마지막 결과값을 확률값처럼 나오게 바꿈(optional)\n",
    "])"
   ]
  },
  {
   "cell_type": "code",
   "execution_count": 34,
   "metadata": {},
   "outputs": [
    {
     "name": "stdout",
     "output_type": "stream",
     "text": [
      "Model: \"sequential_3\"\n",
      "_________________________________________________________________\n",
      "Layer (type)                 Output Shape              Param #   \n",
      "=================================================================\n",
      "flatten_4 (Flatten)          (None, 784)               0         \n",
      "_________________________________________________________________\n",
      "dense_6 (Dense)              (None, 64)                50240     \n",
      "_________________________________________________________________\n",
      "dense_7 (Dense)              (None, 64)                4160      \n",
      "_________________________________________________________________\n",
      "dense_8 (Dense)              (None, 10)                650       \n",
      "=================================================================\n",
      "Total params: 55,050\n",
      "Trainable params: 55,050\n",
      "Non-trainable params: 0\n",
      "_________________________________________________________________\n"
     ]
    }
   ],
   "source": [
    "model.summary()"
   ]
  },
  {
   "cell_type": "markdown",
   "metadata": {},
   "source": [
    "### compile \n",
    "학습전략\n",
    "#### loss\n",
    "- 문제 도메인에따라 정의된것을 사용\n",
    "    - 실제값과 예측관을 어덯게 정의하는지\n",
    "-  문자열:\n",
    "    -   오타 조심\n",
    "    - 'sparse_categorical_crossentropy'\n",
    "- 소문자: 함수\n",
    "    - snake 방식\n",
    "    - sparse_categorical_crossentropy\n",
    "- 대문자 : 객체(Camel 방식)\n",
    "    - 상속, 인자값 바꾸기 가능 \n",
    "    - 인스턴스화\n",
    "    - SparseCategoricalCrossentropy()\n",
    "    \n",
    "#### optimizer\n",
    "- gradient vanishing을 어떤 알고리즘으로 효율적으로 해결하는지\n",
    "\n",
    "#### metrics\n",
    "- 성능 비교 기준"
   ]
  },
  {
   "cell_type": "code",
   "execution_count": 36,
   "metadata": {},
   "outputs": [],
   "source": [
    "model.compile(loss=tf.keras.losses.SparseCategoricalCrossentropy()\n",
    "             , optimizer='adam',metrics=['accuracy'])"
   ]
  },
  {
   "cell_type": "code",
   "execution_count": 35,
   "metadata": {},
   "outputs": [
    {
     "data": {
      "text/plain": [
       "type"
      ]
     },
     "execution_count": 35,
     "metadata": {},
     "output_type": "execute_result"
    }
   ],
   "source": [
    "type(tf.keras.losses.BinaryCrossentropy) #객체 ->상속"
   ]
  },
  {
   "cell_type": "code",
   "execution_count": 38,
   "metadata": {},
   "outputs": [],
   "source": [
    "model.compile(loss=tf.keras.losses.sparse_categorical_crossentropy\n",
    "             , optimizer='adam',metrics=['accuracy'])"
   ]
  },
  {
   "cell_type": "code",
   "execution_count": 176,
   "metadata": {},
   "outputs": [],
   "source": [
    "model.compile(loss='sparse_categorical_crossentropy'\n",
    "             , optimizer='adam',metrics=['accuracy'])"
   ]
  },
  {
   "cell_type": "markdown",
   "metadata": {},
   "source": [
    "### 정규화 비교\n",
    "- -1 ~ 1사이 ,  0 ~ 1 사이 loss차이 별로 없으나 정규화 안한 데이터와의 loss차이는 큼"
   ]
  },
  {
   "cell_type": "code",
   "execution_count": 90,
   "metadata": {},
   "outputs": [],
   "source": [
    "X_train128= X_train/128 -1\n",
    "X_test128= X_test/128 -1\n",
    "\n",
    "\n",
    "X_train255= X_train/255\n",
    "X_test255= X_test/255"
   ]
  },
  {
   "cell_type": "code",
   "execution_count": 41,
   "metadata": {},
   "outputs": [
    {
     "name": "stdout",
     "output_type": "stream",
     "text": [
      "Epoch 1/5\n",
      "1875/1875 [==============================] - 5s 3ms/step - loss: 7.4696 - accuracy: 0.7839\n",
      "Epoch 2/5\n",
      "1875/1875 [==============================] - 5s 3ms/step - loss: 0.8608 - accuracy: 0.7531\n",
      "Epoch 3/5\n",
      "1875/1875 [==============================] - 5s 2ms/step - loss: 0.6688 - accuracy: 0.7850\n",
      "Epoch 4/5\n",
      "1875/1875 [==============================] - 5s 3ms/step - loss: 0.5719 - accuracy: 0.8054: 0s -\n",
      "Epoch 5/5\n",
      "1875/1875 [==============================] - 4s 2ms/step - loss: 0.4881 - accuracy: 0.8305\n"
     ]
    },
    {
     "data": {
      "text/plain": [
       "<tensorflow.python.keras.callbacks.History at 0x7fbc4a226850>"
      ]
     },
     "execution_count": 41,
     "metadata": {},
     "output_type": "execute_result"
    }
   ],
   "source": [
    "model.fit(X_train, y_train,epochs=5) #정규화 안함"
   ]
  },
  {
   "cell_type": "code",
   "execution_count": 39,
   "metadata": {},
   "outputs": [
    {
     "name": "stdout",
     "output_type": "stream",
     "text": [
      "Epoch 1/5\n",
      "1875/1875 [==============================] - 5s 2ms/step - loss: 0.2941 - accuracy: 0.8912\n",
      "Epoch 2/5\n",
      "1875/1875 [==============================] - 4s 2ms/step - loss: 0.2813 - accuracy: 0.8954\n",
      "Epoch 3/5\n",
      "1875/1875 [==============================] - 5s 2ms/step - loss: 0.2733 - accuracy: 0.8982\n",
      "Epoch 4/5\n",
      "1875/1875 [==============================] - 4s 2ms/step - loss: 0.2608 - accuracy: 0.9028\n",
      "Epoch 5/5\n",
      "1875/1875 [==============================] - 4s 2ms/step - loss: 0.2535 - accuracy: 0.9056\n"
     ]
    },
    {
     "data": {
      "text/plain": [
       "<tensorflow.python.keras.callbacks.History at 0x7fbc4adca610>"
      ]
     },
     "execution_count": 39,
     "metadata": {},
     "output_type": "execute_result"
    }
   ],
   "source": [
    "model.fit(X_train128, y_train,epochs=5) #-1 ~1사이"
   ]
  },
  {
   "cell_type": "code",
   "execution_count": 40,
   "metadata": {
    "scrolled": true
   },
   "outputs": [
    {
     "name": "stdout",
     "output_type": "stream",
     "text": [
      "Epoch 1/5\n",
      "1875/1875 [==============================] - 4s 2ms/step - loss: 0.2721 - accuracy: 0.9011: 0s - loss: 0.2732 - ac\n",
      "Epoch 2/5\n",
      "1875/1875 [==============================] - 4s 2ms/step - loss: 0.2510 - accuracy: 0.9067\n",
      "Epoch 3/5\n",
      "1875/1875 [==============================] - 4s 2ms/step - loss: 0.2420 - accuracy: 0.9090 - ETA: 0s - loss: 0.2424 - accuracy: 0.\n",
      "Epoch 4/5\n",
      "1875/1875 [==============================] - 4s 2ms/step - loss: 0.2320 - accuracy: 0.9127\n",
      "Epoch 5/5\n",
      "1875/1875 [==============================] - 3s 2ms/step - loss: 0.2279 - accuracy: 0.9143\n"
     ]
    },
    {
     "data": {
      "text/plain": [
       "<tensorflow.python.keras.callbacks.History at 0x7fbc4b59bb10>"
      ]
     },
     "execution_count": 40,
     "metadata": {},
     "output_type": "execute_result"
    }
   ],
   "source": [
    "model.fit(X_train255, y_train,epochs=5) #0~1사이가 약간 더좋으나 유의미하지 않음"
   ]
  },
  {
   "cell_type": "markdown",
   "metadata": {},
   "source": [
    "#### evaluate\n",
    " - 성능 비교\n",
    " - fit처럼 학습하는게 아닌 predict예측을 하여 epochs없음 \n",
    " - 각 모델 변경해서 비교\n",
    "\n",
    "\n",
    "return 2개\n",
    "- loss\n",
    "- compile(metrics=[]) 에서 지정한 기준\n",
    "    - accuracy"
   ]
  },
  {
   "cell_type": "code",
   "execution_count": 175,
   "metadata": {
    "scrolled": false
   },
   "outputs": [
    {
     "name": "stdout",
     "output_type": "stream",
     "text": [
      "313/313 [==============================] - 0s 1ms/step - loss: 0.4722 - accuracy: 0.8403\n"
     ]
    },
    {
     "data": {
      "text/plain": [
       "[0.47221264243125916, 0.8403000235557556]"
      ]
     },
     "execution_count": 175,
     "metadata": {},
     "output_type": "execute_result"
    }
   ],
   "source": [
    "model.evaluate(X_test,y_test)"
   ]
  },
  {
   "cell_type": "code",
   "execution_count": 93,
   "metadata": {},
   "outputs": [
    {
     "data": {
      "text/plain": [
       "array([7.3015104e-07, 5.6198328e-21, 9.9999046e-01, 7.2664368e-09,\n",
       "       1.8114480e-06, 0.0000000e+00, 7.0487154e-06, 0.0000000e+00,\n",
       "       0.0000000e+00, 0.0000000e+00], dtype=float32)"
      ]
     },
     "execution_count": 93,
     "metadata": {},
     "output_type": "execute_result"
    }
   ],
   "source": [
    "model.predict(X_test)[1]"
   ]
  },
  {
   "cell_type": "code",
   "execution_count": 94,
   "metadata": {},
   "outputs": [
    {
     "data": {
      "text/plain": [
       "1.0"
      ]
     },
     "execution_count": 94,
     "metadata": {},
     "output_type": "execute_result"
    }
   ],
   "source": [
    "np.sum(model.predict(X_test)[1]) #softmax는 확률처럼 계산하여 합치면 1"
   ]
  },
  {
   "cell_type": "markdown",
   "metadata": {},
   "source": [
    "arg max통해서 비교함"
   ]
  },
  {
   "cell_type": "code",
   "execution_count": 95,
   "metadata": {},
   "outputs": [
    {
     "data": {
      "text/plain": [
       "2"
      ]
     },
     "execution_count": 95,
     "metadata": {},
     "output_type": "execute_result"
    }
   ],
   "source": [
    "np.argmax(model.predict(X_test)[1]) #가장 큰 index 2번째 9.9999046e-01"
   ]
  },
  {
   "cell_type": "markdown",
   "metadata": {},
   "source": [
    "### one-hot encoding\n",
    "- to_categorical\n",
    "    - label encoding된 y를 one-hot encoding함\n",
    "    - tf,pandas, scikit-learn\n",
    "    - 구분자 역할을 하므로 label encodin과 성능 차이는 없음"
   ]
  },
  {
   "cell_type": "code",
   "execution_count": 96,
   "metadata": {},
   "outputs": [],
   "source": [
    "from tensorflow.keras.utils import to_categorical"
   ]
  },
  {
   "cell_type": "code",
   "execution_count": 120,
   "metadata": {},
   "outputs": [],
   "source": [
    "y_train=to_categorical(y_train) #label encoding -> one-hot encoding\n",
    "y_test=to_categorical(y_test)"
   ]
  },
  {
   "cell_type": "code",
   "execution_count": 121,
   "metadata": {},
   "outputs": [],
   "source": [
    "model=tf.keras.models.Sequential([\n",
    "    tf.keras.layers.Flatten(input_shape=(28,28)),\n",
    "    tf.keras.layers.Dense(64, activation='relu') ,\n",
    "    tf.keras.layers.Dense(64, activation='relu') ,\n",
    "    tf.keras.layers.Dense(10, activation='softmax') \n",
    "])\n",
    "# ont-hot encoding은 loss=categorical_crossentropy\n",
    "model.compile(loss=tf.keras.losses.categorical_crossentropy\n",
    "             , optimizer='adam',metrics=['accuracy'])"
   ]
  },
  {
   "cell_type": "code",
   "execution_count": 122,
   "metadata": {},
   "outputs": [
    {
     "name": "stdout",
     "output_type": "stream",
     "text": [
      "Epoch 1/5\n",
      "1875/1875 [==============================] - 4s 2ms/step - loss: 1.9747 - accuracy: 0.7187\n",
      "Epoch 2/5\n",
      "1875/1875 [==============================] - 4s 2ms/step - loss: 0.6392 - accuracy: 0.7858\n",
      "Epoch 3/5\n",
      "1875/1875 [==============================] - 4s 2ms/step - loss: 0.5848 - accuracy: 0.8041\n",
      "Epoch 4/5\n",
      "1875/1875 [==============================] - 4s 2ms/step - loss: 0.5474 - accuracy: 0.8197\n",
      "Epoch 5/5\n",
      "1875/1875 [==============================] - 4s 2ms/step - loss: 0.5241 - accuracy: 0.8262\n"
     ]
    },
    {
     "data": {
      "text/plain": [
       "<tensorflow.python.keras.callbacks.History at 0x7fbc49bcded0>"
      ]
     },
     "execution_count": 122,
     "metadata": {},
     "output_type": "execute_result"
    }
   ],
   "source": [
    "model.fit(X_train, y_train, epochs=5)"
   ]
  },
  {
   "cell_type": "code",
   "execution_count": 123,
   "metadata": {},
   "outputs": [
    {
     "data": {
      "text/plain": [
       "array([3.08778509e-02, 1.92322186e-05, 9.27372396e-01, 3.81289283e-03,\n",
       "       1.31704658e-02, 3.63758289e-07, 2.47033406e-02, 1.77165682e-09,\n",
       "       4.34245449e-05, 1.13587175e-08], dtype=float32)"
      ]
     },
     "execution_count": 123,
     "metadata": {},
     "output_type": "execute_result"
    }
   ],
   "source": [
    "model.predict(X_test)[1]"
   ]
  },
  {
   "cell_type": "code",
   "execution_count": 124,
   "metadata": {},
   "outputs": [
    {
     "data": {
      "text/plain": [
       "2"
      ]
     },
     "execution_count": 124,
     "metadata": {},
     "output_type": "execute_result"
    }
   ],
   "source": [
    "np.argmax(model.predict(X_test)[1]) #동일하게 2번째 "
   ]
  },
  {
   "cell_type": "code",
   "execution_count": 125,
   "metadata": {
    "scrolled": true
   },
   "outputs": [
    {
     "name": "stdout",
     "output_type": "stream",
     "text": [
      "313/313 [==============================] - 0s 1ms/step - loss: 0.5765 - accuracy: 0.8126\n"
     ]
    },
    {
     "data": {
      "text/plain": [
       "[0.5764838457107544, 0.8126000165939331]"
      ]
     },
     "execution_count": 125,
     "metadata": {},
     "output_type": "execute_result"
    }
   ],
   "source": [
    "model.evaluate(X_test,y_test)"
   ]
  },
  {
   "cell_type": "code",
   "execution_count": 109,
   "metadata": {},
   "outputs": [],
   "source": [
    "model=tf.keras.models.Sequential([\n",
    "    tf.keras.layers.Flatten(input_shape=(28,28)),\n",
    "    tf.keras.layers.Dense(128, activation='relu') ,\n",
    "    tf.keras.layers.Dense(128, activation='relu') ,\n",
    "    tf.keras.layers.Dense(10, activation='softmax') \n",
    "])\n",
    "\n",
    "model.compile(loss=tf.keras.losses.categorical_crossentropy\n",
    "             , optimizer='adam',metrics=['accuracy'])\n"
   ]
  },
  {
   "cell_type": "code",
   "execution_count": 126,
   "metadata": {},
   "outputs": [
    {
     "name": "stdout",
     "output_type": "stream",
     "text": [
      "Epoch 1/5\n",
      "1875/1875 [==============================] - 4s 2ms/step - loss: 0.4939 - accuracy: 0.8330: 0s - loss: 0.4978 - \n",
      "Epoch 2/5\n",
      "1875/1875 [==============================] - 5s 2ms/step - loss: 0.4787 - accuracy: 0.8387:  - ETA: 0s - loss: 0.4 - ETA: 0s - loss: 0.4795 - accura\n",
      "Epoch 3/5\n",
      "1875/1875 [==============================] - 5s 3ms/step - loss: 0.4476 - accuracy: 0.8462\n",
      "Epoch 4/5\n",
      "1875/1875 [==============================] - 4s 2ms/step - loss: 0.4289 - accuracy: 0.8530\n",
      "Epoch 5/5\n",
      "1875/1875 [==============================] - 4s 2ms/step - loss: 0.4156 - accuracy: 0.8545\n"
     ]
    },
    {
     "data": {
      "text/plain": [
       "<tensorflow.python.keras.callbacks.History at 0x7fbc4d5882d0>"
      ]
     },
     "execution_count": 126,
     "metadata": {},
     "output_type": "execute_result"
    }
   ],
   "source": [
    "model.fit(X_train, y_train, epochs=5)"
   ]
  },
  {
   "cell_type": "code",
   "execution_count": 129,
   "metadata": {
    "scrolled": true
   },
   "outputs": [
    {
     "name": "stdout",
     "output_type": "stream",
     "text": [
      "313/313 [==============================] - 0s 1ms/step - loss: 0.4722 - accuracy: 0.8403\n"
     ]
    },
    {
     "data": {
      "text/plain": [
       "[0.47221264243125916, 0.8403000235557556]"
      ]
     },
     "execution_count": 129,
     "metadata": {},
     "output_type": "execute_result"
    }
   ],
   "source": [
    "model.evaluate(X_test,y_test)"
   ]
  },
  {
   "cell_type": "markdown",
   "metadata": {},
   "source": [
    "딥러닝: 레이어가 많은 multi-layer perceptron\n",
    "- 중요도 : layer > node\n",
    "- layer지나갈때마다 데이터 공간 왜곡시키기 때문에 layer가 더 중요함"
   ]
  },
  {
   "cell_type": "code",
   "execution_count": 127,
   "metadata": {
    "scrolled": true
   },
   "outputs": [
    {
     "data": {
      "text/plain": [
       "array([1.2943549e-04, 2.7707601e-06, 9.5245993e-01, 1.9447411e-05,\n",
       "       3.4199547e-02, 4.0986564e-10, 1.3178971e-02, 2.4738272e-11,\n",
       "       9.8756491e-06, 7.3648536e-13], dtype=float32)"
      ]
     },
     "execution_count": 127,
     "metadata": {},
     "output_type": "execute_result"
    }
   ],
   "source": [
    "model.predict(X_test)[1]"
   ]
  },
  {
   "cell_type": "code",
   "execution_count": 128,
   "metadata": {},
   "outputs": [
    {
     "data": {
      "text/plain": [
       "2"
      ]
     },
     "execution_count": 128,
     "metadata": {},
     "output_type": "execute_result"
    }
   ],
   "source": [
    "np.argmax(model.predict(X_test)[1]) #동일하게 2번째 "
   ]
  },
  {
   "cell_type": "markdown",
   "metadata": {},
   "source": [
    "### 하이퍼파라미터 튜닝\n",
    "- 모델 선택후 모델의 하이퍼파라미터를 비교 선택해야하는데 수동으로 하는데에 오래걸리므로 자동화 하는 방법이 있음\n",
    "    - scikit 의 gridsearchCV\n",
    "    - keras의 keras-tuner\n",
    "        - 후자는 나중에\n",
    "\n",
    "#### gridsearchCV\n",
    "- 자동화된 하이퍼 파라미터 찾아서 최적화\n",
    "- scikit-learn, keras 연동 가능 \n",
    "    - keras GPU 지원하기 때문에 연동하면 scikit가능\n",
    "    - KerasClassifier,  KerasRegressor 객체 인스턴스화 하여 사용 \n",
    "####  KerasClassifier\n",
    "- instance화\n",
    "- =KerasClassifier( build_fn)\n",
    "- classification 모델을 함수를 인자로 받음 "
   ]
  },
  {
   "cell_type": "code",
   "execution_count": 131,
   "metadata": {},
   "outputs": [],
   "source": [
    "from sklearn.model_selection import GridSearchCV"
   ]
  },
  {
   "cell_type": "code",
   "execution_count": 111,
   "metadata": {},
   "outputs": [],
   "source": [
    "from tensorflow.keras.wrappers.scikit_learn import KerasClassifier"
   ]
  },
  {
   "cell_type": "code",
   "execution_count": null,
   "metadata": {},
   "outputs": [],
   "source": [
    "def build_model( ): \n",
    "    \n",
    "    model=tf.keras.models.Sequential([\n",
    "        tf.keras.layers.Flatten(input_shape=(28,28)),\n",
    "        tf.keras.layers.Dense(128, activation='relu') ,\n",
    "        tf.keras.layers.Dense(10, activation='softmax') \n",
    "    ])\n",
    "    model.compile(loss=tf.keras.losses.categorical_crossentropy\n",
    "             , optimizer='adam' ,metrics=['accuracy'])\n",
    "    \n",
    "    return model"
   ]
  },
  {
   "cell_type": "code",
   "execution_count": 117,
   "metadata": {},
   "outputs": [],
   "source": [
    "def build_model(optimizer='adam'): \n",
    "    \n",
    "    model=tf.keras.models.Sequential([\n",
    "        tf.keras.layers.Flatten(input_shape=(28,28)),\n",
    "        tf.keras.layers.Dense(128, activation='relu') ,\n",
    "        tf.keras.layers.Dense(10, activation='softmax') \n",
    "    ])\n",
    "    model.compile(loss=tf.keras.losses.categorical_crossentropy\n",
    "             , optimizer=optimizer ,metrics=['accuracy'])\n",
    "    \n",
    "    return model"
   ]
  },
  {
   "cell_type": "code",
   "execution_count": 118,
   "metadata": {},
   "outputs": [],
   "source": [
    "kc=KerasClassifier( build_fn=build_model) #함수로 받음 "
   ]
  },
  {
   "cell_type": "code",
   "execution_count": 119,
   "metadata": {},
   "outputs": [
    {
     "name": "stdout",
     "output_type": "stream",
     "text": [
      "Epoch 1/3\n",
      "1875/1875 [==============================] - 6s 3ms/step - loss: 2.1200 - accuracy: 0.7389\n",
      "Epoch 2/3\n",
      "1875/1875 [==============================] - 5s 3ms/step - loss: 0.6686 - accuracy: 0.7858\n",
      "Epoch 3/3\n",
      "1875/1875 [==============================] - 5s 2ms/step - loss: 0.5926 - accuracy: 0.8022: 0s - loss: 0.5\n"
     ]
    },
    {
     "data": {
      "text/plain": [
       "<tensorflow.python.keras.callbacks.History at 0x7fbbb35000d0>"
      ]
     },
     "execution_count": 119,
     "metadata": {},
     "output_type": "execute_result"
    }
   ],
   "source": [
    "kc.fit(X_train,y_train, epochs=3)"
   ]
  },
  {
   "cell_type": "markdown",
   "metadata": {},
   "source": [
    "hyper parameter 비교"
   ]
  },
  {
   "cell_type": "code",
   "execution_count": 139,
   "metadata": {},
   "outputs": [],
   "source": [
    "kc=KerasClassifier( build_fn=build_model) "
   ]
  },
  {
   "cell_type": "code",
   "execution_count": 140,
   "metadata": {},
   "outputs": [],
   "source": [
    "grid=GridSearchCV(kc, param_grid={'optimizer':['adam', 'rmsprop','adadelta']} )"
   ]
  },
  {
   "cell_type": "code",
   "execution_count": 141,
   "metadata": {},
   "outputs": [
    {
     "name": "stdout",
     "output_type": "stream",
     "text": [
      "1500/1500 [==============================] - 4s 3ms/step - loss: 2.2785 - accuracy: 0.7159\n",
      "375/375 [==============================] - 1s 1ms/step - loss: 0.7421 - accuracy: 0.7430\n",
      "1500/1500 [==============================] - 4s 3ms/step - loss: 2.4518 - accuracy: 0.7081\n",
      "375/375 [==============================] - 1s 1ms/step - loss: 0.7002 - accuracy: 0.7770\n",
      "1500/1500 [==============================] - 4s 3ms/step - loss: 2.1948 - accuracy: 0.7053\n",
      "375/375 [==============================] - 1s 1ms/step - loss: 0.7093 - accuracy: 0.7569\n",
      "1500/1500 [==============================] - 4s 3ms/step - loss: 2.5838 - accuracy: 0.7344\n",
      "375/375 [==============================] - 1s 1ms/step - loss: 0.7298 - accuracy: 0.7851\n",
      "1500/1500 [==============================] - 4s 3ms/step - loss: 2.2939 - accuracy: 0.7173\n",
      "375/375 [==============================] - 1s 1ms/step - loss: 0.7127 - accuracy: 0.7628\n",
      "1500/1500 [==============================] - 4s 3ms/step - loss: 2.2815 - accuracy: 0.7216\n",
      "375/375 [==============================] - 1s 2ms/step - loss: 0.6893 - accuracy: 0.7907\n",
      "1500/1500 [==============================] - 4s 3ms/step - loss: 2.5593 - accuracy: 0.7282\n",
      "375/375 [==============================] - 1s 1ms/step - loss: 0.8389 - accuracy: 0.7342\n",
      "1500/1500 [==============================] - 4s 2ms/step - loss: 2.5188 - accuracy: 0.7273\n",
      "375/375 [==============================] - 1s 2ms/step - loss: 0.7490 - accuracy: 0.7653\n",
      "1500/1500 [==============================] - 4s 2ms/step - loss: 2.5467 - accuracy: 0.7344\n",
      "375/375 [==============================] - 1s 1ms/step - loss: 0.8482 - accuracy: 0.7408\n",
      "1500/1500 [==============================] - 4s 3ms/step - loss: 2.5666 - accuracy: 0.7246\n",
      "375/375 [==============================] - 1s 1ms/step - loss: 0.7544 - accuracy: 0.7629\n",
      "1500/1500 [==============================] - 4s 3ms/step - loss: 2.7274 - accuracy: 0.7331\n",
      "375/375 [==============================] - 1s 1ms/step - loss: 0.7843 - accuracy: 0.7600\n",
      "1500/1500 [==============================] - 4s 3ms/step - loss: 2.4395 - accuracy: 0.7163: 2s - loss: 5.1 - ETA: 0s - l\n",
      "375/375 [==============================] - 1s 1ms/step - loss: 0.8515 - accuracy: 0.7513\n",
      "1500/1500 [==============================] - 4s 2ms/step - loss: 2.4908 - accuracy: 0.7185\n",
      "375/375 [==============================] - 1s 1ms/step - loss: 0.7536 - accuracy: 0.7736\n",
      "1500/1500 [==============================] - 4s 3ms/step - loss: 2.4699 - accuracy: 0.7299\n",
      "375/375 [==============================] - 1s 1ms/step - loss: 0.7976 - accuracy: 0.7503\n",
      "1500/1500 [==============================] - 4s 2ms/step - loss: 1.9965 - accuracy: 0.7189\n",
      "375/375 [==============================] - 1s 1ms/step - loss: 0.8308 - accuracy: 0.7485\n",
      "1875/1875 [==============================] - 5s 3ms/step - loss: 1.8856 - accuracy: 0.7310\n"
     ]
    },
    {
     "data": {
      "text/plain": [
       "GridSearchCV(cv=None, error_score=nan,\n",
       "             estimator=<tensorflow.python.keras.wrappers.scikit_learn.KerasClassifier object at 0x7fbc46413a10>,\n",
       "             iid='deprecated', n_jobs=None,\n",
       "             param_grid={'optimizer': ['adam', 'rmsprop', 'adadelta']},\n",
       "             pre_dispatch='2*n_jobs', refit=True, return_train_score=False,\n",
       "             scoring=None, verbose=0)"
      ]
     },
     "execution_count": 141,
     "metadata": {},
     "output_type": "execute_result"
    }
   ],
   "source": [
    "grid.fit(X_train,y_train, epochs=1)  #cross validaton까지 함 "
   ]
  },
  {
   "cell_type": "markdown",
   "metadata": {},
   "source": [
    "cv_results_\n",
    "- GridSearchCV 한 결과로  학습 속도, cross validation score 값보여줌\n",
    "\n",
    "adam > rmsprop >adadelta 순서"
   ]
  },
  {
   "cell_type": "code",
   "execution_count": 144,
   "metadata": {
    "scrolled": true
   },
   "outputs": [
    {
     "data": {
      "text/html": [
       "<div>\n",
       "<style scoped>\n",
       "    .dataframe tbody tr th:only-of-type {\n",
       "        vertical-align: middle;\n",
       "    }\n",
       "\n",
       "    .dataframe tbody tr th {\n",
       "        vertical-align: top;\n",
       "    }\n",
       "\n",
       "    .dataframe thead th {\n",
       "        text-align: right;\n",
       "    }\n",
       "</style>\n",
       "<table border=\"1\" class=\"dataframe\">\n",
       "  <thead>\n",
       "    <tr style=\"text-align: right;\">\n",
       "      <th></th>\n",
       "      <th>mean_fit_time</th>\n",
       "      <th>std_fit_time</th>\n",
       "      <th>mean_score_time</th>\n",
       "      <th>std_score_time</th>\n",
       "      <th>param_optimizer</th>\n",
       "      <th>params</th>\n",
       "      <th>split0_test_score</th>\n",
       "      <th>split1_test_score</th>\n",
       "      <th>split2_test_score</th>\n",
       "      <th>split3_test_score</th>\n",
       "      <th>split4_test_score</th>\n",
       "      <th>mean_test_score</th>\n",
       "      <th>std_test_score</th>\n",
       "      <th>rank_test_score</th>\n",
       "    </tr>\n",
       "  </thead>\n",
       "  <tbody>\n",
       "    <tr>\n",
       "      <th>0</th>\n",
       "      <td>4.506421</td>\n",
       "      <td>0.133424</td>\n",
       "      <td>0.719778</td>\n",
       "      <td>0.011804</td>\n",
       "      <td>adam</td>\n",
       "      <td>{'optimizer': 'adam'}</td>\n",
       "      <td>0.743000</td>\n",
       "      <td>0.777000</td>\n",
       "      <td>0.756917</td>\n",
       "      <td>0.785083</td>\n",
       "      <td>0.762833</td>\n",
       "      <td>0.764967</td>\n",
       "      <td>0.014842</td>\n",
       "      <td>1</td>\n",
       "    </tr>\n",
       "    <tr>\n",
       "      <th>1</th>\n",
       "      <td>4.408468</td>\n",
       "      <td>0.119489</td>\n",
       "      <td>0.730772</td>\n",
       "      <td>0.028407</td>\n",
       "      <td>rmsprop</td>\n",
       "      <td>{'optimizer': 'rmsprop'}</td>\n",
       "      <td>0.790667</td>\n",
       "      <td>0.734167</td>\n",
       "      <td>0.765250</td>\n",
       "      <td>0.740750</td>\n",
       "      <td>0.762917</td>\n",
       "      <td>0.758750</td>\n",
       "      <td>0.020033</td>\n",
       "      <td>2</td>\n",
       "    </tr>\n",
       "    <tr>\n",
       "      <th>2</th>\n",
       "      <td>4.420342</td>\n",
       "      <td>0.152831</td>\n",
       "      <td>0.718596</td>\n",
       "      <td>0.009481</td>\n",
       "      <td>adadelta</td>\n",
       "      <td>{'optimizer': 'adadelta'}</td>\n",
       "      <td>0.760000</td>\n",
       "      <td>0.751333</td>\n",
       "      <td>0.773583</td>\n",
       "      <td>0.750333</td>\n",
       "      <td>0.748500</td>\n",
       "      <td>0.756750</td>\n",
       "      <td>0.009301</td>\n",
       "      <td>3</td>\n",
       "    </tr>\n",
       "  </tbody>\n",
       "</table>\n",
       "</div>"
      ],
      "text/plain": [
       "   mean_fit_time  std_fit_time  mean_score_time  std_score_time  \\\n",
       "0       4.506421      0.133424         0.719778        0.011804   \n",
       "1       4.408468      0.119489         0.730772        0.028407   \n",
       "2       4.420342      0.152831         0.718596        0.009481   \n",
       "\n",
       "  param_optimizer                     params  split0_test_score  \\\n",
       "0            adam      {'optimizer': 'adam'}           0.743000   \n",
       "1         rmsprop   {'optimizer': 'rmsprop'}           0.790667   \n",
       "2        adadelta  {'optimizer': 'adadelta'}           0.760000   \n",
       "\n",
       "   split1_test_score  split2_test_score  split3_test_score  split4_test_score  \\\n",
       "0           0.777000           0.756917           0.785083           0.762833   \n",
       "1           0.734167           0.765250           0.740750           0.762917   \n",
       "2           0.751333           0.773583           0.750333           0.748500   \n",
       "\n",
       "   mean_test_score  std_test_score  rank_test_score  \n",
       "0         0.764967        0.014842                1  \n",
       "1         0.758750        0.020033                2  \n",
       "2         0.756750        0.009301                3  "
      ]
     },
     "execution_count": 144,
     "metadata": {},
     "output_type": "execute_result"
    }
   ],
   "source": [
    "import pandas as pd\n",
    "pd.DataFrame(grid.cv_results_) #adam이 젤 빠르고 score도 가낭 좋음"
   ]
  },
  {
   "cell_type": "markdown",
   "metadata": {},
   "source": [
    "0번째의 adam썼을때 가장 mean_test_score 성능 좋으며 76%"
   ]
  },
  {
   "cell_type": "code",
   "execution_count": 152,
   "metadata": {},
   "outputs": [
    {
     "data": {
      "text/plain": [
       "(<tensorflow.python.keras.wrappers.scikit_learn.KerasClassifier at 0x7fbbafcd40d0>,\n",
       " 0,\n",
       " {'optimizer': 'adam'},\n",
       " 0.7649666666984558)"
      ]
     },
     "execution_count": 152,
     "metadata": {},
     "output_type": "execute_result"
    }
   ],
   "source": [
    "grid.best_estimator_,  grid.best_index_, grid.best_params_, grid.best_score_"
   ]
  },
  {
   "cell_type": "code",
   "execution_count": 164,
   "metadata": {},
   "outputs": [],
   "source": [
    "def build_model(node=64): \n",
    "    model=tf.keras.models.Sequential([\n",
    "        tf.keras.layers.Flatten(input_shape=(28,28)),\n",
    "        tf.keras.layers.Dense(node, activation='relu') ,\n",
    "        tf.keras.layers.Dense(10, activation='softmax') \n",
    "    ])\n",
    "    model.compile(loss=tf.keras.losses.categorical_crossentropy\n",
    "             , optimizer='adam',metrics=['accuracy'])\n",
    "    \n",
    "    return model"
   ]
  },
  {
   "cell_type": "markdown",
   "metadata": {},
   "source": [
    "### keras.wrappers.scikit_learn\n",
    "- \\*\\*sk_params keras의 인자 입력 받을수 있어 scikit과 분리하여 사용 가능 \n",
    "- composition :객체지향에서 감싸서 한 기법\n",
    "    - fit대신에 KerasClassifier에 epochs=3, validation_split  지정"
   ]
  },
  {
   "cell_type": "code",
   "execution_count": 171,
   "metadata": {},
   "outputs": [],
   "source": [
    "# keras.wrappers\n",
    "kc=KerasClassifier( build_fn=build_model, epochs=3, validation_split=0.2) #함수로 받음 \n",
    "# scikit-learn  \n",
    "grid=GridSearchCV(kc,param_grid={'node':[64,128,256,512]},cv=2)"
   ]
  },
  {
   "cell_type": "code",
   "execution_count": 172,
   "metadata": {},
   "outputs": [
    {
     "name": "stdout",
     "output_type": "stream",
     "text": [
      "Epoch 1/3\n",
      "750/750 [==============================] - 2s 3ms/step - loss: 5.3863 - accuracy: 0.5885 - val_loss: 1.2273 - val_accuracy: 0.6603\n",
      "Epoch 2/3\n",
      "750/750 [==============================] - 2s 3ms/step - loss: 1.0572 - accuracy: 0.6665 - val_loss: 0.9887 - val_accuracy: 0.7015\n",
      "Epoch 3/3\n",
      "750/750 [==============================] - 2s 2ms/step - loss: 0.8801 - accuracy: 0.6871 - val_loss: 0.8730 - val_accuracy: 0.6922\n",
      "938/938 [==============================] - 2s 2ms/step - loss: 0.8695 - accuracy: 0.6902\n",
      "Epoch 1/3\n",
      "750/750 [==============================] - 2s 3ms/step - loss: 5.6212 - accuracy: 0.6129 - val_loss: 1.2842 - val_accuracy: 0.6435\n",
      "Epoch 2/3\n",
      "750/750 [==============================] - 2s 2ms/step - loss: 1.0376 - accuracy: 0.6843 - val_loss: 0.9584 - val_accuracy: 0.7240\n",
      "Epoch 3/3\n",
      "750/750 [==============================] - 2s 2ms/step - loss: 0.8067 - accuracy: 0.7192 - val_loss: 0.8438 - val_accuracy: 0.7110\n",
      "938/938 [==============================] - 2s 2ms/step - loss: 0.7980 - accuracy: 0.7200\n",
      "Epoch 1/3\n",
      "750/750 [==============================] - 2s 3ms/step - loss: 5.9064 - accuracy: 0.6657 - val_loss: 0.9699 - val_accuracy: 0.6902\n",
      "Epoch 2/3\n",
      "750/750 [==============================] - 2s 3ms/step - loss: 0.8601 - accuracy: 0.6986 - val_loss: 0.8312 - val_accuracy: 0.7132\n",
      "Epoch 3/3\n",
      "750/750 [==============================] - 2s 3ms/step - loss: 0.7707 - accuracy: 0.7086 - val_loss: 0.8202 - val_accuracy: 0.7145\n",
      "938/938 [==============================] - 2s 2ms/step - loss: 0.8409 - accuracy: 0.7113\n",
      "Epoch 1/3\n",
      "750/750 [==============================] - 3s 3ms/step - loss: 5.9640 - accuracy: 0.6624 - val_loss: 1.0319 - val_accuracy: 0.6982\n",
      "Epoch 2/3\n",
      "750/750 [==============================] - 2s 3ms/step - loss: 0.8499 - accuracy: 0.7219 - val_loss: 0.8201 - val_accuracy: 0.7538\n",
      "Epoch 3/3\n",
      "750/750 [==============================] - 2s 3ms/step - loss: 0.7115 - accuracy: 0.7540 - val_loss: 0.6907 - val_accuracy: 0.7668\n",
      "938/938 [==============================] - 2s 2ms/step - loss: 0.6945 - accuracy: 0.7673: 0s - loss: 0.6936 - accuracy: 0.\n",
      "Epoch 1/3\n",
      "750/750 [==============================] - 3s 4ms/step - loss: 8.4435 - accuracy: 0.7164 - val_loss: 0.8954 - val_accuracy: 0.7627\n",
      "Epoch 2/3\n",
      "750/750 [==============================] - 3s 4ms/step - loss: 0.7733 - accuracy: 0.7634 - val_loss: 0.7592 - val_accuracy: 0.7770\n",
      "Epoch 3/3\n",
      "750/750 [==============================] - 3s 4ms/step - loss: 0.6147 - accuracy: 0.7931 - val_loss: 0.6269 - val_accuracy: 0.8073\n",
      "938/938 [==============================] - 2s 2ms/step - loss: 0.6347 - accuracy: 0.7988\n",
      "Epoch 1/3\n",
      "750/750 [==============================] - 3s 3ms/step - loss: 8.9306 - accuracy: 0.7075 - val_loss: 1.0534 - val_accuracy: 0.7310\n",
      "Epoch 2/3\n",
      "750/750 [==============================] - 3s 4ms/step - loss: 0.8221 - accuracy: 0.7457 - val_loss: 0.7875 - val_accuracy: 0.7505\n",
      "Epoch 3/3\n",
      "750/750 [==============================] - 3s 3ms/step - loss: 0.6241 - accuracy: 0.7800 - val_loss: 0.6443 - val_accuracy: 0.7780\n",
      "938/938 [==============================] - 3s 3ms/step - loss: 0.6412 - accuracy: 0.7805\n",
      "Epoch 1/3\n",
      "750/750 [==============================] - 4s 5ms/step - loss: 10.3211 - accuracy: 0.7361 - val_loss: 0.9938 - val_accuracy: 0.7225\n",
      "Epoch 2/3\n",
      "750/750 [==============================] - 4s 5ms/step - loss: 0.7137 - accuracy: 0.7743 - val_loss: 0.7214 - val_accuracy: 0.7843\n",
      "Epoch 3/3\n",
      "750/750 [==============================] - 4s 5ms/step - loss: 0.5479 - accuracy: 0.8089 - val_loss: 0.5926 - val_accuracy: 0.8032\n",
      "938/938 [==============================] - 3s 3ms/step - loss: 0.6085 - accuracy: 0.7968\n",
      "Epoch 1/3\n",
      "750/750 [==============================] - 4s 5ms/step - loss: 9.4164 - accuracy: 0.7406 - val_loss: 0.8589 - val_accuracy: 0.7653\n",
      "Epoch 2/3\n",
      "750/750 [==============================] - 4s 5ms/step - loss: 0.6619 - accuracy: 0.7937 - val_loss: 0.6440 - val_accuracy: 0.7953\n",
      "Epoch 3/3\n",
      "750/750 [==============================] - 3s 5ms/step - loss: 0.5334 - accuracy: 0.8195 - val_loss: 0.5959 - val_accuracy: 0.8165\n",
      "938/938 [==============================] - 3s 3ms/step - loss: 0.5846 - accuracy: 0.8179\n",
      "Epoch 1/3\n",
      "1500/1500 [==============================] - 8s 5ms/step - loss: 4.7532 - accuracy: 0.7549 - val_loss: 0.6444 - val_accuracy: 0.7798\n",
      "Epoch 2/3\n",
      "1500/1500 [==============================] - 9s 6ms/step - loss: 0.5596 - accuracy: 0.8061 - val_loss: 0.5535 - val_accuracy: 0.8163\n",
      "Epoch 3/3\n",
      "1500/1500 [==============================] - 8s 5ms/step - loss: 0.5086 - accuracy: 0.8230 - val_loss: 0.5684 - val_accuracy: 0.8187\n"
     ]
    },
    {
     "data": {
      "text/plain": [
       "GridSearchCV(cv=2, error_score=nan,\n",
       "             estimator=<tensorflow.python.keras.wrappers.scikit_learn.KerasClassifier object at 0x7fbb8b326b90>,\n",
       "             iid='deprecated', n_jobs=None,\n",
       "             param_grid={'node': [64, 128, 256, 512]}, pre_dispatch='2*n_jobs',\n",
       "             refit=True, return_train_score=False, scoring=None, verbose=0)"
      ]
     },
     "execution_count": 172,
     "metadata": {},
     "output_type": "execute_result"
    }
   ],
   "source": [
    "grid.fit(X_train,y_train)  #cross validaton까지 함 "
   ]
  },
  {
   "cell_type": "code",
   "execution_count": 168,
   "metadata": {},
   "outputs": [
    {
     "data": {
      "text/html": [
       "<div>\n",
       "<style scoped>\n",
       "    .dataframe tbody tr th:only-of-type {\n",
       "        vertical-align: middle;\n",
       "    }\n",
       "\n",
       "    .dataframe tbody tr th {\n",
       "        vertical-align: top;\n",
       "    }\n",
       "\n",
       "    .dataframe thead th {\n",
       "        text-align: right;\n",
       "    }\n",
       "</style>\n",
       "<table border=\"1\" class=\"dataframe\">\n",
       "  <thead>\n",
       "    <tr style=\"text-align: right;\">\n",
       "      <th></th>\n",
       "      <th>mean_fit_time</th>\n",
       "      <th>std_fit_time</th>\n",
       "      <th>mean_score_time</th>\n",
       "      <th>std_score_time</th>\n",
       "      <th>param_node</th>\n",
       "      <th>params</th>\n",
       "      <th>split0_test_score</th>\n",
       "      <th>split1_test_score</th>\n",
       "      <th>mean_test_score</th>\n",
       "      <th>std_test_score</th>\n",
       "      <th>rank_test_score</th>\n",
       "    </tr>\n",
       "  </thead>\n",
       "  <tbody>\n",
       "    <tr>\n",
       "      <th>0</th>\n",
       "      <td>2.589822</td>\n",
       "      <td>0.030456</td>\n",
       "      <td>1.530855</td>\n",
       "      <td>0.048306</td>\n",
       "      <td>64</td>\n",
       "      <td>{'node': 64}</td>\n",
       "      <td>0.644500</td>\n",
       "      <td>0.635400</td>\n",
       "      <td>0.639950</td>\n",
       "      <td>0.004550</td>\n",
       "      <td>4</td>\n",
       "    </tr>\n",
       "    <tr>\n",
       "      <th>1</th>\n",
       "      <td>3.056770</td>\n",
       "      <td>0.006862</td>\n",
       "      <td>1.708717</td>\n",
       "      <td>0.050557</td>\n",
       "      <td>128</td>\n",
       "      <td>{'node': 128}</td>\n",
       "      <td>0.669367</td>\n",
       "      <td>0.652400</td>\n",
       "      <td>0.660883</td>\n",
       "      <td>0.008483</td>\n",
       "      <td>3</td>\n",
       "    </tr>\n",
       "    <tr>\n",
       "      <th>2</th>\n",
       "      <td>4.008876</td>\n",
       "      <td>0.344503</td>\n",
       "      <td>2.121944</td>\n",
       "      <td>0.360829</td>\n",
       "      <td>256</td>\n",
       "      <td>{'node': 256}</td>\n",
       "      <td>0.730933</td>\n",
       "      <td>0.747067</td>\n",
       "      <td>0.739000</td>\n",
       "      <td>0.008067</td>\n",
       "      <td>2</td>\n",
       "    </tr>\n",
       "    <tr>\n",
       "      <th>3</th>\n",
       "      <td>4.587669</td>\n",
       "      <td>0.068915</td>\n",
       "      <td>2.314484</td>\n",
       "      <td>0.031204</td>\n",
       "      <td>512</td>\n",
       "      <td>{'node': 512}</td>\n",
       "      <td>0.757200</td>\n",
       "      <td>0.783300</td>\n",
       "      <td>0.770250</td>\n",
       "      <td>0.013050</td>\n",
       "      <td>1</td>\n",
       "    </tr>\n",
       "  </tbody>\n",
       "</table>\n",
       "</div>"
      ],
      "text/plain": [
       "   mean_fit_time  std_fit_time  mean_score_time  std_score_time param_node  \\\n",
       "0       2.589822      0.030456         1.530855        0.048306         64   \n",
       "1       3.056770      0.006862         1.708717        0.050557        128   \n",
       "2       4.008876      0.344503         2.121944        0.360829        256   \n",
       "3       4.587669      0.068915         2.314484        0.031204        512   \n",
       "\n",
       "          params  split0_test_score  split1_test_score  mean_test_score  \\\n",
       "0   {'node': 64}           0.644500           0.635400         0.639950   \n",
       "1  {'node': 128}           0.669367           0.652400         0.660883   \n",
       "2  {'node': 256}           0.730933           0.747067         0.739000   \n",
       "3  {'node': 512}           0.757200           0.783300         0.770250   \n",
       "\n",
       "   std_test_score  rank_test_score  \n",
       "0        0.004550                4  \n",
       "1        0.008483                3  \n",
       "2        0.008067                2  \n",
       "3        0.013050                1  "
      ]
     },
     "execution_count": 168,
     "metadata": {},
     "output_type": "execute_result"
    }
   ],
   "source": [
    "pd.DataFrame(grid.cv_results_) #node 많을 수록 성능 좋음"
   ]
  },
  {
   "cell_type": "markdown",
   "metadata": {},
   "source": [
    "예측 모델 만들고나서 결과 확인하기 위해서 봐야함\n",
    "ensemble 의 boosting \n",
    "- weak learner에 가중치를 더 넣어서 성능을 높임 \n"
   ]
  }
 ],
 "metadata": {
  "kernelspec": {
   "display_name": "Python 3",
   "language": "python",
   "name": "python3"
  },
  "language_info": {
   "codemirror_mode": {
    "name": "ipython",
    "version": 3
   },
   "file_extension": ".py",
   "mimetype": "text/x-python",
   "name": "python",
   "nbconvert_exporter": "python",
   "pygments_lexer": "ipython3",
   "version": "3.7.6"
  }
 },
 "nbformat": 4,
 "nbformat_minor": 4
}
