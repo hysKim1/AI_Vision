{
 "cells": [
  {
   "cell_type": "markdown",
   "metadata": {
    "id": "f-5B1IfT1A60"
   },
   "source": [
    "# [AI 이노베이션 스퀘어] 12기 고급 시각반\n",
    "- github: https://github.com/hysKim1/AI_Vision\n",
    "    - [파이썬 공식문서]https://docs.python.org/ko/3/\n",
    "    - [Numpy 공식문서]https://numpy.org/devdocs/\n",
    "    - [ML]https://developers.google.com/machine-learning/crash-course/ml-intro?hl=ko\n",
    "    - [DL]https://www.tensorflow.org/?hl=ko\n",
    "      \n",
    "\n",
    "* [GAN2](#GAN2)\n",
    "    * [DCGAN](#DCGAN)\n",
    "        * [Generator](#Generator)\n",
    "        * [Discriminator](#Discriminator)\n",
    "\n",
    "\n",
    "---\n",
    "## GAN2\n",
    "\n",
    "\n",
    " | 구분1       |구분2       |\n",
    " |------------|-----------|\n",
    " |linear      | non-linear|\n",
    " |porbabilistic|stochastic|\n",
    " | parametric |non parametric|\n",
    " |black box   |  white box|\n",
    " |discriminant| generative|\n",
    "\n",
    "\n",
    "### discriminant model\n",
    "- 값이 들어올때 decision boundary(결정평면) 찾아서 어떤 class인지 분류 \n",
    "\n",
    "### generative model\n",
    " - 각 데이터의 확률 분포를 추정하고 분포를 기반으로한 새로운 데이터 분류/생성\n",
    "  > - autoencoder 고차원 데이터를 저차원으로 축소한것이 고유의 특성을 찾았어서 생성에 활용\n",
    "\n",
    "### Generative Adversarial Network\n",
    "\n",
    "> \"최근 10년간  ml분야에서 가장 혁신적인 아이디어\" -Yann LeCun-\n",
    "\n",
    "\n",
    "- 실제처럼 만들고 구분할 수 있도록 서로 **적대적 경쟁(Adversarial)시키면서 발전** \n",
    "- generator 위조범과 discriminator 위조를 구분해내려는 자의 경쟁\n",
    "  - 실제 이미지의 특성을 찾아내기 위해서 틀릴때마다 feedback 을 받으면서 실제처럼 생성\n",
    "  - 데이터의 숨어있는 분포를 찾아서 데이터 생성\n",
    "- generator :가짜 데이터 생성\n",
    "- discriminator: 가짜 데이터 여부 구별\n",
    "  > - 지식 증류(힌모델이 다르모델에 도움)\n",
    "\n",
    "> autoencoder : 자기 값을 이용해서 고유의 특징을 찾음 \n",
    "\n",
    "> Ian Goodfellow: Adversarial 은 NN아닌 어떠한 모델도 사용 가능.\n",
    "    - stanford: Intro to statistical learning\n",
    "\n",
    "  | ML    |Stat |\n",
    "  |-------|-----|\n",
    "  |Network|model|\n",
    "\n",
    "\n",
    "#### 학습 테크닉 정리\n",
    "GAN 학습이 힘듦\n",
    "\n",
    "  - cherry picking\n",
    "\n",
    "- overfitting 막는 방법\n",
    "  - 데이터 확보\n",
    "    - data augmentation \n",
    "    - noise\n",
    "  - 데이터 전처리\n",
    "    - normalization : 0 ~ 1, -1 ~ 1 ( 0 centered 방향 틂)\n",
    "  - 모델 단순화\n",
    "    - feature 수 줄이기:\n",
    "      - feature selection(데이터 변형 없이 제외함)\n",
    "        1. filter\n",
    "        2. wrapper\n",
    "        3. embeded\n",
    "      - dimensionality reduction\n",
    "        - 데이터를 삭제하는것이 아닌 합쳐서 변형\n",
    "    - regularizer (weight decay) 모델 복잡하지 않게 규제\n",
    "    - L1,L2\n",
    "  - ensemble\n",
    "    - dropout\n",
    "  - early stopping\n",
    "\n",
    "- **underfitting** 막는 방법\n",
    "  - Normalization\n",
    "    - BN : b4 activation\n",
    "    - layer\n",
    "    - instance\n",
    "    - weight \n",
    "  - ReLU, Leacky ReLU\n",
    "  - initializer\n",
    "    - Xavier initializer\n",
    "  - gradient clipping\n",
    "  - optimizer\n",
    "  - learning rate decay\n",
    "    - callbacks - Plataeu 고원현상\n",
    "\n",
    "bias:BN sclae&size factor 학습속도에 영향줌\n",
    "\n",
    "- 생성모델은 overfitting시키려하지만 underfitting되는 경우가 더 많음\n",
    "> - loss graph 변화량으로 학습 잘 되는지 안 되는지 확인\n",
    "\n",
    "### DCGAN\n",
    "- Deep Convolutional GAN\n",
    "\n",
    "TensorFlow DCGAN 참고: https://www.tensorflow.org/tutorials/generative/dcgan?hl=ko"
   ]
  },
  {
   "cell_type": "code",
   "execution_count": 1,
   "metadata": {
    "id": "T9iAIc-I6Ewd"
   },
   "outputs": [],
   "source": [
    "import tensorflow as tf"
   ]
  },
  {
   "cell_type": "code",
   "execution_count": 2,
   "metadata": {
    "colab": {
     "base_uri": "https://localhost:8080/"
    },
    "id": "euqbh2TGHMpU",
    "outputId": "0b0a3c0f-742c-45e0-8d03-5dcf7b478709"
   },
   "outputs": [
    {
     "name": "stdout",
     "output_type": "stream",
     "text": [
      "Downloading data from https://storage.googleapis.com/tensorflow/tf-keras-datasets/mnist.npz\n",
      "11493376/11490434 [==============================] - 0s 0us/step\n"
     ]
    }
   ],
   "source": [
    "(X_train, y_train),(_,_) =tf.keras.datasets.mnist.load_data() #overfitting 검증할 필요가 없어서 train만 사용"
   ]
  },
  {
   "cell_type": "code",
   "execution_count": 3,
   "metadata": {
    "id": "mJNEtzfOHckB"
   },
   "outputs": [],
   "source": [
    "X_train=X_train.reshape(-1,28,28,1) #3차원"
   ]
  },
  {
   "cell_type": "markdown",
   "metadata": {
    "id": "78piL0u4IfHB"
   },
   "source": [
    "### 데이터 전처리\n",
    "- 정규화 \n",
    "    - [0,1] 정규화 :$\\frac{x-min}{Max-min}$\n",
    "    - [-1,1] 정규화( zero-centered) :x-m/ (M-m/2) 0~2 ->평행이동 "
   ]
  },
  {
   "cell_type": "code",
   "execution_count": 4,
   "metadata": {
    "id": "6X4by0BLHcnn"
   },
   "outputs": [],
   "source": [
    "X_train=( X_train- 255/2) /(255/2) #zero-centered "
   ]
  },
  {
   "cell_type": "markdown",
   "metadata": {
    "id": "4GfVH601JW7w"
   },
   "source": [
    "train_on_batch\n",
    "- gradient tape쓰기 위해서 batch_size\n",
    "- tensor형태\n",
    " - from_tensor_slices:numpy->tensor->GradientTape"
   ]
  },
  {
   "cell_type": "code",
   "execution_count": 2,
   "metadata": {
    "id": "iOgUPkrKJN6P"
   },
   "outputs": [
    {
     "ename": "NameError",
     "evalue": "name 'tf' is not defined",
     "output_type": "error",
     "traceback": [
      "\u001b[0;31m---------------------------------------------------------------------------\u001b[0m",
      "\u001b[0;31mNameError\u001b[0m                                 Traceback (most recent call last)",
      "\u001b[0;32m<ipython-input-2-82fada558aa4>\u001b[0m in \u001b[0;36m<module>\u001b[0;34m\u001b[0m\n\u001b[1;32m      1\u001b[0m \u001b[0mBATCH_SIZE\u001b[0m \u001b[0;34m=\u001b[0m \u001b[0;36m256\u001b[0m\u001b[0;34m\u001b[0m\u001b[0;34m\u001b[0m\u001b[0m\n\u001b[0;32m----> 2\u001b[0;31m \u001b[0mtrain\u001b[0m\u001b[0;34m=\u001b[0m \u001b[0mtf\u001b[0m\u001b[0;34m.\u001b[0m\u001b[0mdata\u001b[0m\u001b[0;34m.\u001b[0m\u001b[0mDataset\u001b[0m\u001b[0;34m.\u001b[0m\u001b[0mfrom_tensor_slices\u001b[0m\u001b[0;34m(\u001b[0m\u001b[0mX_train\u001b[0m\u001b[0;34m)\u001b[0m\u001b[0;34m.\u001b[0m\u001b[0mbatch\u001b[0m\u001b[0;34m(\u001b[0m\u001b[0mBATCH_SIZE\u001b[0m\u001b[0;34m)\u001b[0m\u001b[0;34m\u001b[0m\u001b[0;34m\u001b[0m\u001b[0m\n\u001b[0m",
      "\u001b[0;31mNameError\u001b[0m: name 'tf' is not defined"
     ]
    }
   ],
   "source": [
    "BATCH_SIZE = 256\n",
    "train= tf.data.Dataset.from_tensor_slices(X_train).batch(BATCH_SIZE) "
   ]
  },
  {
   "attachments": {
    "relus.jpeg": {
     "image/jpeg": "[encoded data removed]"
    }
   },
   "cell_type": "markdown",
   "metadata": {
    "id": "3NBb9ibrKKEG"
   },
   "source": [
    "모델을 generator , discriminator나누어서 모델 만듦\n",
    "\n",
    "## Generator\n",
    "- 학습을 통해서 데이터의 숨어있 분포를 찾아서 받은후 convolution해서 image생성\n",
    "\n",
    "\n",
    "- BatchNormalization\n",
    "  - tensorflow에서 알아서 조절\n",
    "  - activation function 이전\n",
    "- LeakyReLU\n",
    "  - ReLU 확장판으로 학습이 잘 안되는 문제가 생겨서 0 가까운 기울기를 만들어서 0 안갖도록 해서 0이 되지않음(비선형)\n",
    "![relus.jpeg](attachment:relus.jpeg)\n",
    "\n",
    "> - autoencoder encoder+decoder\n",
    "    - upsampling\n",
    "    - Conv2DTranspose-학습통해서 함\n",
    "- filter size:  vgg (3,3),(5,5)충분\n",
    "- use_bias=False 학습 잘 안됨.. 풍부해지나\n",
    "- stride큰거 쓰면 pooling 대신함\n",
    "- 갯수 맞추기위해서 padding='same'"
   ]
  },
  {
   "cell_type": "code",
   "execution_count": 13,
   "metadata": {
    "id": "RmViWu7WJ1Jn"
   },
   "outputs": [],
   "source": [
    "NOISE_DIM=100\n",
    "\n",
    "def make_generative_model(): #함수로 재활용\n",
    "  generative_model= tf.keras.models.Sequential([ #첫번째 convolution갯수 맞춰야함\n",
    "                                                tf.keras.layers.Dense(7*7*256,input_shape=(NOISE_DIM,),use_bias=False),\n",
    "                                                tf.keras.layers.BatchNormalization(),\n",
    "                                                tf.keras.layers.LeakyReLU(),\n",
    "                                                \n",
    "                                                tf.keras.layers.Reshape((7, 7, 256)),#convolution형태\n",
    "\n",
    "                                                tf.keras.layers.Conv2DTranspose(128,(5,5),padding='same',use_bias=False) , \n",
    "                                                tf.keras.layers.BatchNormalization(),\n",
    "                                                tf.keras.layers.LeakyReLU(),\n",
    "\n",
    "                                                tf.keras.layers.Conv2DTranspose(128,(5,5),padding='same', strides=2,use_bias=False) ,\n",
    "                                                tf.keras.layers.BatchNormalization(),\n",
    "                                                tf.keras.layers.LeakyReLU(),\n",
    "                                                #마지막 레이어 1 \n",
    "                                                tf.keras.layers.Conv2DTranspose(1,(5,5),padding='same',strides=2,use_bias=False) , # vgg (3,3),(5,5)\n",
    "                                                tf.keras.layers.BatchNormalization(),\n",
    "                                                tf.keras.layers.LeakyReLU(),\n",
    "                                                ])\n",
    "  return generative_model"
   ]
  },
  {
   "cell_type": "code",
   "execution_count": 8,
   "metadata": {
    "colab": {
     "base_uri": "https://localhost:8080/"
    },
    "id": "HfnggAqoMoUc",
    "outputId": "b3092fbc-b27f-4cb8-88cc-d2c31815e5aa"
   },
   "outputs": [
    {
     "data": {
      "text/plain": [
       "12544"
      ]
     },
     "execution_count": 8,
     "metadata": {
      "tags": []
     },
     "output_type": "execute_result"
    }
   ],
   "source": [
    "7*7*256 #크기 꼭 맞춰야됨..."
   ]
  },
  {
   "cell_type": "code",
   "execution_count": 14,
   "metadata": {
    "colab": {
     "base_uri": "https://localhost:8080/"
    },
    "id": "PTpUva_dMcWc",
    "outputId": "9a21e95e-5215-4960-e1db-cb3ce0524b06"
   },
   "outputs": [
    {
     "name": "stdout",
     "output_type": "stream",
     "text": [
      "Model: \"sequential_1\"\n",
      "_________________________________________________________________\n",
      "Layer (type)                 Output Shape              Param #   \n",
      "=================================================================\n",
      "dense_1 (Dense)              (None, 12544)             1254400   \n",
      "_________________________________________________________________\n",
      "batch_normalization_3 (Batch (None, 12544)             50176     \n",
      "_________________________________________________________________\n",
      "leaky_re_lu_3 (LeakyReLU)    (None, 12544)             0         \n",
      "_________________________________________________________________\n",
      "reshape_1 (Reshape)          (None, 7, 7, 256)         0         \n",
      "_________________________________________________________________\n",
      "conv2d_transpose_3 (Conv2DTr (None, 7, 7, 128)         819200    \n",
      "_________________________________________________________________\n",
      "batch_normalization_4 (Batch (None, 7, 7, 128)         512       \n",
      "_________________________________________________________________\n",
      "leaky_re_lu_4 (LeakyReLU)    (None, 7, 7, 128)         0         \n",
      "_________________________________________________________________\n",
      "conv2d_transpose_4 (Conv2DTr (None, 14, 14, 128)       409600    \n",
      "_________________________________________________________________\n",
      "batch_normalization_5 (Batch (None, 14, 14, 128)       512       \n",
      "_________________________________________________________________\n",
      "leaky_re_lu_5 (LeakyReLU)    (None, 14, 14, 128)       0         \n",
      "_________________________________________________________________\n",
      "conv2d_transpose_5 (Conv2DTr (None, 28, 28, 1)         3200      \n",
      "_________________________________________________________________\n",
      "batch_normalization_6 (Batch (None, 28, 28, 1)         4         \n",
      "_________________________________________________________________\n",
      "leaky_re_lu_6 (LeakyReLU)    (None, 28, 28, 1)         0         \n",
      "=================================================================\n",
      "Total params: 2,537,604\n",
      "Trainable params: 2,512,002\n",
      "Non-trainable params: 25,602\n",
      "_________________________________________________________________\n"
     ]
    }
   ],
   "source": [
    "generator= make_generative_model()\n",
    "\n",
    "generator.summary() #28x28x1로 맞춤"
   ]
  },
  {
   "cell_type": "markdown",
   "metadata": {
    "id": "tLfZnKrjN5JQ"
   },
   "source": [
    "- sequential로 하면 list이기 때문에 model에 레이어 하나씩 추가해서 assert 참이 아니면 에러를 발생시켜서 확인"
   ]
  },
  {
   "cell_type": "code",
   "execution_count": 7,
   "metadata": {
    "colab": {
     "base_uri": "https://localhost:8080/",
     "height": 176
    },
    "id": "IDHW72SYN8nn",
    "outputId": "735b29b7-eed7-4102-82d2-b56e7341d9b8"
   },
   "outputs": [
    {
     "ename": "AssertionError",
     "evalue": "ignored",
     "output_type": "error",
     "traceback": [
      "\u001b[0;31m---------------------------------------------------------------------------\u001b[0m",
      "\u001b[0;31mAssertionError\u001b[0m                            Traceback (most recent call last)",
      "\u001b[0;32m<ipython-input-7-c2dc8ac80f3f>\u001b[0m in \u001b[0;36m<module>\u001b[0;34m()\u001b[0m\n\u001b[1;32m      1\u001b[0m \u001b[0ma\u001b[0m\u001b[0;34m=\u001b[0m\u001b[0;36m1\u001b[0m\u001b[0;34m\u001b[0m\u001b[0;34m\u001b[0m\u001b[0m\n\u001b[0;32m----> 2\u001b[0;31m \u001b[0;32massert\u001b[0m \u001b[0ma\u001b[0m\u001b[0;34m==\u001b[0m\u001b[0;36m2\u001b[0m\u001b[0;34m\u001b[0m\u001b[0;34m\u001b[0m\u001b[0m\n\u001b[0m",
      "\u001b[0;31mAssertionError\u001b[0m: "
     ]
    }
   ],
   "source": [
    "a=1\n",
    "assert a==2"
   ]
  },
  {
   "cell_type": "markdown",
   "metadata": {
    "id": "VHOY9wxrSUJ2"
   },
   "source": [
    "- 아직 훈련되지 않은 generator가 이미지 생성\n"
   ]
  },
  {
   "cell_type": "code",
   "execution_count": 15,
   "metadata": {
    "colab": {
     "base_uri": "https://localhost:8080/"
    },
    "id": "W8IvQOHGOhHv",
    "outputId": "542ed4a6-2889-4121-baec-27825818cf42"
   },
   "outputs": [
    {
     "data": {
      "text/plain": [
       "array([[[ 1.92821247e-03, -1.89562605e-04,  3.23843487e-05,\n",
       "          2.74822069e-03,  7.99591746e-03, -8.92840384e-04,\n",
       "          1.10335553e-04,  5.01927687e-03,  9.27320123e-03,\n",
       "         -6.38830010e-04,  2.51494488e-03,  3.93840391e-03,\n",
       "          7.51121435e-03, -2.58055981e-03,  6.60296017e-03,\n",
       "          4.80051246e-03,  9.38823447e-03,  2.29550689e-03,\n",
       "          9.14195646e-03, -4.94459762e-08,  5.74209914e-03,\n",
       "         -1.56374357e-03,  1.18985474e-02,  3.52874584e-03,\n",
       "         -9.91399167e-04, -5.89414558e-04,  2.41298461e-03,\n",
       "          3.79810971e-03],\n",
       "        [-4.92327090e-04, -9.02793603e-04, -2.03953823e-03,\n",
       "         -1.43754529e-03, -5.83510438e-04, -1.04212516e-03,\n",
       "          1.62379742e-02, -3.98835022e-04,  1.00268656e-02,\n",
       "         -2.53691827e-03,  2.94715888e-03,  1.64132845e-02,\n",
       "          5.60334418e-03, -3.39009729e-03, -1.46871188e-03,\n",
       "         -1.86229637e-03,  1.69436466e-02, -5.66716213e-03,\n",
       "         -3.12698772e-04, -3.95422801e-03,  1.32316537e-02,\n",
       "         -5.21770585e-03, -1.79884571e-03,  5.60707226e-03,\n",
       "         -4.25131479e-03, -4.26266808e-03, -9.25277127e-04,\n",
       "          3.32599413e-03],\n",
       "        [-7.31010165e-04, -1.25293341e-03,  6.94744987e-03,\n",
       "         -5.72663957e-05, -4.59187868e-04,  6.53532101e-03,\n",
       "          4.67862049e-03,  1.56789143e-02, -2.39004660e-03,\n",
       "          1.79480342e-03, -2.10811011e-03, -7.46655511e-04,\n",
       "         -5.35113830e-03, -8.05907231e-03, -7.50502571e-04,\n",
       "          1.17168548e-02,  3.41592776e-03, -3.17733060e-03,\n",
       "          7.31729902e-04, -1.41227199e-03,  9.01861861e-03,\n",
       "          6.02196390e-03, -3.70238745e-03, -3.01844650e-03,\n",
       "          5.26362528e-05,  5.31388214e-04, -2.79184926e-04,\n",
       "         -1.71128905e-03],\n",
       "        [ 2.29116273e-03, -1.63793797e-03,  9.53851923e-05,\n",
       "         -5.18927723e-03, -3.71969701e-03, -1.90623873e-03,\n",
       "         -2.45561032e-03, -7.72373611e-03, -5.03759598e-03,\n",
       "          2.18505599e-03,  2.93805264e-02,  5.14867716e-03,\n",
       "          1.30384637e-03,  2.05295365e-02, -5.49121178e-04,\n",
       "         -2.08365312e-03, -1.63908015e-04, -4.48440202e-03,\n",
       "          1.71203781e-02,  1.59385540e-02, -1.76468864e-03,\n",
       "         -1.32280390e-03, -4.11600433e-03, -9.43912286e-03,\n",
       "         -4.84458869e-03, -1.26591383e-03,  1.36366459e-02,\n",
       "          8.96884687e-03],\n",
       "        [ 3.23260901e-03, -8.92291602e-04,  6.23313303e-04,\n",
       "          4.68352315e-04,  1.23662381e-02,  1.40790446e-02,\n",
       "          1.75271928e-02,  1.26265892e-04,  5.76610863e-03,\n",
       "         -3.47655709e-03,  1.63341705e-02, -2.99245527e-04,\n",
       "          9.39907040e-04, -2.90565635e-03,  7.34955305e-04,\n",
       "          1.08392565e-02, -4.46461886e-03, -5.22755226e-03,\n",
       "         -1.54545147e-03,  1.74409579e-02, -3.52370762e-03,\n",
       "         -3.12630017e-03, -4.63594403e-03,  1.75409056e-02,\n",
       "          5.51416166e-03, -2.91998312e-03, -2.25635144e-04,\n",
       "          1.26704080e-02],\n",
       "        [-1.73828565e-03, -1.50976994e-03, -5.24873380e-03,\n",
       "         -7.92195089e-03, -3.80999205e-04,  3.56105203e-03,\n",
       "         -4.68763197e-03, -8.62490293e-03,  1.33108934e-02,\n",
       "         -1.32346051e-02, -7.72779295e-03, -4.63197846e-03,\n",
       "         -2.39042635e-03, -9.96317714e-03,  7.85285607e-03,\n",
       "         -2.19175429e-03,  1.23591209e-02,  1.34396702e-02,\n",
       "          1.52222896e-02,  8.45202524e-03,  1.49186747e-02,\n",
       "         -1.91883405e-03,  1.23101044e-02, -3.02157993e-03,\n",
       "          2.52268482e-02,  2.05426756e-03,  1.04324399e-02,\n",
       "          2.68409532e-02],\n",
       "        [-6.90504268e-04,  1.51836511e-03,  3.75147560e-04,\n",
       "          6.25824695e-03, -8.43425572e-04,  2.32341141e-02,\n",
       "          8.01465847e-03,  1.25899632e-02,  2.75126542e-03,\n",
       "         -2.18472793e-03, -2.60192994e-03, -5.87088801e-03,\n",
       "          1.24519684e-05,  1.14564821e-02, -7.38005503e-04,\n",
       "          7.32120592e-04, -6.91016810e-03, -8.79916735e-03,\n",
       "          1.48813799e-02, -2.87759257e-03,  9.07659531e-03,\n",
       "         -3.86671885e-03, -1.58863771e-03, -3.17917415e-03,\n",
       "          9.28752217e-03,  7.70149403e-04,  2.14877483e-02,\n",
       "         -3.23416688e-03],\n",
       "        [-3.22606391e-03, -2.89296359e-03, -6.90987986e-03,\n",
       "          1.44893827e-03,  5.21033362e-05, -6.85598515e-03,\n",
       "         -1.94693136e-03, -2.14929786e-03,  4.71842894e-03,\n",
       "         -1.16807334e-02,  1.22947637e-02,  1.32757227e-03,\n",
       "         -7.57673173e-04,  1.24347992e-02,  2.05282960e-02,\n",
       "         -3.67938564e-03, -7.13587971e-03, -3.92035441e-03,\n",
       "          1.75934844e-02, -3.87384719e-03, -1.24270446e-03,\n",
       "          2.78602690e-02,  1.53529225e-02, -7.07130460e-03,\n",
       "          1.45655442e-02, -2.89266021e-03,  3.52801429e-03,\n",
       "         -2.75531667e-03],\n",
       "        [ 3.73702636e-03, -1.46066863e-03, -1.92474225e-03,\n",
       "          1.59152281e-02,  4.25209524e-03, -2.05301191e-03,\n",
       "         -1.59172539e-03,  1.40808485e-02, -1.81739090e-03,\n",
       "         -2.43126554e-03, -1.34092139e-03,  1.30380467e-02,\n",
       "          1.26198567e-02, -4.05806489e-03, -6.28074538e-03,\n",
       "          4.31947364e-03,  3.08099743e-02,  2.99742259e-03,\n",
       "         -3.70721682e-03,  2.45013144e-02,  7.57758738e-03,\n",
       "         -1.11831510e-02, -6.97012641e-04,  2.36187372e-02,\n",
       "          1.97117589e-02,  1.17265033e-02, -3.61698982e-03,\n",
       "         -1.40631897e-03],\n",
       "        [-2.83798994e-03,  6.18568592e-05, -8.34920723e-03,\n",
       "         -5.07117296e-03,  1.42522724e-02, -5.38849877e-03,\n",
       "         -2.49865348e-03, -1.17721513e-03, -4.65430599e-03,\n",
       "         -8.34641606e-03, -8.09381134e-04,  2.62747854e-02,\n",
       "         -8.41306755e-04, -1.08839097e-02,  2.05996749e-03,\n",
       "         -4.47951909e-03,  1.24344351e-02, -1.05150891e-02,\n",
       "          5.04036667e-03, -4.79187816e-03,  3.27694081e-02,\n",
       "         -3.78949381e-03, -2.98788538e-03,  8.58673733e-03,\n",
       "          9.91328619e-03, -9.82369389e-03,  5.78218885e-03,\n",
       "         -4.37043753e-04],\n",
       "        [-1.42909310e-04, -4.54995810e-04,  1.14449365e-02,\n",
       "         -5.49095636e-03, -9.13390366e-04, -1.07352203e-03,\n",
       "          1.28554963e-02,  6.51689991e-03, -1.39014632e-03,\n",
       "          1.89588442e-02,  1.68845803e-02, -3.56361992e-03,\n",
       "          1.60359386e-02, -5.07245306e-03, -4.07367339e-03,\n",
       "          4.98995930e-03,  5.05545503e-03, -5.75689739e-03,\n",
       "         -6.52927114e-03, -6.35954458e-03, -2.86658731e-04,\n",
       "         -3.78952618e-03, -2.44952040e-03, -8.04259907e-03,\n",
       "          3.03495373e-03, -2.99450383e-03,  6.61551580e-03,\n",
       "         -1.61136407e-03],\n",
       "        [ 6.95927115e-03, -3.49587901e-03,  1.34850675e-02,\n",
       "         -3.35200108e-04, -4.74776095e-03,  9.90847591e-04,\n",
       "         -1.43152673e-03,  2.39981746e-04, -5.79499698e-04,\n",
       "         -5.24281897e-03,  2.08119135e-02, -1.02417450e-02,\n",
       "          1.65685005e-02, -6.45887759e-03,  1.41241830e-02,\n",
       "         -9.62315314e-03, -6.62085460e-03,  4.64015501e-03,\n",
       "          2.44312230e-02, -3.49183078e-03, -1.55033509e-03,\n",
       "         -6.51199080e-04,  5.27336216e-03, -4.55181487e-03,\n",
       "          1.30184330e-02, -1.88394764e-03,  3.29681695e-03,\n",
       "         -2.43037310e-03],\n",
       "        [ 8.91992543e-03, -3.51710501e-03,  6.78451452e-03,\n",
       "         -1.13800721e-04,  5.42536611e-03,  1.74891297e-02,\n",
       "         -3.19544598e-03, -1.31030660e-03,  1.32053941e-02,\n",
       "          4.85399552e-03, -2.44891946e-03,  3.22834067e-02,\n",
       "          2.15104525e-03, -7.80539168e-03, -2.55997200e-03,\n",
       "          4.84549766e-03,  3.42610525e-03, -4.19824943e-03,\n",
       "         -8.24872218e-03,  2.25552707e-03,  1.67308412e-02,\n",
       "         -1.21368072e-03, -4.73770732e-03,  4.55728034e-03,\n",
       "         -4.61799791e-04, -5.12135774e-03, -1.14593608e-03,\n",
       "          5.75655978e-03],\n",
       "        [-6.68284774e-04, -1.50707026e-03, -2.82855541e-03,\n",
       "         -9.95723647e-04, -4.40991076e-04, -7.63050839e-03,\n",
       "         -2.05748691e-03, -6.48074131e-03,  1.18465221e-03,\n",
       "          2.08595977e-03, -4.38927673e-03, -8.96612590e-04,\n",
       "          1.56867225e-02,  1.54681457e-02, -2.58366833e-03,\n",
       "         -6.14283560e-03,  2.69438494e-02,  1.95243284e-02,\n",
       "         -3.45287658e-03, -3.83482939e-06, -1.10512041e-03,\n",
       "          2.80491393e-02,  1.19216079e-02,  2.10132562e-02,\n",
       "          5.65511221e-03,  1.83579011e-03, -3.05136829e-03,\n",
       "          1.48651637e-02],\n",
       "        [ 1.36620819e-03,  9.59957484e-03,  1.64561868e-02,\n",
       "          6.96238410e-03,  6.08067028e-03, -4.91667213e-03,\n",
       "          9.47682466e-03, -5.86284790e-04, -2.46689375e-03,\n",
       "         -5.53630758e-03,  1.20965410e-02, -2.61407369e-03,\n",
       "          3.97022860e-03,  1.19580124e-02,  2.92026401e-02,\n",
       "          9.18926485e-03, -4.10511997e-03, -1.10215647e-02,\n",
       "          2.00656243e-02, -3.05999327e-03,  2.69853584e-02,\n",
       "         -1.38412419e-04,  1.50019703e-02, -2.35011894e-03,\n",
       "         -1.92871189e-03, -4.53557726e-03,  6.82947598e-03,\n",
       "         -3.50862916e-04],\n",
       "        [ 1.06022507e-03,  6.29936531e-03, -2.44117901e-03,\n",
       "         -5.52562857e-03, -3.93423578e-03, -7.42985634e-03,\n",
       "         -7.03079579e-03, -1.41209492e-03, -3.86210182e-03,\n",
       "         -4.74815769e-03,  5.70561131e-03, -6.33737771e-04,\n",
       "          1.05358986e-02,  2.76418459e-02,  1.51596805e-02,\n",
       "         -7.04972912e-03,  4.99119423e-03, -7.19893398e-03,\n",
       "          1.32423416e-02, -6.77519385e-03, -1.88695453e-03,\n",
       "         -2.19181855e-03,  2.29388513e-02, -1.32601557e-03,\n",
       "         -4.47776821e-03, -2.39628344e-03,  2.10912805e-02,\n",
       "          8.92894249e-03],\n",
       "        [ 1.22129600e-02, -1.96765363e-03, -7.51982210e-04,\n",
       "          6.05460256e-03,  1.48902573e-02,  1.45138642e-02,\n",
       "         -1.77726685e-03,  4.73701162e-03,  6.52383221e-03,\n",
       "         -2.83369212e-03, -3.55952512e-03,  1.66659132e-02,\n",
       "          1.17828781e-02, -9.24999919e-03, -2.17029965e-03,\n",
       "          4.02523354e-02,  7.90017750e-03, -3.48135410e-03,\n",
       "         -7.70091964e-03,  1.18041728e-02,  1.85845681e-02,\n",
       "          2.74713268e-03, -5.54941874e-03,  9.74098686e-03,\n",
       "         -9.63301165e-04,  2.84026098e-02, -1.09562848e-03,\n",
       "         -1.63896324e-03],\n",
       "        [ 3.43931117e-03, -1.21870521e-03, -1.95211510e-03,\n",
       "         -9.34305042e-03,  1.53252864e-02,  1.58887560e-04,\n",
       "          9.08573996e-03, -3.73528223e-03,  5.01532294e-03,\n",
       "          2.02939361e-02, -6.02467079e-03, -7.07260147e-03,\n",
       "          4.07468434e-03, -8.12177639e-03,  8.00318643e-03,\n",
       "         -5.59836917e-04,  3.53895803e-03,  3.95344682e-02,\n",
       "          5.06887026e-03, -2.97041051e-03,  1.65784601e-02,\n",
       "         -2.38613691e-03, -2.65740906e-03,  7.54531845e-03,\n",
       "         -3.58627120e-04, -5.38124819e-04, -3.39746918e-03,\n",
       "          1.04191387e-02],\n",
       "        [-2.15548836e-03, -4.60542832e-03,  9.27265454e-03,\n",
       "          5.39905159e-03,  4.20231046e-03, -1.61678204e-03,\n",
       "          8.66224989e-04,  4.32085758e-03,  1.99493170e-02,\n",
       "         -4.46895417e-03, -2.81397742e-03, -6.21173810e-03,\n",
       "          1.10527477e-03,  7.83490669e-03,  4.08378802e-03,\n",
       "         -3.73035669e-03,  3.65283503e-03, -8.25873297e-03,\n",
       "         -6.01338434e-06, -9.60542180e-04, -9.43688268e-04,\n",
       "          8.17093416e-04, -4.57228045e-04, -1.28340339e-02,\n",
       "          5.50232083e-03, -5.52636012e-03,  2.71486375e-03,\n",
       "         -7.71749241e-04],\n",
       "        [ 1.60537870e-03, -4.15144861e-03,  8.28203000e-03,\n",
       "          1.02891959e-02, -5.44064725e-03, -4.82625607e-03,\n",
       "         -1.39282900e-03, -1.13601433e-02, -9.87868407e-04,\n",
       "         -7.82054756e-03,  4.46458667e-04, -2.67940015e-03,\n",
       "         -2.54046870e-03, -9.70389135e-03, -9.59474564e-05,\n",
       "         -1.14477370e-02, -5.81463217e-04, -4.88036254e-04,\n",
       "         -5.24770655e-03, -1.09954621e-03,  5.06466371e-04,\n",
       "         -2.16914713e-03,  1.07595604e-02, -7.44726101e-04,\n",
       "          1.81403011e-03, -5.86631615e-03, -1.73996770e-04,\n",
       "          1.73491910e-02],\n",
       "        [ 1.15205720e-02,  1.02711935e-02, -5.34674199e-03,\n",
       "         -2.05415208e-03,  9.15466342e-03,  1.77726969e-02,\n",
       "          7.18902424e-03, -5.69693861e-04, -1.34609785e-04,\n",
       "         -3.49101913e-03, -1.07005639e-02,  3.37689766e-03,\n",
       "          1.35751870e-02,  9.82982689e-04, -3.14118261e-05,\n",
       "         -2.77917576e-03, -1.33158232e-03,  1.74320508e-02,\n",
       "         -6.70138560e-03, -5.71848905e-05,  2.29746290e-02,\n",
       "         -6.60238962e-04, -7.11734965e-03, -1.43296842e-04,\n",
       "         -9.51000024e-04, -8.79633892e-03, -8.61679844e-04,\n",
       "          7.90669769e-03],\n",
       "        [-1.35808112e-03, -2.51389836e-04,  5.22404956e-03,\n",
       "          5.40055102e-03,  2.55847704e-02,  5.30683494e-04,\n",
       "         -1.01563390e-02, -6.89732051e-03,  3.17117386e-02,\n",
       "         -3.24204238e-03, -3.05968162e-04,  1.30959973e-02,\n",
       "          7.26829795e-03,  1.41472789e-02,  7.36723130e-04,\n",
       "         -7.79155269e-03, -7.32465647e-04, -3.70865664e-03,\n",
       "          8.63576960e-03,  2.22573709e-03, -2.67954357e-03,\n",
       "         -3.76375997e-03, -6.72224560e-04,  6.05993904e-03,\n",
       "         -4.24485747e-03, -6.79013692e-03,  1.38892597e-02,\n",
       "         -1.53900590e-04],\n",
       "        [-2.37762183e-03,  4.29171836e-03,  9.20959562e-03,\n",
       "          1.35446060e-02, -2.16084318e-05, -6.85486989e-03,\n",
       "          1.24455309e-02, -1.00617567e-02,  1.73500888e-02,\n",
       "         -3.59993824e-03,  3.45041379e-02, -4.07014973e-04,\n",
       "         -1.81774361e-04, -3.19519197e-03,  1.66952368e-02,\n",
       "          3.98973888e-03, -1.42269884e-03,  2.05449964e-04,\n",
       "          2.21956912e-02, -1.73587131e-03, -1.21058710e-03,\n",
       "         -3.42283049e-03,  8.76241270e-03, -1.04010012e-03,\n",
       "         -1.34085608e-03,  2.39854995e-02,  1.55457081e-02,\n",
       "         -2.06199009e-03],\n",
       "        [-1.32769474e-03, -3.85006017e-04, -1.39313343e-03,\n",
       "         -2.49607489e-03, -1.82946934e-03, -1.91672228e-03,\n",
       "          1.31992474e-02,  9.74889100e-03,  8.27751996e-04,\n",
       "         -3.57690989e-03,  8.57311301e-04,  1.36218658e-02,\n",
       "         -9.44209110e-04,  1.16425576e-02, -1.01372495e-03,\n",
       "         -1.74278603e-03, -4.24273778e-03,  8.01680516e-03,\n",
       "         -1.39400759e-03, -2.67870468e-03,  1.51563995e-02,\n",
       "          3.67193017e-03,  9.83741228e-03,  7.36971106e-03,\n",
       "          8.34097434e-03,  1.95419118e-02, -2.96968641e-03,\n",
       "         -4.42283973e-03],\n",
       "        [ 6.69233873e-03, -6.04548550e-04, -1.41599565e-03,\n",
       "          1.82187697e-03, -3.79822380e-03, -1.15940391e-04,\n",
       "         -2.09054979e-03,  3.42444740e-02,  4.70261183e-03,\n",
       "         -1.17377285e-03, -5.10115316e-03, -9.15077748e-04,\n",
       "         -2.39643687e-03, -6.67199679e-03,  1.45458453e-03,\n",
       "         -6.59873057e-03,  2.24333182e-02,  1.20952148e-02,\n",
       "          3.77412932e-03, -2.40517827e-03,  6.30918518e-03,\n",
       "         -4.04329365e-03, -6.59439387e-03, -1.12898371e-04,\n",
       "          2.91506271e-03, -7.30444398e-03, -2.12902366e-03,\n",
       "          5.99820772e-03],\n",
       "        [-8.82570632e-04,  7.90563412e-04, -2.31001666e-03,\n",
       "         -5.84202679e-03,  1.59562565e-02,  3.35537232e-02,\n",
       "          7.45577738e-03, -4.69225319e-03,  1.34187872e-02,\n",
       "          7.52250291e-03, -1.81773241e-04, -2.13054148e-03,\n",
       "          4.54996107e-03, -4.82040830e-03, -1.66448444e-05,\n",
       "          5.42288553e-03,  5.07890806e-03,  1.61838369e-04,\n",
       "          1.82916839e-02,  6.85107661e-03,  6.05258811e-03,\n",
       "         -5.48577029e-03, -3.23030073e-03,  7.31464522e-03,\n",
       "         -2.44106352e-03, -3.71733768e-04, -3.07987351e-03,\n",
       "         -1.79926830e-03],\n",
       "        [-1.19022524e-03, -3.65507253e-03,  5.76603319e-03,\n",
       "          8.58442625e-04, -1.76952861e-03, -5.48884552e-03,\n",
       "         -1.02133048e-03,  7.51594640e-03, -2.80201843e-04,\n",
       "          1.06194988e-03, -2.12069764e-03,  5.53619256e-03,\n",
       "         -1.11928231e-04,  4.14820062e-03,  1.59611856e-03,\n",
       "          1.59571450e-02, -1.02207449e-03, -7.57811451e-03,\n",
       "         -5.65467123e-03, -3.46936309e-03, -2.23930390e-03,\n",
       "         -3.59287806e-04, -4.85004019e-03, -3.92165780e-03,\n",
       "         -2.36346270e-03, -1.49289274e-03, -1.75195863e-03,\n",
       "         -1.37481629e-03],\n",
       "        [-1.54924230e-03, -4.79288027e-03, -4.75632958e-03,\n",
       "          8.98912363e-03, -1.91346381e-03,  9.93933901e-03,\n",
       "         -1.10360864e-03, -3.87201272e-03, -3.02567054e-03,\n",
       "         -1.72180450e-03, -1.00030219e-02, -2.42858776e-03,\n",
       "          9.17429756e-03, -1.70286861e-03, -6.04172843e-03,\n",
       "         -5.68190626e-06,  1.00155752e-02,  7.69342121e-04,\n",
       "          1.56677868e-02,  7.95250013e-03,  2.16953875e-03,\n",
       "         -1.94210641e-03, -9.47248563e-03, -1.73996657e-03,\n",
       "          1.21340556e-02, -4.75009857e-03,  1.03737656e-02,\n",
       "         -7.42057513e-04]]], dtype=float32)"
      ]
     },
     "execution_count": 15,
     "metadata": {
      "tags": []
     },
     "output_type": "execute_result"
    }
   ],
   "source": [
    "img=generator(tf.random.normal([1,100])) \n",
    "img.numpy().reshape(1,28,28) "
   ]
  },
  {
   "cell_type": "code",
   "execution_count": 16,
   "metadata": {
    "colab": {
     "base_uri": "https://localhost:8080/",
     "height": 281
    },
    "id": "OMbv9fyUO8i1",
    "outputId": "1c748721-27f3-4f1b-98b8-fd8638fc890a"
   },
   "outputs": [
    {
     "data": {
      "text/plain": [
       "<matplotlib.image.AxesImage at 0x7fc78c0f4ac8>"
      ]
     },
     "execution_count": 16,
     "metadata": {
      "tags": []
     },
     "output_type": "execute_result"
    },
    {
     "data": {
      "image/png": "[encoded data removed]",
      "text/plain": [
       "<Figure size 432x288 with 1 Axes>"
      ]
     },
     "metadata": {
      "needs_background": "light",
      "tags": []
     },
     "output_type": "display_data"
    }
   ],
   "source": [
    "import matplotlib.pyplot as plt\n",
    "plt.imshow(img.numpy().reshape(28,28)) "
   ]
  },
  {
   "cell_type": "markdown",
   "metadata": {
    "id": "72wCvoQkSfhP"
   },
   "source": [
    "## Discriminator\n",
    "- 번갈아가면서 학습시켜서 진짜인지 구분 가능하는 능력을 키움\n",
    "- CNN기반 분류기이므로 generator구조 맞출 필요 없음\n",
    "> - autoencoder 압축- 압축한것을 복원해야해서 동일하게 맞춰야함\n",
    "- 생성자가 핵심이기 때문에 Discriminator 단순"
   ]
  },
  {
   "cell_type": "code",
   "execution_count": 17,
   "metadata": {
    "id": "WJXrlW0kMq4g"
   },
   "outputs": [],
   "source": [
    "discriminator= tf.keras.models.Sequential([\n",
    "                                           tf.keras.layers.Conv2D(64,(5,5),input_shape=(28,28,1)),\n",
    "                                           tf.keras.layers.LeakyReLU(),\n",
    "                                           tf.keras.layers.Dropout(0.3),\n",
    "\n",
    "                                           tf.keras.layers.Conv2D(128,(5,5)),\n",
    "                                           tf.keras.layers.LeakyReLU(),\n",
    "                                           tf.keras.layers.Dropout(0.3),\n",
    "\n",
    "                                           tf.keras.layers.Flatten(),\n",
    "    \n",
    "                                           tf.keras.layers.Dense(1) #prediction                       \n",
    "                                           ])"
   ]
  },
  {
   "cell_type": "code",
   "execution_count": 18,
   "metadata": {
    "colab": {
     "base_uri": "https://localhost:8080/"
    },
    "id": "OTK6fBFIRiYv",
    "outputId": "2bc8bc85-add6-4bcc-efc7-ca1e4bf0a923"
   },
   "outputs": [
    {
     "name": "stdout",
     "output_type": "stream",
     "text": [
      "Model: \"sequential_2\"\n",
      "_________________________________________________________________\n",
      "Layer (type)                 Output Shape              Param #   \n",
      "=================================================================\n",
      "conv2d (Conv2D)              (None, 24, 24, 64)        1664      \n",
      "_________________________________________________________________\n",
      "leaky_re_lu_7 (LeakyReLU)    (None, 24, 24, 64)        0         \n",
      "_________________________________________________________________\n",
      "dropout (Dropout)            (None, 24, 24, 64)        0         \n",
      "_________________________________________________________________\n",
      "conv2d_1 (Conv2D)            (None, 20, 20, 128)       204928    \n",
      "_________________________________________________________________\n",
      "leaky_re_lu_8 (LeakyReLU)    (None, 20, 20, 128)       0         \n",
      "_________________________________________________________________\n",
      "dropout_1 (Dropout)          (None, 20, 20, 128)       0         \n",
      "_________________________________________________________________\n",
      "flatten (Flatten)            (None, 51200)             0         \n",
      "_________________________________________________________________\n",
      "dense_2 (Dense)              (None, 1)                 51201     \n",
      "=================================================================\n",
      "Total params: 257,793\n",
      "Trainable params: 257,793\n",
      "Non-trainable params: 0\n",
      "_________________________________________________________________\n"
     ]
    }
   ],
   "source": [
    "discriminator.summary() #구성"
   ]
  },
  {
   "cell_type": "markdown",
   "metadata": {
    "id": "CEftjpojS6aV"
   },
   "source": [
    "훈련되지않은 discriminator 사용하여 판별\n",
    "- 음수 :가짜\n",
    "- 양수 :진짜"
   ]
  },
  {
   "cell_type": "code",
   "execution_count": 19,
   "metadata": {
    "colab": {
     "base_uri": "https://localhost:8080/"
    },
    "id": "jKC0IwocRoBl",
    "outputId": "48dd0509-9de7-456b-e324-02568e60a72c"
   },
   "outputs": [
    {
     "data": {
      "text/plain": [
       "<tf.Tensor: shape=(1, 1), dtype=float32, numpy=array([[0.00010934]], dtype=float32)>"
      ]
     },
     "execution_count": 19,
     "metadata": {
      "tags": []
     },
     "output_type": "execute_result"
    }
   ],
   "source": [
    "discriminator(img)  #아직 학습 안해서 생성자의 이미지를 판단 능력 없음"
   ]
  },
  {
   "cell_type": "markdown",
   "metadata": {
    "id": "fgKuIw5LW3xQ"
   },
   "source": [
    "학습테크닉\n",
    "- comiple : simoid를 안한경우 loss에서 from_logits=True\n",
    "  - 마지막 레이어에 activation 안 써도 logit tensor로 바꿔줌 0~1\n",
    "  - numerical stability"
   ]
  },
  {
   "cell_type": "code",
   "execution_count": 20,
   "metadata": {
    "id": "fANfwaEDR4up"
   },
   "outputs": [],
   "source": [
    "loss=tf.keras.losses.BinaryCrossentropy(from_logits=True) # functional paradigm\n",
    "#문자열,함수,객체-재활용"
   ]
  },
  {
   "cell_type": "markdown",
   "metadata": {
    "id": "ezJVGJXsaNjO"
   },
   "source": [
    "### Discriminator Loss\n",
    "- 생성된 이미지에서 얼마나 진짜 이미지를 잘 판별하는지 수치화\n",
    "  - multi-task loss  가짜 이미지 예측(0) ,진짜 이미지 예측(1) \n",
    "\n",
    "- 객체 상속, 재활용,인스턴스한 객체() 함수처럼 사용 \n",
    "    - __call__-> callable -> functional paradigm\n",
    " - loss( y_true, y_pred)"
   ]
  },
  {
   "cell_type": "code",
   "execution_count": 22,
   "metadata": {
    "id": "vlOCAoSNZtlG"
   },
   "outputs": [],
   "source": [
    "def discriminator_loss(real,fake):\n",
    "  real_loss= loss(tf.ones_like(real),real)\n",
    "  fake_loss= loss(tf.zeros_like(fake),fake)\n",
    "  \n",
    "  total_loss=real_loss+fake_loss\n",
    "  return total_loss"
   ]
  },
  {
   "cell_type": "markdown",
   "metadata": {
    "id": "w9VMBuyVavVA"
   },
   "source": [
    "### Generator Loss\n",
    "- 감별자를 얼마나 잘 속였는지에 대해 수치화\n",
    "    - Discriminator 생성된 이미지를 진짜 (1)로 분류"
   ]
  },
  {
   "cell_type": "code",
   "execution_count": 31,
   "metadata": {
    "id": "0CZAfi3maS29"
   },
   "outputs": [],
   "source": [
    "def generative_loss(fake):\n",
    "  return loss(tf.zeros_like(fake),fake)"
   ]
  },
  {
   "cell_type": "markdown",
   "metadata": {
    "id": "EFvr9l-Na4rV"
   },
   "source": [
    "### optimizer\n",
    "- 감별자와 생성자는 따로 훈련되기 때문에, 감별자와 생성자의 옵티마이저는 상이."
   ]
  },
  {
   "cell_type": "code",
   "execution_count": 26,
   "metadata": {
    "id": "h8aE0iJJXta2"
   },
   "outputs": [],
   "source": [
    "optimizer_g=tf.keras.optimizers.Adam( )\n",
    "optimizer_d=tf.keras.optimizers.Adam() "
   ]
  },
  {
   "cell_type": "markdown",
   "metadata": {
    "id": "28V8yi7MfLkH"
   },
   "source": [
    "- fit:epoch 별\n",
    "- train_on_batch :batch만큼\n",
    "- GradientTape: for 이용해서 epoch별 batch size만큼"
   ]
  },
  {
   "cell_type": "code",
   "execution_count": 23,
   "metadata": {
    "id": "65dLi2h8jIAT"
   },
   "outputs": [],
   "source": [
    "NOISE_DIM=100\n",
    "noise =tf.random.normal([BATCH_SIZE,NOISE_DIM])\n",
    "real=X_train"
   ]
  },
  {
   "cell_type": "code",
   "execution_count": 34,
   "metadata": {
    "id": "5tcm4oFoZcTd"
   },
   "outputs": [],
   "source": [
    "@tf.function\n",
    "def train_step(real):\n",
    "  with tf.GradientTape() as G, tf.GradientTape() as D: #알아서 순차적 실행 \n",
    "    #training학습여부 조절\n",
    "    imgs=generator(noise,training=True)  #뱃치사이즈 만큼 이미지 만듦\n",
    "\n",
    "    real_img=discriminator(real, training=True)\n",
    "    fake_img=discriminator(imgs, training=True) #제너레이터가만든 이미지\n",
    "\n",
    "    gen_loss=generative_loss(fake_img)\n",
    "    dis_loss=discriminator_loss(real_img, fake_img)\n",
    "\n",
    "  gd=G.gradient(gen_loss,generator.trainable_variables)\n",
    "  dd=D.gradient(dis_loss,discriminator.trainable_variables)\n",
    "# print(gd)\n",
    "  optimizer_g.apply_gradients(zip(gd,generator.trainable_variables) )\n",
    "  optimizer_d.apply_gradients(zip(dd,discriminator.trainable_variables) )"
   ]
  },
  {
   "cell_type": "markdown",
   "metadata": {
    "id": "xTksGXRJccXO"
   },
   "source": [
    "- trainable=True/False 이용해서 학습시 weight update 여부 조절\n",
    "- training 옵션 (합수형 패러다임)   \n",
    "   > * `training`: Boolean scalar tensor of Python boolean indicating whether the `call` is meant for training or inference    - 코드 효율적 간략화하면서 번갈아가면서 학습 가능\n",
    "   \n",
    "\n",
    "> - autoencoder : 실제 분포가 있지만 노이즈 있으면 가짜 데이터, 학습을 통해서 노이즈 제거해서 실제분포 찾음\n",
    "  - 노이즈 데이터와 실제데이터 비교해서 노이즈 제거\n",
    "  - 노이즈 데이터로 실제값을 받으면 생성 학습을 통해서 노이즈 제거해서 실제 분포 찾아서 값 정확하게 예측 가능\n",
    "  \n",
    " - train_on_batch(epoch 별 batch size나눠서 여러번 돌리면 fit)"
   ]
  },
  {
   "cell_type": "code",
   "execution_count": 1,
   "metadata": {
    "id": "BUDQuYAwhSEo"
   },
   "outputs": [
    {
     "ename": "NameError",
     "evalue": "name 'train' is not defined",
     "output_type": "error",
     "traceback": [
      "\u001b[0;31m---------------------------------------------------------------------------\u001b[0m",
      "\u001b[0;31mNameError\u001b[0m                                 Traceback (most recent call last)",
      "\u001b[0;32m<ipython-input-1-3fd65094e4ea>\u001b[0m in \u001b[0;36m<module>\u001b[0;34m\u001b[0m\n\u001b[1;32m      1\u001b[0m \u001b[0;31m#tf에서 17시간 15분 학습...\u001b[0m\u001b[0;34m\u001b[0m\u001b[0;34m\u001b[0m\u001b[0;34m\u001b[0m\u001b[0m\n\u001b[1;32m      2\u001b[0m \u001b[0;32mfor\u001b[0m \u001b[0me\u001b[0m \u001b[0;32min\u001b[0m \u001b[0mrange\u001b[0m\u001b[0;34m(\u001b[0m\u001b[0;36m30\u001b[0m\u001b[0;34m)\u001b[0m\u001b[0;34m:\u001b[0m \u001b[0;31m#10 epochs\u001b[0m\u001b[0;34m\u001b[0m\u001b[0;34m\u001b[0m\u001b[0m\n\u001b[0;32m----> 3\u001b[0;31m   \u001b[0;32mfor\u001b[0m \u001b[0mi\u001b[0m \u001b[0;32min\u001b[0m \u001b[0mtrain\u001b[0m\u001b[0;34m:\u001b[0m\u001b[0;34m\u001b[0m\u001b[0;34m\u001b[0m\u001b[0m\n\u001b[0m\u001b[1;32m      4\u001b[0m     \u001b[0mtrain_step\u001b[0m\u001b[0;34m(\u001b[0m\u001b[0mi\u001b[0m\u001b[0;34m)\u001b[0m\u001b[0;34m\u001b[0m\u001b[0;34m\u001b[0m\u001b[0m\n",
      "\u001b[0;31mNameError\u001b[0m: name 'train' is not defined"
     ]
    }
   ],
   "source": [
    "#tf에서 17시간 15분 학습...\n",
    "for e in range(50): #10 epochs\n",
    "  for i in train:\n",
    "    train_step(i)"
   ]
  },
  {
   "cell_type": "code",
   "execution_count": null,
   "metadata": {
    "colab": {
     "base_uri": "https://localhost:8080/",
     "height": 281
    },
    "id": "hYOmKhbtiEwI",
    "outputId": "4e1cf127-3adb-4c5b-c37c-af362ee48872"
   },
   "outputs": [],
   "source": [
    "img=generator(tf.random.normal([1,100]))\n",
    "plt.imshow(img.numpy().reshape(28,28))  #여러번 학습하면 패턴의 대칭이 점점 깨지기 시작"
   ]
  },
  {
   "cell_type": "code",
   "execution_count": 46,
   "metadata": {
    "colab": {
     "base_uri": "https://localhost:8080/"
    },
    "id": "4OjYmjd9krON",
    "outputId": "e2574973-40b8-48e0-9c2d-0b95e38fe9e9"
   },
   "outputs": [
    {
     "data": {
      "text/plain": [
       "<tf.Tensor: shape=(1, 1), dtype=float32, numpy=array([[-29.158497]], dtype=float32)>"
      ]
     },
     "execution_count": 46,
     "metadata": {
      "tags": []
     },
     "output_type": "execute_result"
    }
   ],
   "source": [
    "discriminator(img) "
   ]
  },
  {
   "cell_type": "code",
   "execution_count": 36,
   "metadata": {
    "id": "Zhz4l4dIjull"
   },
   "outputs": [],
   "source": [
    "#디버깅용\n",
    "for i in train:\n",
    "  train_step(i)\n",
    "  break"
   ]
  },
  {
   "cell_type": "code",
   "execution_count": null,
   "metadata": {
    "colab": {
     "base_uri": "https://localhost:8080/"
    },
    "id": "LpkHJ2tWbTlH",
    "outputId": "71d9d360-c32b-4a91-a96e-e5e530a3d363"
   },
   "outputs": [
    {
     "name": "stdout",
     "output_type": "stream",
     "text": [
      "  def __call__(self, *args, **kwargs):\n",
      "    \"\"\"Wraps `call`, applying pre- and post-processing steps.\n",
      "\n",
      "    Arguments:\n",
      "      *args: Positional arguments to be passed to `self.call`.\n",
      "      **kwargs: Keyword arguments to be passed to `self.call`.\n",
      "\n",
      "    Returns:\n",
      "      Output tensor(s).\n",
      "\n",
      "    Note:\n",
      "      - The following optional keyword arguments are reserved for specific uses:\n",
      "        * `training`: Boolean scalar tensor of Python boolean indicating\n",
      "          whether the `call` is meant for training or inference.\n",
      "        * `mask`: Boolean input mask.\n",
      "      - If the layer's `call` method takes a `mask` argument (as some Keras\n",
      "        layers do), its default value will be set to the mask generated\n",
      "        for `inputs` by the previous layer (if `input` did come from\n",
      "        a layer that generated a corresponding mask, i.e. if it came from\n",
      "        a Keras layer with masking support.\n",
      "\n",
      "    Raises:\n",
      "      ValueError: if the layer's `call` method returns None (an invalid value).\n",
      "      RuntimeError: if `super().__init__()` was not called in the constructor.\n",
      "    \"\"\"\n",
      "    if not hasattr(self, '_thread_local'):\n",
      "      raise RuntimeError(\n",
      "          'You must call `super().__init__()` in the layer constructor.')\n",
      "\n",
      "    # `inputs` (the first arg in the method spec) is special cased in\n",
      "    # layer call due to historical reasons.\n",
      "    # This special casing currently takes the form of:\n",
      "    # - 'inputs' must be explicitly passed. A layer cannot have zero arguments,\n",
      "    #   and inputs cannot have been provided via the default value of a kwarg.\n",
      "    # - numpy/scalar values in `inputs` get converted to tensors\n",
      "    # - implicit masks / mask metadata are only collected from 'inputs`\n",
      "    # - Layers are built using shape info from 'inputs' only\n",
      "    # - input_spec compatibility is only checked against `inputs`\n",
      "    # - mixed precision casting (autocast) is only applied to `inputs`,\n",
      "    #   not to any other argument.\n",
      "    # - setting the SavedModel saving spec.\n",
      "    inputs, args, kwargs = self._split_out_first_arg(args, kwargs)\n",
      "    input_list = nest.flatten(inputs)\n",
      "\n",
      "    # Functional Model construction mode is invoked when `Layer`s are called on\n",
      "    # symbolic `KerasTensor`s, i.e.:\n",
      "    # >> inputs = tf.keras.Input(10)\n",
      "    # >> outputs = MyLayer()(inputs)  # Functional construction mode.\n",
      "    # >> model = tf.keras.Model(inputs, outputs)\n",
      "    if _in_functional_construction_mode(self, inputs, args, kwargs, input_list):\n",
      "      return self._functional_construction_call(inputs, args, kwargs,\n",
      "                                                input_list)\n",
      "\n",
      "    # Maintains info about the `Layer.call` stack.\n",
      "    call_context = base_layer_utils.call_context()\n",
      "\n",
      "    # Accept NumPy and scalar inputs by converting to Tensors.\n",
      "    if any(isinstance(x, (np.ndarray, float, int)) for x in input_list):\n",
      "      inputs = nest.map_structure(_convert_numpy_or_python_types, inputs)\n",
      "      input_list = nest.flatten(inputs)\n",
      "\n",
      "    # Handle `mask` propagation from previous layer to current layer. Masks can\n",
      "    # be propagated explicitly via the `mask` argument, or implicitly via\n",
      "    # setting the `_keras_mask` attribute on the inputs to a Layer. Masks passed\n",
      "    # explicitly take priority.\n",
      "    input_masks, mask_is_implicit = self._get_input_masks(\n",
      "        inputs, input_list, args, kwargs)\n",
      "    if self._expects_mask_arg and mask_is_implicit:\n",
      "      kwargs['mask'] = input_masks\n",
      "\n",
      "    # Training mode for `Layer.call` is set via (in order of priority):\n",
      "    # (1) The `training` argument passed to this `Layer.call`, if it is not None\n",
      "    # (2) The training mode of an outer `Layer.call`.\n",
      "    # (3) The default mode set by `tf.keras.backend.set_learning_phase` (if set)\n",
      "    # (4) Any non-None default value for `training` specified in the call\n",
      "    #  signature\n",
      "    # (5) False (treating the layer as if it's in inference)\n",
      "    args, kwargs, training_mode = self._set_training_mode(\n",
      "        args, kwargs, call_context)\n",
      "\n",
      "    # Losses are cleared for all sublayers on the outermost `Layer.call`.\n",
      "    # Losses are not cleared on inner `Layer.call`s, because sublayers can be\n",
      "    # called multiple times.\n",
      "    if not call_context.in_call:\n",
      "      self._clear_losses()\n",
      "\n",
      "    eager = context.executing_eagerly()\n",
      "    with call_context.enter(\n",
      "        layer=self,\n",
      "        inputs=inputs,\n",
      "        build_graph=not eager,\n",
      "        training=training_mode):\n",
      "\n",
      "      if self._autocast:\n",
      "        inputs = self._maybe_cast_inputs(inputs, input_list)\n",
      "\n",
      "      if eager:\n",
      "        call_fn = self.call\n",
      "        name_scope = self._name\n",
      "      else:\n",
      "        input_spec.assert_input_compatibility(self.input_spec, inputs,\n",
      "                                              self.name)\n",
      "        name_scope = self._name_scope()  # Avoid autoincrementing.\n",
      "        call_fn = self._autographed_call()\n",
      "\n",
      "      with ops.name_scope_v2(name_scope):\n",
      "        if not self.built:\n",
      "          self._maybe_build(inputs)\n",
      "\n",
      "        with ops.enable_auto_cast_variables(self._compute_dtype_object):\n",
      "          outputs = call_fn(inputs, *args, **kwargs)\n",
      "\n",
      "        if self._activity_regularizer:\n",
      "          self._handle_activity_regularization(inputs, outputs)\n",
      "        if self._supports_masking:\n",
      "          self._set_mask_metadata(inputs, outputs, input_masks, not eager)\n",
      "        if self._saved_model_inputs_spec is None:\n",
      "          self._set_save_spec(inputs)\n",
      "\n",
      "        return outputs\n",
      "\n"
     ]
    }
   ],
   "source": [
    "import inspect\n",
    "print(inspect.getsource(descriminator.__call__)) #소스 코드 "
   ]
  }
 ],
 "metadata": {
  "accelerator": "GPU",
  "colab": {
   "collapsed_sections": [],
   "name": "201029_12기_고급시각반",
   "provenance": []
  },
  "kernelspec": {
   "display_name": "Python 3",
   "language": "python",
   "name": "python3"
  },
  "language_info": {
   "codemirror_mode": {
    "name": "ipython",
    "version": 3
   },
   "file_extension": ".py",
   "mimetype": "text/x-python",
   "name": "python",
   "nbconvert_exporter": "python",
   "pygments_lexer": "ipython3",
   "version": "3.7.6"
  }
 },
 "nbformat": 4,
 "nbformat_minor": 1
}
