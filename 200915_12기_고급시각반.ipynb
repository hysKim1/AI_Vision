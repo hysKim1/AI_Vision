{
 "cells": [
  {
   "cell_type": "markdown",
   "metadata": {},
   "source": [
    "# [AI 이노베이션 스퀘어] 12기 고급 시각반\n",
    "- github: https://github.com/hysKim1/AI_Vision\n",
    "    - [파이썬 공식문서]https://docs.python.org/ko/3/\n",
    "    - [Numpy 공식문서]https://numpy.org/devdocs/\n",
    "    - [ML]https://developers.google.com/machine-learning/crash-course/ml-intro?hl=ko\n",
    "    - [DL]https://www.tensorflow.org/?hl=ko\n",
    "    \n",
    "    \n",
    "---\n",
    "* [Numpy,Scipy,Scikit-image, PIL를 통한 기본 영상 처리5](#Numpy,Scipy,Scikit-image,-PIL를-통한-기본-영상-처리5)\n",
    "    * [einsum](#einsum)\n",
    "      * [Vector Multiplication](#Vector-Multiplication)\n",
    "      * [Matrix](#Matrix)\n",
    "          * [Diagonal](#Diagonal)\n",
    "          * [Trace](#Trace)\n",
    "      * [Vector, Matrix Multiplication](#Vector,-Matrix-Multiplication)\n",
    "      * [ Matrix Multiplication](#Matrix-Multiplication)\n",
    "          * [Batch Matrix Multiplication](#Batch-Matrix-Multiplication)\n",
    "      * [Ellipsis](#Ellipsis)\n",
    "* [OPENCV를 활용한 영상 처리1](#OPENCV를-활용한-영상-처리1)\n",
    "  * [OpenCV](#OpenCV)\n",
    "  * [ OpenCV 머신러닝 맛보기](#OpenCV-머신러닝-맛보기)\n",
    "\n",
    "---\n",
    "## Numpy,Scipy,Scikit-image, PIL를 통한 기본 영상 처리5\n",
    "## einsum\n",
    "- Einstein Summation Notation 아인슈타인 표기법 이용 벡터,행렬,텐서의 복잡한 연산을 통일된 방법으로 간략화\n",
    "    - 두 벡터의 내적 $c = \\sum_{i=1}^N a_i b_i$ 표기를 $c = a_i b_i$ 와 같이 표기\n",
    "- `einsum(\" , , -> \", arg1,arg2,arg3)`와 같이 작성\n",
    "    - 두 벡터의 내적 : einsum('i,j->' a,b)\n",
    "- Numpy, TensorFlow, Pytorch 에서 최적화됨 \n",
    "- 이전에는 원그리기에 사용했지만 딥러닝에 loss 함수에 사용함\n",
    "\n",
    "텐서플로우 공실문서 참고 : https://www.tensorflow.org/tutorials/generative/style_transfer?hl=ko#%EC%8A%A4%ED%83%80%EC%9D%BC_%EA%B3%84%EC%82%B0%ED%95%98%EA%B8%B0\n",
    "\n",
    "- Numpy.pdf 참고 "
   ]
  },
  {
   "cell_type": "code",
   "execution_count": 1,
   "metadata": {},
   "outputs": [],
   "source": [
    "import numpy as np\n",
    "a= np.array([1,2,3])"
   ]
  },
  {
   "cell_type": "markdown",
   "metadata": {},
   "source": [
    "### Vector Multiplication\n",
    "### Vector Hadamard product\n",
    "- 동일한 위치의 원소간의 곱(Element-wise Multiplication)\n",
    "- $a_i◦b_i=c_i$ \n",
    "    - a,b는 shape이 동일 해야함"
   ]
  },
  {
   "cell_type": "code",
   "execution_count": 2,
   "metadata": {},
   "outputs": [
    {
     "data": {
      "text/plain": [
       "array([1, 4, 9])"
      ]
     },
     "execution_count": 2,
     "metadata": {},
     "output_type": "execute_result"
    }
   ],
   "source": [
    "np.einsum('i,i->i',a,a)  # 동일한 위치의 값을 제곱 [1*1, 2*2, 3*3]=[1,4,9]"
   ]
  },
  {
   "cell_type": "code",
   "execution_count": 3,
   "metadata": {},
   "outputs": [
    {
     "data": {
      "text/plain": [
       "array([1, 4, 9])"
      ]
     },
     "execution_count": 3,
     "metadata": {},
     "output_type": "execute_result"
    }
   ],
   "source": [
    "a*a"
   ]
  },
  {
   "cell_type": "markdown",
   "metadata": {},
   "source": [
    "### Vector inner product\n",
    "- 벡터간의 내적\n",
    "- $c=a_ib_i$ "
   ]
  },
  {
   "cell_type": "code",
   "execution_count": 4,
   "metadata": {
    "scrolled": true
   },
   "outputs": [
    {
     "data": {
      "text/plain": [
       "14"
      ]
     },
     "execution_count": 4,
     "metadata": {},
     "output_type": "execute_result"
    }
   ],
   "source": [
    "np.einsum('i,i->',a,a)  #각 값의 제곱한 것의 합: 1*1+2*2+3*3= 1+4+9 = 14"
   ]
  },
  {
   "cell_type": "code",
   "execution_count": 5,
   "metadata": {},
   "outputs": [
    {
     "data": {
      "text/plain": [
       "14"
      ]
     },
     "execution_count": 5,
     "metadata": {},
     "output_type": "execute_result"
    }
   ],
   "source": [
    "a@a"
   ]
  },
  {
   "cell_type": "code",
   "execution_count": 6,
   "metadata": {},
   "outputs": [
    {
     "data": {
      "text/plain": [
       "14"
      ]
     },
     "execution_count": 6,
     "metadata": {},
     "output_type": "execute_result"
    }
   ],
   "source": [
    "np.dot(a,a)"
   ]
  },
  {
   "cell_type": "markdown",
   "metadata": {},
   "source": [
    "#### vector,  outer product\n",
    "- 외적\n",
    "- $C_{ij}=a_ib_j$ "
   ]
  },
  {
   "cell_type": "code",
   "execution_count": 7,
   "metadata": {
    "scrolled": false
   },
   "outputs": [
    {
     "data": {
      "text/plain": [
       "array([[1, 2, 3],\n",
       "       [2, 4, 6],\n",
       "       [3, 6, 9]])"
      ]
     },
     "execution_count": 7,
     "metadata": {},
     "output_type": "execute_result"
    }
   ],
   "source": [
    "np.einsum('i,j->ij',a,a)"
   ]
  },
  {
   "cell_type": "code",
   "execution_count": 8,
   "metadata": {},
   "outputs": [
    {
     "data": {
      "text/plain": [
       "array([[1, 2, 3],\n",
       "       [2, 4, 6],\n",
       "       [3, 6, 9]])"
      ]
     },
     "execution_count": 8,
     "metadata": {},
     "output_type": "execute_result"
    }
   ],
   "source": [
    "np.outer(a,a)"
   ]
  },
  {
   "cell_type": "markdown",
   "metadata": {},
   "source": [
    "#### ->\n",
    "- 곱의 합\n",
    "\n",
    "외적의 합"
   ]
  },
  {
   "cell_type": "code",
   "execution_count": 9,
   "metadata": {
    "scrolled": false
   },
   "outputs": [
    {
     "data": {
      "text/plain": [
       "36"
      ]
     },
     "execution_count": 9,
     "metadata": {},
     "output_type": "execute_result"
    }
   ],
   "source": [
    "np.einsum('i,j->',a,a )  #(1*1+1*2+ 1*3 )+(2*1+2*2+2*3)+ (3*1+3*2+ 3*3) =36"
   ]
  },
  {
   "cell_type": "code",
   "execution_count": 10,
   "metadata": {},
   "outputs": [
    {
     "data": {
      "text/plain": [
       "36"
      ]
     },
     "execution_count": 10,
     "metadata": {},
     "output_type": "execute_result"
    }
   ],
   "source": [
    "np.outer(a,a).sum()"
   ]
  },
  {
   "cell_type": "markdown",
   "metadata": {},
   "source": [
    "### Matrix "
   ]
  },
  {
   "cell_type": "code",
   "execution_count": 11,
   "metadata": {
    "scrolled": true
   },
   "outputs": [
    {
     "data": {
      "text/plain": [
       "(array([1, 2, 3]),\n",
       " array([[0, 1, 2],\n",
       "        [3, 4, 5]]))"
      ]
     },
     "execution_count": 11,
     "metadata": {},
     "output_type": "execute_result"
    }
   ],
   "source": [
    "B= np.arange(6).reshape(2,3)\n",
    "a,B"
   ]
  },
  {
   "cell_type": "code",
   "execution_count": 12,
   "metadata": {},
   "outputs": [
    {
     "data": {
      "text/plain": [
       "array([[0, 1, 2],\n",
       "       [3, 4, 5]])"
      ]
     },
     "execution_count": 12,
     "metadata": {},
     "output_type": "execute_result"
    }
   ],
   "source": [
    "np.einsum('ij->ij',B)  #그대로"
   ]
  },
  {
   "cell_type": "markdown",
   "metadata": {},
   "source": [
    "#### Transpose \n",
    "- 전치행렬 $B_{ij} = A_{ji}$\n",
    "- 행과 열의 위치가 서로 바뀜"
   ]
  },
  {
   "cell_type": "code",
   "execution_count": 13,
   "metadata": {},
   "outputs": [
    {
     "data": {
      "text/plain": [
       "array([[0, 3],\n",
       "       [1, 4],\n",
       "       [2, 5]])"
      ]
     },
     "execution_count": 13,
     "metadata": {},
     "output_type": "execute_result"
    }
   ],
   "source": [
    "np.einsum('ab->ba',B) #전치행렬"
   ]
  },
  {
   "cell_type": "code",
   "execution_count": 14,
   "metadata": {},
   "outputs": [
    {
     "data": {
      "text/plain": [
       "array([[0, 3],\n",
       "       [1, 4],\n",
       "       [2, 5]])"
      ]
     },
     "execution_count": 14,
     "metadata": {},
     "output_type": "execute_result"
    }
   ],
   "source": [
    "B.T  #상동"
   ]
  },
  {
   "cell_type": "markdown",
   "metadata": {},
   "source": [
    "#### Diagonal\n",
    "- 대각 원소 ( 원소의 위치가행과 열이 동일한 경우)\n",
    "- 정방행렬인 경우 가능"
   ]
  },
  {
   "cell_type": "code",
   "execution_count": 15,
   "metadata": {},
   "outputs": [],
   "source": [
    "B=np.arange(1,5).reshape(2,2)"
   ]
  },
  {
   "cell_type": "code",
   "execution_count": 16,
   "metadata": {},
   "outputs": [
    {
     "data": {
      "text/plain": [
       "array([1, 4])"
      ]
     },
     "execution_count": 16,
     "metadata": {},
     "output_type": "execute_result"
    }
   ],
   "source": [
    "np.einsum('ii->i',B) #대각 원소 (행열 크기 동일해야함)"
   ]
  },
  {
   "cell_type": "code",
   "execution_count": 17,
   "metadata": {},
   "outputs": [
    {
     "data": {
      "text/plain": [
       "array([1, 4])"
      ]
     },
     "execution_count": 17,
     "metadata": {},
     "output_type": "execute_result"
    }
   ],
   "source": [
    "B.diagonal()"
   ]
  },
  {
   "cell_type": "markdown",
   "metadata": {},
   "source": [
    "#### Trace\n",
    "- 행렬의 대각합 (대각원소의 합) \n",
    "- $A_{ii}$"
   ]
  },
  {
   "cell_type": "code",
   "execution_count": 18,
   "metadata": {},
   "outputs": [
    {
     "data": {
      "text/plain": [
       "5"
      ]
     },
     "execution_count": 18,
     "metadata": {},
     "output_type": "execute_result"
    }
   ],
   "source": [
    "np.einsum('ii->',B) # 대각원소의 합(->)"
   ]
  },
  {
   "cell_type": "code",
   "execution_count": 19,
   "metadata": {},
   "outputs": [
    {
     "data": {
      "text/plain": [
       "array([[1, 2],\n",
       "       [3, 4]])"
      ]
     },
     "execution_count": 19,
     "metadata": {},
     "output_type": "execute_result"
    }
   ],
   "source": [
    "B"
   ]
  },
  {
   "cell_type": "markdown",
   "metadata": {},
   "source": [
    "#### Sum\n",
    "- 전체 합\n",
    "- $ B_{ij}$"
   ]
  },
  {
   "cell_type": "code",
   "execution_count": 20,
   "metadata": {
    "scrolled": true
   },
   "outputs": [
    {
     "data": {
      "text/plain": [
       "10"
      ]
     },
     "execution_count": 20,
     "metadata": {},
     "output_type": "execute_result"
    }
   ],
   "source": [
    "np.einsum('ij->',B)"
   ]
  },
  {
   "cell_type": "code",
   "execution_count": 21,
   "metadata": {},
   "outputs": [
    {
     "data": {
      "text/plain": [
       "10"
      ]
     },
     "execution_count": 21,
     "metadata": {},
     "output_type": "execute_result"
    }
   ],
   "source": [
    "B.sum()"
   ]
  },
  {
   "cell_type": "markdown",
   "metadata": {},
   "source": [
    "#### Row sum\n",
    "- 행 합\n",
    "-  $ b_{i}$"
   ]
  },
  {
   "cell_type": "code",
   "execution_count": 22,
   "metadata": {},
   "outputs": [
    {
     "data": {
      "text/plain": [
       "array([3, 7])"
      ]
     },
     "execution_count": 22,
     "metadata": {},
     "output_type": "execute_result"
    }
   ],
   "source": [
    "np.einsum('ij->i',B)"
   ]
  },
  {
   "cell_type": "code",
   "execution_count": 23,
   "metadata": {},
   "outputs": [
    {
     "data": {
      "text/plain": [
       "array([3, 7])"
      ]
     },
     "execution_count": 23,
     "metadata": {},
     "output_type": "execute_result"
    }
   ],
   "source": [
    "B.sum(axis=1)"
   ]
  },
  {
   "cell_type": "markdown",
   "metadata": {},
   "source": [
    "#### Column sum\n",
    "- 열 합\n",
    "-  $ b_{j}$"
   ]
  },
  {
   "cell_type": "code",
   "execution_count": 24,
   "metadata": {},
   "outputs": [
    {
     "data": {
      "text/plain": [
       "array([4, 6])"
      ]
     },
     "execution_count": 24,
     "metadata": {},
     "output_type": "execute_result"
    }
   ],
   "source": [
    "np.einsum('ij->j',B)"
   ]
  },
  {
   "cell_type": "code",
   "execution_count": 25,
   "metadata": {},
   "outputs": [
    {
     "data": {
      "text/plain": [
       "array([4, 6])"
      ]
     },
     "execution_count": 25,
     "metadata": {},
     "output_type": "execute_result"
    }
   ],
   "source": [
    "B.sum(axis=0)"
   ]
  },
  {
   "cell_type": "markdown",
   "metadata": {},
   "source": [
    "### Vector, Matrix Multiplication\n",
    "- ab,b ->a   left multiplication \n",
    "- a,ab->b    right multiplication\n",
    "\n",
    "### vector, matrix inner product\n",
    "- left multiplication\n",
    "    - $c_i = B_{ij} a_j$\n",
    "- right multiplication\n",
    "    - $c_j = a_i B_{ij}$"
   ]
  },
  {
   "cell_type": "code",
   "execution_count": 26,
   "metadata": {},
   "outputs": [
    {
     "data": {
      "text/plain": [
       "array([14, 32])"
      ]
     },
     "execution_count": 26,
     "metadata": {},
     "output_type": "execute_result"
    }
   ],
   "source": [
    "a=np.arange(1,4)\n",
    "B=np.arange(1,7).reshape(2,3)\n",
    "\n",
    "np.einsum(\"ij,j->i\", B, a) #left multiplication & 행 합"
   ]
  },
  {
   "cell_type": "code",
   "execution_count": 27,
   "metadata": {
    "scrolled": true
   },
   "outputs": [
    {
     "data": {
      "text/plain": [
       "array([[ 1,  4,  9],\n",
       "       [ 4, 10, 18]])"
      ]
     },
     "execution_count": 27,
     "metadata": {},
     "output_type": "execute_result"
    }
   ],
   "source": [
    "B*a #vector broadcasting"
   ]
  },
  {
   "cell_type": "code",
   "execution_count": 28,
   "metadata": {
    "scrolled": true
   },
   "outputs": [
    {
     "data": {
      "text/plain": [
       "array([[ 1,  4,  9],\n",
       "       [ 4, 10, 18]])"
      ]
     },
     "execution_count": 28,
     "metadata": {},
     "output_type": "execute_result"
    }
   ],
   "source": [
    "B*a"
   ]
  },
  {
   "cell_type": "code",
   "execution_count": 29,
   "metadata": {},
   "outputs": [
    {
     "data": {
      "text/plain": [
       "array([14, 32])"
      ]
     },
     "execution_count": 29,
     "metadata": {},
     "output_type": "execute_result"
    }
   ],
   "source": [
    "(B*a).sum(axis=1) "
   ]
  },
  {
   "cell_type": "code",
   "execution_count": 30,
   "metadata": {
    "scrolled": false
   },
   "outputs": [
    {
     "data": {
      "text/plain": [
       "array([ 5, 14, 27])"
      ]
     },
     "execution_count": 30,
     "metadata": {},
     "output_type": "execute_result"
    }
   ],
   "source": [
    "np.einsum('ij,j->j',B,a)  #left multiplication & 열 합"
   ]
  },
  {
   "cell_type": "code",
   "execution_count": 31,
   "metadata": {
    "scrolled": true
   },
   "outputs": [
    {
     "data": {
      "text/plain": [
       "array([ 5, 14, 27])"
      ]
     },
     "execution_count": 31,
     "metadata": {},
     "output_type": "execute_result"
    }
   ],
   "source": [
    "(B*a).sum(axis=0)  #열합"
   ]
  },
  {
   "cell_type": "code",
   "execution_count": 32,
   "metadata": {},
   "outputs": [
    {
     "data": {
      "text/plain": [
       "array([14, 32])"
      ]
     },
     "execution_count": 32,
     "metadata": {},
     "output_type": "execute_result"
    }
   ],
   "source": [
    "np.einsum(\"i,ij->j\", a,B.T) #right multiplication 행합"
   ]
  },
  {
   "cell_type": "code",
   "execution_count": 33,
   "metadata": {},
   "outputs": [
    {
     "data": {
      "text/plain": [
       "array([14, 32])"
      ]
     },
     "execution_count": 33,
     "metadata": {},
     "output_type": "execute_result"
    }
   ],
   "source": [
    "(a*B).sum(axis=1) "
   ]
  },
  {
   "cell_type": "code",
   "execution_count": 34,
   "metadata": {},
   "outputs": [
    {
     "data": {
      "text/plain": [
       "array([14, 32])"
      ]
     },
     "execution_count": 34,
     "metadata": {},
     "output_type": "execute_result"
    }
   ],
   "source": [
    "a@B.T "
   ]
  },
  {
   "cell_type": "code",
   "execution_count": 35,
   "metadata": {},
   "outputs": [
    {
     "data": {
      "text/plain": [
       "array([ 5, 14, 27])"
      ]
     },
     "execution_count": 35,
     "metadata": {},
     "output_type": "execute_result"
    }
   ],
   "source": [
    "np.einsum(\"i,ij->i\", a,B.T) "
   ]
  },
  {
   "cell_type": "code",
   "execution_count": 36,
   "metadata": {},
   "outputs": [
    {
     "data": {
      "text/plain": [
       "array([ 5, 14, 27])"
      ]
     },
     "execution_count": 36,
     "metadata": {},
     "output_type": "execute_result"
    }
   ],
   "source": [
    "(a*B).sum(axis=0)     #right multiplication  열합"
   ]
  },
  {
   "cell_type": "code",
   "execution_count": 37,
   "metadata": {
    "scrolled": false
   },
   "outputs": [
    {
     "data": {
      "text/plain": [
       "46"
      ]
     },
     "execution_count": 37,
     "metadata": {},
     "output_type": "execute_result"
    }
   ],
   "source": [
    "np.einsum('ij,j->',B,a)  # multiplication 결과의 전체 합"
   ]
  },
  {
   "cell_type": "markdown",
   "metadata": {},
   "source": [
    "### Matrix Multiplication\n",
    "#### Matrix inner product\n",
    "- 행렬 내적 \n",
    "- $D_{ij} = B_{ik}C_{kj}$"
   ]
  },
  {
   "cell_type": "code",
   "execution_count": 38,
   "metadata": {},
   "outputs": [
    {
     "data": {
      "text/plain": [
       "(array([[0, 1],\n",
       "        [2, 3]]),\n",
       " array([[1, 2],\n",
       "        [3, 4]]))"
      ]
     },
     "execution_count": 38,
     "metadata": {},
     "output_type": "execute_result"
    }
   ],
   "source": [
    "B=np.arange(4).reshape(2,2)\n",
    "C=np.arange(1,5).reshape(2,2)\n",
    "B,C"
   ]
  },
  {
   "cell_type": "code",
   "execution_count": 39,
   "metadata": {},
   "outputs": [
    {
     "data": {
      "text/plain": [
       "array([[ 3,  4],\n",
       "       [11, 16]])"
      ]
     },
     "execution_count": 39,
     "metadata": {},
     "output_type": "execute_result"
    }
   ],
   "source": [
    "np.einsum('ik,kj->ij',B,C)"
   ]
  },
  {
   "cell_type": "code",
   "execution_count": 40,
   "metadata": {},
   "outputs": [
    {
     "data": {
      "text/plain": [
       "array([[ 3,  4],\n",
       "       [11, 16]])"
      ]
     },
     "execution_count": 40,
     "metadata": {},
     "output_type": "execute_result"
    }
   ],
   "source": [
    "B@C"
   ]
  },
  {
   "cell_type": "code",
   "execution_count": 41,
   "metadata": {},
   "outputs": [
    {
     "data": {
      "text/plain": [
       "array([[ 3,  4],\n",
       "       [11, 16]])"
      ]
     },
     "execution_count": 41,
     "metadata": {},
     "output_type": "execute_result"
    }
   ],
   "source": [
    "np.dot(B,C)"
   ]
  },
  {
   "cell_type": "code",
   "execution_count": 42,
   "metadata": {
    "scrolled": true
   },
   "outputs": [
    {
     "data": {
      "text/plain": [
       "34"
      ]
     },
     "execution_count": 42,
     "metadata": {},
     "output_type": "execute_result"
    }
   ],
   "source": [
    "np.einsum('ik,kj->',B,C)  #내적의 합"
   ]
  },
  {
   "cell_type": "code",
   "execution_count": 43,
   "metadata": {},
   "outputs": [
    {
     "data": {
      "text/plain": [
       "array([[ 0,  7],\n",
       "       [ 6, 21]])"
      ]
     },
     "execution_count": 43,
     "metadata": {},
     "output_type": "execute_result"
    }
   ],
   "source": [
    "np.einsum('ik,kj->ik',B,C)"
   ]
  },
  {
   "cell_type": "code",
   "execution_count": 44,
   "metadata": {},
   "outputs": [
    {
     "data": {
      "text/plain": [
       "array([[ 0,  2],\n",
       "       [ 6, 12]])"
      ]
     },
     "execution_count": 44,
     "metadata": {},
     "output_type": "execute_result"
    }
   ],
   "source": [
    "B*C"
   ]
  },
  {
   "cell_type": "markdown",
   "metadata": {},
   "source": [
    "#### Hadamard product (element-wise)"
   ]
  },
  {
   "cell_type": "code",
   "execution_count": 45,
   "metadata": {
    "scrolled": true
   },
   "outputs": [
    {
     "data": {
      "text/plain": [
       "array([[ 0,  2],\n",
       "       [ 6, 12]])"
      ]
     },
     "execution_count": 45,
     "metadata": {},
     "output_type": "execute_result"
    }
   ],
   "source": [
    "np.einsum('ij,ij->ij', B,C)"
   ]
  },
  {
   "cell_type": "markdown",
   "metadata": {},
   "source": [
    "#### Batch Matrix Multiplication\n",
    "- 배치 행렬곱\n",
    "- 데이터 활용할 때 Y 개 만큼 a x b 가 있다(NHW format)\n",
    "    - $c_{n,c,d} = \\sum_{ij} A_{n,i,j,c} B_{n,i,j,d}$\n",
    "    -  n 없다고 생각하면 행렬곱과 동일함"
   ]
  },
  {
   "cell_type": "code",
   "execution_count": 46,
   "metadata": {},
   "outputs": [],
   "source": [
    "def gram_matrix(input_tensor):\n",
    "                            #'bijc,bijd->bcd' 4차원을 3차원으로 만듦\n",
    "  result = tf.linamlg.einsum('bijc,bijd->bcd', input_tensor, input_tensor)\n",
    "  input_shape = tf.shape(input_tensor)\n",
    "  num_locations = tf.cast(input_shape[1]*input_shape[2], tf.float32)\n",
    "  return result/(num_locations)"
   ]
  },
  {
   "cell_type": "code",
   "execution_count": 47,
   "metadata": {},
   "outputs": [
    {
     "data": {
      "text/plain": [
       "array([[[1.5417546 , 1.68741084, 0.8684148 , 0.76562851, 0.85437789,\n",
       "         1.10206535, 1.7080623 , 1.75575501],\n",
       "        [1.13689844, 1.34701395, 0.7266393 , 0.76192932, 0.69111853,\n",
       "         1.20164018, 1.54566359, 1.44654534],\n",
       "        [1.00355254, 1.12968637, 0.4146201 , 0.45271255, 0.46674255,\n",
       "         0.75930772, 1.1581142 , 1.0768864 ],\n",
       "        [0.62226923, 0.78187403, 0.56933278, 0.42039791, 0.59135783,\n",
       "         0.96593214, 0.82791815, 0.81558738],\n",
       "        [0.73444507, 0.90977023, 0.70516038, 0.74639809, 0.55692776,\n",
       "         0.98546806, 1.21646196, 1.16609142],\n",
       "        [0.99262438, 1.11565618, 0.89574109, 0.748136  , 0.75001527,\n",
       "         0.94937629, 1.26659097, 1.38130863],\n",
       "        [1.43992007, 1.57992156, 0.7085268 , 0.58061838, 0.78637919,\n",
       "         1.03775181, 1.49780827, 1.5168637 ],\n",
       "        [1.15850101, 1.21361789, 0.97752602, 0.82192353, 0.75264058,\n",
       "         0.71833422, 1.35583537, 1.575345  ],\n",
       "        [1.16559751, 1.25245664, 0.7088084 , 0.59860358, 0.66206931,\n",
       "         0.7654599 , 1.26610054, 1.35539698],\n",
       "        [1.93333876, 2.10191431, 1.08526977, 1.01054199, 1.02118791,\n",
       "         1.29590201, 2.18203166, 2.24287941]],\n",
       "\n",
       "       [[1.4992748 , 1.59035548, 1.1006757 , 1.2914707 , 1.83470216,\n",
       "         1.53639137, 0.96383664, 1.84292212],\n",
       "        [0.73913973, 0.73083917, 0.56292738, 0.84377227, 1.15122529,\n",
       "         0.80463991, 0.31890705, 1.03843051],\n",
       "        [1.5529365 , 1.77749763, 1.06514667, 1.06830013, 1.54934028,\n",
       "         1.42287632, 1.27150887, 1.72273351],\n",
       "        [1.11840735, 1.15724897, 0.86659771, 0.91837669, 1.35490963,\n",
       "         1.19818191, 0.72845572, 1.37387673],\n",
       "        [1.26185495, 1.19865324, 0.99391018, 1.04414412, 1.5130065 ,\n",
       "         1.57296343, 0.61014613, 1.52318739],\n",
       "        [1.00376214, 1.23970362, 0.52409577, 0.72168449, 0.88954134,\n",
       "         0.79900795, 0.80002722, 1.02499462],\n",
       "        [0.96724345, 0.95549964, 0.72436356, 0.90475843, 1.2559903 ,\n",
       "         1.11655897, 0.46519481, 1.21765499],\n",
       "        [0.88848741, 1.0185998 , 0.56072672, 0.96845606, 1.25541251,\n",
       "         0.73633927, 0.55312076, 1.17487201],\n",
       "        [1.66511962, 1.6479042 , 1.26975418, 1.34552199, 1.93788402,\n",
       "         1.96286445, 0.90512912, 1.9800822 ],\n",
       "        [1.03432716, 0.99478564, 0.88070488, 0.68954474, 1.12263288,\n",
       "         1.27507219, 0.66361306, 1.20524783]],\n",
       "\n",
       "       [[1.857442  , 1.71895122, 1.74963823, 1.9422802 , 1.51102943,\n",
       "         0.50827921, 2.01419837, 1.92845192],\n",
       "        [1.29625334, 1.40547867, 1.28677704, 1.59004355, 1.31258288,\n",
       "         0.55795296, 1.70303536, 1.49427396],\n",
       "        [1.51649038, 1.48252426, 1.22795021, 1.54499759, 1.30281638,\n",
       "         0.63285381, 1.79463898, 1.5219762 ],\n",
       "        [1.68591017, 1.45646584, 1.45208205, 1.59315291, 1.25141592,\n",
       "         0.49604896, 1.77220535, 1.6428113 ],\n",
       "        [0.24855708, 0.71210423, 0.57708332, 0.91545232, 0.8219294 ,\n",
       "         0.39675233, 0.90399834, 0.69033395],\n",
       "        [1.08615191, 1.38972553, 0.81052271, 1.31561735, 1.13385416,\n",
       "         0.30296173, 1.17291609, 1.10647339],\n",
       "        [1.39277671, 1.10960271, 1.08514554, 1.18116215, 0.9659255 ,\n",
       "         0.55826797, 1.54125279, 1.29266685],\n",
       "        [1.32473056, 1.31872447, 0.92844581, 1.25083752, 1.0368841 ,\n",
       "         0.3263632 , 1.26320312, 1.19266736],\n",
       "        [1.93384395, 1.77463974, 1.80457033, 1.99298236, 1.5381267 ,\n",
       "         0.47657592, 2.02942944, 1.98041461],\n",
       "        [1.60523385, 1.0995343 , 1.30280199, 1.22976458, 0.93038112,\n",
       "         0.48369159, 1.58965551, 1.43346089]]])"
      ]
     },
     "execution_count": 47,
     "metadata": {},
     "output_type": "execute_result"
    }
   ],
   "source": [
    "## Batched Matrix Multiplication\n",
    "A = np.random.random(size=(3,10,4))\n",
    "B = np.random.random(size=(3,4, 8))\n",
    "np.einsum('bik,bkj->bij',A, B)"
   ]
  },
  {
   "cell_type": "code",
   "execution_count": 48,
   "metadata": {},
   "outputs": [
    {
     "data": {
      "text/plain": [
       "(6, 4, 3)"
      ]
     },
     "execution_count": 48,
     "metadata": {},
     "output_type": "execute_result"
    }
   ],
   "source": [
    "A=np.arange(24).reshape(6,1,1,4)\n",
    "B=np.arange(18).reshape(6,1,1,3)\n",
    "np.einsum('...ijc,...ijd->...cd', A,B).shape"
   ]
  },
  {
   "cell_type": "code",
   "execution_count": 49,
   "metadata": {
    "scrolled": true
   },
   "outputs": [
    {
     "data": {
      "text/plain": [
       "array([[[  0,   0,   0],\n",
       "        [  0,   1,   2],\n",
       "        [  0,   2,   4],\n",
       "        [  0,   3,   6]],\n",
       "\n",
       "       [[ 12,  16,  20],\n",
       "        [ 15,  20,  25],\n",
       "        [ 18,  24,  30],\n",
       "        [ 21,  28,  35]],\n",
       "\n",
       "       [[ 48,  56,  64],\n",
       "        [ 54,  63,  72],\n",
       "        [ 60,  70,  80],\n",
       "        [ 66,  77,  88]],\n",
       "\n",
       "       [[108, 120, 132],\n",
       "        [117, 130, 143],\n",
       "        [126, 140, 154],\n",
       "        [135, 150, 165]],\n",
       "\n",
       "       [[192, 208, 224],\n",
       "        [204, 221, 238],\n",
       "        [216, 234, 252],\n",
       "        [228, 247, 266]],\n",
       "\n",
       "       [[300, 320, 340],\n",
       "        [315, 336, 357],\n",
       "        [330, 352, 374],\n",
       "        [345, 368, 391]]])"
      ]
     },
     "execution_count": 49,
     "metadata": {},
     "output_type": "execute_result"
    }
   ],
   "source": [
    "np.einsum('bijc,bijd->bcd', A,B)"
   ]
  },
  {
   "cell_type": "code",
   "execution_count": 55,
   "metadata": {
    "scrolled": true
   },
   "outputs": [
    {
     "data": {
      "text/plain": [
       "(6, 4, 3)"
      ]
     },
     "execution_count": 55,
     "metadata": {},
     "output_type": "execute_result"
    }
   ],
   "source": [
    "np.einsum('...ijc,...ijd->...cd', A,B).shape"
   ]
  },
  {
   "cell_type": "code",
   "execution_count": 50,
   "metadata": {
    "scrolled": true
   },
   "outputs": [
    {
     "data": {
      "text/plain": [
       "array([[[  0,   0,   0],\n",
       "        [  0,   1,   2],\n",
       "        [  0,   2,   4],\n",
       "        [  0,   3,   6]],\n",
       "\n",
       "       [[ 12,  16,  20],\n",
       "        [ 15,  20,  25],\n",
       "        [ 18,  24,  30],\n",
       "        [ 21,  28,  35]],\n",
       "\n",
       "       [[ 48,  56,  64],\n",
       "        [ 54,  63,  72],\n",
       "        [ 60,  70,  80],\n",
       "        [ 66,  77,  88]],\n",
       "\n",
       "       [[108, 120, 132],\n",
       "        [117, 130, 143],\n",
       "        [126, 140, 154],\n",
       "        [135, 150, 165]],\n",
       "\n",
       "       [[192, 208, 224],\n",
       "        [204, 221, 238],\n",
       "        [216, 234, 252],\n",
       "        [228, 247, 266]],\n",
       "\n",
       "       [[300, 320, 340],\n",
       "        [315, 336, 357],\n",
       "        [330, 352, 374],\n",
       "        [345, 368, 391]]])"
      ]
     },
     "execution_count": 50,
     "metadata": {},
     "output_type": "execute_result"
    }
   ],
   "source": [
    "np.einsum('...ijc,...ijd->...cd', A,B)"
   ]
  },
  {
   "cell_type": "markdown",
   "metadata": {},
   "source": [
    "#### Ellipsis\n",
    "- `...` 를 가리킴\n",
    "- 2차원 이상 사용가능 \n",
    "- `:,:`"
   ]
  },
  {
   "cell_type": "code",
   "execution_count": 53,
   "metadata": {
    "scrolled": true
   },
   "outputs": [
    {
     "data": {
      "text/plain": [
       "(6, 1, 1, 1, 3, 4)"
      ]
     },
     "execution_count": 53,
     "metadata": {},
     "output_type": "execute_result"
    }
   ],
   "source": [
    "np.einsum('...jl,...ik',A,B).shape"
   ]
  },
  {
   "cell_type": "code",
   "execution_count": 58,
   "metadata": {},
   "outputs": [
    {
     "data": {
      "text/plain": [
       "array([[[ 0,  1,  2,  3],\n",
       "        [ 4,  5,  6,  7],\n",
       "        [ 8,  9, 10, 11]],\n",
       "\n",
       "       [[12, 13, 14, 15],\n",
       "        [16, 17, 18, 19],\n",
       "        [20, 21, 22, 23]]])"
      ]
     },
     "execution_count": 58,
     "metadata": {},
     "output_type": "execute_result"
    }
   ],
   "source": [
    "x=np.arange(24).reshape(2,3,4) #3차원\n",
    "x"
   ]
  },
  {
   "cell_type": "code",
   "execution_count": 59,
   "metadata": {
    "scrolled": true
   },
   "outputs": [
    {
     "data": {
      "text/plain": [
       "array([[ 0,  1,  2,  3],\n",
       "       [ 4,  5,  6,  7],\n",
       "       [ 8,  9, 10, 11]])"
      ]
     },
     "execution_count": 59,
     "metadata": {},
     "output_type": "execute_result"
    }
   ],
   "source": [
    "x[0,:,:]"
   ]
  },
  {
   "cell_type": "code",
   "execution_count": 60,
   "metadata": {
    "scrolled": true
   },
   "outputs": [
    {
     "data": {
      "text/plain": [
       "array([[ 0,  1,  2,  3],\n",
       "       [ 4,  5,  6,  7],\n",
       "       [ 8,  9, 10, 11]])"
      ]
     },
     "execution_count": 60,
     "metadata": {},
     "output_type": "execute_result"
    }
   ],
   "source": [
    "x[0,...]#상동"
   ]
  },
  {
   "cell_type": "code",
   "execution_count": 61,
   "metadata": {
    "scrolled": true
   },
   "outputs": [
    {
     "data": {
      "text/plain": [
       "array([[ 0,  1,  2,  3],\n",
       "       [ 4,  5,  6,  7],\n",
       "       [ 8,  9, 10, 11]])"
      ]
     },
     "execution_count": 61,
     "metadata": {},
     "output_type": "execute_result"
    }
   ],
   "source": [
    "x[0]   #상동"
   ]
  },
  {
   "cell_type": "code",
   "execution_count": 62,
   "metadata": {},
   "outputs": [
    {
     "data": {
      "text/plain": [
       "array([[ 0,  4,  8],\n",
       "       [12, 16, 20]])"
      ]
     },
     "execution_count": 62,
     "metadata": {},
     "output_type": "execute_result"
    }
   ],
   "source": [
    "x[:,:,0]"
   ]
  },
  {
   "cell_type": "code",
   "execution_count": 27,
   "metadata": {
    "scrolled": true
   },
   "outputs": [
    {
     "data": {
      "text/plain": [
       "Ellipsis"
      ]
     },
     "execution_count": 27,
     "metadata": {},
     "output_type": "execute_result"
    }
   ],
   "source": [
    "..."
   ]
  },
  {
   "cell_type": "code",
   "execution_count": 63,
   "metadata": {},
   "outputs": [
    {
     "data": {
      "text/plain": [
       "array([[ 0,  4,  8],\n",
       "       [12, 16, 20]])"
      ]
     },
     "execution_count": 63,
     "metadata": {},
     "output_type": "execute_result"
    }
   ],
   "source": [
    "x[...,0] #상동"
   ]
  },
  {
   "cell_type": "code",
   "execution_count": 64,
   "metadata": {
    "scrolled": true
   },
   "outputs": [
    {
     "data": {
      "text/plain": [
       "(2, 3, 4)"
      ]
     },
     "execution_count": 64,
     "metadata": {},
     "output_type": "execute_result"
    }
   ],
   "source": [
    "x.shape"
   ]
  },
  {
   "cell_type": "code",
   "execution_count": 65,
   "metadata": {},
   "outputs": [
    {
     "data": {
      "text/plain": [
       "array([[[ 0,  1,  2,  3],\n",
       "        [ 4,  5,  6,  7],\n",
       "        [ 8,  9, 10, 11]],\n",
       "\n",
       "       [[12, 13, 14, 15],\n",
       "        [16, 17, 18, 19],\n",
       "        [20, 21, 22, 23]]])"
      ]
     },
     "execution_count": 65,
     "metadata": {},
     "output_type": "execute_result"
    }
   ],
   "source": [
    "np.einsum('...i',x) # 전체"
   ]
  },
  {
   "cell_type": "code",
   "execution_count": 66,
   "metadata": {
    "scrolled": true
   },
   "outputs": [
    {
     "data": {
      "text/plain": [
       "array([[[ 0,  1,  2,  3],\n",
       "        [ 4,  5,  6,  7],\n",
       "        [ 8,  9, 10, 11]],\n",
       "\n",
       "       [[12, 13, 14, 15],\n",
       "        [16, 17, 18, 19],\n",
       "        [20, 21, 22, 23]]])"
      ]
     },
     "execution_count": 66,
     "metadata": {},
     "output_type": "execute_result"
    }
   ],
   "source": [
    "np.einsum('...i->...i',x) "
   ]
  },
  {
   "cell_type": "code",
   "execution_count": 67,
   "metadata": {
    "scrolled": true
   },
   "outputs": [
    {
     "data": {
      "text/plain": [
       "array([[[ 0,  1,  2,  3],\n",
       "        [ 4,  5,  6,  7],\n",
       "        [ 8,  9, 10, 11]],\n",
       "\n",
       "       [[12, 13, 14, 15],\n",
       "        [16, 17, 18, 19],\n",
       "        [20, 21, 22, 23]]])"
      ]
     },
     "execution_count": 67,
     "metadata": {},
     "output_type": "execute_result"
    }
   ],
   "source": [
    "np.einsum('...ij->...ij',x) "
   ]
  },
  {
   "cell_type": "code",
   "execution_count": 68,
   "metadata": {},
   "outputs": [
    {
     "data": {
      "text/plain": [
       "array([[12, 15, 18, 21],\n",
       "       [48, 51, 54, 57]])"
      ]
     },
     "execution_count": 68,
     "metadata": {},
     "output_type": "execute_result"
    }
   ],
   "source": [
    "np.einsum('...ij->...j',x) #열합"
   ]
  },
  {
   "cell_type": "code",
   "execution_count": 69,
   "metadata": {},
   "outputs": [
    {
     "data": {
      "text/plain": [
       "array([[ 6, 22, 38],\n",
       "       [54, 70, 86]])"
      ]
     },
     "execution_count": 69,
     "metadata": {},
     "output_type": "execute_result"
    }
   ],
   "source": [
    "np.einsum('...ij->...i',x) #행합"
   ]
  },
  {
   "cell_type": "code",
   "execution_count": 74,
   "metadata": {},
   "outputs": [
    {
     "data": {
      "text/plain": [
       "array([[[ 0,  1,  2],\n",
       "        [ 3,  4,  5],\n",
       "        [ 6,  7,  8]],\n",
       "\n",
       "       [[ 9, 10, 11],\n",
       "        [12, 13, 14],\n",
       "        [15, 16, 17]]])"
      ]
     },
     "execution_count": 74,
     "metadata": {},
     "output_type": "execute_result"
    }
   ],
   "source": [
    "y=np.arange(18).reshape(2,3,3)\n",
    "y"
   ]
  },
  {
   "cell_type": "code",
   "execution_count": 71,
   "metadata": {},
   "outputs": [
    {
     "data": {
      "text/plain": [
       "array([[[ 0,  1,  2],\n",
       "        [ 3,  4,  5],\n",
       "        [ 6,  7,  8]],\n",
       "\n",
       "       [[ 9, 10, 11],\n",
       "        [12, 13, 14],\n",
       "        [15, 16, 17]]])"
      ]
     },
     "execution_count": 71,
     "metadata": {},
     "output_type": "execute_result"
    }
   ],
   "source": [
    "np.einsum('...i->...i',y) "
   ]
  },
  {
   "cell_type": "code",
   "execution_count": 72,
   "metadata": {},
   "outputs": [
    {
     "data": {
      "text/plain": [
       "array([[ 0,  4,  8],\n",
       "       [ 9, 13, 17]])"
      ]
     },
     "execution_count": 72,
     "metadata": {},
     "output_type": "execute_result"
    }
   ],
   "source": [
    "np.einsum('...ii->...i',y) #차원 줄어들면서 각 행렬의 대각원소를 가져옴"
   ]
  },
  {
   "cell_type": "code",
   "execution_count": 73,
   "metadata": {
    "scrolled": true
   },
   "outputs": [
    {
     "data": {
      "text/plain": [
       "array([[[ 0,  9],\n",
       "        [ 1, 10],\n",
       "        [ 2, 11]],\n",
       "\n",
       "       [[ 3, 12],\n",
       "        [ 4, 13],\n",
       "        [ 5, 14]],\n",
       "\n",
       "       [[ 6, 15],\n",
       "        [ 7, 16],\n",
       "        [ 8, 17]]])"
      ]
     },
     "execution_count": 73,
     "metadata": {},
     "output_type": "execute_result"
    }
   ],
   "source": [
    "np.einsum('k...',y) #각 행렬의 행끼리 "
   ]
  },
  {
   "cell_type": "code",
   "execution_count": 85,
   "metadata": {},
   "outputs": [],
   "source": [
    "x=np.arange(6).reshape(3,2)  #3x2\n",
    "y=np.arange(12).reshape(4,3) #4x3"
   ]
  },
  {
   "cell_type": "code",
   "execution_count": 74,
   "metadata": {},
   "outputs": [
    {
     "data": {
      "text/plain": [
       "(array([[0, 1],\n",
       "        [2, 3],\n",
       "        [4, 5]]),\n",
       " array([[ 0,  1,  2],\n",
       "        [ 3,  4,  5],\n",
       "        [ 6,  7,  8],\n",
       "        [ 9, 10, 11]]))"
      ]
     },
     "execution_count": 74,
     "metadata": {},
     "output_type": "execute_result"
    }
   ],
   "source": [
    "x, y"
   ]
  },
  {
   "cell_type": "code",
   "execution_count": 85,
   "metadata": {},
   "outputs": [
    {
     "data": {
      "text/plain": [
       "array([[0, 1],\n",
       "       [2, 3],\n",
       "       [4, 5]])"
      ]
     },
     "execution_count": 85,
     "metadata": {},
     "output_type": "execute_result"
    }
   ],
   "source": [
    "np.einsum('...ik',x)# 그대로"
   ]
  },
  {
   "cell_type": "code",
   "execution_count": 34,
   "metadata": {
    "scrolled": true
   },
   "outputs": [
    {
     "data": {
      "text/plain": [
       "array([[0, 1],\n",
       "       [2, 3],\n",
       "       [4, 5]])"
      ]
     },
     "execution_count": 34,
     "metadata": {},
     "output_type": "execute_result"
    }
   ],
   "source": [
    "np.einsum('...k',x) #그대로"
   ]
  },
  {
   "cell_type": "code",
   "execution_count": 33,
   "metadata": {
    "scrolled": true
   },
   "outputs": [
    {
     "data": {
      "text/plain": [
       "array([[0, 2, 4],\n",
       "       [1, 3, 5]])"
      ]
     },
     "execution_count": 33,
     "metadata": {},
     "output_type": "execute_result"
    }
   ],
   "source": [
    "np.einsum('ki',x) # transpose "
   ]
  },
  {
   "cell_type": "code",
   "execution_count": 35,
   "metadata": {
    "scrolled": true
   },
   "outputs": [
    {
     "data": {
      "text/plain": [
       "array([[0, 2, 4],\n",
       "       [1, 3, 5]])"
      ]
     },
     "execution_count": 35,
     "metadata": {},
     "output_type": "execute_result"
    }
   ],
   "source": [
    "np.einsum('k...',x) #전치"
   ]
  },
  {
   "cell_type": "code",
   "execution_count": 75,
   "metadata": {
    "scrolled": true
   },
   "outputs": [
    {
     "data": {
      "text/plain": [
       "array([[10, 13],\n",
       "       [28, 40],\n",
       "       [46, 67],\n",
       "       [64, 94]])"
      ]
     },
     "execution_count": 75,
     "metadata": {},
     "output_type": "execute_result"
    }
   ],
   "source": [
    "np.einsum('...k,ki',y,x)  #크기가 맞음  (4,3) @(3,2)=(4,2) "
   ]
  },
  {
   "cell_type": "code",
   "execution_count": 82,
   "metadata": {
    "scrolled": true
   },
   "outputs": [
    {
     "data": {
      "text/plain": [
       "array([[10, 13],\n",
       "       [28, 40],\n",
       "       [46, 67],\n",
       "       [64, 94]])"
      ]
     },
     "execution_count": 82,
     "metadata": {},
     "output_type": "execute_result"
    }
   ],
   "source": [
    "np.einsum('ki,...k',x,y)"
   ]
  },
  {
   "cell_type": "code",
   "execution_count": 61,
   "metadata": {
    "scrolled": true
   },
   "outputs": [
    {
     "data": {
      "text/plain": [
       "array([[10, 13],\n",
       "       [28, 40],\n",
       "       [46, 67],\n",
       "       [64, 94]])"
      ]
     },
     "execution_count": 61,
     "metadata": {},
     "output_type": "execute_result"
    }
   ],
   "source": [
    "y@x"
   ]
  },
  {
   "cell_type": "code",
   "execution_count": 70,
   "metadata": {},
   "outputs": [
    {
     "data": {
      "text/plain": [
       "array([[10, 28, 46, 64],\n",
       "       [13, 40, 67, 94]])"
      ]
     },
     "execution_count": 70,
     "metadata": {},
     "output_type": "execute_result"
    }
   ],
   "source": [
    "np.einsum('ki,...k->i...',x,y)   #  2x3 @ (4x3).T = 2x4"
   ]
  },
  {
   "cell_type": "code",
   "execution_count": 60,
   "metadata": {},
   "outputs": [
    {
     "data": {
      "text/plain": [
       "array([[10, 28, 46, 64],\n",
       "       [13, 40, 67, 94]])"
      ]
     },
     "execution_count": 60,
     "metadata": {},
     "output_type": "execute_result"
    }
   ],
   "source": [
    "x.T@y.T"
   ]
  },
  {
   "cell_type": "code",
   "execution_count": 94,
   "metadata": {
    "scrolled": false
   },
   "outputs": [
    {
     "data": {
      "text/plain": [
       "array([[10, 28, 46, 64],\n",
       "       [13, 40, 67, 94]])"
      ]
     },
     "execution_count": 94,
     "metadata": {},
     "output_type": "execute_result"
    }
   ],
   "source": [
    "np.einsum('k...,jk',x,y)"
   ]
  },
  {
   "cell_type": "code",
   "execution_count": 96,
   "metadata": {
    "scrolled": false
   },
   "outputs": [
    {
     "data": {
      "text/plain": [
       "array([[10, 28, 46, 64],\n",
       "       [13, 40, 67, 94]])"
      ]
     },
     "execution_count": 96,
     "metadata": {},
     "output_type": "execute_result"
    }
   ],
   "source": [
    "np.einsum('ki,...k->i...',x,y) #row vs col summation "
   ]
  },
  {
   "cell_type": "code",
   "execution_count": 74,
   "metadata": {},
   "outputs": [
    {
     "ename": "ValueError",
     "evalue": "operands could not be broadcast together with remapped shapes [original->remapped]: (4,3)->(3,newaxis,4) (3,2)->(3,2) ",
     "output_type": "error",
     "traceback": [
      "\u001b[1;31m---------------------------------------------------------------------------\u001b[0m",
      "\u001b[1;31mValueError\u001b[0m                                Traceback (most recent call last)",
      "\u001b[1;32m<ipython-input-74-bb3c2b20a6b0>\u001b[0m in \u001b[0;36m<module>\u001b[1;34m\u001b[0m\n\u001b[1;32m----> 1\u001b[1;33m \u001b[0mnp\u001b[0m\u001b[1;33m.\u001b[0m\u001b[0meinsum\u001b[0m\u001b[1;33m(\u001b[0m\u001b[1;34m'k...,ik'\u001b[0m\u001b[1;33m,\u001b[0m\u001b[0my\u001b[0m\u001b[1;33m,\u001b[0m\u001b[0mx\u001b[0m\u001b[1;33m)\u001b[0m\u001b[1;33m\u001b[0m\u001b[1;33m\u001b[0m\u001b[0m\n\u001b[0m",
      "\u001b[1;32m<__array_function__ internals>\u001b[0m in \u001b[0;36meinsum\u001b[1;34m(*args, **kwargs)\u001b[0m\n",
      "\u001b[1;32m~\\anaconda3\\lib\\site-packages\\numpy\\core\\einsumfunc.py\u001b[0m in \u001b[0;36meinsum\u001b[1;34m(*operands, **kwargs)\u001b[0m\n\u001b[0;32m   1354\u001b[0m     \u001b[1;31m# If no optimization, run pure einsum\u001b[0m\u001b[1;33m\u001b[0m\u001b[1;33m\u001b[0m\u001b[1;33m\u001b[0m\u001b[0m\n\u001b[0;32m   1355\u001b[0m     \u001b[1;32mif\u001b[0m \u001b[0moptimize_arg\u001b[0m \u001b[1;32mis\u001b[0m \u001b[1;32mFalse\u001b[0m\u001b[1;33m:\u001b[0m\u001b[1;33m\u001b[0m\u001b[1;33m\u001b[0m\u001b[0m\n\u001b[1;32m-> 1356\u001b[1;33m         \u001b[1;32mreturn\u001b[0m \u001b[0mc_einsum\u001b[0m\u001b[1;33m(\u001b[0m\u001b[1;33m*\u001b[0m\u001b[0moperands\u001b[0m\u001b[1;33m,\u001b[0m \u001b[1;33m**\u001b[0m\u001b[0mkwargs\u001b[0m\u001b[1;33m)\u001b[0m\u001b[1;33m\u001b[0m\u001b[1;33m\u001b[0m\u001b[0m\n\u001b[0m\u001b[0;32m   1357\u001b[0m \u001b[1;33m\u001b[0m\u001b[0m\n\u001b[0;32m   1358\u001b[0m     \u001b[0mvalid_einsum_kwargs\u001b[0m \u001b[1;33m=\u001b[0m \u001b[1;33m[\u001b[0m\u001b[1;34m'out'\u001b[0m\u001b[1;33m,\u001b[0m \u001b[1;34m'dtype'\u001b[0m\u001b[1;33m,\u001b[0m \u001b[1;34m'order'\u001b[0m\u001b[1;33m,\u001b[0m \u001b[1;34m'casting'\u001b[0m\u001b[1;33m]\u001b[0m\u001b[1;33m\u001b[0m\u001b[1;33m\u001b[0m\u001b[0m\n",
      "\u001b[1;31mValueError\u001b[0m: operands could not be broadcast together with remapped shapes [original->remapped]: (4,3)->(3,newaxis,4) (3,2)->(3,2) "
     ]
    }
   ],
   "source": [
    "np.einsum('k...,ik',y,x)  #크기가 맞지 않음  (4,3).T @(3,2)=(3,4)@(3,2) 불가"
   ]
  },
  {
   "cell_type": "code",
   "execution_count": 32,
   "metadata": {},
   "outputs": [
    {
     "ename": "ValueError",
     "evalue": "dimensions in operand 0 for collapsing index 'i' don't match (3 != 2)",
     "output_type": "error",
     "traceback": [
      "\u001b[0;31m---------------------------------------------------------------------------\u001b[0m",
      "\u001b[0;31mValueError\u001b[0m                                Traceback (most recent call last)",
      "\u001b[0;32m<ipython-input-32-866817b0d68e>\u001b[0m in \u001b[0;36m<module>\u001b[0;34m\u001b[0m\n\u001b[0;32m----> 1\u001b[0;31m \u001b[0mnp\u001b[0m\u001b[0;34m.\u001b[0m\u001b[0meinsum\u001b[0m\u001b[0;34m(\u001b[0m\u001b[0;34m'ii'\u001b[0m\u001b[0;34m,\u001b[0m\u001b[0mx\u001b[0m\u001b[0;34m)\u001b[0m \u001b[0;31m#정방행렬이 아니기 때문에 에러..\u001b[0m\u001b[0;34m\u001b[0m\u001b[0;34m\u001b[0m\u001b[0m\n\u001b[0m",
      "\u001b[0;32m<__array_function__ internals>\u001b[0m in \u001b[0;36meinsum\u001b[0;34m(*args, **kwargs)\u001b[0m\n",
      "\u001b[0;32m~/opt/anaconda3/lib/python3.7/site-packages/numpy/core/einsumfunc.py\u001b[0m in \u001b[0;36meinsum\u001b[0;34m(*operands, **kwargs)\u001b[0m\n\u001b[1;32m   1354\u001b[0m     \u001b[0;31m# If no optimization, run pure einsum\u001b[0m\u001b[0;34m\u001b[0m\u001b[0;34m\u001b[0m\u001b[0;34m\u001b[0m\u001b[0m\n\u001b[1;32m   1355\u001b[0m     \u001b[0;32mif\u001b[0m \u001b[0moptimize_arg\u001b[0m \u001b[0;32mis\u001b[0m \u001b[0;32mFalse\u001b[0m\u001b[0;34m:\u001b[0m\u001b[0;34m\u001b[0m\u001b[0;34m\u001b[0m\u001b[0m\n\u001b[0;32m-> 1356\u001b[0;31m         \u001b[0;32mreturn\u001b[0m \u001b[0mc_einsum\u001b[0m\u001b[0;34m(\u001b[0m\u001b[0;34m*\u001b[0m\u001b[0moperands\u001b[0m\u001b[0;34m,\u001b[0m \u001b[0;34m**\u001b[0m\u001b[0mkwargs\u001b[0m\u001b[0;34m)\u001b[0m\u001b[0;34m\u001b[0m\u001b[0;34m\u001b[0m\u001b[0m\n\u001b[0m\u001b[1;32m   1357\u001b[0m \u001b[0;34m\u001b[0m\u001b[0m\n\u001b[1;32m   1358\u001b[0m     \u001b[0mvalid_einsum_kwargs\u001b[0m \u001b[0;34m=\u001b[0m \u001b[0;34m[\u001b[0m\u001b[0;34m'out'\u001b[0m\u001b[0;34m,\u001b[0m \u001b[0;34m'dtype'\u001b[0m\u001b[0;34m,\u001b[0m \u001b[0;34m'order'\u001b[0m\u001b[0;34m,\u001b[0m \u001b[0;34m'casting'\u001b[0m\u001b[0;34m]\u001b[0m\u001b[0;34m\u001b[0m\u001b[0;34m\u001b[0m\u001b[0m\n",
      "\u001b[0;31mValueError\u001b[0m: dimensions in operand 0 for collapsing index 'i' don't match (3 != 2)"
     ]
    }
   ],
   "source": [
    "np.einsum('ii',x) #정방행렬이 아니기 때문에 에러.."
   ]
  },
  {
   "cell_type": "code",
   "execution_count": 56,
   "metadata": {},
   "outputs": [
    {
     "data": {
      "text/plain": [
       "array([[20, 26],\n",
       "       [26, 35]])"
      ]
     },
     "execution_count": 56,
     "metadata": {},
     "output_type": "execute_result"
    }
   ],
   "source": [
    "np.einsum('ki,k...',x,x)"
   ]
  },
  {
   "cell_type": "code",
   "execution_count": 58,
   "metadata": {
    "scrolled": true
   },
   "outputs": [
    {
     "data": {
      "text/plain": [
       "array([[20, 26],\n",
       "       [26, 35]])"
      ]
     },
     "execution_count": 58,
     "metadata": {},
     "output_type": "execute_result"
    }
   ],
   "source": [
    "x.T@x"
   ]
  },
  {
   "cell_type": "code",
   "execution_count": 100,
   "metadata": {
    "scrolled": true
   },
   "outputs": [
    {
     "data": {
      "text/plain": [
       "(4, 3, 3, 2)"
      ]
     },
     "execution_count": 100,
     "metadata": {},
     "output_type": "execute_result"
    }
   ],
   "source": [
    "np.einsum('...jl,...ik',x,y).shape "
   ]
  },
  {
   "cell_type": "markdown",
   "metadata": {},
   "source": [
    "### Neural Network 만들기\n",
    "- broadcasting 가능\n",
    "    - 참고:https://pytorch.org/docs/stable/generated/torch.einsum.html\n",
    "- tensor, Numpy 에서는 `...` 은 1개 이상의`:` 과 동일함\n",
    "    - 뒤에  `...` Ellipsis(연산자 오버로딩) or `:` 만 있는 경우 생략 가능"
   ]
  },
  {
   "cell_type": "markdown",
   "metadata": {},
   "source": [
    "- perceptron: $Wx+b$를 `einsum` 으로 신경망 구현 가능 "
   ]
  },
  {
   "cell_type": "code",
   "execution_count": null,
   "metadata": {},
   "outputs": [],
   "source": [
    "#Feedforwad Propagation ; i input, h hidden, o output dimension label\n",
    "ha=np.einsum('hi,i ->h',W,x)+b\n",
    "h=simoid(ha)\n",
    "ya=np.einsum('oh,o ->h',V,h)+c\n",
    "y=softmax(ha)"
   ]
  },
  {
   "cell_type": "markdown",
   "metadata": {},
   "source": [
    " ---\n",
    " ## OPENCV를 활용한 영상 처리1\n",
    " ## openCV\n",
    "- PIL \n",
    "    - pytorch, tf \n",
    "    - 한글 폰트 사용 \n",
    "    - 메타 정보 알기위해서 \n",
    "    - Numpy와 호환 되지만 array programming 이 아닌 객체지향 방식 사용\n",
    "- Scikit-image\n",
    "    -  Numpy기반으로 각 분야에서 많이 사용함\n",
    "- openCV \n",
    "    - **video 처리까지 가능하여 사용 범위 넒음**\n",
    "    - **image 기반의 ml/dl 기능 지원**\n",
    "    - UI 제공( event 처리)\n",
    "    - cuda GPU 지원(compile 해야함)\n",
    "    - :( 한글 지원 안 함(compile 해야함)\n",
    "    -  c에서 그대로 porting 함"
   ]
  },
  {
   "cell_type": "code",
   "execution_count": 112,
   "metadata": {},
   "outputs": [],
   "source": [
    "from sklearn.datasets import load_digits #mnist 축소판"
   ]
  },
  {
   "cell_type": "code",
   "execution_count": 113,
   "metadata": {},
   "outputs": [
    {
     "data": {
      "text/plain": [
       "{'data': array([[ 0.,  0.,  5., ...,  0.,  0.,  0.],\n",
       "        [ 0.,  0.,  0., ..., 10.,  0.,  0.],\n",
       "        [ 0.,  0.,  0., ..., 16.,  9.,  0.],\n",
       "        ...,\n",
       "        [ 0.,  0.,  1., ...,  6.,  0.,  0.],\n",
       "        [ 0.,  0.,  2., ..., 12.,  0.,  0.],\n",
       "        [ 0.,  0., 10., ..., 12.,  1.,  0.]]),\n",
       " 'target': array([0, 1, 2, ..., 8, 9, 8]),\n",
       " 'frame': None,\n",
       " 'feature_names': ['pixel_0_0',\n",
       "  'pixel_0_1',\n",
       "  'pixel_0_2',\n",
       "  'pixel_0_3',\n",
       "  'pixel_0_4',\n",
       "  'pixel_0_5',\n",
       "  'pixel_0_6',\n",
       "  'pixel_0_7',\n",
       "  'pixel_1_0',\n",
       "  'pixel_1_1',\n",
       "  'pixel_1_2',\n",
       "  'pixel_1_3',\n",
       "  'pixel_1_4',\n",
       "  'pixel_1_5',\n",
       "  'pixel_1_6',\n",
       "  'pixel_1_7',\n",
       "  'pixel_2_0',\n",
       "  'pixel_2_1',\n",
       "  'pixel_2_2',\n",
       "  'pixel_2_3',\n",
       "  'pixel_2_4',\n",
       "  'pixel_2_5',\n",
       "  'pixel_2_6',\n",
       "  'pixel_2_7',\n",
       "  'pixel_3_0',\n",
       "  'pixel_3_1',\n",
       "  'pixel_3_2',\n",
       "  'pixel_3_3',\n",
       "  'pixel_3_4',\n",
       "  'pixel_3_5',\n",
       "  'pixel_3_6',\n",
       "  'pixel_3_7',\n",
       "  'pixel_4_0',\n",
       "  'pixel_4_1',\n",
       "  'pixel_4_2',\n",
       "  'pixel_4_3',\n",
       "  'pixel_4_4',\n",
       "  'pixel_4_5',\n",
       "  'pixel_4_6',\n",
       "  'pixel_4_7',\n",
       "  'pixel_5_0',\n",
       "  'pixel_5_1',\n",
       "  'pixel_5_2',\n",
       "  'pixel_5_3',\n",
       "  'pixel_5_4',\n",
       "  'pixel_5_5',\n",
       "  'pixel_5_6',\n",
       "  'pixel_5_7',\n",
       "  'pixel_6_0',\n",
       "  'pixel_6_1',\n",
       "  'pixel_6_2',\n",
       "  'pixel_6_3',\n",
       "  'pixel_6_4',\n",
       "  'pixel_6_5',\n",
       "  'pixel_6_6',\n",
       "  'pixel_6_7',\n",
       "  'pixel_7_0',\n",
       "  'pixel_7_1',\n",
       "  'pixel_7_2',\n",
       "  'pixel_7_3',\n",
       "  'pixel_7_4',\n",
       "  'pixel_7_5',\n",
       "  'pixel_7_6',\n",
       "  'pixel_7_7'],\n",
       " 'target_names': array([0, 1, 2, 3, 4, 5, 6, 7, 8, 9]),\n",
       " 'images': array([[[ 0.,  0.,  5., ...,  1.,  0.,  0.],\n",
       "         [ 0.,  0., 13., ..., 15.,  5.,  0.],\n",
       "         [ 0.,  3., 15., ..., 11.,  8.,  0.],\n",
       "         ...,\n",
       "         [ 0.,  4., 11., ..., 12.,  7.,  0.],\n",
       "         [ 0.,  2., 14., ..., 12.,  0.,  0.],\n",
       "         [ 0.,  0.,  6., ...,  0.,  0.,  0.]],\n",
       " \n",
       "        [[ 0.,  0.,  0., ...,  5.,  0.,  0.],\n",
       "         [ 0.,  0.,  0., ...,  9.,  0.,  0.],\n",
       "         [ 0.,  0.,  3., ...,  6.,  0.,  0.],\n",
       "         ...,\n",
       "         [ 0.,  0.,  1., ...,  6.,  0.,  0.],\n",
       "         [ 0.,  0.,  1., ...,  6.,  0.,  0.],\n",
       "         [ 0.,  0.,  0., ..., 10.,  0.,  0.]],\n",
       " \n",
       "        [[ 0.,  0.,  0., ..., 12.,  0.,  0.],\n",
       "         [ 0.,  0.,  3., ..., 14.,  0.,  0.],\n",
       "         [ 0.,  0.,  8., ..., 16.,  0.,  0.],\n",
       "         ...,\n",
       "         [ 0.,  9., 16., ...,  0.,  0.,  0.],\n",
       "         [ 0.,  3., 13., ..., 11.,  5.,  0.],\n",
       "         [ 0.,  0.,  0., ..., 16.,  9.,  0.]],\n",
       " \n",
       "        ...,\n",
       " \n",
       "        [[ 0.,  0.,  1., ...,  1.,  0.,  0.],\n",
       "         [ 0.,  0., 13., ...,  2.,  1.,  0.],\n",
       "         [ 0.,  0., 16., ..., 16.,  5.,  0.],\n",
       "         ...,\n",
       "         [ 0.,  0., 16., ..., 15.,  0.,  0.],\n",
       "         [ 0.,  0., 15., ..., 16.,  0.,  0.],\n",
       "         [ 0.,  0.,  2., ...,  6.,  0.,  0.]],\n",
       " \n",
       "        [[ 0.,  0.,  2., ...,  0.,  0.,  0.],\n",
       "         [ 0.,  0., 14., ..., 15.,  1.,  0.],\n",
       "         [ 0.,  4., 16., ..., 16.,  7.,  0.],\n",
       "         ...,\n",
       "         [ 0.,  0.,  0., ..., 16.,  2.,  0.],\n",
       "         [ 0.,  0.,  4., ..., 16.,  2.,  0.],\n",
       "         [ 0.,  0.,  5., ..., 12.,  0.,  0.]],\n",
       " \n",
       "        [[ 0.,  0., 10., ...,  1.,  0.,  0.],\n",
       "         [ 0.,  2., 16., ...,  1.,  0.,  0.],\n",
       "         [ 0.,  0., 15., ..., 15.,  0.,  0.],\n",
       "         ...,\n",
       "         [ 0.,  4., 16., ..., 16.,  6.,  0.],\n",
       "         [ 0.,  8., 16., ..., 16.,  8.,  0.],\n",
       "         [ 0.,  1.,  8., ..., 12.,  1.,  0.]]]),\n",
       " 'DESCR': \".. _digits_dataset:\\n\\nOptical recognition of handwritten digits dataset\\n--------------------------------------------------\\n\\n**Data Set Characteristics:**\\n\\n    :Number of Instances: 5620\\n    :Number of Attributes: 64\\n    :Attribute Information: 8x8 image of integer pixels in the range 0..16.\\n    :Missing Attribute Values: None\\n    :Creator: E. Alpaydin (alpaydin '@' boun.edu.tr)\\n    :Date: July; 1998\\n\\nThis is a copy of the test set of the UCI ML hand-written digits datasets\\nhttps://archive.ics.uci.edu/ml/datasets/Optical+Recognition+of+Handwritten+Digits\\n\\nThe data set contains images of hand-written digits: 10 classes where\\neach class refers to a digit.\\n\\nPreprocessing programs made available by NIST were used to extract\\nnormalized bitmaps of handwritten digits from a preprinted form. From a\\ntotal of 43 people, 30 contributed to the training set and different 13\\nto the test set. 32x32 bitmaps are divided into nonoverlapping blocks of\\n4x4 and the number of on pixels are counted in each block. This generates\\nan input matrix of 8x8 where each element is an integer in the range\\n0..16. This reduces dimensionality and gives invariance to small\\ndistortions.\\n\\nFor info on NIST preprocessing routines, see M. D. Garris, J. L. Blue, G.\\nT. Candela, D. L. Dimmick, J. Geist, P. J. Grother, S. A. Janet, and C.\\nL. Wilson, NIST Form-Based Handprint Recognition System, NISTIR 5469,\\n1994.\\n\\n.. topic:: References\\n\\n  - C. Kaynak (1995) Methods of Combining Multiple Classifiers and Their\\n    Applications to Handwritten Digit Recognition, MSc Thesis, Institute of\\n    Graduate Studies in Science and Engineering, Bogazici University.\\n  - E. Alpaydin, C. Kaynak (1998) Cascading Classifiers, Kybernetika.\\n  - Ken Tang and Ponnuthurai N. Suganthan and Xi Yao and A. Kai Qin.\\n    Linear dimensionalityreduction using relevance weighted LDA. School of\\n    Electrical and Electronic Engineering Nanyang Technological University.\\n    2005.\\n  - Claudio Gentile. A New Approximate Maximal Margin Classification\\n    Algorithm. NIPS. 2000.\"}"
      ]
     },
     "execution_count": 113,
     "metadata": {},
     "output_type": "execute_result"
    }
   ],
   "source": [
    "data=load_digits()\n",
    "data"
   ]
  },
  {
   "cell_type": "code",
   "execution_count": 114,
   "metadata": {},
   "outputs": [
    {
     "data": {
      "text/plain": [
       "['DESCR', 'data', 'feature_names', 'frame', 'images', 'target', 'target_names']"
      ]
     },
     "execution_count": 114,
     "metadata": {},
     "output_type": "execute_result"
    }
   ],
   "source": [
    "dir(data) "
   ]
  },
  {
   "cell_type": "code",
   "execution_count": 115,
   "metadata": {},
   "outputs": [
    {
     "data": {
      "text/plain": [
       "array([[[ 0.,  0.,  5., ...,  1.,  0.,  0.],\n",
       "        [ 0.,  0., 13., ..., 15.,  5.,  0.],\n",
       "        [ 0.,  3., 15., ..., 11.,  8.,  0.],\n",
       "        ...,\n",
       "        [ 0.,  4., 11., ..., 12.,  7.,  0.],\n",
       "        [ 0.,  2., 14., ..., 12.,  0.,  0.],\n",
       "        [ 0.,  0.,  6., ...,  0.,  0.,  0.]],\n",
       "\n",
       "       [[ 0.,  0.,  0., ...,  5.,  0.,  0.],\n",
       "        [ 0.,  0.,  0., ...,  9.,  0.,  0.],\n",
       "        [ 0.,  0.,  3., ...,  6.,  0.,  0.],\n",
       "        ...,\n",
       "        [ 0.,  0.,  1., ...,  6.,  0.,  0.],\n",
       "        [ 0.,  0.,  1., ...,  6.,  0.,  0.],\n",
       "        [ 0.,  0.,  0., ..., 10.,  0.,  0.]],\n",
       "\n",
       "       [[ 0.,  0.,  0., ..., 12.,  0.,  0.],\n",
       "        [ 0.,  0.,  3., ..., 14.,  0.,  0.],\n",
       "        [ 0.,  0.,  8., ..., 16.,  0.,  0.],\n",
       "        ...,\n",
       "        [ 0.,  9., 16., ...,  0.,  0.,  0.],\n",
       "        [ 0.,  3., 13., ..., 11.,  5.,  0.],\n",
       "        [ 0.,  0.,  0., ..., 16.,  9.,  0.]],\n",
       "\n",
       "       ...,\n",
       "\n",
       "       [[ 0.,  0.,  1., ...,  1.,  0.,  0.],\n",
       "        [ 0.,  0., 13., ...,  2.,  1.,  0.],\n",
       "        [ 0.,  0., 16., ..., 16.,  5.,  0.],\n",
       "        ...,\n",
       "        [ 0.,  0., 16., ..., 15.,  0.,  0.],\n",
       "        [ 0.,  0., 15., ..., 16.,  0.,  0.],\n",
       "        [ 0.,  0.,  2., ...,  6.,  0.,  0.]],\n",
       "\n",
       "       [[ 0.,  0.,  2., ...,  0.,  0.,  0.],\n",
       "        [ 0.,  0., 14., ..., 15.,  1.,  0.],\n",
       "        [ 0.,  4., 16., ..., 16.,  7.,  0.],\n",
       "        ...,\n",
       "        [ 0.,  0.,  0., ..., 16.,  2.,  0.],\n",
       "        [ 0.,  0.,  4., ..., 16.,  2.,  0.],\n",
       "        [ 0.,  0.,  5., ..., 12.,  0.,  0.]],\n",
       "\n",
       "       [[ 0.,  0., 10., ...,  1.,  0.,  0.],\n",
       "        [ 0.,  2., 16., ...,  1.,  0.,  0.],\n",
       "        [ 0.,  0., 15., ..., 15.,  0.,  0.],\n",
       "        ...,\n",
       "        [ 0.,  4., 16., ..., 16.,  6.,  0.],\n",
       "        [ 0.,  8., 16., ..., 16.,  8.,  0.],\n",
       "        [ 0.,  1.,  8., ..., 12.,  1.,  0.]]])"
      ]
     },
     "execution_count": 115,
     "metadata": {},
     "output_type": "execute_result"
    }
   ],
   "source": [
    "data.images #numpy format"
   ]
  },
  {
   "cell_type": "markdown",
   "metadata": {},
   "source": [
    "numpy format 이면 `shape`, `dtype` 확인\n",
    "- NHW format( 8x8크기의 1797 개의 이미지), float64 \n",
    "    - uint8 아닌 이유는 intensity 로 이미지 표현"
   ]
  },
  {
   "cell_type": "code",
   "execution_count": 121,
   "metadata": {},
   "outputs": [
    {
     "data": {
      "text/plain": [
       "((1797, 8, 8), dtype('float64'))"
      ]
     },
     "execution_count": 121,
     "metadata": {},
     "output_type": "execute_result"
    }
   ],
   "source": [
    "data.images.shape, data.images.dtype"
   ]
  },
  {
   "cell_type": "code",
   "execution_count": 124,
   "metadata": {},
   "outputs": [
    {
     "data": {
      "text/plain": [
       "array([[ 0.,  0.,  5., 13.,  9.,  1.,  0.,  0.],\n",
       "       [ 0.,  0., 13., 15., 10., 15.,  5.,  0.],\n",
       "       [ 0.,  3., 15.,  2.,  0., 11.,  8.,  0.],\n",
       "       [ 0.,  4., 12.,  0.,  0.,  8.,  8.,  0.],\n",
       "       [ 0.,  5.,  8.,  0.,  0.,  9.,  8.,  0.],\n",
       "       [ 0.,  4., 11.,  0.,  1., 12.,  7.,  0.],\n",
       "       [ 0.,  2., 14.,  5., 10., 12.,  0.,  0.],\n",
       "       [ 0.,  0.,  6., 13., 10.,  0.,  0.,  0.]])"
      ]
     },
     "execution_count": 124,
     "metadata": {},
     "output_type": "execute_result"
    }
   ],
   "source": [
    "data.images[0,:,:] #상동"
   ]
  },
  {
   "cell_type": "code",
   "execution_count": 123,
   "metadata": {
    "scrolled": true
   },
   "outputs": [
    {
     "data": {
      "text/plain": [
       "array([[ 0.,  0.,  5., 13.,  9.,  1.,  0.,  0.],\n",
       "       [ 0.,  0., 13., 15., 10., 15.,  5.,  0.],\n",
       "       [ 0.,  3., 15.,  2.,  0., 11.,  8.,  0.],\n",
       "       [ 0.,  4., 12.,  0.,  0.,  8.,  8.,  0.],\n",
       "       [ 0.,  5.,  8.,  0.,  0.,  9.,  8.,  0.],\n",
       "       [ 0.,  4., 11.,  0.,  1., 12.,  7.,  0.],\n",
       "       [ 0.,  2., 14.,  5., 10., 12.,  0.,  0.],\n",
       "       [ 0.,  0.,  6., 13., 10.,  0.,  0.,  0.]])"
      ]
     },
     "execution_count": 123,
     "metadata": {},
     "output_type": "execute_result"
    }
   ],
   "source": [
    "data.images[0,...] #0번째 그림"
   ]
  },
  {
   "cell_type": "code",
   "execution_count": 125,
   "metadata": {},
   "outputs": [
    {
     "data": {
      "text/plain": [
       "array([[ 0.,  0.,  5., 13.,  9.,  1.,  0.,  0.],\n",
       "       [ 0.,  0., 13., 15., 10., 15.,  5.,  0.],\n",
       "       [ 0.,  3., 15.,  2.,  0., 11.,  8.,  0.],\n",
       "       [ 0.,  4., 12.,  0.,  0.,  8.,  8.,  0.],\n",
       "       [ 0.,  5.,  8.,  0.,  0.,  9.,  8.,  0.],\n",
       "       [ 0.,  4., 11.,  0.,  1., 12.,  7.,  0.],\n",
       "       [ 0.,  2., 14.,  5., 10., 12.,  0.,  0.],\n",
       "       [ 0.,  0.,  6., 13., 10.,  0.,  0.,  0.]])"
      ]
     },
     "execution_count": 125,
     "metadata": {},
     "output_type": "execute_result"
    }
   ],
   "source": [
    "data.images[0]      #상동"
   ]
  },
  {
   "cell_type": "code",
   "execution_count": 127,
   "metadata": {},
   "outputs": [
    {
     "data": {
      "text/plain": [
       "<matplotlib.image.AxesImage at 0x218d1a082b0>"
      ]
     },
     "execution_count": 127,
     "metadata": {},
     "output_type": "execute_result"
    },
    {
     "data": {
      "image/png": "[encoded data removed]",
      "text/plain": [
       "<Figure size 432x288 with 1 Axes>"
      ]
     },
     "metadata": {
      "needs_background": "light"
     },
     "output_type": "display_data"
    }
   ],
   "source": [
    "import matplotlib.pyplot as plt\n",
    "plt.imshow(data.images[0],cmap='gray') # 위의 데이터 그림"
   ]
  },
  {
   "attachments": {
    "%E1%84%89%E1%85%B3%E1%84%8F%E1%85%B3%E1%84%85%E1%85%B5%E1%86%AB%E1%84%89%E1%85%A3%E1%86%BA%202020-09-16%20%E1%84%8B%E1%85%A9%E1%84%92%E1%85%AE%201.47.55.png": {
     "image/png": "[encoded data removed]"
    }
   },
   "cell_type": "markdown",
   "metadata": {},
   "source": [
    "이미지 데이터로 전통적인 머신러닝을 이용한 예측 모델 만들기 가능 \n",
    "### 전통적인 머신러닝 \n",
    "- 한줄에 1개의 dataset으로 들어감\n",
    "- batch=1 :  데이터 한개 넣고 결과값 하고 정답하고 비교해서 업데이트\n",
    "-  batch=3: 데이터 3개 넣고 결과값하고 정답하고 비교해서 업데이트\n",
    "![%E1%84%89%E1%85%B3%E1%84%8F%E1%85%B3%E1%84%85%E1%85%B5%E1%86%AB%E1%84%89%E1%85%A3%E1%86%BA%202020-09-16%20%E1%84%8B%E1%85%A9%E1%84%92%E1%85%AE%201.47.55.png](attachment:%E1%84%89%E1%85%B3%E1%84%8F%E1%85%B3%E1%84%85%E1%85%B5%E1%86%AB%E1%84%89%E1%85%A3%E1%86%BA%202020-09-16%20%E1%84%8B%E1%85%A9%E1%84%92%E1%85%AE%201.47.55.png)\n",
    "- 0번째의 5.1,3.5,1.4,0.2 를 모델에 넣으면 정답은 setosa \n",
    "- loss : 정답과 예측간 차이\n",
    "\n",
    "기계학습목적: 모델의 파라미터/non parametric 방식을 통해서 loss 최소화하는 것을 찾음\n",
    "   - perceptron 인경우 W,b찾음\n",
    "   \n",
    "조건 : \n",
    "- 데이터 컬럼당 들어가는 갯수는 1개\n",
    "- 결측치 없어야함\n",
    "- 동일한 크기\n",
    "- 정형 데이터: 컬럼 간 순서를 바꾸면 성능 차이가 안 나는 데이터 (feature selction)\n",
    "    - 비정형데이터: 이미지는 순서 바꾸면 의미가 바뀌어 성능 차이남 \n",
    "- 대부분 머신러닝 기법들은 정형데이터를 위해서 만들어짐 \n",
    "- domain 에 인공지능 적용\n",
    "\n",
    "비정형데이터를 정형데이터 기반으로 바꾸어 하였더니 성능이 어느 정도 나왔었음 (많은 조건을 만족해야함)\n",
    "\n",
    "---"
   ]
  },
  {
   "cell_type": "code",
   "execution_count": 128,
   "metadata": {},
   "outputs": [
    {
     "data": {
      "text/html": [
       "<div>\n",
       "<style scoped>\n",
       "    .dataframe tbody tr th:only-of-type {\n",
       "        vertical-align: middle;\n",
       "    }\n",
       "\n",
       "    .dataframe tbody tr th {\n",
       "        vertical-align: top;\n",
       "    }\n",
       "\n",
       "    .dataframe thead th {\n",
       "        text-align: right;\n",
       "    }\n",
       "</style>\n",
       "<table border=\"1\" class=\"dataframe\">\n",
       "  <thead>\n",
       "    <tr style=\"text-align: right;\">\n",
       "      <th></th>\n",
       "      <th>sepal_length</th>\n",
       "      <th>sepal_width</th>\n",
       "      <th>petal_length</th>\n",
       "      <th>petal_width</th>\n",
       "      <th>species</th>\n",
       "    </tr>\n",
       "  </thead>\n",
       "  <tbody>\n",
       "    <tr>\n",
       "      <th>0</th>\n",
       "      <td>5.1</td>\n",
       "      <td>3.5</td>\n",
       "      <td>1.4</td>\n",
       "      <td>0.2</td>\n",
       "      <td>setosa</td>\n",
       "    </tr>\n",
       "    <tr>\n",
       "      <th>1</th>\n",
       "      <td>4.9</td>\n",
       "      <td>3.0</td>\n",
       "      <td>1.4</td>\n",
       "      <td>0.2</td>\n",
       "      <td>setosa</td>\n",
       "    </tr>\n",
       "    <tr>\n",
       "      <th>2</th>\n",
       "      <td>4.7</td>\n",
       "      <td>3.2</td>\n",
       "      <td>1.3</td>\n",
       "      <td>0.2</td>\n",
       "      <td>setosa</td>\n",
       "    </tr>\n",
       "    <tr>\n",
       "      <th>3</th>\n",
       "      <td>4.6</td>\n",
       "      <td>3.1</td>\n",
       "      <td>1.5</td>\n",
       "      <td>0.2</td>\n",
       "      <td>setosa</td>\n",
       "    </tr>\n",
       "    <tr>\n",
       "      <th>4</th>\n",
       "      <td>5.0</td>\n",
       "      <td>3.6</td>\n",
       "      <td>1.4</td>\n",
       "      <td>0.2</td>\n",
       "      <td>setosa</td>\n",
       "    </tr>\n",
       "    <tr>\n",
       "      <th>...</th>\n",
       "      <td>...</td>\n",
       "      <td>...</td>\n",
       "      <td>...</td>\n",
       "      <td>...</td>\n",
       "      <td>...</td>\n",
       "    </tr>\n",
       "    <tr>\n",
       "      <th>145</th>\n",
       "      <td>6.7</td>\n",
       "      <td>3.0</td>\n",
       "      <td>5.2</td>\n",
       "      <td>2.3</td>\n",
       "      <td>virginica</td>\n",
       "    </tr>\n",
       "    <tr>\n",
       "      <th>146</th>\n",
       "      <td>6.3</td>\n",
       "      <td>2.5</td>\n",
       "      <td>5.0</td>\n",
       "      <td>1.9</td>\n",
       "      <td>virginica</td>\n",
       "    </tr>\n",
       "    <tr>\n",
       "      <th>147</th>\n",
       "      <td>6.5</td>\n",
       "      <td>3.0</td>\n",
       "      <td>5.2</td>\n",
       "      <td>2.0</td>\n",
       "      <td>virginica</td>\n",
       "    </tr>\n",
       "    <tr>\n",
       "      <th>148</th>\n",
       "      <td>6.2</td>\n",
       "      <td>3.4</td>\n",
       "      <td>5.4</td>\n",
       "      <td>2.3</td>\n",
       "      <td>virginica</td>\n",
       "    </tr>\n",
       "    <tr>\n",
       "      <th>149</th>\n",
       "      <td>5.9</td>\n",
       "      <td>3.0</td>\n",
       "      <td>5.1</td>\n",
       "      <td>1.8</td>\n",
       "      <td>virginica</td>\n",
       "    </tr>\n",
       "  </tbody>\n",
       "</table>\n",
       "<p>150 rows × 5 columns</p>\n",
       "</div>"
      ],
      "text/plain": [
       "     sepal_length  sepal_width  petal_length  petal_width    species\n",
       "0             5.1          3.5           1.4          0.2     setosa\n",
       "1             4.9          3.0           1.4          0.2     setosa\n",
       "2             4.7          3.2           1.3          0.2     setosa\n",
       "3             4.6          3.1           1.5          0.2     setosa\n",
       "4             5.0          3.6           1.4          0.2     setosa\n",
       "..            ...          ...           ...          ...        ...\n",
       "145           6.7          3.0           5.2          2.3  virginica\n",
       "146           6.3          2.5           5.0          1.9  virginica\n",
       "147           6.5          3.0           5.2          2.0  virginica\n",
       "148           6.2          3.4           5.4          2.3  virginica\n",
       "149           5.9          3.0           5.1          1.8  virginica\n",
       "\n",
       "[150 rows x 5 columns]"
      ]
     },
     "execution_count": 128,
     "metadata": {},
     "output_type": "execute_result"
    }
   ],
   "source": [
    "import seaborn as sns\n",
    "iris= sns.load_dataset('iris')\n",
    "iris"
   ]
  },
  {
   "cell_type": "markdown",
   "metadata": {},
   "source": [
    "비정형데이터를 ml에 사용하려면\n",
    "\n",
    "이미지는 전체 데이터 자체에 의미가 있음\n",
    "\n",
    "1. 1줄에 1의 데이터셋인 정형데이터처럼 만들어야함 (정형화 아님)\n",
    "- flatten 이랑 상관 있음\n",
    "이미지,자연어 , 음성도 전통적인 머신러닝 기법을 사용하려면 하나의 데이터는 \n",
    "- tidy data\n",
    "    - 컬럼 한개에 데이터 한개\n",
    "    - 분석에 좋은 데이터\n",
    "- 컴퓨터는 순서 상관없이 5.1, 3.5, 1.3, 0.2 가 setosa(1) 애 의미를 모르기 때문에 크고 작음의 패턴으로 탐색\n",
    "- 실제 컴퓨터 세상에서는 메모리 1열 이며 strides 로 2차원 이상을 표현\n",
    "- 이미지 한장을 전체 한줄씩 넣으면 최소한 이미지도 일반적인 머신러닝 데이터 세트롤 구성가능\n",
    "\n",
    "- 기본 >시간,자연어 > 음성\n",
    "\n",
    "- 이미지를 전통적인 머신러닝 기법에 적용시키기 위해서 이미지 색상따라 차원다름\n",
    "- n개의 이미지(2차원 이상)를 n개의 1차원으로 바꿔줘야함\n",
    "각 row 가 데이터셋 개념이나 이미지는 전체가 데이터이기 때문에 1차원으로 변경\n"
   ]
  },
  {
   "cell_type": "code",
   "execution_count": 129,
   "metadata": {},
   "outputs": [
    {
     "data": {
      "text/plain": [
       "(1797, 8, 8)"
      ]
     },
     "execution_count": 129,
     "metadata": {},
     "output_type": "execute_result"
    }
   ],
   "source": [
    "data.images.shape #1797 개의 8 x 8(2차원)"
   ]
  },
  {
   "cell_type": "code",
   "execution_count": 130,
   "metadata": {},
   "outputs": [
    {
     "data": {
      "text/plain": [
       "array([[ 0.,  0.,  5., ...,  0.,  0.,  0.],\n",
       "       [ 0.,  0.,  0., ..., 10.,  0.,  0.],\n",
       "       [ 0.,  0.,  0., ..., 16.,  9.,  0.],\n",
       "       ...,\n",
       "       [ 0.,  0.,  1., ...,  6.,  0.,  0.],\n",
       "       [ 0.,  0.,  2., ..., 12.,  0.,  0.],\n",
       "       [ 0.,  0., 10., ..., 12.,  1.,  0.]])"
      ]
     },
     "execution_count": 130,
     "metadata": {},
     "output_type": "execute_result"
    }
   ],
   "source": [
    "data.images.reshape(-1,8*8) #1차원 데이터 1797개 (1797,64)"
   ]
  },
  {
   "cell_type": "code",
   "execution_count": 131,
   "metadata": {},
   "outputs": [
    {
     "data": {
      "text/plain": [
       "(1797, 64)"
      ]
     },
     "execution_count": 131,
     "metadata": {},
     "output_type": "execute_result"
    }
   ],
   "source": [
    "data.images.reshape(-1,8*8).shape #1차원 데이터 1797개 "
   ]
  },
  {
   "cell_type": "markdown",
   "metadata": {},
   "source": [
    "- tf의 Faltten : 데이터 한개 씩만 Flatten 함 \n",
    "    - `tf.keras.layers.Flatten(input_shape=(28,28)``\n",
    "    - 데이터 28x28 1개가 들어왔을때 flatten "
   ]
  },
  {
   "cell_type": "code",
   "execution_count": 132,
   "metadata": {},
   "outputs": [
    {
     "data": {
      "text/plain": [
       "array([ 0.,  0.,  5., ..., 12.,  1.,  0.])"
      ]
     },
     "execution_count": 132,
     "metadata": {},
     "output_type": "execute_result"
    }
   ],
   "source": [
    "data.images.flatten() #copy"
   ]
  },
  {
   "cell_type": "code",
   "execution_count": 133,
   "metadata": {},
   "outputs": [
    {
     "data": {
      "text/plain": [
       "(115008,)"
      ]
     },
     "execution_count": 133,
     "metadata": {},
     "output_type": "execute_result"
    }
   ],
   "source": [
    "data.images.flatten().shape # 전체 데이터를 1차원 1797*8*8"
   ]
  },
  {
   "cell_type": "code",
   "execution_count": 134,
   "metadata": {
    "scrolled": true
   },
   "outputs": [
    {
     "data": {
      "text/plain": [
       "array([ 0.,  0.,  5., ..., 12.,  1.,  0.])"
      ]
     },
     "execution_count": 134,
     "metadata": {},
     "output_type": "execute_result"
    }
   ],
   "source": [
    "data.images.ravel() #view ->볼레로 ㅂ "
   ]
  },
  {
   "cell_type": "code",
   "execution_count": 138,
   "metadata": {},
   "outputs": [
    {
     "data": {
      "text/plain": [
       "(1797, 8, 8)"
      ]
     },
     "execution_count": 138,
     "metadata": {},
     "output_type": "execute_result"
    }
   ],
   "source": [
    "np.roll(data.images ,(1,)).shape"
   ]
  },
  {
   "cell_type": "code",
   "execution_count": 139,
   "metadata": {},
   "outputs": [
    {
     "name": "stdout",
     "output_type": "stream",
     "text": [
      "[[ 0.  0.  5. 13.  9.  1.  0.  0.]\n",
      " [ 0.  0. 13. 15. 10. 15.  5.  0.]\n",
      " [ 0.  3. 15.  2.  0. 11.  8.  0.]\n",
      " [ 0.  4. 12.  0.  0.  8.  8.  0.]\n",
      " [ 0.  5.  8.  0.  0.  9.  8.  0.]\n",
      " [ 0.  4. 11.  0.  1. 12.  7.  0.]\n",
      " [ 0.  2. 14.  5. 10. 12.  0.  0.]\n",
      " [ 0.  0.  6. 13. 10.  0.  0.  0.]]\n"
     ]
    }
   ],
   "source": [
    "#첫번째 데이터 \n",
    "for i in data.images:  \n",
    "    print(i)\n",
    "    break"
   ]
  },
  {
   "cell_type": "code",
   "execution_count": 140,
   "metadata": {},
   "outputs": [
    {
     "name": "stdout",
     "output_type": "stream",
     "text": [
      "[ 0.  0.  5. 13.  9.  1.  0.  0.  0.  0. 13. 15. 10. 15.  5.  0.  0.  3.\n",
      " 15.  2.  0. 11.  8.  0.  0.  4. 12.  0.  0.  8.  8.  0.  0.  5.  8.  0.\n",
      "  0.  9.  8.  0.  0.  4. 11.  0.  1. 12.  7.  0.  0.  2. 14.  5. 10. 12.\n",
      "  0.  0.  0.  0.  6. 13. 10.  0.  0.  0.]\n"
     ]
    }
   ],
   "source": [
    "#내부적으로 flatten 하는 방법도 있지만 해당 수업에서는 einsum 이용\n",
    "for i in data.images:  \n",
    "    print(i.flatten())\n",
    "    break"
   ]
  },
  {
   "cell_type": "code",
   "execution_count": 147,
   "metadata": {},
   "outputs": [
    {
     "data": {
      "text/plain": [
       "(1797,)"
      ]
     },
     "execution_count": 147,
     "metadata": {},
     "output_type": "execute_result"
    }
   ],
   "source": [
    "np.einsum('ijk->i',data.images ).shape"
   ]
  },
  {
   "cell_type": "code",
   "execution_count": 149,
   "metadata": {},
   "outputs": [
    {
     "data": {
      "text/plain": [
       "array([[ 0.,  0.,  5., ...,  0.,  0.,  0.],\n",
       "       [ 0.,  0.,  0., ..., 10.,  0.,  0.],\n",
       "       [ 0.,  0.,  0., ..., 16.,  9.,  0.],\n",
       "       ...,\n",
       "       [ 0.,  0.,  1., ...,  6.,  0.,  0.],\n",
       "       [ 0.,  0.,  2., ..., 12.,  0.,  0.],\n",
       "       [ 0.,  0., 10., ..., 12.,  1.,  0.]])"
      ]
     },
     "execution_count": 149,
     "metadata": {},
     "output_type": "execute_result"
    }
   ],
   "source": [
    "n_img=data.images.reshape(-1,8*8)\n",
    "n_img"
   ]
  },
  {
   "cell_type": "code",
   "execution_count": 150,
   "metadata": {},
   "outputs": [
    {
     "data": {
      "text/plain": [
       "array([[0.    , 0.    , 0.3125, ..., 0.    , 0.    , 0.    ],\n",
       "       [0.    , 0.    , 0.    , ..., 0.625 , 0.    , 0.    ],\n",
       "       [0.    , 0.    , 0.    , ..., 1.    , 0.5625, 0.    ],\n",
       "       ...,\n",
       "       [0.    , 0.    , 0.0625, ..., 0.375 , 0.    , 0.    ],\n",
       "       [0.    , 0.    , 0.125 , ..., 0.75  , 0.    , 0.    ],\n",
       "       [0.    , 0.    , 0.625 , ..., 0.75  , 0.0625, 0.    ]])"
      ]
     },
     "execution_count": 150,
     "metadata": {},
     "output_type": "execute_result"
    }
   ],
   "source": [
    "n_img/16"
   ]
  },
  {
   "cell_type": "markdown",
   "metadata": {},
   "source": [
    "#### 이미지 전처리\n",
    "- scaler \n",
    "    - 영상에서는 고유의 특성을 잃으면 안 되기 때문에 scaler 중요\n",
    "    - MinMaxSacler \n",
    "- 정형데이터에서의 차원 축소를 사용 할 수 없음  \n",
    "    - feature selection\n",
    "        - 정형데이터에서 변수 줄임\n",
    "        - 비정형데이터에서는 못함(의미가 바뀜)\n",
    "    - PCA \n",
    "        - 원래값을 대표할 수 있는 새로운 축으로 나타냄\n",
    "        - 비정형데이터 에서는 그림이 변형됨\n",
    "\n",
    "### mnist 데이터 특징\n",
    "- 모든 데이터가 꽉차게 정가운데에 맞추어져 있음\n",
    "- 배경이 없어 왜곡 없음( 검정색 바탕색상)\n",
    "- 흑백 이미지:intensity 크기로 구분\n",
    "    - 차원의 저주: 색상 데이터를 사용하면 동일한 데이터에 차원이 늘어남 \n",
    "- 각각 1차원 만들어서 2차원 구조로 만들면 머신러닝에 사용 가능\n",
    "\n",
    "성능 향상됨"
   ]
  },
  {
   "cell_type": "code",
   "execution_count": 152,
   "metadata": {},
   "outputs": [
    {
     "data": {
      "text/plain": [
       "<matplotlib.image.AxesImage at 0x218d3ecf280>"
      ]
     },
     "execution_count": 152,
     "metadata": {},
     "output_type": "execute_result"
    },
    {
     "data": {
      "image/png": "[encoded data removed]",
      "text/plain": [
       "<Figure size 432x288 with 1 Axes>"
      ]
     },
     "metadata": {
      "needs_background": "light"
     },
     "output_type": "display_data"
    }
   ],
   "source": [
    "plt.imshow(data.images[4],cmap='gray')"
   ]
  },
  {
   "cell_type": "code",
   "execution_count": 154,
   "metadata": {},
   "outputs": [],
   "source": [
    "from sklearn.neighbors import KNeighborsClassifier"
   ]
  },
  {
   "cell_type": "code",
   "execution_count": 155,
   "metadata": {},
   "outputs": [
    {
     "data": {
      "text/plain": [
       "KNeighborsClassifier()"
      ]
     },
     "execution_count": 155,
     "metadata": {},
     "output_type": "execute_result"
    }
   ],
   "source": [
    "#간단한 예시로 hold-out 없이 보여주기위해 하단과 같이 작성\n",
    "knn=KNeighborsClassifier()    #모델 인스턴스화\n",
    "knn.fit(n_img, data.target)   #모댈 학습"
   ]
  },
  {
   "cell_type": "code",
   "execution_count": 162,
   "metadata": {},
   "outputs": [
    {
     "data": {
      "text/plain": [
       "array([4])"
      ]
     },
     "execution_count": 162,
     "metadata": {},
     "output_type": "execute_result"
    }
   ],
   "source": [
    "knn.predict((data.images[4].reshape(1,-1))) #모델 예측 :4로 맞춤 (정답!)"
   ]
  },
  {
   "cell_type": "markdown",
   "metadata": {},
   "source": [
    "영상관점에서의 머신러닝\n",
    " \n",
    " 문제점\n",
    "- 1 열로 입력했기 때문에 이미지를 컴퓨터는 크기로만 알기 때문에 사람 인식시에 배경이 있으면 인식 힘듦\n",
    "1차원으로 바꾸면 2차원에서의 인접한 위치 관련 정보를 모름 \n",
    "\n",
    "대부분의 분야에서는 전통적인 방식 선호\n",
    "- 투입산출 \n",
    "- 성능: 데이터가 작을때  전통적인 모델이 성능이 더 좋음 \n",
    "\n",
    "- PIL,skimage,Numpy crop,resize 전처리 해서 성능 향상\n",
    "\n",
    "이미지 데이터를 OpenCV 이용해서 ML,DL까지 하여 편리함 "
   ]
  },
  {
   "cell_type": "code",
   "execution_count": 17,
   "metadata": {},
   "outputs": [],
   "source": [
    "#pip install opencv-python\n",
    "import cv2"
   ]
  },
  {
   "cell_type": "markdown",
   "metadata": {},
   "source": [
    "- 대문자 camel 방식 -> 상수처럼 간주되어 값으로 나옴\n",
    "    - python 은 상수 없음\n",
    "    - C로 porting 해서 python 같지 않음"
   ]
  },
  {
   "cell_type": "code",
   "execution_count": 164,
   "metadata": {},
   "outputs": [
    {
     "data": {
      "text/plain": [
       "['',\n",
       " 'ACCESS_FAST',\n",
       " 'ACCESS_MASK',\n",
       " 'ACCESS_READ',\n",
       " 'ACCESS_RW',\n",
       " 'ACCESS_WRITE',\n",
       " 'ADAPTIVE_THRESH_GAUSSIAN_C',\n",
       " 'ADAPTIVE_THRESH_MEAN_C',\n",
       " 'AGAST_FEATURE_DETECTOR_AGAST_5_8',\n",
       " 'AGAST_FEATURE_DETECTOR_AGAST_7_12D',\n",
       " 'AGAST_FEATURE_DETECTOR_AGAST_7_12S',\n",
       " 'AGAST_FEATURE_DETECTOR_NONMAX_SUPPRESSION',\n",
       " 'AGAST_FEATURE_DETECTOR_OAST_9_16',\n",
       " 'AGAST_FEATURE_DETECTOR_THRESHOLD',\n",
       " 'AKAZE',\n",
       " 'AKAZE_DESCRIPTOR_KAZE',\n",
       " 'AKAZE_DESCRIPTOR_KAZE_UPRIGHT',\n",
       " 'AKAZE_DESCRIPTOR_MLDB',\n",
       " 'AKAZE_DESCRIPTOR_MLDB_UPRIGHT',\n",
       " 'AKAZE_create',\n",
       " 'AgastFeatureDetector',\n",
       " 'AgastFeatureDetector_AGAST_5_8',\n",
       " 'AgastFeatureDetector_AGAST_7_12d',\n",
       " 'AgastFeatureDetector_AGAST_7_12s',\n",
       " 'AgastFeatureDetector_NONMAX_SUPPRESSION',\n",
       " 'AgastFeatureDetector_OAST_9_16',\n",
       " 'AgastFeatureDetector_THRESHOLD',\n",
       " 'AgastFeatureDetector_create',\n",
       " 'Algorithm',\n",
       " 'AlignExposures',\n",
       " 'AlignMTB',\n",
       " 'AsyncArray',\n",
       " 'BFMatcher',\n",
       " 'BFMatcher_create',\n",
       " 'BORDER_CONSTANT',\n",
       " 'BORDER_DEFAULT',\n",
       " 'BORDER_ISOLATED',\n",
       " 'BORDER_REFLECT',\n",
       " 'BORDER_REFLECT101',\n",
       " 'BORDER_REFLECT_101',\n",
       " 'BORDER_REPLICATE',\n",
       " 'BORDER_TRANSPARENT',\n",
       " 'BORDER_WRAP',\n",
       " 'BOWImgDescriptorExtractor',\n",
       " 'BOWKMeansTrainer',\n",
       " 'BOWTrainer',\n",
       " 'BRISK',\n",
       " 'BRISK_create',\n",
       " 'BackgroundSubtractor',\n",
       " 'BackgroundSubtractorKNN',\n",
       " 'BackgroundSubtractorMOG2',\n",
       " 'BaseCascadeClassifier',\n",
       " 'CALIB_CB_ACCURACY',\n",
       " 'CALIB_CB_ADAPTIVE_THRESH',\n",
       " 'CALIB_CB_ASYMMETRIC_GRID',\n",
       " 'CALIB_CB_CLUSTERING',\n",
       " 'CALIB_CB_EXHAUSTIVE',\n",
       " 'CALIB_CB_FAST_CHECK',\n",
       " 'CALIB_CB_FILTER_QUADS',\n",
       " 'CALIB_CB_LARGER',\n",
       " 'CALIB_CB_MARKER',\n",
       " 'CALIB_CB_NORMALIZE_IMAGE',\n",
       " 'CALIB_CB_SYMMETRIC_GRID',\n",
       " 'CALIB_FIX_ASPECT_RATIO',\n",
       " 'CALIB_FIX_FOCAL_LENGTH',\n",
       " 'CALIB_FIX_INTRINSIC',\n",
       " 'CALIB_FIX_K1',\n",
       " 'CALIB_FIX_K2',\n",
       " 'CALIB_FIX_K3',\n",
       " 'CALIB_FIX_K4',\n",
       " 'CALIB_FIX_K5',\n",
       " 'CALIB_FIX_K6',\n",
       " 'CALIB_FIX_PRINCIPAL_POINT',\n",
       " 'CALIB_FIX_S1_S2_S3_S4',\n",
       " 'CALIB_FIX_TANGENT_DIST',\n",
       " 'CALIB_FIX_TAUX_TAUY',\n",
       " 'CALIB_HAND_EYE_ANDREFF',\n",
       " 'CALIB_HAND_EYE_DANIILIDIS',\n",
       " 'CALIB_HAND_EYE_HORAUD',\n",
       " 'CALIB_HAND_EYE_PARK',\n",
       " 'CALIB_HAND_EYE_TSAI',\n",
       " 'CALIB_NINTRINSIC',\n",
       " 'CALIB_RATIONAL_MODEL',\n",
       " 'CALIB_SAME_FOCAL_LENGTH',\n",
       " 'CALIB_THIN_PRISM_MODEL',\n",
       " 'CALIB_TILTED_MODEL',\n",
       " 'CALIB_USE_EXTRINSIC_GUESS',\n",
       " 'CALIB_USE_INTRINSIC_GUESS',\n",
       " 'CALIB_USE_LU',\n",
       " 'CALIB_USE_QR',\n",
       " 'CALIB_ZERO_DISPARITY',\n",
       " 'CALIB_ZERO_TANGENT_DIST',\n",
       " 'CAP_ANDROID',\n",
       " 'CAP_ANY',\n",
       " 'CAP_ARAVIS',\n",
       " 'CAP_AVFOUNDATION',\n",
       " 'CAP_CMU1394',\n",
       " 'CAP_DC1394',\n",
       " 'CAP_DSHOW',\n",
       " 'CAP_FFMPEG',\n",
       " 'CAP_FIREWARE',\n",
       " 'CAP_FIREWIRE',\n",
       " 'CAP_GIGANETIX',\n",
       " 'CAP_GPHOTO2',\n",
       " 'CAP_GSTREAMER',\n",
       " 'CAP_IEEE1394',\n",
       " 'CAP_IMAGES',\n",
       " 'CAP_INTELPERC',\n",
       " 'CAP_INTELPERC_DEPTH_GENERATOR',\n",
       " 'CAP_INTELPERC_DEPTH_MAP',\n",
       " 'CAP_INTELPERC_GENERATORS_MASK',\n",
       " 'CAP_INTELPERC_IMAGE',\n",
       " 'CAP_INTELPERC_IMAGE_GENERATOR',\n",
       " 'CAP_INTELPERC_IR_GENERATOR',\n",
       " 'CAP_INTELPERC_IR_MAP',\n",
       " 'CAP_INTELPERC_UVDEPTH_MAP',\n",
       " 'CAP_INTEL_MFX',\n",
       " 'CAP_MSMF',\n",
       " 'CAP_OPENCV_MJPEG',\n",
       " 'CAP_OPENNI',\n",
       " 'CAP_OPENNI2',\n",
       " 'CAP_OPENNI2_ASUS',\n",
       " 'CAP_OPENNI_ASUS',\n",
       " 'CAP_OPENNI_BGR_IMAGE',\n",
       " 'CAP_OPENNI_DEPTH_GENERATOR',\n",
       " 'CAP_OPENNI_DEPTH_GENERATOR_BASELINE',\n",
       " 'CAP_OPENNI_DEPTH_GENERATOR_FOCAL_LENGTH',\n",
       " 'CAP_OPENNI_DEPTH_GENERATOR_PRESENT',\n",
       " 'CAP_OPENNI_DEPTH_GENERATOR_REGISTRATION',\n",
       " 'CAP_OPENNI_DEPTH_GENERATOR_REGISTRATION_ON',\n",
       " 'CAP_OPENNI_DEPTH_MAP',\n",
       " 'CAP_OPENNI_DISPARITY_MAP',\n",
       " 'CAP_OPENNI_DISPARITY_MAP_32F',\n",
       " 'CAP_OPENNI_GENERATORS_MASK',\n",
       " 'CAP_OPENNI_GRAY_IMAGE',\n",
       " 'CAP_OPENNI_IMAGE_GENERATOR',\n",
       " 'CAP_OPENNI_IMAGE_GENERATOR_OUTPUT_MODE',\n",
       " 'CAP_OPENNI_IMAGE_GENERATOR_PRESENT',\n",
       " 'CAP_OPENNI_IR_GENERATOR',\n",
       " 'CAP_OPENNI_IR_GENERATOR_PRESENT',\n",
       " 'CAP_OPENNI_IR_IMAGE',\n",
       " 'CAP_OPENNI_POINT_CLOUD_MAP',\n",
       " 'CAP_OPENNI_QVGA_30HZ',\n",
       " 'CAP_OPENNI_QVGA_60HZ',\n",
       " 'CAP_OPENNI_SXGA_15HZ',\n",
       " 'CAP_OPENNI_SXGA_30HZ',\n",
       " 'CAP_OPENNI_VALID_DEPTH_MASK',\n",
       " 'CAP_OPENNI_VGA_30HZ',\n",
       " 'CAP_PROP_APERTURE',\n",
       " 'CAP_PROP_ARAVIS_AUTOTRIGGER',\n",
       " 'CAP_PROP_AUTOFOCUS',\n",
       " 'CAP_PROP_AUTO_EXPOSURE',\n",
       " 'CAP_PROP_AUTO_WB',\n",
       " 'CAP_PROP_BACKEND',\n",
       " 'CAP_PROP_BACKLIGHT',\n",
       " 'CAP_PROP_BITRATE',\n",
       " 'CAP_PROP_BRIGHTNESS',\n",
       " 'CAP_PROP_BUFFERSIZE',\n",
       " 'CAP_PROP_CHANNEL',\n",
       " 'CAP_PROP_CODEC_PIXEL_FORMAT',\n",
       " 'CAP_PROP_CONTRAST',\n",
       " 'CAP_PROP_CONVERT_RGB',\n",
       " 'CAP_PROP_DC1394_MAX',\n",
       " 'CAP_PROP_DC1394_MODE_AUTO',\n",
       " 'CAP_PROP_DC1394_MODE_MANUAL',\n",
       " 'CAP_PROP_DC1394_MODE_ONE_PUSH_AUTO',\n",
       " 'CAP_PROP_DC1394_OFF',\n",
       " 'CAP_PROP_EXPOSURE',\n",
       " 'CAP_PROP_EXPOSUREPROGRAM',\n",
       " 'CAP_PROP_FOCUS',\n",
       " 'CAP_PROP_FORMAT',\n",
       " 'CAP_PROP_FOURCC',\n",
       " 'CAP_PROP_FPS',\n",
       " 'CAP_PROP_FRAME_COUNT',\n",
       " 'CAP_PROP_FRAME_HEIGHT',\n",
       " 'CAP_PROP_FRAME_WIDTH',\n",
       " 'CAP_PROP_GAIN',\n",
       " 'CAP_PROP_GAMMA',\n",
       " 'CAP_PROP_GIGA_FRAME_HEIGH_MAX',\n",
       " 'CAP_PROP_GIGA_FRAME_OFFSET_X',\n",
       " 'CAP_PROP_GIGA_FRAME_OFFSET_Y',\n",
       " 'CAP_PROP_GIGA_FRAME_SENS_HEIGH',\n",
       " 'CAP_PROP_GIGA_FRAME_SENS_WIDTH',\n",
       " 'CAP_PROP_GIGA_FRAME_WIDTH_MAX',\n",
       " 'CAP_PROP_GPHOTO2_COLLECT_MSGS',\n",
       " 'CAP_PROP_GPHOTO2_FLUSH_MSGS',\n",
       " 'CAP_PROP_GPHOTO2_PREVIEW',\n",
       " 'CAP_PROP_GPHOTO2_RELOAD_CONFIG',\n",
       " 'CAP_PROP_GPHOTO2_RELOAD_ON_CHANGE',\n",
       " 'CAP_PROP_GPHOTO2_WIDGET_ENUMERATE',\n",
       " 'CAP_PROP_GSTREAMER_QUEUE_LENGTH',\n",
       " 'CAP_PROP_GUID',\n",
       " 'CAP_PROP_HUE',\n",
       " 'CAP_PROP_IMAGES_BASE',\n",
       " 'CAP_PROP_IMAGES_LAST',\n",
       " 'CAP_PROP_INTELPERC_DEPTH_CONFIDENCE_THRESHOLD',\n",
       " 'CAP_PROP_INTELPERC_DEPTH_FOCAL_LENGTH_HORZ',\n",
       " 'CAP_PROP_INTELPERC_DEPTH_FOCAL_LENGTH_VERT',\n",
       " 'CAP_PROP_INTELPERC_DEPTH_LOW_CONFIDENCE_VALUE',\n",
       " 'CAP_PROP_INTELPERC_DEPTH_SATURATION_VALUE',\n",
       " 'CAP_PROP_INTELPERC_PROFILE_COUNT',\n",
       " 'CAP_PROP_INTELPERC_PROFILE_IDX',\n",
       " 'CAP_PROP_IOS_DEVICE_EXPOSURE',\n",
       " 'CAP_PROP_IOS_DEVICE_FLASH',\n",
       " 'CAP_PROP_IOS_DEVICE_FOCUS',\n",
       " 'CAP_PROP_IOS_DEVICE_TORCH',\n",
       " 'CAP_PROP_IOS_DEVICE_WHITEBALANCE',\n",
       " 'CAP_PROP_IRIS',\n",
       " 'CAP_PROP_ISO_SPEED',\n",
       " 'CAP_PROP_MODE',\n",
       " 'CAP_PROP_MONOCHROME',\n",
       " 'CAP_PROP_OPENNI2_MIRROR',\n",
       " 'CAP_PROP_OPENNI2_SYNC',\n",
       " 'CAP_PROP_OPENNI_APPROX_FRAME_SYNC',\n",
       " 'CAP_PROP_OPENNI_BASELINE',\n",
       " 'CAP_PROP_OPENNI_CIRCLE_BUFFER',\n",
       " 'CAP_PROP_OPENNI_FOCAL_LENGTH',\n",
       " 'CAP_PROP_OPENNI_FRAME_MAX_DEPTH',\n",
       " 'CAP_PROP_OPENNI_GENERATOR_PRESENT',\n",
       " 'CAP_PROP_OPENNI_MAX_BUFFER_SIZE',\n",
       " 'CAP_PROP_OPENNI_MAX_TIME_DURATION',\n",
       " 'CAP_PROP_OPENNI_OUTPUT_MODE',\n",
       " 'CAP_PROP_OPENNI_REGISTRATION',\n",
       " 'CAP_PROP_OPENNI_REGISTRATION_ON',\n",
       " 'CAP_PROP_PAN',\n",
       " 'CAP_PROP_POS_AVI_RATIO',\n",
       " 'CAP_PROP_POS_FRAMES',\n",
       " 'CAP_PROP_POS_MSEC',\n",
       " 'CAP_PROP_PVAPI_BINNINGX',\n",
       " 'CAP_PROP_PVAPI_BINNINGY',\n",
       " 'CAP_PROP_PVAPI_DECIMATIONHORIZONTAL',\n",
       " 'CAP_PROP_PVAPI_DECIMATIONVERTICAL',\n",
       " 'CAP_PROP_PVAPI_FRAMESTARTTRIGGERMODE',\n",
       " 'CAP_PROP_PVAPI_MULTICASTIP',\n",
       " 'CAP_PROP_PVAPI_PIXELFORMAT',\n",
       " 'CAP_PROP_RECTIFICATION',\n",
       " 'CAP_PROP_ROLL',\n",
       " 'CAP_PROP_SAR_DEN',\n",
       " 'CAP_PROP_SAR_NUM',\n",
       " 'CAP_PROP_SATURATION',\n",
       " 'CAP_PROP_SETTINGS',\n",
       " 'CAP_PROP_SHARPNESS',\n",
       " 'CAP_PROP_SPEED',\n",
       " 'CAP_PROP_TEMPERATURE',\n",
       " 'CAP_PROP_TILT',\n",
       " 'CAP_PROP_TRIGGER',\n",
       " 'CAP_PROP_TRIGGER_DELAY',\n",
       " 'CAP_PROP_VIEWFINDER',\n",
       " 'CAP_PROP_WB_TEMPERATURE',\n",
       " 'CAP_PROP_WHITE_BALANCE_BLUE_U',\n",
       " 'CAP_PROP_WHITE_BALANCE_RED_V',\n",
       " 'CAP_PROP_XI_ACQ_BUFFER_SIZE',\n",
       " 'CAP_PROP_XI_ACQ_BUFFER_SIZE_UNIT',\n",
       " 'CAP_PROP_XI_ACQ_FRAME_BURST_COUNT',\n",
       " 'CAP_PROP_XI_ACQ_TIMING_MODE',\n",
       " 'CAP_PROP_XI_ACQ_TRANSPORT_BUFFER_COMMIT',\n",
       " 'CAP_PROP_XI_ACQ_TRANSPORT_BUFFER_SIZE',\n",
       " 'CAP_PROP_XI_AEAG',\n",
       " 'CAP_PROP_XI_AEAG_LEVEL',\n",
       " 'CAP_PROP_XI_AEAG_ROI_HEIGHT',\n",
       " 'CAP_PROP_XI_AEAG_ROI_OFFSET_X',\n",
       " 'CAP_PROP_XI_AEAG_ROI_OFFSET_Y',\n",
       " 'CAP_PROP_XI_AEAG_ROI_WIDTH',\n",
       " 'CAP_PROP_XI_AE_MAX_LIMIT',\n",
       " 'CAP_PROP_XI_AG_MAX_LIMIT',\n",
       " 'CAP_PROP_XI_APPLY_CMS',\n",
       " 'CAP_PROP_XI_AUTO_BANDWIDTH_CALCULATION',\n",
       " 'CAP_PROP_XI_AUTO_WB',\n",
       " 'CAP_PROP_XI_AVAILABLE_BANDWIDTH',\n",
       " 'CAP_PROP_XI_BINNING_HORIZONTAL',\n",
       " 'CAP_PROP_XI_BINNING_PATTERN',\n",
       " 'CAP_PROP_XI_BINNING_SELECTOR',\n",
       " 'CAP_PROP_XI_BINNING_VERTICAL',\n",
       " 'CAP_PROP_XI_BPC',\n",
       " 'CAP_PROP_XI_BUFFERS_QUEUE_SIZE',\n",
       " 'CAP_PROP_XI_BUFFER_POLICY',\n",
       " 'CAP_PROP_XI_CC_MATRIX_00',\n",
       " 'CAP_PROP_XI_CC_MATRIX_01',\n",
       " 'CAP_PROP_XI_CC_MATRIX_02',\n",
       " 'CAP_PROP_XI_CC_MATRIX_03',\n",
       " 'CAP_PROP_XI_CC_MATRIX_10',\n",
       " 'CAP_PROP_XI_CC_MATRIX_11',\n",
       " 'CAP_PROP_XI_CC_MATRIX_12',\n",
       " 'CAP_PROP_XI_CC_MATRIX_13',\n",
       " 'CAP_PROP_XI_CC_MATRIX_20',\n",
       " 'CAP_PROP_XI_CC_MATRIX_21',\n",
       " 'CAP_PROP_XI_CC_MATRIX_22',\n",
       " 'CAP_PROP_XI_CC_MATRIX_23',\n",
       " 'CAP_PROP_XI_CC_MATRIX_30',\n",
       " 'CAP_PROP_XI_CC_MATRIX_31',\n",
       " 'CAP_PROP_XI_CC_MATRIX_32',\n",
       " 'CAP_PROP_XI_CC_MATRIX_33',\n",
       " 'CAP_PROP_XI_CHIP_TEMP',\n",
       " 'CAP_PROP_XI_CMS',\n",
       " 'CAP_PROP_XI_COLOR_FILTER_ARRAY',\n",
       " 'CAP_PROP_XI_COLUMN_FPN_CORRECTION',\n",
       " 'CAP_PROP_XI_COOLING',\n",
       " 'CAP_PROP_XI_COUNTER_SELECTOR',\n",
       " 'CAP_PROP_XI_COUNTER_VALUE',\n",
       " 'CAP_PROP_XI_DATA_FORMAT',\n",
       " 'CAP_PROP_XI_DEBOUNCE_EN',\n",
       " 'CAP_PROP_XI_DEBOUNCE_POL',\n",
       " 'CAP_PROP_XI_DEBOUNCE_T0',\n",
       " 'CAP_PROP_XI_DEBOUNCE_T1',\n",
       " 'CAP_PROP_XI_DEBUG_LEVEL',\n",
       " 'CAP_PROP_XI_DECIMATION_HORIZONTAL',\n",
       " 'CAP_PROP_XI_DECIMATION_PATTERN',\n",
       " 'CAP_PROP_XI_DECIMATION_SELECTOR',\n",
       " 'CAP_PROP_XI_DECIMATION_VERTICAL',\n",
       " 'CAP_PROP_XI_DEFAULT_CC_MATRIX',\n",
       " 'CAP_PROP_XI_DEVICE_MODEL_ID',\n",
       " 'CAP_PROP_XI_DEVICE_RESET',\n",
       " 'CAP_PROP_XI_DEVICE_SN',\n",
       " 'CAP_PROP_XI_DOWNSAMPLING',\n",
       " 'CAP_PROP_XI_DOWNSAMPLING_TYPE',\n",
       " 'CAP_PROP_XI_EXPOSURE',\n",
       " 'CAP_PROP_XI_EXPOSURE_BURST_COUNT',\n",
       " 'CAP_PROP_XI_EXP_PRIORITY',\n",
       " 'CAP_PROP_XI_FFS_ACCESS_KEY',\n",
       " 'CAP_PROP_XI_FFS_FILE_ID',\n",
       " 'CAP_PROP_XI_FFS_FILE_SIZE',\n",
       " 'CAP_PROP_XI_FRAMERATE',\n",
       " 'CAP_PROP_XI_FREE_FFS_SIZE',\n",
       " 'CAP_PROP_XI_GAIN',\n",
       " 'CAP_PROP_XI_GAIN_SELECTOR',\n",
       " 'CAP_PROP_XI_GAMMAC',\n",
       " 'CAP_PROP_XI_GAMMAY',\n",
       " 'CAP_PROP_XI_GPI_LEVEL',\n",
       " 'CAP_PROP_XI_GPI_MODE',\n",
       " 'CAP_PROP_XI_GPI_SELECTOR',\n",
       " 'CAP_PROP_XI_GPO_MODE',\n",
       " 'CAP_PROP_XI_GPO_SELECTOR',\n",
       " 'CAP_PROP_XI_HDR',\n",
       " 'CAP_PROP_XI_HDR_KNEEPOINT_COUNT',\n",
       " 'CAP_PROP_XI_HDR_T1',\n",
       " 'CAP_PROP_XI_HDR_T2',\n",
       " 'CAP_PROP_XI_HEIGHT',\n",
       " 'CAP_PROP_XI_HOUS_BACK_SIDE_TEMP',\n",
       " 'CAP_PROP_XI_HOUS_TEMP',\n",
       " 'CAP_PROP_XI_HW_REVISION',\n",
       " 'CAP_PROP_XI_IMAGE_BLACK_LEVEL',\n",
       " 'CAP_PROP_XI_IMAGE_DATA_BIT_DEPTH',\n",
       " 'CAP_PROP_XI_IMAGE_DATA_FORMAT',\n",
       " 'CAP_PROP_XI_IMAGE_DATA_FORMAT_RGB32_ALPHA',\n",
       " 'CAP_PROP_XI_IMAGE_IS_COLOR',\n",
       " 'CAP_PROP_XI_IMAGE_PAYLOAD_SIZE',\n",
       " 'CAP_PROP_XI_IS_COOLED',\n",
       " 'CAP_PROP_XI_IS_DEVICE_EXIST',\n",
       " 'CAP_PROP_XI_KNEEPOINT1',\n",
       " 'CAP_PROP_XI_KNEEPOINT2',\n",
       " 'CAP_PROP_XI_LED_MODE',\n",
       " 'CAP_PROP_XI_LED_SELECTOR',\n",
       " 'CAP_PROP_XI_LENS_APERTURE_VALUE',\n",
       " 'CAP_PROP_XI_LENS_FEATURE',\n",
       " 'CAP_PROP_XI_LENS_FEATURE_SELECTOR',\n",
       " 'CAP_PROP_XI_LENS_FOCAL_LENGTH',\n",
       " 'CAP_PROP_XI_LENS_FOCUS_DISTANCE',\n",
       " 'CAP_PROP_XI_LENS_FOCUS_MOVE',\n",
       " 'CAP_PROP_XI_LENS_FOCUS_MOVEMENT_VALUE',\n",
       " 'CAP_PROP_XI_LENS_MODE',\n",
       " 'CAP_PROP_XI_LIMIT_BANDWIDTH',\n",
       " 'CAP_PROP_XI_LUT_EN',\n",
       " 'CAP_PROP_XI_LUT_INDEX',\n",
       " 'CAP_PROP_XI_LUT_VALUE',\n",
       " 'CAP_PROP_XI_MANUAL_WB',\n",
       " 'CAP_PROP_XI_OFFSET_X',\n",
       " 'CAP_PROP_XI_OFFSET_Y',\n",
       " 'CAP_PROP_XI_OUTPUT_DATA_BIT_DEPTH',\n",
       " 'CAP_PROP_XI_OUTPUT_DATA_PACKING',\n",
       " 'CAP_PROP_XI_OUTPUT_DATA_PACKING_TYPE',\n",
       " 'CAP_PROP_XI_RECENT_FRAME',\n",
       " 'CAP_PROP_XI_REGION_MODE',\n",
       " 'CAP_PROP_XI_REGION_SELECTOR',\n",
       " 'CAP_PROP_XI_ROW_FPN_CORRECTION',\n",
       " 'CAP_PROP_XI_SENSOR_BOARD_TEMP',\n",
       " 'CAP_PROP_XI_SENSOR_CLOCK_FREQ_HZ',\n",
       " 'CAP_PROP_XI_SENSOR_CLOCK_FREQ_INDEX',\n",
       " 'CAP_PROP_XI_SENSOR_DATA_BIT_DEPTH',\n",
       " 'CAP_PROP_XI_SENSOR_FEATURE_SELECTOR',\n",
       " 'CAP_PROP_XI_SENSOR_FEATURE_VALUE',\n",
       " 'CAP_PROP_XI_SENSOR_MODE',\n",
       " 'CAP_PROP_XI_SENSOR_OUTPUT_CHANNEL_COUNT',\n",
       " 'CAP_PROP_XI_SENSOR_TAPS',\n",
       " 'CAP_PROP_XI_SHARPNESS',\n",
       " 'CAP_PROP_XI_SHUTTER_TYPE',\n",
       " 'CAP_PROP_XI_TARGET_TEMP',\n",
       " 'CAP_PROP_XI_TEST_PATTERN',\n",
       " 'CAP_PROP_XI_TEST_PATTERN_GENERATOR_SELECTOR',\n",
       " 'CAP_PROP_XI_TIMEOUT',\n",
       " 'CAP_PROP_XI_TRANSPORT_PIXEL_FORMAT',\n",
       " 'CAP_PROP_XI_TRG_DELAY',\n",
       " 'CAP_PROP_XI_TRG_SELECTOR',\n",
       " 'CAP_PROP_XI_TRG_SOFTWARE',\n",
       " 'CAP_PROP_XI_TRG_SOURCE',\n",
       " 'CAP_PROP_XI_TS_RST_MODE',\n",
       " 'CAP_PROP_XI_TS_RST_SOURCE',\n",
       " 'CAP_PROP_XI_USED_FFS_SIZE',\n",
       " 'CAP_PROP_XI_WB_KB',\n",
       " 'CAP_PROP_XI_WB_KG',\n",
       " 'CAP_PROP_XI_WB_KR',\n",
       " 'CAP_PROP_XI_WIDTH',\n",
       " 'CAP_PROP_ZOOM',\n",
       " 'CAP_PVAPI',\n",
       " 'CAP_PVAPI_DECIMATION_2OUTOF16',\n",
       " 'CAP_PVAPI_DECIMATION_2OUTOF4',\n",
       " 'CAP_PVAPI_DECIMATION_2OUTOF8',\n",
       " 'CAP_PVAPI_DECIMATION_OFF',\n",
       " 'CAP_PVAPI_FSTRIGMODE_FIXEDRATE',\n",
       " 'CAP_PVAPI_FSTRIGMODE_FREERUN',\n",
       " 'CAP_PVAPI_FSTRIGMODE_SOFTWARE',\n",
       " 'CAP_PVAPI_FSTRIGMODE_SYNCIN1',\n",
       " 'CAP_PVAPI_FSTRIGMODE_SYNCIN2',\n",
       " 'CAP_PVAPI_PIXELFORMAT_BAYER16',\n",
       " 'CAP_PVAPI_PIXELFORMAT_BAYER8',\n",
       " 'CAP_PVAPI_PIXELFORMAT_BGR24',\n",
       " 'CAP_PVAPI_PIXELFORMAT_BGRA32',\n",
       " 'CAP_PVAPI_PIXELFORMAT_MONO16',\n",
       " 'CAP_PVAPI_PIXELFORMAT_MONO8',\n",
       " 'CAP_PVAPI_PIXELFORMAT_RGB24',\n",
       " 'CAP_PVAPI_PIXELFORMAT_RGBA32',\n",
       " 'CAP_QT',\n",
       " 'CAP_REALSENSE',\n",
       " 'CAP_UNICAP',\n",
       " 'CAP_V4L',\n",
       " 'CAP_V4L2',\n",
       " 'CAP_VFW',\n",
       " 'CAP_WINRT',\n",
       " 'CAP_XIAPI',\n",
       " 'CAP_XINE',\n",
       " 'CASCADE_DO_CANNY_PRUNING',\n",
       " 'CASCADE_DO_ROUGH_SEARCH',\n",
       " 'CASCADE_FIND_BIGGEST_OBJECT',\n",
       " 'CASCADE_SCALE_IMAGE',\n",
       " 'CCL_DEFAULT',\n",
       " 'CCL_GRANA',\n",
       " 'CCL_WU',\n",
       " 'CC_STAT_AREA',\n",
       " 'CC_STAT_HEIGHT',\n",
       " 'CC_STAT_LEFT',\n",
       " 'CC_STAT_MAX',\n",
       " 'CC_STAT_TOP',\n",
       " 'CC_STAT_WIDTH',\n",
       " 'CHAIN_APPROX_NONE',\n",
       " 'CHAIN_APPROX_SIMPLE',\n",
       " 'CHAIN_APPROX_TC89_KCOS',\n",
       " 'CHAIN_APPROX_TC89_L1',\n",
       " 'CIRCLES_GRID_FINDER_PARAMETERS_ASYMMETRIC_GRID',\n",
       " 'CIRCLES_GRID_FINDER_PARAMETERS_SYMMETRIC_GRID',\n",
       " 'CLAHE',\n",
       " 'CMP_EQ',\n",
       " 'CMP_GE',\n",
       " 'CMP_GT',\n",
       " 'CMP_LE',\n",
       " 'CMP_LT',\n",
       " 'CMP_NE',\n",
       " 'COLORMAP_AUTUMN',\n",
       " 'COLORMAP_BONE',\n",
       " 'COLORMAP_CIVIDIS',\n",
       " 'COLORMAP_COOL',\n",
       " 'COLORMAP_DEEPGREEN',\n",
       " 'COLORMAP_HOT',\n",
       " 'COLORMAP_HSV',\n",
       " 'COLORMAP_INFERNO',\n",
       " 'COLORMAP_JET',\n",
       " 'COLORMAP_MAGMA',\n",
       " 'COLORMAP_OCEAN',\n",
       " 'COLORMAP_PARULA',\n",
       " 'COLORMAP_PINK',\n",
       " 'COLORMAP_PLASMA',\n",
       " 'COLORMAP_RAINBOW',\n",
       " 'COLORMAP_SPRING',\n",
       " 'COLORMAP_SUMMER',\n",
       " 'COLORMAP_TURBO',\n",
       " 'COLORMAP_TWILIGHT',\n",
       " 'COLORMAP_TWILIGHT_SHIFTED',\n",
       " 'COLORMAP_VIRIDIS',\n",
       " 'COLORMAP_WINTER',\n",
       " 'COLOR_BAYER_BG2BGR',\n",
       " 'COLOR_BAYER_BG2BGRA',\n",
       " 'COLOR_BAYER_BG2BGR_EA',\n",
       " 'COLOR_BAYER_BG2BGR_VNG',\n",
       " 'COLOR_BAYER_BG2GRAY',\n",
       " 'COLOR_BAYER_BG2RGB',\n",
       " 'COLOR_BAYER_BG2RGBA',\n",
       " 'COLOR_BAYER_BG2RGB_EA',\n",
       " 'COLOR_BAYER_BG2RGB_VNG',\n",
       " 'COLOR_BAYER_GB2BGR',\n",
       " 'COLOR_BAYER_GB2BGRA',\n",
       " 'COLOR_BAYER_GB2BGR_EA',\n",
       " 'COLOR_BAYER_GB2BGR_VNG',\n",
       " 'COLOR_BAYER_GB2GRAY',\n",
       " 'COLOR_BAYER_GB2RGB',\n",
       " 'COLOR_BAYER_GB2RGBA',\n",
       " 'COLOR_BAYER_GB2RGB_EA',\n",
       " 'COLOR_BAYER_GB2RGB_VNG',\n",
       " 'COLOR_BAYER_GR2BGR',\n",
       " 'COLOR_BAYER_GR2BGRA',\n",
       " 'COLOR_BAYER_GR2BGR_EA',\n",
       " 'COLOR_BAYER_GR2BGR_VNG',\n",
       " 'COLOR_BAYER_GR2GRAY',\n",
       " 'COLOR_BAYER_GR2RGB',\n",
       " 'COLOR_BAYER_GR2RGBA',\n",
       " 'COLOR_BAYER_GR2RGB_EA',\n",
       " 'COLOR_BAYER_GR2RGB_VNG',\n",
       " 'COLOR_BAYER_RG2BGR',\n",
       " 'COLOR_BAYER_RG2BGRA',\n",
       " 'COLOR_BAYER_RG2BGR_EA',\n",
       " 'COLOR_BAYER_RG2BGR_VNG',\n",
       " 'COLOR_BAYER_RG2GRAY',\n",
       " 'COLOR_BAYER_RG2RGB',\n",
       " 'COLOR_BAYER_RG2RGBA',\n",
       " 'COLOR_BAYER_RG2RGB_EA',\n",
       " 'COLOR_BAYER_RG2RGB_VNG',\n",
       " 'COLOR_BGR2BGR555',\n",
       " 'COLOR_BGR2BGR565',\n",
       " 'COLOR_BGR2BGRA',\n",
       " 'COLOR_BGR2GRAY',\n",
       " 'COLOR_BGR2HLS',\n",
       " 'COLOR_BGR2HLS_FULL',\n",
       " 'COLOR_BGR2HSV',\n",
       " 'COLOR_BGR2HSV_FULL',\n",
       " 'COLOR_BGR2LAB',\n",
       " 'COLOR_BGR2LUV',\n",
       " 'COLOR_BGR2Lab',\n",
       " 'COLOR_BGR2Luv',\n",
       " 'COLOR_BGR2RGB',\n",
       " 'COLOR_BGR2RGBA',\n",
       " 'COLOR_BGR2XYZ',\n",
       " 'COLOR_BGR2YCR_CB',\n",
       " 'COLOR_BGR2YCrCb',\n",
       " 'COLOR_BGR2YUV',\n",
       " 'COLOR_BGR2YUV_I420',\n",
       " 'COLOR_BGR2YUV_IYUV',\n",
       " 'COLOR_BGR2YUV_YV12',\n",
       " 'COLOR_BGR5552BGR',\n",
       " 'COLOR_BGR5552BGRA',\n",
       " 'COLOR_BGR5552GRAY',\n",
       " 'COLOR_BGR5552RGB',\n",
       " 'COLOR_BGR5552RGBA',\n",
       " 'COLOR_BGR5652BGR',\n",
       " 'COLOR_BGR5652BGRA',\n",
       " 'COLOR_BGR5652GRAY',\n",
       " 'COLOR_BGR5652RGB',\n",
       " 'COLOR_BGR5652RGBA',\n",
       " 'COLOR_BGRA2BGR',\n",
       " 'COLOR_BGRA2BGR555',\n",
       " 'COLOR_BGRA2BGR565',\n",
       " 'COLOR_BGRA2GRAY',\n",
       " 'COLOR_BGRA2RGB',\n",
       " 'COLOR_BGRA2RGBA',\n",
       " 'COLOR_BGRA2YUV_I420',\n",
       " 'COLOR_BGRA2YUV_IYUV',\n",
       " 'COLOR_BGRA2YUV_YV12',\n",
       " 'COLOR_BayerBG2BGR',\n",
       " 'COLOR_BayerBG2BGRA',\n",
       " 'COLOR_BayerBG2BGR_EA',\n",
       " 'COLOR_BayerBG2BGR_VNG',\n",
       " 'COLOR_BayerBG2GRAY',\n",
       " 'COLOR_BayerBG2RGB',\n",
       " 'COLOR_BayerBG2RGBA',\n",
       " 'COLOR_BayerBG2RGB_EA',\n",
       " 'COLOR_BayerBG2RGB_VNG',\n",
       " 'COLOR_BayerGB2BGR',\n",
       " 'COLOR_BayerGB2BGRA',\n",
       " 'COLOR_BayerGB2BGR_EA',\n",
       " 'COLOR_BayerGB2BGR_VNG',\n",
       " 'COLOR_BayerGB2GRAY',\n",
       " 'COLOR_BayerGB2RGB',\n",
       " 'COLOR_BayerGB2RGBA',\n",
       " 'COLOR_BayerGB2RGB_EA',\n",
       " 'COLOR_BayerGB2RGB_VNG',\n",
       " 'COLOR_BayerGR2BGR',\n",
       " 'COLOR_BayerGR2BGRA',\n",
       " 'COLOR_BayerGR2BGR_EA',\n",
       " 'COLOR_BayerGR2BGR_VNG',\n",
       " 'COLOR_BayerGR2GRAY',\n",
       " 'COLOR_BayerGR2RGB',\n",
       " 'COLOR_BayerGR2RGBA',\n",
       " 'COLOR_BayerGR2RGB_EA',\n",
       " 'COLOR_BayerGR2RGB_VNG',\n",
       " 'COLOR_BayerRG2BGR',\n",
       " 'COLOR_BayerRG2BGRA',\n",
       " 'COLOR_BayerRG2BGR_EA',\n",
       " 'COLOR_BayerRG2BGR_VNG',\n",
       " 'COLOR_BayerRG2GRAY',\n",
       " 'COLOR_BayerRG2RGB',\n",
       " 'COLOR_BayerRG2RGBA',\n",
       " 'COLOR_BayerRG2RGB_EA',\n",
       " 'COLOR_BayerRG2RGB_VNG',\n",
       " 'COLOR_COLORCVT_MAX',\n",
       " 'COLOR_GRAY2BGR',\n",
       " 'COLOR_GRAY2BGR555',\n",
       " 'COLOR_GRAY2BGR565',\n",
       " 'COLOR_GRAY2BGRA',\n",
       " 'COLOR_GRAY2RGB',\n",
       " 'COLOR_GRAY2RGBA',\n",
       " 'COLOR_HLS2BGR',\n",
       " 'COLOR_HLS2BGR_FULL',\n",
       " 'COLOR_HLS2RGB',\n",
       " 'COLOR_HLS2RGB_FULL',\n",
       " 'COLOR_HSV2BGR',\n",
       " 'COLOR_HSV2BGR_FULL',\n",
       " 'COLOR_HSV2RGB',\n",
       " 'COLOR_HSV2RGB_FULL',\n",
       " 'COLOR_LAB2BGR',\n",
       " 'COLOR_LAB2LBGR',\n",
       " 'COLOR_LAB2LRGB',\n",
       " 'COLOR_LAB2RGB',\n",
       " 'COLOR_LBGR2LAB',\n",
       " 'COLOR_LBGR2LUV',\n",
       " 'COLOR_LBGR2Lab',\n",
       " 'COLOR_LBGR2Luv',\n",
       " 'COLOR_LRGB2LAB',\n",
       " 'COLOR_LRGB2LUV',\n",
       " 'COLOR_LRGB2Lab',\n",
       " 'COLOR_LRGB2Luv',\n",
       " 'COLOR_LUV2BGR',\n",
       " 'COLOR_LUV2LBGR',\n",
       " 'COLOR_LUV2LRGB',\n",
       " 'COLOR_LUV2RGB',\n",
       " 'COLOR_Lab2BGR',\n",
       " 'COLOR_Lab2LBGR',\n",
       " 'COLOR_Lab2LRGB',\n",
       " 'COLOR_Lab2RGB',\n",
       " 'COLOR_Luv2BGR',\n",
       " 'COLOR_Luv2LBGR',\n",
       " 'COLOR_Luv2LRGB',\n",
       " 'COLOR_Luv2RGB',\n",
       " 'COLOR_M_RGBA2RGBA',\n",
       " 'COLOR_RGB2BGR',\n",
       " 'COLOR_RGB2BGR555',\n",
       " 'COLOR_RGB2BGR565',\n",
       " 'COLOR_RGB2BGRA',\n",
       " 'COLOR_RGB2GRAY',\n",
       " 'COLOR_RGB2HLS',\n",
       " 'COLOR_RGB2HLS_FULL',\n",
       " 'COLOR_RGB2HSV',\n",
       " 'COLOR_RGB2HSV_FULL',\n",
       " 'COLOR_RGB2LAB',\n",
       " 'COLOR_RGB2LUV',\n",
       " 'COLOR_RGB2Lab',\n",
       " 'COLOR_RGB2Luv',\n",
       " 'COLOR_RGB2RGBA',\n",
       " 'COLOR_RGB2XYZ',\n",
       " 'COLOR_RGB2YCR_CB',\n",
       " 'COLOR_RGB2YCrCb',\n",
       " 'COLOR_RGB2YUV',\n",
       " 'COLOR_RGB2YUV_I420',\n",
       " 'COLOR_RGB2YUV_IYUV',\n",
       " 'COLOR_RGB2YUV_YV12',\n",
       " 'COLOR_RGBA2BGR',\n",
       " 'COLOR_RGBA2BGR555',\n",
       " 'COLOR_RGBA2BGR565',\n",
       " 'COLOR_RGBA2BGRA',\n",
       " 'COLOR_RGBA2GRAY',\n",
       " 'COLOR_RGBA2M_RGBA',\n",
       " 'COLOR_RGBA2RGB',\n",
       " 'COLOR_RGBA2YUV_I420',\n",
       " 'COLOR_RGBA2YUV_IYUV',\n",
       " 'COLOR_RGBA2YUV_YV12',\n",
       " 'COLOR_RGBA2mRGBA',\n",
       " 'COLOR_XYZ2BGR',\n",
       " 'COLOR_XYZ2RGB',\n",
       " 'COLOR_YCR_CB2BGR',\n",
       " 'COLOR_YCR_CB2RGB',\n",
       " 'COLOR_YCrCb2BGR',\n",
       " 'COLOR_YCrCb2RGB',\n",
       " 'COLOR_YUV2BGR',\n",
       " 'COLOR_YUV2BGRA_I420',\n",
       " 'COLOR_YUV2BGRA_IYUV',\n",
       " 'COLOR_YUV2BGRA_NV12',\n",
       " 'COLOR_YUV2BGRA_NV21',\n",
       " 'COLOR_YUV2BGRA_UYNV',\n",
       " 'COLOR_YUV2BGRA_UYVY',\n",
       " 'COLOR_YUV2BGRA_Y422',\n",
       " 'COLOR_YUV2BGRA_YUNV',\n",
       " 'COLOR_YUV2BGRA_YUY2',\n",
       " 'COLOR_YUV2BGRA_YUYV',\n",
       " 'COLOR_YUV2BGRA_YV12',\n",
       " 'COLOR_YUV2BGRA_YVYU',\n",
       " 'COLOR_YUV2BGR_I420',\n",
       " 'COLOR_YUV2BGR_IYUV',\n",
       " 'COLOR_YUV2BGR_NV12',\n",
       " 'COLOR_YUV2BGR_NV21',\n",
       " 'COLOR_YUV2BGR_UYNV',\n",
       " 'COLOR_YUV2BGR_UYVY',\n",
       " 'COLOR_YUV2BGR_Y422',\n",
       " 'COLOR_YUV2BGR_YUNV',\n",
       " 'COLOR_YUV2BGR_YUY2',\n",
       " 'COLOR_YUV2BGR_YUYV',\n",
       " 'COLOR_YUV2BGR_YV12',\n",
       " 'COLOR_YUV2BGR_YVYU',\n",
       " 'COLOR_YUV2GRAY_420',\n",
       " 'COLOR_YUV2GRAY_I420',\n",
       " 'COLOR_YUV2GRAY_IYUV',\n",
       " 'COLOR_YUV2GRAY_NV12',\n",
       " 'COLOR_YUV2GRAY_NV21',\n",
       " 'COLOR_YUV2GRAY_UYNV',\n",
       " 'COLOR_YUV2GRAY_UYVY',\n",
       " 'COLOR_YUV2GRAY_Y422',\n",
       " 'COLOR_YUV2GRAY_YUNV',\n",
       " 'COLOR_YUV2GRAY_YUY2',\n",
       " 'COLOR_YUV2GRAY_YUYV',\n",
       " 'COLOR_YUV2GRAY_YV12',\n",
       " 'COLOR_YUV2GRAY_YVYU',\n",
       " 'COLOR_YUV2RGB',\n",
       " 'COLOR_YUV2RGBA_I420',\n",
       " 'COLOR_YUV2RGBA_IYUV',\n",
       " 'COLOR_YUV2RGBA_NV12',\n",
       " 'COLOR_YUV2RGBA_NV21',\n",
       " 'COLOR_YUV2RGBA_UYNV',\n",
       " 'COLOR_YUV2RGBA_UYVY',\n",
       " 'COLOR_YUV2RGBA_Y422',\n",
       " 'COLOR_YUV2RGBA_YUNV',\n",
       " 'COLOR_YUV2RGBA_YUY2',\n",
       " 'COLOR_YUV2RGBA_YUYV',\n",
       " 'COLOR_YUV2RGBA_YV12',\n",
       " 'COLOR_YUV2RGBA_YVYU',\n",
       " 'COLOR_YUV2RGB_I420',\n",
       " 'COLOR_YUV2RGB_IYUV',\n",
       " 'COLOR_YUV2RGB_NV12',\n",
       " 'COLOR_YUV2RGB_NV21',\n",
       " 'COLOR_YUV2RGB_UYNV',\n",
       " 'COLOR_YUV2RGB_UYVY',\n",
       " 'COLOR_YUV2RGB_Y422',\n",
       " 'COLOR_YUV2RGB_YUNV',\n",
       " 'COLOR_YUV2RGB_YUY2',\n",
       " 'COLOR_YUV2RGB_YUYV',\n",
       " 'COLOR_YUV2RGB_YV12',\n",
       " 'COLOR_YUV2RGB_YVYU',\n",
       " 'COLOR_YUV420P2BGR',\n",
       " 'COLOR_YUV420P2BGRA',\n",
       " 'COLOR_YUV420P2GRAY',\n",
       " 'COLOR_YUV420P2RGB',\n",
       " 'COLOR_YUV420P2RGBA',\n",
       " 'COLOR_YUV420SP2BGR',\n",
       " 'COLOR_YUV420SP2BGRA',\n",
       " 'COLOR_YUV420SP2GRAY',\n",
       " 'COLOR_YUV420SP2RGB',\n",
       " 'COLOR_YUV420SP2RGBA',\n",
       " 'COLOR_YUV420p2BGR',\n",
       " 'COLOR_YUV420p2BGRA',\n",
       " 'COLOR_YUV420p2GRAY',\n",
       " 'COLOR_YUV420p2RGB',\n",
       " 'COLOR_YUV420p2RGBA',\n",
       " 'COLOR_YUV420sp2BGR',\n",
       " 'COLOR_YUV420sp2BGRA',\n",
       " 'COLOR_YUV420sp2GRAY',\n",
       " 'COLOR_YUV420sp2RGB',\n",
       " 'COLOR_YUV420sp2RGBA',\n",
       " 'COLOR_mRGBA2RGBA',\n",
       " 'CONTOURS_MATCH_I1',\n",
       " 'CONTOURS_MATCH_I2',\n",
       " 'CONTOURS_MATCH_I3',\n",
       " 'COVAR_COLS',\n",
       " 'COVAR_NORMAL',\n",
       " 'COVAR_ROWS',\n",
       " 'COVAR_SCALE',\n",
       " 'COVAR_SCRAMBLED',\n",
       " 'COVAR_USE_AVG',\n",
       " 'CV_16S',\n",
       " 'CV_16SC1',\n",
       " 'CV_16SC2',\n",
       " 'CV_16SC3',\n",
       " 'CV_16SC4',\n",
       " 'CV_16U',\n",
       " 'CV_16UC1',\n",
       " 'CV_16UC2',\n",
       " 'CV_16UC3',\n",
       " 'CV_16UC4',\n",
       " 'CV_32F',\n",
       " 'CV_32FC1',\n",
       " 'CV_32FC2',\n",
       " 'CV_32FC3',\n",
       " 'CV_32FC4',\n",
       " 'CV_32S',\n",
       " 'CV_32SC1',\n",
       " 'CV_32SC2',\n",
       " 'CV_32SC3',\n",
       " 'CV_32SC4',\n",
       " 'CV_64F',\n",
       " 'CV_64FC1',\n",
       " 'CV_64FC2',\n",
       " 'CV_64FC3',\n",
       " 'CV_64FC4',\n",
       " 'CV_8S',\n",
       " 'CV_8SC1',\n",
       " 'CV_8SC2',\n",
       " 'CV_8SC3',\n",
       " 'CV_8SC4',\n",
       " 'CV_8U',\n",
       " 'CV_8UC1',\n",
       " 'CV_8UC2',\n",
       " 'CV_8UC3',\n",
       " 'CV_8UC4',\n",
       " 'CalibrateCRF',\n",
       " 'CalibrateDebevec',\n",
       " 'CalibrateRobertson',\n",
       " 'CamShift',\n",
       " 'Canny',\n",
       " 'CascadeClassifier',\n",
       " 'CascadeClassifier_convert',\n",
       " 'CirclesGridFinderParameters',\n",
       " 'CirclesGridFinderParameters_ASYMMETRIC_GRID',\n",
       " 'CirclesGridFinderParameters_SYMMETRIC_GRID',\n",
       " 'DCT_INVERSE',\n",
       " 'DCT_ROWS',\n",
       " 'DECOMP_CHOLESKY',\n",
       " 'DECOMP_EIG',\n",
       " 'DECOMP_LU',\n",
       " 'DECOMP_NORMAL',\n",
       " 'DECOMP_QR',\n",
       " 'DECOMP_SVD',\n",
       " 'DESCRIPTOR_MATCHER_BRUTEFORCE',\n",
       " 'DESCRIPTOR_MATCHER_BRUTEFORCE_HAMMING',\n",
       " 'DESCRIPTOR_MATCHER_BRUTEFORCE_HAMMINGLUT',\n",
       " 'DESCRIPTOR_MATCHER_BRUTEFORCE_L1',\n",
       " 'DESCRIPTOR_MATCHER_BRUTEFORCE_SL2',\n",
       " 'DESCRIPTOR_MATCHER_FLANNBASED',\n",
       " 'DFT_COMPLEX_INPUT',\n",
       " 'DFT_COMPLEX_OUTPUT',\n",
       " 'DFT_INVERSE',\n",
       " 'DFT_REAL_OUTPUT',\n",
       " 'DFT_ROWS',\n",
       " 'DFT_SCALE',\n",
       " 'DISOPTICAL_FLOW_PRESET_FAST',\n",
       " 'DISOPTICAL_FLOW_PRESET_MEDIUM',\n",
       " 'DISOPTICAL_FLOW_PRESET_ULTRAFAST',\n",
       " 'DISOpticalFlow',\n",
       " 'DISOpticalFlow_PRESET_FAST',\n",
       " 'DISOpticalFlow_PRESET_MEDIUM',\n",
       " 'DISOpticalFlow_PRESET_ULTRAFAST',\n",
       " 'DISOpticalFlow_create',\n",
       " 'DIST_C',\n",
       " 'DIST_FAIR',\n",
       " 'DIST_HUBER',\n",
       " 'DIST_L1',\n",
       " 'DIST_L12',\n",
       " 'DIST_L2',\n",
       " 'DIST_LABEL_CCOMP',\n",
       " 'DIST_LABEL_PIXEL',\n",
       " 'DIST_MASK_3',\n",
       " 'DIST_MASK_5',\n",
       " 'DIST_MASK_PRECISE',\n",
       " 'DIST_USER',\n",
       " 'DIST_WELSCH',\n",
       " 'DMatch',\n",
       " 'DRAW_MATCHES_FLAGS_DEFAULT',\n",
       " 'DRAW_MATCHES_FLAGS_DRAW_OVER_OUTIMG',\n",
       " 'DRAW_MATCHES_FLAGS_DRAW_RICH_KEYPOINTS',\n",
       " 'DRAW_MATCHES_FLAGS_NOT_DRAW_SINGLE_POINTS',\n",
       " 'DenseOpticalFlow',\n",
       " 'DescriptorMatcher',\n",
       " 'DescriptorMatcher_BRUTEFORCE',\n",
       " 'DescriptorMatcher_BRUTEFORCE_HAMMING',\n",
       " 'DescriptorMatcher_BRUTEFORCE_HAMMINGLUT',\n",
       " 'DescriptorMatcher_BRUTEFORCE_L1',\n",
       " 'DescriptorMatcher_BRUTEFORCE_SL2',\n",
       " 'DescriptorMatcher_FLANNBASED',\n",
       " 'DescriptorMatcher_create',\n",
       " 'DrawMatchesFlags_DEFAULT',\n",
       " 'DrawMatchesFlags_DRAW_OVER_OUTIMG',\n",
       " 'DrawMatchesFlags_DRAW_RICH_KEYPOINTS',\n",
       " 'DrawMatchesFlags_NOT_DRAW_SINGLE_POINTS',\n",
       " 'EMD',\n",
       " 'EVENT_FLAG_ALTKEY',\n",
       " 'EVENT_FLAG_CTRLKEY',\n",
       " 'EVENT_FLAG_LBUTTON',\n",
       " 'EVENT_FLAG_MBUTTON',\n",
       " 'EVENT_FLAG_RBUTTON',\n",
       " 'EVENT_FLAG_SHIFTKEY',\n",
       " 'EVENT_LBUTTONDBLCLK',\n",
       " 'EVENT_LBUTTONDOWN',\n",
       " 'EVENT_LBUTTONUP',\n",
       " 'EVENT_MBUTTONDBLCLK',\n",
       " 'EVENT_MBUTTONDOWN',\n",
       " 'EVENT_MBUTTONUP',\n",
       " 'EVENT_MOUSEHWHEEL',\n",
       " 'EVENT_MOUSEMOVE',\n",
       " 'EVENT_MOUSEWHEEL',\n",
       " 'EVENT_RBUTTONDBLCLK',\n",
       " 'EVENT_RBUTTONDOWN',\n",
       " 'EVENT_RBUTTONUP',\n",
       " 'Error',\n",
       " 'FAST_FEATURE_DETECTOR_FAST_N',\n",
       " 'FAST_FEATURE_DETECTOR_NONMAX_SUPPRESSION',\n",
       " 'FAST_FEATURE_DETECTOR_THRESHOLD',\n",
       " 'FAST_FEATURE_DETECTOR_TYPE_5_8',\n",
       " 'FAST_FEATURE_DETECTOR_TYPE_7_12',\n",
       " 'FAST_FEATURE_DETECTOR_TYPE_9_16',\n",
       " 'FILE_NODE_EMPTY',\n",
       " 'FILE_NODE_FLOAT',\n",
       " 'FILE_NODE_FLOW',\n",
       " 'FILE_NODE_INT',\n",
       " 'FILE_NODE_MAP',\n",
       " 'FILE_NODE_NAMED',\n",
       " 'FILE_NODE_NONE',\n",
       " 'FILE_NODE_REAL',\n",
       " 'FILE_NODE_SEQ',\n",
       " 'FILE_NODE_STR',\n",
       " 'FILE_NODE_STRING',\n",
       " 'FILE_NODE_TYPE_MASK',\n",
       " 'FILE_NODE_UNIFORM',\n",
       " 'FILE_STORAGE_APPEND',\n",
       " 'FILE_STORAGE_BASE64',\n",
       " 'FILE_STORAGE_FORMAT_AUTO',\n",
       " 'FILE_STORAGE_FORMAT_JSON',\n",
       " 'FILE_STORAGE_FORMAT_MASK',\n",
       " 'FILE_STORAGE_FORMAT_XML',\n",
       " 'FILE_STORAGE_FORMAT_YAML',\n",
       " 'FILE_STORAGE_INSIDE_MAP',\n",
       " 'FILE_STORAGE_MEMORY',\n",
       " 'FILE_STORAGE_NAME_EXPECTED',\n",
       " 'FILE_STORAGE_READ',\n",
       " 'FILE_STORAGE_UNDEFINED',\n",
       " 'FILE_STORAGE_VALUE_EXPECTED',\n",
       " 'FILE_STORAGE_WRITE',\n",
       " 'FILE_STORAGE_WRITE_BASE64',\n",
       " 'FILLED',\n",
       " 'FILTER_SCHARR',\n",
       " 'FLOODFILL_FIXED_RANGE',\n",
       " 'FLOODFILL_MASK_ONLY',\n",
       " 'FM_7POINT',\n",
       " 'FM_8POINT',\n",
       " 'FM_LMEDS',\n",
       " 'FM_RANSAC',\n",
       " 'FONT_HERSHEY_COMPLEX',\n",
       " 'FONT_HERSHEY_COMPLEX_SMALL',\n",
       " 'FONT_HERSHEY_DUPLEX',\n",
       " 'FONT_HERSHEY_PLAIN',\n",
       " 'FONT_HERSHEY_SCRIPT_COMPLEX',\n",
       " 'FONT_HERSHEY_SCRIPT_SIMPLEX',\n",
       " 'FONT_HERSHEY_SIMPLEX',\n",
       " 'FONT_HERSHEY_TRIPLEX',\n",
       " 'FONT_ITALIC',\n",
       " 'FORMATTER_FMT_C',\n",
       " 'FORMATTER_FMT_CSV',\n",
       " 'FORMATTER_FMT_DEFAULT',\n",
       " 'FORMATTER_FMT_MATLAB',\n",
       " 'FORMATTER_FMT_NUMPY',\n",
       " 'FORMATTER_FMT_PYTHON',\n",
       " 'FarnebackOpticalFlow',\n",
       " 'FarnebackOpticalFlow_create',\n",
       " 'FastFeatureDetector',\n",
       " 'FastFeatureDetector_FAST_N',\n",
       " 'FastFeatureDetector_NONMAX_SUPPRESSION',\n",
       " 'FastFeatureDetector_THRESHOLD',\n",
       " 'FastFeatureDetector_TYPE_5_8',\n",
       " 'FastFeatureDetector_TYPE_7_12',\n",
       " 'FastFeatureDetector_TYPE_9_16',\n",
       " 'FastFeatureDetector_create',\n",
       " 'Feature2D',\n",
       " 'FileNode',\n",
       " 'FileNode_EMPTY',\n",
       " 'FileNode_FLOAT',\n",
       " 'FileNode_FLOW',\n",
       " 'FileNode_INT',\n",
       " 'FileNode_MAP',\n",
       " 'FileNode_NAMED',\n",
       " 'FileNode_NONE',\n",
       " 'FileNode_REAL',\n",
       " 'FileNode_SEQ',\n",
       " 'FileNode_STR',\n",
       " 'FileNode_STRING',\n",
       " 'FileNode_TYPE_MASK',\n",
       " 'FileNode_UNIFORM',\n",
       " 'FileStorage',\n",
       " 'FileStorage_APPEND',\n",
       " 'FileStorage_BASE64',\n",
       " 'FileStorage_FORMAT_AUTO',\n",
       " 'FileStorage_FORMAT_JSON',\n",
       " 'FileStorage_FORMAT_MASK',\n",
       " 'FileStorage_FORMAT_XML',\n",
       " 'FileStorage_FORMAT_YAML',\n",
       " 'FileStorage_INSIDE_MAP',\n",
       " 'FileStorage_MEMORY',\n",
       " 'FileStorage_NAME_EXPECTED',\n",
       " 'FileStorage_READ',\n",
       " 'FileStorage_UNDEFINED',\n",
       " 'FileStorage_VALUE_EXPECTED',\n",
       " 'FileStorage_WRITE',\n",
       " 'FileStorage_WRITE_BASE64',\n",
       " 'FlannBasedMatcher',\n",
       " 'FlannBasedMatcher_create',\n",
       " 'Formatter_FMT_C',\n",
       " 'Formatter_FMT_CSV',\n",
       " 'Formatter_FMT_DEFAULT',\n",
       " 'Formatter_FMT_MATLAB',\n",
       " 'Formatter_FMT_NUMPY',\n",
       " 'Formatter_FMT_PYTHON',\n",
       " 'GC_BGD',\n",
       " 'GC_EVAL',\n",
       " 'GC_EVAL_FREEZE_MODEL',\n",
       " 'GC_FGD',\n",
       " 'GC_INIT_WITH_MASK',\n",
       " 'GC_INIT_WITH_RECT',\n",
       " 'GC_PR_BGD',\n",
       " 'GC_PR_FGD',\n",
       " 'GEMM_1_T',\n",
       " 'GEMM_2_T',\n",
       " ...]"
      ]
     },
     "execution_count": 164,
     "metadata": {},
     "output_type": "execute_result"
    }
   ],
   "source": [
    "dir(cv2)  #  대문자 camel 방식 -> 상수처럼 간주됨"
   ]
  },
  {
   "cell_type": "code",
   "execution_count": 19,
   "metadata": {},
   "outputs": [
    {
     "data": {
      "text/plain": [
       "67108864"
      ]
     },
     "execution_count": 19,
     "metadata": {},
     "output_type": "execute_result"
    }
   ],
   "source": [
    "cv2.ACCESS_FAST #숫자로 나옴"
   ]
  },
  {
   "cell_type": "code",
   "execution_count": 23,
   "metadata": {},
   "outputs": [
    {
     "data": {
      "text/plain": [
       "50331648"
      ]
     },
     "execution_count": 23,
     "metadata": {},
     "output_type": "execute_result"
    }
   ],
   "source": [
    "cv2.ACCESS_MASK"
   ]
  },
  {
   "cell_type": "code",
   "execution_count": 167,
   "metadata": {},
   "outputs": [
    {
     "data": {
      "text/plain": [
       "<module 'cv2.ml'>"
      ]
     },
     "execution_count": 167,
     "metadata": {},
     "output_type": "execute_result"
    }
   ],
   "source": [
    "cv2.ml # machine learning(ml)"
   ]
  },
  {
   "cell_type": "code",
   "execution_count": 166,
   "metadata": {},
   "outputs": [
    {
     "data": {
      "text/plain": [
       "['ANN_MLP_ANNEAL',\n",
       " 'ANN_MLP_BACKPROP',\n",
       " 'ANN_MLP_GAUSSIAN',\n",
       " 'ANN_MLP_IDENTITY',\n",
       " 'ANN_MLP_LEAKYRELU',\n",
       " 'ANN_MLP_NO_INPUT_SCALE',\n",
       " 'ANN_MLP_NO_OUTPUT_SCALE',\n",
       " 'ANN_MLP_RELU',\n",
       " 'ANN_MLP_RPROP',\n",
       " 'ANN_MLP_SIGMOID_SYM',\n",
       " 'ANN_MLP_UPDATE_WEIGHTS',\n",
       " 'ANN_MLP_create',\n",
       " 'ANN_MLP_load',\n",
       " 'BOOST_DISCRETE',\n",
       " 'BOOST_GENTLE',\n",
       " 'BOOST_LOGIT',\n",
       " 'BOOST_REAL',\n",
       " 'Boost_DISCRETE',\n",
       " 'Boost_GENTLE',\n",
       " 'Boost_LOGIT',\n",
       " 'Boost_REAL',\n",
       " 'Boost_create',\n",
       " 'Boost_load',\n",
       " 'COL_SAMPLE',\n",
       " 'DTREES_PREDICT_AUTO',\n",
       " 'DTREES_PREDICT_MASK',\n",
       " 'DTREES_PREDICT_MAX_VOTE',\n",
       " 'DTREES_PREDICT_SUM',\n",
       " 'DTrees_PREDICT_AUTO',\n",
       " 'DTrees_PREDICT_MASK',\n",
       " 'DTrees_PREDICT_MAX_VOTE',\n",
       " 'DTrees_PREDICT_SUM',\n",
       " 'DTrees_create',\n",
       " 'DTrees_load',\n",
       " 'EM_COV_MAT_DEFAULT',\n",
       " 'EM_COV_MAT_DIAGONAL',\n",
       " 'EM_COV_MAT_GENERIC',\n",
       " 'EM_COV_MAT_SPHERICAL',\n",
       " 'EM_DEFAULT_MAX_ITERS',\n",
       " 'EM_DEFAULT_NCLUSTERS',\n",
       " 'EM_START_AUTO_STEP',\n",
       " 'EM_START_E_STEP',\n",
       " 'EM_START_M_STEP',\n",
       " 'EM_create',\n",
       " 'EM_load',\n",
       " 'KNEAREST_BRUTE_FORCE',\n",
       " 'KNEAREST_KDTREE',\n",
       " 'KNearest_BRUTE_FORCE',\n",
       " 'KNearest_KDTREE',\n",
       " 'KNearest_create',\n",
       " 'KNearest_load',\n",
       " 'LOGISTIC_REGRESSION_BATCH',\n",
       " 'LOGISTIC_REGRESSION_MINI_BATCH',\n",
       " 'LOGISTIC_REGRESSION_REG_DISABLE',\n",
       " 'LOGISTIC_REGRESSION_REG_L1',\n",
       " 'LOGISTIC_REGRESSION_REG_L2',\n",
       " 'LogisticRegression_BATCH',\n",
       " 'LogisticRegression_MINI_BATCH',\n",
       " 'LogisticRegression_REG_DISABLE',\n",
       " 'LogisticRegression_REG_L1',\n",
       " 'LogisticRegression_REG_L2',\n",
       " 'LogisticRegression_create',\n",
       " 'LogisticRegression_load',\n",
       " 'NormalBayesClassifier_create',\n",
       " 'NormalBayesClassifier_load',\n",
       " 'ParamGrid_create',\n",
       " 'ROW_SAMPLE',\n",
       " 'RTrees_create',\n",
       " 'RTrees_load',\n",
       " 'STAT_MODEL_COMPRESSED_INPUT',\n",
       " 'STAT_MODEL_PREPROCESSED_INPUT',\n",
       " 'STAT_MODEL_RAW_OUTPUT',\n",
       " 'STAT_MODEL_UPDATE_MODEL',\n",
       " 'SVMSGD_ASGD',\n",
       " 'SVMSGD_HARD_MARGIN',\n",
       " 'SVMSGD_SGD',\n",
       " 'SVMSGD_SOFT_MARGIN',\n",
       " 'SVMSGD_create',\n",
       " 'SVMSGD_load',\n",
       " 'SVM_C',\n",
       " 'SVM_CHI2',\n",
       " 'SVM_COEF',\n",
       " 'SVM_CUSTOM',\n",
       " 'SVM_C_SVC',\n",
       " 'SVM_DEGREE',\n",
       " 'SVM_EPS_SVR',\n",
       " 'SVM_GAMMA',\n",
       " 'SVM_INTER',\n",
       " 'SVM_LINEAR',\n",
       " 'SVM_NU',\n",
       " 'SVM_NU_SVC',\n",
       " 'SVM_NU_SVR',\n",
       " 'SVM_ONE_CLASS',\n",
       " 'SVM_P',\n",
       " 'SVM_POLY',\n",
       " 'SVM_RBF',\n",
       " 'SVM_SIGMOID',\n",
       " 'SVM_create',\n",
       " 'SVM_getDefaultGridPtr',\n",
       " 'SVM_load',\n",
       " 'StatModel_COMPRESSED_INPUT',\n",
       " 'StatModel_PREPROCESSED_INPUT',\n",
       " 'StatModel_RAW_OUTPUT',\n",
       " 'StatModel_UPDATE_MODEL',\n",
       " 'TEST_ERROR',\n",
       " 'TRAIN_ERROR',\n",
       " 'TrainData_create',\n",
       " 'TrainData_getSubMatrix',\n",
       " 'TrainData_getSubVector',\n",
       " 'VAR_CATEGORICAL',\n",
       " 'VAR_NUMERICAL',\n",
       " 'VAR_ORDERED',\n",
       " '__doc__',\n",
       " '__loader__',\n",
       " '__name__',\n",
       " '__package__',\n",
       " '__spec__']"
      ]
     },
     "execution_count": 166,
     "metadata": {},
     "output_type": "execute_result"
    }
   ],
   "source": [
    "dir(cv2.ml) #KNEarest 모델을 찾아봄"
   ]
  },
  {
   "cell_type": "markdown",
   "metadata": {},
   "source": [
    "#### OpenCV 머신러닝 맛보기\n",
    "1. 알고리즘 인스턴스화\n",
    "    - KNearest_create()\n",
    "2. train/fit\n",
    "    - train\n",
    "3. prediction\n",
    "    - findNearest\n",
    "\n",
    "객체지향\n",
    "- 모델부터 만듦\n",
    "- scikit 에서 만든 데이터 opencv에서 쓸수 있음\n",
    "- Numpy 형태로 읽어들이기 때문에 전통적인 머신러닝에서 원하는데이터 형태로 맞추기만 하면됨"
   ]
  },
  {
   "cell_type": "code",
   "execution_count": 168,
   "metadata": {},
   "outputs": [],
   "source": [
    "knn=cv2.ml.KNearest_create() # 알고리즘 인스턴스화 ; scikit-learn 과 동일하게함"
   ]
  },
  {
   "cell_type": "code",
   "execution_count": 169,
   "metadata": {},
   "outputs": [
    {
     "data": {
      "text/plain": [
       "['__class__',\n",
       " '__delattr__',\n",
       " '__dir__',\n",
       " '__doc__',\n",
       " '__eq__',\n",
       " '__format__',\n",
       " '__ge__',\n",
       " '__getattribute__',\n",
       " '__gt__',\n",
       " '__hash__',\n",
       " '__init__',\n",
       " '__init_subclass__',\n",
       " '__le__',\n",
       " '__lt__',\n",
       " '__ne__',\n",
       " '__new__',\n",
       " '__reduce__',\n",
       " '__reduce_ex__',\n",
       " '__repr__',\n",
       " '__setattr__',\n",
       " '__sizeof__',\n",
       " '__str__',\n",
       " '__subclasshook__',\n",
       " 'calcError',\n",
       " 'clear',\n",
       " 'create',\n",
       " 'empty',\n",
       " 'findNearest',\n",
       " 'getAlgorithmType',\n",
       " 'getDefaultK',\n",
       " 'getDefaultName',\n",
       " 'getEmax',\n",
       " 'getIsClassifier',\n",
       " 'getVarCount',\n",
       " 'isClassifier',\n",
       " 'isTrained',\n",
       " 'load',\n",
       " 'predict',\n",
       " 'read',\n",
       " 'save',\n",
       " 'setAlgorithmType',\n",
       " 'setDefaultK',\n",
       " 'setEmax',\n",
       " 'setIsClassifier',\n",
       " 'train',\n",
       " 'write']"
      ]
     },
     "execution_count": 169,
     "metadata": {},
     "output_type": "execute_result"
    }
   ],
   "source": [
    "dir(knn) #fit없으니 train"
   ]
  },
  {
   "cell_type": "markdown",
   "metadata": {},
   "source": [
    "- openCV 에서 행/열로 데이터를 넣을 수 있는지 여부를 결정함."
   ]
  },
  {
   "cell_type": "code",
   "execution_count": 171,
   "metadata": {},
   "outputs": [
    {
     "data": {
      "text/plain": [
       "1"
      ]
     },
     "execution_count": 171,
     "metadata": {},
     "output_type": "execute_result"
    }
   ],
   "source": [
    "cv2.ml.ROW_SAMPLE #우리가 아는 방식\n",
    "cv2.ml.COL_SAMPLE"
   ]
  },
  {
   "cell_type": "code",
   "execution_count": 174,
   "metadata": {},
   "outputs": [
    {
     "data": {
      "text/plain": [
       "dtype('float32')"
      ]
     },
     "execution_count": 174,
     "metadata": {},
     "output_type": "execute_result"
    }
   ],
   "source": [
    "n_img.dtype"
   ]
  },
  {
   "cell_type": "code",
   "execution_count": 172,
   "metadata": {},
   "outputs": [],
   "source": [
    "n_img=n_img.astype('float32') #64->32  ; 32 bit 기본 "
   ]
  },
  {
   "cell_type": "code",
   "execution_count": 173,
   "metadata": {},
   "outputs": [
    {
     "data": {
      "text/plain": [
       "True"
      ]
     },
     "execution_count": 173,
     "metadata": {},
     "output_type": "execute_result"
    }
   ],
   "source": [
    "knn.train(n_img,0,data.target)"
   ]
  },
  {
   "cell_type": "markdown",
   "metadata": {},
   "source": [
    "prediction vector \n",
    "k개의 가장 가까운 데이터가 예측한 값 \n",
    "- 값 3으로 예측 (최종)\n",
    "- 가장 가까운 3개의 예측값 3\n",
    "- 가장 가까운 3개값간의 거리(자기 자신 포함)\n",
    "\n",
    "knn은 차원이 크든 작든 필요 없이 거리 측도에 따라서 가장 가까운 데이터가 많은 것을 선택"
   ]
  },
  {
   "cell_type": "code",
   "execution_count": 176,
   "metadata": {
    "scrolled": true
   },
   "outputs": [
    {
     "data": {
      "text/plain": [
       "(3.0,\n",
       " array([[3.]], dtype=float32),\n",
       " array([[3., 3., 3.]], dtype=float32),\n",
       " array([[  0., 197., 232.]], dtype=float32))"
      ]
     },
     "execution_count": 176,
     "metadata": {},
     "output_type": "execute_result"
    }
   ],
   "source": [
    "new_img= data.images[3].reshape(1,-1).astype('float32')\n",
    "knn.findNearest(new_img,3) #가장 가까운 이미지 3개 찾아줌 "
   ]
  }
 ],
 "metadata": {
  "kernelspec": {
   "display_name": "Python 3",
   "language": "python",
   "name": "python3"
  },
  "language_info": {
   "codemirror_mode": {
    "name": "ipython",
    "version": 3
   },
   "file_extension": ".py",
   "mimetype": "text/x-python",
   "name": "python",
   "nbconvert_exporter": "python",
   "pygments_lexer": "ipython3",
   "version": "3.7.6"
  }
 },
 "nbformat": 4,
 "nbformat_minor": 4
}
