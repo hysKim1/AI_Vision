{
 "cells": [
  {
   "cell_type": "markdown",
   "metadata": {
    "id": "vDBBCUYRpxcM"
   },
   "source": [
    "# [AI 이노베이션 스퀘어] 12기 고급 시각반\n",
    "- github: https://github.com/hysKim1/AI_Vision\n",
    "    - [파이썬 공식문서]https://docs.python.org/ko/3/\n",
    "    - [Numpy 공식문서]https://numpy.org/devdocs/\n",
    "    - [ML]https://developers.google.com/machine-learning/crash-course/ml-intro?hl=ko\n",
    "    - [DL]https://www.tensorflow.org/?hl=ko\n",
    "      \n",
    "---\n",
    "* [Autoencoder](#Autoencoder)\n",
    "    * [Denoising Autoencoder](#Denoising-Autoencoder)\n",
    "    * [Convolutional Autoencoder](#Convolutional-Autoencoder)\n",
    "* [ Generative Adversarial Network](#Generative-Adversarial-Network)\n",
    "\n",
    "\n",
    "---\n",
    "저번시간에는 간단하게 여러종류의 Autoencoder(AE)를 keras blog 참고하여 구현\n",
    " - simple, deep, sparse, convolutional AE\n",
    " \n",
    "1. stacked/deep\n",
    "  - stacked 반복해서 쌓여진 레이어 eg. stacked rnn, lstm \n",
    "2. sparse\n",
    "  - 차원을 늘림(어려움) \n",
    "  - 차원을 높이면 많은 데이터가 필요\n",
    "    - SVM kernel trick 제외하고는 머신러닝에서 차원증가해서 문제 해결하려 하지않음\n",
    "    - 차원을 추가해서 데이터 분리\n",
    "  - DL  FCNN, Convolution 크기 계속 줄어듦\n",
    "  - NN  activation function으로 비선형을 선형으로 구분할수 있도록 바꿈\n",
    "3. denoising auto-encoder\n",
    "      - noise와 실제데이터 학습을 통해서 노이즈 제거\n",
    " \n",
    "## Autoencoder\n",
    "\n",
    "- **이론적 가치**가 있었고 실용적인 기법이 없다고 생각 VAE\n",
    "- self-suprevised learning : 라벨없이 학습 데이터의 특징을 파악해서 학습하여  찾음 (미래의 기법)\n",
    "  - 2016 keras 창시자 autoencoder 관련 blog post에서  \"...badly outdated!\"\n",
    "- variational autoencoder\n",
    "    - data 생성하는 모델로써 큰 가치를 갖음\n",
    "- autoencoder 딥러닝 모델에 많이 적용됨\n",
    "- convolution : Upsampling2D, padding=same 으로 크기 맞춤\n",
    "\n",
    " - 책 추천:IanGoodFellow Deep Learning 교과서"
   ]
  },
  {
   "cell_type": "markdown",
   "metadata": {
    "id": "KKuwRG-psoGV"
   },
   "source": [
    "Autoencoder 모델\n",
    "- 이전에 declarative 한 방법으로 하나 하나 선언\n",
    "- 객체지향: Model 상속을 통해서 객체로 만들어서 재사용 ,재활용\n",
    "  - 활용,확장\n",
    "  - call: 인스턴스된 객체 함수처럼 사용(functional pradigm) closure\n",
    "  - __init__ , build\n",
    "  - model, layer 상속\n",
    "- encoder, decoder 구조를 역순으로 맞춤\n",
    "\n",
    "- 레이어가 적어서 성능이 안 좋음\n",
    "\n",
    "- TensorFlow 공식홈페이지 Autoencoder 참고: https://www.tensorflow.org/tutorials/generative/autoencoder"
   ]
  },
  {
   "cell_type": "code",
   "execution_count": 2,
   "metadata": {
    "id": "pnqmARzcsDjO"
   },
   "outputs": [],
   "source": [
    "import matplotlib.pyplot as plt\n",
    "import numpy as np\n",
    "import pandas as pd\n",
    "import tensorflow as tf\n",
    "\n",
    "from sklearn.metrics import accuracy_score, precision_score, recall_score  #정형 데이터\n",
    "from sklearn.model_selection import train_test_split\n",
    "from tensorflow.keras import layers, losses\n",
    "from tensorflow.keras.datasets import fashion_mnist\n",
    "from tensorflow.keras.models import Model"
   ]
  },
  {
   "cell_type": "code",
   "execution_count": 2,
   "metadata": {
    "colab": {
     "base_uri": "https://localhost:8080/"
    },
    "id": "L7IT8HDasJE5",
    "outputId": "87f77652-9885-4a29-a277-1660f38d82ad"
   },
   "outputs": [
    {
     "name": "stdout",
     "output_type": "stream",
     "text": [
      "Downloading data from https://storage.googleapis.com/tensorflow/tf-keras-datasets/train-labels-idx1-ubyte.gz\n",
      "32768/29515 [=================================] - 0s 0us/step\n",
      "Downloading data from https://storage.googleapis.com/tensorflow/tf-keras-datasets/train-images-idx3-ubyte.gz\n",
      "26427392/26421880 [==============================] - 1s 0us/step\n",
      "Downloading data from https://storage.googleapis.com/tensorflow/tf-keras-datasets/t10k-labels-idx1-ubyte.gz\n",
      "8192/5148 [===============================================] - 0s 0us/step\n",
      "Downloading data from https://storage.googleapis.com/tensorflow/tf-keras-datasets/t10k-images-idx3-ubyte.gz\n",
      "4423680/4422102 [==============================] - 0s 0us/step\n",
      "(60000, 28, 28)\n",
      "(10000, 28, 28)\n"
     ]
    }
   ],
   "source": [
    "(x_train, _), (x_test, _) = fashion_mnist.load_data()# unpacking 갯수 맞추어야 해서 _ 관례상 사용하지않는 변수 표시\n",
    "\n",
    "x_train = x_train.astype('float32') / 255.     \n",
    "x_test = x_test.astype('float32') / 255.\n",
    "\n",
    "print (x_train.shape)\n",
    "print (x_test.shape) "
   ]
  },
  {
   "cell_type": "code",
   "execution_count": 3,
   "metadata": {
    "id": "-L-h3G-tsjDI"
   },
   "outputs": [],
   "source": [
    "latent_dim = 64 \n",
    "\n",
    "class Autoencoder(Model):   #축소된/잠재된 특징을 나타냄  -인스턴스해서 \n",
    "  def __init__(self, latent_dim):\n",
    "    super(Autoencoder, self).__init__()\n",
    "    self.latent_dim = latent_dim              \n",
    "    #모델 내에 모델 내장 가능해서 모델 분리\n",
    "    self.encoder = tf.keras.Sequential([      \n",
    "      layers.Flatten(),\n",
    "      layers.Dense(latent_dim, activation='relu'), \n",
    "    ])\n",
    "    self.decoder = tf.keras.Sequential([\n",
    "      layers.Dense(784, activation='sigmoid'), #이진분류 : 내자신이다 아니다!\n",
    "      layers.Reshape((28, 28))\n",
    "    ])\n",
    "\n",
    "  def call(self, x):  # callable \n",
    "    encoded = self.encoder(x)     \n",
    "    decoded = self.decoder(encoded)\n",
    "    return decoded\n",
    "  \n",
    "autoencoder1 = Autoencoder(latent_dim)          #인스턴스 ( 잠재된 차원)\n",
    "autoencoder2= Autoencoder(latent_dim)      "
   ]
  },
  {
   "cell_type": "markdown",
   "metadata": {
    "id": "jGhSSU4NvR3r"
   },
   "source": [
    "- 모델 상속해서 compile, fit\n",
    "  - 학습: loss func 최소화\n",
    "- 구분된 categoial 에 쓰는 loss function\n",
    "내 자신이실제 결과와 얼마나 다른지 \n"
   ]
  },
  {
   "cell_type": "code",
   "execution_count": 4,
   "metadata": {
    "id": "AQrgw8c_umg_"
   },
   "outputs": [],
   "source": [
    "autoencoder1.compile(optimizer='adam', loss=losses.BinaryCrossentropy()) \n",
    "\n",
    "autoencoder2.compile(optimizer='adam', loss=losses.MeanSquaredError()) #평균제곱오차"
   ]
  },
  {
   "cell_type": "markdown",
   "metadata": {
    "id": "KNjH_sWNwm40"
   },
   "source": [
    "  - 머신러닝은 절대적 모델 평가 No\n",
    "  - binary crossentropy, MSE 기준이 다르기 때문에 절대적 수치 비교하면 안되며 학습의 **변화 정도**만 평가\n",
    "    - 둘다 학습하다가 어느정도 주춤되기 시작\n",
    "\n"
   ]
  },
  {
   "cell_type": "code",
   "execution_count": 5,
   "metadata": {
    "colab": {
     "base_uri": "https://localhost:8080/"
    },
    "id": "rY5VthwDum12",
    "outputId": "6247adf7-1e5b-4514-f5e7-b17186a2ebaf"
   },
   "outputs": [
    {
     "name": "stdout",
     "output_type": "stream",
     "text": [
      "Epoch 1/10\n",
      "1875/1875 [==============================] - 3s 2ms/step - loss: 0.3141 - val_loss: 0.2866\n",
      "Epoch 2/10\n",
      "1875/1875 [==============================] - 3s 2ms/step - loss: 0.2796 - val_loss: 0.2787\n",
      "Epoch 3/10\n",
      "1875/1875 [==============================] - 3s 2ms/step - loss: 0.2752 - val_loss: 0.2762\n",
      "Epoch 4/10\n",
      "1875/1875 [==============================] - 3s 2ms/step - loss: 0.2735 - val_loss: 0.2751\n",
      "Epoch 5/10\n",
      "1875/1875 [==============================] - 3s 2ms/step - loss: 0.2726 - val_loss: 0.2746\n",
      "Epoch 6/10\n",
      "1875/1875 [==============================] - 3s 2ms/step - loss: 0.2721 - val_loss: 0.2742\n",
      "Epoch 7/10\n",
      "1875/1875 [==============================] - 3s 2ms/step - loss: 0.2718 - val_loss: 0.2739\n",
      "Epoch 8/10\n",
      "1875/1875 [==============================] - 3s 2ms/step - loss: 0.2716 - val_loss: 0.2737\n",
      "Epoch 9/10\n",
      "1875/1875 [==============================] - 3s 2ms/step - loss: 0.2713 - val_loss: 0.2737\n",
      "Epoch 10/10\n",
      "1875/1875 [==============================] - 3s 2ms/step - loss: 0.2712 - val_loss: 0.2734\n"
     ]
    },
    {
     "data": {
      "text/plain": [
       "<tensorflow.python.keras.callbacks.History at 0x7fde1664d710>"
      ]
     },
     "execution_count": 5,
     "metadata": {
      "tags": []
     },
     "output_type": "execute_result"
    }
   ],
   "source": [
    "autoencoder1.fit(x_train, x_train, \n",
    "                epochs=10,\n",
    "               shuffle=True,\n",
    "                validation_data=(x_test, x_test))"
   ]
  },
  {
   "cell_type": "code",
   "execution_count": 6,
   "metadata": {
    "colab": {
     "base_uri": "https://localhost:8080/"
    },
    "id": "yPdehBPlwND8",
    "outputId": "bca54dcd-5e5f-4331-ca41-3a89ca2135f7"
   },
   "outputs": [
    {
     "name": "stdout",
     "output_type": "stream",
     "text": [
      "Epoch 1/10\n",
      "1875/1875 [==============================] - 3s 2ms/step - loss: 0.0232 - val_loss: 0.0131\n",
      "Epoch 2/10\n",
      "1875/1875 [==============================] - 3s 1ms/step - loss: 0.0115 - val_loss: 0.0105\n",
      "Epoch 3/10\n",
      "1875/1875 [==============================] - 3s 2ms/step - loss: 0.0100 - val_loss: 0.0097\n",
      "Epoch 4/10\n",
      "1875/1875 [==============================] - 3s 2ms/step - loss: 0.0094 - val_loss: 0.0093\n",
      "Epoch 5/10\n",
      "1875/1875 [==============================] - 3s 2ms/step - loss: 0.0091 - val_loss: 0.0091\n",
      "Epoch 6/10\n",
      "1875/1875 [==============================] - 3s 2ms/step - loss: 0.0090 - val_loss: 0.0089\n",
      "Epoch 7/10\n",
      "1875/1875 [==============================] - 3s 2ms/step - loss: 0.0089 - val_loss: 0.0090\n",
      "Epoch 8/10\n",
      "1875/1875 [==============================] - 3s 2ms/step - loss: 0.0088 - val_loss: 0.0089\n",
      "Epoch 9/10\n",
      "1875/1875 [==============================] - 3s 2ms/step - loss: 0.0088 - val_loss: 0.0088\n",
      "Epoch 10/10\n",
      "1875/1875 [==============================] - 3s 2ms/step - loss: 0.0087 - val_loss: 0.0088\n"
     ]
    },
    {
     "data": {
      "text/plain": [
       "<tensorflow.python.keras.callbacks.History at 0x7fde16410cf8>"
      ]
     },
     "execution_count": 6,
     "metadata": {
      "tags": []
     },
     "output_type": "execute_result"
    }
   ],
   "source": [
    "autoencoder2.fit(x_train, x_train,        \n",
    "                epochs=10,\n",
    "               shuffle=True,\n",
    "                validation_data=(x_test, x_test))  #MSE 가 loss최소화 더 잘 됨"
   ]
  },
  {
   "cell_type": "code",
   "execution_count": 9,
   "metadata": {
    "id": "soR_WR0iwXuX"
   },
   "outputs": [],
   "source": [
    "encoded_imgs = autoencoder2.encoder(x_test).numpy() #객체내에서 모델로 분리되어있어서 사용 가\n",
    "decoded_imgs = autoencoder2.decoder(encoded_imgs).numpy()"
   ]
  },
  {
   "cell_type": "code",
   "execution_count": 14,
   "metadata": {
    "colab": {
     "base_uri": "https://localhost:8080/",
     "height": 228
    },
    "id": "y6ubwlftuorw",
    "outputId": "4411bd4e-aac6-43ee-cce4-4f23fb6faaa5"
   },
   "outputs": [
    {
     "data": {
      "image/png": "[encoded data removed]",
      "text/plain": [
       "<Figure size 1440x288 with 30 Axes>"
      ]
     },
     "metadata": {
      "needs_background": "light",
      "tags": []
     },
     "output_type": "display_data"
    }
   ],
   "source": [
    "n = 10   \n",
    "plt.figure(figsize=(20, 4))\n",
    "for i in range(n):\n",
    "  # display original\n",
    "  ax = plt.subplot(3, n, i + 1)\n",
    "  plt.imshow(x_test[i])\n",
    "  plt.title(\"original\")\n",
    "  plt.gray()\n",
    "  ax.get_xaxis().set_visible(False)\n",
    "  ax.get_yaxis().set_visible(False)\n",
    "\n",
    "  # display reconstruction\n",
    "  ax = plt.subplot(3, n, i + 1 + n)\n",
    "  plt.imshow(decoded_imgs[i])\n",
    "  plt.title(\"reconstructed\")\n",
    "  plt.gray()\n",
    "  ax.get_xaxis().set_visible(False)\n",
    "  ax.get_yaxis().set_visible(False)\n",
    "\n",
    "  # display reconstruction\n",
    "  ax = plt.subplot(3, n, i + 1 + n + n)\n",
    "  plt.imshow(encoded_imgs[i][np.newaxis])\n",
    "  plt.title(\"compressed\")\n",
    "  plt.gray()\n",
    "  ax.get_xaxis().set_visible(False)\n",
    "  ax.get_yaxis().set_visible(False)\n",
    "plt.show()"
   ]
  },
  {
   "cell_type": "markdown",
   "metadata": {
    "id": "xb25zHwzyEsl"
   },
   "source": [
    "###  Denoising Autoencoder\n",
    "- 고유한 특성으로 압축되어서 다시 복원하니 렌덤 노이즈는 특성이 아닌 abnormal임으로 제거"
   ]
  },
  {
   "cell_type": "code",
   "execution_count": 16,
   "metadata": {
    "id": "5k6Ra7mLu6I9"
   },
   "outputs": [],
   "source": [
    "#랜덤하게 노이즈 추가\n",
    "noise_factor = 0.2  #노이즈 정도\n",
    "x_train_noisy = x_train + noise_factor * tf.random.normal(shape=x_train.shape)   #이미지에 랜덤값에 노이즈 정도를 곱해서 더해서 추가\n",
    "x_test_noisy = x_test + noise_factor * tf.random.normal(shape=x_test.shape) \n",
    "\n",
    "x_train_noisy = tf.clip_by_value(x_train_noisy, clip_value_min=0., clip_value_max=1.)\n",
    "x_test_noisy = tf.clip_by_value(x_test_noisy, clip_value_min=0., clip_value_max=1.)"
   ]
  },
  {
   "cell_type": "code",
   "execution_count": 17,
   "metadata": {
    "colab": {
     "base_uri": "https://localhost:8080/",
     "height": 151
    },
    "id": "MdONHnSzyVBe",
    "outputId": "2310515e-54f1-408f-8cf7-9616f8311e67"
   },
   "outputs": [
    {
     "data": {
      "image/png": "[encoded data removed]",
      "text/plain": [
       "<Figure size 1440x144 with 10 Axes>"
      ]
     },
     "metadata": {
      "needs_background": "light",
      "tags": []
     },
     "output_type": "display_data"
    }
   ],
   "source": [
    "n = 10\n",
    "plt.figure(figsize=(20, 2))\n",
    "for i in range(n):\n",
    "    ax = plt.subplot(1, n, i + 1)\n",
    "    plt.title(\"original + noise\")\n",
    "    plt.imshow(tf.squeeze(x_test_noisy[i]))\n",
    "    plt.gray()\n",
    "plt.show()"
   ]
  },
  {
   "cell_type": "code",
   "execution_count": 18,
   "metadata": {
    "colab": {
     "base_uri": "https://localhost:8080/"
    },
    "id": "rhMtOb7cyY4h",
    "outputId": "a87c26d2-6d71-4662-fe88-04dbc3e96915"
   },
   "outputs": [
    {
     "name": "stdout",
     "output_type": "stream",
     "text": [
      "Epoch 1/10\n",
      "1875/1875 [==============================] - 3s 2ms/step - loss: 0.3237 - val_loss: 0.3008\n",
      "Epoch 2/10\n",
      "1875/1875 [==============================] - 3s 2ms/step - loss: 0.2909 - val_loss: 0.2897\n",
      "Epoch 3/10\n",
      "1875/1875 [==============================] - 3s 2ms/step - loss: 0.2854 - val_loss: 0.2864\n",
      "Epoch 4/10\n",
      "1875/1875 [==============================] - 3s 2ms/step - loss: 0.2834 - val_loss: 0.2854\n",
      "Epoch 5/10\n",
      "1875/1875 [==============================] - 3s 2ms/step - loss: 0.2824 - val_loss: 0.2847\n",
      "Epoch 6/10\n",
      "1875/1875 [==============================] - 3s 2ms/step - loss: 0.2818 - val_loss: 0.2840\n",
      "Epoch 7/10\n",
      "1875/1875 [==============================] - 3s 2ms/step - loss: 0.2815 - val_loss: 0.2839\n",
      "Epoch 8/10\n",
      "1875/1875 [==============================] - 3s 2ms/step - loss: 0.2812 - val_loss: 0.2838\n",
      "Epoch 9/10\n",
      "1875/1875 [==============================] - 3s 2ms/step - loss: 0.2810 - val_loss: 0.2836\n",
      "Epoch 10/10\n",
      "1875/1875 [==============================] - 4s 2ms/step - loss: 0.2808 - val_loss: 0.2833\n"
     ]
    },
    {
     "data": {
      "text/plain": [
       "<tensorflow.python.keras.callbacks.History at 0x7fddf0523080>"
      ]
     },
     "execution_count": 18,
     "metadata": {
      "tags": []
     },
     "output_type": "execute_result"
    }
   ],
   "source": [
    "autoencoder3= Autoencoder(latent_dim)\n",
    "autoencoder3.compile(optimizer='adam', loss=losses.BinaryCrossentropy()) \n",
    "autoencoder3.fit(x_train_noisy, x_train,\n",
    "                epochs=10,\n",
    "                shuffle=True,\n",
    "                validation_data=(x_test_noisy, x_test))"
   ]
  },
  {
   "cell_type": "code",
   "execution_count": 19,
   "metadata": {
    "id": "4tRPRgHFy8Kd"
   },
   "outputs": [],
   "source": [
    "encoded_imgs = autoencoder3.encoder(x_test).numpy() \n",
    "decoded_imgs = autoencoder3.decoder(encoded_imgs).numpy()"
   ]
  },
  {
   "cell_type": "code",
   "execution_count": 21,
   "metadata": {
    "colab": {
     "base_uri": "https://localhost:8080/",
     "height": 255
    },
    "id": "BLg2QNAKzHoq",
    "outputId": "367ad688-a4f4-4218-fc8a-fff68ff26dbb"
   },
   "outputs": [
    {
     "data": {
      "image/png": "[encoded data removed]",
      "text/plain": [
       "<Figure size 1440x288 with 20 Axes>"
      ]
     },
     "metadata": {
      "needs_background": "light",
      "tags": []
     },
     "output_type": "display_data"
    }
   ],
   "source": [
    "n = 10\n",
    "plt.figure(figsize=(20, 4))\n",
    "for i in range(n):\n",
    "  # display original\n",
    "  ax = plt.subplot(2, n, i + 1)\n",
    "  plt.imshow(x_test[i])\n",
    "  plt.title(\"original\")\n",
    "  plt.gray()\n",
    "  ax.get_xaxis().set_visible(False)\n",
    "  ax.get_yaxis().set_visible(False)\n",
    "\n",
    "  # display reconstruction\n",
    "  ax = plt.subplot(2, n, i + 1 + n)\n",
    "  plt.imshow(decoded_imgs[i])\n",
    "  plt.title(\"reconstructed\")\n",
    "  plt.gray()\n",
    "  ax.get_xaxis().set_visible(False)\n",
    "  ax.get_yaxis().set_visible(False)\n",
    "plt.show()"
   ]
  },
  {
   "cell_type": "markdown",
   "metadata": {
    "id": "Il6z1TkXzVmN"
   },
   "source": [
    "### Convolutional Autoencoder\n",
    "- 이미지에 사용하는 autoencoder 성능 개선\n",
    "- 원본 이미지에서 고유한 특성을 찾아내서 특성 기반으로 복원하는데 자기 자신의 데이터 활용해서 중요\n",
    "    - object detecion 확장판 다룰 예정\n",
    "\n",
    "### convolution\n",
    "- deconvolution\n",
    "  - convolution 과정을 반대로함\n",
    "- Upsampling2D\n",
    "  - bilinear, nearest 기반 interpolation으로 resize로 늘림\n",
    "- **Conv2DTranspose**\n",
    "  - 축약된 값을 다시 복원하는것을 **학습을 통해서** 가장 비슷한 값 찾음\n",
    "  - Conv2D 반대로 축소된것을 복원하는 방법\n",
    "\n",
    "> - dilated convolution(묽은)\n",
    "  - `tf.keras.layers.Conv2D(dialtion_rate = )`\n",
    "  - convolution 할때 촘촘하게가 아닌 필터 내부에 zero padding을 추가해 강제로 receptive field를 더 넓은 범위를 하나로 확장\n",
    "    - segmentation: 빠르게 찾음\n",
    "    \n",
    "- pooling 대신에 stride이용해서 sampling"
   ]
  },
  {
   "cell_type": "code",
   "execution_count": 3,
   "metadata": {
    "colab": {
     "base_uri": "https://localhost:8080/"
    },
    "id": "JvF8HPiN-ujb",
    "outputId": "07363c9a-6a48-4f0b-9726-97332321b665"
   },
   "outputs": [
    {
     "name": "stdout",
     "output_type": "stream",
     "text": [
      "Downloading data from https://storage.googleapis.com/tensorflow/tf-keras-datasets/train-labels-idx1-ubyte.gz\n",
      "32768/29515 [=================================] - 0s 0us/step\n",
      "Downloading data from https://storage.googleapis.com/tensorflow/tf-keras-datasets/train-images-idx3-ubyte.gz\n",
      "26427392/26421880 [==============================] - 0s 0us/step\n",
      "Downloading data from https://storage.googleapis.com/tensorflow/tf-keras-datasets/t10k-labels-idx1-ubyte.gz\n",
      "8192/5148 [===============================================] - 0s 0us/step\n",
      "Downloading data from https://storage.googleapis.com/tensorflow/tf-keras-datasets/t10k-images-idx3-ubyte.gz\n",
      "4423680/4422102 [==============================] - 0s 0us/step\n",
      "(60000, 28, 28, 1)\n"
     ]
    }
   ],
   "source": [
    "(x_train, _), (x_test, _) = fashion_mnist.load_data()\n",
    "\n",
    "x_train = x_train.astype('float32') / 255.\n",
    "x_test = x_test.astype('float32') / 255.\n",
    "\n",
    "x_train = x_train[..., tf.newaxis] #흑백 이미지 차원 추가\n",
    "x_test = x_test[..., tf.newaxis]\n",
    "\n",
    "print(x_train.shape)\n",
    "#노이츠 추가\n",
    "noise_factor = 0.2 \n",
    "x_train_noisy = x_train + noise_factor * tf.random.normal(shape=x_train.shape) \n",
    "x_test_noisy = x_test + noise_factor * tf.random.normal(shape=x_test.shape) \n",
    "\n",
    "x_train_noisy = tf.clip_by_value(x_train_noisy, clip_value_min=0., clip_value_max=1.)\n",
    "x_test_noisy = tf.clip_by_value(x_test_noisy, clip_value_min=0., clip_value_max=1.)"
   ]
  },
  {
   "cell_type": "code",
   "execution_count": 4,
   "metadata": {
    "id": "oU7SvkAlzJsP"
   },
   "outputs": [],
   "source": [
    "class Denoise(Model):\n",
    "  def __init__(self):\n",
    "    super(Denoise, self).__init__()\n",
    "    self.encoder = tf.keras.Sequential([\n",
    "      layers.Input(shape=(28, 28, 1)), \n",
    "\n",
    "      layers.Conv2D(16, (3,3), activation='relu', padding='same', strides=2),  # pooling 대체\n",
    "      layers.Conv2D(8, (3,3), activation='relu', padding='same', strides=2)])\n",
    "    \n",
    "    self.decoder = tf.keras.Sequential([\n",
    "      layers.Conv2DTranspose(8, kernel_size=3, strides=2, activation='relu', padding='same'),# Upsamling2D -> Conv2DTranspose \n",
    "      layers.Conv2DTranspose(16, kernel_size=3, strides=2, activation='relu', padding='same'),\n",
    "      #1 : 크기 맞추기 원본 -> 원본\n",
    "      layers.Conv2D(1, kernel_size=(3,3), activation='sigmoid', padding='same')])\n",
    "    \n",
    "  def call(self, x):\n",
    "    encoded = self.encoder(x)\n",
    "    decoded = self.decoder(encoded)\n",
    "    return decoded\n",
    "\n",
    "autoencoder = Denoise()"
   ]
  },
  {
   "cell_type": "markdown",
   "metadata": {
    "id": "fvnS1-KC-fi5"
   },
   "source": [
    "다른모델 같은 loss로는 비교 가능"
   ]
  },
  {
   "cell_type": "code",
   "execution_count": 5,
   "metadata": {
    "id": "m-IuViGP0XRZ"
   },
   "outputs": [],
   "source": [
    "#구조 바뀌면 컴파일 다시\n",
    "autoencoder.compile(optimizer='adam', loss=losses.MeanSquaredError())"
   ]
  },
  {
   "cell_type": "code",
   "execution_count": 6,
   "metadata": {
    "colab": {
     "base_uri": "https://localhost:8080/"
    },
    "id": "1nnHWfsR-WQp",
    "outputId": "c011480b-a691-43f8-b7c8-9dc8b3698e68"
   },
   "outputs": [
    {
     "name": "stdout",
     "output_type": "stream",
     "text": [
      "Epoch 1/10\n",
      "1875/1875 [==============================] - 5s 3ms/step - loss: 0.0193 - val_loss: 0.0116\n",
      "Epoch 2/10\n",
      "1875/1875 [==============================] - 5s 2ms/step - loss: 0.0103 - val_loss: 0.0095\n",
      "Epoch 3/10\n",
      "1875/1875 [==============================] - 5s 2ms/step - loss: 0.0090 - val_loss: 0.0087\n",
      "Epoch 4/10\n",
      "1875/1875 [==============================] - 5s 3ms/step - loss: 0.0086 - val_loss: 0.0085\n",
      "Epoch 5/10\n",
      "1875/1875 [==============================] - 5s 2ms/step - loss: 0.0084 - val_loss: 0.0084\n",
      "Epoch 6/10\n",
      "1875/1875 [==============================] - 5s 2ms/step - loss: 0.0083 - val_loss: 0.0084\n",
      "Epoch 7/10\n",
      "1875/1875 [==============================] - 5s 2ms/step - loss: 0.0083 - val_loss: 0.0082\n",
      "Epoch 8/10\n",
      "1875/1875 [==============================] - 5s 2ms/step - loss: 0.0082 - val_loss: 0.0082\n",
      "Epoch 9/10\n",
      "1875/1875 [==============================] - 5s 2ms/step - loss: 0.0081 - val_loss: 0.0082\n",
      "Epoch 10/10\n",
      "1875/1875 [==============================] - 5s 2ms/step - loss: 0.0081 - val_loss: 0.0082\n"
     ]
    },
    {
     "data": {
      "text/plain": [
       "<tensorflow.python.keras.callbacks.History at 0x7fa8e0293ef0>"
      ]
     },
     "execution_count": 6,
     "metadata": {
      "tags": []
     },
     "output_type": "execute_result"
    }
   ],
   "source": [
    "autoencoder.fit(x_train_noisy, x_train,  #라벨없이 학습\n",
    "                epochs=10,\n",
    "                shuffle=True,\n",
    "                validation_data=(x_test_noisy, x_test)) #MSE 비교 "
   ]
  },
  {
   "cell_type": "code",
   "execution_count": 8,
   "metadata": {
    "id": "Xyo7kydt-XRC"
   },
   "outputs": [],
   "source": [
    "encoded_imgs = autoencoder.encoder(x_test).numpy() #객체내에서 모델로 분리되어있어서 사용 가\n",
    "decoded_imgs = autoencoder.decoder(encoded_imgs).numpy()"
   ]
  },
  {
   "cell_type": "code",
   "execution_count": 9,
   "metadata": {
    "colab": {
     "base_uri": "https://localhost:8080/",
     "height": 263
    },
    "id": "f-pZYYaB_og0",
    "outputId": "6339645f-4cf4-40eb-ddfd-88329dda185e"
   },
   "outputs": [
    {
     "data": {
      "image/png": "[encoded data removed]",
      "text/plain": [
       "<Figure size 1440x288 with 20 Axes>"
      ]
     },
     "metadata": {
      "needs_background": "light",
      "tags": []
     },
     "output_type": "display_data"
    }
   ],
   "source": [
    "n = 10\n",
    "plt.figure(figsize=(20, 4))\n",
    "for i in range(n):\n",
    "\n",
    "    # display original + noise\n",
    "    ax = plt.subplot(2, n, i + 1)\n",
    "    plt.title(\"original + noise\")\n",
    "    plt.imshow(tf.squeeze(x_test_noisy[i]))\n",
    "    plt.gray()\n",
    "    ax.get_xaxis().set_visible(False)\n",
    "    ax.get_yaxis().set_visible(False)\n",
    "\n",
    "    # display reconstruction\n",
    "    bx = plt.subplot(2, n, i + n + 1)\n",
    "    plt.title(\"reconstructed\")\n",
    "    plt.imshow(tf.squeeze(decoded_imgs[i]))\n",
    "    plt.gray()\n",
    "    bx.get_xaxis().set_visible(False)\n",
    "    bx.get_yaxis().set_visible(False) \n",
    "plt.show()"
   ]
  },
  {
   "cell_type": "markdown",
   "metadata": {
    "id": "YokK5I7b_smK"
   },
   "source": [
    "### Variational Autoencoder\n",
    "- VAE\n",
    "- 정확한 값을 구할수 없기 때문에 근사적 추론(통계)\n",
    "- PRML(Pattern Recognition and Machine Learning by Bishop)책 참고\n",
    "  - 확률기반 DNN"
   ]
  },
  {
   "cell_type": "markdown",
   "metadata": {
    "id": "UHaAH1AkMYkG"
   },
   "source": [
    "---\n",
    "## Generative Adversarial Network\n",
    "> - knowledge distillation(2015)\n",
    "      - teacher model -> studnet model에세 '필요한 지식만 전달'해서 간단한 모델에서도 복잡한 모델만큼 특정 태스크에 성능 좋음(조력자의 도움)\n",
    "\n",
    "- 두개의 모델이 적대적인 경쟁 통해 학습\n",
    "- self-suprevised learning  핵심 \n",
    "    - Generator (위조범): 진짜처럼 보이는 이미지를 생성하도록 학습\n",
    "    - Discriminator (위조 감별사): 가짜의 이미지로부터 진짜를 구별하게 되는 것을 학습\n",
    "        - 학습과정에서는 피드백을 주어 점차 능력을 키움\n",
    "    - Discriminator 가짜 이미지에서 진짜 이미지를 더이상 구별하지 못하게 될때, 평형상태에 도달\n",
    "\n",
    "> - Yann lecun이 최고의 알고리즘이라고 극찬\n",
    "- GAN 학습이 잘 안되어서(underfitting) learning technique 중요\n",
    "\n",
    " > 튜토리얼 참고: NIPS2016 Tutorial: Fenerative Adversarial Networks by Ian Goodfellow(2017)\n",
    "- cherry pricking 만연 (선별적으로 좋은 결과만 선택)\n",
    "  - 과학은 재현가능성이 보장되야 한다.\n",
    "  - 데이터에 따라서 결과가 조금 다르게( data dependent)나와서 100% 재현 불가능한것에 대해서 악용 \n",
    "    - 예. 통계 p값  "
   ]
  },
  {
   "cell_type": "code",
   "execution_count": 1,
   "metadata": {
    "id": "8lSKjTqq_qwT"
   },
   "outputs": [],
   "source": [
    "import tensorflow as tf"
   ]
  },
  {
   "cell_type": "markdown",
   "metadata": {
    "id": "M2V5HrnDMy8N"
   },
   "source": [
    "### Generator\n",
    "- 가짜 mnist 데이터 만듦"
   ]
  },
  {
   "cell_type": "code",
   "execution_count": 2,
   "metadata": {
    "id": "EE16UtTDMXf1"
   },
   "outputs": [],
   "source": [
    "generator= tf.keras.models.Sequential([ \n",
    "          tf.keras.layers.Dense(256, input_shape=(200,),activation='relu'),\n",
    "                    tf.keras.layers.Dense(512,activation='relu'),\n",
    "                    tf.keras.layers.Dense(784,activation='relu')\n",
    "])"
   ]
  },
  {
   "cell_type": "markdown",
   "metadata": {
    "id": "gMYMj37wdWlo"
   },
   "source": [
    "### Discriminator\n",
    "- 가짜 데이터 구분"
   ]
  },
  {
   "cell_type": "code",
   "execution_count": 3,
   "metadata": {
    "id": "KqGlG6ByNAOW"
   },
   "outputs": [],
   "source": [
    "#학습해서 능력 키움  ; 학습을 못하게 할수 있음\n",
    "discriminator=tf.keras.models.Sequential([\n",
    "                      tf.keras.layers.Dense(1024,input_shape=(784,),activation='relu'),\n",
    "                      tf.keras.layers.Dense(512,activation='relu'),\n",
    "                      tf.keras.layers.Dense(256,activation='relu'),\n",
    "\n",
    "\n",
    "                      tf.keras.layers.Dense(1,activation='sigmoid') # 진짜/가짜 판별\n",
    "])"
   ]
  },
  {
   "cell_type": "code",
   "execution_count": 4,
   "metadata": {
    "id": "op7m398eOiOa"
   },
   "outputs": [],
   "source": [
    "#각자의 학습 전략\n",
    "generator.compile(loss='binary_crossentropy',optimizer='adam')\n",
    "discriminator.compile(loss='binary_crossentropy',optimizer='adam')"
   ]
  },
  {
   "cell_type": "markdown",
   "metadata": {
    "id": "q0LEVZv-dlpg"
   },
   "source": [
    "동시에 학습하는것이 아닌 generator 먼저 학습 시킴"
   ]
  },
  {
   "cell_type": "code",
   "execution_count": 5,
   "metadata": {
    "id": "4NWCK8C2NueO"
   },
   "outputs": [],
   "source": [
    "discriminator.trainable=False #학습 못하게함"
   ]
  },
  {
   "cell_type": "markdown",
   "metadata": {
    "id": "6KO4kDa5OE7Y"
   },
   "source": [
    "전체 하나의 모델"
   ]
  },
  {
   "cell_type": "code",
   "execution_count": 6,
   "metadata": {
    "id": "OYm18vhnOHgj"
   },
   "outputs": [],
   "source": [
    "gan_input=tf.keras.Input(shape=(200,))\n",
    "\n",
    "x= generator(gan_input)\n",
    "gan_output= discriminator(x)"
   ]
  },
  {
   "cell_type": "code",
   "execution_count": 7,
   "metadata": {
    "id": "Rai-7M6_PD3d"
   },
   "outputs": [],
   "source": [
    "gan=tf.keras.models.Model(gan_input, gan_output)\n",
    "gan.compile(loss='binary_crossentropy',optimizer='adam')"
   ]
  },
  {
   "cell_type": "code",
   "execution_count": 8,
   "metadata": {
    "colab": {
     "base_uri": "https://localhost:8080/"
    },
    "id": "_BicTLhZPJ9L",
    "outputId": "428b4fcb-e88e-4d37-8090-9d23274c980a"
   },
   "outputs": [
    {
     "name": "stdout",
     "output_type": "stream",
     "text": [
      "Model: \"functional_1\"\n",
      "_________________________________________________________________\n",
      "Layer (type)                 Output Shape              Param #   \n",
      "=================================================================\n",
      "input_1 (InputLayer)         [(None, 200)]             0         \n",
      "_________________________________________________________________\n",
      "sequential (Sequential)      (None, 784)               585232    \n",
      "_________________________________________________________________\n",
      "sequential_1 (Sequential)    (None, 1)                 1460225   \n",
      "=================================================================\n",
      "Total params: 2,045,457\n",
      "Trainable params: 585,232\n",
      "Non-trainable params: 1,460,225\n",
      "_________________________________________________________________\n"
     ]
    }
   ],
   "source": [
    "gan.summary()  # generator : 200개 -> 784  discriminator 784 -> 1\n",
    "#모델을 붙여놔서 학습은 안되었지만..어떻게 학습?"
   ]
  },
  {
   "cell_type": "markdown",
   "metadata": {},
   "source": [
    "generator가 이미지를 생성하면 discriminator가 판별하는 구조"
   ]
  },
  {
   "cell_type": "code",
   "execution_count": 9,
   "metadata": {
    "colab": {
     "base_uri": "https://localhost:8080/"
    },
    "id": "nkBWA4h2Ps6r",
    "outputId": "ff0b55ad-b216-4f67-c196-4f33b3c6757e"
   },
   "outputs": [
    {
     "data": {
      "text/plain": [
       "100"
      ]
     },
     "execution_count": 9,
     "metadata": {
      "tags": []
     },
     "output_type": "execute_result"
    }
   ],
   "source": [
    "#200개 데이터 100개\n",
    "import numpy as np\n",
    "sample=np.random.random((100,200))   #이미지에 랜덤값에 노이즈 정도를 곱해서 더해서 추가\n",
    "len(np.random.random((100,200)) ) #(100,200)"
   ]
  },
  {
   "cell_type": "code",
   "execution_count": 10,
   "metadata": {
    "colab": {
     "base_uri": "https://localhost:8080/"
    },
    "id": "RpGWthE9Qlir",
    "outputId": "e64de432-d910-4e80-8445-dac847710d04"
   },
   "outputs": [
    {
     "data": {
      "text/plain": [
       "<tf.Tensor: shape=(100, 784), dtype=float32, numpy=\n",
       "array([[0.19602136, 0.07444058, 0.00328773, ..., 0.        , 0.01667894,\n",
       "        0.5499405 ],\n",
       "       [0.18263571, 0.21462663, 0.06947816, ..., 0.        , 0.        ,\n",
       "        0.37902325],\n",
       "       [0.3005703 , 0.10124515, 0.        , ..., 0.        , 0.        ,\n",
       "        0.46303713],\n",
       "       ...,\n",
       "       [0.34227738, 0.23153813, 0.        , ..., 0.        , 0.        ,\n",
       "        0.26616067],\n",
       "       [0.08900665, 0.05610302, 0.0955317 , ..., 0.        , 0.        ,\n",
       "        0.40654424],\n",
       "       [0.06500205, 0.05898733, 0.09235311, ..., 0.        , 0.00266417,\n",
       "        0.29676336]], dtype=float32)>"
      ]
     },
     "execution_count": 10,
     "metadata": {
      "tags": []
     },
     "output_type": "execute_result"
    }
   ],
   "source": [
    "generator( sample )   #generator가 생성한 이미지"
   ]
  },
  {
   "cell_type": "markdown",
   "metadata": {},
   "source": [
    "학습하지 않은 generator가 만든 데이터"
   ]
  },
  {
   "cell_type": "code",
   "execution_count": 14,
   "metadata": {
    "colab": {
     "base_uri": "https://localhost:8080/",
     "height": 281
    },
    "id": "DKV37B71Q7Tf",
    "outputId": "832be519-e52e-434c-c780-6aaecfd7912e"
   },
   "outputs": [
    {
     "data": {
      "text/plain": [
       "<matplotlib.image.AxesImage at 0x7f0d10163470>"
      ]
     },
     "execution_count": 14,
     "metadata": {
      "tags": []
     },
     "output_type": "execute_result"
    },
    {
     "data": {
      "image/png": "[encoded data removed]",
      "text/plain": [
       "<Figure size 432x288 with 1 Axes>"
      ]
     },
     "metadata": {
      "needs_background": "light",
      "tags": []
     },
     "output_type": "display_data"
    }
   ],
   "source": [
    "import matplotlib.pyplot as plt\n",
    "plt.imshow( generator(sample)[0].numpy().reshape(28,28)) #generator가  생성한 데이터"
   ]
  },
  {
   "cell_type": "markdown",
   "metadata": {},
   "source": [
    "학습하지 않은 discriminator의 판단\n",
    "- 거의 random guess"
   ]
  },
  {
   "cell_type": "code",
   "execution_count": 11,
   "metadata": {
    "colab": {
     "base_uri": "https://localhost:8080/"
    },
    "id": "2AFSZ617Ra8T",
    "outputId": "17a5ae01-a275-48b8-fb1e-dca56c24e207"
   },
   "outputs": [
    {
     "data": {
      "text/plain": [
       "<tf.Tensor: shape=(100, 1), dtype=float32, numpy=\n",
       "array([[0.5331197 ],\n",
       "       [0.5369414 ],\n",
       "       [0.51737475],\n",
       "       [0.5307577 ],\n",
       "       [0.53197074],\n",
       "       [0.5323575 ],\n",
       "       [0.52467495],\n",
       "       [0.5311158 ],\n",
       "       [0.5312212 ],\n",
       "       [0.5290405 ],\n",
       "       [0.5382603 ],\n",
       "       [0.52679473],\n",
       "       [0.53357255],\n",
       "       [0.5170715 ],\n",
       "       [0.5310257 ],\n",
       "       [0.52923   ],\n",
       "       [0.5365701 ],\n",
       "       [0.53369695],\n",
       "       [0.52259076],\n",
       "       [0.5298503 ],\n",
       "       [0.5340077 ],\n",
       "       [0.5376623 ],\n",
       "       [0.53151876],\n",
       "       [0.51186025],\n",
       "       [0.53185993],\n",
       "       [0.53281283],\n",
       "       [0.53812915],\n",
       "       [0.52174073],\n",
       "       [0.5367978 ],\n",
       "       [0.53379107],\n",
       "       [0.531592  ],\n",
       "       [0.5257361 ],\n",
       "       [0.52388436],\n",
       "       [0.5334397 ],\n",
       "       [0.52334064],\n",
       "       [0.53154355],\n",
       "       [0.52972776],\n",
       "       [0.5320899 ],\n",
       "       [0.52760106],\n",
       "       [0.51265943],\n",
       "       [0.5363257 ],\n",
       "       [0.5188002 ],\n",
       "       [0.5425057 ],\n",
       "       [0.53049624],\n",
       "       [0.5283562 ],\n",
       "       [0.5401977 ],\n",
       "       [0.5210712 ],\n",
       "       [0.50862825],\n",
       "       [0.51294446],\n",
       "       [0.5263728 ],\n",
       "       [0.5411346 ],\n",
       "       [0.52235645],\n",
       "       [0.51717645],\n",
       "       [0.53357995],\n",
       "       [0.5295197 ],\n",
       "       [0.5186277 ],\n",
       "       [0.53735566],\n",
       "       [0.5132814 ],\n",
       "       [0.5236129 ],\n",
       "       [0.5256001 ],\n",
       "       [0.52412087],\n",
       "       [0.54173267],\n",
       "       [0.5257278 ],\n",
       "       [0.5396009 ],\n",
       "       [0.51541984],\n",
       "       [0.52601534],\n",
       "       [0.5240308 ],\n",
       "       [0.51764345],\n",
       "       [0.5388037 ],\n",
       "       [0.5254744 ],\n",
       "       [0.519656  ],\n",
       "       [0.54178816],\n",
       "       [0.5420842 ],\n",
       "       [0.5259296 ],\n",
       "       [0.5375149 ],\n",
       "       [0.5263262 ],\n",
       "       [0.52230537],\n",
       "       [0.5293242 ],\n",
       "       [0.5175285 ],\n",
       "       [0.530096  ],\n",
       "       [0.53370386],\n",
       "       [0.52064705],\n",
       "       [0.5292642 ],\n",
       "       [0.53273344],\n",
       "       [0.525369  ],\n",
       "       [0.53330886],\n",
       "       [0.5415814 ],\n",
       "       [0.52320886],\n",
       "       [0.5167969 ],\n",
       "       [0.52523834],\n",
       "       [0.5249832 ],\n",
       "       [0.52661   ],\n",
       "       [0.53574216],\n",
       "       [0.5327396 ],\n",
       "       [0.52723444],\n",
       "       [0.53429145],\n",
       "       [0.52136755],\n",
       "       [0.5427441 ],\n",
       "       [0.514078  ],\n",
       "       [0.54407126]], dtype=float32)>"
      ]
     },
     "execution_count": 11,
     "metadata": {
      "tags": []
     },
     "output_type": "execute_result"
    }
   ],
   "source": [
    "discriminator( generator(sample)) # discriminator가 위의 데이터 판별, 모두 .5 안팎"
   ]
  },
  {
   "cell_type": "markdown",
   "metadata": {
    "id": "8s7P3XZSWRQb"
   },
   "source": [
    "### 데이터 \n",
    "mnist 가짜 데이터 만들어서  mnist 데이터와 가짜데이터 답을 주고 학습하라고 해서 학습능력\n",
    "- (실제 데이터, 가짜 데이터) 구성된 학습 데이터와 라벨 만듦 \n"
   ]
  },
  {
   "cell_type": "code",
   "execution_count": 24,
   "metadata": {
    "id": "twJmtSrLTBP4"
   },
   "outputs": [],
   "source": [
    "#진짜 데이터\n",
    "(x_train,y_train),(x_test,y_test)= tf.keras.datasets.mnist.load_data() #0-9까지 데이터를 만듦.\n",
    "x_train = x_train.reshape(-1,28*28)"
   ]
  },
  {
   "cell_type": "code",
   "execution_count": 13,
   "metadata": {
    "colab": {
     "base_uri": "https://localhost:8080/"
    },
    "id": "tFhXDd4TTd5N",
    "outputId": "24599b83-ef40-4dbc-a776-5a4c7a9e1b26"
   },
   "outputs": [
    {
     "data": {
      "text/plain": [
       "(60000, 28, 28)"
      ]
     },
     "execution_count": 13,
     "metadata": {
      "tags": []
     },
     "output_type": "execute_result"
    }
   ],
   "source": [
    "x_train.shape "
   ]
  },
  {
   "cell_type": "markdown",
   "metadata": {
    "id": "vO2c-0xYhFeI"
   },
   "source": [
    "- fit 은 전체 학습 시키므로 bach size만큼 학습 시켜야함\n",
    "- batch size 크기에따라 메모리, 학습 속도 trade-off"
   ]
  },
  {
   "cell_type": "code",
   "execution_count": 25,
   "metadata": {
    "colab": {
     "base_uri": "https://localhost:8080/"
    },
    "id": "DJu7mOmyTl70",
    "outputId": "4df36a5e-8eb4-4db2-b92c-c9acce33a07f"
   },
   "outputs": [
    {
     "data": {
      "text/plain": [
       "468"
      ]
     },
     "execution_count": 25,
     "metadata": {
      "tags": []
     },
     "output_type": "execute_result"
    }
   ],
   "source": [
    "#batch size만큼 학습 시킬 예정\n",
    "batchsize=x_train.shape[0]//128\n",
    "batchsize"
   ]
  },
  {
   "cell_type": "markdown",
   "metadata": {},
   "source": [
    "가짜데이터 생성"
   ]
  },
  {
   "cell_type": "code",
   "execution_count": 26,
   "metadata": {
    "colab": {
     "base_uri": "https://localhost:8080/"
    },
    "id": "oXal2bxwTsH7",
    "outputId": "365764d0-823b-43c7-8378-66f22737d2ac"
   },
   "outputs": [
    {
     "data": {
      "text/plain": [
       "(468, 200)"
      ]
     },
     "execution_count": 26,
     "metadata": {
      "tags": []
     },
     "output_type": "execute_result"
    }
   ],
   "source": [
    "fake=np.random.normal(0,1,size=[batchsize,200]) # normal dist ( 0,1) 200개짜리 batch size만큼 있음\n",
    "fake.shape"
   ]
  },
  {
   "cell_type": "code",
   "execution_count": 27,
   "metadata": {
    "colab": {
     "base_uri": "https://localhost:8080/"
    },
    "id": "KR0Mc8EGTRsZ",
    "outputId": "5afcd4af-9839-4829-8fe6-0f166503d054"
   },
   "outputs": [
    {
     "data": {
      "text/plain": [
       "array([[0, 0, 0, ..., 0, 0, 0],\n",
       "       [0, 0, 0, ..., 0, 0, 0],\n",
       "       [0, 0, 0, ..., 0, 0, 0],\n",
       "       ...,\n",
       "       [0, 0, 0, ..., 0, 0, 0],\n",
       "       [0, 0, 0, ..., 0, 0, 0],\n",
       "       [0, 0, 0, ..., 0, 0, 0]], dtype=uint8)"
      ]
     },
     "execution_count": 27,
     "metadata": {
      "tags": []
     },
     "output_type": "execute_result"
    }
   ],
   "source": [
    "image_batch=x_train[np.random.randint(0, x_train.shape[0],size=batchsize)] #랜덤하게\n",
    "image_batch#(468, 28, 28) "
   ]
  },
  {
   "cell_type": "code",
   "execution_count": 28,
   "metadata": {
    "colab": {
     "base_uri": "https://localhost:8080/"
    },
    "id": "vo3hMdAzsiV6",
    "outputId": "24a88c7a-2f91-4eb8-efdb-dad86774918e"
   },
   "outputs": [
    {
     "data": {
      "text/plain": [
       "(468, 784)"
      ]
     },
     "execution_count": 28,
     "metadata": {
      "tags": []
     },
     "output_type": "execute_result"
    }
   ],
   "source": [
    "image_batch.shape"
   ]
  },
  {
   "cell_type": "code",
   "execution_count": 29,
   "metadata": {
    "colab": {
     "base_uri": "https://localhost:8080/"
    },
    "id": "AEORRGGRUOdR",
    "outputId": "60e3773b-d95c-4a8a-975b-5a872a953e21"
   },
   "outputs": [
    {
     "data": {
      "text/plain": [
       "TensorShape([468, 784])"
      ]
     },
     "execution_count": 29,
     "metadata": {
      "tags": []
     },
     "output_type": "execute_result"
    }
   ],
   "source": [
    "generator(fake).shape #generator가 가짜이미지 만듦"
   ]
  },
  {
   "cell_type": "markdown",
   "metadata": {
    "id": "H7rcbudSe4Ri"
   },
   "source": [
    "- 진짜 데이터와 가짜 데이터로 하나의 데이터 셋 구성"
   ]
  },
  {
   "cell_type": "code",
   "execution_count": 30,
   "metadata": {
    "id": "D1trnb41Ube3"
   },
   "outputs": [],
   "source": [
    "x=np.concatenate([image_batch,generator(fake)]) #(936, 784)"
   ]
  },
  {
   "cell_type": "code",
   "execution_count": 24,
   "metadata": {
    "colab": {
     "base_uri": "https://localhost:8080/"
    },
    "id": "qeIFph4MU7q9",
    "outputId": "553b1a75-bed3-41cc-a14c-cd445ef87655"
   },
   "outputs": [
    {
     "data": {
      "text/plain": [
       "array([[[0, 0, 0, ..., 0, 0, 0],\n",
       "        [0, 0, 0, ..., 0, 0, 0],\n",
       "        [0, 0, 0, ..., 0, 0, 0],\n",
       "        ...,\n",
       "        [0, 0, 0, ..., 0, 0, 0],\n",
       "        [0, 0, 0, ..., 0, 0, 0],\n",
       "        [0, 0, 0, ..., 0, 0, 0]],\n",
       "\n",
       "       [[0, 0, 0, ..., 0, 0, 0],\n",
       "        [0, 0, 0, ..., 0, 0, 0],\n",
       "        [0, 0, 0, ..., 0, 0, 0],\n",
       "        ...,\n",
       "        [0, 0, 0, ..., 0, 0, 0],\n",
       "        [0, 0, 0, ..., 0, 0, 0],\n",
       "        [0, 0, 0, ..., 0, 0, 0]],\n",
       "\n",
       "       [[0, 0, 0, ..., 0, 0, 0],\n",
       "        [0, 0, 0, ..., 0, 0, 0],\n",
       "        [0, 0, 0, ..., 0, 0, 0],\n",
       "        ...,\n",
       "        [0, 0, 0, ..., 0, 0, 0],\n",
       "        [0, 0, 0, ..., 0, 0, 0],\n",
       "        [0, 0, 0, ..., 0, 0, 0]],\n",
       "\n",
       "       ...,\n",
       "\n",
       "       [[0, 0, 0, ..., 0, 0, 0],\n",
       "        [0, 0, 0, ..., 0, 0, 0],\n",
       "        [0, 0, 0, ..., 0, 0, 0],\n",
       "        ...,\n",
       "        [0, 0, 0, ..., 0, 0, 0],\n",
       "        [0, 0, 0, ..., 0, 0, 0],\n",
       "        [0, 0, 0, ..., 0, 0, 0]],\n",
       "\n",
       "       [[0, 0, 0, ..., 0, 0, 0],\n",
       "        [0, 0, 0, ..., 0, 0, 0],\n",
       "        [0, 0, 0, ..., 0, 0, 0],\n",
       "        ...,\n",
       "        [0, 0, 0, ..., 0, 0, 0],\n",
       "        [0, 0, 0, ..., 0, 0, 0],\n",
       "        [0, 0, 0, ..., 0, 0, 0]],\n",
       "\n",
       "       [[0, 0, 0, ..., 0, 0, 0],\n",
       "        [0, 0, 0, ..., 0, 0, 0],\n",
       "        [0, 0, 0, ..., 0, 0, 0],\n",
       "        ...,\n",
       "        [0, 0, 0, ..., 0, 0, 0],\n",
       "        [0, 0, 0, ..., 0, 0, 0],\n",
       "        [0, 0, 0, ..., 0, 0, 0]]], dtype=uint8)"
      ]
     },
     "execution_count": 24,
     "metadata": {
      "tags": []
     },
     "output_type": "execute_result"
    }
   ],
   "source": [
    "image_batch"
   ]
  },
  {
   "cell_type": "code",
   "execution_count": 31,
   "metadata": {
    "id": "ZM_cRWI9Vh05"
   },
   "outputs": [],
   "source": [
    "y=np.zeros(2*batchsize) # 진짜1, 가짜 0"
   ]
  },
  {
   "cell_type": "code",
   "execution_count": 32,
   "metadata": {
    "id": "kQfa1p2hViEo"
   },
   "outputs": [],
   "source": [
    "y[:batchsize]=0.9 #image_batch 90%로 진짜 generator(fake) 0%(가짜)"
   ]
  },
  {
   "cell_type": "code",
   "execution_count": 38,
   "metadata": {
    "id": "recxglsNXyNt"
   },
   "outputs": [],
   "source": [
    "y_gen =np.ones(batchsize) # 학습 목표 = 1:진짜 데이터라고 가정해야함"
   ]
  },
  {
   "cell_type": "markdown",
   "metadata": {
    "id": "5iKVdUHVgHhZ"
   },
   "source": [
    "### 학습\n",
    "- 두 모델을 번갈아 가면서 학습해야해서 trainable 조절해서 학습\n",
    "    - discriminator:((mnist, generated mnist), (0.9,0))\n",
    "    - generator (random data,1)\n",
    "- 너무 간단한 모델이라서 학습이 잘 안됨.\n",
    "#### train_on_batch\n",
    "- fit은 전체를 하기때문에 batch size 만큼 학습 "
   ]
  },
  {
   "cell_type": "code",
   "execution_count": 33,
   "metadata": {
    "id": "Bf2OQ2GWVEPt"
   },
   "outputs": [],
   "source": [
    "discriminator.trainable=True #학습 시키도록 함"
   ]
  },
  {
   "cell_type": "code",
   "execution_count": 34,
   "metadata": {
    "colab": {
     "base_uri": "https://localhost:8080/"
    },
    "id": "qNcNYztfVTwx",
    "outputId": "92b8d815-7822-4d99-c12b-044434c5724c"
   },
   "outputs": [
    {
     "data": {
      "text/plain": [
       "3.2187411785125732"
      ]
     },
     "execution_count": 34,
     "metadata": {
      "tags": []
     },
     "output_type": "execute_result"
    }
   ],
   "source": [
    "discriminator.train_on_batch(x,y)"
   ]
  },
  {
   "cell_type": "code",
   "execution_count": 35,
   "metadata": {
    "colab": {
     "base_uri": "https://localhost:8080/"
    },
    "id": "UHXp07LIW-ox",
    "outputId": "d9af89f8-3d2a-473f-f2c1-278c6ca92ee8"
   },
   "outputs": [
    {
     "data": {
      "text/plain": [
       "82.5296859741211"
      ]
     },
     "execution_count": 35,
     "metadata": {
      "tags": []
     },
     "output_type": "execute_result"
    }
   ],
   "source": [
    "discriminator.train_on_batch(x,y)"
   ]
  },
  {
   "cell_type": "code",
   "execution_count": 36,
   "metadata": {
    "id": "FjU7R6ddXFyF"
   },
   "outputs": [],
   "source": [
    "discriminator.trainable=False #학습 안 시킴"
   ]
  },
  {
   "cell_type": "code",
   "execution_count": 37,
   "metadata": {
    "id": "97YWxq_KXcYL"
   },
   "outputs": [],
   "source": [
    "generator.trainable=True"
   ]
  },
  {
   "cell_type": "code",
   "execution_count": null,
   "metadata": {},
   "outputs": [],
   "source": [
    "generator.train_on_batch(fake,y_gen)"
   ]
  },
  {
   "cell_type": "code",
   "execution_count": null,
   "metadata": {
    "colab": {
     "base_uri": "https://localhost:8080/",
     "height": 282
    },
    "id": "uA2N7L7XYH_L",
    "outputId": "481c2c69-94c4-4e20-db12-966d9a1c839c"
   },
   "outputs": [
    {
     "data": {
      "text/plain": [
       "<matplotlib.image.AxesImage at 0x7fb918c479b0>"
      ]
     },
     "execution_count": 155,
     "metadata": {
      "tags": []
     },
     "output_type": "execute_result"
    },
    {
     "data": {
      "image/png": "[encoded data removed]",
      "text/plain": [
       "<Figure size 432x288 with 1 Axes>"
      ]
     },
     "metadata": {
      "needs_background": "light",
      "tags": []
     },
     "output_type": "display_data"
    }
   ],
   "source": [
    "plt.imshow(generator(fake)[10].numpy().reshape(28,28))# 결과..."
   ]
  },
  {
   "cell_type": "markdown",
   "metadata": {
    "id": "-Ur_bHBMZSeD"
   },
   "source": [
    "결과를 보면 학습이 잘 되지 않음.\n",
    "- relu(rectified) (0,x) 비선형성 간단해서 속도도 빠름\n",
    "- GAN학습이 안되는 것은 0에 가까운 값은 0 가까이 전달됨\n",
    "     - LeackyReLU  (x/100 ,x) 좀 더 잘됨\n",
    "     - Batch Normalization"
   ]
  }
 ],
 "metadata": {
  "accelerator": "GPU",
  "colab": {
   "collapsed_sections": [],
   "name": "201028_12기_고급시각반",
   "provenance": []
  },
  "kernelspec": {
   "display_name": "Python 3",
   "language": "python",
   "name": "python3"
  },
  "language_info": {
   "codemirror_mode": {
    "name": "ipython",
    "version": 3
   },
   "file_extension": ".py",
   "mimetype": "text/x-python",
   "name": "python",
   "nbconvert_exporter": "python",
   "pygments_lexer": "ipython3",
   "version": "3.7.6"
  }
 },
 "nbformat": 4,
 "nbformat_minor": 1
}
